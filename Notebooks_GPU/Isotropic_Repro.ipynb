{
 "cells": [
  {
   "cell_type": "markdown",
   "metadata": {},
   "source": [
    "# Adaptive PDE discretizations on cartesian grids \n",
    "## Volume : GPU accelerated methods\n",
    "## Part : Reproducibility\n",
    "## Chapter : Isotropic metrics"
   ]
  },
  {
   "cell_type": "markdown",
   "metadata": {},
   "source": [
    "In this notebook, we solve isotropic eikonal equations on the CPU and the GPU, and  and check that they produce consistent results.\n",
    "\n",
    "We obtain substantial accelerations on sufficiently large instances, a few million points, by a factor up to $100$. Note that smaller test cases yield less acceleration, due to the difficulty to extract parallelism.\n",
    "\n",
    "**bit-consistency** By design, the CPU and GPU codes produce the same values, up to machine precision, which is approximately $10^{-8}$ for floating point types, in a variety on situations. \n",
    "This is due to the fact that the two implementations, although widely different, solve the same discretized problem. We try to ensure this behavior and check it as much as possible, as it is a strong indicator of the validity of the implementations. We refer to it as bit-consistency, aknowledging that it is a bit abusive, since the algorithm outputs, while extremely close, are still far from a bit-for-bit match."
   ]
  },
  {
   "cell_type": "markdown",
   "metadata": {},
   "source": [
    "[**Summary**](Summary.ipynb) of volume GPU accelerated methods, this series of notebooks.\n",
    "\n",
    "[**Main summary**](../Summary.ipynb) of the Adaptive Grid Discretizations \n",
    "\tbook of notebooks, including the other volumes.\n",
    "\n",
    "# Table of contents\n",
    "  * [1 Three dimensions](#1-Three-dimensions)\n",
    "  * [2 Two dimensions](#2-Two-dimensions)\n",
    "  * [3. GPU specific options](#3.-GPU-specific-options)\n",
    "    * [3.1 Multiprecision](#3.1-Multiprecision)\n",
    "\n",
    "\n",
    "\n",
    "**Acknowledgement.** The experiments presented in these notebooks are part of ongoing research.\n",
    "The author would like to acknowledge fruitful informal discussions with L. Gayraud on the \n",
    "topic of GPU coding and optimization.\n",
    "\n",
    "Copyright Jean-Marie Mirebeau, University Paris-Sud, CNRS, University Paris-Saclay\n"
   ]
  },
  {
   "cell_type": "markdown",
   "metadata": {},
   "source": [
    "## 0. Importing the required libraries"
   ]
  },
  {
   "cell_type": "code",
   "execution_count": 4,
   "metadata": {},
   "outputs": [],
   "source": [
    "import sys; sys.path.insert(0,\"..\")\n",
    "#from Miscellaneous import TocTools; print(TocTools.displayTOC('Isotropic_Repro','GPU'))"
   ]
  },
  {
   "cell_type": "code",
   "execution_count": 28,
   "metadata": {},
   "outputs": [],
   "source": [
    "import cupy as cp\n",
    "import numpy as np\n",
    "#import time\n",
    "import itertools\n",
    "from matplotlib import pyplot as plt\n",
    "np.set_printoptions(edgeitems=30, linewidth=100000, formatter=dict(float=lambda x: \"%5.3g\" % x))"
   ]
  },
  {
   "cell_type": "code",
   "execution_count": 6,
   "metadata": {},
   "outputs": [],
   "source": [
    "from agd import HFMUtils\n",
    "#from agd.HFMUtils import HFM_CUDA\n",
    "from agd import AutomaticDifferentiation as ad\n",
    "import agd.AutomaticDifferentiation.cupy_generic as cugen\n",
    "norm_infinity = ad.Optimization.norm_infinity\n",
    "from agd.HFMUtils import RunGPU,RunSmart"
   ]
  },
  {
   "cell_type": "code",
   "execution_count": 7,
   "metadata": {},
   "outputs": [],
   "source": [
    "def ReloadPackages():\n",
    "    from Miscellaneous.rreload import rreload\n",
    "    global HFMUtils,ad,cugen,RunGPU\n",
    "    HFMUtils,ad,cugen,RunGPU = rreload([HFMUtils,ad,cugen,RunGPU],\"../..\")    "
   ]
  },
  {
   "cell_type": "markdown",
   "metadata": {},
   "source": [
    "### 0.1 Decorations for gpu usage\n",
    "\n",
    "Dealing with GPU data induces minor inconveniences:\n",
    "- GPU arrays are not implicitly convertible to CPU arrays, and this is a good thing since memory transfers from GPU memory to CPU memory, and conversely, are not cheap. The `get` method must be applied to a cupy array to retrieve a numpy array.\n",
    "- GPU computing is much more efficient with 32 bit data types, integer and floating point, than with their 64bit counterparts. However a number of numpy and cupy basic functions default to 64bit output, which will be inconsistent with the rest of computations.\n",
    "\n",
    "We provide decorators to perform these memory transfers and data type conversions automatically. They are only applied to specific modules and functions, below, to avoid excessive implicit operations. "
   ]
  },
  {
   "cell_type": "code",
   "execution_count": 41,
   "metadata": {},
   "outputs": [],
   "source": [
    "cp = cugen.decorate_module_functions(cp,cugen.set_output_dtype32) # Use float32 and int32 types in place of float64 and int64\n",
    "plt = cugen.decorate_module_functions(plt,cugen.cupy_get_args)\n",
    "RunSmart = cugen.cupy_get_args(RunSmart,dtype64=True,iterables=(dict,))"
   ]
  },
  {
   "cell_type": "code",
   "execution_count": 9,
   "metadata": {},
   "outputs": [
    {
     "name": "stdout",
     "output_type": "stream",
     "text": [
      "Casting output of function linspace from float64 to float32\n"
     ]
    },
    {
     "data": {
      "image/png": "[encoded data removed]",
      "text/plain": [
       "<Figure size 432x288 with 1 Axes>"
      ]
     },
     "metadata": {
      "needs_background": "light"
     },
     "output_type": "display_data"
    }
   ],
   "source": [
    "X = cp.linspace(0,np.pi) # 64 bit output is converted to 32 bit by decorator\n",
    "plt.plot(X,np.sin(X));   # GPU array is transfered to CPU memory."
   ]
  },
  {
   "cell_type": "markdown",
   "metadata": {},
   "source": [
    "Note that, by default, these decorators do not apply to the system module, by only to a shallow copy."
   ]
  },
  {
   "cell_type": "code",
   "execution_count": 10,
   "metadata": {},
   "outputs": [
    {
     "data": {
      "text/plain": [
       "dtype('float64')"
      ]
     },
     "execution_count": 10,
     "metadata": {},
     "output_type": "execute_result"
    }
   ],
   "source": [
    "sys.modules['cupy'].linspace(0,np.pi).dtype"
   ]
  },
  {
   "cell_type": "markdown",
   "metadata": {},
   "source": [
    "### 0.2 Utility functions"
   ]
  },
  {
   "cell_type": "code",
   "execution_count": 11,
   "metadata": {},
   "outputs": [],
   "source": [
    "def RunCompare(gpuIn,check=True):\n",
    "    gpuOut = RunGPU(gpuIn)\n",
    "    if gpuIn.get('verbosity',1): print(\"---\")\n",
    "    cpuOut = RunSmart(gpuIn)\n",
    "    print(\"Max |gpuValues-cpuValues| : \", norm_infinity(gpuOut['values'].get()-cpuOut['values']))\n",
    "    cpuTime = cpuOut['FMCPUTime']; gpuTime = gpuOut['solverGPUTime'];\n",
    "    print(f\"Solver time (s). GPU : {gpuTime}, CPU : {cpuTime}. Device acceleration : {cpuTime/gpuTime}\")\n",
    "    assert not check or cp.allclose(gpuOut['values'],cpuOut['values'],atol=1e-6)\n",
    "    return gpuOut,cpuOut"
   ]
  },
  {
   "cell_type": "markdown",
   "metadata": {},
   "source": [
    "## 1 Three dimensions"
   ]
  },
  {
   "cell_type": "markdown",
   "metadata": {},
   "source": [
    "GPU acceleration shines particularly well in three dimensions, where we get accelerations by a factor $100$ on common sizes."
   ]
  },
  {
   "cell_type": "code",
   "execution_count": 99,
   "metadata": {},
   "outputs": [
    {
     "name": "stdout",
     "output_type": "stream",
     "text": [
      "Casting output of function array from float64 to float32\n"
     ]
    }
   ],
   "source": [
    "n = 200 # Typical instance size\n",
    "hfmIn = HFMUtils.dictIn({\n",
    "    'model':'Isotropic3',\n",
    "    'seeds':[[0.,0.5,1.]],\n",
    "    'exportValues':1,\n",
    "    'cost':cp.array(1.),\n",
    "})\n",
    "hfmIn.SetRect([[0,1],[0,1],[0,1]],dimx=n+1,sampleBoundary=True)"
   ]
  },
  {
   "cell_type": "code",
   "execution_count": 18,
   "metadata": {},
   "outputs": [
    {
     "name": "stdout",
     "output_type": "stream",
     "text": [
      "Setting the kernel traits.\n",
      "Prepating the domain data (shape,metric,...)\n",
      "Preparing the values array (setting seeds,...)\n",
      "Preparing the GPU kernel\n",
      "Setup and run the eikonal solver\n",
      "GPU solve took 0.10149693489074707 seconds, in 127 iterations.\n",
      "Post-Processing\n",
      "---\n",
      "Field verbosity defaults to 1\n",
      "Field order defaults to 1\n",
      "Field seedRadius defaults to 0\n",
      "Fast marching solver completed in 11.334 s.\n",
      "Max |gpuValues-cpuValues| :  7.748603827462119e-07\n",
      "Solver time (s). GPU : 0.10149693489074707, CPU : 11.334. Device acceleration : 111.66839680626907\n"
     ]
    }
   ],
   "source": [
    "RunCompare(hfmIn);"
   ]
  },
  {
   "cell_type": "markdown",
   "metadata": {},
   "source": [
    "We check bit-consistency for a few variants of the scheme."
   ]
  },
  {
   "cell_type": "code",
   "execution_count": 100,
   "metadata": {},
   "outputs": [],
   "source": [
    "n=50; hfmInS = hfmIn.copy() # Define the a smaller instance\n",
    "hfmInS.SetRect([[0,1],[0,1],[0,1]],dimx=n+1,sampleBoundary=True)\n",
    "X = hfmInS.Grid()\n",
    "hfmInS.update({\n",
    "    'cost': np.prod(np.sin(2*np.pi*X)) + 1.1, # Non-constant cost\n",
    "    'verbosity':0,\n",
    "})"
   ]
  },
  {
   "cell_type": "code",
   "execution_count": 98,
   "metadata": {},
   "outputs": [],
   "source": [
    "factor_variants = [\n",
    "    {}, # Default\n",
    "    {\"seedRadius\":2}, # Spread seed information\n",
    "    {\"factorizationRadius\":10,'factorizationPointChoice':'Key'} # Source factorization\n",
    "]\n",
    "multip_variants = [\n",
    "    {'multiprecision':False}, # Default\n",
    "    {'multiprecision':True}, # Reduces roundoff errors\n",
    "]\n",
    "order_variants = [\n",
    "    {'order':1}, # Default\n",
    "    {'order':2}, # More accurate on smooth instances\n",
    "]"
   ]
  },
  {
   "cell_type": "code",
   "execution_count": 53,
   "metadata": {},
   "outputs": [
    {
     "name": "stdout",
     "output_type": "stream",
     "text": [
      "\n",
      "Reproducibility with options : {}, {'multiprecision': False}\n",
      "Max |gpuValues-cpuValues| :  4.64916229736545e-07\n",
      "Solver time (s). GPU : 0.01947784423828125, CPU : 0.104. Device acceleration : 5.339399921660791\n",
      "\n",
      "Reproducibility with options : {}, {'multiprecision': True}\n",
      "Max |gpuValues-cpuValues| :  1.1071957062291915e-07\n",
      "Solver time (s). GPU : 0.015997648239135742, CPU : 0.107. Device acceleration : 6.688483107050776\n",
      "\n",
      "Reproducibility with options : {'seedRadius': 2}, {'multiprecision': False}\n",
      "Max |gpuValues-cpuValues| :  4.64916229736545e-07\n",
      "Solver time (s). GPU : 0.019005775451660156, CPU : 0.106. Device acceleration : 5.577252044758894\n",
      "\n",
      "Reproducibility with options : {'seedRadius': 2}, {'multiprecision': True}\n",
      "Max |gpuValues-cpuValues| :  1.0536437211605687e-07\n",
      "Solver time (s). GPU : 0.01949930191040039, CPU : 0.107. Device acceleration : 5.487375932311154\n",
      "\n",
      "Reproducibility with options : {'factorizationRadius': 10, 'factorizationPointChoice': 'Key'}, {'multiprecision': False}\n",
      "Max |gpuValues-cpuValues| :  4.64916229736545e-07\n",
      "Solver time (s). GPU : 0.014999866485595703, CPU : 0.107. Device acceleration : 7.1333968274152015\n",
      "\n",
      "Reproducibility with options : {'factorizationRadius': 10, 'factorizationPointChoice': 'Key'}, {'multiprecision': True}\n",
      "Max |gpuValues-cpuValues| :  1.1071957062291915e-07\n",
      "Solver time (s). GPU : 0.01899433135986328, CPU : 0.109. Device acceleration : 5.738554199929708\n"
     ]
    }
   ],
   "source": [
    "for fact,multip in itertools.product(factor_variants,multip_variants):\n",
    "    print(f\"\\nReproducibility with options : {fact}, {multip}\")\n",
    "    RunCompare({**hfmInS,**fact,**multip})"
   ]
  },
  {
   "cell_type": "markdown",
   "metadata": {},
   "source": [
    "The second order scheme implementation has some slight differences between the GPU and CPU implementation, hence *one cannot expect bit-consistency in general*. Still, it may happen sometimes, especially when the seed is in a corner."
   ]
  },
  {
   "cell_type": "code",
   "execution_count": 101,
   "metadata": {},
   "outputs": [],
   "source": [
    "hfmInS.update({\n",
    "    'seeds':[[0.0,0.,1.]],\n",
    "    'order':2,\n",
    "})"
   ]
  },
  {
   "cell_type": "code",
   "execution_count": 102,
   "metadata": {},
   "outputs": [
    {
     "name": "stdout",
     "output_type": "stream",
     "text": [
      "\n",
      "Reproducibility with options : {}, {'multiprecision': False}\n",
      "Max |gpuValues-cpuValues| :  6.33969647223509e-07\n",
      "Solver time (s). GPU : 0.022993803024291992, CPU : 0.155. Device acceleration : 6.740946673164459\n",
      "\n",
      "Reproducibility with options : {}, {'multiprecision': True}\n",
      "Max |gpuValues-cpuValues| :  1.1708051816938791e-07\n",
      "Solver time (s). GPU : 0.024487733840942383, CPU : 0.161. Device acceleration : 6.574720267941466\n",
      "\n",
      "Reproducibility with options : {'factorizationRadius': 10, 'factorizationPointChoice': 'Key'}, {'multiprecision': False}\n",
      "Max |gpuValues-cpuValues| :  6.33969647223509e-07\n",
      "Solver time (s). GPU : 0.02350139617919922, CPU : 0.153. Device acceleration : 6.51025151158544\n",
      "\n",
      "Reproducibility with options : {'factorizationRadius': 10, 'factorizationPointChoice': 'Key'}, {'multiprecision': True}\n",
      "Max |gpuValues-cpuValues| :  1.1708051816938791e-07\n",
      "Solver time (s). GPU : 0.02498459815979004, CPU : 0.161. Device acceleration : 6.443969959825561\n"
     ]
    }
   ],
   "source": [
    "for fact,multip in itertools.product((factor_variants[0],factor_variants[2]),multip_variants):\n",
    "    print(f\"\\nReproducibility with options : {fact}, {multip}\")\n",
    "    RunCompare({**hfmInS,**fact,**multip},check=False)"
   ]
  },
  {
   "cell_type": "markdown",
   "metadata": {},
   "source": [
    "## 2 Two dimensions\n",
    "\n",
    "In two dimensions, it is usually more difficult to extract parallism than in three dimensions.\n",
    "Indeed, the front propagated in the computations is expected to have approximately\n",
    "$$\n",
    "    N^{\\frac{d-1} d}\n",
    "$$\n",
    "points in dimension $d$, where $N$ denotes the total number of points in the domain. \n",
    "The front in a two dimensional computation thus has $N^{\\frac 1 2}$ points which is much fewer than $N^{\\frac 2 3}$ in three dimensions, when $N$ is large. In addition the number of points $N$ is also often fewer in two dimensional problems."
   ]
  },
  {
   "cell_type": "code",
   "execution_count": 181,
   "metadata": {},
   "outputs": [
    {
     "name": "stdout",
     "output_type": "stream",
     "text": [
      "Casting output of function array from float64 to float32\n"
     ]
    }
   ],
   "source": [
    "n=4000\n",
    "hfmIn = HFMUtils.dictIn({\n",
    "    'model':'Isotropic2',\n",
    "    'seeds':[[0.,0.5]],\n",
    "    'exportValues':1,\n",
    "    'cost':cp.array(1.),\n",
    "})\n",
    "hfmIn.SetRect([[0,1],[0,1]],dimx=n+1,sampleBoundary=True)"
   ]
  },
  {
   "cell_type": "code",
   "execution_count": 91,
   "metadata": {},
   "outputs": [
    {
     "name": "stdout",
     "output_type": "stream",
     "text": [
      "Setting the kernel traits.\n",
      "Prepating the domain data (shape,metric,...)\n",
      "Preparing the values array (setting seeds,...)\n",
      "Preparing the GPU kernel\n",
      "Setup and run the eikonal solver\n",
      "GPU solve took 0.2864964008331299 seconds, in 251 iterations.\n",
      "Post-Processing\n",
      "---\n",
      "Field verbosity defaults to 1\n",
      "Field order defaults to 1\n",
      "Field seedRadius defaults to 0\n",
      "Fast marching solver completed in 10.211 s.\n",
      "Max |gpuValues-cpuValues| :  7.016089529832126e-05\n",
      "Solver time (s). GPU : 0.2864964008331299, CPU : 10.211. Device acceleration : 35.640936396780106\n"
     ]
    }
   ],
   "source": [
    "_,cpuOut = RunCompare(hfmIn,check=False)"
   ]
  },
  {
   "cell_type": "markdown",
   "metadata": {},
   "source": [
    "Another annoyance is that the numerical error, close to $10^{-4}$, is not as good as could be expected, around $10^{-7}$ for single precision floating point types. \n",
    "A quick fix, explained in more detail below and which does have a computational cost, is to run the computation using multiprecision."
   ]
  },
  {
   "cell_type": "code",
   "execution_count": 92,
   "metadata": {},
   "outputs": [
    {
     "name": "stdout",
     "output_type": "stream",
     "text": [
      "Setting the kernel traits.\n",
      "Prepating the domain data (shape,metric,...)\n",
      "Preparing the values array (setting seeds,...)\n",
      "Preparing the GPU kernel\n",
      "Setup and run the eikonal solver\n",
      "GPU solve took 0.436981201171875 seconds, in 251 iterations.\n",
      "Post-Processing\n",
      "Max |gpuValues-cpuValues| :  1.2125012438524152e-07\n"
     ]
    }
   ],
   "source": [
    "gpuOut = RunGPU({**hfmIn,'multiprecision':True})\n",
    "print(\"Max |gpuValues-cpuValues| : \", norm_infinity(gpuOut['values'].get()-cpuOut['values']))"
   ]
  },
  {
   "cell_type": "code",
   "execution_count": 140,
   "metadata": {},
   "outputs": [],
   "source": [
    "n=200; hfmInS = hfmIn.copy() # Define a small instance for bit-consistency validation\n",
    "hfmInS.SetRect([[0,1],[0,1]],dimx=n+1,sampleBoundary=True)\n",
    "X = hfmInS.Grid()\n",
    "hfmInS.update({\n",
    "    'cost':np.prod(np.sin(2*np.pi*X)) +1.1, # Non-constant cost\n",
    "    'verbosity':0,\n",
    "})"
   ]
  },
  {
   "cell_type": "code",
   "execution_count": 97,
   "metadata": {},
   "outputs": [
    {
     "name": "stdout",
     "output_type": "stream",
     "text": [
      "\n",
      "Reproducibility with options : {}, {'multiprecision': False}\n",
      "Max |gpuValues-cpuValues| :  1.258254053060348e-06\n",
      "Solver time (s). GPU : 0.008501052856445312, CPU : 0.016. Device acceleration : 1.882119811532421\n",
      "\n",
      "Reproducibility with options : {}, {'multiprecision': True}\n",
      "Max |gpuValues-cpuValues| :  9.828872182815473e-08\n",
      "Solver time (s). GPU : 0.00999903678894043, CPU : 0.015. Device acceleration : 1.5001444955769092\n",
      "\n",
      "Reproducibility with options : {'seedRadius': 2}, {'multiprecision': False}\n",
      "Max |gpuValues-cpuValues| :  1.258254053060348e-06\n",
      "Solver time (s). GPU : 0.008496522903442383, CPU : 0.015. Device acceleration : 1.7654280663355502\n",
      "\n",
      "Reproducibility with options : {'seedRadius': 2}, {'multiprecision': True}\n",
      "Max |gpuValues-cpuValues| :  1.107493061702769e-07\n",
      "Solver time (s). GPU : 0.00999140739440918, CPU : 0.015. Device acceleration : 1.501289999284129\n",
      "\n",
      "Reproducibility with options : {'factorizationRadius': 10, 'factorizationPointChoice': 'Key'}, {'multiprecision': False}\n",
      "Max |gpuValues-cpuValues| :  1.258254053060348e-06\n",
      "Solver time (s). GPU : 0.0064961910247802734, CPU : 0.015. Device acceleration : 2.309045399493522\n",
      "\n",
      "Reproducibility with options : {'factorizationRadius': 10, 'factorizationPointChoice': 'Key'}, {'multiprecision': True}\n",
      "Max |gpuValues-cpuValues| :  9.828872182815473e-08\n",
      "Solver time (s). GPU : 0.007500410079956055, CPU : 0.015. Device acceleration : 1.9998906513239454\n"
     ]
    }
   ],
   "source": [
    "for fact,multip in itertools.product(factor_variants,multip_variants):\n",
    "    print(f\"\\nReproducibility with options : {fact}, {multip}\")\n",
    "    RunCompare({**hfmInS,**fact,**multip})"
   ]
  },
  {
   "cell_type": "markdown",
   "metadata": {},
   "source": [
    "Again, bit consistency is not expected with the second order scheme, but not excluded either."
   ]
  },
  {
   "cell_type": "code",
   "execution_count": 141,
   "metadata": {},
   "outputs": [],
   "source": [
    "hfmInS.update({\n",
    "    'seeds':[[0.0,1.]],\n",
    "    'order':2,\n",
    "})"
   ]
  },
  {
   "cell_type": "code",
   "execution_count": 111,
   "metadata": {},
   "outputs": [
    {
     "name": "stdout",
     "output_type": "stream",
     "text": [
      "\n",
      "Reproducibility with options : {}, {'multiprecision': False}\n",
      "Max |gpuValues-cpuValues| :  4.887580871582031e-06\n",
      "Solver time (s). GPU : 0.015999794006347656, CPU : 0.025. Device acceleration : 1.5625201168266079\n",
      "\n",
      "Reproducibility with options : {}, {'multiprecision': True}\n",
      "Max |gpuValues-cpuValues| :  1.147018509062292e-07\n",
      "Solver time (s). GPU : 0.016997814178466797, CPU : 0.025. Device acceleration : 1.4707773445170702\n",
      "\n",
      "Reproducibility with options : {'factorizationRadius': 10, 'factorizationPointChoice': 'Key'}, {'multiprecision': False}\n",
      "Max |gpuValues-cpuValues| :  4.887580871582031e-06\n",
      "Solver time (s). GPU : 0.012996435165405273, CPU : 0.026. Device acceleration : 2.000548586523821\n",
      "\n",
      "Reproducibility with options : {'factorizationRadius': 10, 'factorizationPointChoice': 'Key'}, {'multiprecision': True}\n",
      "Max |gpuValues-cpuValues| :  1.147018509062292e-07\n",
      "Solver time (s). GPU : 0.016505956649780273, CPU : 0.024. Device acceleration : 1.4540205399315336\n"
     ]
    }
   ],
   "source": [
    "for fact,multip in itertools.product((factor_variants[0],factor_variants[2]),multip_variants):\n",
    "    print(f\"\\nReproducibility with options : {fact}, {multip}\")\n",
    "    RunCompare({**hfmInS,**fact,**multip},check=False)"
   ]
  },
  {
   "cell_type": "markdown",
   "metadata": {},
   "source": [
    "## 3. GPU specific options\n",
    "\n"
   ]
  },
  {
   "cell_type": "markdown",
   "metadata": {},
   "source": [
    "### 3.1 Multiprecision\n",
    "\n",
    "In multi-precision mode, the front values are represented as pairs \n",
    "$$\n",
    "    u(x) = u_q(x) \\delta + u_r(x),\n",
    "$$\n",
    "where $u_q(x) \\in Z$ is an integer, $\\delta>0$ is a fixed scale, and $u_r(x) \\in [-\\delta/2,\\delta/2[$.\n",
    "\n",
    "The parameter $\\delta$ is set automatically as the largest power of two (usually a negative power) bounded by $h/10$, where $h$ is the grid scale. The choice of a power of two avoids roundoff errors.\n",
    "\n",
    "Eventually, the result is converted to floating point format. A slightly better accuracy can be obtained by using a double type in this last step."
   ]
  },
  {
   "cell_type": "code",
   "execution_count": 182,
   "metadata": {},
   "outputs": [
    {
     "name": "stdout",
     "output_type": "stream",
     "text": [
      "Setting the kernel traits.\n",
      "Prepating the domain data (shape,metric,...)\n",
      "Preparing the values array (setting seeds,...)\n",
      "Preparing the GPU kernel\n",
      "Setup and run the eikonal solver\n",
      "GPU solve took 0.4584968090057373 seconds, in 251 iterations.\n",
      "Post-Processing\n",
      "Max |gpuValues-cpuValues| :  6.194407586868067e-08\n"
     ]
    }
   ],
   "source": [
    "gpuOut = RunGPU({**hfmIn,'values_float64':True})\n",
    "print(\"Max |gpuValues-cpuValues| : \", norm_infinity(gpuOut['values'].get()-cpuOut['values']))"
   ]
  },
  {
   "cell_type": "markdown",
   "metadata": {},
   "source": [
    "### 3.2 Block shape"
   ]
  },
  {
   "cell_type": "markdown",
   "metadata": {},
   "source": [
    "The GPU implementation of the fast marching method works by grouping together blocks of grid points, which are updated simultaneously a prescribed number of times. The shape of these blocks ` shape_i`  and number of iterations `niter_i` can be modified, which may affect performance. They are collected in the `traits` input parameter, together with a number of compile time constants and typedefs for the GPU kernel."
   ]
  },
  {
   "cell_type": "code",
   "execution_count": 184,
   "metadata": {},
   "outputs": [
    {
     "data": {
      "text/plain": [
       "{'Scalar': numpy.float32,\n",
       " 'Int': numpy.int32,\n",
       " 'multiprecision_macro': 1,\n",
       " 'pruning_macro': 0,\n",
       " 'shape_i': (24, 24),\n",
       " 'niter_i': 48,\n",
       " 'strict_iter_o_macro': 1,\n",
       " 'strict_iter_i_macro': 1,\n",
       " 'ndim_macro': 2}"
      ]
     },
     "execution_count": 184,
     "metadata": {},
     "output_type": "execute_result"
    }
   ],
   "source": [
    "gpuOut['keys']['defaulted']['traits']"
   ]
  },
  {
   "cell_type": "markdown",
   "metadata": {},
   "source": [
    "### 3.3 Periodicity"
   ]
  },
  {
   "cell_type": "code",
   "execution_count": 224,
   "metadata": {},
   "outputs": [],
   "source": [
    "ReloadPackages()"
   ]
  },
  {
   "cell_type": "code",
   "execution_count": 234,
   "metadata": {},
   "outputs": [
    {
     "name": "stdout",
     "output_type": "stream",
     "text": [
      "Casting output of function array from float64 to float32\n"
     ]
    }
   ],
   "source": [
    "n=48\n",
    "hfmIn = HFMUtils.dictIn({\n",
    "    'model':'Isotropic2',\n",
    "    'seeds':[[0.2,0.4]],\n",
    "    'exportValues':1,\n",
    "    'cost':cp.array(1.),\n",
    "    'verbosity':1,\n",
    "    'periodic':(False,True)\n",
    "})\n",
    "hfmIn.SetRect([[0,1],[0,1]],dimx=n+1,sampleBoundary=True)"
   ]
  },
  {
   "cell_type": "code",
   "execution_count": 235,
   "metadata": {},
   "outputs": [
    {
     "name": "stdout",
     "output_type": "stream",
     "text": [
      "Setting the kernel traits.\n",
      "Prepating the domain data (shape,metric,...)\n",
      "Preparing the values array (setting seeds,...)\n",
      "Preparing the GPU kernel\n",
      "#define Scalar_macro\n",
      "typedef float Scalar;\n",
      "#define Int_macro\n",
      "typedef int Int;\n",
      "#define multiprecision_macro 0\n",
      "#define pruning_macro 0\n",
      "#define shape_i_macro\n",
      "const int shape_i[2] = {24,24};\n",
      "#define niter_i_macro\n",
      "const int niter_i=48;\n",
      "#define ndim_macro 2\n",
      "#define periodic_macro 1\n",
      "#define periodic_axes_macro\n",
      "const int periodic_axes[2] = {false,true};\n",
      "const Int Int_MAX = 2147483647;\n",
      "const int size_i = 576;\n",
      "const int log2_size_i = 10;\n",
      "\n",
      "Setup and run the eikonal solver\n",
      "GPU solve took 0.005472421646118164 seconds, in 7 iterations.\n",
      "Post-Processing\n"
     ]
    }
   ],
   "source": [
    "gpuOut = RunGPU(hfmIn)"
   ]
  },
  {
   "cell_type": "code",
   "execution_count": 236,
   "metadata": {},
   "outputs": [
    {
     "data": {
      "image/png": "[encoded data removed]",
      "text/plain": [
       "<Figure size 432x288 with 1 Axes>"
      ]
     },
     "metadata": {
      "needs_background": "light"
     },
     "output_type": "display_data"
    }
   ],
   "source": [
    "X = hfmIn.Grid()\n",
    "plt.title('Periodic solution'); plt.axis('equal')\n",
    "plt.contour(*X,gpuOut['values']); "
   ]
  },
  {
   "cell_type": "markdown",
   "metadata": {},
   "source": [
    "### 3.4 Help and parameter defaults"
   ]
  },
  {
   "cell_type": "markdown",
   "metadata": {},
   "source": [
    "The HFM algorithm sets a number of parameters to (hopefull relevant) default values. \n",
    "Setting a verbosity equal or larger than two will display some of the associated values."
   ]
  },
  {
   "cell_type": "code",
   "execution_count": 174,
   "metadata": {},
   "outputs": [
    {
     "name": "stdout",
     "output_type": "stream",
     "text": [
      "Casting output of function array from float64 to float32\n"
     ]
    }
   ],
   "source": [
    "n=200\n",
    "hfmIn = HFMUtils.dictIn({\n",
    "    'model':'Isotropic2',\n",
    "    'seeds':[[0.,0.5]],\n",
    "    'exportValues':1,\n",
    "    'cost':cp.array(1.),\n",
    "    'verbosity':2\n",
    "})\n",
    "hfmIn.SetRect([[0,1],[0,1]],dimx=n+1,sampleBoundary=True)"
   ]
  },
  {
   "cell_type": "code",
   "execution_count": 175,
   "metadata": {
    "scrolled": false
   },
   "outputs": [
    {
     "name": "stdout",
     "output_type": "stream",
     "text": [
      "key help defaults to []\n",
      "Setting the kernel traits.\n",
      "(Scalar,Int,shape_i,niter_i,...)\n",
      "key traits defaults to {'Scalar': <class 'numpy.float32'>, 'Int': <class 'numpy.int32'>, 'multiprecision_macro': 0, 'pruning_macro': 0, 'shape_i': (24, 24), 'niter_i': 48}\n",
      "key multiprecision defaults to False\n",
      "key values_float64 defaults to False\n",
      "key factoringRadius defaults to 0\n",
      "key order defaults to 1\n",
      "Prepating the domain data (shape,metric,...)\n",
      "key periodic defaults to (False, False)\n",
      "key overwriteMetric defaults to False\n",
      "Preparing the values array (setting seeds,...)\n",
      "key seedValues defaults to [    0]\n",
      "key seedRadius defaults to 0.0\n",
      "Preparing the GPU kernel\n",
      "key dummy_kernel defaults to False\n",
      "key cuoptions defaults to ()\n",
      "key tol defaults to 1e-08\n",
      "Setup and run the eikonal solver\n",
      "key solver defaults to AGSI\n",
      "key nitermax_o defaults to 2000\n",
      "GPU solve took 0.010999917984008789 seconds, in 14 iterations.\n",
      "Post-Processing\n"
     ]
    }
   ],
   "source": [
    "gpuOut = RunGPU(hfmIn)"
   ]
  },
  {
   "cell_type": "markdown",
   "metadata": {},
   "source": [
    "The defaulted keys and values are also presented in the output."
   ]
  },
  {
   "cell_type": "code",
   "execution_count": 152,
   "metadata": {},
   "outputs": [
    {
     "data": {
      "text/plain": [
       "[('verbosity', 1),\n",
       " ('help', []),\n",
       " ('traits', ()),\n",
       " ('multiprecision', False),\n",
       " ('values_float64', False),\n",
       " ('factoringRadius', 0),\n",
       " ('order', 1),\n",
       " ('periodic', (False, False)),\n",
       " ('drift', None),\n",
       " ('speed', None),\n",
       " ('overwriteMetric', False),\n",
       " ('seedValues', array([    0], dtype=float32)),\n",
       " ('seedRadius', 0.0),\n",
       " ('dummy_kernel', False),\n",
       " ('cuoptions', ()),\n",
       " ('tol', 1e-08),\n",
       " ('solver', 'AGSI'),\n",
       " ('nitermax_o', 2000)]"
      ]
     },
     "execution_count": 152,
     "metadata": {},
     "output_type": "execute_result"
    }
   ],
   "source": [
    "gpuOut['keys']['defaulted']"
   ]
  },
  {
   "cell_type": "markdown",
   "metadata": {},
   "source": [
    "A succint help on the role of each key can be displayed."
   ]
  },
  {
   "cell_type": "code",
   "execution_count": 164,
   "metadata": {},
   "outputs": [],
   "source": [
    "hfmIn['help'] = [key for key,_ in gpuOut['keys']['defaulted']] # Display help on these keys\n",
    "hfmIn['verbosity']=1"
   ]
  },
  {
   "cell_type": "code",
   "execution_count": 165,
   "metadata": {},
   "outputs": [
    {
     "name": "stdout",
     "output_type": "stream",
     "text": [
      "---- Help for key help ----\n",
      "List of keys for which to display help\n",
      "default value : []\n",
      "-----------------------------\n",
      "Setting the kernel traits.\n",
      "---- Help for key traits ----\n",
      "Optional trait parameters passed to kernel\n",
      "default value : ()\n",
      "-----------------------------\n",
      "---- Help for key multiprecision ----\n",
      "Use multiprecision arithmetic, to improve accuracy\n",
      "default value : False\n",
      "-----------------------------\n",
      "Sorry : no help for key values_float64\n",
      "---- Help for key factoringRadius ----\n",
      "Use source factorization, to improve accuracy\n",
      "default value : 0\n",
      "-----------------------------\n",
      "---- Help for key order ----\n",
      "Use second order scheme to improve accuracy\n",
      "default value : 1\n",
      "-----------------------------\n",
      "Prepating the domain data (shape,metric,...)\n",
      "---- Help for key periodic ----\n",
      "Apply periodic boundary conditions on some axes\n",
      "default value : (False, False)\n",
      "-----------------------------\n",
      "---- Help for key drift ----\n",
      "Drift introduced in the eikonal equation, becoming F(grad u - drift)=1\n",
      "default value : None\n",
      "-----------------------------\n",
      "---- Help for key speed ----\n",
      "Speed function for the minimal paths. speed = 1/cost.\n",
      "default value : None\n",
      "-----------------------------\n",
      "---- Help for key overwriteMetric ----\n",
      "Allow overwriting the metric or dualMetric\n",
      "default value : False\n",
      "-----------------------------\n",
      "Preparing the values array (setting seeds,...)\n",
      "---- Help for key seedValues ----\n",
      "Initial value for the front propagation\n",
      "default value : [    0]\n",
      "-----------------------------\n",
      "---- Help for key seedRadius ----\n",
      "Spread the seeds over a radius given in pixels, so as to improve accuracy.\n",
      "default value : 0.0\n",
      "-----------------------------\n",
      "Preparing the GPU kernel\n",
      "Sorry : no help for key dummy_kernel\n",
      "---- Help for key cuoptions ----\n",
      "Options passed via cupy.RawKernel to the cuda compiler\n",
      "default value : ()\n",
      "-----------------------------\n",
      "---- Help for key tol ----\n",
      "Convergence tolerance for the fixed point solver\n",
      "default value : 1e-08\n",
      "-----------------------------\n",
      "Setup and run the eikonal solver\n",
      "---- Help for key solver ----\n",
      "Choice of fixed point solver\n",
      "default value : AGSI\n",
      "-----------------------------\n",
      "---- Help for key nitermax_o ----\n",
      "Maximum number of iterations of the solver\n",
      "default value : 2000\n",
      "-----------------------------\n",
      "GPU solve took 0.010486602783203125 seconds, in 14 iterations.\n",
      "Post-Processing\n"
     ]
    }
   ],
   "source": [
    "gpuOut = RunGPU(hfmIn)"
   ]
  },
  {
   "cell_type": "code",
   "execution_count": null,
   "metadata": {},
   "outputs": [],
   "source": []
  }
 ],
 "metadata": {
  "kernelspec": {
   "display_name": "Python 3",
   "language": "python",
   "name": "python3"
  },
  "language_info": {
   "codemirror_mode": {
    "name": "ipython",
    "version": 3
   },
   "file_extension": ".py",
   "mimetype": "text/x-python",
   "name": "python",
   "nbconvert_exporter": "python",
   "pygments_lexer": "ipython3",
   "version": "3.7.6"
  }
 },
 "nbformat": 4,
 "nbformat_minor": 4
}
