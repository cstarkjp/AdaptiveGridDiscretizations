{
 "cells": [
  {
   "cell_type": "markdown",
   "metadata": {},
   "source": [
    "# Adaptive PDE discretizations on cartesian grids \n",
    "## Volume : GPU accelerated methods\n",
    "## Part : Reproducibility\n",
    "## Chapter : Isotropic metrics"
   ]
  },
  {
   "cell_type": "markdown",
   "metadata": {},
   "source": [
    "In this notebook, we solve isotropic eikonal equations on the CPU and the GPU, and  and check that they produce consistent results.\n",
    "\n",
    "We obtain substantial accelerations on sufficiently large instances, a few million points, by a factor up to $100$. Note that smaller test cases yield less acceleration, due to the difficulty to extract parallelism."
   ]
  },
  {
   "cell_type": "markdown",
   "metadata": {},
   "source": [
    "## 0. Importing the required libraries"
   ]
  },
  {
   "cell_type": "code",
   "execution_count": 1,
   "metadata": {},
   "outputs": [
    {
     "name": "stdout",
     "output_type": "stream",
     "text": [
      "Error : ### 3 Multiprecision does not follow ## 2 Two dimensions, see Isotropic_Repro\n",
      "[**Summary**](Summary.ipynb) of volume GPU accelerated methods, this series of notebooks.\n",
      "\n",
      "[**Main summary**](../Summary.ipynb) of the Adaptive Grid Discretizations \n",
      "\tbook of notebooks, including the other volumes.\n",
      "\n",
      "# Table of contents\n",
      "  * [1 Three dimensions](#1-Three-dimensions)\n",
      "  * [2 Two dimensions](#2-Two-dimensions)\n",
      "    * [3 Multiprecision](#3-Multiprecision)\n",
      "\n",
      "\n",
      "\n",
      "This Python&reg; notebook is intended as documentation and testing for the [HamiltonFastMarching (HFM) library](https://github.com/mirebeau/HamiltonFastMarching), which also has interfaces to the Matlab&reg; and Mathematica&reg; languages. \n",
      "More information on the HFM library in the manuscript:\n",
      "* Jean-Marie Mirebeau, Jorg Portegies, \"Hamiltonian Fast Marching: A numerical solver for anisotropic and non-holonomic eikonal PDEs\", 2019 [(link)](https://hal.archives-ouvertes.fr/hal-01778322)\n",
      "\n",
      "Copyright Jean-Marie Mirebeau, University Paris-Sud, CNRS, University Paris-Saclay\n",
      "\n"
     ]
    }
   ],
   "source": [
    "import sys; sys.path.insert(0,\"..\")\n",
    "from Miscellaneous import TocTools; print(TocTools.displayTOC('Isotropic_Repro','GPU'))"
   ]
  },
  {
   "cell_type": "code",
   "execution_count": 2,
   "metadata": {},
   "outputs": [],
   "source": [
    "import cupy as cp\n",
    "import numpy as np\n",
    "import time\n",
    "from matplotlib import pyplot as plt"
   ]
  },
  {
   "cell_type": "code",
   "execution_count": 3,
   "metadata": {},
   "outputs": [],
   "source": [
    "from agd import HFMUtils\n",
    "#from agd.HFMUtils import HFM_CUDA\n",
    "from agd import AutomaticDifferentiation as ad\n",
    "import agd.AutomaticDifferentiation.cupy_generic as cugen\n",
    "norm_infinity = ad.Optimization.norm_infinity\n",
    "from agd.HFMUtils import RunGPU,RunSmart"
   ]
  },
  {
   "cell_type": "code",
   "execution_count": 4,
   "metadata": {},
   "outputs": [],
   "source": [
    "def ReloadPackages():\n",
    "    from Miscellaneous.rreload import rreload\n",
    "    global HFMUtils,ad,cugen,RunGPU\n",
    "    HFMUtils,ad,cugen,RunGPU = rreload([HFMUtils,ad,cugen,RunGPU],\"../..\")    "
   ]
  },
  {
   "cell_type": "markdown",
   "metadata": {},
   "source": [
    "### 0.1 Decorations for gpu usage\n",
    "\n",
    "Dealing with GPU data induces minor inconveniences:\n",
    "- GPU arrays are not implicitly convertible to CPU arrays, and this is a good thing since memory transfers from GPU memory to CPU memory, and conversely, are not cheap. The `get` method must be applied to a cupy array to retrieve a numpy array.\n",
    "- GPU computing is much more efficient with 32 bit data types, integer and floating point, than with their 64bit counterparts. However a number of numpy and cupy basic functions default to 64bit output, which will be inconsistent with the rest of computations.\n",
    "\n",
    "We provide decorators to perform these memory transfers and data type conversions automatically. They are only applied to specific modules and functions, below, to avoid excessive implicit operations. "
   ]
  },
  {
   "cell_type": "code",
   "execution_count": 5,
   "metadata": {},
   "outputs": [],
   "source": [
    "cp = cugen.decorate_module_functions(cp,cugen.set_output_dtype32) # Use float32 and int32 types in place of float64 and int64\n",
    "plt = cugen.decorate_module_functions(plt,cugen.cupy_get_args)\n",
    "RunSmart = cugen.cupy_get_args(RunSmart,dtype64=True,iterables=(dict,))"
   ]
  },
  {
   "cell_type": "code",
   "execution_count": 6,
   "metadata": {},
   "outputs": [
    {
     "name": "stdout",
     "output_type": "stream",
     "text": [
      "Casting output of function linspace from float64 to float32\n"
     ]
    },
    {
     "data": {
      "image/png": "[encoded data removed]",
      "text/plain": [
       "<Figure size 432x288 with 1 Axes>"
      ]
     },
     "metadata": {
      "needs_background": "light"
     },
     "output_type": "display_data"
    }
   ],
   "source": [
    "X = cp.linspace(0,np.pi) # 64 bit output is converted to 32 bit by decorator\n",
    "plt.plot(X,np.sin(X));   # GPU array is transfered to CPU memory."
   ]
  },
  {
   "cell_type": "markdown",
   "metadata": {},
   "source": [
    "Note that, by default, these decorators do not apply to the system module, by only to a shallow copy."
   ]
  },
  {
   "cell_type": "code",
   "execution_count": 7,
   "metadata": {},
   "outputs": [
    {
     "data": {
      "text/plain": [
       "dtype('float64')"
      ]
     },
     "execution_count": 7,
     "metadata": {},
     "output_type": "execute_result"
    }
   ],
   "source": [
    "sys.modules['cupy'].linspace(0,np.pi).dtype"
   ]
  },
  {
   "cell_type": "code",
   "execution_count": 8,
   "metadata": {},
   "outputs": [],
   "source": [
    "np.set_printoptions(edgeitems=30, linewidth=100000, \n",
    "    formatter=dict(float=lambda x: \"%5.3g\" % x))"
   ]
  },
  {
   "cell_type": "markdown",
   "metadata": {},
   "source": [
    "### 0.2 Utility functions"
   ]
  },
  {
   "cell_type": "code",
   "execution_count": 9,
   "metadata": {},
   "outputs": [],
   "source": [
    "def RunCompare(gpuIn,check=True):\n",
    "    gpuOut = RunGPU(gpuIn)\n",
    "    if gpuIn.get('verbosity',1): print(\"---\")\n",
    "    cpuOut = RunSmart(gpuIn)\n",
    "    print(\"Max |gpuValues-cpuValues| : \", norm_infinity(gpuOut['values'].get()-cpuOut['values']))\n",
    "    cpuTime = cpuOut['FMCPUTime']; gpuTime = gpuOut['solverGPUTime'];\n",
    "    print(f\"Solver time (s). GPU : {gpuTime}, CPU : {cpuTime}. Device acceleration : {cpuTime/gpuTime}\")\n",
    "    assert not check or cp.allclose(gpuOut['values'],cpuOut['values'],atol=1e-6)\n",
    "    return gpuOut,cpuOut"
   ]
  },
  {
   "cell_type": "markdown",
   "metadata": {},
   "source": [
    "## 1 Three dimensions"
   ]
  },
  {
   "cell_type": "markdown",
   "metadata": {},
   "source": [
    "GPU acceleration shines particularly well in three dimensions, where we get accelerations by a factor $100$ on common sizes."
   ]
  },
  {
   "cell_type": "code",
   "execution_count": 10,
   "metadata": {},
   "outputs": [
    {
     "name": "stdout",
     "output_type": "stream",
     "text": [
      "Casting output of function array from float64 to float32\n"
     ]
    }
   ],
   "source": [
    "n = 200 # Typical instance size\n",
    "hfmIn = HFMUtils.dictIn({\n",
    "    'model':'Isotropic3',\n",
    "    'seeds':[[0.,0.5,1.]],\n",
    "    'exportValues':1,\n",
    "    'cost':cp.array(1.),\n",
    "})\n",
    "hfmIn.SetRect([[0,1],[0,1],[0,1]],dimx=n+1,sampleBoundary=True)"
   ]
  },
  {
   "cell_type": "code",
   "execution_count": 11,
   "metadata": {},
   "outputs": [
    {
     "name": "stdout",
     "output_type": "stream",
     "text": [
      "Setting the kernel traits.\n",
      "Prepating the domain data (shape,metric,...)\n",
      "Preparing the values array (setting seeds,...)\n",
      "Preparing the GPU kernel\n",
      "Setup and run the eikonal solver\n",
      "GPU solve took 0.12151789665222168 seconds, in 127 iterations.\n",
      "Post-Processing\n",
      "---\n",
      "Field verbosity defaults to 1\n",
      "Field order defaults to 1\n",
      "Field seedRadius defaults to 0\n",
      "Fast marching solver completed in 12.824 s.\n",
      "Max |gpuValues-cpuValues| :  7.748603827462119e-07\n",
      "Solver time (s). GPU : 0.12151789665222168, CPU : 12.824. Device acceleration : 105.53178053025115\n"
     ]
    }
   ],
   "source": [
    "RunCompare(hfmIn);"
   ]
  },
  {
   "cell_type": "markdown",
   "metadata": {},
   "source": [
    "By design, the CPU and GPU codes produce the same values, up to machine precision, which is approximately $10^{-8}$ for floating point types. This 'bit-for-bit' consistency is ensured as much as possible. We illustrate this behavior on small test cases."
   ]
  },
  {
   "cell_type": "code",
   "execution_count": 12,
   "metadata": {},
   "outputs": [],
   "source": [
    "n=50; hfmInS = hfmIn.copy() # Define the a smaller instance\n",
    "hfmInS.SetRect([[0,1],[0,1],[0,1]],dimx=n+1,sampleBoundary=True)\n",
    "X = hfmInS.Grid()\n",
    "hfmInS.update({\n",
    "    'cost':np.prod(np.sin(2*np.pi*X)) +1.1, # Non-constant cost\n",
    "    'verbosity':0,\n",
    "})"
   ]
  },
  {
   "cell_type": "code",
   "execution_count": 13,
   "metadata": {},
   "outputs": [],
   "source": [
    "option_variants = [\n",
    "    {},\n",
    "    {\"seedRadius\":2},\n",
    "    {\"factorizationRadius\":10,'factorizationPointChoice':'Key'}\n",
    "]"
   ]
  },
  {
   "cell_type": "code",
   "execution_count": 14,
   "metadata": {},
   "outputs": [
    {
     "name": "stdout",
     "output_type": "stream",
     "text": [
      "\n",
      "Reproducibility with options : {}\n",
      "Max |gpuValues-cpuValues| :  4.64916229736545e-07\n",
      "Solver time (s). GPU : 0.014030218124389648, CPU : 0.106. Device acceleration : 7.5551213145954765\n",
      "\n",
      "Reproducibility with options : {'seedRadius': 2}\n",
      "Max |gpuValues-cpuValues| :  4.64916229736545e-07\n",
      "Solver time (s). GPU : 0.013499021530151367, CPU : 0.102. Device acceleration : 7.556103216234832\n",
      "\n",
      "Reproducibility with options : {'factorizationRadius': 10, 'factorizationPointChoice': 'Key'}\n",
      "Max |gpuValues-cpuValues| :  4.64916229736545e-07\n",
      "Solver time (s). GPU : 0.01399993896484375, CPU : 0.102. Device acceleration : 7.285746049046321\n"
     ]
    }
   ],
   "source": [
    "for options in option_variants:\n",
    "    print(f\"\\nReproducibility with options : {options}\")\n",
    "    RunCompare({**hfmInS,**options})"
   ]
  },
  {
   "cell_type": "markdown",
   "metadata": {},
   "source": [
    "## 2 Two dimensions\n",
    "\n",
    "In two dimensions, it is usually more difficult to extract parallism than in three dimensions.\n",
    "Indeed, the front propagated in the computations is expected to have approximately\n",
    "$$\n",
    "    N^{\\frac{d-1} d}\n",
    "$$\n",
    "points in dimension $d$, where $N$ denotes the total number of points in the domain. \n",
    "The front in a two dimensional computation thus has $N^{\\frac 1 2}$ points which is much fewer than $N^{\\frac 2 3}$ in three dimensions, when $N$ is large. In addition the number of points $N$ is also often fewer in two dimensional problems."
   ]
  },
  {
   "cell_type": "code",
   "execution_count": 15,
   "metadata": {},
   "outputs": [
    {
     "name": "stdout",
     "output_type": "stream",
     "text": [
      "Casting output of function array from float64 to float32\n"
     ]
    }
   ],
   "source": [
    "n=4000\n",
    "hfmIn = HFMUtils.dictIn({\n",
    "    'model':'Isotropic2',\n",
    "    'seeds':[[0.,0.5]],\n",
    "    'exportValues':1,\n",
    "    'cost':cp.array(1.),\n",
    "})\n",
    "hfmIn.SetRect([[0,1],[0,1]],dimx=n+1,sampleBoundary=True)"
   ]
  },
  {
   "cell_type": "code",
   "execution_count": 16,
   "metadata": {},
   "outputs": [
    {
     "name": "stdout",
     "output_type": "stream",
     "text": [
      "Setting the kernel traits.\n",
      "Prepating the domain data (shape,metric,...)\n",
      "Preparing the values array (setting seeds,...)\n",
      "Preparing the GPU kernel\n",
      "Setup and run the eikonal solver\n",
      "GPU solve took 0.2584991455078125 seconds, in 251 iterations.\n",
      "Post-Processing\n",
      "---\n",
      "Field verbosity defaults to 1\n",
      "Field order defaults to 1\n",
      "Field seedRadius defaults to 0\n",
      "Fast marching solver completed in 10.424 s.\n",
      "Max |gpuValues-cpuValues| :  7.016089529832126e-05\n",
      "Solver time (s). GPU : 0.2584991455078125, CPU : 10.424. Device acceleration : 40.32508494185703\n"
     ]
    }
   ],
   "source": [
    "_,cpuOut = RunCompare(hfmIn,check=False)"
   ]
  },
  {
   "cell_type": "markdown",
   "metadata": {},
   "source": [
    "Another annoyance is that the numerical error, close to $10^{-4}$, is not as good as could be expected, around $10^{-7}$ for single precision floating point types. \n",
    "A quick fix, explained in more detail below and which does have a computational cost, is to run the computation using multiprecision."
   ]
  },
  {
   "cell_type": "code",
   "execution_count": 17,
   "metadata": {},
   "outputs": [
    {
     "name": "stdout",
     "output_type": "stream",
     "text": [
      "Setting the kernel traits.\n",
      "Prepating the domain data (shape,metric,...)\n",
      "Preparing the values array (setting seeds,...)\n",
      "Preparing the GPU kernel\n",
      "Setup and run the eikonal solver\n",
      "GPU solve took 0.42749619483947754 seconds, in 251 iterations.\n",
      "Post-Processing\n",
      "Max |gpuValues-cpuValues| :  1.2125012438524152e-07\n"
     ]
    }
   ],
   "source": [
    "gpuOut = RunGPU({**hfmIn,'multiprecision':True})\n",
    "print(\"Max |gpuValues-cpuValues| : \", norm_infinity(gpuOut['values'].get()-cpuOut['values']))"
   ]
  },
  {
   "cell_type": "code",
   "execution_count": 18,
   "metadata": {},
   "outputs": [],
   "source": [
    "n=200; hfmInS = hfmIn.copy() # Define a small instance \n",
    "hfmInS.SetRect([[0,1],[0,1]],dimx=n+1,sampleBoundary=True)\n",
    "X = hfmInS.Grid()\n",
    "hfmInS.update({\n",
    "    'cost':np.prod(np.sin(2*np.pi*X)) +1.1, # Non-constant cost\n",
    "    'verbosity':0,\n",
    "})"
   ]
  },
  {
   "cell_type": "code",
   "execution_count": 19,
   "metadata": {},
   "outputs": [
    {
     "name": "stdout",
     "output_type": "stream",
     "text": [
      "\n",
      "Reproducibility with options : {}\n",
      "Max |gpuValues-cpuValues| :  1.258254053060348e-06\n",
      "Solver time (s). GPU : 0.008535385131835938, CPU : 0.015. Device acceleration : 1.7573899441340781\n",
      "\n",
      "Reproducibility with options : {'seedRadius': 2}\n",
      "Max |gpuValues-cpuValues| :  1.258254053060348e-06\n",
      "Solver time (s). GPU : 0.005999565124511719, CPU : 0.015. Device acceleration : 2.5001812112541724\n",
      "\n",
      "Reproducibility with options : {'factorizationRadius': 10, 'factorizationPointChoice': 'Key'}\n",
      "Max |gpuValues-cpuValues| :  1.258254053060348e-06\n",
      "Solver time (s). GPU : 0.006997823715209961, CPU : 0.015. Device acceleration : 2.143523559674287\n"
     ]
    }
   ],
   "source": [
    "for options in option_variants:\n",
    "    print(f\"\\nReproducibility with options : {options}\")\n",
    "    RunCompare({**hfmInS,**options})"
   ]
  },
  {
   "cell_type": "markdown",
   "metadata": {},
   "source": [
    "### 3 Multiprecision\n",
    "\n",
    "In multi-precision mode, the front values are represented as pairs \n",
    "$$\n",
    "    u(x) = u_q(x) \\delta + u_r(x),\n",
    "$$\n",
    "where $u_q(x) \\in Z$ is an integer, $\\delta>0$ is a fixed scale, and $u_r(x) \\in [-\\delta/2,\\delta/2[$.\n",
    "\n",
    "The parameter $\\delta$ is set automatically as the largest power of two (usually a negative power) bounded by $h/10$, where $h$ is the grid scale. The choice of a power of two avoids roundoff errors.\n",
    "\n",
    "Eventually, the result is converted to floating point format. A slightly better accuracy can be obtained by using a double type in this last step."
   ]
  },
  {
   "cell_type": "code",
   "execution_count": 20,
   "metadata": {},
   "outputs": [
    {
     "name": "stdout",
     "output_type": "stream",
     "text": [
      "Setting the kernel traits.\n",
      "Prepating the domain data (shape,metric,...)\n",
      "Preparing the values array (setting seeds,...)\n",
      "Preparing the GPU kernel\n",
      "Setup and run the eikonal solver\n",
      "GPU solve took 0.3910200595855713 seconds, in 251 iterations.\n",
      "Post-Processing\n",
      "Max |gpuValues-cpuValues| :  6.194407586868067e-08\n"
     ]
    }
   ],
   "source": [
    "gpuOut = RunGPU({**hfmIn,'values_float64':True})\n",
    "print(\"Max |gpuValues-cpuValues| : \", norm_infinity(gpuOut['values'].get()-cpuOut['values']))"
   ]
  }
 ],
 "metadata": {
  "kernelspec": {
   "display_name": "Python 3",
   "language": "python",
   "name": "python3"
  },
  "language_info": {
   "codemirror_mode": {
    "name": "ipython",
    "version": 3
   },
   "file_extension": ".py",
   "mimetype": "text/x-python",
   "name": "python",
   "nbconvert_exporter": "python",
   "pygments_lexer": "ipython3",
   "version": "3.7.6"
  }
 },
 "nbformat": 4,
 "nbformat_minor": 4
}
