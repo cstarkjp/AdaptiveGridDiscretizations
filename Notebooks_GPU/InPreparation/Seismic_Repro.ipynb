{
 "cells": [
  {
   "cell_type": "markdown",
   "metadata": {},
   "source": [
    "# Adaptive PDE discretizations on cartesian grids \n",
    "## Volume : GPU accelerated methods\n",
    "## Part : Reproducibility\n",
    "## Chapter : Curvature penalized models"
   ]
  },
  {
   "cell_type": "markdown",
   "metadata": {},
   "source": [
    "In this notebook, we run some TTI models (Tilted Transversely Anisotropic), a kind of Finslerian manifold appearing in seismology, on the CPU and GPU, and check that they produce consistent results."
   ]
  },
  {
   "cell_type": "markdown",
   "metadata": {},
   "source": [
    "## 0. Importing the required libraries"
   ]
  },
  {
   "cell_type": "code",
   "execution_count": 1,
   "metadata": {},
   "outputs": [],
   "source": [
    "import sys; sys.path.insert(0,\"../..\")\n",
    "#from Miscellaneous import TocTools; print(TocTools.displayTOC('Rander_Repro','GPU'))"
   ]
  },
  {
   "cell_type": "code",
   "execution_count": 2,
   "metadata": {},
   "outputs": [],
   "source": [
    "import cupy as cp\n",
    "import numpy as np\n",
    "import itertools\n",
    "from matplotlib import pyplot as plt\n",
    "np.set_printoptions(edgeitems=30, linewidth=100000, formatter=dict(float=lambda x: \"%5.3g\" % x))"
   ]
  },
  {
   "cell_type": "code",
   "execution_count": 8,
   "metadata": {},
   "outputs": [],
   "source": [
    "from agd import HFMUtils\n",
    "from agd import AutomaticDifferentiation as ad\n",
    "from agd import Metrics\n",
    "from agd import FiniteDifferences as fd\n",
    "from agd import LinearParallel as lp\n",
    "from agd.Metrics.Seismic import Reduced\n",
    "import agd.AutomaticDifferentiation.cupy_generic as cugen\n",
    "\n",
    "norm_infinity = ad.Optimization.norm_infinity\n",
    "from Notebooks_GPU.ExportedCode.Isotropic_Repro import RunCompare"
   ]
  },
  {
   "cell_type": "code",
   "execution_count": 15,
   "metadata": {},
   "outputs": [],
   "source": [
    "def ReloadPackages():\n",
    "    from Miscellaneous.rreload import rreload\n",
    "    global HFMUtils,ad,cugen,Metrics,Reduced\n",
    "    HFMUtils,ad,cugen,Metrics,Reduced = rreload([HFMUtils,ad,cugen,Metrics,Reduced],\"../..\")    \n",
    "    HFMUtils.dictIn.RunSmart = cugen.cupy_get_args(HFMUtils.RunSmart,dtype64=True,iterables=(dict,Metrics.Base))"
   ]
  },
  {
   "cell_type": "code",
   "execution_count": 16,
   "metadata": {},
   "outputs": [],
   "source": [
    "cp = ad.functional.decorate_module_functions(cp,cugen.set_output_dtype32) # Use float32 and int32 types in place of float64 and int64\n",
    "plt = ad.functional.decorate_module_functions(plt,cugen.cupy_get_args)\n",
    "HFMUtils.dictIn.RunSmart = cugen.cupy_get_args(HFMUtils.RunSmart,dtype64=True,iterables=(dict,Metrics.Base))"
   ]
  },
  {
   "cell_type": "markdown",
   "metadata": {},
   "source": [
    "# 1. Defining a seismic norm"
   ]
  },
  {
   "cell_type": "code",
   "execution_count": 80,
   "metadata": {},
   "outputs": [],
   "source": [
    "ReloadPackages()"
   ]
  },
  {
   "cell_type": "code",
   "execution_count": 68,
   "metadata": {},
   "outputs": [
    {
     "name": "stdout",
     "output_type": "stream",
     "text": [
      "Casting output of function array from float64 to float32\n",
      "Casting output of function array from float64 to float32\n",
      "Casting output of function array from float64 to float32\n",
      "Casting output of function array from float64 to float32\n"
     ]
    }
   ],
   "source": [
    "xp=cp\n",
    "n=4\n",
    "hfmIn_Constant = HFMUtils.dictIn({\n",
    "    'model':'TTI2',\n",
    "    'arrayOrdering':'RowMajor',\n",
    "    'exportValues':1,\n",
    "    'seeds':xp.array([[0.,0.]]),\n",
    "    'factoringMethod':'Static',\n",
    "    'factoringRadius':20,\n",
    "    'seedRadius':0,\n",
    "    'order':2\n",
    "#    'tips':[[x,y] for y in HFMUtils.CenteredLinspace(-1,1,6) \n",
    "#                    for x in HFMUtils.CenteredLinspace(-1,1,6)],\n",
    "#    'exportGeodesicFlow':1,\n",
    "})\n",
    "\n",
    "hfmIn_Constant.SetRect(sides=[[-1,1],[-1,1]],dimx=n+1,sampleBoundary=True) # Define the domain\n",
    "X = hfmIn_Constant.Grid() # Horizontal and vertical axis\n",
    "\n",
    "metric = Reduced(xp.array([1.,1]),xp.array([[0.5,0.1],[0.1,-0.2]])) #Linear and quadratic part\n",
    "metric.rotate_by(xp.array(0.5))\n",
    "hfmIn_Constant['metric'] = metric"
   ]
  },
  {
   "cell_type": "code",
   "execution_count": 84,
   "metadata": {},
   "outputs": [
    {
     "name": "stdout",
     "output_type": "stream",
     "text": [
      "Casting output of function ones from float64 to float32\n",
      "in add\n"
     ]
    },
    {
     "data": {
      "text/plain": [
       "denseAD2(array([    3,     3], dtype=float32),\n",
       "array([[    1,     0],\n",
       "       [    0,     1]], dtype=float32),\n",
       "array([[[    0,     0],\n",
       "        [    0,     0]],\n",
       "\n",
       "       [[    0,     0],\n",
       "        [    0,     0]]], dtype=float32))"
      ]
     },
     "execution_count": 84,
     "metadata": {},
     "output_type": "execute_result"
    }
   ],
   "source": [
    "x=ad.Dense2.identity(constant=cp.ones(2))\n",
    "x+=2\n",
    "x"
   ]
  },
  {
   "cell_type": "code",
   "execution_count": 70,
   "metadata": {},
   "outputs": [
    {
     "name": "stdout",
     "output_type": "stream",
     "text": [
      "<class 'agd.AutomaticDifferentiation.Dense2.denseAD2_cupy'>\n",
      "in add\n",
      "<class 'cupy.core.core.ndarray'> <class 'agd.AutomaticDifferentiation.Dense2.denseAD2_cupy'> <class 'agd.AutomaticDifferentiation.Dense2.denseAD2_cupy'>\n"
     ]
    },
    {
     "data": {
      "text/plain": [
       "denseAD2(array([[  1.5, 0.787,   0.5, 0.787,   1.5],\n",
       "       [0.131, -0.469, -0.719, -0.469, 0.131],\n",
       "       [ -0.2, -0.762,    -1, -0.762,  -0.2],\n",
       "       [0.131, -0.469, -0.719, -0.469, 0.131],\n",
       "       [  1.5, 0.787,   0.5, 0.787,   1.5]], dtype=float32),\n",
       "array([[[ -4.4,  -1.6],\n",
       "        [ -4.1,  -1.1],\n",
       "        [   -4,     0],\n",
       "        [ -4.1,   1.1],\n",
       "        [ -4.4,   1.6]],\n",
       "\n",
       "       [[-1.45,  -1.3],\n",
       "        [ -1.3, -0.95],\n",
       "        [-1.25,     0],\n",
       "        [ -1.3,  0.95],\n",
       "        [-1.45,   1.3]],\n",
       "\n",
       "       [[    0,  -1.2],\n",
       "        [    0,  -0.9],\n",
       "        [    0,     0],\n",
       "        [    0,   0.9],\n",
       "        [    0,   1.2]],\n",
       "\n",
       "       [[ 1.45,  -1.3],\n",
       "        [  1.3, -0.95],\n",
       "        [ 1.25,     0],\n",
       "        [  1.3,  0.95],\n",
       "        [ 1.45,   1.3]],\n",
       "\n",
       "       [[  4.4,  -1.6],\n",
       "        [  4.1,  -1.1],\n",
       "        [    4,     0],\n",
       "        [  4.1,   1.1],\n",
       "        [  4.4,   1.6]]], dtype=float32),\n",
       "array([[[[  8.4,   0.8],\n",
       "         [  0.8,     0]],\n",
       "\n",
       "        [[  8.1,   0.4],\n",
       "         [  0.4,   1.8]],\n",
       "\n",
       "        [[    8,     0],\n",
       "         [    0,   2.4]],\n",
       "\n",
       "        [[  8.1,  -0.4],\n",
       "         [ -0.4,   1.8]],\n",
       "\n",
       "        [[  8.4,  -0.8],\n",
       "         [ -0.8,     0]]],\n",
       "\n",
       "\n",
       "       [[[  3.9,   0.4],\n",
       "         [  0.4,  -0.3]],\n",
       "\n",
       "        [[  3.6,   0.2],\n",
       "         [  0.2,   1.5]],\n",
       "\n",
       "        [[  3.5,     0],\n",
       "         [    0,   2.1]],\n",
       "\n",
       "        [[  3.6,  -0.2],\n",
       "         [ -0.2,   1.5]],\n",
       "\n",
       "        [[  3.9,  -0.4],\n",
       "         [ -0.4,  -0.3]]],\n",
       "\n",
       "\n",
       "       [[[  2.4,     0],\n",
       "         [    0,  -0.4]],\n",
       "\n",
       "        [[  2.1,     0],\n",
       "         [    0,   1.4]],\n",
       "\n",
       "        [[    2,     0],\n",
       "         [    0,     2]],\n",
       "\n",
       "        [[  2.1,     0],\n",
       "         [    0,   1.4]],\n",
       "\n",
       "        [[  2.4,     0],\n",
       "         [    0,  -0.4]]],\n",
       "\n",
       "\n",
       "       [[[  3.9,  -0.4],\n",
       "         [ -0.4,  -0.3]],\n",
       "\n",
       "        [[  3.6,  -0.2],\n",
       "         [ -0.2,   1.5]],\n",
       "\n",
       "        [[  3.5,     0],\n",
       "         [    0,   2.1]],\n",
       "\n",
       "        [[  3.6,   0.2],\n",
       "         [  0.2,   1.5]],\n",
       "\n",
       "        [[  3.9,   0.4],\n",
       "         [  0.4,  -0.3]]],\n",
       "\n",
       "\n",
       "       [[[  8.4,  -0.8],\n",
       "         [ -0.8,     0]],\n",
       "\n",
       "        [[  8.1,  -0.4],\n",
       "         [ -0.4,   1.8]],\n",
       "\n",
       "        [[    8,     0],\n",
       "         [    0,   2.4]],\n",
       "\n",
       "        [[  8.1,   0.4],\n",
       "         [  0.4,   1.8]],\n",
       "\n",
       "        [[  8.4,   0.8],\n",
       "         [  0.8,     0]]]], dtype=float32))"
      ]
     },
     "execution_count": 70,
     "metadata": {},
     "output_type": "execute_result"
    }
   ],
   "source": [
    "X_ad = ad.Dense2.identity(constant=X,shape_free=(2,))\n",
    "metric._dual_level(X_ad)"
   ]
  },
  {
   "cell_type": "code",
   "execution_count": 23,
   "metadata": {},
   "outputs": [
    {
     "ename": "TypeError",
     "evalue": "Unsupported type <class 'agd.AutomaticDifferentiation.Dense2.denseAD2'>",
     "output_type": "error",
     "traceback": [
      "\u001b[1;31m---------------------------------------------------------------------------\u001b[0m",
      "\u001b[1;31mTypeError\u001b[0m                                 Traceback (most recent call last)",
      "\u001b[1;32m<ipython-input-23-e1ee66be33f9>\u001b[0m in \u001b[0;36m<module>\u001b[1;34m\u001b[0m\n\u001b[1;32m----> 1\u001b[1;33m \u001b[0mmetric\u001b[0m\u001b[1;33m.\u001b[0m\u001b[0m_gradient\u001b[0m\u001b[1;33m(\u001b[0m\u001b[0mX\u001b[0m\u001b[1;33m)\u001b[0m\u001b[1;33m\u001b[0m\u001b[1;33m\u001b[0m\u001b[0m\n\u001b[0m",
      "\u001b[1;32m~\\Documents\\GitHub\\AdaptiveGridDiscretizations\\agd\\Metrics\\Seismic\\implicit_base.py\u001b[0m in \u001b[0;36m_gradient\u001b[1;34m(self, v)\u001b[0m\n\u001b[0;32m     67\u001b[0m                 \u001b[0mv\u001b[0m\u001b[1;33m[\u001b[0m\u001b[1;33m:\u001b[0m\u001b[1;33m,\u001b[0m\u001b[0mzeros\u001b[0m\u001b[1;33m]\u001b[0m\u001b[1;33m=\u001b[0m\u001b[0mnp\u001b[0m\u001b[1;33m.\u001b[0m\u001b[0mnan\u001b[0m\u001b[1;33m\u001b[0m\u001b[1;33m\u001b[0m\u001b[0m\n\u001b[0;32m     68\u001b[0m \t\tgrad = sequential_quadratic(v,self._dual_level,params=self._dual_params(v.shape[1:]),\n\u001b[1;32m---> 69\u001b[1;33m \t\t\tniter=self.niter_sqp,relax=self.relax_sqp)\n\u001b[0m\u001b[0;32m     70\u001b[0m                 \u001b[0mgrad\u001b[0m\u001b[1;33m[\u001b[0m\u001b[1;33m:\u001b[0m\u001b[1;33m,\u001b[0m\u001b[0mzeros\u001b[0m\u001b[1;33m]\u001b[0m\u001b[1;33m=\u001b[0m\u001b[1;36m0.\u001b[0m\u001b[1;33m\u001b[0m\u001b[1;33m\u001b[0m\u001b[0m\n\u001b[0;32m     71\u001b[0m                 \u001b[0mv\u001b[0m\u001b[1;33m[\u001b[0m\u001b[1;33m:\u001b[0m\u001b[1;33m,\u001b[0m\u001b[0mzeros\u001b[0m\u001b[1;33m]\u001b[0m\u001b[1;33m=\u001b[0m\u001b[1;36m0.\u001b[0m\u001b[1;33m\u001b[0m\u001b[1;33m\u001b[0m\u001b[0m\n",
      "\u001b[1;32m~\\Documents\\GitHub\\AdaptiveGridDiscretizations\\agd\\Metrics\\Seismic\\implicit_base.py\u001b[0m in \u001b[0;36msequential_quadratic\u001b[1;34m(v, f, niter, x, params, relax)\u001b[0m\n\u001b[0;32m    119\u001b[0m         \u001b[0mparams_noad\u001b[0m \u001b[1;33m=\u001b[0m \u001b[0mtuple\u001b[0m\u001b[1;33m(\u001b[0m\u001b[0mad\u001b[0m\u001b[1;33m.\u001b[0m\u001b[0mremove_ad\u001b[0m\u001b[1;33m(\u001b[0m\u001b[0mval\u001b[0m\u001b[1;33m)\u001b[0m \u001b[1;32mfor\u001b[0m \u001b[0mval\u001b[0m \u001b[1;32min\u001b[0m \u001b[0mparams\u001b[0m\u001b[1;33m)\u001b[0m\u001b[1;33m\u001b[0m\u001b[1;33m\u001b[0m\u001b[0m\n\u001b[0;32m    120\u001b[0m         \u001b[1;32mfor\u001b[0m \u001b[0mr\u001b[0m \u001b[1;32min\u001b[0m \u001b[0mrelax\u001b[0m \u001b[1;33m+\u001b[0m \u001b[1;33m(\u001b[0m\u001b[1;36m0.\u001b[0m\u001b[1;33m,\u001b[0m\u001b[1;33m)\u001b[0m\u001b[1;33m*\u001b[0m\u001b[0mniter\u001b[0m\u001b[1;33m:\u001b[0m\u001b[1;33m\u001b[0m\u001b[1;33m\u001b[0m\u001b[0m\n\u001b[1;32m--> 121\u001b[1;33m                 \u001b[0mf_ad\u001b[0m \u001b[1;33m=\u001b[0m \u001b[0mf\u001b[0m\u001b[1;33m(\u001b[0m\u001b[0mx_ad\u001b[0m\u001b[1;33m,\u001b[0m\u001b[0mparams_noad\u001b[0m\u001b[1;33m,\u001b[0m\u001b[0mrelax\u001b[0m\u001b[1;33m=\u001b[0m\u001b[0mr\u001b[0m\u001b[1;33m)\u001b[0m\u001b[1;33m\u001b[0m\u001b[1;33m\u001b[0m\u001b[0m\n\u001b[0m\u001b[0;32m    122\u001b[0m                 \u001b[0mx_ad\u001b[0m \u001b[1;33m=\u001b[0m \u001b[0mx_ad\u001b[0m\u001b[1;33m+\u001b[0m\u001b[0mstep\u001b[0m\u001b[1;33m(\u001b[0m\u001b[0mf_ad\u001b[0m\u001b[1;33m.\u001b[0m\u001b[0mvalue\u001b[0m\u001b[1;33m,\u001b[0m\u001b[0mf_ad\u001b[0m\u001b[1;33m.\u001b[0m\u001b[0mgradient\u001b[0m\u001b[1;33m(\u001b[0m\u001b[1;33m)\u001b[0m\u001b[1;33m,\u001b[0m\u001b[0mf_ad\u001b[0m\u001b[1;33m.\u001b[0m\u001b[0mhessian\u001b[0m\u001b[1;33m(\u001b[0m\u001b[1;33m)\u001b[0m\u001b[1;33m,\u001b[0m\u001b[0mv\u001b[0m\u001b[1;33m)\u001b[0m\u001b[1;33m\u001b[0m\u001b[1;33m\u001b[0m\u001b[0m\n\u001b[0;32m    123\u001b[0m \u001b[1;33m\u001b[0m\u001b[0m\n",
      "\u001b[1;32m~\\Documents\\GitHub\\AdaptiveGridDiscretizations\\agd\\Metrics\\Seismic\\reduced.py\u001b[0m in \u001b[0;36m_dual_level\u001b[1;34m(self, v, params, relax)\u001b[0m\n\u001b[0;32m     43\u001b[0m                 \u001b[0ml\u001b[0m\u001b[1;33m,\u001b[0m\u001b[0mq\u001b[0m\u001b[1;33m,\u001b[0m\u001b[0mc\u001b[0m \u001b[1;33m=\u001b[0m \u001b[0mparams\u001b[0m\u001b[1;33m\u001b[0m\u001b[1;33m\u001b[0m\u001b[0m\n\u001b[0;32m     44\u001b[0m                 \u001b[0mv2\u001b[0m \u001b[1;33m=\u001b[0m \u001b[0mv\u001b[0m\u001b[1;33m**\u001b[0m\u001b[1;36m2\u001b[0m\u001b[1;33m\u001b[0m\u001b[1;33m\u001b[0m\u001b[0m\n\u001b[1;32m---> 45\u001b[1;33m                 \u001b[0mresult\u001b[0m \u001b[1;33m=\u001b[0m \u001b[0mlp\u001b[0m\u001b[1;33m.\u001b[0m\u001b[0mdot_VV\u001b[0m\u001b[1;33m(\u001b[0m\u001b[0ml\u001b[0m\u001b[1;33m,\u001b[0m\u001b[0mv2\u001b[0m\u001b[1;33m)\u001b[0m \u001b[1;33m-\u001b[0m \u001b[1;36m1.\u001b[0m\u001b[1;33m\u001b[0m\u001b[1;33m\u001b[0m\u001b[0m\n\u001b[0m\u001b[0;32m     46\u001b[0m                 \u001b[1;32mif\u001b[0m \u001b[0mq\u001b[0m \u001b[1;32mis\u001b[0m \u001b[1;32mnot\u001b[0m \u001b[1;32mNone\u001b[0m\u001b[1;33m:\u001b[0m\u001b[1;33m\u001b[0m\u001b[1;33m\u001b[0m\u001b[0m\n\u001b[0;32m     47\u001b[0m                         \u001b[0mresult\u001b[0m \u001b[1;33m+=\u001b[0m \u001b[0mlp\u001b[0m\u001b[1;33m.\u001b[0m\u001b[0mdot_VAV\u001b[0m\u001b[1;33m(\u001b[0m\u001b[0mv2\u001b[0m\u001b[1;33m,\u001b[0m\u001b[0mq\u001b[0m\u001b[1;33m,\u001b[0m\u001b[0mv2\u001b[0m\u001b[1;33m)\u001b[0m\u001b[1;33m*\u001b[0m\u001b[0ms\u001b[0m\u001b[1;33m\u001b[0m\u001b[1;33m\u001b[0m\u001b[0m\n",
      "\u001b[1;32m~\\Documents\\GitHub\\AdaptiveGridDiscretizations\\agd\\LinearParallel.py\u001b[0m in \u001b[0;36mdot_VV\u001b[1;34m(v, w)\u001b[0m\n\u001b[0;32m     42\u001b[0m         \u001b[0mv\u001b[0m\u001b[1;33m=\u001b[0m\u001b[0mad\u001b[0m\u001b[1;33m.\u001b[0m\u001b[0masarray\u001b[0m\u001b[1;33m(\u001b[0m\u001b[0mv\u001b[0m\u001b[1;33m)\u001b[0m\u001b[1;33m;\u001b[0m \u001b[0mw\u001b[0m\u001b[1;33m=\u001b[0m\u001b[0mad\u001b[0m\u001b[1;33m.\u001b[0m\u001b[0masarray\u001b[0m\u001b[1;33m(\u001b[0m\u001b[0mw\u001b[0m\u001b[1;33m)\u001b[0m\u001b[1;33m\u001b[0m\u001b[1;33m\u001b[0m\u001b[0m\n\u001b[0;32m     43\u001b[0m         \u001b[1;32mif\u001b[0m \u001b[0mv\u001b[0m\u001b[1;33m.\u001b[0m\u001b[0mshape\u001b[0m\u001b[1;33m[\u001b[0m\u001b[1;36m0\u001b[0m\u001b[1;33m]\u001b[0m\u001b[1;33m!=\u001b[0m\u001b[0mw\u001b[0m\u001b[1;33m.\u001b[0m\u001b[0mshape\u001b[0m\u001b[1;33m[\u001b[0m\u001b[1;36m0\u001b[0m\u001b[1;33m]\u001b[0m\u001b[1;33m:\u001b[0m \u001b[1;32mraise\u001b[0m \u001b[0mValueError\u001b[0m\u001b[1;33m(\u001b[0m\u001b[1;34m'dot_VV : Incompatible shapes'\u001b[0m\u001b[1;33m)\u001b[0m\u001b[1;33m\u001b[0m\u001b[1;33m\u001b[0m\u001b[0m\n\u001b[1;32m---> 44\u001b[1;33m         \u001b[1;32mreturn\u001b[0m \u001b[1;33m(\u001b[0m\u001b[0mv\u001b[0m\u001b[1;33m*\u001b[0m\u001b[0mw\u001b[0m\u001b[1;33m)\u001b[0m\u001b[1;33m.\u001b[0m\u001b[0msum\u001b[0m\u001b[1;33m(\u001b[0m\u001b[1;36m0\u001b[0m\u001b[1;33m)\u001b[0m\u001b[1;33m\u001b[0m\u001b[1;33m\u001b[0m\u001b[0m\n\u001b[0m\u001b[0;32m     45\u001b[0m \u001b[1;33m\u001b[0m\u001b[0m\n\u001b[0;32m     46\u001b[0m \u001b[1;32mdef\u001b[0m \u001b[0mdot_AV\u001b[0m\u001b[1;33m(\u001b[0m\u001b[0ma\u001b[0m\u001b[1;33m,\u001b[0m\u001b[0mv\u001b[0m\u001b[1;33m)\u001b[0m\u001b[1;33m:\u001b[0m\u001b[1;33m\u001b[0m\u001b[1;33m\u001b[0m\u001b[0m\n",
      "\u001b[1;32mcupy\\core\\core.pyx\u001b[0m in \u001b[0;36mcupy.core.core.ndarray.__mul__\u001b[1;34m()\u001b[0m\n",
      "\u001b[1;32mcupy\\core\\_kernel.pyx\u001b[0m in \u001b[0;36mcupy.core._kernel.ufunc.__call__\u001b[1;34m()\u001b[0m\n",
      "\u001b[1;32mcupy\\core\\_kernel.pyx\u001b[0m in \u001b[0;36mcupy.core._kernel._preprocess_args\u001b[1;34m()\u001b[0m\n",
      "\u001b[1;31mTypeError\u001b[0m: Unsupported type <class 'agd.AutomaticDifferentiation.Dense2.denseAD2'>"
     ]
    }
   ],
   "source": [
    "metric._gradient(X)"
   ]
  },
  {
   "cell_type": "code",
   "execution_count": 18,
   "metadata": {},
   "outputs": [
    {
     "ename": "TypeError",
     "evalue": "Unsupported type <class 'agd.AutomaticDifferentiation.Dense2.denseAD2'>",
     "output_type": "error",
     "traceback": [
      "\u001b[1;31m---------------------------------------------------------------------------\u001b[0m",
      "\u001b[1;31mTypeError\u001b[0m                                 Traceback (most recent call last)",
      "\u001b[1;32m<ipython-input-18-55054facede9>\u001b[0m in \u001b[0;36m<module>\u001b[1;34m\u001b[0m\n\u001b[0;32m      1\u001b[0m \u001b[0mplt\u001b[0m\u001b[1;33m.\u001b[0m\u001b[0maxis\u001b[0m\u001b[1;33m(\u001b[0m\u001b[1;34m'equal'\u001b[0m\u001b[1;33m)\u001b[0m\u001b[1;33m\u001b[0m\u001b[1;33m\u001b[0m\u001b[0m\n\u001b[1;32m----> 2\u001b[1;33m \u001b[0mplt\u001b[0m\u001b[1;33m.\u001b[0m\u001b[0mcontour\u001b[0m\u001b[1;33m(\u001b[0m\u001b[1;33m*\u001b[0m\u001b[0mX\u001b[0m\u001b[1;33m,\u001b[0m\u001b[0mmetric\u001b[0m\u001b[1;33m.\u001b[0m\u001b[0mnorm\u001b[0m\u001b[1;33m(\u001b[0m\u001b[0mX\u001b[0m\u001b[1;33m)\u001b[0m\u001b[1;33m)\u001b[0m\u001b[1;33m\u001b[0m\u001b[1;33m\u001b[0m\u001b[0m\n\u001b[0m",
      "\u001b[1;32m~\\Documents\\GitHub\\AdaptiveGridDiscretizations\\agd\\Metrics\\Seismic\\implicit_base.py\u001b[0m in \u001b[0;36mnorm\u001b[1;34m(self, v)\u001b[0m\n\u001b[0;32m     23\u001b[0m         \u001b[1;32mdef\u001b[0m \u001b[0mnorm\u001b[0m\u001b[1;33m(\u001b[0m\u001b[0mself\u001b[0m\u001b[1;33m,\u001b[0m\u001b[0mv\u001b[0m\u001b[1;33m)\u001b[0m\u001b[1;33m:\u001b[0m\u001b[1;33m\u001b[0m\u001b[1;33m\u001b[0m\u001b[0m\n\u001b[0;32m     24\u001b[0m                 \u001b[0mv\u001b[0m\u001b[1;33m=\u001b[0m\u001b[0mad\u001b[0m\u001b[1;33m.\u001b[0m\u001b[0masarray\u001b[0m\u001b[1;33m(\u001b[0m\u001b[0mv\u001b[0m\u001b[1;33m)\u001b[0m\u001b[1;33m\u001b[0m\u001b[1;33m\u001b[0m\u001b[0m\n\u001b[1;32m---> 25\u001b[1;33m                 \u001b[1;32mreturn\u001b[0m \u001b[0mlp\u001b[0m\u001b[1;33m.\u001b[0m\u001b[0mdot_VV\u001b[0m\u001b[1;33m(\u001b[0m\u001b[0mv\u001b[0m\u001b[1;33m,\u001b[0m\u001b[0mself\u001b[0m\u001b[1;33m.\u001b[0m\u001b[0mgradient\u001b[0m\u001b[1;33m(\u001b[0m\u001b[0mv\u001b[0m\u001b[1;33m)\u001b[0m\u001b[1;33m)\u001b[0m\u001b[1;33m\u001b[0m\u001b[1;33m\u001b[0m\u001b[0m\n\u001b[0m\u001b[0;32m     26\u001b[0m \u001b[1;33m\u001b[0m\u001b[0m\n\u001b[0;32m     27\u001b[0m         \u001b[1;32mdef\u001b[0m \u001b[0mgradient\u001b[0m\u001b[1;33m(\u001b[0m\u001b[0mself\u001b[0m\u001b[1;33m,\u001b[0m\u001b[0mv\u001b[0m\u001b[1;33m)\u001b[0m\u001b[1;33m:\u001b[0m\u001b[1;33m\u001b[0m\u001b[1;33m\u001b[0m\u001b[0m\n",
      "\u001b[1;32m~\\Documents\\GitHub\\AdaptiveGridDiscretizations\\agd\\Metrics\\Seismic\\implicit_base.py\u001b[0m in \u001b[0;36mgradient\u001b[1;34m(self, v)\u001b[0m\n\u001b[0;32m     32\u001b[0m                 \u001b[1;32melse\u001b[0m\u001b[1;33m:\u001b[0m\u001b[1;33m\u001b[0m\u001b[1;33m\u001b[0m\u001b[0m\n\u001b[0;32m     33\u001b[0m                         \u001b[0mv\u001b[0m\u001b[1;33m,\u001b[0m\u001b[0ma\u001b[0m \u001b[1;33m=\u001b[0m \u001b[0mfd\u001b[0m\u001b[1;33m.\u001b[0m\u001b[0mcommon_field\u001b[0m\u001b[1;33m(\u001b[0m\u001b[1;33m(\u001b[0m\u001b[0mv\u001b[0m\u001b[1;33m,\u001b[0m\u001b[0ma\u001b[0m\u001b[1;33m)\u001b[0m\u001b[1;33m,\u001b[0m\u001b[1;33m(\u001b[0m\u001b[1;36m1\u001b[0m\u001b[1;33m,\u001b[0m\u001b[1;36m2\u001b[0m\u001b[1;33m)\u001b[0m\u001b[1;33m)\u001b[0m\u001b[1;33m\u001b[0m\u001b[1;33m\u001b[0m\u001b[0m\n\u001b[1;32m---> 34\u001b[1;33m                         \u001b[1;32mreturn\u001b[0m \u001b[0mlp\u001b[0m\u001b[1;33m.\u001b[0m\u001b[0mdot_AV\u001b[0m\u001b[1;33m(\u001b[0m\u001b[0mlp\u001b[0m\u001b[1;33m.\u001b[0m\u001b[0mtranspose\u001b[0m\u001b[1;33m(\u001b[0m\u001b[0ma\u001b[0m\u001b[1;33m)\u001b[0m\u001b[1;33m,\u001b[0m\u001b[0mself\u001b[0m\u001b[1;33m.\u001b[0m\u001b[0m_gradient\u001b[0m\u001b[1;33m(\u001b[0m\u001b[0mlp\u001b[0m\u001b[1;33m.\u001b[0m\u001b[0mdot_AV\u001b[0m\u001b[1;33m(\u001b[0m\u001b[0ma\u001b[0m\u001b[1;33m,\u001b[0m\u001b[0mv\u001b[0m\u001b[1;33m)\u001b[0m\u001b[1;33m)\u001b[0m\u001b[1;33m)\u001b[0m\u001b[1;33m\u001b[0m\u001b[1;33m\u001b[0m\u001b[0m\n\u001b[0m\u001b[0;32m     35\u001b[0m \u001b[1;33m\u001b[0m\u001b[0m\n\u001b[0;32m     36\u001b[0m         \u001b[1;32mdef\u001b[0m \u001b[0minv_transform\u001b[0m\u001b[1;33m(\u001b[0m\u001b[0mself\u001b[0m\u001b[1;33m,\u001b[0m\u001b[0ma\u001b[0m\u001b[1;33m)\u001b[0m\u001b[1;33m:\u001b[0m\u001b[1;33m\u001b[0m\u001b[1;33m\u001b[0m\u001b[0m\n",
      "\u001b[1;32m~\\Documents\\GitHub\\AdaptiveGridDiscretizations\\agd\\Metrics\\Seismic\\implicit_base.py\u001b[0m in \u001b[0;36m_gradient\u001b[1;34m(self, v)\u001b[0m\n\u001b[0;32m     67\u001b[0m                 \u001b[0mv\u001b[0m\u001b[1;33m[\u001b[0m\u001b[1;33m:\u001b[0m\u001b[1;33m,\u001b[0m\u001b[0mzeros\u001b[0m\u001b[1;33m]\u001b[0m\u001b[1;33m=\u001b[0m\u001b[0mnp\u001b[0m\u001b[1;33m.\u001b[0m\u001b[0mnan\u001b[0m\u001b[1;33m\u001b[0m\u001b[1;33m\u001b[0m\u001b[0m\n\u001b[0;32m     68\u001b[0m \t\tgrad = sequential_quadratic(v,self._dual_level,params=self._dual_params(v.shape[1:]),\n\u001b[1;32m---> 69\u001b[1;33m \t\t\tniter=self.niter_sqp,relax=self.relax_sqp)\n\u001b[0m\u001b[0;32m     70\u001b[0m                 \u001b[0mgrad\u001b[0m\u001b[1;33m[\u001b[0m\u001b[1;33m:\u001b[0m\u001b[1;33m,\u001b[0m\u001b[0mzeros\u001b[0m\u001b[1;33m]\u001b[0m\u001b[1;33m=\u001b[0m\u001b[1;36m0.\u001b[0m\u001b[1;33m\u001b[0m\u001b[1;33m\u001b[0m\u001b[0m\n\u001b[0;32m     71\u001b[0m                 \u001b[0mv\u001b[0m\u001b[1;33m[\u001b[0m\u001b[1;33m:\u001b[0m\u001b[1;33m,\u001b[0m\u001b[0mzeros\u001b[0m\u001b[1;33m]\u001b[0m\u001b[1;33m=\u001b[0m\u001b[1;36m0.\u001b[0m\u001b[1;33m\u001b[0m\u001b[1;33m\u001b[0m\u001b[0m\n",
      "\u001b[1;32m~\\Documents\\GitHub\\AdaptiveGridDiscretizations\\agd\\Metrics\\Seismic\\implicit_base.py\u001b[0m in \u001b[0;36msequential_quadratic\u001b[1;34m(v, f, niter, x, params, relax)\u001b[0m\n\u001b[0;32m    119\u001b[0m         \u001b[0mparams_noad\u001b[0m \u001b[1;33m=\u001b[0m \u001b[0mtuple\u001b[0m\u001b[1;33m(\u001b[0m\u001b[0mad\u001b[0m\u001b[1;33m.\u001b[0m\u001b[0mremove_ad\u001b[0m\u001b[1;33m(\u001b[0m\u001b[0mval\u001b[0m\u001b[1;33m)\u001b[0m \u001b[1;32mfor\u001b[0m \u001b[0mval\u001b[0m \u001b[1;32min\u001b[0m \u001b[0mparams\u001b[0m\u001b[1;33m)\u001b[0m\u001b[1;33m\u001b[0m\u001b[1;33m\u001b[0m\u001b[0m\n\u001b[0;32m    120\u001b[0m         \u001b[1;32mfor\u001b[0m \u001b[0mr\u001b[0m \u001b[1;32min\u001b[0m \u001b[0mrelax\u001b[0m \u001b[1;33m+\u001b[0m \u001b[1;33m(\u001b[0m\u001b[1;36m0.\u001b[0m\u001b[1;33m,\u001b[0m\u001b[1;33m)\u001b[0m\u001b[1;33m*\u001b[0m\u001b[0mniter\u001b[0m\u001b[1;33m:\u001b[0m\u001b[1;33m\u001b[0m\u001b[1;33m\u001b[0m\u001b[0m\n\u001b[1;32m--> 121\u001b[1;33m                 \u001b[0mf_ad\u001b[0m \u001b[1;33m=\u001b[0m \u001b[0mf\u001b[0m\u001b[1;33m(\u001b[0m\u001b[0mx_ad\u001b[0m\u001b[1;33m,\u001b[0m\u001b[0mparams_noad\u001b[0m\u001b[1;33m,\u001b[0m\u001b[0mrelax\u001b[0m\u001b[1;33m=\u001b[0m\u001b[0mr\u001b[0m\u001b[1;33m)\u001b[0m\u001b[1;33m\u001b[0m\u001b[1;33m\u001b[0m\u001b[0m\n\u001b[0m\u001b[0;32m    122\u001b[0m                 \u001b[0mx_ad\u001b[0m \u001b[1;33m=\u001b[0m \u001b[0mx_ad\u001b[0m\u001b[1;33m+\u001b[0m\u001b[0mstep\u001b[0m\u001b[1;33m(\u001b[0m\u001b[0mf_ad\u001b[0m\u001b[1;33m.\u001b[0m\u001b[0mvalue\u001b[0m\u001b[1;33m,\u001b[0m\u001b[0mf_ad\u001b[0m\u001b[1;33m.\u001b[0m\u001b[0mgradient\u001b[0m\u001b[1;33m(\u001b[0m\u001b[1;33m)\u001b[0m\u001b[1;33m,\u001b[0m\u001b[0mf_ad\u001b[0m\u001b[1;33m.\u001b[0m\u001b[0mhessian\u001b[0m\u001b[1;33m(\u001b[0m\u001b[1;33m)\u001b[0m\u001b[1;33m,\u001b[0m\u001b[0mv\u001b[0m\u001b[1;33m)\u001b[0m\u001b[1;33m\u001b[0m\u001b[1;33m\u001b[0m\u001b[0m\n\u001b[0;32m    123\u001b[0m \u001b[1;33m\u001b[0m\u001b[0m\n",
      "\u001b[1;32m~\\Documents\\GitHub\\AdaptiveGridDiscretizations\\agd\\Metrics\\Seismic\\reduced.py\u001b[0m in \u001b[0;36m_dual_level\u001b[1;34m(self, v, params, relax)\u001b[0m\n\u001b[0;32m     43\u001b[0m                 \u001b[0ml\u001b[0m\u001b[1;33m,\u001b[0m\u001b[0mq\u001b[0m\u001b[1;33m,\u001b[0m\u001b[0mc\u001b[0m \u001b[1;33m=\u001b[0m \u001b[0mparams\u001b[0m\u001b[1;33m\u001b[0m\u001b[1;33m\u001b[0m\u001b[0m\n\u001b[0;32m     44\u001b[0m                 \u001b[0mv2\u001b[0m \u001b[1;33m=\u001b[0m \u001b[0mv\u001b[0m\u001b[1;33m**\u001b[0m\u001b[1;36m2\u001b[0m\u001b[1;33m\u001b[0m\u001b[1;33m\u001b[0m\u001b[0m\n\u001b[1;32m---> 45\u001b[1;33m                 \u001b[0mresult\u001b[0m \u001b[1;33m=\u001b[0m \u001b[0mlp\u001b[0m\u001b[1;33m.\u001b[0m\u001b[0mdot_VV\u001b[0m\u001b[1;33m(\u001b[0m\u001b[0ml\u001b[0m\u001b[1;33m,\u001b[0m\u001b[0mv2\u001b[0m\u001b[1;33m)\u001b[0m \u001b[1;33m-\u001b[0m \u001b[1;36m1.\u001b[0m\u001b[1;33m\u001b[0m\u001b[1;33m\u001b[0m\u001b[0m\n\u001b[0m\u001b[0;32m     46\u001b[0m                 \u001b[1;32mif\u001b[0m \u001b[0mq\u001b[0m \u001b[1;32mis\u001b[0m \u001b[1;32mnot\u001b[0m \u001b[1;32mNone\u001b[0m\u001b[1;33m:\u001b[0m\u001b[1;33m\u001b[0m\u001b[1;33m\u001b[0m\u001b[0m\n\u001b[0;32m     47\u001b[0m                         \u001b[0mresult\u001b[0m \u001b[1;33m+=\u001b[0m \u001b[0mlp\u001b[0m\u001b[1;33m.\u001b[0m\u001b[0mdot_VAV\u001b[0m\u001b[1;33m(\u001b[0m\u001b[0mv2\u001b[0m\u001b[1;33m,\u001b[0m\u001b[0mq\u001b[0m\u001b[1;33m,\u001b[0m\u001b[0mv2\u001b[0m\u001b[1;33m)\u001b[0m\u001b[1;33m*\u001b[0m\u001b[0ms\u001b[0m\u001b[1;33m\u001b[0m\u001b[1;33m\u001b[0m\u001b[0m\n",
      "\u001b[1;32m~\\Documents\\GitHub\\AdaptiveGridDiscretizations\\agd\\LinearParallel.py\u001b[0m in \u001b[0;36mdot_VV\u001b[1;34m(v, w)\u001b[0m\n\u001b[0;32m     42\u001b[0m         \u001b[0mv\u001b[0m\u001b[1;33m=\u001b[0m\u001b[0mad\u001b[0m\u001b[1;33m.\u001b[0m\u001b[0masarray\u001b[0m\u001b[1;33m(\u001b[0m\u001b[0mv\u001b[0m\u001b[1;33m)\u001b[0m\u001b[1;33m;\u001b[0m \u001b[0mw\u001b[0m\u001b[1;33m=\u001b[0m\u001b[0mad\u001b[0m\u001b[1;33m.\u001b[0m\u001b[0masarray\u001b[0m\u001b[1;33m(\u001b[0m\u001b[0mw\u001b[0m\u001b[1;33m)\u001b[0m\u001b[1;33m\u001b[0m\u001b[1;33m\u001b[0m\u001b[0m\n\u001b[0;32m     43\u001b[0m         \u001b[1;32mif\u001b[0m \u001b[0mv\u001b[0m\u001b[1;33m.\u001b[0m\u001b[0mshape\u001b[0m\u001b[1;33m[\u001b[0m\u001b[1;36m0\u001b[0m\u001b[1;33m]\u001b[0m\u001b[1;33m!=\u001b[0m\u001b[0mw\u001b[0m\u001b[1;33m.\u001b[0m\u001b[0mshape\u001b[0m\u001b[1;33m[\u001b[0m\u001b[1;36m0\u001b[0m\u001b[1;33m]\u001b[0m\u001b[1;33m:\u001b[0m \u001b[1;32mraise\u001b[0m \u001b[0mValueError\u001b[0m\u001b[1;33m(\u001b[0m\u001b[1;34m'dot_VV : Incompatible shapes'\u001b[0m\u001b[1;33m)\u001b[0m\u001b[1;33m\u001b[0m\u001b[1;33m\u001b[0m\u001b[0m\n\u001b[1;32m---> 44\u001b[1;33m         \u001b[1;32mreturn\u001b[0m \u001b[1;33m(\u001b[0m\u001b[0mv\u001b[0m\u001b[1;33m*\u001b[0m\u001b[0mw\u001b[0m\u001b[1;33m)\u001b[0m\u001b[1;33m.\u001b[0m\u001b[0msum\u001b[0m\u001b[1;33m(\u001b[0m\u001b[1;36m0\u001b[0m\u001b[1;33m)\u001b[0m\u001b[1;33m\u001b[0m\u001b[1;33m\u001b[0m\u001b[0m\n\u001b[0m\u001b[0;32m     45\u001b[0m \u001b[1;33m\u001b[0m\u001b[0m\n\u001b[0;32m     46\u001b[0m \u001b[1;32mdef\u001b[0m \u001b[0mdot_AV\u001b[0m\u001b[1;33m(\u001b[0m\u001b[0ma\u001b[0m\u001b[1;33m,\u001b[0m\u001b[0mv\u001b[0m\u001b[1;33m)\u001b[0m\u001b[1;33m:\u001b[0m\u001b[1;33m\u001b[0m\u001b[1;33m\u001b[0m\u001b[0m\n",
      "\u001b[1;32mcupy\\core\\core.pyx\u001b[0m in \u001b[0;36mcupy.core.core.ndarray.__mul__\u001b[1;34m()\u001b[0m\n",
      "\u001b[1;32mcupy\\core\\_kernel.pyx\u001b[0m in \u001b[0;36mcupy.core._kernel.ufunc.__call__\u001b[1;34m()\u001b[0m\n",
      "\u001b[1;32mcupy\\core\\_kernel.pyx\u001b[0m in \u001b[0;36mcupy.core._kernel._preprocess_args\u001b[1;34m()\u001b[0m\n",
      "\u001b[1;31mTypeError\u001b[0m: Unsupported type <class 'agd.AutomaticDifferentiation.Dense2.denseAD2'>"
     ]
    },
    {
     "data": {
      "image/png": "[encoded data removed]",
      "text/plain": [
       "<Figure size 432x288 with 1 Axes>"
      ]
     },
     "metadata": {
      "needs_background": "light"
     },
     "output_type": "display_data"
    }
   ],
   "source": [
    "plt.axis('equal')\n",
    "plt.contour(*X,metric.norm(X))"
   ]
  },
  {
   "cell_type": "code",
   "execution_count": null,
   "metadata": {},
   "outputs": [],
   "source": []
  }
 ],
 "metadata": {
  "kernelspec": {
   "display_name": "Python 3",
   "language": "python",
   "name": "python3"
  },
  "language_info": {
   "codemirror_mode": {
    "name": "ipython",
    "version": 3
   },
   "file_extension": ".py",
   "mimetype": "text/x-python",
   "name": "python",
   "nbconvert_exporter": "python",
   "pygments_lexer": "ipython3",
   "version": "3.7.6"
  }
 },
 "nbformat": 4,
 "nbformat_minor": 4
}
