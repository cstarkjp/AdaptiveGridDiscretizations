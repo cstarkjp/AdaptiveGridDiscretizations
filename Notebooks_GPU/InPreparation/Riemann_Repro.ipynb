{
 "cells": [
  {
   "cell_type": "markdown",
   "metadata": {},
   "source": [
    "# Adaptive PDE discretizations on cartesian grids \n",
    "## Volume : GPU accelerated methods\n",
    "## Part : Reproducibility\n",
    "## Chapter : Riemannian metrics"
   ]
  },
  {
   "cell_type": "markdown",
   "metadata": {},
   "source": [
    "In this notebook, we solve isotropic eikonal equations on the CPU and the GPU, and check that they produce consistent results."
   ]
  },
  {
   "cell_type": "code",
   "execution_count": 1,
   "metadata": {},
   "outputs": [],
   "source": [
    "import sys; sys.path.insert(0,\"../..\")\n",
    "#from Miscellaneous import TocTools; print(TocTools.displayTOC('Isotropic_Repro','GPU'))"
   ]
  },
  {
   "cell_type": "code",
   "execution_count": 2,
   "metadata": {},
   "outputs": [],
   "source": [
    "import cupy as cp\n",
    "import numpy as np\n",
    "import itertools\n",
    "from matplotlib import pyplot as plt\n",
    "np.set_printoptions(edgeitems=30, linewidth=100000, formatter=dict(float=lambda x: \"%5.3g\" % x))"
   ]
  },
  {
   "cell_type": "code",
   "execution_count": 3,
   "metadata": {},
   "outputs": [],
   "source": [
    "from agd import HFMUtils\n",
    "from agd import AutomaticDifferentiation as ad\n",
    "from agd import Metrics\n",
    "from agd import FiniteDifferences as fd\n",
    "from agd import LinearParallel as lp\n",
    "import agd.AutomaticDifferentiation.cupy_generic as cugen\n",
    "norm_infinity = ad.Optimization.norm_infinity\n",
    "from agd.HFMUtils import RunGPU,RunSmart"
   ]
  },
  {
   "cell_type": "code",
   "execution_count": 4,
   "metadata": {},
   "outputs": [],
   "source": [
    "def ReloadPackages():\n",
    "    from Miscellaneous.rreload import rreload\n",
    "    global HFMUtils,ad,cugen,RunGPU,RunSmart,Metrics\n",
    "    HFMUtils,ad,cugen,RunGPU,RunSmart,Metrics = rreload([HFMUtils,ad,cugen,RunGPU,RunSmart,Metrics],\"../..\")    \n",
    "    RunSmart = cugen.cupy_get_args(RunSmart,dtype64=True,iterables=(dict,Metrics.Base))"
   ]
  },
  {
   "cell_type": "code",
   "execution_count": 5,
   "metadata": {},
   "outputs": [],
   "source": [
    "cp = cugen.decorate_module_functions(cp,cugen.set_output_dtype32) # Use float32 and int32 types in place of float64 and int64\n",
    "plt = cugen.decorate_module_functions(plt,cugen.cupy_get_args)\n",
    "RunSmart = cugen.cupy_get_args(RunSmart,dtype64=True,iterables=(dict,Metrics.Base))"
   ]
  },
  {
   "cell_type": "markdown",
   "metadata": {},
   "source": [
    "### 0.1 Utilities"
   ]
  },
  {
   "cell_type": "code",
   "execution_count": 6,
   "metadata": {},
   "outputs": [],
   "source": [
    "#from Notebooks_GPU.ExportedCode.Isotropic_Repro import RunCompare\n",
    "def RunCompare(gpuIn,check=True):\n",
    "    gpuOut = RunGPU(gpuIn)\n",
    "    if gpuIn.get('verbosity',1): print(\"---\")\n",
    "    cpuIn = gpuIn.copy(); cpuIn.pop('traits',None)\n",
    "    cpuOut = RunSmart(cpuIn)\n",
    "    print(\"Max |gpuValues-cpuValues| : \", norm_infinity(gpuOut['values'].get()-cpuOut['values']))\n",
    "    cpuTime = cpuOut['FMCPUTime']; gpuTime = gpuOut['solverGPUTime'];\n",
    "    print(f\"Solver time (s). GPU : {gpuTime}, CPU : {cpuTime}. Device acceleration : {cpuTime/gpuTime}\")\n",
    "    assert not check or cp.allclose(gpuOut['values'],cpuOut['values'],atol=1e-6)\n",
    "    return gpuOut,cpuOut"
   ]
  },
  {
   "cell_type": "code",
   "execution_count": 7,
   "metadata": {},
   "outputs": [],
   "source": [
    "factor_variants = [\n",
    "    {}, # Default\n",
    "    {\"seedRadius\":2}, # Spread seed information\n",
    "    {\"factorizationRadius\":10,'factorizationPointChoice':'Key'} # Source factorization\n",
    "]\n",
    "multip_variants = [\n",
    "    {'multiprecision':False}, # Default\n",
    "    {'multiprecision':True}, # Reduces roundoff errors\n",
    "]\n",
    "order_variants = [\n",
    "    {'order':1}, # Default\n",
    "    {'order':2}, # More accurate on smooth instances\n",
    "]"
   ]
  },
  {
   "cell_type": "markdown",
   "metadata": {},
   "source": [
    "## 1. Two dimensions"
   ]
  },
  {
   "cell_type": "markdown",
   "metadata": {},
   "source": [
    "### 1.1 Isotropic metric"
   ]
  },
  {
   "cell_type": "code",
   "execution_count": 8,
   "metadata": {},
   "outputs": [
    {
     "name": "stdout",
     "output_type": "stream",
     "text": [
      "Casting output of function eye from float64 to float32\n",
      "Casting output of function array from float64 to float32\n"
     ]
    }
   ],
   "source": [
    "n=4000\n",
    "hfmIn = HFMUtils.dictIn({\n",
    "    'model':'Riemann2',\n",
    "    'metric':Metrics.Riemann(cp.eye(2)),\n",
    "    'seeds':cp.array([[0.,0.]]),\n",
    "    'exportValues':1,\n",
    "    'traits':{\n",
    "        'niter_i':24,'shape_i':(12,12), # Best\n",
    "    }\n",
    "})\n",
    "hfmIn.SetRect([[0,n],[0,n]],dimx=n+1,sampleBoundary=True)"
   ]
  },
  {
   "cell_type": "code",
   "execution_count": 9,
   "metadata": {},
   "outputs": [
    {
     "name": "stdout",
     "output_type": "stream",
     "text": [
      "Setting the kernel traits.\n",
      "Prepating the domain data (shape,metric,...)\n",
      "Preparing the values array (setting seeds,...)\n",
      "Preparing the GPU kernel\n",
      "Setup and run the eikonal solver\n",
      "GPU solve took 0.4770023822784424 seconds, in 668 iterations.\n",
      "Post-Processing\n",
      "---\n",
      "Field verbosity defaults to 1\n",
      "Field order defaults to 1\n",
      "Field seedRadius defaults to 0\n",
      "Fast marching solver completed in 17.016 s.\n",
      "Max |gpuValues-cpuValues| :  0.49105587362191727\n",
      "Solver time (s). GPU : 0.4770023822784424, CPU : 17.016. Device acceleration : 35.672777814487276\n"
     ]
    }
   ],
   "source": [
    "_,cpuOut = RunCompare(hfmIn,check=False)"
   ]
  },
  {
   "cell_type": "code",
   "execution_count": 30,
   "metadata": {},
   "outputs": [
    {
     "name": "stdout",
     "output_type": "stream",
     "text": [
      "Casting output of function eye from float64 to float32\n"
     ]
    }
   ],
   "source": [
    "n=200; hfmInS = hfmIn.copy() # Define a small instance for bit-consistency validation\n",
    "hfmInS.SetRect([[0,1],[0,2]],dimx=n+1,sampleBoundary=True)\n",
    "X = hfmInS.Grid()\n",
    "cost = np.prod(np.sin(2*np.pi*X))+1.1\n",
    "hfmInS.update({\n",
    "    'metric': Metrics.Riemann(cost**2*fd.as_field(cp.eye(2),X.shape[1:])), # Isotropic but non-constant metric\n",
    "    'verbosity':0,\n",
    "})"
   ]
  },
  {
   "cell_type": "code",
   "execution_count": 31,
   "metadata": {},
   "outputs": [
    {
     "name": "stdout",
     "output_type": "stream",
     "text": [
      "Max |gpuValues-cpuValues| :  6.4515030246958815e-06\n",
      "Solver time (s). GPU : 0.02797222137451172, CPU : 0.048. Device acceleration : 1.715988135419863\n"
     ]
    }
   ],
   "source": [
    "RunCompare(hfmInS);"
   ]
  },
  {
   "cell_type": "code",
   "execution_count": null,
   "metadata": {},
   "outputs": [],
   "source": [
    "lp.inverse(hfmI"
   ]
  }
 ],
 "metadata": {
  "kernelspec": {
   "display_name": "Python 3",
   "language": "python",
   "name": "python3"
  },
  "language_info": {
   "codemirror_mode": {
    "name": "ipython",
    "version": 3
   },
   "file_extension": ".py",
   "mimetype": "text/x-python",
   "name": "python",
   "nbconvert_exporter": "python",
   "pygments_lexer": "ipython3",
   "version": "3.7.6"
  }
 },
 "nbformat": 4,
 "nbformat_minor": 4
}
