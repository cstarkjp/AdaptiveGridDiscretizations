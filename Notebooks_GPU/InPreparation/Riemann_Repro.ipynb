{
 "cells": [
  {
   "cell_type": "markdown",
   "metadata": {},
   "source": [
    "# Adaptive PDE discretizations on cartesian grids \n",
    "## Volume : GPU accelerated methods\n",
    "## Part : Reproducibility\n",
    "## Chapter : Riemannian metrics"
   ]
  },
  {
   "cell_type": "markdown",
   "metadata": {},
   "source": [
    "In this notebook, we solve Riemannian eikonal equations on the CPU and the GPU, and check that they produce consistent results.\n",
    "\n",
    "*Note* : we use fairly mild anisotropy for now..."
   ]
  },
  {
   "cell_type": "markdown",
   "metadata": {},
   "source": [
    "## 0. Importing the required libraries"
   ]
  },
  {
   "cell_type": "code",
   "execution_count": 1,
   "metadata": {},
   "outputs": [],
   "source": [
    "import sys; sys.path.insert(0,\"../..\")\n",
    "#from Miscellaneous import TocTools; print(TocTools.displayTOC('Isotropic_Repro','GPU'))"
   ]
  },
  {
   "cell_type": "code",
   "execution_count": 2,
   "metadata": {},
   "outputs": [],
   "source": [
    "import cupy as cp\n",
    "import numpy as np\n",
    "import itertools\n",
    "from matplotlib import pyplot as plt\n",
    "np.set_printoptions(edgeitems=30, linewidth=100000, formatter=dict(float=lambda x: \"%5.3g\" % x))"
   ]
  },
  {
   "cell_type": "code",
   "execution_count": 3,
   "metadata": {},
   "outputs": [],
   "source": [
    "from agd import HFMUtils\n",
    "from agd import AutomaticDifferentiation as ad\n",
    "from agd import Metrics\n",
    "from agd import FiniteDifferences as fd\n",
    "from agd import LinearParallel as lp\n",
    "import agd.AutomaticDifferentiation.cupy_generic as cugen\n",
    "\n",
    "norm_infinity = ad.Optimization.norm_infinity\n",
    "from agd.HFMUtils import RunGPU,RunSmart"
   ]
  },
  {
   "cell_type": "code",
   "execution_count": 4,
   "metadata": {},
   "outputs": [],
   "source": [
    "def ReloadPackages():\n",
    "    from Miscellaneous.rreload import rreload\n",
    "    global HFMUtils,ad,cugen,RunGPU,RunSmart,Metrics\n",
    "    HFMUtils,ad,cugen,RunGPU,Metrics = rreload([HFMUtils,ad,cugen,RunGPU,Metrics],\"../..\")    \n",
    "    RunSmart = cugen.cupy_get_args(HFMUtils.RunSmart,dtype64=True,iterables=(dict,Metrics.Base))"
   ]
  },
  {
   "cell_type": "code",
   "execution_count": 5,
   "metadata": {},
   "outputs": [],
   "source": [
    "cp = ad.functional.decorate_module_functions(cp,cugen.set_output_dtype32) # Use float32 and int32 types in place of float64 and int64\n",
    "plt = ad.functional.decorate_module_functions(plt,cugen.cupy_get_args)\n",
    "RunSmart = cugen.cupy_get_args(RunSmart,dtype64=True,iterables=(dict,Metrics.Base))"
   ]
  },
  {
   "cell_type": "markdown",
   "metadata": {},
   "source": [
    "### 0.1 Utilities"
   ]
  },
  {
   "cell_type": "code",
   "execution_count": 6,
   "metadata": {},
   "outputs": [],
   "source": [
    "#from Notebooks_GPU.ExportedCode.Isotropic_Repro import RunCompare\n",
    "def RunCompare(gpuIn,check=True):\n",
    "    gpuOut = RunGPU(gpuIn)\n",
    "    if gpuIn.get('verbosity',1): print(\"---\")\n",
    "    cpuIn = gpuIn.copy(); cpuIn.pop('traits',None)\n",
    "    cpuOut = RunSmart(cpuIn)\n",
    "    print(\"Max |gpuValues-cpuValues| : \", norm_infinity(gpuOut['values'].get()-cpuOut['values']))\n",
    "    cpuTime = cpuOut['FMCPUTime']; gpuTime = gpuOut['solverGPUTime'];\n",
    "    print(f\"Solver time (s). GPU : {gpuTime}, CPU : {cpuTime}. Device acceleration : {cpuTime/gpuTime}\")\n",
    "    assert not check or cp.allclose(gpuOut['values'],cpuOut['values'],atol=1e-5,rtol=1e-4)\n",
    "    return gpuOut,cpuOut"
   ]
  },
  {
   "cell_type": "code",
   "execution_count": 7,
   "metadata": {},
   "outputs": [],
   "source": [
    "factor_variants = [\n",
    "    {}, # Default\n",
    "    {\"seedRadius\":2}, # Spread seed information\n",
    "    {\"factorizationRadius\":10,'factorizationPointChoice':'Key'} # Source factorization\n",
    "]\n",
    "multip_variants = [\n",
    "    {'multiprecision':False}, # Default\n",
    "    {'multiprecision':True}, # Reduces roundoff errors\n",
    "]\n",
    "order_variants = [\n",
    "    {'order':1}, # Default\n",
    "    {'order':2}, # More accurate on smooth instances\n",
    "]"
   ]
  },
  {
   "cell_type": "markdown",
   "metadata": {},
   "source": [
    "## 1. Two dimensions"
   ]
  },
  {
   "cell_type": "markdown",
   "metadata": {},
   "source": [
    "### 1.1 Isotropic metric"
   ]
  },
  {
   "cell_type": "code",
   "execution_count": 8,
   "metadata": {},
   "outputs": [
    {
     "name": "stdout",
     "output_type": "stream",
     "text": [
      "Casting output of function eye from float64 to float32\n",
      "Casting output of function array from float64 to float32\n"
     ]
    }
   ],
   "source": [
    "n=4000\n",
    "hfmIn = HFMUtils.dictIn({\n",
    "    'model':'Riemann2',\n",
    "    'metric':Metrics.Riemann(cp.eye(2)),\n",
    "    'seeds':cp.array([[0.5,0.5]]),\n",
    "    'exportValues':1,\n",
    "    'traits':{\n",
    "        'niter_i':24,'shape_i':(12,12), # Best\n",
    "    }\n",
    "})\n",
    "hfmIn.SetRect([[0,1],[0,1]],dimx=n+1,sampleBoundary=True)"
   ]
  },
  {
   "cell_type": "code",
   "execution_count": 9,
   "metadata": {},
   "outputs": [
    {
     "name": "stdout",
     "output_type": "stream",
     "text": [
      "Setting the kernel traits.\n",
      "Prepating the domain data (shape,metric,...)\n",
      "Preparing the values array (setting seeds,...)\n",
      "Preparing the GPU kernel\n",
      "Setup and run the eikonal solver\n",
      "GPU solve took 0.38199853897094727 seconds, in 336 iterations.\n",
      "Post-Processing\n",
      "---\n",
      "Field verbosity defaults to 1\n",
      "Field order defaults to 1\n",
      "Field seedRadius defaults to 0\n",
      "Fast marching solver completed in 17.677 s.\n",
      "Max |gpuValues-cpuValues| :  1.532186014752135e-05\n",
      "Solver time (s). GPU : 0.38199853897094727, CPU : 17.677. Device acceleration : 46.27504609734755\n"
     ]
    }
   ],
   "source": [
    "_,cpuOut = RunCompare(hfmIn,check=False)"
   ]
  },
  {
   "cell_type": "code",
   "execution_count": 10,
   "metadata": {},
   "outputs": [
    {
     "name": "stdout",
     "output_type": "stream",
     "text": [
      "Casting output of function eye from float64 to float32\n"
     ]
    }
   ],
   "source": [
    "n=200; hfmInS = hfmIn.copy() # Define a small instance for bit-consistency validation\n",
    "hfmInS.SetRect([[0,1],[0,1]],dimx=n+1,sampleBoundary=True)\n",
    "X = hfmInS.Grid()\n",
    "cost = np.prod(np.sin(2*np.pi*X))+1.1\n",
    "hfmInS.update({\n",
    "    'metric': Metrics.Riemann(cost**2*fd.as_field(cp.eye(2),X.shape[1:])), # Isotropic but non-constant metric\n",
    "    'verbosity':0,\n",
    "})"
   ]
  },
  {
   "cell_type": "code",
   "execution_count": 11,
   "metadata": {},
   "outputs": [
    {
     "name": "stdout",
     "output_type": "stream",
     "text": [
      "\n",
      "Reproducibility with options : {}, {'multiprecision': False}\n",
      "Max |gpuValues-cpuValues| :  4.017569794623199e-07\n",
      "Solver time (s). GPU : 0.009501457214355469, CPU : 0.027. Device acceleration : 2.841669376693767\n",
      "\n",
      "Reproducibility with options : {}, {'multiprecision': True}\n",
      "Max |gpuValues-cpuValues| :  6.320754353250635e-08\n",
      "Solver time (s). GPU : 0.012001514434814453, CPU : 0.025. Device acceleration : 2.0830704437999126\n",
      "\n",
      "Reproducibility with options : {'seedRadius': 2}, {'multiprecision': False}\n",
      "Max |gpuValues-cpuValues| :  4.202669309227858e-07\n",
      "Solver time (s). GPU : 0.011500120162963867, CPU : 0.025. Device acceleration : 2.1738903285995645\n",
      "\n",
      "Reproducibility with options : {'seedRadius': 2}, {'multiprecision': True}\n",
      "Max |gpuValues-cpuValues| :  1.0889257084922832e-07\n",
      "Solver time (s). GPU : 0.011999845504760742, CPU : 0.026. Device acceleration : 2.166694561999563\n",
      "\n",
      "Reproducibility with options : {'factorizationRadius': 10, 'factorizationPointChoice': 'Key'}, {'multiprecision': False}\n",
      "Max |gpuValues-cpuValues| :  4.017569794623199e-07\n",
      "Solver time (s). GPU : 0.011497259140014648, CPU : 0.026. Device acceleration : 2.2614085394936025\n",
      "\n",
      "Reproducibility with options : {'factorizationRadius': 10, 'factorizationPointChoice': 'Key'}, {'multiprecision': True}\n",
      "Max |gpuValues-cpuValues| :  6.320754353250635e-08\n",
      "Solver time (s). GPU : 0.011995315551757812, CPU : 0.025. Device acceleration : 2.0841469231992367\n"
     ]
    }
   ],
   "source": [
    "for fact,multip in itertools.product(factor_variants,multip_variants):\n",
    "    print(f\"\\nReproducibility with options : {fact}, {multip}\")\n",
    "    RunCompare({**hfmInS,**fact,**multip})"
   ]
  },
  {
   "cell_type": "code",
   "execution_count": 12,
   "metadata": {},
   "outputs": [],
   "source": [
    "hfmInS.update({\n",
    "    'seeds':[[0.,1.]],\n",
    "    'order':2,\n",
    "})"
   ]
  },
  {
   "cell_type": "code",
   "execution_count": 13,
   "metadata": {},
   "outputs": [
    {
     "name": "stdout",
     "output_type": "stream",
     "text": [
      "\n",
      "Reproducibility with options : {}, {'multiprecision': False}\n",
      "Max |gpuValues-cpuValues| :  4.88107854068609e-06\n",
      "Solver time (s). GPU : 0.023000717163085938, CPU : 0.039. Device acceleration : 1.695599303424828\n",
      "\n",
      "Reproducibility with options : {}, {'multiprecision': True}\n",
      "Max |gpuValues-cpuValues| :  1.291459792440719e-07\n",
      "Solver time (s). GPU : 0.023998737335205078, CPU : 0.041. Device acceleration : 1.7084232152436964\n",
      "\n",
      "Reproducibility with options : {'factorizationRadius': 10, 'factorizationPointChoice': 'Key'}, {'multiprecision': False}\n",
      "Max |gpuValues-cpuValues| :  4.88107854068609e-06\n",
      "Solver time (s). GPU : 0.02249908447265625, CPU : 0.04. Device acceleration : 1.7778501186842999\n",
      "\n",
      "Reproducibility with options : {'factorizationRadius': 10, 'factorizationPointChoice': 'Key'}, {'multiprecision': True}\n",
      "Max |gpuValues-cpuValues| :  1.291459792440719e-07\n",
      "Solver time (s). GPU : 0.02397894859313965, CPU : 0.039. Device acceleration : 1.6264266070096942\n"
     ]
    }
   ],
   "source": [
    "for fact,multip in itertools.product((factor_variants[0],factor_variants[2]),multip_variants):\n",
    "    print(f\"\\nReproducibility with options : {fact}, {multip}\")\n",
    "    RunCompare({**hfmInS,**fact,**multip})"
   ]
  },
  {
   "cell_type": "markdown",
   "metadata": {},
   "source": [
    "### 1.2 Smooth anisotropic metric"
   ]
  },
  {
   "cell_type": "code",
   "execution_count": 72,
   "metadata": {},
   "outputs": [],
   "source": [
    "ReloadPackages()"
   ]
  },
  {
   "cell_type": "code",
   "execution_count": 73,
   "metadata": {},
   "outputs": [
    {
     "name": "stdout",
     "output_type": "stream",
     "text": [
      "Casting output of function array from float64 to float32\n"
     ]
    }
   ],
   "source": [
    "n=4000\n",
    "hfmIn = HFMUtils.dictIn({\n",
    "    'model':'Riemann2',\n",
    "    'seeds':cp.array([[0.,0.]]),\n",
    "    'exportValues':1,\n",
    "    'traits':{\n",
    "        'niter_i':16,'shape_i':(8,8), # Best\n",
    "    },\n",
    "})\n",
    "hfmIn.SetRect([[-np.pi,np.pi],[-np.pi,np.pi]],dimx=n+1,sampleBoundary=True)"
   ]
  },
  {
   "cell_type": "code",
   "execution_count": 74,
   "metadata": {},
   "outputs": [],
   "source": [
    "def height(x): return np.sin(x[0])*np.sin(x[1])\n",
    "def surface_metric(x,z):\n",
    "    ndim,shape = x.ndim-1,x.shape[1:]\n",
    "    x_ad = ad.Dense.identity(constant=x,shape_free=(ndim,))\n",
    "    tensors = lp.outer_self( z(x_ad).gradient() ) + fd.as_field(cp.eye(ndim),shape)\n",
    "    return Metrics.Riemann(tensors)"
   ]
  },
  {
   "cell_type": "code",
   "execution_count": 75,
   "metadata": {},
   "outputs": [
    {
     "name": "stdout",
     "output_type": "stream",
     "text": [
      "Casting output of function eye from float64 to float32\n"
     ]
    }
   ],
   "source": [
    "hfmIn['metric'] = surface_metric(hfmIn.Grid(),height)"
   ]
  },
  {
   "cell_type": "code",
   "execution_count": 90,
   "metadata": {},
   "outputs": [
    {
     "name": "stdout",
     "output_type": "stream",
     "text": [
      "Setting the kernel traits.\n",
      "Prepating the domain data (shape,metric,...)\n",
      "0.00012569512175277794\n",
      "Preparing the values array (setting seeds,...)\n",
      "Preparing the GPU kernel\n"
     ]
    },
    {
     "ename": "CompileException",
     "evalue": "C:\\Users\\Shadow\\Documents\\GitHub\\AdaptiveGridDiscretizations\\agd\\HFMUtils\\HFM_CUDA\\cuda\\TypeTraits.h(4): error: the size of an array must be greater than zero\n\nC:\\Users\\Shadow\\AppData\\Local\\Temp\\tmpkd3jierx\\5701b1a838e1b394ea4992e8d0083834_2.cubin.cu(13): warning: variable \"Int_MAX\" was declared but never referenced\n\n1 error detected in the compilation of \"C:\\Users\\Shadow\\AppData\\Local\\Temp\\tmpkd3jierx\\5701b1a838e1b394ea4992e8d0083834_2.cubin.cu\".\n",
     "output_type": "error",
     "traceback": [
      "\u001b[1;31m---------------------------------------------------------------------------\u001b[0m",
      "\u001b[1;31mNVRTCError\u001b[0m                                Traceback (most recent call last)",
      "\u001b[1;32m~\\Miniconda3\\envs\\gpuenv\\lib\\site-packages\\cupy\\cuda\\compiler.py\u001b[0m in \u001b[0;36mcompile\u001b[1;34m(self, options)\u001b[0m\n\u001b[0;32m    241\u001b[0m         \u001b[1;32mtry\u001b[0m\u001b[1;33m:\u001b[0m\u001b[1;33m\u001b[0m\u001b[1;33m\u001b[0m\u001b[0m\n\u001b[1;32m--> 242\u001b[1;33m             \u001b[0mnvrtc\u001b[0m\u001b[1;33m.\u001b[0m\u001b[0mcompileProgram\u001b[0m\u001b[1;33m(\u001b[0m\u001b[0mself\u001b[0m\u001b[1;33m.\u001b[0m\u001b[0mptr\u001b[0m\u001b[1;33m,\u001b[0m \u001b[0moptions\u001b[0m\u001b[1;33m)\u001b[0m\u001b[1;33m\u001b[0m\u001b[1;33m\u001b[0m\u001b[0m\n\u001b[0m\u001b[0;32m    243\u001b[0m             \u001b[1;32mreturn\u001b[0m \u001b[0mnvrtc\u001b[0m\u001b[1;33m.\u001b[0m\u001b[0mgetPTX\u001b[0m\u001b[1;33m(\u001b[0m\u001b[0mself\u001b[0m\u001b[1;33m.\u001b[0m\u001b[0mptr\u001b[0m\u001b[1;33m)\u001b[0m\u001b[1;33m\u001b[0m\u001b[1;33m\u001b[0m\u001b[0m\n",
      "\u001b[1;32mcupy\\cuda\\nvrtc.pyx\u001b[0m in \u001b[0;36mcupy.cuda.nvrtc.compileProgram\u001b[1;34m()\u001b[0m\n",
      "\u001b[1;32mcupy\\cuda\\nvrtc.pyx\u001b[0m in \u001b[0;36mcupy.cuda.nvrtc.compileProgram\u001b[1;34m()\u001b[0m\n",
      "\u001b[1;32mcupy\\cuda\\nvrtc.pyx\u001b[0m in \u001b[0;36mcupy.cuda.nvrtc.check_status\u001b[1;34m()\u001b[0m\n",
      "\u001b[1;31mNVRTCError\u001b[0m: NVRTC_ERROR_COMPILATION (6)",
      "\nDuring handling of the above exception, another exception occurred:\n",
      "\u001b[1;31mCompileException\u001b[0m                          Traceback (most recent call last)",
      "\u001b[1;32m<ipython-input-90-0de864983719>\u001b[0m in \u001b[0;36m<module>\u001b[1;34m\u001b[0m\n\u001b[0;32m      5\u001b[0m \u001b[0mhfmIn\u001b[0m\u001b[1;33m[\u001b[0m\u001b[1;34m'traits'\u001b[0m\u001b[1;33m]\u001b[0m\u001b[1;33m.\u001b[0m\u001b[0mupdate\u001b[0m \u001b[1;33m(\u001b[0m\u001b[1;33m{\u001b[0m\u001b[1;34m'decreasing_macro'\u001b[0m\u001b[1;33m:\u001b[0m\u001b[1;36m1\u001b[0m\u001b[1;33m}\u001b[0m\u001b[1;33m)\u001b[0m\u001b[1;33m\u001b[0m\u001b[1;33m\u001b[0m\u001b[0m\n\u001b[0;32m      6\u001b[0m \u001b[0mhfmIn\u001b[0m\u001b[1;33m.\u001b[0m\u001b[0mpop\u001b[0m\u001b[1;33m(\u001b[0m\u001b[1;34m'tol'\u001b[0m\u001b[1;33m)\u001b[0m\u001b[1;33m\u001b[0m\u001b[1;33m\u001b[0m\u001b[0m\n\u001b[1;32m----> 7\u001b[1;33m \u001b[0mgpuOut\u001b[0m\u001b[1;33m=\u001b[0m\u001b[0mRunGPU\u001b[0m\u001b[1;33m(\u001b[0m\u001b[0mhfmIn\u001b[0m\u001b[1;33m)\u001b[0m\u001b[1;33m;\u001b[0m\u001b[1;33m\u001b[0m\u001b[1;33m\u001b[0m\u001b[0m\n\u001b[0m\u001b[0;32m      8\u001b[0m \u001b[0mprint\u001b[0m\u001b[1;33m(\u001b[0m\u001b[0mnp\u001b[0m\u001b[1;33m.\u001b[0m\u001b[0mmax\u001b[0m\u001b[1;33m(\u001b[0m\u001b[0mnp\u001b[0m\u001b[1;33m.\u001b[0m\u001b[0mabs\u001b[0m\u001b[1;33m(\u001b[0m\u001b[0mgpuOut\u001b[0m\u001b[1;33m[\u001b[0m\u001b[1;34m'values'\u001b[0m\u001b[1;33m]\u001b[0m\u001b[1;33m.\u001b[0m\u001b[0mget\u001b[0m\u001b[1;33m(\u001b[0m\u001b[1;33m)\u001b[0m\u001b[1;33m-\u001b[0m\u001b[0mcpuOut\u001b[0m\u001b[1;33m[\u001b[0m\u001b[1;34m'values'\u001b[0m\u001b[1;33m]\u001b[0m\u001b[1;33m)\u001b[0m\u001b[1;33m)\u001b[0m\u001b[1;33m)\u001b[0m\u001b[1;33m\u001b[0m\u001b[1;33m\u001b[0m\u001b[0m\n",
      "\u001b[1;32m~\\Documents\\GitHub\\AdaptiveGridDiscretizations\\agd\\HFMUtils\\__init__.py\u001b[0m in \u001b[0;36mRunGPU\u001b[1;34m(*args, **kwargs)\u001b[0m\n\u001b[0;32m     22\u001b[0m \u001b[1;32mdef\u001b[0m \u001b[0mRunGPU\u001b[0m\u001b[1;33m(\u001b[0m\u001b[1;33m*\u001b[0m\u001b[0margs\u001b[0m\u001b[1;33m,\u001b[0m\u001b[1;33m**\u001b[0m\u001b[0mkwargs\u001b[0m\u001b[1;33m)\u001b[0m\u001b[1;33m:\u001b[0m\u001b[1;33m\u001b[0m\u001b[1;33m\u001b[0m\u001b[0m\n\u001b[0;32m     23\u001b[0m         \u001b[1;32mfrom\u001b[0m \u001b[1;33m.\u001b[0m \u001b[1;32mimport\u001b[0m \u001b[0mHFM_CUDA\u001b[0m\u001b[1;33m\u001b[0m\u001b[1;33m\u001b[0m\u001b[0m\n\u001b[1;32m---> 24\u001b[1;33m         \u001b[1;32mreturn\u001b[0m \u001b[0mHFM_CUDA\u001b[0m\u001b[1;33m.\u001b[0m\u001b[0mRunGPU\u001b[0m\u001b[1;33m(\u001b[0m\u001b[1;33m*\u001b[0m\u001b[0margs\u001b[0m\u001b[1;33m,\u001b[0m\u001b[1;33m**\u001b[0m\u001b[0mkwargs\u001b[0m\u001b[1;33m)\u001b[0m\u001b[1;33m\u001b[0m\u001b[1;33m\u001b[0m\u001b[0m\n\u001b[0m\u001b[0;32m     25\u001b[0m \u001b[1;33m\u001b[0m\u001b[0m\n\u001b[0;32m     26\u001b[0m \u001b[1;32mdef\u001b[0m \u001b[0mVoronoiDecomposition\u001b[0m\u001b[1;33m(\u001b[0m\u001b[0marr\u001b[0m\u001b[1;33m)\u001b[0m\u001b[1;33m:\u001b[0m\u001b[1;33m\u001b[0m\u001b[1;33m\u001b[0m\u001b[0m\n",
      "\u001b[1;32m~\\Documents\\GitHub\\AdaptiveGridDiscretizations\\agd\\HFMUtils\\HFM_CUDA\\__init__.py\u001b[0m in \u001b[0;36mRunGPU\u001b[1;34m(hfmIn, *args, **kwargs)\u001b[0m\n\u001b[0;32m      2\u001b[0m \u001b[1;33m\u001b[0m\u001b[0m\n\u001b[0;32m      3\u001b[0m \u001b[1;32mdef\u001b[0m \u001b[0mRunGPU\u001b[0m\u001b[1;33m(\u001b[0m\u001b[0mhfmIn\u001b[0m\u001b[1;33m,\u001b[0m\u001b[1;33m*\u001b[0m\u001b[0margs\u001b[0m\u001b[1;33m,\u001b[0m\u001b[1;33m**\u001b[0m\u001b[0mkwargs\u001b[0m\u001b[1;33m)\u001b[0m\u001b[1;33m:\u001b[0m\u001b[1;33m\u001b[0m\u001b[1;33m\u001b[0m\u001b[0m\n\u001b[1;32m----> 4\u001b[1;33m         \u001b[1;32mreturn\u001b[0m \u001b[0minterface\u001b[0m\u001b[1;33m.\u001b[0m\u001b[0mInterface\u001b[0m\u001b[1;33m(\u001b[0m\u001b[0mhfmIn\u001b[0m\u001b[1;33m)\u001b[0m\u001b[1;33m.\u001b[0m\u001b[0mRun\u001b[0m\u001b[1;33m(\u001b[0m\u001b[1;33m*\u001b[0m\u001b[0margs\u001b[0m\u001b[1;33m,\u001b[0m\u001b[1;33m**\u001b[0m\u001b[0mkwargs\u001b[0m\u001b[1;33m)\u001b[0m\u001b[1;33m\u001b[0m\u001b[1;33m\u001b[0m\u001b[0m\n\u001b[0m",
      "\u001b[1;32m~\\Documents\\GitHub\\AdaptiveGridDiscretizations\\agd\\HFMUtils\\HFM_CUDA\\interface.py\u001b[0m in \u001b[0;36mRun\u001b[1;34m(self)\u001b[0m\n\u001b[0;32m     89\u001b[0m                 \u001b[0mself\u001b[0m\u001b[1;33m.\u001b[0m\u001b[0mSetGeometry\u001b[0m\u001b[1;33m(\u001b[0m\u001b[1;33m)\u001b[0m\u001b[1;33m\u001b[0m\u001b[1;33m\u001b[0m\u001b[0m\n\u001b[0;32m     90\u001b[0m                 \u001b[0mself\u001b[0m\u001b[1;33m.\u001b[0m\u001b[0mSetValuesArray\u001b[0m\u001b[1;33m(\u001b[0m\u001b[1;33m)\u001b[0m\u001b[1;33m\u001b[0m\u001b[1;33m\u001b[0m\u001b[0m\n\u001b[1;32m---> 91\u001b[1;33m                 \u001b[0mself\u001b[0m\u001b[1;33m.\u001b[0m\u001b[0mSetKernel\u001b[0m\u001b[1;33m(\u001b[0m\u001b[1;33m)\u001b[0m\u001b[1;33m\u001b[0m\u001b[1;33m\u001b[0m\u001b[0m\n\u001b[0m\u001b[0;32m     92\u001b[0m                 \u001b[0mself\u001b[0m\u001b[1;33m.\u001b[0m\u001b[0mSetSolver\u001b[0m\u001b[1;33m(\u001b[0m\u001b[1;33m)\u001b[0m\u001b[1;33m\u001b[0m\u001b[1;33m\u001b[0m\u001b[0m\n\u001b[0;32m     93\u001b[0m                 \u001b[0mself\u001b[0m\u001b[1;33m.\u001b[0m\u001b[0mPostProcess\u001b[0m\u001b[1;33m(\u001b[0m\u001b[1;33m)\u001b[0m\u001b[1;33m\u001b[0m\u001b[1;33m\u001b[0m\u001b[0m\n",
      "\u001b[1;32m~\\Documents\\GitHub\\AdaptiveGridDiscretizations\\agd\\HFMUtils\\HFM_CUDA\\interface.py\u001b[0m in \u001b[0;36mSetKernel\u001b[1;34m(self)\u001b[0m\n\u001b[0;32m    351\u001b[0m                         \u001b[1;33m)\u001b[0m \u001b[1;33m+\u001b[0m \u001b[0mself\u001b[0m\u001b[1;33m.\u001b[0m\u001b[0mGetValue\u001b[0m\u001b[1;33m(\u001b[0m\u001b[1;34m'cuoptions'\u001b[0m\u001b[1;33m,\u001b[0m\u001b[0mdefault\u001b[0m\u001b[1;33m=\u001b[0m\u001b[0mtuple\u001b[0m\u001b[1;33m(\u001b[0m\u001b[1;33m)\u001b[0m\u001b[1;33m,\u001b[0m\u001b[1;33m\u001b[0m\u001b[1;33m\u001b[0m\u001b[0m\n\u001b[0;32m    352\u001b[0m \t\t\thelp=\"Options passed via cupy.RawKernel to the cuda compiler\")\n\u001b[1;32m--> 353\u001b[1;33m \u001b[1;33m\u001b[0m\u001b[0m\n\u001b[0m\u001b[0;32m    354\u001b[0m                 \u001b[0mself\u001b[0m\u001b[1;33m.\u001b[0m\u001b[0mmodule\u001b[0m \u001b[1;33m=\u001b[0m \u001b[0mGetModule\u001b[0m\u001b[1;33m(\u001b[0m\u001b[0mself\u001b[0m\u001b[1;33m.\u001b[0m\u001b[0msource\u001b[0m\u001b[1;33m,\u001b[0m\u001b[0mcuoptions\u001b[0m\u001b[1;33m)\u001b[0m\u001b[1;33m\u001b[0m\u001b[1;33m\u001b[0m\u001b[0m\n\u001b[0;32m    355\u001b[0m                 \u001b[0mmod\u001b[0m \u001b[1;33m=\u001b[0m \u001b[0mself\u001b[0m\u001b[1;33m.\u001b[0m\u001b[0mmodule\u001b[0m\u001b[1;33m\u001b[0m\u001b[1;33m\u001b[0m\u001b[0m\n",
      "\u001b[1;32m~\\Documents\\GitHub\\AdaptiveGridDiscretizations\\agd\\HFMUtils\\HFM_CUDA\\cupy_module_helper.py\u001b[0m in \u001b[0;36mGetModule\u001b[1;34m(source, cuoptions)\u001b[0m\n\u001b[0;32m     24\u001b[0m         \u001b[1;32mif\u001b[0m \u001b[0mhas_rawmodule\u001b[0m\u001b[1;33m:\u001b[0m \u001b[1;32mreturn\u001b[0m \u001b[0mcupy\u001b[0m\u001b[1;33m.\u001b[0m\u001b[0mRawModule\u001b[0m\u001b[1;33m(\u001b[0m\u001b[0msource\u001b[0m\u001b[1;33m,\u001b[0m\u001b[0moptions\u001b[0m\u001b[1;33m=\u001b[0m\u001b[0mcuoptions\u001b[0m\u001b[1;33m)\u001b[0m\u001b[1;33m\u001b[0m\u001b[1;33m\u001b[0m\u001b[0m\n\u001b[0;32m     25\u001b[0m \telse: return cupy.core.core.compile_with_cache(source, \n\u001b[1;32m---> 26\u001b[1;33m \t\toptions=cuoptions, prepend_cupy_headers=False)\n\u001b[0m\u001b[0;32m     27\u001b[0m \u001b[1;33m\u001b[0m\u001b[0m\n\u001b[0;32m     28\u001b[0m \u001b[1;33m\u001b[0m\u001b[0m\n",
      "\u001b[1;32mcupy\\core\\carray.pxi\u001b[0m in \u001b[0;36mcupy.core.core.compile_with_cache\u001b[1;34m()\u001b[0m\n",
      "\u001b[1;32mcupy\\core\\carray.pxi\u001b[0m in \u001b[0;36mcupy.core.core.compile_with_cache\u001b[1;34m()\u001b[0m\n",
      "\u001b[1;32m~\\Miniconda3\\envs\\gpuenv\\lib\\site-packages\\cupy\\cuda\\compiler.py\u001b[0m in \u001b[0;36mcompile_with_cache\u001b[1;34m(source, options, arch, cache_dir, extra_source)\u001b[0m\n\u001b[0;32m    163\u001b[0m                 \u001b[1;32mreturn\u001b[0m \u001b[0mmod\u001b[0m\u001b[1;33m\u001b[0m\u001b[1;33m\u001b[0m\u001b[0m\n\u001b[0;32m    164\u001b[0m \u001b[1;33m\u001b[0m\u001b[0m\n\u001b[1;32m--> 165\u001b[1;33m     \u001b[0mptx\u001b[0m \u001b[1;33m=\u001b[0m \u001b[0mcompile_using_nvrtc\u001b[0m\u001b[1;33m(\u001b[0m\u001b[0msource\u001b[0m\u001b[1;33m,\u001b[0m \u001b[0moptions\u001b[0m\u001b[1;33m,\u001b[0m \u001b[0march\u001b[0m\u001b[1;33m,\u001b[0m \u001b[0mname\u001b[0m \u001b[1;33m+\u001b[0m \u001b[1;34m'.cu'\u001b[0m\u001b[1;33m)\u001b[0m\u001b[1;33m\u001b[0m\u001b[1;33m\u001b[0m\u001b[0m\n\u001b[0m\u001b[0;32m    166\u001b[0m     \u001b[0mls\u001b[0m \u001b[1;33m=\u001b[0m \u001b[0mfunction\u001b[0m\u001b[1;33m.\u001b[0m\u001b[0mLinkState\u001b[0m\u001b[1;33m(\u001b[0m\u001b[1;33m)\u001b[0m\u001b[1;33m\u001b[0m\u001b[1;33m\u001b[0m\u001b[0m\n\u001b[0;32m    167\u001b[0m     \u001b[0mls\u001b[0m\u001b[1;33m.\u001b[0m\u001b[0madd_ptr_data\u001b[0m\u001b[1;33m(\u001b[0m\u001b[0mptx\u001b[0m\u001b[1;33m,\u001b[0m \u001b[1;34mu'cupy.ptx'\u001b[0m\u001b[1;33m)\u001b[0m\u001b[1;33m\u001b[0m\u001b[1;33m\u001b[0m\u001b[0m\n",
      "\u001b[1;32m~\\Miniconda3\\envs\\gpuenv\\lib\\site-packages\\cupy\\cuda\\compiler.py\u001b[0m in \u001b[0;36mcompile_using_nvrtc\u001b[1;34m(source, options, arch, filename)\u001b[0m\n\u001b[0;32m     79\u001b[0m         \u001b[0mprog\u001b[0m \u001b[1;33m=\u001b[0m \u001b[0m_NVRTCProgram\u001b[0m\u001b[1;33m(\u001b[0m\u001b[0msource\u001b[0m\u001b[1;33m,\u001b[0m \u001b[0mcu_path\u001b[0m\u001b[1;33m)\u001b[0m\u001b[1;33m\u001b[0m\u001b[1;33m\u001b[0m\u001b[0m\n\u001b[0;32m     80\u001b[0m         \u001b[1;32mtry\u001b[0m\u001b[1;33m:\u001b[0m\u001b[1;33m\u001b[0m\u001b[1;33m\u001b[0m\u001b[0m\n\u001b[1;32m---> 81\u001b[1;33m             \u001b[0mptx\u001b[0m \u001b[1;33m=\u001b[0m \u001b[0mprog\u001b[0m\u001b[1;33m.\u001b[0m\u001b[0mcompile\u001b[0m\u001b[1;33m(\u001b[0m\u001b[0moptions\u001b[0m\u001b[1;33m)\u001b[0m\u001b[1;33m\u001b[0m\u001b[1;33m\u001b[0m\u001b[0m\n\u001b[0m\u001b[0;32m     82\u001b[0m         \u001b[1;32mexcept\u001b[0m \u001b[0mCompileException\u001b[0m \u001b[1;32mas\u001b[0m \u001b[0me\u001b[0m\u001b[1;33m:\u001b[0m\u001b[1;33m\u001b[0m\u001b[1;33m\u001b[0m\u001b[0m\n\u001b[0;32m     83\u001b[0m             dump = _get_bool_env_variable(\n",
      "\u001b[1;32m~\\Miniconda3\\envs\\gpuenv\\lib\\site-packages\\cupy\\cuda\\compiler.py\u001b[0m in \u001b[0;36mcompile\u001b[1;34m(self, options)\u001b[0m\n\u001b[0;32m    244\u001b[0m         \u001b[1;32mexcept\u001b[0m \u001b[0mnvrtc\u001b[0m\u001b[1;33m.\u001b[0m\u001b[0mNVRTCError\u001b[0m\u001b[1;33m:\u001b[0m\u001b[1;33m\u001b[0m\u001b[1;33m\u001b[0m\u001b[0m\n\u001b[0;32m    245\u001b[0m             \u001b[0mlog\u001b[0m \u001b[1;33m=\u001b[0m \u001b[0mnvrtc\u001b[0m\u001b[1;33m.\u001b[0m\u001b[0mgetProgramLog\u001b[0m\u001b[1;33m(\u001b[0m\u001b[0mself\u001b[0m\u001b[1;33m.\u001b[0m\u001b[0mptr\u001b[0m\u001b[1;33m)\u001b[0m\u001b[1;33m\u001b[0m\u001b[1;33m\u001b[0m\u001b[0m\n\u001b[1;32m--> 246\u001b[1;33m             \u001b[1;32mraise\u001b[0m \u001b[0mCompileException\u001b[0m\u001b[1;33m(\u001b[0m\u001b[0mlog\u001b[0m\u001b[1;33m,\u001b[0m \u001b[0mself\u001b[0m\u001b[1;33m.\u001b[0m\u001b[0msrc\u001b[0m\u001b[1;33m,\u001b[0m \u001b[0mself\u001b[0m\u001b[1;33m.\u001b[0m\u001b[0mname\u001b[0m\u001b[1;33m,\u001b[0m \u001b[0moptions\u001b[0m\u001b[1;33m)\u001b[0m\u001b[1;33m\u001b[0m\u001b[1;33m\u001b[0m\u001b[0m\n\u001b[0m\u001b[0;32m    247\u001b[0m \u001b[1;33m\u001b[0m\u001b[0m\n\u001b[0;32m    248\u001b[0m \u001b[1;33m\u001b[0m\u001b[0m\n",
      "\u001b[1;31mCompileException\u001b[0m: C:\\Users\\Shadow\\Documents\\GitHub\\AdaptiveGridDiscretizations\\agd\\HFMUtils\\HFM_CUDA\\cuda\\TypeTraits.h(4): error: the size of an array must be greater than zero\n\nC:\\Users\\Shadow\\AppData\\Local\\Temp\\tmpkd3jierx\\5701b1a838e1b394ea4992e8d0083834_2.cubin.cu(13): warning: variable \"Int_MAX\" was declared but never referenced\n\n1 error detected in the compilation of \"C:\\Users\\Shadow\\AppData\\Local\\Temp\\tmpkd3jierx\\5701b1a838e1b394ea4992e8d0083834_2.cubin.cu\".\n"
     ]
    }
   ],
   "source": [
    "hfmIn.update({\n",
    "    'multiprecision':False,\n",
    "    'tol':1e-4,\n",
    "})\n",
    "hfmIn['traits'].update ({'decreasing_macro':1})\n",
    "hfmIn.pop('tol')\n",
    "gpuOut=RunGPU(hfmIn);\n",
    "print(np.max(np.abs(gpuOut['values'].get()-cpuOut['values'])))"
   ]
  },
  {
   "cell_type": "code",
   "execution_count": 60,
   "metadata": {},
   "outputs": [
    {
     "name": "stdout",
     "output_type": "stream",
     "text": [
      "Setting the kernel traits.\n",
      "Prepating the domain data (shape,metric,...)\n",
      "1.570796322829017e-08\n",
      "Preparing the values array (setting seeds,...)\n",
      "Preparing the GPU kernel\n",
      "Setup and run the eikonal solver\n",
      "GPU solve took 0.9744982719421387 seconds, in 517 iterations.\n",
      "Post-Processing\n",
      "---\n",
      "Field verbosity defaults to 1\n",
      "Field order defaults to 1\n",
      "Field seedRadius defaults to 0\n",
      "Fast marching solver completed in 25.817 s.\n",
      "***** Warning ! *****\n",
      "Unused fields from user: multiprecision \n",
      "********************\n",
      "Max |gpuValues-cpuValues| :  4.6642618598102814e-05\n",
      "Solver time (s). GPU : 0.9744982719421387, CPU : 25.817. Device acceleration : 26.492607266042334\n"
     ]
    }
   ],
   "source": [
    "gpuOut,cpuOut = RunCompare(hfmIn,check=False)"
   ]
  },
  {
   "cell_type": "code",
   "execution_count": 24,
   "metadata": {},
   "outputs": [],
   "source": [
    "ReloadPackages()"
   ]
  },
  {
   "cell_type": "code",
   "execution_count": 25,
   "metadata": {},
   "outputs": [
    {
     "name": "stdout",
     "output_type": "stream",
     "text": [
      "Casting output of function eye from float64 to float32\n"
     ]
    }
   ],
   "source": [
    "n=200; hfmInS = hfmIn.copy() # Define a small instance for bit-consistency validation\n",
    "hfmInS.SetRect([[-np.pi,np.pi],[-np.pi,np.pi]],dimx=n+1,sampleBoundary=True)\n",
    "hfmInS.update({\n",
    "    'metric' : surface_metric(hfmInS.Grid(),height), \n",
    "    'verbosity':0,\n",
    "})"
   ]
  },
  {
   "cell_type": "code",
   "execution_count": 26,
   "metadata": {},
   "outputs": [
    {
     "name": "stdout",
     "output_type": "stream",
     "text": [
      "\n",
      "Reproducibility with options : {}, {'multiprecision': False}\n",
      "Max |gpuValues-cpuValues| :  1.619302737232431e-05\n",
      "Solver time (s). GPU : 0.10149931907653809, CPU : 0.038. Device acceleration : 0.3743867480662127\n",
      "\n",
      "Reproducibility with options : {}, {'multiprecision': True}\n",
      "Max |gpuValues-cpuValues| :  3.045376777421893e-07\n",
      "Solver time (s). GPU : 0.020489215850830078, CPU : 0.038. Device acceleration : 1.8546341781284181\n",
      "\n",
      "Reproducibility with options : {'seedRadius': 2}, {'multiprecision': False}\n",
      "Max |gpuValues-cpuValues| :  1.7339657104820105e-05\n",
      "Solver time (s). GPU : 0.01699352264404297, CPU : 0.037. Device acceleration : 2.1773001851955778\n",
      "\n",
      "Reproducibility with options : {'seedRadius': 2}, {'multiprecision': True}\n",
      "Max |gpuValues-cpuValues| :  3.206113821097034e-07\n",
      "Solver time (s). GPU : 0.019967317581176758, CPU : 0.038. Device acceleration : 1.9031099117601404\n",
      "\n",
      "Reproducibility with options : {'factorizationRadius': 10, 'factorizationPointChoice': 'Key'}, {'multiprecision': False}\n",
      "Max |gpuValues-cpuValues| :  1.619302737232431e-05\n",
      "Solver time (s). GPU : 0.017517566680908203, CPU : 0.037. Device acceleration : 2.1121655007213436\n",
      "\n",
      "Reproducibility with options : {'factorizationRadius': 10, 'factorizationPointChoice': 'Key'}, {'multiprecision': True}\n",
      "Max |gpuValues-cpuValues| :  3.045376777421893e-07\n",
      "Solver time (s). GPU : 0.01949286460876465, CPU : 0.039. Device acceleration : 2.0007321028877554\n"
     ]
    }
   ],
   "source": [
    "for fact,multip in itertools.product(factor_variants,multip_variants):\n",
    "    print(f\"\\nReproducibility with options : {fact}, {multip}\")\n",
    "    RunCompare({**hfmInS,**fact,**multip})"
   ]
  },
  {
   "cell_type": "markdown",
   "metadata": {},
   "source": [
    "Due to the different switching criteria of the second order scheme, we do not have bit consistency in that case. The results are nevertheless quite close."
   ]
  },
  {
   "cell_type": "code",
   "execution_count": 20,
   "metadata": {},
   "outputs": [],
   "source": [
    "hfmInS.update({\n",
    "    'seeds':[[0.,1.]],\n",
    "    'order':2,\n",
    "})"
   ]
  },
  {
   "cell_type": "code",
   "execution_count": 21,
   "metadata": {},
   "outputs": [
    {
     "name": "stdout",
     "output_type": "stream",
     "text": [
      "\n",
      "Reproducibility with options : {}, {'multiprecision': False}\n",
      "Max |gpuValues-cpuValues| :  0.0021567369962434135\n",
      "Solver time (s). GPU : 0.023497343063354492, CPU : 0.058. Device acceleration : 2.4683641824362033\n",
      "\n",
      "Reproducibility with options : {}, {'multiprecision': True}\n",
      "Max |gpuValues-cpuValues| :  0.002156498577664312\n",
      "Solver time (s). GPU : 0.03049945831298828, CPU : 0.058. Device acceleration : 1.9016731184140585\n",
      "\n",
      "Reproducibility with options : {'factorizationRadius': 10, 'factorizationPointChoice': 'Key'}, {'multiprecision': False}\n",
      "Max |gpuValues-cpuValues| :  0.0021567369962434135\n",
      "Solver time (s). GPU : 0.023000001907348633, CPU : 0.059. Device acceleration : 2.5652171785755007\n",
      "\n",
      "Reproducibility with options : {'factorizationRadius': 10, 'factorizationPointChoice': 'Key'}, {'multiprecision': True}\n",
      "Max |gpuValues-cpuValues| :  0.002156498577664312\n",
      "Solver time (s). GPU : 0.030999183654785156, CPU : 0.061. Device acceleration : 1.9677937548069528\n"
     ]
    }
   ],
   "source": [
    "for fact,multip in itertools.product((factor_variants[0],factor_variants[2]),multip_variants):\n",
    "    print(f\"\\nReproducibility with options : {fact}, {multip}\")\n",
    "    RunCompare({**hfmInS,**fact,**multip},check=False)"
   ]
  },
  {
   "cell_type": "code",
   "execution_count": 22,
   "metadata": {},
   "outputs": [],
   "source": [
    "# TODO : discontinuous metric"
   ]
  },
  {
   "cell_type": "markdown",
   "metadata": {},
   "source": [
    "## 2. Three dimensions"
   ]
  },
  {
   "cell_type": "markdown",
   "metadata": {},
   "source": [
    "## 2.1 Smooth anisotropic metric"
   ]
  },
  {
   "cell_type": "markdown",
   "metadata": {},
   "source": [
    "We generalize the two dimensional test case, although it does not much make geometrical sense anymore: we are computing geodesics in a three dimensional volume viewed as an hypersurface embedded in four dimensional Euclidean space."
   ]
  },
  {
   "cell_type": "code",
   "execution_count": 8,
   "metadata": {},
   "outputs": [
    {
     "name": "stdout",
     "output_type": "stream",
     "text": [
      "Casting output of function array from float64 to float32\n"
     ]
    }
   ],
   "source": [
    "n=200\n",
    "hfmIn = HFMUtils.dictIn({\n",
    "    'model':'Riemann3',\n",
    "    'seeds':cp.array([[0.,0.,0.]]),\n",
    "    'exportValues':1,\n",
    "    'multiprecision':0,\n",
    "    'nitermax_o':200,\n",
    "    'raiseOnNonConvergence':0,\n",
    "})\n",
    "hfmIn.SetRect([[-np.pi,np.pi],[-np.pi,np.pi],[-np.pi,np.pi]],dimx=n+1,sampleBoundary=True)"
   ]
  },
  {
   "cell_type": "code",
   "execution_count": 24,
   "metadata": {},
   "outputs": [],
   "source": [
    "def height3(x): return np.sin(x[0])*np.sin(x[1])*np.sin(x[2])"
   ]
  },
  {
   "cell_type": "code",
   "execution_count": 25,
   "metadata": {},
   "outputs": [
    {
     "name": "stdout",
     "output_type": "stream",
     "text": [
      "Casting output of function eye from float64 to float32\n"
     ]
    }
   ],
   "source": [
    "hfmIn['metric'] = surface_metric(hfmIn.Grid(),height3)"
   ]
  },
  {
   "cell_type": "code",
   "execution_count": 26,
   "metadata": {},
   "outputs": [
    {
     "name": "stdout",
     "output_type": "stream",
     "text": [
      "Setting the kernel traits.\n",
      "Prepating the domain data (shape,metric,...)\n",
      "Preparing the values array (setting seeds,...)\n",
      "Preparing the GPU kernel\n",
      "Setup and run the eikonal solver\n",
      "GPU solve took 0.2800016403198242 seconds, in 79 iterations.\n",
      "Post-Processing\n",
      "---\n",
      "Field verbosity defaults to 1\n",
      "Field order defaults to 1\n",
      "Field seedRadius defaults to 0\n",
      "Fast marching solver completed in 47.496 s.\n",
      "***** Warning ! *****\n",
      "Unused fields from user: multiprecision nitermax_o raiseOnNonConvergence \n",
      "********************\n",
      "Max |gpuValues-cpuValues| :  0.00010251036877306774\n",
      "Solver time (s). GPU : 0.2800016403198242, CPU : 47.496. Device acceleration : 169.62757770186272\n"
     ]
    }
   ],
   "source": [
    "gpuOut,cpuOut = RunCompare(hfmIn,check=False)"
   ]
  },
  {
   "cell_type": "code",
   "execution_count": 27,
   "metadata": {},
   "outputs": [
    {
     "name": "stdout",
     "output_type": "stream",
     "text": [
      "Casting output of function eye from float64 to float32\n"
     ]
    }
   ],
   "source": [
    "n=20; hfmInS = hfmIn.copy() # Define a small instance for bit-consistency validation\n",
    "hfmInS.SetRect([[-np.pi,np.pi],[-np.pi,np.pi],[-np.pi,np.pi]],dimx=n+1,sampleBoundary=True)\n",
    "hfmInS.update({\n",
    "    'metric' : surface_metric(hfmInS.Grid(),height), \n",
    "    'verbosity':0,\n",
    "})"
   ]
  },
  {
   "cell_type": "code",
   "execution_count": 28,
   "metadata": {},
   "outputs": [
    {
     "name": "stdout",
     "output_type": "stream",
     "text": [
      "\n",
      "Reproducibility with options : {}, {'multiprecision': False}\n",
      "Max |gpuValues-cpuValues| :  7.807706189755237e-05\n",
      "Solver time (s). GPU : 0.007501125335693359, CPU : 0.017. Device acceleration : 2.266326616235459\n",
      "\n",
      "Reproducibility with options : {}, {'multiprecision': True}\n",
      "Max |gpuValues-cpuValues| :  5.211637139623804e-07\n",
      "Solver time (s). GPU : 0.007997512817382812, CPU : 0.018. Device acceleration : 2.2506997376580014\n",
      "\n",
      "Reproducibility with options : {'seedRadius': 2}, {'multiprecision': False}\n",
      "Max |gpuValues-cpuValues| :  0.0001812249710688718\n",
      "Solver time (s). GPU : 0.005997419357299805, CPU : 0.016. Device acceleration : 2.6678141125024846\n",
      "\n",
      "Reproducibility with options : {'seedRadius': 2}, {'multiprecision': True}\n",
      "Max |gpuValues-cpuValues| :  7.500026648621372e-07\n",
      "Solver time (s). GPU : 0.007500171661376953, CPU : 0.017. Device acceleration : 2.2666147879712635\n",
      "\n",
      "Reproducibility with options : {'factorizationRadius': 10, 'factorizationPointChoice': 'Key'}, {'multiprecision': False}\n",
      "Max |gpuValues-cpuValues| :  7.807706189755237e-05\n",
      "Solver time (s). GPU : 0.006499528884887695, CPU : 0.017. Device acceleration : 2.615574190235135\n",
      "\n",
      "Reproducibility with options : {'factorizationRadius': 10, 'factorizationPointChoice': 'Key'}, {'multiprecision': True}\n",
      "Max |gpuValues-cpuValues| :  5.211637139623804e-07\n",
      "Solver time (s). GPU : 0.009499073028564453, CPU : 0.016. Device acceleration : 1.6843748807790775\n"
     ]
    }
   ],
   "source": [
    "for fact,multip in itertools.product(factor_variants,multip_variants):\n",
    "    print(f\"\\nReproducibility with options : {fact}, {multip}\")\n",
    "    RunCompare({**hfmInS,**fact,**multip})"
   ]
  },
  {
   "cell_type": "markdown",
   "metadata": {},
   "source": [
    "Due to the different switching criteria of the second order scheme, we do not have bit consistency in that case. The results are nevertheless quite close."
   ]
  },
  {
   "cell_type": "code",
   "execution_count": 29,
   "metadata": {},
   "outputs": [],
   "source": [
    "hfmInS.update({\n",
    "    'seeds':[[0.,1.,1.]],\n",
    "    'order':2,\n",
    "})"
   ]
  },
  {
   "cell_type": "code",
   "execution_count": 30,
   "metadata": {},
   "outputs": [
    {
     "name": "stdout",
     "output_type": "stream",
     "text": [
      "\n",
      "Reproducibility with options : {}, {'multiprecision': False}\n",
      "Max |gpuValues-cpuValues| :  0.056333140343209465\n",
      "Solver time (s). GPU : 0.010499954223632812, CPU : 0.028. Device acceleration : 2.6666782924613988\n",
      "\n",
      "Reproducibility with options : {}, {'multiprecision': True}\n",
      "Max |gpuValues-cpuValues| :  0.05633361718036767\n",
      "Solver time (s). GPU : 0.013499975204467773, CPU : 0.029. Device acceleration : 2.148152093672183\n",
      "\n",
      "Reproducibility with options : {'factorizationRadius': 10, 'factorizationPointChoice': 'Key'}, {'multiprecision': False}\n",
      "Max |gpuValues-cpuValues| :  0.056333140343209465\n",
      "Solver time (s). GPU : 0.01049947738647461, CPU : 0.028. Device acceleration : 2.6667994005177347\n",
      "\n",
      "Reproducibility with options : {'factorizationRadius': 10, 'factorizationPointChoice': 'Key'}, {'multiprecision': True}\n",
      "Max |gpuValues-cpuValues| :  0.05633361718036767\n",
      "Solver time (s). GPU : 0.01349949836730957, CPU : 0.028. Device acceleration : 2.0741511453347696\n"
     ]
    }
   ],
   "source": [
    "for fact,multip in itertools.product((factor_variants[0],factor_variants[2]),multip_variants):\n",
    "    print(f\"\\nReproducibility with options : {fact}, {multip}\")\n",
    "    RunCompare({**hfmInS,**fact,**multip},check=False)"
   ]
  },
  {
   "cell_type": "code",
   "execution_count": null,
   "metadata": {},
   "outputs": [],
   "source": []
  }
 ],
 "metadata": {
  "kernelspec": {
   "display_name": "Python 3",
   "language": "python",
   "name": "python3"
  },
  "language_info": {
   "codemirror_mode": {
    "name": "ipython",
    "version": 3
   },
   "file_extension": ".py",
   "mimetype": "text/x-python",
   "name": "python",
   "nbconvert_exporter": "python",
   "pygments_lexer": "ipython3",
   "version": "3.7.6"
  }
 },
 "nbformat": 4,
 "nbformat_minor": 4
}
