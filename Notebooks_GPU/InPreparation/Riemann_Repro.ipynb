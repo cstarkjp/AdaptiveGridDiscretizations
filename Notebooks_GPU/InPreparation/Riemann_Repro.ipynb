{
 "cells": [
  {
   "cell_type": "markdown",
   "metadata": {},
   "source": [
    "# Adaptive PDE discretizations on cartesian grids \n",
    "## Volume : GPU accelerated methods\n",
    "## Part : Reproducibility\n",
    "## Chapter : Riemannian metrics"
   ]
  },
  {
   "cell_type": "markdown",
   "metadata": {},
   "source": [
    "In this notebook, we solve isotropic eikonal equations on the CPU and the GPU, and check that they produce consistent results."
   ]
  },
  {
   "cell_type": "code",
   "execution_count": 1,
   "metadata": {},
   "outputs": [],
   "source": [
    "import sys; sys.path.insert(0,\"../..\")\n",
    "#from Miscellaneous import TocTools; print(TocTools.displayTOC('Isotropic_Repro','GPU'))"
   ]
  },
  {
   "cell_type": "code",
   "execution_count": 2,
   "metadata": {},
   "outputs": [],
   "source": [
    "import cupy as cp\n",
    "import numpy as np\n",
    "import itertools\n",
    "from matplotlib import pyplot as plt\n",
    "np.set_printoptions(edgeitems=30, linewidth=100000, formatter=dict(float=lambda x: \"%5.3g\" % x))"
   ]
  },
  {
   "cell_type": "code",
   "execution_count": 3,
   "metadata": {},
   "outputs": [],
   "source": [
    "from agd import HFMUtils\n",
    "from agd import AutomaticDifferentiation as ad\n",
    "from agd import Metrics\n",
    "from agd import FiniteDifferences as fd\n",
    "from agd import LinearParallel as lp\n",
    "import agd.AutomaticDifferentiation.cupy_generic as cugen\n",
    "\n",
    "norm_infinity = ad.Optimization.norm_infinity\n",
    "from agd.HFMUtils import RunGPU,RunSmart"
   ]
  },
  {
   "cell_type": "code",
   "execution_count": 4,
   "metadata": {},
   "outputs": [],
   "source": [
    "def ReloadPackages():\n",
    "    from Miscellaneous.rreload import rreload\n",
    "    global HFMUtils,ad,cugen,RunGPU,RunSmart,Metrics\n",
    "    HFMUtils,ad,cugen,RunGPU,Metrics = rreload([HFMUtils,ad,cugen,RunGPU,Metrics],\"../..\")    \n",
    "    RunSmart = cugen.cupy_get_args(HFMUtils.RunSmart,dtype64=True,iterables=(dict,Metrics.Base))"
   ]
  },
  {
   "cell_type": "code",
   "execution_count": 5,
   "metadata": {},
   "outputs": [],
   "source": [
    "cp = ad.functional.decorate_module_functions(cp,cugen.set_output_dtype32) # Use float32 and int32 types in place of float64 and int64\n",
    "plt = ad.functional.decorate_module_functions(plt,cugen.cupy_get_args)\n",
    "RunSmart = cugen.cupy_get_args(RunSmart,dtype64=True,iterables=(dict,Metrics.Base))"
   ]
  },
  {
   "cell_type": "markdown",
   "metadata": {},
   "source": [
    "### 0.1 Utilities"
   ]
  },
  {
   "cell_type": "code",
   "execution_count": 24,
   "metadata": {},
   "outputs": [],
   "source": [
    "#from Notebooks_GPU.ExportedCode.Isotropic_Repro import RunCompare\n",
    "def RunCompare(gpuIn,check=True):\n",
    "    gpuOut = RunGPU(gpuIn)\n",
    "    if gpuIn.get('verbosity',1): print(\"---\")\n",
    "    cpuIn = gpuIn.copy(); cpuIn.pop('traits',None)\n",
    "    cpuOut = RunSmart(cpuIn)\n",
    "    print(\"Max |gpuValues-cpuValues| : \", norm_infinity(gpuOut['values'].get()-cpuOut['values']))\n",
    "    cpuTime = cpuOut['FMCPUTime']; gpuTime = gpuOut['solverGPUTime'];\n",
    "    print(f\"Solver time (s). GPU : {gpuTime}, CPU : {cpuTime}. Device acceleration : {cpuTime/gpuTime}\")\n",
    "    assert not check or cp.allclose(gpuOut['values'],cpuOut['values'],atol=1e-6)\n",
    "    return gpuOut,cpuOut"
   ]
  },
  {
   "cell_type": "code",
   "execution_count": 25,
   "metadata": {},
   "outputs": [],
   "source": [
    "factor_variants = [\n",
    "    {}, # Default\n",
    "    {\"seedRadius\":2}, # Spread seed information\n",
    "    {\"factorizationRadius\":10,'factorizationPointChoice':'Key'} # Source factorization\n",
    "]\n",
    "multip_variants = [\n",
    "    {'multiprecision':False}, # Default\n",
    "    {'multiprecision':True}, # Reduces roundoff errors\n",
    "]\n",
    "order_variants = [\n",
    "    {'order':1}, # Default\n",
    "    {'order':2}, # More accurate on smooth instances\n",
    "]"
   ]
  },
  {
   "cell_type": "markdown",
   "metadata": {},
   "source": [
    "## 1. Two dimensions"
   ]
  },
  {
   "cell_type": "markdown",
   "metadata": {},
   "source": [
    "### 1.1 Isotropic metric"
   ]
  },
  {
   "cell_type": "code",
   "execution_count": 9,
   "metadata": {},
   "outputs": [
    {
     "name": "stdout",
     "output_type": "stream",
     "text": [
      "Casting output of function eye from float64 to float32\n",
      "Casting output of function array from float64 to float32\n"
     ]
    }
   ],
   "source": [
    "n=4000\n",
    "hfmIn = HFMUtils.dictIn({\n",
    "    'model':'Riemann2',\n",
    "    'metric':Metrics.Riemann(cp.eye(2)),\n",
    "    'seeds':cp.array([[0.5,0.5]]),\n",
    "    'exportValues':1,\n",
    "    'traits':{\n",
    "        'niter_i':24,'shape_i':(12,12), # Best\n",
    "    }\n",
    "})\n",
    "hfmIn.SetRect([[0,1],[0,1]],dimx=n+1,sampleBoundary=True)"
   ]
  },
  {
   "cell_type": "code",
   "execution_count": 9,
   "metadata": {},
   "outputs": [
    {
     "name": "stdout",
     "output_type": "stream",
     "text": [
      "Setting the kernel traits.\n",
      "Prepating the domain data (shape,metric,...)\n",
      "Preparing the values array (setting seeds,...)\n",
      "Preparing the GPU kernel\n",
      "Setup and run the eikonal solver\n",
      "GPU solve took 0.4770023822784424 seconds, in 668 iterations.\n",
      "Post-Processing\n",
      "---\n",
      "Field verbosity defaults to 1\n",
      "Field order defaults to 1\n",
      "Field seedRadius defaults to 0\n",
      "Fast marching solver completed in 17.016 s.\n",
      "Max |gpuValues-cpuValues| :  0.49105587362191727\n",
      "Solver time (s). GPU : 0.4770023822784424, CPU : 17.016. Device acceleration : 35.672777814487276\n"
     ]
    }
   ],
   "source": [
    "_,cpuOut = RunCompare(hfmIn,check=False)"
   ]
  },
  {
   "cell_type": "code",
   "execution_count": 10,
   "metadata": {},
   "outputs": [
    {
     "name": "stdout",
     "output_type": "stream",
     "text": [
      "Casting output of function eye from float64 to float32\n"
     ]
    }
   ],
   "source": [
    "n=200; hfmInS = hfmIn.copy() # Define a small instance for bit-consistency validation\n",
    "hfmInS.SetRect([[0,1],[0,1]],dimx=n+1,sampleBoundary=True)\n",
    "X = hfmInS.Grid()\n",
    "cost = np.prod(np.sin(2*np.pi*X))+1.1\n",
    "hfmInS.update({\n",
    "    'metric': Metrics.Riemann(cost**2*fd.as_field(cp.eye(2),X.shape[1:])), # Isotropic but non-constant metric\n",
    "    'verbosity':0,\n",
    "})"
   ]
  },
  {
   "cell_type": "code",
   "execution_count": 11,
   "metadata": {},
   "outputs": [
    {
     "name": "stdout",
     "output_type": "stream",
     "text": [
      "Max |gpuValues-cpuValues| :  4.017569794623199e-07\n",
      "Solver time (s). GPU : 0.03299975395202637, CPU : 0.027. Device acceleration : 0.8181879185902854\n"
     ]
    }
   ],
   "source": [
    "RunCompare(hfmInS);"
   ]
  },
  {
   "cell_type": "code",
   "execution_count": 12,
   "metadata": {},
   "outputs": [
    {
     "name": "stdout",
     "output_type": "stream",
     "text": [
      "\n",
      "Reproducibility with options : {}, {'multiprecision': False}\n",
      "Max |gpuValues-cpuValues| :  4.017569794623199e-07\n",
      "Solver time (s). GPU : 0.008000373840332031, CPU : 0.027. Device acceleration : 3.3748422934795563\n",
      "\n",
      "Reproducibility with options : {}, {'multiprecision': True}\n",
      "Max |gpuValues-cpuValues| :  6.320754353250635e-08\n",
      "Solver time (s). GPU : 0.010999679565429688, CPU : 0.027. Device acceleration : 2.4546169585573088\n",
      "\n",
      "Reproducibility with options : {'seedRadius': 2}, {'multiprecision': False}\n",
      "Max |gpuValues-cpuValues| :  4.202669309227858e-07\n",
      "Solver time (s). GPU : 0.010000944137573242, CPU : 0.025. Device acceleration : 2.4997639878894797\n",
      "\n",
      "Reproducibility with options : {'seedRadius': 2}, {'multiprecision': True}\n",
      "Max |gpuValues-cpuValues| :  1.0889257084922832e-07\n",
      "Solver time (s). GPU : 0.010991096496582031, CPU : 0.026. Device acceleration : 2.3655510629067242\n",
      "\n",
      "Reproducibility with options : {'factorizationRadius': 10, 'factorizationPointChoice': 'Key'}, {'multiprecision': False}\n",
      "Max |gpuValues-cpuValues| :  4.017569794623199e-07\n",
      "Solver time (s). GPU : 0.011001348495483398, CPU : 0.026. Device acceleration : 2.3633466397936846\n",
      "\n",
      "Reproducibility with options : {'factorizationRadius': 10, 'factorizationPointChoice': 'Key'}, {'multiprecision': True}\n",
      "Max |gpuValues-cpuValues| :  6.320754353250635e-08\n",
      "Solver time (s). GPU : 0.011505365371704102, CPU : 0.025. Device acceleration : 2.172899268499907\n"
     ]
    }
   ],
   "source": [
    "for fact,multip in itertools.product(factor_variants,multip_variants):\n",
    "    print(f\"\\nReproducibility with options : {fact}, {multip}\")\n",
    "    RunCompare({**hfmInS,**fact,**multip})"
   ]
  },
  {
   "cell_type": "code",
   "execution_count": 13,
   "metadata": {},
   "outputs": [],
   "source": [
    "hfmInS.update({\n",
    "    'seeds':[[0.0,1.]],\n",
    "    'order':2,\n",
    "})"
   ]
  },
  {
   "cell_type": "code",
   "execution_count": 15,
   "metadata": {},
   "outputs": [
    {
     "name": "stdout",
     "output_type": "stream",
     "text": [
      "\n",
      "Reproducibility with options : {}, {'multiprecision': False}\n",
      "Max |gpuValues-cpuValues| :  4.88107854068609e-06\n",
      "Solver time (s). GPU : 0.021503448486328125, CPU : 0.04. Device acceleration : 1.8601667553663297\n",
      "\n",
      "Reproducibility with options : {}, {'multiprecision': True}\n",
      "Max |gpuValues-cpuValues| :  1.291459792440719e-07\n",
      "Solver time (s). GPU : 0.02249884605407715, CPU : 0.038. Device acceleration : 1.688975510506851\n",
      "\n",
      "Reproducibility with options : {'factorizationRadius': 10, 'factorizationPointChoice': 'Key'}, {'multiprecision': False}\n",
      "Max |gpuValues-cpuValues| :  4.88107854068609e-06\n",
      "Solver time (s). GPU : 0.02249908447265625, CPU : 0.041. Device acceleration : 1.8222963716514073\n",
      "\n",
      "Reproducibility with options : {'factorizationRadius': 10, 'factorizationPointChoice': 'Key'}, {'multiprecision': True}\n",
      "Max |gpuValues-cpuValues| :  1.291459792440719e-07\n",
      "Solver time (s). GPU : 0.022498607635498047, CPU : 0.04. Device acceleration : 1.7778877985715194\n"
     ]
    }
   ],
   "source": [
    "for fact,multip in itertools.product((factor_variants[0],factor_variants[2]),multip_variants):\n",
    "    print(f\"\\nReproducibility with options : {fact}, {multip}\")\n",
    "    RunCompare({**hfmInS,**fact,**multip})"
   ]
  },
  {
   "cell_type": "markdown",
   "metadata": {},
   "source": [
    "### 1.2 Smooth anisotropic metric"
   ]
  },
  {
   "cell_type": "code",
   "execution_count": 39,
   "metadata": {},
   "outputs": [
    {
     "name": "stdout",
     "output_type": "stream",
     "text": [
      "Casting output of function array from float64 to float32\n",
      "Casting output of function array from float64 to float32\n"
     ]
    }
   ],
   "source": [
    "n=20\n",
    "hfmIn = HFMUtils.dictIn({\n",
    "    'model':'Riemann2',\n",
    "    'seeds':cp.array([[0.,0.]]),\n",
    "    'exportValues':1,\n",
    "    'traits':{\n",
    "        'niter_i':24,'shape_i':(12,12), # Best\n",
    "    },\n",
    "    'metric':cp.array([1.,0.2,1.])\n",
    "})\n",
    "hfmIn.SetRect([[-np.pi,np.pi],[-np.pi,np.pi]],dimx=n+1,sampleBoundary=True)\n",
    "X=hfmIn.Grid()"
   ]
  },
  {
   "cell_type": "code",
   "execution_count": 40,
   "metadata": {},
   "outputs": [],
   "source": [
    "def height(x):\n",
    "     return np.sin(x[0])*np.sin(x[1])"
   ]
  },
  {
   "cell_type": "code",
   "execution_count": 41,
   "metadata": {},
   "outputs": [
    {
     "name": "stdout",
     "output_type": "stream",
     "text": [
      "Casting output of function eye from float64 to float32\n"
     ]
    }
   ],
   "source": [
    "X_ad = ad.Dense.identity(constant=X,shape_free=(2,))\n",
    "tensors = lp.outer_self( height(X_ad).gradient() ) + fd.as_field(cp.eye(2),X.shape[1:])\n",
    "#hfmIn['metric'] = Metrics.Riemann(tensors)"
   ]
  },
  {
   "cell_type": "code",
   "execution_count": 42,
   "metadata": {},
   "outputs": [
    {
     "name": "stdout",
     "output_type": "stream",
     "text": [
      "Setting the kernel traits.\n",
      "Prepating the domain data (shape,metric,...)\n",
      "Preparing the values array (setting seeds,...)\n",
      "Preparing the GPU kernel\n",
      "Setup and run the eikonal solver\n",
      "GPU solve took 0.0034995079040527344 seconds, in 4 iterations.\n",
      "Post-Processing\n",
      "---\n",
      "Field verbosity defaults to 1\n",
      "Field order defaults to 1\n",
      "Field seedRadius defaults to 0\n",
      "Fast marching solver completed in 0.001 s.\n",
      "Max |gpuValues-cpuValues| :  1.6877359661175122\n",
      "Solver time (s). GPU : 0.0034995079040527344, CPU : 0.001. Device acceleration : 0.28575446246082575\n"
     ]
    }
   ],
   "source": [
    "gpuOut,cpuOut = RunCompare(hfmIn,check=False)"
   ]
  },
  {
   "cell_type": "code",
   "execution_count": 43,
   "metadata": {},
   "outputs": [
    {
     "data": {
      "text/plain": [
       "array([[0.813, 0.776, 0.742, 0.711, 0.686, 0.666, 0.652, 0.645, 0.645, 0.655, 0.675, 0.806, 0.928,  1.04,  1.14,  1.24,  1.34,  1.43,  1.52,   1.6,  1.69],\n",
       "       [0.776, 0.735, 0.697, 0.663, 0.634,  0.61, 0.591,  0.58, 0.576, 0.582, 0.598, 0.733, 0.855, 0.964,  1.07,  1.16,  1.26,  1.35,  1.44,  1.52,   1.6],\n",
       "       [0.742, 0.697, 0.656, 0.618, 0.585, 0.556, 0.533, 0.517, 0.509,  0.51, 0.522, 0.662, 0.782,  0.89, 0.992,  1.09,  1.18,  1.27,  1.35,  1.44,  1.52],\n",
       "       [0.711, 0.663, 0.618, 0.577, 0.539, 0.506, 0.478, 0.457, 0.444,  0.44, 0.447, 0.591,  0.71, 0.817, 0.916,  1.01,   1.1,  1.18,  1.27,  1.35,  1.43],\n",
       "       [0.686, 0.634, 0.585, 0.539, 0.497,  0.46, 0.427, 0.401, 0.382, 0.372, 0.374,  0.52, 0.638, 0.743,  0.84, 0.931,  1.02,   1.1,  1.18,  1.26,  1.34],\n",
       "       [0.666,  0.61, 0.556, 0.506,  0.46, 0.418,  0.38, 0.348, 0.323, 0.308, 0.303,  0.45, 0.566, 0.668, 0.761, 0.848, 0.931,  1.01,  1.09,  1.16,  1.24],\n",
       "       [0.652, 0.591, 0.533, 0.478, 0.427,  0.38, 0.337,   0.3, 0.269, 0.246, 0.236, 0.381, 0.494, 0.591, 0.679, 0.761,  0.84, 0.916, 0.992,  1.07,  1.14],\n",
       "       [0.645,  0.58, 0.517, 0.457, 0.401, 0.348,   0.3, 0.256, 0.219, 0.189, 0.171, 0.313, 0.419,  0.51, 0.591, 0.668, 0.743, 0.817,  0.89, 0.964,  1.04],\n",
       "       [0.645, 0.576, 0.509, 0.444, 0.382, 0.323, 0.269, 0.219, 0.175, 0.137,  0.11, 0.244,  0.34, 0.419, 0.494, 0.566, 0.638,  0.71, 0.782, 0.855, 0.928],\n",
       "       [0.655, 0.582,  0.51,  0.44, 0.372, 0.308, 0.246, 0.189, 0.137, 0.0909, 0.0532,  0.17, 0.244, 0.313, 0.381,  0.45,  0.52, 0.591, 0.662, 0.733, 0.806],\n",
       "       [0.675, 0.598, 0.522, 0.447, 0.374, 0.303, 0.236, 0.171,  0.11, 0.0532,     0, 0.0532,  0.11, 0.171, 0.236, 0.303, 0.374, 0.447, 0.522, 0.598, 0.675],\n",
       "       [0.806, 0.733, 0.662, 0.591,  0.52,  0.45, 0.381, 0.313, 0.244,  0.17, 0.0532, 0.0909, 0.137, 0.189, 0.246, 0.308, 0.372,  0.44,  0.51, 0.582, 0.655],\n",
       "       [0.928, 0.855, 0.782,  0.71, 0.638, 0.566, 0.494, 0.419,  0.34, 0.244,  0.11, 0.137, 0.175, 0.219, 0.269, 0.323, 0.382, 0.444, 0.509, 0.576, 0.645],\n",
       "       [ 1.04, 0.964,  0.89, 0.817, 0.743, 0.668, 0.591,  0.51, 0.419, 0.313, 0.171, 0.189, 0.219, 0.256,   0.3, 0.348, 0.401, 0.457, 0.517,  0.58, 0.645],\n",
       "       [ 1.14,  1.07, 0.992, 0.916,  0.84, 0.761, 0.679, 0.591, 0.494, 0.381, 0.236, 0.246, 0.269,   0.3, 0.337,  0.38, 0.427, 0.478, 0.533, 0.591, 0.652],\n",
       "       [ 1.24,  1.16,  1.09,  1.01, 0.931, 0.848, 0.761, 0.668, 0.566,  0.45, 0.303, 0.308, 0.323, 0.348,  0.38, 0.418,  0.46, 0.506, 0.556,  0.61, 0.666],\n",
       "       [ 1.34,  1.26,  1.18,   1.1,  1.02, 0.931,  0.84, 0.743, 0.638,  0.52, 0.374, 0.372, 0.382, 0.401, 0.427,  0.46, 0.497, 0.539, 0.585, 0.634, 0.686],\n",
       "       [ 1.43,  1.35,  1.27,  1.18,   1.1,  1.01, 0.916, 0.817,  0.71, 0.591, 0.447,  0.44, 0.444, 0.457, 0.478, 0.506, 0.539, 0.577, 0.618, 0.663, 0.711],\n",
       "       [ 1.52,  1.44,  1.35,  1.27,  1.18,  1.09, 0.992,  0.89, 0.782, 0.662, 0.522,  0.51, 0.509, 0.517, 0.533, 0.556, 0.585, 0.618, 0.656, 0.697, 0.742],\n",
       "       [  1.6,  1.52,  1.44,  1.35,  1.26,  1.16,  1.07, 0.964, 0.855, 0.733, 0.598, 0.582, 0.576,  0.58, 0.591,  0.61, 0.634, 0.663, 0.697, 0.735, 0.776],\n",
       "       [ 1.69,   1.6,  1.52,  1.43,  1.34,  1.24,  1.14,  1.04, 0.928, 0.806, 0.675, 0.655, 0.645, 0.645, 0.652, 0.666, 0.686, 0.711, 0.742, 0.776, 0.813]])"
      ]
     },
     "execution_count": 43,
     "metadata": {},
     "output_type": "execute_result"
    }
   ],
   "source": [
    "gpuOut['values'].get()-cpuOut['values']"
   ]
  },
  {
   "cell_type": "code",
   "execution_count": 45,
   "metadata": {},
   "outputs": [
    {
     "data": {
      "text/plain": [
       "array([[ 5.13,  4.89,  4.65,  4.43,  4.22,  4.02,  3.83,  3.66,  3.52,  3.39,   3.3,  3.24,  3.23,  3.27,  3.34,  3.44,  3.57,  3.71,  3.88,  4.06,  4.26],\n",
       "       [ 4.89,  4.64,  4.39,  4.16,  3.94,  3.73,  3.53,  3.36,   3.2,  3.08,  2.98,  2.92,  2.93,  2.97,  3.06,  3.17,  3.31,  3.48,  3.66,  3.85,  4.06],\n",
       "       [ 4.65,  4.39,  4.14,   3.9,  3.67,  3.45,  3.24,  3.06,  2.89,  2.76,  2.66,  2.61,  2.62,  2.68,  2.78,  2.91,  3.07,  3.25,  3.44,  3.66,  3.88],\n",
       "       [ 4.43,  4.16,   3.9,  3.64,   3.4,  3.17,  2.95,  2.76,  2.58,  2.44,  2.33,  2.29,  2.32,   2.4,  2.52,  2.67,  2.84,  3.04,  3.25,  3.48,  3.71],\n",
       "       [ 4.22,  3.94,  3.67,   3.4,  3.15,   2.9,  2.67,  2.46,  2.28,  2.12,  2.01,  1.98,  2.02,  2.12,  2.26,  2.43,  2.63,  2.84,  3.07,  3.31,  3.57],\n",
       "       [ 4.02,  3.73,  3.45,  3.17,   2.9,  2.64,   2.4,  2.18,  1.98,  1.81,  1.68,  1.66,  1.73,  1.86,  2.02,  2.21,  2.43,  2.67,  2.91,  3.17,  3.44],\n",
       "       [ 3.83,  3.53,  3.24,  2.95,  2.67,   2.4,  2.14,   1.9,  1.68,  1.49,  1.35,  1.36,  1.45,  1.61,   1.8,  2.02,  2.26,  2.52,  2.78,  3.06,  3.34],\n",
       "       [ 3.66,  3.36,  3.06,  2.76,  2.46,  2.18,   1.9,  1.63,  1.39,  1.18,  1.02,  1.06,  1.19,  1.38,  1.61,  1.86,  2.12,   2.4,  2.68,  2.97,  3.27],\n",
       "       [ 3.52,   3.2,  2.89,  2.58,  2.28,  1.98,  1.68,  1.39,  1.12, 0.875, 0.685, 0.767, 0.953,  1.19,  1.45,  1.73,  2.02,  2.32,  2.62,  2.93,  3.23],\n",
       "       [ 3.39,  3.08,  2.76,  2.44,  2.12,  1.81,  1.49,  1.18, 0.875, 0.587, 0.344, 0.508, 0.767,  1.06,  1.36,  1.66,  1.98,  2.29,  2.61,  2.92,  3.24],\n",
       "       [  3.3,  2.98,  2.66,  2.33,  2.01,  1.68,  1.35,  1.02, 0.685, 0.344,     0, 0.344, 0.685,  1.02,  1.35,  1.68,  2.01,  2.33,  2.66,  2.98,   3.3],\n",
       "       [ 3.24,  2.92,  2.61,  2.29,  1.98,  1.66,  1.36,  1.06, 0.767, 0.508, 0.344, 0.587, 0.875,  1.18,  1.49,  1.81,  2.12,  2.44,  2.76,  3.08,  3.39],\n",
       "       [ 3.23,  2.93,  2.62,  2.32,  2.02,  1.73,  1.45,  1.19, 0.953, 0.767, 0.685, 0.875,  1.12,  1.39,  1.68,  1.98,  2.28,  2.58,  2.89,   3.2,  3.52],\n",
       "       [ 3.27,  2.97,  2.68,   2.4,  2.12,  1.86,  1.61,  1.38,  1.19,  1.06,  1.02,  1.18,  1.39,  1.63,   1.9,  2.18,  2.46,  2.76,  3.06,  3.36,  3.66],\n",
       "       [ 3.34,  3.06,  2.78,  2.52,  2.26,  2.02,   1.8,  1.61,  1.45,  1.36,  1.35,  1.49,  1.68,   1.9,  2.14,   2.4,  2.67,  2.95,  3.24,  3.53,  3.83],\n",
       "       [ 3.44,  3.17,  2.91,  2.67,  2.43,  2.21,  2.02,  1.86,  1.73,  1.66,  1.68,  1.81,  1.98,  2.18,   2.4,  2.64,   2.9,  3.17,  3.45,  3.73,  4.02],\n",
       "       [ 3.57,  3.31,  3.07,  2.84,  2.63,  2.43,  2.26,  2.12,  2.02,  1.98,  2.01,  2.12,  2.28,  2.46,  2.67,   2.9,  3.15,   3.4,  3.67,  3.94,  4.22],\n",
       "       [ 3.71,  3.48,  3.25,  3.04,  2.84,  2.67,  2.52,   2.4,  2.32,  2.29,  2.33,  2.44,  2.58,  2.76,  2.95,  3.17,   3.4,  3.64,   3.9,  4.16,  4.43],\n",
       "       [ 3.88,  3.66,  3.44,  3.25,  3.07,  2.91,  2.78,  2.68,  2.62,  2.61,  2.66,  2.76,  2.89,  3.06,  3.24,  3.45,  3.67,   3.9,  4.14,  4.39,  4.65],\n",
       "       [ 4.06,  3.85,  3.66,  3.48,  3.31,  3.17,  3.06,  2.97,  2.93,  2.92,  2.98,  3.08,   3.2,  3.36,  3.53,  3.73,  3.94,  4.16,  4.39,  4.64,  4.89],\n",
       "       [ 4.26,  4.06,  3.88,  3.71,  3.57,  3.44,  3.34,  3.27,  3.23,  3.24,   3.3,  3.39,  3.52,  3.66,  3.83,  4.02,  4.22,  4.43,  4.65,  4.89,  5.13]])"
      ]
     },
     "execution_count": 45,
     "metadata": {},
     "output_type": "execute_result"
    }
   ],
   "source": [
    "cpuOut['values']"
   ]
  },
  {
   "cell_type": "code",
   "execution_count": 31,
   "metadata": {},
   "outputs": [
    {
     "name": "stdout",
     "output_type": "stream",
     "text": [
      "Casting output of function ones from float64 to float32\n"
     ]
    },
    {
     "data": {
      "text/plain": [
       "cupy.core.core.ndarray"
      ]
     },
     "execution_count": 31,
     "metadata": {},
     "output_type": "execute_result"
    }
   ],
   "source": [
    "type(np.zeros_like(cp.ones(2)))"
   ]
  },
  {
   "cell_type": "code",
   "execution_count": 37,
   "metadata": {},
   "outputs": [
    {
     "data": {
      "text/plain": [
       "'agd.AutomaticDifferentiation.Dense'"
      ]
     },
     "execution_count": 37,
     "metadata": {},
     "output_type": "execute_result"
    }
   ],
   "source": [
    "ad.Dense.identity((2,2)).__module__"
   ]
  },
  {
   "cell_type": "code",
   "execution_count": 32,
   "metadata": {},
   "outputs": [
    {
     "data": {
      "text/plain": [
       "array([], dtype=float64)"
      ]
     },
     "execution_count": 32,
     "metadata": {},
     "output_type": "execute_result"
    }
   ],
   "source": [
    "np.zeros(0)"
   ]
  },
  {
   "cell_type": "code",
   "execution_count": 33,
   "metadata": {},
   "outputs": [
    {
     "data": {
      "text/plain": [
       "array([array(1), array(1)], dtype=object)"
      ]
     },
     "execution_count": 33,
     "metadata": {},
     "output_type": "execute_result"
    }
   ],
   "source": [
    "np.array((cp.array(1),cp.array(1)))"
   ]
  },
  {
   "cell_type": "code",
   "execution_count": 35,
   "metadata": {},
   "outputs": [
    {
     "data": {
      "text/plain": [
       "agd.AutomaticDifferentiation.Dense.denseAD"
      ]
     },
     "execution_count": 35,
     "metadata": {},
     "output_type": "execute_result"
    }
   ],
   "source": [
    "type(ad.Dense.identity((2,2)))"
   ]
  },
  {
   "cell_type": "code",
   "execution_count": 26,
   "metadata": {},
   "outputs": [
    {
     "name": "stdout",
     "output_type": "stream",
     "text": [
      "Casting output of function zeros from float64 to float32\n"
     ]
    },
    {
     "ename": "ValueError",
     "evalue": "object __array__ method not producing an array",
     "output_type": "error",
     "traceback": [
      "\u001b[1;31m---------------------------------------------------------------------------\u001b[0m",
      "\u001b[1;31mValueError\u001b[0m                                Traceback (most recent call last)",
      "\u001b[1;32m<ipython-input-26-dfa9cb65d363>\u001b[0m in \u001b[0;36m<module>\u001b[1;34m\u001b[0m\n\u001b[1;32m----> 1\u001b[1;33m \u001b[0mad\u001b[0m\u001b[1;33m.\u001b[0m\u001b[0mDense\u001b[0m\u001b[1;33m.\u001b[0m\u001b[0midentity\u001b[0m\u001b[1;33m(\u001b[0m\u001b[0mconstant\u001b[0m\u001b[1;33m=\u001b[0m\u001b[0mcp\u001b[0m\u001b[1;33m.\u001b[0m\u001b[0mzeros\u001b[0m\u001b[1;33m(\u001b[0m\u001b[1;36m2\u001b[0m\u001b[1;33m)\u001b[0m\u001b[1;33m)\u001b[0m\u001b[1;33m\u001b[0m\u001b[1;33m\u001b[0m\u001b[0m\n\u001b[0m",
      "\u001b[1;32m~\\Documents\\GitHub\\AdaptiveGridDiscretizations\\agd\\AutomaticDifferentiation\\Dense.py\u001b[0m in \u001b[0;36midentity\u001b[1;34m(shape, shape_free, shape_bound, constant, shift)\u001b[0m\n\u001b[0;32m    287\u001b[0m         \u001b[1;33m(\u001b[0m\u001b[0munless\u001b[0m \u001b[0msome\u001b[0m \u001b[0mare\u001b[0m \u001b[0mtied\u001b[0m \u001b[0mtogether\u001b[0m \u001b[1;32mas\u001b[0m \u001b[0mspecified\u001b[0m \u001b[0mby\u001b[0m \u001b[0mshape_free\u001b[0m \u001b[1;32mand\u001b[0m \u001b[0mshape_bound\u001b[0m\u001b[1;33m)\u001b[0m\u001b[1;33m\u001b[0m\u001b[1;33m\u001b[0m\u001b[0m\n\u001b[0;32m    288\u001b[0m \t\"\"\"\n\u001b[1;32m--> 289\u001b[1;33m         \u001b[0mshape\u001b[0m\u001b[1;33m,\u001b[0m\u001b[0mconstant\u001b[0m \u001b[1;33m=\u001b[0m \u001b[0mmisc\u001b[0m\u001b[1;33m.\u001b[0m\u001b[0m_set_shape_constant\u001b[0m\u001b[1;33m(\u001b[0m\u001b[0mshape\u001b[0m\u001b[1;33m,\u001b[0m\u001b[0mconstant\u001b[0m\u001b[1;33m)\u001b[0m\u001b[1;33m\u001b[0m\u001b[1;33m\u001b[0m\u001b[0m\n\u001b[0m\u001b[0;32m    290\u001b[0m         \u001b[0mshape_free\u001b[0m\u001b[1;33m,\u001b[0m\u001b[0mshape_bound\u001b[0m \u001b[1;33m=\u001b[0m \u001b[0mmisc\u001b[0m\u001b[1;33m.\u001b[0m\u001b[0m_set_shape_free_bound\u001b[0m\u001b[1;33m(\u001b[0m\u001b[0mshape\u001b[0m\u001b[1;33m,\u001b[0m\u001b[0mshape_free\u001b[0m\u001b[1;33m,\u001b[0m\u001b[0mshape_bound\u001b[0m\u001b[1;33m)\u001b[0m\u001b[1;33m\u001b[0m\u001b[1;33m\u001b[0m\u001b[0m\n\u001b[0;32m    291\u001b[0m \u001b[1;33m\u001b[0m\u001b[0m\n",
      "\u001b[1;32m~\\Documents\\GitHub\\AdaptiveGridDiscretizations\\agd\\AutomaticDifferentiation\\misc.py\u001b[0m in \u001b[0;36m_set_shape_constant\u001b[1;34m(shape, constant)\u001b[0m\n\u001b[0;32m     64\u001b[0m         \u001b[1;32melse\u001b[0m\u001b[1;33m:\u001b[0m\u001b[1;33m\u001b[0m\u001b[1;33m\u001b[0m\u001b[0m\n\u001b[0;32m     65\u001b[0m                 \u001b[1;32mif\u001b[0m \u001b[1;32mnot\u001b[0m \u001b[0misinstance\u001b[0m\u001b[1;33m(\u001b[0m\u001b[0mconstant\u001b[0m\u001b[1;33m,\u001b[0m\u001b[0mnp\u001b[0m\u001b[1;33m.\u001b[0m\u001b[0mndarray\u001b[0m\u001b[1;33m)\u001b[0m\u001b[1;33m:\u001b[0m\u001b[1;33m\u001b[0m\u001b[1;33m\u001b[0m\u001b[0m\n\u001b[1;32m---> 66\u001b[1;33m                         \u001b[0mconstant\u001b[0m \u001b[1;33m=\u001b[0m \u001b[0mnp\u001b[0m\u001b[1;33m.\u001b[0m\u001b[0marray\u001b[0m\u001b[1;33m(\u001b[0m\u001b[0mconstant\u001b[0m\u001b[1;33m)\u001b[0m\u001b[1;33m\u001b[0m\u001b[1;33m\u001b[0m\u001b[0m\n\u001b[0m\u001b[0;32m     67\u001b[0m                 \u001b[1;32mif\u001b[0m \u001b[0mshape\u001b[0m \u001b[1;32mis\u001b[0m \u001b[1;32mnot\u001b[0m \u001b[1;32mNone\u001b[0m \u001b[1;32mand\u001b[0m \u001b[0mshape\u001b[0m\u001b[1;33m!=\u001b[0m\u001b[0mconstant\u001b[0m\u001b[1;33m.\u001b[0m\u001b[0mshape\u001b[0m\u001b[1;33m:\u001b[0m\u001b[1;33m\u001b[0m\u001b[1;33m\u001b[0m\u001b[0m\n\u001b[0;32m     68\u001b[0m                         \u001b[1;32mraise\u001b[0m \u001b[0mValueError\u001b[0m\u001b[1;33m(\u001b[0m\u001b[1;34m\"Error : incompatible shape and constant\"\u001b[0m\u001b[1;33m)\u001b[0m\u001b[1;33m\u001b[0m\u001b[1;33m\u001b[0m\u001b[0m\n",
      "\u001b[1;31mValueError\u001b[0m: object __array__ method not producing an array"
     ]
    }
   ],
   "source": [
    "ad.Dense.identity(constant=cp.zeros(2))"
   ]
  },
  {
   "cell_type": "code",
   "execution_count": 25,
   "metadata": {},
   "outputs": [
    {
     "ename": "ValueError",
     "evalue": "object __array__ method not producing an array",
     "output_type": "error",
     "traceback": [
      "\u001b[1;31m---------------------------------------------------------------------------\u001b[0m",
      "\u001b[1;31mValueError\u001b[0m                                Traceback (most recent call last)",
      "\u001b[1;32m<ipython-input-25-80780e4eff92>\u001b[0m in \u001b[0;36m<module>\u001b[1;34m\u001b[0m\n\u001b[1;32m----> 1\u001b[1;33m \u001b[0mad\u001b[0m\u001b[1;33m.\u001b[0m\u001b[0mDense\u001b[0m\u001b[1;33m.\u001b[0m\u001b[0midentity\u001b[0m\u001b[1;33m(\u001b[0m\u001b[0mconstant\u001b[0m\u001b[1;33m=\u001b[0m\u001b[0mX\u001b[0m\u001b[1;33m)\u001b[0m\u001b[1;33m\u001b[0m\u001b[1;33m\u001b[0m\u001b[0m\n\u001b[0m",
      "\u001b[1;32m~\\Documents\\GitHub\\AdaptiveGridDiscretizations\\agd\\AutomaticDifferentiation\\Dense.py\u001b[0m in \u001b[0;36midentity\u001b[1;34m(shape, shape_free, shape_bound, constant, shift)\u001b[0m\n\u001b[0;32m    287\u001b[0m         \u001b[1;33m(\u001b[0m\u001b[0munless\u001b[0m \u001b[0msome\u001b[0m \u001b[0mare\u001b[0m \u001b[0mtied\u001b[0m \u001b[0mtogether\u001b[0m \u001b[1;32mas\u001b[0m \u001b[0mspecified\u001b[0m \u001b[0mby\u001b[0m \u001b[0mshape_free\u001b[0m \u001b[1;32mand\u001b[0m \u001b[0mshape_bound\u001b[0m\u001b[1;33m)\u001b[0m\u001b[1;33m\u001b[0m\u001b[1;33m\u001b[0m\u001b[0m\n\u001b[0;32m    288\u001b[0m \t\"\"\"\n\u001b[1;32m--> 289\u001b[1;33m         \u001b[0mshape\u001b[0m\u001b[1;33m,\u001b[0m\u001b[0mconstant\u001b[0m \u001b[1;33m=\u001b[0m \u001b[0mmisc\u001b[0m\u001b[1;33m.\u001b[0m\u001b[0m_set_shape_constant\u001b[0m\u001b[1;33m(\u001b[0m\u001b[0mshape\u001b[0m\u001b[1;33m,\u001b[0m\u001b[0mconstant\u001b[0m\u001b[1;33m)\u001b[0m\u001b[1;33m\u001b[0m\u001b[1;33m\u001b[0m\u001b[0m\n\u001b[0m\u001b[0;32m    290\u001b[0m         \u001b[0mshape_free\u001b[0m\u001b[1;33m,\u001b[0m\u001b[0mshape_bound\u001b[0m \u001b[1;33m=\u001b[0m \u001b[0mmisc\u001b[0m\u001b[1;33m.\u001b[0m\u001b[0m_set_shape_free_bound\u001b[0m\u001b[1;33m(\u001b[0m\u001b[0mshape\u001b[0m\u001b[1;33m,\u001b[0m\u001b[0mshape_free\u001b[0m\u001b[1;33m,\u001b[0m\u001b[0mshape_bound\u001b[0m\u001b[1;33m)\u001b[0m\u001b[1;33m\u001b[0m\u001b[1;33m\u001b[0m\u001b[0m\n\u001b[0;32m    291\u001b[0m \u001b[1;33m\u001b[0m\u001b[0m\n",
      "\u001b[1;32m~\\Documents\\GitHub\\AdaptiveGridDiscretizations\\agd\\AutomaticDifferentiation\\misc.py\u001b[0m in \u001b[0;36m_set_shape_constant\u001b[1;34m(shape, constant)\u001b[0m\n\u001b[0;32m     64\u001b[0m         \u001b[1;32melse\u001b[0m\u001b[1;33m:\u001b[0m\u001b[1;33m\u001b[0m\u001b[1;33m\u001b[0m\u001b[0m\n\u001b[0;32m     65\u001b[0m                 \u001b[1;32mif\u001b[0m \u001b[1;32mnot\u001b[0m \u001b[0misinstance\u001b[0m\u001b[1;33m(\u001b[0m\u001b[0mconstant\u001b[0m\u001b[1;33m,\u001b[0m\u001b[0mnp\u001b[0m\u001b[1;33m.\u001b[0m\u001b[0mndarray\u001b[0m\u001b[1;33m)\u001b[0m\u001b[1;33m:\u001b[0m\u001b[1;33m\u001b[0m\u001b[1;33m\u001b[0m\u001b[0m\n\u001b[1;32m---> 66\u001b[1;33m                         \u001b[0mconstant\u001b[0m \u001b[1;33m=\u001b[0m \u001b[0mnp\u001b[0m\u001b[1;33m.\u001b[0m\u001b[0marray\u001b[0m\u001b[1;33m(\u001b[0m\u001b[0mconstant\u001b[0m\u001b[1;33m)\u001b[0m\u001b[1;33m\u001b[0m\u001b[1;33m\u001b[0m\u001b[0m\n\u001b[0m\u001b[0;32m     67\u001b[0m                 \u001b[1;32mif\u001b[0m \u001b[0mshape\u001b[0m \u001b[1;32mis\u001b[0m \u001b[1;32mnot\u001b[0m \u001b[1;32mNone\u001b[0m \u001b[1;32mand\u001b[0m \u001b[0mshape\u001b[0m\u001b[1;33m!=\u001b[0m\u001b[0mconstant\u001b[0m\u001b[1;33m.\u001b[0m\u001b[0mshape\u001b[0m\u001b[1;33m:\u001b[0m\u001b[1;33m\u001b[0m\u001b[1;33m\u001b[0m\u001b[0m\n\u001b[0;32m     68\u001b[0m                         \u001b[1;32mraise\u001b[0m \u001b[0mValueError\u001b[0m\u001b[1;33m(\u001b[0m\u001b[1;34m\"Error : incompatible shape and constant\"\u001b[0m\u001b[1;33m)\u001b[0m\u001b[1;33m\u001b[0m\u001b[1;33m\u001b[0m\u001b[0m\n",
      "\u001b[1;31mValueError\u001b[0m: object __array__ method not producing an array"
     ]
    }
   ],
   "source": [
    "ad.Dense.identity(constant=,shape_free=(2,))"
   ]
  },
  {
   "cell_type": "code",
   "execution_count": 24,
   "metadata": {},
   "outputs": [
    {
     "data": {
      "text/plain": [
       "array([[2.28e-14, 4.67e-08, 8.88e-08, 1.22e-07, 1.44e-07, 1.51e-07, 1.44e-07, 1.22e-07, 8.88e-08, 4.67e-08, -2.51e-23, -4.67e-08, -8.88e-08, -1.22e-07, -1.44e-07, -1.51e-07, -1.44e-07, -1.22e-07, -8.88e-08, -4.67e-08, -2.28e-14],\n",
       "       [4.67e-08, 0.0955, 0.182,  0.25, 0.294, 0.309, 0.294,  0.25, 0.182, 0.0955, -5.15e-17, -0.0955, -0.182, -0.25, -0.294, -0.309, -0.294, -0.25, -0.182, -0.0955, -4.67e-08],\n",
       "       [8.88e-08, 0.182, 0.345, 0.476, 0.559, 0.588, 0.559, 0.476, 0.345, 0.182, -9.79e-17, -0.182, -0.345, -0.476, -0.559, -0.588, -0.559, -0.476, -0.345, -0.182, -8.88e-08],\n",
       "       [1.22e-07,  0.25, 0.476, 0.655, 0.769, 0.809, 0.769, 0.655, 0.476,  0.25, -1.35e-16, -0.25, -0.476, -0.655, -0.769, -0.809, -0.769, -0.655, -0.476, -0.25, -1.22e-07],\n",
       "       [1.44e-07, 0.294, 0.559, 0.769, 0.905, 0.951, 0.905, 0.769, 0.559, 0.294, -1.58e-16, -0.294, -0.559, -0.769, -0.905, -0.951, -0.905, -0.769, -0.559, -0.294, -1.44e-07],\n",
       "       [1.51e-07, 0.309, 0.588, 0.809, 0.951,     1, 0.951, 0.809, 0.588, 0.309, -1.67e-16, -0.309, -0.588, -0.809, -0.951,    -1, -0.951, -0.809, -0.588, -0.309, -1.51e-07],\n",
       "       [1.44e-07, 0.294, 0.559, 0.769, 0.905, 0.951, 0.905, 0.769, 0.559, 0.294, -1.58e-16, -0.294, -0.559, -0.769, -0.905, -0.951, -0.905, -0.769, -0.559, -0.294, -1.44e-07],\n",
       "       [1.22e-07,  0.25, 0.476, 0.655, 0.769, 0.809, 0.769, 0.655, 0.476,  0.25, -1.35e-16, -0.25, -0.476, -0.655, -0.769, -0.809, -0.769, -0.655, -0.476, -0.25, -1.22e-07],\n",
       "       [8.88e-08, 0.182, 0.345, 0.476, 0.559, 0.588, 0.559, 0.476, 0.345, 0.182, -9.79e-17, -0.182, -0.345, -0.476, -0.559, -0.588, -0.559, -0.476, -0.345, -0.182, -8.88e-08],\n",
       "       [4.67e-08, 0.0955, 0.182,  0.25, 0.294, 0.309, 0.294,  0.25, 0.182, 0.0955, -5.15e-17, -0.0955, -0.182, -0.25, -0.294, -0.309, -0.294, -0.25, -0.182, -0.0955, -4.67e-08],\n",
       "       [-2.51e-23, -5.15e-17, -9.79e-17, -1.35e-16, -1.58e-16, -1.67e-16, -1.58e-16, -1.35e-16, -9.79e-17, -5.15e-17, 2.77e-32, 5.15e-17, 9.79e-17, 1.35e-16, 1.58e-16, 1.67e-16, 1.58e-16, 1.35e-16, 9.79e-17, 5.15e-17, 2.51e-23],\n",
       "       [-4.67e-08, -0.0955, -0.182, -0.25, -0.294, -0.309, -0.294, -0.25, -0.182, -0.0955, 5.15e-17, 0.0955, 0.182,  0.25, 0.294, 0.309, 0.294,  0.25, 0.182, 0.0955, 4.67e-08],\n",
       "       [-8.88e-08, -0.182, -0.345, -0.476, -0.559, -0.588, -0.559, -0.476, -0.345, -0.182, 9.79e-17, 0.182, 0.345, 0.476, 0.559, 0.588, 0.559, 0.476, 0.345, 0.182, 8.88e-08],\n",
       "       [-1.22e-07, -0.25, -0.476, -0.655, -0.769, -0.809, -0.769, -0.655, -0.476, -0.25, 1.35e-16,  0.25, 0.476, 0.655, 0.769, 0.809, 0.769, 0.655, 0.476,  0.25, 1.22e-07],\n",
       "       [-1.44e-07, -0.294, -0.559, -0.769, -0.905, -0.951, -0.905, -0.769, -0.559, -0.294, 1.58e-16, 0.294, 0.559, 0.769, 0.905, 0.951, 0.905, 0.769, 0.559, 0.294, 1.44e-07],\n",
       "       [-1.51e-07, -0.309, -0.588, -0.809, -0.951,    -1, -0.951, -0.809, -0.588, -0.309, 1.67e-16, 0.309, 0.588, 0.809, 0.951,     1, 0.951, 0.809, 0.588, 0.309, 1.51e-07],\n",
       "       [-1.44e-07, -0.294, -0.559, -0.769, -0.905, -0.951, -0.905, -0.769, -0.559, -0.294, 1.58e-16, 0.294, 0.559, 0.769, 0.905, 0.951, 0.905, 0.769, 0.559, 0.294, 1.44e-07],\n",
       "       [-1.22e-07, -0.25, -0.476, -0.655, -0.769, -0.809, -0.769, -0.655, -0.476, -0.25, 1.35e-16,  0.25, 0.476, 0.655, 0.769, 0.809, 0.769, 0.655, 0.476,  0.25, 1.22e-07],\n",
       "       [-8.88e-08, -0.182, -0.345, -0.476, -0.559, -0.588, -0.559, -0.476, -0.345, -0.182, 9.79e-17, 0.182, 0.345, 0.476, 0.559, 0.588, 0.559, 0.476, 0.345, 0.182, 8.88e-08],\n",
       "       [-4.67e-08, -0.0955, -0.182, -0.25, -0.294, -0.309, -0.294, -0.25, -0.182, -0.0955, 5.15e-17, 0.0955, 0.182,  0.25, 0.294, 0.309, 0.294,  0.25, 0.182, 0.0955, 4.67e-08],\n",
       "       [-2.28e-14, -4.67e-08, -8.88e-08, -1.22e-07, -1.44e-07, -1.51e-07, -1.44e-07, -1.22e-07, -8.88e-08, -4.67e-08, 2.51e-23, 4.67e-08, 8.88e-08, 1.22e-07, 1.44e-07, 1.51e-07, 1.44e-07, 1.22e-07, 8.88e-08, 4.67e-08, 2.28e-14]], dtype=float32)"
      ]
     },
     "execution_count": 24,
     "metadata": {},
     "output_type": "execute_result"
    }
   ],
   "source": [
    "height(X)"
   ]
  },
  {
   "cell_type": "code",
   "execution_count": null,
   "metadata": {},
   "outputs": [],
   "source": [
    "ad.Dense.identity(constant = "
   ]
  }
 ],
 "metadata": {
  "kernelspec": {
   "display_name": "Python 3",
   "language": "python",
   "name": "python3"
  },
  "language_info": {
   "codemirror_mode": {
    "name": "ipython",
    "version": 3
   },
   "file_extension": ".py",
   "mimetype": "text/x-python",
   "name": "python",
   "nbconvert_exporter": "python",
   "pygments_lexer": "ipython3",
   "version": "3.7.6"
  }
 },
 "nbformat": 4,
 "nbformat_minor": 4
}
