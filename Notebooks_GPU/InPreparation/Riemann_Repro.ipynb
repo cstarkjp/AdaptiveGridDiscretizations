{
 "cells": [
  {
   "cell_type": "markdown",
   "metadata": {},
   "source": [
    "# Adaptive PDE discretizations on cartesian grids \n",
    "## Volume : GPU accelerated methods\n",
    "## Part : Reproducibility\n",
    "## Chapter : Riemannian metrics"
   ]
  },
  {
   "cell_type": "markdown",
   "metadata": {},
   "source": [
    "In this notebook, we solve isotropic eikonal equations on the CPU and the GPU, and check that they produce consistent results."
   ]
  },
  {
   "cell_type": "code",
   "execution_count": 5,
   "metadata": {},
   "outputs": [],
   "source": [
    "import sys; sys.path.insert(0,\"../..\")\n",
    "#from Miscellaneous import TocTools; print(TocTools.displayTOC('Isotropic_Repro','GPU'))"
   ]
  },
  {
   "cell_type": "code",
   "execution_count": 6,
   "metadata": {},
   "outputs": [],
   "source": [
    "import cupy as cp\n",
    "import numpy as np\n",
    "import itertools\n",
    "from matplotlib import pyplot as plt\n",
    "np.set_printoptions(edgeitems=30, linewidth=100000, formatter=dict(float=lambda x: \"%5.3g\" % x))"
   ]
  },
  {
   "cell_type": "code",
   "execution_count": 26,
   "metadata": {},
   "outputs": [],
   "source": [
    "from agd import HFMUtils\n",
    "from agd import AutomaticDifferentiation as ad\n",
    "from agd import Metrics\n",
    "import agd.AutomaticDifferentiation.cupy_generic as cugen\n",
    "norm_infinity = ad.Optimization.norm_infinity\n",
    "from agd.HFMUtils import RunGPU,RunSmart"
   ]
  },
  {
   "cell_type": "code",
   "execution_count": 28,
   "metadata": {},
   "outputs": [],
   "source": [
    "def ReloadPackages():\n",
    "    from Miscellaneous.rreload import rreload\n",
    "    global HFMUtils,ad,cugen,RunGPU,Metrics\n",
    "    HFMUtils,ad,cugen,RunGPU,Metrics = rreload([HFMUtils,ad,cugen,RunGPU,Metrics],\"../..\")    "
   ]
  },
  {
   "cell_type": "code",
   "execution_count": 29,
   "metadata": {},
   "outputs": [],
   "source": [
    "cp = cugen.decorate_module_functions(cp,cugen.set_output_dtype32) # Use float32 and int32 types in place of float64 and int64\n",
    "plt = cugen.decorate_module_functions(plt,cugen.cupy_get_args)\n",
    "RunSmart = cugen.cupy_get_args(RunSmart,dtype64=True,iterables=(dict,))"
   ]
  },
  {
   "cell_type": "code",
   "execution_count": 30,
   "metadata": {},
   "outputs": [],
   "source": [
    "from Notebooks_GPU.ExportedCode.Isotropic_Repro import RunCompare"
   ]
  },
  {
   "cell_type": "markdown",
   "metadata": {},
   "source": [
    "## 1. Two dimensions"
   ]
  },
  {
   "cell_type": "code",
   "execution_count": 31,
   "metadata": {},
   "outputs": [],
   "source": [
    "ReloadPackages()"
   ]
  },
  {
   "cell_type": "code",
   "execution_count": 32,
   "metadata": {},
   "outputs": [
    {
     "name": "stdout",
     "output_type": "stream",
     "text": [
      "Casting output of function eye from float64 to float32\n"
     ]
    }
   ],
   "source": [
    "n=200\n",
    "hfmIn = HFMUtils.dictIn({\n",
    "    'model':'Riemann2',\n",
    "    'metric':Metrics.Riemann(cp.eye(2)),\n",
    "    'seeds':[[0,0]],\n",
    "    'exportValues':1\n",
    "})\n",
    "hfmIn.SetRect([[0,1],[0,1]],dimx=n)"
   ]
  },
  {
   "cell_type": "code",
   "execution_count": 33,
   "metadata": {},
   "outputs": [
    {
     "name": "stdout",
     "output_type": "stream",
     "text": [
      "Setting the kernel traits.\n",
      "Prepating the domain data (shape,metric,...)\n",
      "Preparing the values array (setting seeds,...)\n",
      "Preparing the GPU kernel\n"
     ]
    },
    {
     "ename": "CompileException",
     "evalue": "C:\\Users\\Shadow\\Documents\\GitHub\\AdaptiveGridDiscretizations\\agd\\HFMUtils\\HFM_CUDA\\cuda\\Constants.h(4): error: identifier \"nsym\" is undefined\n\nC:\\Users\\Shadow\\Documents\\GitHub\\AdaptiveGridDiscretizations\\agd\\HFMUtils\\HFM_CUDA\\cuda\\Constants.h(4): error: identifier \"nfwd\" is undefined\n\nC:\\Users\\Shadow\\AppData\\Local\\Temp\\tmpkm7czrrc\\c2257e35c3bf0a80d49bc4e31dc96001_2.cubin.cu(12): warning: variable \"Int_MAX\" was declared but never referenced\n\n2 errors detected in the compilation of \"C:\\Users\\Shadow\\AppData\\Local\\Temp\\tmpkm7czrrc\\c2257e35c3bf0a80d49bc4e31dc96001_2.cubin.cu\".\n",
     "output_type": "error",
     "traceback": [
      "\u001b[1;31m---------------------------------------------------------------------------\u001b[0m",
      "\u001b[1;31mNVRTCError\u001b[0m                                Traceback (most recent call last)",
      "\u001b[1;32m~\\Miniconda3\\envs\\gpuenv\\lib\\site-packages\\cupy\\cuda\\compiler.py\u001b[0m in \u001b[0;36mcompile\u001b[1;34m(self, options)\u001b[0m\n\u001b[0;32m    241\u001b[0m         \u001b[1;32mtry\u001b[0m\u001b[1;33m:\u001b[0m\u001b[1;33m\u001b[0m\u001b[1;33m\u001b[0m\u001b[0m\n\u001b[1;32m--> 242\u001b[1;33m             \u001b[0mnvrtc\u001b[0m\u001b[1;33m.\u001b[0m\u001b[0mcompileProgram\u001b[0m\u001b[1;33m(\u001b[0m\u001b[0mself\u001b[0m\u001b[1;33m.\u001b[0m\u001b[0mptr\u001b[0m\u001b[1;33m,\u001b[0m \u001b[0moptions\u001b[0m\u001b[1;33m)\u001b[0m\u001b[1;33m\u001b[0m\u001b[1;33m\u001b[0m\u001b[0m\n\u001b[0m\u001b[0;32m    243\u001b[0m             \u001b[1;32mreturn\u001b[0m \u001b[0mnvrtc\u001b[0m\u001b[1;33m.\u001b[0m\u001b[0mgetPTX\u001b[0m\u001b[1;33m(\u001b[0m\u001b[0mself\u001b[0m\u001b[1;33m.\u001b[0m\u001b[0mptr\u001b[0m\u001b[1;33m)\u001b[0m\u001b[1;33m\u001b[0m\u001b[1;33m\u001b[0m\u001b[0m\n",
      "\u001b[1;32mcupy\\cuda\\nvrtc.pyx\u001b[0m in \u001b[0;36mcupy.cuda.nvrtc.compileProgram\u001b[1;34m()\u001b[0m\n",
      "\u001b[1;32mcupy\\cuda\\nvrtc.pyx\u001b[0m in \u001b[0;36mcupy.cuda.nvrtc.compileProgram\u001b[1;34m()\u001b[0m\n",
      "\u001b[1;32mcupy\\cuda\\nvrtc.pyx\u001b[0m in \u001b[0;36mcupy.cuda.nvrtc.check_status\u001b[1;34m()\u001b[0m\n",
      "\u001b[1;31mNVRTCError\u001b[0m: NVRTC_ERROR_COMPILATION (6)",
      "\nDuring handling of the above exception, another exception occurred:\n",
      "\u001b[1;31mCompileException\u001b[0m                          Traceback (most recent call last)",
      "\u001b[1;32m<ipython-input-33-506d8497f67c>\u001b[0m in \u001b[0;36m<module>\u001b[1;34m\u001b[0m\n\u001b[1;32m----> 1\u001b[1;33m \u001b[0mRunGPU\u001b[0m\u001b[1;33m(\u001b[0m\u001b[0mhfmIn\u001b[0m\u001b[1;33m)\u001b[0m\u001b[1;33m\u001b[0m\u001b[1;33m\u001b[0m\u001b[0m\n\u001b[0m",
      "\u001b[1;32m~\\Documents\\GitHub\\AdaptiveGridDiscretizations\\agd\\HFMUtils\\__init__.py\u001b[0m in \u001b[0;36mRunGPU\u001b[1;34m(*args, **kwargs)\u001b[0m\n\u001b[0;32m     22\u001b[0m \u001b[1;32mdef\u001b[0m \u001b[0mRunGPU\u001b[0m\u001b[1;33m(\u001b[0m\u001b[1;33m*\u001b[0m\u001b[0margs\u001b[0m\u001b[1;33m,\u001b[0m\u001b[1;33m**\u001b[0m\u001b[0mkwargs\u001b[0m\u001b[1;33m)\u001b[0m\u001b[1;33m:\u001b[0m\u001b[1;33m\u001b[0m\u001b[1;33m\u001b[0m\u001b[0m\n\u001b[0;32m     23\u001b[0m         \u001b[1;32mfrom\u001b[0m \u001b[1;33m.\u001b[0m \u001b[1;32mimport\u001b[0m \u001b[0mHFM_CUDA\u001b[0m\u001b[1;33m\u001b[0m\u001b[1;33m\u001b[0m\u001b[0m\n\u001b[1;32m---> 24\u001b[1;33m         \u001b[1;32mreturn\u001b[0m \u001b[0mHFM_CUDA\u001b[0m\u001b[1;33m.\u001b[0m\u001b[0mRunGPU\u001b[0m\u001b[1;33m(\u001b[0m\u001b[1;33m*\u001b[0m\u001b[0margs\u001b[0m\u001b[1;33m,\u001b[0m\u001b[1;33m**\u001b[0m\u001b[0mkwargs\u001b[0m\u001b[1;33m)\u001b[0m\u001b[1;33m\u001b[0m\u001b[1;33m\u001b[0m\u001b[0m\n\u001b[0m\u001b[0;32m     25\u001b[0m \u001b[1;33m\u001b[0m\u001b[0m\n\u001b[0;32m     26\u001b[0m \u001b[1;32mdef\u001b[0m \u001b[0mVoronoiDecomposition\u001b[0m\u001b[1;33m(\u001b[0m\u001b[0marr\u001b[0m\u001b[1;33m)\u001b[0m\u001b[1;33m:\u001b[0m\u001b[1;33m\u001b[0m\u001b[1;33m\u001b[0m\u001b[0m\n",
      "\u001b[1;32m~\\Documents\\GitHub\\AdaptiveGridDiscretizations\\agd\\HFMUtils\\HFM_CUDA\\__init__.py\u001b[0m in \u001b[0;36mRunGPU\u001b[1;34m(hfmIn, *args, **kwargs)\u001b[0m\n\u001b[0;32m      2\u001b[0m \u001b[1;33m\u001b[0m\u001b[0m\n\u001b[0;32m      3\u001b[0m \u001b[1;32mdef\u001b[0m \u001b[0mRunGPU\u001b[0m\u001b[1;33m(\u001b[0m\u001b[0mhfmIn\u001b[0m\u001b[1;33m,\u001b[0m\u001b[1;33m*\u001b[0m\u001b[0margs\u001b[0m\u001b[1;33m,\u001b[0m\u001b[1;33m**\u001b[0m\u001b[0mkwargs\u001b[0m\u001b[1;33m)\u001b[0m\u001b[1;33m:\u001b[0m\u001b[1;33m\u001b[0m\u001b[1;33m\u001b[0m\u001b[0m\n\u001b[1;32m----> 4\u001b[1;33m         \u001b[1;32mreturn\u001b[0m \u001b[0minterface\u001b[0m\u001b[1;33m.\u001b[0m\u001b[0mInterface\u001b[0m\u001b[1;33m(\u001b[0m\u001b[0mhfmIn\u001b[0m\u001b[1;33m)\u001b[0m\u001b[1;33m.\u001b[0m\u001b[0mRun\u001b[0m\u001b[1;33m(\u001b[0m\u001b[1;33m*\u001b[0m\u001b[0margs\u001b[0m\u001b[1;33m,\u001b[0m\u001b[1;33m**\u001b[0m\u001b[0mkwargs\u001b[0m\u001b[1;33m)\u001b[0m\u001b[1;33m\u001b[0m\u001b[1;33m\u001b[0m\u001b[0m\n\u001b[0m",
      "\u001b[1;32m~\\Documents\\GitHub\\AdaptiveGridDiscretizations\\agd\\HFMUtils\\HFM_CUDA\\interface.py\u001b[0m in \u001b[0;36mRun\u001b[1;34m(self, returns)\u001b[0m\n\u001b[0;32m     93\u001b[0m                 \u001b[0mself\u001b[0m\u001b[1;33m.\u001b[0m\u001b[0mSetGeometry\u001b[0m\u001b[1;33m(\u001b[0m\u001b[1;33m)\u001b[0m\u001b[1;33m\u001b[0m\u001b[1;33m\u001b[0m\u001b[0m\n\u001b[0;32m     94\u001b[0m                 \u001b[0mself\u001b[0m\u001b[1;33m.\u001b[0m\u001b[0mSetValuesArray\u001b[0m\u001b[1;33m(\u001b[0m\u001b[1;33m)\u001b[0m\u001b[1;33m\u001b[0m\u001b[1;33m\u001b[0m\u001b[0m\n\u001b[1;32m---> 95\u001b[1;33m                 \u001b[0mself\u001b[0m\u001b[1;33m.\u001b[0m\u001b[0mSetKernel\u001b[0m\u001b[1;33m(\u001b[0m\u001b[1;33m)\u001b[0m\u001b[1;33m\u001b[0m\u001b[1;33m\u001b[0m\u001b[0m\n\u001b[0m\u001b[0;32m     96\u001b[0m                 \u001b[0mself\u001b[0m\u001b[1;33m.\u001b[0m\u001b[0mSetSolver\u001b[0m\u001b[1;33m(\u001b[0m\u001b[1;33m)\u001b[0m\u001b[1;33m\u001b[0m\u001b[1;33m\u001b[0m\u001b[0m\n\u001b[0;32m     97\u001b[0m                 \u001b[0mself\u001b[0m\u001b[1;33m.\u001b[0m\u001b[0mPostProcess\u001b[0m\u001b[1;33m(\u001b[0m\u001b[1;33m)\u001b[0m\u001b[1;33m\u001b[0m\u001b[1;33m\u001b[0m\u001b[0m\n",
      "\u001b[1;32m~\\Documents\\GitHub\\AdaptiveGridDiscretizations\\agd\\HFMUtils\\HFM_CUDA\\interface.py\u001b[0m in \u001b[0;36mSetKernel\u001b[1;34m(self)\u001b[0m\n\u001b[0;32m    341\u001b[0m \t\t\thelp=\"Options passed via cupy.RawKernel to the cuda compiler\")\n\u001b[0;32m    342\u001b[0m \u001b[1;33m\u001b[0m\u001b[0m\n\u001b[1;32m--> 343\u001b[1;33m                 \u001b[0mself\u001b[0m\u001b[1;33m.\u001b[0m\u001b[0mmodule\u001b[0m \u001b[1;33m=\u001b[0m \u001b[0mGetModule\u001b[0m\u001b[1;33m(\u001b[0m\u001b[0mself\u001b[0m\u001b[1;33m.\u001b[0m\u001b[0msource\u001b[0m\u001b[1;33m,\u001b[0m\u001b[0mcuoptions\u001b[0m\u001b[1;33m)\u001b[0m\u001b[1;33m\u001b[0m\u001b[1;33m\u001b[0m\u001b[0m\n\u001b[0m\u001b[0;32m    344\u001b[0m                 \u001b[0mmod\u001b[0m \u001b[1;33m=\u001b[0m \u001b[0mself\u001b[0m\u001b[1;33m.\u001b[0m\u001b[0mmodule\u001b[0m\u001b[1;33m\u001b[0m\u001b[1;33m\u001b[0m\u001b[0m\n\u001b[0;32m    345\u001b[0m \u001b[1;33m\u001b[0m\u001b[0m\n",
      "\u001b[1;32m~\\Documents\\GitHub\\AdaptiveGridDiscretizations\\agd\\HFMUtils\\HFM_CUDA\\cupy_module_helper.py\u001b[0m in \u001b[0;36mGetModule\u001b[1;34m(source, cuoptions)\u001b[0m\n\u001b[0;32m     24\u001b[0m         \u001b[1;32mif\u001b[0m \u001b[0mhas_rawmodule\u001b[0m\u001b[1;33m:\u001b[0m \u001b[1;32mreturn\u001b[0m \u001b[0mcupy\u001b[0m\u001b[1;33m.\u001b[0m\u001b[0mRawModule\u001b[0m\u001b[1;33m(\u001b[0m\u001b[0msource\u001b[0m\u001b[1;33m,\u001b[0m\u001b[0moptions\u001b[0m\u001b[1;33m=\u001b[0m\u001b[0mcuoptions\u001b[0m\u001b[1;33m)\u001b[0m\u001b[1;33m\u001b[0m\u001b[1;33m\u001b[0m\u001b[0m\n\u001b[0;32m     25\u001b[0m \telse: return cupy.core.core.compile_with_cache(source, \n\u001b[1;32m---> 26\u001b[1;33m \t\toptions=cuoptions, prepend_cupy_headers=False)\n\u001b[0m\u001b[0;32m     27\u001b[0m \u001b[1;33m\u001b[0m\u001b[0m\n\u001b[0;32m     28\u001b[0m \u001b[1;33m\u001b[0m\u001b[0m\n",
      "\u001b[1;32mcupy\\core\\carray.pxi\u001b[0m in \u001b[0;36mcupy.core.core.compile_with_cache\u001b[1;34m()\u001b[0m\n",
      "\u001b[1;32mcupy\\core\\carray.pxi\u001b[0m in \u001b[0;36mcupy.core.core.compile_with_cache\u001b[1;34m()\u001b[0m\n",
      "\u001b[1;32m~\\Miniconda3\\envs\\gpuenv\\lib\\site-packages\\cupy\\cuda\\compiler.py\u001b[0m in \u001b[0;36mcompile_with_cache\u001b[1;34m(source, options, arch, cache_dir, extra_source)\u001b[0m\n\u001b[0;32m    163\u001b[0m                 \u001b[1;32mreturn\u001b[0m \u001b[0mmod\u001b[0m\u001b[1;33m\u001b[0m\u001b[1;33m\u001b[0m\u001b[0m\n\u001b[0;32m    164\u001b[0m \u001b[1;33m\u001b[0m\u001b[0m\n\u001b[1;32m--> 165\u001b[1;33m     \u001b[0mptx\u001b[0m \u001b[1;33m=\u001b[0m \u001b[0mcompile_using_nvrtc\u001b[0m\u001b[1;33m(\u001b[0m\u001b[0msource\u001b[0m\u001b[1;33m,\u001b[0m \u001b[0moptions\u001b[0m\u001b[1;33m,\u001b[0m \u001b[0march\u001b[0m\u001b[1;33m,\u001b[0m \u001b[0mname\u001b[0m \u001b[1;33m+\u001b[0m \u001b[1;34m'.cu'\u001b[0m\u001b[1;33m)\u001b[0m\u001b[1;33m\u001b[0m\u001b[1;33m\u001b[0m\u001b[0m\n\u001b[0m\u001b[0;32m    166\u001b[0m     \u001b[0mls\u001b[0m \u001b[1;33m=\u001b[0m \u001b[0mfunction\u001b[0m\u001b[1;33m.\u001b[0m\u001b[0mLinkState\u001b[0m\u001b[1;33m(\u001b[0m\u001b[1;33m)\u001b[0m\u001b[1;33m\u001b[0m\u001b[1;33m\u001b[0m\u001b[0m\n\u001b[0;32m    167\u001b[0m     \u001b[0mls\u001b[0m\u001b[1;33m.\u001b[0m\u001b[0madd_ptr_data\u001b[0m\u001b[1;33m(\u001b[0m\u001b[0mptx\u001b[0m\u001b[1;33m,\u001b[0m \u001b[1;34mu'cupy.ptx'\u001b[0m\u001b[1;33m)\u001b[0m\u001b[1;33m\u001b[0m\u001b[1;33m\u001b[0m\u001b[0m\n",
      "\u001b[1;32m~\\Miniconda3\\envs\\gpuenv\\lib\\site-packages\\cupy\\cuda\\compiler.py\u001b[0m in \u001b[0;36mcompile_using_nvrtc\u001b[1;34m(source, options, arch, filename)\u001b[0m\n\u001b[0;32m     79\u001b[0m         \u001b[0mprog\u001b[0m \u001b[1;33m=\u001b[0m \u001b[0m_NVRTCProgram\u001b[0m\u001b[1;33m(\u001b[0m\u001b[0msource\u001b[0m\u001b[1;33m,\u001b[0m \u001b[0mcu_path\u001b[0m\u001b[1;33m)\u001b[0m\u001b[1;33m\u001b[0m\u001b[1;33m\u001b[0m\u001b[0m\n\u001b[0;32m     80\u001b[0m         \u001b[1;32mtry\u001b[0m\u001b[1;33m:\u001b[0m\u001b[1;33m\u001b[0m\u001b[1;33m\u001b[0m\u001b[0m\n\u001b[1;32m---> 81\u001b[1;33m             \u001b[0mptx\u001b[0m \u001b[1;33m=\u001b[0m \u001b[0mprog\u001b[0m\u001b[1;33m.\u001b[0m\u001b[0mcompile\u001b[0m\u001b[1;33m(\u001b[0m\u001b[0moptions\u001b[0m\u001b[1;33m)\u001b[0m\u001b[1;33m\u001b[0m\u001b[1;33m\u001b[0m\u001b[0m\n\u001b[0m\u001b[0;32m     82\u001b[0m         \u001b[1;32mexcept\u001b[0m \u001b[0mCompileException\u001b[0m \u001b[1;32mas\u001b[0m \u001b[0me\u001b[0m\u001b[1;33m:\u001b[0m\u001b[1;33m\u001b[0m\u001b[1;33m\u001b[0m\u001b[0m\n\u001b[0;32m     83\u001b[0m             dump = _get_bool_env_variable(\n",
      "\u001b[1;32m~\\Miniconda3\\envs\\gpuenv\\lib\\site-packages\\cupy\\cuda\\compiler.py\u001b[0m in \u001b[0;36mcompile\u001b[1;34m(self, options)\u001b[0m\n\u001b[0;32m    244\u001b[0m         \u001b[1;32mexcept\u001b[0m \u001b[0mnvrtc\u001b[0m\u001b[1;33m.\u001b[0m\u001b[0mNVRTCError\u001b[0m\u001b[1;33m:\u001b[0m\u001b[1;33m\u001b[0m\u001b[1;33m\u001b[0m\u001b[0m\n\u001b[0;32m    245\u001b[0m             \u001b[0mlog\u001b[0m \u001b[1;33m=\u001b[0m \u001b[0mnvrtc\u001b[0m\u001b[1;33m.\u001b[0m\u001b[0mgetProgramLog\u001b[0m\u001b[1;33m(\u001b[0m\u001b[0mself\u001b[0m\u001b[1;33m.\u001b[0m\u001b[0mptr\u001b[0m\u001b[1;33m)\u001b[0m\u001b[1;33m\u001b[0m\u001b[1;33m\u001b[0m\u001b[0m\n\u001b[1;32m--> 246\u001b[1;33m             \u001b[1;32mraise\u001b[0m \u001b[0mCompileException\u001b[0m\u001b[1;33m(\u001b[0m\u001b[0mlog\u001b[0m\u001b[1;33m,\u001b[0m \u001b[0mself\u001b[0m\u001b[1;33m.\u001b[0m\u001b[0msrc\u001b[0m\u001b[1;33m,\u001b[0m \u001b[0mself\u001b[0m\u001b[1;33m.\u001b[0m\u001b[0mname\u001b[0m\u001b[1;33m,\u001b[0m \u001b[0moptions\u001b[0m\u001b[1;33m)\u001b[0m\u001b[1;33m\u001b[0m\u001b[1;33m\u001b[0m\u001b[0m\n\u001b[0m\u001b[0;32m    247\u001b[0m \u001b[1;33m\u001b[0m\u001b[0m\n\u001b[0;32m    248\u001b[0m \u001b[1;33m\u001b[0m\u001b[0m\n",
      "\u001b[1;31mCompileException\u001b[0m: C:\\Users\\Shadow\\Documents\\GitHub\\AdaptiveGridDiscretizations\\agd\\HFMUtils\\HFM_CUDA\\cuda\\Constants.h(4): error: identifier \"nsym\" is undefined\n\nC:\\Users\\Shadow\\Documents\\GitHub\\AdaptiveGridDiscretizations\\agd\\HFMUtils\\HFM_CUDA\\cuda\\Constants.h(4): error: identifier \"nfwd\" is undefined\n\nC:\\Users\\Shadow\\AppData\\Local\\Temp\\tmpkm7czrrc\\c2257e35c3bf0a80d49bc4e31dc96001_2.cubin.cu(12): warning: variable \"Int_MAX\" was declared but never referenced\n\n2 errors detected in the compilation of \"C:\\Users\\Shadow\\AppData\\Local\\Temp\\tmpkm7czrrc\\c2257e35c3bf0a80d49bc4e31dc96001_2.cubin.cu\".\n"
     ]
    }
   ],
   "source": [
    "RunGPU(hfmIn)"
   ]
  },
  {
   "cell_type": "code",
   "execution_count": 22,
   "metadata": {},
   "outputs": [
    {
     "data": {
      "text/plain": [
       "True"
      ]
     },
     "execution_count": 22,
     "metadata": {},
     "output_type": "execute_result"
    }
   ],
   "source": [
    "np.isscalar(1.)"
   ]
  },
  {
   "cell_type": "code",
   "execution_count": null,
   "metadata": {},
   "outputs": [],
   "source": []
  }
 ],
 "metadata": {
  "kernelspec": {
   "display_name": "Python 3",
   "language": "python",
   "name": "python3"
  },
  "language_info": {
   "codemirror_mode": {
    "name": "ipython",
    "version": 3
   },
   "file_extension": ".py",
   "mimetype": "text/x-python",
   "name": "python",
   "nbconvert_exporter": "python",
   "pygments_lexer": "ipython3",
   "version": "3.7.6"
  }
 },
 "nbformat": 4,
 "nbformat_minor": 4
}
