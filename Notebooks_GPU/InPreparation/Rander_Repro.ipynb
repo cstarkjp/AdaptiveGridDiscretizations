{
 "cells": [
  {
   "cell_type": "markdown",
   "metadata": {},
   "source": [
    "# Adaptive PDE discretizations on cartesian grids \n",
    "## Volume : GPU accelerated methods\n",
    "## Part : Reproducibility\n",
    "## Chapter : Rander metrics"
   ]
  },
  {
   "cell_type": "markdown",
   "metadata": {},
   "source": [
    "In this notebook, we solve Rander eikonal equations on the CPU and the GPU, and check that they produce consistent results.\n",
    "\n",
    "*Note on the numerical schemes*: The numerical schemes solved by the CPU and GPU in the Rander case are entirely different. The CPU version uses a causal semi-Lagrangian scheme, two dimensional only, whereas the GPU version uses a non-causal (yet monotone) Eulerian scheme, in two and three dimensions."
   ]
  },
  {
   "cell_type": "markdown",
   "metadata": {},
   "source": [
    "## 0. Importing the required libraries"
   ]
  },
  {
   "cell_type": "code",
   "execution_count": 1,
   "metadata": {},
   "outputs": [],
   "source": [
    "import sys; sys.path.insert(0,\"../..\")\n",
    "#from Miscellaneous import TocTools; print(TocTools.displayTOC('Isotropic_Repro','GPU'))"
   ]
  },
  {
   "cell_type": "code",
   "execution_count": 2,
   "metadata": {},
   "outputs": [],
   "source": [
    "import cupy as cp\n",
    "import numpy as np\n",
    "import itertools\n",
    "from matplotlib import pyplot as plt\n",
    "np.set_printoptions(edgeitems=30, linewidth=100000, formatter=dict(float=lambda x: \"%5.3g\" % x))"
   ]
  },
  {
   "cell_type": "code",
   "execution_count": 3,
   "metadata": {},
   "outputs": [],
   "source": [
    "from agd import HFMUtils\n",
    "from agd import AutomaticDifferentiation as ad\n",
    "from agd import Metrics\n",
    "from agd import FiniteDifferences as fd\n",
    "from agd import LinearParallel as lp\n",
    "import agd.AutomaticDifferentiation.cupy_generic as cugen\n",
    "\n",
    "norm_infinity = ad.Optimization.norm_infinity\n",
    "from agd.HFMUtils import RunGPU,RunSmart"
   ]
  },
  {
   "cell_type": "code",
   "execution_count": 4,
   "metadata": {},
   "outputs": [],
   "source": [
    "def ReloadPackages():\n",
    "    from Miscellaneous.rreload import rreload\n",
    "    global HFMUtils,ad,cugen,RunGPU,RunSmart,Metrics\n",
    "    HFMUtils,ad,cugen,RunGPU,Metrics = rreload([HFMUtils,ad,cugen,RunGPU,Metrics],\"../..\")    \n",
    "    RunSmart = cugen.cupy_get_args(HFMUtils.RunSmart,dtype64=True,iterables=(dict,Metrics.Base))"
   ]
  },
  {
   "cell_type": "code",
   "execution_count": 5,
   "metadata": {},
   "outputs": [],
   "source": [
    "cp = ad.functional.decorate_module_functions(cp,cugen.set_output_dtype32) # Use float32 and int32 types in place of float64 and int64\n",
    "plt = ad.functional.decorate_module_functions(plt,cugen.cupy_get_args)\n",
    "RunSmart = cugen.cupy_get_args(RunSmart,dtype64=True,iterables=(dict,Metrics.Base))"
   ]
  },
  {
   "cell_type": "markdown",
   "metadata": {},
   "source": [
    "### 0.1 Utilities"
   ]
  },
  {
   "cell_type": "code",
   "execution_count": 6,
   "metadata": {},
   "outputs": [],
   "source": [
    "#from Notebooks_GPU.ExportedCode.Isotropic_Repro import RunCompare\n",
    "def RunCompare(gpuIn,check=True):\n",
    "    gpuOut = RunGPU(gpuIn)\n",
    "    if gpuIn.get('verbosity',1): print(\"---\")\n",
    "    cpuIn = gpuIn.copy(); cpuIn.pop('traits',None)\n",
    "    cpuOut = RunSmart(cpuIn)\n",
    "    print(\"Max |gpuValues-cpuValues| : \", norm_infinity(gpuOut['values'].get()-cpuOut['values']))\n",
    "    cpuTime = cpuOut['FMCPUTime']; gpuTime = gpuOut['solverGPUTime'];\n",
    "    print(f\"Solver time (s). GPU : {gpuTime}, CPU : {cpuTime}. Device acceleration : {cpuTime/gpuTime}\")\n",
    "    assert not check or cp.allclose(gpuOut['values'],cpuOut['values'],atol=1e-5,rtol=1e-4)\n",
    "    return gpuOut,cpuOut"
   ]
  },
  {
   "cell_type": "code",
   "execution_count": 7,
   "metadata": {},
   "outputs": [],
   "source": [
    "factor_variants = [\n",
    "    {}, # Default\n",
    "    {\"seedRadius\":2}, # Spread seed information\n",
    "    {\"factorizationRadius\":10,'factorizationPointChoice':'Key'} # Source factorization\n",
    "]\n",
    "multip_variants = [\n",
    "    {'multiprecision':False}, # Default\n",
    "    {'multiprecision':True}, # Reduces roundoff errors\n",
    "]\n",
    "order_variants = [\n",
    "    {'order':1}, # Default\n",
    "    {'order':2}, # More accurate on smooth instances\n",
    "]"
   ]
  },
  {
   "cell_type": "markdown",
   "metadata": {},
   "source": [
    "## 1. Two dimensions"
   ]
  },
  {
   "cell_type": "markdown",
   "metadata": {},
   "source": [
    "### 1.1 Constant metric"
   ]
  },
  {
   "cell_type": "code",
   "execution_count": 40,
   "metadata": {},
   "outputs": [],
   "source": [
    "ReloadPackages()"
   ]
  },
  {
   "cell_type": "code",
   "execution_count": 41,
   "metadata": {},
   "outputs": [
    {
     "name": "stdout",
     "output_type": "stream",
     "text": [
      "Casting output of function array from float64 to float32\n",
      "Casting output of function eye from float64 to float32\n",
      "Casting output of function array from float64 to float32\n"
     ]
    }
   ],
   "source": [
    "n=7\n",
    "hfmIn = HFMUtils.dictIn({\n",
    "    'model':'Rander2',\n",
    "    'seeds':cp.array([[0.,0.]]),\n",
    "    'exportValues':1,\n",
    "    'nitermax_o':1,\n",
    "    'raiseOnNonConvergence':False,\n",
    "    'traits':{\n",
    "        'niter_i':16,'shape_i':(8,8), # Best\n",
    "    }\n",
    "})\n",
    "hfmIn.SetRect([[-1,1],[-1,1]],dimx=n+1)\n",
    "hfmIn['metric'] = Metrics.Rander(cp.eye(2),cp.array([0,0.5]) )"
   ]
  },
  {
   "cell_type": "code",
   "execution_count": 42,
   "metadata": {},
   "outputs": [
    {
     "data": {
      "text/plain": [
       "array([   -0, -0.667], dtype=float32)"
      ]
     },
     "execution_count": 42,
     "metadata": {},
     "output_type": "execute_result"
    }
   ],
   "source": [
    "metric=hfmIn['metric']\n",
    "metric.dual().w"
   ]
  },
  {
   "cell_type": "code",
   "execution_count": 43,
   "metadata": {},
   "outputs": [
    {
     "name": "stdout",
     "output_type": "stream",
     "text": [
      "Setting the kernel traits.\n",
      "Prepating the domain data (shape,metric,...)\n",
      "Preparing the values array (setting seeds,...)\n",
      "Preparing the GPU kernel\n",
      "Setup and run the eikonal solver\n",
      "Setting solver drift\n",
      "(2,)\n",
      "0.03125\n",
      "[   16     0    16]\n",
      "[    0 0.125]\n",
      "['values', 'geom', 'drift', 'seedTags']\n",
      "---- Warning ----\n",
      " Solver AGSI did not reach convergence after maximum allowed number 1 of iterations \n",
      "-----------------\n",
      "\n",
      "GPU solve took 0.0015034675598144531 seconds, in 1 iterations.\n",
      "Post-Processing\n"
     ]
    }
   ],
   "source": [
    "gpuOut = RunGPU(hfmIn)"
   ]
  },
  {
   "cell_type": "code",
   "execution_count": 39,
   "metadata": {},
   "outputs": [
    {
     "data": {
      "text/plain": [
       "array([[  2.9,   inf,   2.9,   inf,   2.9,   inf,   2.9,   inf],\n",
       "       [  inf,   2.9,   inf,   2.9,   inf,   2.9,   inf,   2.9],\n",
       "       [  2.9,   inf,   2.9,   inf,   2.9,   inf,   2.9,   inf],\n",
       "       [  inf,   2.9,   inf,   2.9,   inf,   2.9,   inf,   2.9],\n",
       "       [  2.9,   inf,   2.9,   inf,   2.9,   inf,   2.9,   inf],\n",
       "       [  inf,   2.9,   inf,   2.9,   inf,   2.9,   inf,   2.9],\n",
       "       [  2.9,   inf,   2.9,   inf,   2.9,   inf,   2.9,   inf],\n",
       "       [  inf,   2.9,   inf,   2.9,   inf,   2.9,   inf,   2.9]], dtype=float32)"
      ]
     },
     "execution_count": 39,
     "metadata": {},
     "output_type": "execute_result"
    }
   ],
   "source": [
    "gpuOut['values']"
   ]
  },
  {
   "cell_type": "markdown",
   "metadata": {},
   "source": [
    "## 1.2 Zermelo problem"
   ]
  },
  {
   "cell_type": "code",
   "execution_count": 81,
   "metadata": {},
   "outputs": [],
   "source": [
    "ReloadPackages()"
   ]
  },
  {
   "cell_type": "code",
   "execution_count": 82,
   "metadata": {},
   "outputs": [
    {
     "name": "stdout",
     "output_type": "stream",
     "text": [
      "Casting output of function array from float64 to float32\n"
     ]
    }
   ],
   "source": [
    "n=10\n",
    "hfmIn = HFMUtils.dictIn({\n",
    "    'model':'Rander2',\n",
    "    'seeds':cp.array([[0.,0.]]),\n",
    "    'exportValues':1,\n",
    "})\n",
    "hfmIn.SetRect([[-2.*np.pi,2.*np.pi],[-2.*np.pi,2.*np.pi]],dimx=n+1)"
   ]
  },
  {
   "cell_type": "code",
   "execution_count": 83,
   "metadata": {},
   "outputs": [],
   "source": [
    "def Drift(x):\n",
    "    mult = 0.5*np.sin(x[0])*np.sin(x[1]) / np.linalg.norm(x,axis=0)\n",
    "    mult[np.isnan(mult)]=0.\n",
    "    return mult*x"
   ]
  },
  {
   "cell_type": "code",
   "execution_count": 84,
   "metadata": {},
   "outputs": [
    {
     "data": {
      "text/plain": [
       "dtype('float32')"
      ]
     },
     "execution_count": 84,
     "metadata": {},
     "output_type": "execute_result"
    }
   ],
   "source": [
    "hfmIn.Grid().dtype"
   ]
  },
  {
   "cell_type": "code",
   "execution_count": 85,
   "metadata": {},
   "outputs": [
    {
     "name": "stdout",
     "output_type": "stream",
     "text": [
      "Casting output of function eye from float64 to float32\n"
     ]
    }
   ],
   "source": [
    "hfmIn['metric']=Metrics.Rander.from_Zermelo(cp.eye(2),Drift(hfmIn.Grid()))"
   ]
  },
  {
   "cell_type": "code",
   "execution_count": 86,
   "metadata": {},
   "outputs": [
    {
     "name": "stdout",
     "output_type": "stream",
     "text": [
      "Setting the kernel traits.\n",
      "Prepating the domain data (shape,metric,...)\n",
      "Preparing the values array (setting seeds,...)\n",
      "Preparing the GPU kernel\n",
      "Setup and run the eikonal solver\n",
      "(2, 11, 11)\n",
      "0.71486384\n",
      "[0.742 -0.00801 0.742]\n",
      "[0.121 0.121]\n",
      "GPU solve took 0.001999378204345703 seconds, in 1 iterations.\n",
      "Post-Processing\n"
     ]
    },
    {
     "data": {
      "text/plain": [
       "{'keys': {'used': ['exportValues',\n",
       "   'origin',\n",
       "   'arrayOrdering',\n",
       "   'model',\n",
       "   'dims',\n",
       "   'gridScale',\n",
       "   'metric',\n",
       "   'seeds'],\n",
       "  'defaulted': OrderedDict([('verbosity', 1),\n",
       "               ('help', []),\n",
       "               ('traits',\n",
       "                {'Scalar': numpy.float32,\n",
       "                 'Int': numpy.int32,\n",
       "                 'multiprecision_macro': 0,\n",
       "                 'pruning_macro': 0,\n",
       "                 'shape_i': (24, 24),\n",
       "                 'niter_i': 48,\n",
       "                 'ndim_macro': 2}),\n",
       "               ('multiprecision', False),\n",
       "               ('values_float64', False),\n",
       "               ('factoringRadius', 0),\n",
       "               ('order', 1),\n",
       "               ('periodic', (False, False)),\n",
       "               ('drift', None),\n",
       "               ('dualMetric', None),\n",
       "               ('overwriteMetric', False),\n",
       "               ('tol', 0.0002513274116526427),\n",
       "               ('seedValues', array([    0], dtype=float32)),\n",
       "               ('seedRadius', 0.0),\n",
       "               ('dummy_kernel', False),\n",
       "               ('cuoptions', ()),\n",
       "               ('solver', 'AGSI'),\n",
       "               ('nitermax_o', 2000),\n",
       "               ('raiseOnNonConvergence', True)]),\n",
       "  'visited': ['gridScale', 'tol'],\n",
       "  'help': OrderedDict(),\n",
       "  'unused': []},\n",
       " 'niter_o': 1,\n",
       " 'solverGPUTime': 0.001999378204345703,\n",
       " 'values': array([[  inf,   inf,   inf,   inf,   inf,   inf,   inf,  11.2,    12,   inf,   inf],\n",
       "        [  inf,   inf,   inf,   inf,   inf,   inf,  8.76,    10,  11.2,   inf,   inf],\n",
       "        [  inf,   inf,   7.3,  6.15,     5,  6.14,   7.3,   inf,  12.4,   inf,   inf],\n",
       "        [  inf,   inf,   inf,   inf,  3.83,   inf,  8.49,   inf,   inf,  17.6,  18.8],\n",
       "        [  inf,   inf,   inf,   inf,  2.52,  1.14,   inf,   inf,  8.95,   inf,   inf],\n",
       "        [  inf,   inf,   inf,   inf,   inf,     0,  1.14,   inf,   7.8,  8.94,  10.1],\n",
       "        [  inf,   inf,   inf,   inf,   inf,  1.14,  2.12,   inf,  6.65,   inf,   inf],\n",
       "        [  inf,   inf,   inf,   inf,   inf,  2.28,  3.11,  4.35,  5.51,   inf,   inf],\n",
       "        [  inf,   inf,   inf,   inf,   inf,   inf,   inf,  5.51,   inf,   inf,  32.2],\n",
       "        [  inf,   inf,   inf,   inf,   inf,   inf,  8.05,  6.86,  8.02,   9.5,   inf],\n",
       "        [  inf,   inf,   inf,   inf,   inf,   inf,   inf,  8.06,  8.85,   inf,   inf]], dtype=float32)}"
      ]
     },
     "execution_count": 86,
     "metadata": {},
     "output_type": "execute_result"
    }
   ],
   "source": [
    "RunGPU(hfmIn)"
   ]
  },
  {
   "cell_type": "code",
   "execution_count": 9,
   "metadata": {},
   "outputs": [
    {
     "name": "stdout",
     "output_type": "stream",
     "text": [
      "Help on class Rander in module agd.Metrics.rander:\n",
      "\n",
      "class Rander(agd.Metrics.base.Base)\n",
      " |  Rander(m, w)\n",
      " |  \n",
      " |  A Rander norm takes the form F(x) = sqrt(<x,m.x>) + <w,x>.\n",
      " |  Inputs : \n",
      " |  - m : Symmetric positive definite matrix.\n",
      " |  - w : Vector, obeying <w,m^(-1).w> < 1\n",
      " |  \n",
      " |  Method resolution order:\n",
      " |      Rander\n",
      " |      agd.Metrics.base.Base\n",
      " |      builtins.object\n",
      " |  \n",
      " |  Methods defined here:\n",
      " |  \n",
      " |  __init__(self, m, w)\n",
      " |      Initialize self.  See help(type(self)) for accurate signature.\n",
      " |  \n",
      " |  __iter__(self)\n",
      " |  \n",
      " |  anisotropy_bound(self)\n",
      " |      Upper bound on norm(u)/norm(v), \n",
      " |      for any unit vectors u and v.\n",
      " |  \n",
      " |  dual(self)\n",
      " |      This function returns the dual \n",
      " |      to a Rander norm, which turns out to have a similar algebraic form.\n",
      " |      The dual norm is defined as \n",
      " |      F'(x) = sup{ <x,y>; F(y)<=1 }\n",
      " |  \n",
      " |  flatten(self)\n",
      " |  \n",
      " |  inv_transform(self, a)\n",
      " |      Affine transformation of the norm. \n",
      " |      The new unit ball is the inverse image of the previous one.\n",
      " |  \n",
      " |  is_definite(self)\n",
      " |      Wether norm(u)=0 implies u=0.\n",
      " |  \n",
      " |  model_HFM(self)\n",
      " |  \n",
      " |  norm(self, v)\n",
      " |      Norm defiend by the metric. \n",
      " |      Expected to be 1-homogeneous w.r.t. v\n",
      " |  \n",
      " |  to_Varadhan(eps=1)\n",
      " |      The Rander eikonal equation can be reformulated in an (approximate)\n",
      " |      linear form, using a logarithmic transformation\n",
      " |              u + 2 eps <omega,grad u> - eps**2 Tr(D hess u).\n",
      " |      Then -eps log(u) solves the Rander eikonal equation, \n",
      " |      up to a small additional diffusive term.\n",
      " |      Inputs : \n",
      " |      - m and w, parameters of the Rander metric\n",
      " |      - eps (optionnal), relaxation parameter\n",
      " |      Outputs : \n",
      " |      - D and 2*omega, parameters of the linear PDE. \n",
      " |       (D*eps**2 and 2*omega*eps if eps is specified)\n",
      " |  \n",
      " |  to_Zermelo(self)\n",
      " |      Input : Parameters of a Rander metric.\n",
      " |      Output : Parameters of the corresponding Zermelo problem, of motion on a \n",
      " |      Riemannian manifold with a drift.\n",
      " |  \n",
      " |  ----------------------------------------------------------------------\n",
      " |  Class methods defined here:\n",
      " |  \n",
      " |  expand(arr) from builtins.type\n",
      " |  \n",
      " |  from_Zermelo(metric, drift) from builtins.type\n",
      " |      Zermelo's navigation problem consists in computing a minimal path for \n",
      " |      whose velocity is unit w.r.t. a Riemannian metric, and which is subject \n",
      " |      to a drift. The accessible velocities take the form \n",
      " |              x+drift where <x,m.x> <= 1\n",
      " |      This function reformulates it as a shortest path problem \n",
      " |      in a Rander manifold.\n",
      " |      Inputs : \n",
      " |      - metric : Symmetric positive definite matrix (Riemannian metric)\n",
      " |      - drift : Vector field, obeying <drift,metric.drift> < 1 (Drift)\n",
      " |      Outputs : \n",
      " |      - the Rander metric.\n",
      " |  \n",
      " |  from_cast(metric) from builtins.type\n",
      " |  \n",
      " |  ----------------------------------------------------------------------\n",
      " |  Static methods defined here:\n",
      " |  \n",
      " |  Varadhan_from_Zermelo(metric, drift, eps=1)\n",
      " |      Zermelo's navigation problem can be turned into a Rander shortest path problem,\n",
      " |      which itself can be (approximately) expressed in linear form using the logarithmic\n",
      " |      transformation. This function composes the above two steps.\n",
      " |  \n",
      " |  ----------------------------------------------------------------------\n",
      " |  Data descriptors defined here:\n",
      " |  \n",
      " |  shape\n",
      " |      Dimensions of the underlying domain.\n",
      " |      Expected to be the empty tuple, or a tuple of length vdim.\n",
      " |  \n",
      " |  vdim\n",
      " |      Ambient vector space dimension\n",
      " |  \n",
      " |  ----------------------------------------------------------------------\n",
      " |  Methods inherited from agd.Metrics.base.Base:\n",
      " |  \n",
      " |  angle(self, u, v)\n",
      " |  \n",
      " |  anisotropy(self)\n",
      " |      Sharp upper bound on norm(u)/norm(v), \n",
      " |      for any unit vectors u and v.\n",
      " |  \n",
      " |  at(self, x)\n",
      " |      Interpolates the metric to a given position, on a grid given beforehand.\n",
      " |      Inputs : \n",
      " |              - x. Place where interpolation is needed.\n",
      " |  \n",
      " |  cos(self, u, v)\n",
      " |      Generalized cosine defined by the metric.\n",
      " |  \n",
      " |  cos_asym(self, u, v)\n",
      " |      Generalized cosine defined by the metric, \n",
      " |      asymmetric variant defined as \n",
      " |      <grad F(u), v> / F(v)\n",
      " |  \n",
      " |  disassociate(self)\n",
      " |  \n",
      " |  gradient(self, v)\n",
      " |      Gradient of the norm defined by the metric.\n",
      " |  \n",
      " |  gradient2(self, v)\n",
      " |      Gradient of the half squared norm.\n",
      " |  \n",
      " |  norm2(self, v)\n",
      " |      Half squared norm.\n",
      " |  \n",
      " |  rescale(self, h)\n",
      " |  \n",
      " |  rotate(self, r)\n",
      " |      Rotation of the norm, by a given rotation matrix.\n",
      " |      The new unit ball is the direct image of the previous one.\n",
      " |  \n",
      " |  rotate_by(self, *args, **kwargs)\n",
      " |      Rotation of the norm, based on rotation parameters : angle (and axis in 3D).\n",
      " |  \n",
      " |  set_interpolation(self, grid, **kwargs)\n",
      " |      Sets interpolation_data, required to specialize the norm \n",
      " |      at a given position.\n",
      " |      Inputs:\n",
      " |              - grid (optional). Coordinate system (required on first call). \n",
      " |              - kwargs. Passed to UniformGridInterpolation (includes order)\n",
      " |  \n",
      " |  to_HFM(self)\n",
      " |      Formats a metric for the HFM library. \n",
      " |      This may include flattening some symmetric matrices, \n",
      " |      concatenating with vector fields, and moving the first axis last.\n",
      " |  \n",
      " |  transform(self, a)\n",
      " |      Affine transformation of the norm.\n",
      " |      The new unit ball is the direct image of the previous one.\n",
      " |  \n",
      " |  ----------------------------------------------------------------------\n",
      " |  Class methods inherited from agd.Metrics.base.Base:\n",
      " |  \n",
      " |  from_HFM(arr) from builtins.type\n",
      " |  \n",
      " |  from_generator(gen) from builtins.type\n",
      " |  \n",
      " |  ----------------------------------------------------------------------\n",
      " |  Data descriptors inherited from agd.Metrics.base.Base:\n",
      " |  \n",
      " |  __dict__\n",
      " |      dictionary for instance variables (if defined)\n",
      " |  \n",
      " |  __weakref__\n",
      " |      list of weak references to the object (if defined)\n",
      "\n"
     ]
    }
   ],
   "source": [
    "help(Metrics.Rander)"
   ]
  },
  {
   "cell_type": "code",
   "execution_count": null,
   "metadata": {},
   "outputs": [],
   "source": []
  }
 ],
 "metadata": {
  "kernelspec": {
   "display_name": "Python 3",
   "language": "python",
   "name": "python3"
  },
  "language_info": {
   "codemirror_mode": {
    "name": "ipython",
    "version": 3
   },
   "file_extension": ".py",
   "mimetype": "text/x-python",
   "name": "python",
   "nbconvert_exporter": "python",
   "pygments_lexer": "ipython3",
   "version": "3.7.6"
  }
 },
 "nbformat": 4,
 "nbformat_minor": 4
}
