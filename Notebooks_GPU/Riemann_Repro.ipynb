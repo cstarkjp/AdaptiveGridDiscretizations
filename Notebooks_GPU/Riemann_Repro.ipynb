{
 "cells": [
  {
   "cell_type": "markdown",
   "metadata": {},
   "source": [
    "# Adaptive PDE discretizations on cartesian grids \n",
    "## Volume : GPU accelerated methods\n",
    "## Part : Eikonal equations, acceleration and reproducibility\n",
    "## Chapter : Riemannian metrics"
   ]
  },
  {
   "cell_type": "markdown",
   "metadata": {},
   "source": [
    "In this notebook, we solve Riemannian eikonal equations on the CPU and the GPU, and check that they produce consistent results.\n",
    "\n",
    "**GPU performance** GPUs are massively parallel machines, which efficiently exploit cache locality. Hence they are at their advantage with :\n",
    "* Large problem instances, which are embarassingly parallel\n",
    "* Moderate anisotropy, so that the numerical scheme stncils are not too wide"
   ]
  },
  {
   "cell_type": "code",
   "execution_count": 1,
   "metadata": {},
   "outputs": [],
   "source": [
    "large_instances = False # True favors the GPU code (CPU times may become a big long.)\n",
    "strong_anisotropy = True # True favors the CPU code \n",
    "anisotropy_bound = 10. if strong_anisotropy else 4. # Ratio between the fastest and the smallest velocity at any given point"
   ]
  },
  {
   "cell_type": "markdown",
   "metadata": {},
   "source": [
    "[**Summary**](Summary.ipynb) of volume GPU accelerated methods, this series of notebooks.\n",
    "\n",
    "[**Main summary**](../Summary.ipynb) of the Adaptive Grid Discretizations \n",
    "\tbook of notebooks, including the other volumes.\n",
    "\n",
    "# Table of contents\n",
    "  * [1. Two dimensions](#1.-Two-dimensions)\n",
    "    * [1.1 Isotropic metric](#1.1-Isotropic-metric)\n",
    "    * [1.2 Smooth anisotropic metric](#1.2-Smooth-anisotropic-metric)\n",
    "  * [2. Three dimensions](#2.-Three-dimensions)\n",
    "    * [2.1 Smooth anisotropic metric](#2.1-Smooth-anisotropic-metric)\n",
    "\n",
    "\n",
    "\n",
    "**Acknowledgement.** The experiments presented in these notebooks are part of ongoing research.\n",
    "The author would like to acknowledge fruitful informal discussions with L. Gayraud on the \n",
    "topic of GPU coding and optimization.\n",
    "\n",
    "Copyright Jean-Marie Mirebeau, University Paris-Sud, CNRS, University Paris-Saclay"
   ]
  },
  {
   "cell_type": "markdown",
   "metadata": {},
   "source": [
    "## 0. Importing the required libraries"
   ]
  },
  {
   "cell_type": "code",
   "execution_count": 2,
   "metadata": {},
   "outputs": [],
   "source": [
    "import sys; sys.path.insert(0,\"..\")\n",
    "#from Miscellaneous import TocTools; print(TocTools.displayTOC('Riemann_Repro','GPU'))"
   ]
  },
  {
   "cell_type": "code",
   "execution_count": 3,
   "metadata": {},
   "outputs": [],
   "source": [
    "import cupy as cp\n",
    "import numpy as np\n",
    "import itertools\n",
    "from matplotlib import pyplot as plt\n",
    "np.set_printoptions(edgeitems=30, linewidth=100000, formatter=dict(float=lambda x: \"%5.3g\" % x))"
   ]
  },
  {
   "cell_type": "code",
   "execution_count": 4,
   "metadata": {},
   "outputs": [],
   "source": [
    "from agd import HFMUtils\n",
    "from agd import AutomaticDifferentiation as ad\n",
    "from agd import Metrics\n",
    "from agd import FiniteDifferences as fd\n",
    "from agd import LinearParallel as lp\n",
    "import agd.AutomaticDifferentiation.cupy_generic as cugen\n",
    "\n",
    "from agd.ExportedCode.Notebooks_GPU.Isotropic_Repro import RunCompare"
   ]
  },
  {
   "cell_type": "code",
   "execution_count": 5,
   "metadata": {},
   "outputs": [],
   "source": [
    "def ReloadPackages():\n",
    "    from Miscellaneous.rreload import rreload\n",
    "    global HFMUtils,ad,cugen,RunGPU,RunSmart,Metrics\n",
    "    HFMUtils,ad,cugen,Metrics = rreload([HFMUtils,ad,cugen,Metrics],\"../..\")    \n",
    "    HFMUtils.dictIn.RunSmart = cugen.cupy_get_args(HFMUtils.RunSmart,dtype64=True,iterables=(dict,Metrics.Base))"
   ]
  },
  {
   "cell_type": "code",
   "execution_count": 6,
   "metadata": {},
   "outputs": [],
   "source": [
    "cp = ad.functional.decorate_module_functions(cp,cugen.set_output_dtype32) # Use float32 and int32 types in place of float64 and int64\n",
    "plt = ad.functional.decorate_module_functions(plt,cugen.cupy_get_args)\n",
    "HFMUtils.dictIn.RunSmart = cugen.cupy_get_args(HFMUtils.RunSmart,dtype64=True,iterables=(dict,Metrics.Base))"
   ]
  },
  {
   "cell_type": "markdown",
   "metadata": {},
   "source": [
    "## 1. Two dimensions"
   ]
  },
  {
   "cell_type": "markdown",
   "metadata": {},
   "source": [
    "### 1.1 Isotropic metric"
   ]
  },
  {
   "cell_type": "code",
   "execution_count": 7,
   "metadata": {},
   "outputs": [
    {
     "name": "stdout",
     "output_type": "stream",
     "text": [
      "Casting output of function array from float64 to float32\n",
      "Casting output of function array from float64 to float32\n"
     ]
    }
   ],
   "source": [
    "n=4000 if large_instances else 1000\n",
    "hfmIn = HFMUtils.dictIn({\n",
    "    'model':'Riemann2',\n",
    "    'metric':Metrics.Riemann.from_cast(Metrics.Isotropic(cp.array(1.),vdim=2)),\n",
    "    'seeds':cp.array([[0.5,0.5]]),\n",
    "    'exportValues':1,\n",
    "#    'bound_active_blocks':True,\n",
    "    'traits':{\n",
    "        'niter_i':24,'shape_i':(12,12), # Best\n",
    "    }\n",
    "})\n",
    "hfmIn.SetRect([[0,1],[0,1]],dimx=n+1,sampleBoundary=True)"
   ]
  },
  {
   "cell_type": "code",
   "execution_count": 8,
   "metadata": {},
   "outputs": [
    {
     "name": "stdout",
     "output_type": "stream",
     "text": [
      "Setting the kernel traits.\n",
      "Prepating the domain data (shape,metric,...)\n",
      "Preparing the problem rhs (cost, seeds,...)\n",
      "Preparing the GPU kernel\n",
      "Running the eikonal GPU kernel\n",
      "GPU kernel eikonal ran for 0.06350064277648926 seconds,  and 86 iterations.\n",
      "Post-Processing\n",
      "--- gpu done, turning to cpu ---\n",
      "Field verbosity defaults to 1\n",
      "Field order defaults to 1\n",
      "Field seedRadius defaults to 0\n",
      "Fast marching solver completed in 0.821 s.\n",
      "Solver time (s). GPU : 0.06350064277648926, CPU : 1.476. Device acceleration : 23.243859203051727\n",
      "Max |gpuValues-cpuValues| :  2.8908252719395122e-06\n"
     ]
    }
   ],
   "source": [
    "_,cpuOut = RunCompare(hfmIn,check=1e-5)"
   ]
  },
  {
   "cell_type": "code",
   "execution_count": 9,
   "metadata": {},
   "outputs": [],
   "source": [
    "n=200; hfmInS = hfmIn.copy() # Define a small instance for bit-consistency validation\n",
    "hfmInS.SetRect([[0,1],[0,1]],dimx=n+1,sampleBoundary=True)\n",
    "X = hfmInS.Grid()\n",
    "cost = np.prod(np.sin(2*np.pi*X),axis=0)+1.1\n",
    "hfmInS.update({\n",
    "    'metric': Metrics.Riemann.from_cast(Metrics.Isotropic(cost,vdim=2)), # Isotropic but non-constant metric\n",
    "    'verbosity':0,\n",
    "})"
   ]
  },
  {
   "cell_type": "code",
   "execution_count": 10,
   "metadata": {},
   "outputs": [
    {
     "name": "stdout",
     "output_type": "stream",
     "text": [
      "Solver time (s). GPU : 0.013496875762939453, CPU : 0.051000000000000004. Device acceleration : 3.7786522522522525\n",
      "Max |gpuValues-cpuValues| :  1.3751945037165925e-06\n",
      "\n",
      " --- Variant {'multiprecision': True} ---\n",
      "Solver time (s). GPU : 0.01599717140197754, CPU : 0.053. Device acceleration : 3.313085711730778\n",
      "Max |gpuValues-cpuValues| :  4.742801229529192e-08\n",
      "\n",
      " --- Variant {'seedRadius': 2.0} ---\n",
      "Solver time (s). GPU : 0.011999130249023438, CPU : 0.055. Device acceleration : 4.583665553965983\n",
      "Max |gpuValues-cpuValues| :  1.268472188953318e-06\n",
      "\n",
      " --- Variant {'seedRadius': 2.0, 'multiprecision': True} ---\n",
      "Solver time (s). GPU : 0.012998342514038086, CPU : 0.051000000000000004. Device acceleration : 3.923577174929841\n",
      "Max |gpuValues-cpuValues| :  8.585884103684549e-08\n"
     ]
    }
   ],
   "source": [
    "RunCompare(hfmInS,variants='basic')"
   ]
  },
  {
   "cell_type": "code",
   "execution_count": 11,
   "metadata": {},
   "outputs": [
    {
     "name": "stdout",
     "output_type": "stream",
     "text": [
      "Solver time (s). GPU : 0.016002178192138672, CPU : 0.05. Device acceleration : 3.124574629756548\n",
      "Max |gpuValues-cpuValues| :  1.3751945037165925e-06\n",
      "\n",
      " --- Variant {'multiprecision': True} ---\n",
      "Solver time (s). GPU : 0.01600170135498047, CPU : 0.053. Device acceleration : 3.3121478038023717\n",
      "Max |gpuValues-cpuValues| :  4.742801229529192e-08\n",
      "\n",
      " --- Variant {'seedRadius': 2.0} ---\n",
      "Solver time (s). GPU : 0.015000343322753906, CPU : 0.052. Device acceleration : 3.466587322779579\n",
      "Max |gpuValues-cpuValues| :  1.268472188953318e-06\n",
      "\n",
      " --- Variant {'seedRadius': 2.0, 'multiprecision': True} ---\n",
      "Solver time (s). GPU : 0.013002872467041016, CPU : 0.053. Device acceleration : 4.076022443067219\n",
      "Max |gpuValues-cpuValues| :  8.585884103684549e-08\n",
      "\n",
      " --- Variant {'factoringRadius': 10.0, 'factoringPointChoice': 'Key'} ---\n",
      "Solver time (s). GPU : 0.011497735977172852, CPU : 0.056. Device acceleration : 4.870524085018144\n",
      "Max |gpuValues-cpuValues| :  0.0002013597425319924\n",
      "\n",
      " --- Variant {'factoringRadius': 10.0, 'factoringPointChoice': 'Key', 'multiprecision': True} ---\n",
      "Solver time (s). GPU : 0.012500762939453125, CPU : 0.053. Device acceleration : 4.239741226731767\n",
      "Max |gpuValues-cpuValues| :  0.0002013597425319924\n",
      "\n",
      " --- Variant {'order': 2} ---\n",
      "Solver time (s). GPU : 0.015000581741333008, CPU : 0.067. Device acceleration : 4.466493443743345\n",
      "Max |gpuValues-cpuValues| :  0.0014198184601863506\n",
      "\n",
      " --- Variant {'order': 2, 'multiprecision': True} ---\n",
      "Solver time (s). GPU : 0.017977476119995117, CPU : 0.069. Device acceleration : 3.8381360953808206\n",
      "Max |gpuValues-cpuValues| :  0.001419878064831126\n",
      "\n",
      " --- Variant {'order': 2, 'seedRadius': 2.0} ---\n",
      "Solver time (s). GPU : 0.014499187469482422, CPU : 0.072. Device acceleration : 4.965795507613378\n",
      "Max |gpuValues-cpuValues| :  0.002515596141838161\n",
      "\n",
      " --- Variant {'order': 2, 'seedRadius': 2.0, 'multiprecision': True} ---\n",
      "Solver time (s). GPU : 0.01799941062927246, CPU : 0.07. Device acceleration : 3.8890162262401486\n",
      "Max |gpuValues-cpuValues| :  0.002515596141838161\n",
      "\n",
      " --- Variant {'order': 2, 'factoringRadius': 10.0, 'factoringPointChoice': 'Key'} ---\n",
      "Solver time (s). GPU : 0.014997243881225586, CPU : 0.068. Device acceleration : 4.534166446751348\n",
      "Max |gpuValues-cpuValues| :  0.0013385094269391384\n",
      "\n",
      " --- Variant {'order': 2, 'factoringRadius': 10.0, 'factoringPointChoice': 'Key', 'multiprecision': True} ---\n",
      "Solver time (s). GPU : 0.018000364303588867, CPU : 0.066. Device acceleration : 3.666592458178254\n",
      "Max |gpuValues-cpuValues| :  0.001338449822294363\n"
     ]
    }
   ],
   "source": [
    "RunCompare(hfmInS,variants='ext',check=0.004)"
   ]
  },
  {
   "cell_type": "markdown",
   "metadata": {},
   "source": [
    "### 1.2 Smooth anisotropic metric"
   ]
  },
  {
   "cell_type": "code",
   "execution_count": 12,
   "metadata": {},
   "outputs": [
    {
     "name": "stdout",
     "output_type": "stream",
     "text": [
      "Casting output of function array from float64 to float32\n"
     ]
    }
   ],
   "source": [
    "n=4000 if large_instances else 1000\n",
    "hfmIn = HFMUtils.dictIn({\n",
    "    'model':'Riemann2',\n",
    "    'seeds':cp.array([[0.,0.]]),\n",
    "    'exportValues':1,\n",
    "#    'bound_active_blocks':True,\n",
    "    'traits':{\n",
    "        'niter_i':16,'shape_i':(8,8), # Best\n",
    "    },\n",
    "})\n",
    "hfmIn.SetRect([[-np.pi,np.pi],[-np.pi,np.pi]],dimx=n+1,sampleBoundary=True)"
   ]
  },
  {
   "cell_type": "code",
   "execution_count": 13,
   "metadata": {},
   "outputs": [],
   "source": [
    "def height(x): return np.sin(x[0])*np.sin(x[1])\n",
    "def surface_metric(x,z,mu):\n",
    "    ndim,shape = x.ndim-1,x.shape[1:]\n",
    "    x_ad = ad.Dense.identity(constant=x,shape_free=(ndim,))\n",
    "    tensors = lp.outer_self( z(x_ad).gradient() ) + mu**-2 * fd.as_field(cp.eye(ndim),shape)\n",
    "    return Metrics.Riemann(tensors)"
   ]
  },
  {
   "cell_type": "code",
   "execution_count": 14,
   "metadata": {},
   "outputs": [
    {
     "name": "stdout",
     "output_type": "stream",
     "text": [
      "Casting output of function eye from float64 to float32\n"
     ]
    }
   ],
   "source": [
    "hfmIn['metric'] = surface_metric(hfmIn.Grid(),height,mu=anisotropy_bound)"
   ]
  },
  {
   "cell_type": "code",
   "execution_count": 15,
   "metadata": {},
   "outputs": [
    {
     "name": "stdout",
     "output_type": "stream",
     "text": [
      "Setting the kernel traits.\n",
      "Prepating the domain data (shape,metric,...)\n",
      "Preparing the problem rhs (cost, seeds,...)\n",
      "Preparing the GPU kernel\n",
      "Running the eikonal GPU kernel\n",
      "GPU kernel eikonal ran for 0.23299622535705566 seconds,  and 254 iterations.\n",
      "Post-Processing\n",
      "--- gpu done, turning to cpu ---\n",
      "Field verbosity defaults to 1\n",
      "Field order defaults to 1\n",
      "Field seedRadius defaults to 0\n",
      "Fast marching solver completed in 1.429 s.\n",
      "Solver time (s). GPU : 0.23299622535705566, CPU : 2.5060000000000002. Device acceleration : 10.755539048581898\n",
      "Max |gpuValues-cpuValues| :  5.273971551522649e-05\n"
     ]
    }
   ],
   "source": [
    "gpuOut,cpuOut = RunCompare(hfmIn,check=False)"
   ]
  },
  {
   "cell_type": "code",
   "execution_count": 16,
   "metadata": {},
   "outputs": [
    {
     "name": "stdout",
     "output_type": "stream",
     "text": [
      "Casting output of function eye from float64 to float32\n"
     ]
    }
   ],
   "source": [
    "n=200; hfmInS = hfmIn.copy() # Define a small instance for bit-consistency validation\n",
    "hfmInS.SetRect([[-np.pi,np.pi],[-np.pi,np.pi]],dimx=n+1,sampleBoundary=True)\n",
    "hfmInS.update({\n",
    "    'metric' : surface_metric(hfmInS.Grid(),height,mu=anisotropy_bound), \n",
    "    'verbosity':0,\n",
    "})"
   ]
  },
  {
   "cell_type": "code",
   "execution_count": 19,
   "metadata": {},
   "outputs": [
    {
     "name": "stdout",
     "output_type": "stream",
     "text": [
      "Solver time (s). GPU : 0.03899812698364258, CPU : 0.09. Device acceleration : 2.3078031423855228\n",
      "Max |gpuValues-cpuValues| :  7.870599221471153e-06\n",
      "\n",
      " --- Variant {'multiprecision': True} ---\n",
      "Solver time (s). GPU : 0.04249691963195801, CPU : 0.089. Device acceleration : 2.094269438132907\n",
      "Max |gpuValues-cpuValues| :  2.1523372906173677e-07\n",
      "\n",
      " --- Variant {'seedRadius': 2.0} ---\n",
      "Solver time (s). GPU : 0.03249502182006836, CPU : 0.09. Device acceleration : 2.7696550104920243\n",
      "Max |gpuValues-cpuValues| :  7.90254544336122e-06\n",
      "\n",
      " --- Variant {'seedRadius': 2.0, 'multiprecision': True} ---\n",
      "Solver time (s). GPU : 0.034499168395996094, CPU : 0.089. Device acceleration : 2.5797723289564614\n",
      "Max |gpuValues-cpuValues| :  2.2754650697009993e-07\n"
     ]
    }
   ],
   "source": [
    "RunCompare(hfmInS,variants='basic')"
   ]
  },
  {
   "cell_type": "markdown",
   "metadata": {},
   "source": [
    "Due to the different switching criteria of the second order scheme, we do not have bit consistency in that case. The results are nevertheless quite close. Note also that we do not deactivate the `decreasing` trait here, contrary to the isotropic case, because the scheme often does not converge without it.\n",
    "\n",
    "**Bottom line.** Second order accuracy for anisotropic metrics on the GPU is very experimental, and not much reliable, at this stage. Further investigation is needed on the matter."
   ]
  },
  {
   "cell_type": "code",
   "execution_count": 20,
   "metadata": {},
   "outputs": [
    {
     "name": "stdout",
     "output_type": "stream",
     "text": [
      "Solver time (s). GPU : 0.03699779510498047, CPU : 0.089. Device acceleration : 2.405548756283026\n",
      "Max |gpuValues-cpuValues| :  7.870599221471153e-06\n",
      "\n",
      " --- Variant {'multiprecision': True} ---\n",
      "Solver time (s). GPU : 0.04148077964782715, CPU : 0.089. Device acceleration : 2.145572015656702\n",
      "Max |gpuValues-cpuValues| :  2.1523372906173677e-07\n",
      "\n",
      " --- Variant {'seedRadius': 2.0} ---\n",
      "Solver time (s). GPU : 0.031000137329101562, CPU : 0.089. Device acceleration : 2.870955023687934\n",
      "Max |gpuValues-cpuValues| :  7.90254544336122e-06\n",
      "\n",
      " --- Variant {'seedRadius': 2.0, 'multiprecision': True} ---\n",
      "Solver time (s). GPU : 0.03549981117248535, CPU : 0.089. Device acceleration : 2.5070555887627015\n",
      "Max |gpuValues-cpuValues| :  2.2754650697009993e-07\n",
      "\n",
      " --- Variant {'factoringRadius': 10.0, 'factoringPointChoice': 'Key'} ---\n",
      "Solver time (s). GPU : 0.03500056266784668, CPU : 0.088. Device acceleration : 2.5142452947146854\n",
      "Max |gpuValues-cpuValues| :  0.00029348062993576896\n",
      "\n",
      " --- Variant {'factoringRadius': 10.0, 'factoringPointChoice': 'Key', 'multiprecision': True} ---\n",
      "Solver time (s). GPU : 0.04147672653198242, CPU : 0.089. Device acceleration : 2.14578168147799\n",
      "Max |gpuValues-cpuValues| :  0.00029348062993576896\n",
      "\n",
      " --- Variant {'order': 2} ---\n",
      "Solver time (s). GPU : 0.04049944877624512, CPU : 0.11299999999999999. Device acceleration : 2.790161432179293\n",
      "Max |gpuValues-cpuValues| :  0.0796043994429132\n",
      "\n",
      " --- Variant {'order': 2, 'multiprecision': True} ---\n",
      "Solver time (s). GPU : 0.05350041389465332, CPU : 0.10800000000000001. Device acceleration : 2.0186759716038987\n",
      "Max |gpuValues-cpuValues| :  0.07953484082246032\n",
      "\n",
      " --- Variant {'order': 2, 'seedRadius': 2.0} ---\n",
      "Solver time (s). GPU : 0.04549765586853027, CPU : 0.11399999999999999. Device acceleration : 2.5056235936509266\n",
      "Max |gpuValues-cpuValues| :  0.07807597219231077\n",
      "\n",
      " --- Variant {'order': 2, 'seedRadius': 2.0, 'multiprecision': True} ---\n",
      "Solver time (s). GPU : 0.04949498176574707, CPU : 0.11199999999999999. Device acceleration : 2.2628556674711096\n",
      "Max |gpuValues-cpuValues| :  0.07841130792381712\n",
      "\n",
      " --- Variant {'order': 2, 'factoringRadius': 10.0, 'factoringPointChoice': 'Key'} ---\n",
      "Solver time (s). GPU : 0.04150199890136719, CPU : 0.11399999999999999. Device acceleration : 2.746855645939611\n",
      "Max |gpuValues-cpuValues| :  0.07994557160029925\n",
      "\n",
      " --- Variant {'order': 2, 'factoringRadius': 10.0, 'factoringPointChoice': 'Key', 'multiprecision': True} ---\n",
      "Solver time (s). GPU : 0.05050301551818848, CPU : 0.11100000000000002. Device acceleration : 2.1978885589519654\n",
      "Max |gpuValues-cpuValues| :  0.07999377700130661\n"
     ]
    }
   ],
   "source": [
    "RunCompare(hfmInS,variants='ext',check=0.1)"
   ]
  },
  {
   "cell_type": "markdown",
   "metadata": {},
   "source": [
    "If one removes enforced monotonicity, obtaining the scheme convergence is harder, and requires setting some other parameters carefully and conservatively.\n",
    "\n",
    "<!---\n",
    "hfmInS.update({\n",
    "    'order2_threshold':0.03,\n",
    "    'verbosity':1,\n",
    "    'traits':{'decreasing_macro':0,'order2_threshold_weighted_macro':1},\n",
    "    'metric' : surface_metric(hfmInS.Grid(),height),\n",
    "    'multiprecision':False,\n",
    "    'tol':1e-6\n",
    "})\n",
    "--->"
   ]
  },
  {
   "cell_type": "code",
   "execution_count": 21,
   "metadata": {},
   "outputs": [],
   "source": [
    "hfmInS.update({\n",
    "    'tol':1e-6, # Tolerance for the convergence of the fixed point solver\n",
    "    'order2_threshold':0.03, # Use first order scheme if second order difference is too large\n",
    "    'traits':{'decreasing_macro':0}, # Do not enforce monotonicity\n",
    "})"
   ]
  },
  {
   "cell_type": "code",
   "execution_count": 24,
   "metadata": {},
   "outputs": [
    {
     "name": "stdout",
     "output_type": "stream",
     "text": [
      "Solver time (s). GPU : 0.031998395919799805, CPU : 0.089. Device acceleration : 2.781389424115758\n",
      "Max |gpuValues-cpuValues| :  1.1566087197545372e-05\n",
      "\n",
      " --- Variant {'multiprecision': True} ---\n",
      "Solver time (s). GPU : 0.038500070571899414, CPU : 0.089. Device acceleration : 2.311684074287377\n",
      "Max |gpuValues-cpuValues| :  2.0414844297267365e-06\n",
      "\n",
      " --- Variant {'seedRadius': 2.0} ---\n",
      "Solver time (s). GPU : 0.026499032974243164, CPU : 0.091. Device acceleration : 3.4340875792883168\n",
      "Max |gpuValues-cpuValues| :  1.1538428774660048e-05\n",
      "\n",
      " --- Variant {'seedRadius': 2.0, 'multiprecision': True} ---\n",
      "Solver time (s). GPU : 0.032000064849853516, CPU : 0.089. Device acceleration : 2.781244363647201\n",
      "Max |gpuValues-cpuValues| :  2.0156858502318187e-06\n",
      "\n",
      " --- Variant {'factoringRadius': 10.0, 'factoringPointChoice': 'Key'} ---\n",
      "Solver time (s). GPU : 0.034998416900634766, CPU : 0.09. Device acceleration : 2.571544886030764\n",
      "Max |gpuValues-cpuValues| :  0.00029348062993576896\n",
      "\n",
      " --- Variant {'factoringRadius': 10.0, 'factoringPointChoice': 'Key', 'multiprecision': True} ---\n",
      "Solver time (s). GPU : 0.03450584411621094, CPU : 0.092. Device acceleration : 2.6662150240451052\n",
      "Max |gpuValues-cpuValues| :  0.00029348062993576896\n",
      "\n",
      " --- Variant {'order': 2} ---\n",
      "Solver time (s). GPU : 0.03949689865112305, CPU : 0.11299999999999999. Device acceleration : 2.8609841243012877\n",
      "Max |gpuValues-cpuValues| :  0.13634136252312068\n",
      "\n",
      " --- Variant {'order': 2, 'multiprecision': True} ---\n",
      "Solver time (s). GPU : 0.043977975845336914, CPU : 0.11100000000000002. Device acceleration : 2.523990653648276\n",
      "Max |gpuValues-cpuValues| :  0.1363413029184759\n",
      "\n",
      " --- Variant {'order': 2, 'seedRadius': 2.0} ---\n",
      "Solver time (s). GPU : 0.03449749946594238, CPU : 0.11100000000000002. Device acceleration : 3.2176245153531964\n",
      "Max |gpuValues-cpuValues| :  0.1352049656141372\n",
      "\n",
      " --- Variant {'order': 2, 'seedRadius': 2.0, 'multiprecision': True} ---\n",
      "Solver time (s). GPU : 0.03749823570251465, CPU : 0.11399999999999999. Device acceleration : 3.0401430324455263\n",
      "Max |gpuValues-cpuValues| :  0.13520383312588646\n",
      "\n",
      " --- Variant {'order': 2, 'factoringRadius': 10.0, 'factoringPointChoice': 'Key'} ---\n",
      "Solver time (s). GPU : 0.03899025917053223, CPU : 0.11699999999999999. Device acceleration : 3.0007494817686515\n",
      "Max |gpuValues-cpuValues| :  0.13796720395199968\n",
      "\n",
      " --- Variant {'order': 2, 'factoringRadius': 10.0, 'factoringPointChoice': 'Key', 'multiprecision': True} ---\n",
      "Solver time (s). GPU : 0.04146909713745117, CPU : 0.11399999999999999. Device acceleration : 2.7490350132808996\n",
      "Max |gpuValues-cpuValues| :  0.1379705418121071\n"
     ]
    }
   ],
   "source": [
    "RunCompare(hfmInS,variants='ext',check=0.15)"
   ]
  },
  {
   "cell_type": "code",
   "execution_count": null,
   "metadata": {},
   "outputs": [],
   "source": [
    "# TODO : discontinuous metric"
   ]
  },
  {
   "cell_type": "markdown",
   "metadata": {},
   "source": [
    "## 2. Three dimensions"
   ]
  },
  {
   "cell_type": "markdown",
   "metadata": {},
   "source": [
    "### 2.1 Smooth anisotropic metric\n",
    "\n",
    "We generalize the two dimensional test case, although it does not much make geometrical sense anymore: we are computing geodesics in a three dimensional volume viewed as an hypersurface embedded in four dimensional Euclidean space."
   ]
  },
  {
   "cell_type": "code",
   "execution_count": 25,
   "metadata": {},
   "outputs": [
    {
     "name": "stdout",
     "output_type": "stream",
     "text": [
      "Casting output of function array from float64 to float32\n"
     ]
    }
   ],
   "source": [
    "n=200 if large_instances else 100\n",
    "hfmIn = HFMUtils.dictIn({\n",
    "    'model':'Riemann3',\n",
    "    'seeds':cp.array([[0.,0.,0.]]),\n",
    "    'exportValues':1,\n",
    "#    'bound_active_blocks':True,\n",
    "})\n",
    "hfmIn.SetRect([[-np.pi,np.pi],[-np.pi,np.pi],[-np.pi,np.pi]],dimx=n+1,sampleBoundary=True)"
   ]
  },
  {
   "cell_type": "code",
   "execution_count": 26,
   "metadata": {},
   "outputs": [],
   "source": [
    "def height3(x): return np.sin(x[0])*np.sin(x[1])*np.sin(x[2])"
   ]
  },
  {
   "cell_type": "code",
   "execution_count": 27,
   "metadata": {},
   "outputs": [
    {
     "name": "stdout",
     "output_type": "stream",
     "text": [
      "Casting output of function eye from float64 to float32\n"
     ]
    }
   ],
   "source": [
    "hfmIn['metric'] = surface_metric(hfmIn.Grid(),height3,mu=anisotropy_bound)"
   ]
  },
  {
   "cell_type": "code",
   "execution_count": 28,
   "metadata": {},
   "outputs": [
    {
     "name": "stdout",
     "output_type": "stream",
     "text": [
      "Setting the kernel traits.\n",
      "Prepating the domain data (shape,metric,...)\n",
      "Preparing the problem rhs (cost, seeds,...)\n",
      "Preparing the GPU kernel\n",
      "Running the eikonal GPU kernel\n",
      "GPU kernel eikonal ran for 0.14097881317138672 seconds,  and 60 iterations.\n",
      "Post-Processing\n",
      "--- gpu done, turning to cpu ---\n",
      "Field verbosity defaults to 1\n",
      "Field order defaults to 1\n",
      "Field seedRadius defaults to 0\n",
      "Fast marching solver completed in 6.378 s.\n",
      "Solver time (s). GPU : 0.14097881317138672, CPU : 9.642. Device acceleration : 68.39325557577438\n",
      "Max |gpuValues-cpuValues| :  8.276338205548406e-06\n"
     ]
    }
   ],
   "source": [
    "gpuOut,cpuOut = RunCompare(hfmIn,check=1e-4)"
   ]
  },
  {
   "cell_type": "code",
   "execution_count": 29,
   "metadata": {},
   "outputs": [
    {
     "name": "stdout",
     "output_type": "stream",
     "text": [
      "Casting output of function eye from float64 to float32\n"
     ]
    }
   ],
   "source": [
    "n=20; hfmInS = hfmIn.copy() # Define a small instance for bit-consistency validation\n",
    "hfmInS.SetRect([[-np.pi,np.pi],[-np.pi,np.pi],[-np.pi,np.pi]],dimx=n+1,sampleBoundary=True)\n",
    "hfmInS.update({\n",
    "    'metric' : surface_metric(hfmInS.Grid(),height,mu=anisotropy_bound), \n",
    "    'verbosity':0,\n",
    "})"
   ]
  },
  {
   "cell_type": "code",
   "execution_count": 30,
   "metadata": {},
   "outputs": [
    {
     "name": "stdout",
     "output_type": "stream",
     "text": [
      "Solver time (s). GPU : 0.008499622344970703, CPU : 0.038000000000000006. Device acceleration : 4.470786872370267\n",
      "Max |gpuValues-cpuValues| :  2.67317871505135e-07\n",
      "\n",
      " --- Variant {'multiprecision': True} ---\n",
      "Solver time (s). GPU : 0.008997201919555664, CPU : 0.038. Device acceleration : 4.223535310173039\n",
      "Max |gpuValues-cpuValues| :  4.1609422674060426e-07\n",
      "\n",
      " --- Variant {'seedRadius': 2.0} ---\n",
      "Solver time (s). GPU : 0.006497621536254883, CPU : 0.036000000000000004. Device acceleration : 5.540488900304554\n",
      "Max |gpuValues-cpuValues| :  2.0110513232474148e-07\n",
      "\n",
      " --- Variant {'seedRadius': 2.0, 'multiprecision': True} ---\n",
      "Solver time (s). GPU : 0.009000062942504883, CPU : 0.035. Device acceleration : 3.8888616917004426\n",
      "Max |gpuValues-cpuValues| :  4.477440634920171e-07\n"
     ]
    }
   ],
   "source": [
    "RunCompare(hfmInS,variants='basic')"
   ]
  },
  {
   "cell_type": "markdown",
   "metadata": {},
   "source": [
    "Due to the different switching criteria of the second order scheme, we do not have bit consistency in that case. The results are nevertheless quite close."
   ]
  },
  {
   "cell_type": "code",
   "execution_count": 31,
   "metadata": {},
   "outputs": [
    {
     "name": "stdout",
     "output_type": "stream",
     "text": [
      "Solver time (s). GPU : 0.009010076522827148, CPU : 0.038. Device acceleration : 4.217500251382604\n",
      "Max |gpuValues-cpuValues| :  2.67317871505135e-07\n",
      "\n",
      " --- Variant {'multiprecision': True} ---\n",
      "Solver time (s). GPU : 0.0089874267578125, CPU : 0.037000000000000005. Device acceleration : 4.116862478777589\n",
      "Max |gpuValues-cpuValues| :  4.1609422674060426e-07\n",
      "\n",
      " --- Variant {'seedRadius': 2.0} ---\n",
      "Solver time (s). GPU : 0.0069980621337890625, CPU : 0.037000000000000005. Device acceleration : 5.287177977650587\n",
      "Max |gpuValues-cpuValues| :  2.0110513232474148e-07\n",
      "\n",
      " --- Variant {'seedRadius': 2.0, 'multiprecision': True} ---\n",
      "Solver time (s). GPU : 0.00799870491027832, CPU : 0.037000000000000005. Device acceleration : 4.6257488449730255\n",
      "Max |gpuValues-cpuValues| :  4.477440634920171e-07\n",
      "\n",
      " --- Variant {'factoringRadius': 10.0, 'factoringPointChoice': 'Key'} ---\n",
      "Solver time (s). GPU : 0.007008075714111328, CPU : 0.045. Device acceleration : 6.421163502755665\n",
      "Max |gpuValues-cpuValues| :  0.01476599818996377\n",
      "\n",
      " --- Variant {'factoringRadius': 10.0, 'factoringPointChoice': 'Key', 'multiprecision': True} ---\n",
      "Solver time (s). GPU : 0.007977962493896484, CPU : 0.045. Device acceleration : 5.640537923614846\n",
      "Max |gpuValues-cpuValues| :  0.014766027992286213\n",
      "\n",
      " --- Variant {'order': 2} ---\n",
      "Solver time (s). GPU : 0.010503530502319336, CPU : 0.053000000000000005. Device acceleration : 5.045922415162865\n",
      "Max |gpuValues-cpuValues| :  0.07289490077301941\n",
      "\n",
      " --- Variant {'order': 2, 'multiprecision': True} ---\n",
      "Solver time (s). GPU : 0.011001110076904297, CPU : 0.05. Device acceleration : 4.544995882276451\n",
      "Max |gpuValues-cpuValues| :  0.07289496037766419\n",
      "\n",
      " --- Variant {'order': 2, 'seedRadius': 2.0} ---\n",
      "Solver time (s). GPU : 0.009499073028564453, CPU : 0.05. Device acceleration : 5.263671502434617\n",
      "Max |gpuValues-cpuValues| :  0.06854310791233531\n",
      "\n",
      " --- Variant {'order': 2, 'seedRadius': 2.0, 'multiprecision': True} ---\n",
      "Solver time (s). GPU : 0.009983301162719727, CPU : 0.051000000000000004. Device acceleration : 5.108530652210256\n",
      "Max |gpuValues-cpuValues| :  0.06854310791233531\n",
      "\n",
      " --- Variant {'order': 2, 'factoringRadius': 10.0, 'factoringPointChoice': 'Key'} ---\n",
      "Solver time (s). GPU : 0.00999903678894043, CPU : 0.053. Device acceleration : 5.300510551038413\n",
      "Max |gpuValues-cpuValues| :  0.03978457489889492\n",
      "\n",
      " --- Variant {'order': 2, 'factoringRadius': 10.0, 'factoringPointChoice': 'Key', 'multiprecision': True} ---\n",
      "Solver time (s). GPU : 0.011998414993286133, CPU : 0.053. Device acceleration : 4.417250114257327\n",
      "Max |gpuValues-cpuValues| :  0.040482753905471236\n"
     ]
    }
   ],
   "source": [
    "RunCompare(hfmInS,variants='ext',check=0.1)"
   ]
  },
  {
   "cell_type": "code",
   "execution_count": null,
   "metadata": {},
   "outputs": [],
   "source": []
  }
 ],
 "metadata": {
  "kernelspec": {
   "display_name": "Python 3",
   "language": "python",
   "name": "python3"
  },
  "language_info": {
   "codemirror_mode": {
    "name": "ipython",
    "version": 3
   },
   "file_extension": ".py",
   "mimetype": "text/x-python",
   "name": "python",
   "nbconvert_exporter": "python",
   "pygments_lexer": "ipython3",
   "version": "3.8.1"
  }
 },
 "nbformat": 4,
 "nbformat_minor": 4
}
