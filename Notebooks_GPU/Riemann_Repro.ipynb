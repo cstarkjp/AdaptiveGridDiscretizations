{
 "cells": [
  {
   "cell_type": "markdown",
   "metadata": {},
   "source": [
    "# Adaptive PDE discretizations on cartesian grids \n",
    "## Volume : GPU accelerated methods\n",
    "## Part : Eikonal equations, acceleration and reproducibility\n",
    "## Chapter : Riemannian metrics"
   ]
  },
  {
   "cell_type": "markdown",
   "metadata": {},
   "source": [
    "In this notebook, we solve Riemannian eikonal equations on the CPU and the GPU, and check that they produce consistent results."
   ]
  },
  {
   "cell_type": "code",
   "execution_count": 9,
   "metadata": {},
   "outputs": [],
   "source": [
    "large_instances = False # Set to True to show off GPU acceleration (CPU times may become a big long.)"
   ]
  },
  {
   "cell_type": "markdown",
   "metadata": {},
   "source": [
    "[**Summary**](Summary.ipynb) of volume GPU accelerated methods, this series of notebooks.\n",
    "\n",
    "[**Main summary**](../Summary.ipynb) of the Adaptive Grid Discretizations \n",
    "\tbook of notebooks, including the other volumes.\n",
    "\n",
    "# Table of contents\n",
    "  * [1. Two dimensions](#1.-Two-dimensions)\n",
    "    * [1.1 Isotropic metric](#1.1-Isotropic-metric)\n",
    "    * [1.2 Smooth anisotropic metric](#1.2-Smooth-anisotropic-metric)\n",
    "  * [2. Three dimensions](#2.-Three-dimensions)\n",
    "    * [2.1 Smooth anisotropic metric](#2.1-Smooth-anisotropic-metric)\n",
    "\n",
    "\n",
    "\n",
    "**Acknowledgement.** The experiments presented in these notebooks are part of ongoing research.\n",
    "The author would like to acknowledge fruitful informal discussions with L. Gayraud on the \n",
    "topic of GPU coding and optimization.\n",
    "\n",
    "Copyright Jean-Marie Mirebeau, University Paris-Sud, CNRS, University Paris-Saclay"
   ]
  },
  {
   "cell_type": "markdown",
   "metadata": {},
   "source": [
    "## 0. Importing the required libraries"
   ]
  },
  {
   "cell_type": "code",
   "execution_count": 1,
   "metadata": {},
   "outputs": [],
   "source": [
    "import sys; sys.path.insert(0,\"..\")\n",
    "#from Miscellaneous import TocTools; print(TocTools.displayTOC('Riemann_Repro','GPU'))"
   ]
  },
  {
   "cell_type": "code",
   "execution_count": 2,
   "metadata": {},
   "outputs": [],
   "source": [
    "import cupy as cp\n",
    "import numpy as np\n",
    "import itertools\n",
    "from matplotlib import pyplot as plt\n",
    "np.set_printoptions(edgeitems=30, linewidth=100000, formatter=dict(float=lambda x: \"%5.3g\" % x))"
   ]
  },
  {
   "cell_type": "code",
   "execution_count": 18,
   "metadata": {},
   "outputs": [],
   "source": [
    "from agd import HFMUtils\n",
    "from agd import AutomaticDifferentiation as ad\n",
    "from agd import Metrics\n",
    "from agd import FiniteDifferences as fd\n",
    "from agd import LinearParallel as lp\n",
    "import agd.AutomaticDifferentiation.cupy_generic as cugen\n",
    "\n",
    "from Notebooks_GPU.ExportedCode.Isotropic_Repro import RunCompare"
   ]
  },
  {
   "cell_type": "code",
   "execution_count": 4,
   "metadata": {},
   "outputs": [],
   "source": [
    "def ReloadPackages():\n",
    "    from Miscellaneous.rreload import rreload\n",
    "    global HFMUtils,ad,cugen,RunGPU,RunSmart,Metrics\n",
    "    HFMUtils,ad,cugen,Metrics = rreload([HFMUtils,ad,cugen,Metrics],\"../..\")    \n",
    "    HFMUtils.dictIn.RunSmart = cugen.cupy_get_args(HFMUtils.RunSmart,dtype64=True,iterables=(dict,Metrics.Base))"
   ]
  },
  {
   "cell_type": "code",
   "execution_count": 5,
   "metadata": {},
   "outputs": [],
   "source": [
    "cp = ad.functional.decorate_module_functions(cp,cugen.set_output_dtype32) # Use float32 and int32 types in place of float64 and int64\n",
    "plt = ad.functional.decorate_module_functions(plt,cugen.cupy_get_args)\n",
    "HFMUtils.dictIn.RunSmart = cugen.cupy_get_args(HFMUtils.RunSmart,dtype64=True,iterables=(dict,Metrics.Base))"
   ]
  },
  {
   "cell_type": "markdown",
   "metadata": {},
   "source": [
    "## 1. Two dimensions"
   ]
  },
  {
   "cell_type": "markdown",
   "metadata": {},
   "source": [
    "### 1.1 Isotropic metric"
   ]
  },
  {
   "cell_type": "code",
   "execution_count": 23,
   "metadata": {},
   "outputs": [
    {
     "name": "stdout",
     "output_type": "stream",
     "text": [
      "Casting output of function eye from float64 to float32\n",
      "Casting output of function array from float64 to float32\n"
     ]
    }
   ],
   "source": [
    "n=4000 if large_instances else 1000\n",
    "hfmIn = HFMUtils.dictIn({\n",
    "    'model':'Riemann2',\n",
    "    'metric':Metrics.Riemann(cp.eye(2)),\n",
    "    'seeds':cp.array([[0.5,0.5]]),\n",
    "    'exportValues':1,\n",
    "#    'bound_active_blocks':True,\n",
    "    'traits':{\n",
    "        'niter_i':24,'shape_i':(12,12), # Best\n",
    "    }\n",
    "})\n",
    "hfmIn.SetRect([[0,1],[0,1]],dimx=n+1,sampleBoundary=True)"
   ]
  },
  {
   "cell_type": "code",
   "execution_count": 24,
   "metadata": {},
   "outputs": [
    {
     "name": "stdout",
     "output_type": "stream",
     "text": [
      "Setting the kernel traits.\n",
      "Prepating the domain data (shape,metric,...)\n",
      "Preparing the problem rhs (cost, seeds,...)\n",
      "Preparing the GPU kernel\n",
      "Running the eikonal GPU kernel\n",
      "GPU kernel eikonal ran for 0.0515134334564209 seconds,  and 86 iterations.\n",
      "Post-Processing\n",
      "--- gpu done, turning to cpu ---\n",
      "Field verbosity defaults to 1\n",
      "Field order defaults to 1\n",
      "Field seedRadius defaults to 0\n",
      "Fast marching solver completed in 0.823 s.\n",
      "Solver time (s). GPU : 0.0515134334564209, CPU : 1.488. Device acceleration : 28.88566923536191\n",
      "Max |gpuValues-cpuValues| :  2.8908252719395122e-06\n"
     ]
    }
   ],
   "source": [
    "_,cpuOut = RunCompare(hfmIn,check=False)"
   ]
  },
  {
   "cell_type": "code",
   "execution_count": 12,
   "metadata": {},
   "outputs": [
    {
     "name": "stdout",
     "output_type": "stream",
     "text": [
      "Casting output of function eye from float64 to float32\n"
     ]
    }
   ],
   "source": [
    "n=200; hfmInS = hfmIn.copy() # Define a small instance for bit-consistency validation\n",
    "hfmInS.SetRect([[0,1],[0,1]],dimx=n+1,sampleBoundary=True)\n",
    "X = hfmInS.Grid()\n",
    "cost = np.prod(np.sin(2*np.pi*X))+1.1\n",
    "hfmInS.update({\n",
    "    'metric': Metrics.Riemann(cost**2*fd.as_field(cp.eye(2),X.shape[1:])), # Isotropic but non-constant metric\n",
    "    'verbosity':0,\n",
    "})"
   ]
  },
  {
   "cell_type": "code",
   "execution_count": 25,
   "metadata": {},
   "outputs": [
    {
     "name": "stdout",
     "output_type": "stream",
     "text": [
      "\n",
      "--- Variant with {} and {'multiprecision': False} ---\n",
      "Solver time (s). GPU : 0.03346681594848633, CPU : 0.066. Device acceleration : 1.972102756999359\n",
      "Max |gpuValues-cpuValues| :  4.88107854068609e-06\n",
      "\n",
      "--- Variant with {} and {'multiprecision': True} ---\n",
      "Solver time (s). GPU : 0.03699994087219238, CPU : 0.069. Device acceleration : 1.8648678450147886\n",
      "Max |gpuValues-cpuValues| :  8.07258024870805e-08\n",
      "\n",
      "--- Variant with {'factorizationRadius': 10, 'factorizationPointChoice': 'Key'} and {'multiprecision': False} ---\n",
      "Solver time (s). GPU : 0.0395054817199707, CPU : 0.065. Device acceleration : 1.6453412835399341\n",
      "Max |gpuValues-cpuValues| :  4.88107854068609e-06\n",
      "\n",
      "--- Variant with {'factorizationRadius': 10, 'factorizationPointChoice': 'Key'} and {'multiprecision': True} ---\n",
      "Solver time (s). GPU : 0.03799700736999512, CPU : 0.065. Device acceleration : 1.7106610361985557\n",
      "Max |gpuValues-cpuValues| :  8.07258024870805e-08\n"
     ]
    }
   ],
   "source": [
    "RunCompare(hfmInS,variants=True)"
   ]
  },
  {
   "cell_type": "code",
   "execution_count": 27,
   "metadata": {},
   "outputs": [],
   "source": [
    "hfmInS.update({\n",
    "    'seeds':[[0.,1.]],\n",
    "    'order':2,\n",
    "    'traits':{'decreasing_macro':0,},\n",
    "})"
   ]
  },
  {
   "cell_type": "code",
   "execution_count": 28,
   "metadata": {},
   "outputs": [
    {
     "name": "stdout",
     "output_type": "stream",
     "text": [
      "\n",
      "--- Variant with {} and {'multiprecision': False} ---\n",
      "Solver time (s). GPU : 0.039006710052490234, CPU : 0.066. Device acceleration : 1.6920165764091781\n",
      "Max |gpuValues-cpuValues| :  4.88107854068609e-06\n",
      "\n",
      "--- Variant with {} and {'multiprecision': True} ---\n",
      "Solver time (s). GPU : 0.0364837646484375, CPU : 0.066. Device acceleration : 1.8090238393977416\n",
      "Max |gpuValues-cpuValues| :  8.07258024870805e-08\n",
      "\n",
      "--- Variant with {'factorizationRadius': 10, 'factorizationPointChoice': 'Key'} and {'multiprecision': False} ---\n",
      "Solver time (s). GPU : 0.03802299499511719, CPU : 0.065. Device acceleration : 1.70949184850765\n",
      "Max |gpuValues-cpuValues| :  4.88107854068609e-06\n",
      "\n",
      "--- Variant with {'factorizationRadius': 10, 'factorizationPointChoice': 'Key'} and {'multiprecision': True} ---\n",
      "Solver time (s). GPU : 0.03900337219238281, CPU : 0.065. Device acceleration : 1.6665225683407503\n",
      "Max |gpuValues-cpuValues| :  8.07258024870805e-08\n"
     ]
    }
   ],
   "source": [
    "RunCompare(hfmInS,variants=True)"
   ]
  },
  {
   "cell_type": "markdown",
   "metadata": {},
   "source": [
    "### 1.2 Smooth anisotropic metric"
   ]
  },
  {
   "cell_type": "code",
   "execution_count": 47,
   "metadata": {},
   "outputs": [
    {
     "name": "stdout",
     "output_type": "stream",
     "text": [
      "Casting output of function array from float64 to float32\n"
     ]
    }
   ],
   "source": [
    "n=4000 if large_instances else 1000\n",
    "hfmIn = HFMUtils.dictIn({\n",
    "    'model':'Riemann2',\n",
    "    'seeds':cp.array([[0.,0.]]),\n",
    "    'exportValues':1,\n",
    "#    'bound_active_blocks':True,\n",
    "    'traits':{\n",
    "        'niter_i':16,'shape_i':(8,8), # Best\n",
    "    },\n",
    "})\n",
    "hfmIn.SetRect([[-np.pi,np.pi],[-np.pi,np.pi]],dimx=n+1,sampleBoundary=True)"
   ]
  },
  {
   "cell_type": "code",
   "execution_count": 48,
   "metadata": {},
   "outputs": [],
   "source": [
    "def height(x): return np.sin(x[0])*np.sin(x[1])\n",
    "def surface_metric(x,z,mu=10.):\n",
    "    ndim,shape = x.ndim-1,x.shape[1:]\n",
    "    x_ad = ad.Dense.identity(constant=x,shape_free=(ndim,))\n",
    "    tensors = lp.outer_self( z(x_ad).gradient() ) + mu**-2 * fd.as_field(cp.eye(ndim),shape)\n",
    "    return Metrics.Riemann(tensors)"
   ]
  },
  {
   "cell_type": "code",
   "execution_count": 49,
   "metadata": {},
   "outputs": [
    {
     "name": "stdout",
     "output_type": "stream",
     "text": [
      "Casting output of function eye from float64 to float32\n"
     ]
    }
   ],
   "source": [
    "hfmIn['metric'] = surface_metric(hfmIn.Grid(),height)"
   ]
  },
  {
   "cell_type": "code",
   "execution_count": 36,
   "metadata": {},
   "outputs": [
    {
     "name": "stdout",
     "output_type": "stream",
     "text": [
      "Setting the kernel traits.\n",
      "Prepating the domain data (shape,metric,...)\n",
      "Preparing the problem rhs (cost, seeds,...)\n",
      "Preparing the GPU kernel\n",
      "Running the eikonal GPU kernel\n",
      "GPU kernel eikonal ran for 0.18400192260742188 seconds,  and 221 iterations.\n",
      "Post-Processing\n",
      "--- gpu done, turning to cpu ---\n",
      "Field verbosity defaults to 1\n",
      "Field order defaults to 1\n",
      "Field seedRadius defaults to 0\n",
      "Fast marching solver completed in 1.491 s.\n",
      "Solver time (s). GPU : 0.18400192260742188, CPU : 2.62. Device acceleration : 14.23898165232715\n",
      "Max |gpuValues-cpuValues| :  0.0010635152816163007\n"
     ]
    }
   ],
   "source": [
    "gpuOut,cpuOut = RunCompare(hfmIn,check=False)"
   ]
  },
  {
   "cell_type": "code",
   "execution_count": 51,
   "metadata": {},
   "outputs": [
    {
     "name": "stdout",
     "output_type": "stream",
     "text": [
      "Casting output of function eye from float64 to float32\n"
     ]
    }
   ],
   "source": [
    "n=200; hfmInS = hfmIn.copy() # Define a small instance for bit-consistency validation\n",
    "hfmInS.SetRect([[-np.pi,np.pi],[-np.pi,np.pi]],dimx=n+1,sampleBoundary=True)\n",
    "hfmInS.update({\n",
    "    'metric' : surface_metric(hfmInS.Grid(),height), \n",
    "    'verbosity':0,\n",
    "})"
   ]
  },
  {
   "cell_type": "code",
   "execution_count": 53,
   "metadata": {},
   "outputs": [
    {
     "name": "stdout",
     "output_type": "stream",
     "text": [
      "\n",
      "--- Variant with {} and {'multiprecision': False} ---\n",
      "Solver time (s). GPU : 0.036499738693237305, CPU : 0.094. Device acceleration : 2.575360902992338\n",
      "Max |gpuValues-cpuValues| :  2.2354527901891075e-05\n",
      "\n",
      "--- Variant with {} and {'multiprecision': True} ---\n",
      "Solver time (s). GPU : 0.036981821060180664, CPU : 0.09. Device acceleration : 2.4336281291703465\n",
      "Max |gpuValues-cpuValues| :  3.011527211893572e-05\n",
      "\n",
      "--- Variant with {'seedRadius': 2.0} and {'multiprecision': False} ---\n",
      "Solver time (s). GPU : 0.03198885917663574, CPU : 0.093. Device acceleration : 2.907262165445588\n",
      "Max |gpuValues-cpuValues| :  2.423421811181825e-05\n",
      "\n",
      "--- Variant with {'seedRadius': 2.0} and {'multiprecision': True} ---\n",
      "Solver time (s). GPU : 0.03000044822692871, CPU : 0.09. Device acceleration : 2.99995517797681\n",
      "Max |gpuValues-cpuValues| :  3.0149078184216194e-05\n",
      "\n",
      "--- Variant with {'factorizationRadius': 10, 'factorizationPointChoice': 'Key'} and {'multiprecision': False} ---\n",
      "Solver time (s). GPU : 0.03549814224243164, CPU : 0.091. Device acceleration : 2.563514433474377\n",
      "Max |gpuValues-cpuValues| :  2.2354527901891075e-05\n",
      "\n",
      "--- Variant with {'factorizationRadius': 10, 'factorizationPointChoice': 'Key'} and {'multiprecision': True} ---\n",
      "Solver time (s). GPU : 0.034995079040527344, CPU : 0.09. Device acceleration : 2.5717901621474315\n",
      "Max |gpuValues-cpuValues| :  3.011527211893572e-05\n"
     ]
    },
    {
     "data": {
      "text/plain": [
       "'\\nfor fact,multip in itertools.product(factor_variants,multip_variants):\\n    print(f\"\\nReproducibility with options : {fact}, {multip}\")\\n    RunCompare({**hfmInS,**fact,**multip})\\n'"
      ]
     },
     "execution_count": 53,
     "metadata": {},
     "output_type": "execute_result"
    }
   ],
   "source": [
    "RunCompare(hfmInS,variants=True,tol=1e-5)"
   ]
  },
  {
   "cell_type": "markdown",
   "metadata": {},
   "source": [
    "Due to the different switching criteria of the second order scheme, we do not have bit consistency in that case. The results are nevertheless quite close. Note also that we do not deactivate the `decreasing` trait here, contrary to the isotropic case, because the scheme often does not converge without it.\n",
    "\n",
    "**Bottom line.** Second order accuracy for anisotropic metrics on the GPU is very experimental, and not much reliable, at this stage. Further investigation is needed on the matter."
   ]
  },
  {
   "cell_type": "code",
   "execution_count": 55,
   "metadata": {},
   "outputs": [],
   "source": [
    "hfmInS.update({\n",
    "    'seeds':[[0.,1.]],\n",
    "    'order':2,\n",
    "})"
   ]
  },
  {
   "cell_type": "code",
   "execution_count": 57,
   "metadata": {},
   "outputs": [
    {
     "name": "stdout",
     "output_type": "stream",
     "text": [
      "\n",
      "--- Variant with {} and {'multiprecision': False} ---\n",
      "Solver time (s). GPU : 0.0339961051940918, CPU : 0.119. Device acceleration : 3.5004009818360333\n",
      "Max |gpuValues-cpuValues| :  0.08098238901310739\n",
      "\n",
      "--- Variant with {} and {'multiprecision': True} ---\n",
      "Solver time (s). GPU : 0.04849743843078613, CPU : 0.11499999999999999. Device acceleration : 2.3712592607158833\n",
      "Max |gpuValues-cpuValues| :  0.08113533453160104\n",
      "\n",
      "--- Variant with {'factorizationRadius': 10, 'factorizationPointChoice': 'Key'} and {'multiprecision': False} ---\n",
      "Solver time (s). GPU : 0.03948044776916504, CPU : 0.11499999999999999. Device acceleration : 2.9128342381622407\n",
      "Max |gpuValues-cpuValues| :  0.08095333137777927\n",
      "\n",
      "--- Variant with {'factorizationRadius': 10, 'factorizationPointChoice': 'Key'} and {'multiprecision': True} ---\n",
      "Solver time (s). GPU : 0.055997371673583984, CPU : 0.11399999999999999. Device acceleration : 2.0358098352279983\n",
      "Max |gpuValues-cpuValues| :  0.08113533453160104\n"
     ]
    },
    {
     "data": {
      "text/plain": [
       "'\\nfor fact,multip in itertools.product((factor_variants[0],factor_variants[2]),multip_variants):\\n    print(f\"\\nReproducibility with options : {fact}, {multip}\")\\n    RunCompare({**hfmInS,**fact,**multip},check=False)\\n'"
      ]
     },
     "execution_count": 57,
     "metadata": {},
     "output_type": "execute_result"
    }
   ],
   "source": [
    "RunCompare(hfmInS,variants=True,check=0.1)"
   ]
  },
  {
   "cell_type": "markdown",
   "metadata": {},
   "source": [
    "If one removes enforced monotonicity, obtaining the scheme convergence is harder, and requires setting some other parameters carefully and conservatively.\n",
    "<!---\n",
    "hfmInS.update({\n",
    "    'order2_threshold':0.03,\n",
    "    'verbosity':1,\n",
    "    'traits':{'decreasing_macro':0,'order2_threshold_weighted_macro':1},\n",
    "    'metric' : surface_metric(hfmInS.Grid(),height),\n",
    "    'multiprecision':False,\n",
    "    'tol':1e-6\n",
    "})\n",
    "--->"
   ]
  },
  {
   "cell_type": "code",
   "execution_count": 61,
   "metadata": {},
   "outputs": [],
   "source": [
    "hfmInS.update({\n",
    "    'tol':1e-6, # Tolerance for the convergence of the fixed point solver\n",
    "    'order2_threshold':0.03, # Use first order scheme if second order difference is too large\n",
    "    'traits':{'decreasing_macro':0}, # Do not enforce monotonicity\n",
    "})"
   ]
  },
  {
   "cell_type": "code",
   "execution_count": 64,
   "metadata": {},
   "outputs": [
    {
     "name": "stdout",
     "output_type": "stream",
     "text": [
      "\n",
      "--- Variant with {} and {'multiprecision': False} ---\n",
      "Solver time (s). GPU : 0.040494441986083984, CPU : 0.11399999999999999. Device acceleration : 2.8152011586967016\n",
      "Max |gpuValues-cpuValues| :  0.13615021364053104\n",
      "\n",
      "--- Variant with {} and {'multiprecision': True} ---\n",
      "Solver time (s). GPU : 0.03898048400878906, CPU : 0.11499999999999999. Device acceleration : 2.9501942555169545\n",
      "Max |gpuValues-cpuValues| :  0.13615051166375491\n",
      "\n",
      "--- Variant with {'factorizationRadius': 10, 'factorizationPointChoice': 'Key'} and {'multiprecision': False} ---\n",
      "Solver time (s). GPU : 0.03999590873718262, CPU : 0.118. Device acceleration : 2.9503017614974216\n",
      "Max |gpuValues-cpuValues| :  0.13615045205911014\n",
      "\n",
      "--- Variant with {'factorizationRadius': 10, 'factorizationPointChoice': 'Key'} and {'multiprecision': True} ---\n",
      "Solver time (s). GPU : 0.04599928855895996, CPU : 0.11499999999999999. Device acceleration : 2.5000386658719256\n",
      "Max |gpuValues-cpuValues| :  0.13615051166375491\n"
     ]
    },
    {
     "data": {
      "text/plain": [
       "'\\nfor fact,multip in itertools.product((factor_variants[0],factor_variants[2]),multip_variants):\\n    print(f\"\\nReproducibility with options : {fact}, {multip}\")\\n    RunCompare({**hfmInS,**fact,**multip},check=False)\\n'"
      ]
     },
     "execution_count": 64,
     "metadata": {},
     "output_type": "execute_result"
    }
   ],
   "source": [
    "RunCompare(hfmInS,variants=True,check=0.15)"
   ]
  },
  {
   "cell_type": "code",
   "execution_count": null,
   "metadata": {},
   "outputs": [],
   "source": [
    "# TODO : discontinuous metric"
   ]
  },
  {
   "cell_type": "markdown",
   "metadata": {},
   "source": [
    "## 2. Three dimensions"
   ]
  },
  {
   "cell_type": "markdown",
   "metadata": {},
   "source": [
    "### 2.1 Smooth anisotropic metric\n",
    "\n",
    "We generalize the two dimensional test case, although it does not much make geometrical sense anymore: we are computing geodesics in a three dimensional volume viewed as an hypersurface embedded in four dimensional Euclidean space."
   ]
  },
  {
   "cell_type": "code",
   "execution_count": 65,
   "metadata": {},
   "outputs": [
    {
     "name": "stdout",
     "output_type": "stream",
     "text": [
      "Casting output of function array from float64 to float32\n"
     ]
    }
   ],
   "source": [
    "n=200 if large_instances else 100\n",
    "hfmIn = HFMUtils.dictIn({\n",
    "    'model':'Riemann3',\n",
    "    'seeds':cp.array([[0.,0.,0.]]),\n",
    "    'exportValues':1,\n",
    "#    'tol':5e-3,\n",
    "#    'multiprecision':True,\n",
    "#    'bound_active_blocks':True,\n",
    "#    'nitermax_o':200,\n",
    "#    'raiseOnNonConvergence':0,\n",
    "})\n",
    "hfmIn.SetRect([[-np.pi,np.pi],[-np.pi,np.pi],[-np.pi,np.pi]],dimx=n+1,sampleBoundary=True)"
   ]
  },
  {
   "cell_type": "code",
   "execution_count": 66,
   "metadata": {},
   "outputs": [],
   "source": [
    "def height3(x): return np.sin(x[0])*np.sin(x[1])*np.sin(x[2])"
   ]
  },
  {
   "cell_type": "code",
   "execution_count": 67,
   "metadata": {},
   "outputs": [
    {
     "name": "stdout",
     "output_type": "stream",
     "text": [
      "Casting output of function eye from float64 to float32\n"
     ]
    }
   ],
   "source": [
    "hfmIn['metric'] = surface_metric(hfmIn.Grid(),height3)"
   ]
  },
  {
   "cell_type": "code",
   "execution_count": 81,
   "metadata": {},
   "outputs": [
    {
     "name": "stdout",
     "output_type": "stream",
     "text": [
      "Setting the kernel traits.\n",
      "Prepating the domain data (shape,metric,...)\n",
      "Preparing the problem rhs (cost, seeds,...)\n",
      "Preparing the GPU kernel\n",
      "Running the eikonal GPU kernel\n",
      "GPU kernel eikonal ran for 0.32101917266845703 seconds,  and 82 iterations.\n",
      "Post-Processing\n",
      "---\n",
      "Field verbosity defaults to 1\n",
      "Field order defaults to 1\n",
      "Field seedRadius defaults to 0\n",
      "Fast marching solver completed in 50.128 s.\n",
      "Max |gpuValues-cpuValues| :  0.00029890265088505785\n",
      "Solver time (s). GPU : 0.32101917266845703, CPU : 75.92. Device acceleration : 236.49677796163547\n"
     ]
    }
   ],
   "source": [
    "gpuOut,cpuOut = RunCompare(hfmIn,check=False)"
   ]
  },
  {
   "cell_type": "code",
   "execution_count": 68,
   "metadata": {},
   "outputs": [
    {
     "name": "stdout",
     "output_type": "stream",
     "text": [
      "Casting output of function eye from float64 to float32\n"
     ]
    }
   ],
   "source": [
    "n=20; hfmInS = hfmIn.copy() # Define a small instance for bit-consistency validation\n",
    "hfmInS.SetRect([[-np.pi,np.pi],[-np.pi,np.pi],[-np.pi,np.pi]],dimx=n+1,sampleBoundary=True)\n",
    "hfmInS.update({\n",
    "    'metric' : surface_metric(hfmInS.Grid(),height), \n",
    "    'verbosity':0,\n",
    "})"
   ]
  },
  {
   "cell_type": "code",
   "execution_count": 69,
   "metadata": {},
   "outputs": [
    {
     "name": "stdout",
     "output_type": "stream",
     "text": [
      "\n",
      "--- Variant with {} and {'multiprecision': False} ---\n",
      "Solver time (s). GPU : 0.008498430252075195, CPU : 0.038. Device acceleration : 4.471413999158367\n",
      "Max |gpuValues-cpuValues| :  1.7426527081698673e-05\n",
      "\n",
      "--- Variant with {} and {'multiprecision': True} ---\n",
      "Solver time (s). GPU : 0.009502410888671875, CPU : 0.038. Device acceleration : 3.998985146527499\n",
      "Max |gpuValues-cpuValues| :  4.1609422674060426e-07\n",
      "\n",
      "--- Variant with {'seedRadius': 2.0} and {'multiprecision': False} ---\n",
      "Solver time (s). GPU : 0.007501125335693359, CPU : 0.038. Device acceleration : 5.065906553938084\n",
      "Max |gpuValues-cpuValues| :  1.3427482630223864e-05\n",
      "\n",
      "--- Variant with {'seedRadius': 2.0} and {'multiprecision': True} ---\n",
      "Solver time (s). GPU : 0.007982254028320312, CPU : 0.038. Device acceleration : 4.76056009557945\n",
      "Max |gpuValues-cpuValues| :  4.477440634920171e-07\n",
      "\n",
      "--- Variant with {'factorizationRadius': 10, 'factorizationPointChoice': 'Key'} and {'multiprecision': False} ---\n",
      "Solver time (s). GPU : 0.008500337600708008, CPU : 0.039. Device acceleration : 4.58805306706308\n",
      "Max |gpuValues-cpuValues| :  1.7426527081698673e-05\n",
      "\n",
      "--- Variant with {'factorizationRadius': 10, 'factorizationPointChoice': 'Key'} and {'multiprecision': True} ---\n",
      "Solver time (s). GPU : 0.009485960006713867, CPU : 0.039. Device acceleration : 4.111339281674919\n",
      "Max |gpuValues-cpuValues| :  4.1609422674060426e-07\n"
     ]
    },
    {
     "data": {
      "text/plain": [
       "'\\nfor fact,multip in itertools.product(factor_variants,multip_variants):\\n    print(f\"\\nReproducibility with options : {fact}, {multip}\")\\n    RunCompare({**hfmInS,**fact,**multip})\\n'"
      ]
     },
     "execution_count": 69,
     "metadata": {},
     "output_type": "execute_result"
    }
   ],
   "source": [
    "RunCompare(hfmInS,variants=True)"
   ]
  },
  {
   "cell_type": "markdown",
   "metadata": {},
   "source": [
    "Due to the different switching criteria of the second order scheme, we do not have bit consistency in that case. The results are nevertheless quite close."
   ]
  },
  {
   "cell_type": "code",
   "execution_count": 70,
   "metadata": {},
   "outputs": [],
   "source": [
    "hfmInS.update({\n",
    "    'seeds':[[0.,1.,1.]],\n",
    "    'order':2,\n",
    "})"
   ]
  },
  {
   "cell_type": "code",
   "execution_count": 72,
   "metadata": {},
   "outputs": [
    {
     "name": "stdout",
     "output_type": "stream",
     "text": [
      "\n",
      "--- Variant with {} and {'multiprecision': False} ---\n",
      "Solver time (s). GPU : 0.010474920272827148, CPU : 0.052000000000000005. Device acceleration : 4.964238261067487\n",
      "Max |gpuValues-cpuValues| :  0.057056744653570135\n",
      "\n",
      "--- Variant with {} and {'multiprecision': True} ---\n",
      "Solver time (s). GPU : 0.011478662490844727, CPU : 0.053000000000000005. Device acceleration : 4.617262685637138\n",
      "Max |gpuValues-cpuValues| :  0.05705668504892536\n",
      "\n",
      "--- Variant with {'factorizationRadius': 10, 'factorizationPointChoice': 'Key'} and {'multiprecision': False} ---\n",
      "Solver time (s). GPU : 0.01098012924194336, CPU : 0.052000000000000005. Device acceleration : 4.735827680548922\n",
      "Max |gpuValues-cpuValues| :  0.057056744653570135\n",
      "\n",
      "--- Variant with {'factorizationRadius': 10, 'factorizationPointChoice': 'Key'} and {'multiprecision': True} ---\n",
      "Solver time (s). GPU : 0.011481285095214844, CPU : 0.051000000000000004. Device acceleration : 4.442011462746075\n",
      "Max |gpuValues-cpuValues| :  0.05705668504892536\n"
     ]
    },
    {
     "data": {
      "text/plain": [
       "'\\nfor fact,multip in itertools.product((factor_variants[0],factor_variants[2]),multip_variants):\\n    print(f\"\\nReproducibility with options : {fact}, {multip}\")\\n    RunCompare({**hfmInS,**fact,**multip},check=False)\\n'"
      ]
     },
     "execution_count": 72,
     "metadata": {},
     "output_type": "execute_result"
    }
   ],
   "source": [
    "RunCompare(hfmInS,variants=True,check=0.06)"
   ]
  },
  {
   "cell_type": "code",
   "execution_count": null,
   "metadata": {},
   "outputs": [],
   "source": []
  }
 ],
 "metadata": {
  "kernelspec": {
   "display_name": "Python 3",
   "language": "python",
   "name": "python3"
  },
  "language_info": {
   "codemirror_mode": {
    "name": "ipython",
    "version": 3
   },
   "file_extension": ".py",
   "mimetype": "text/x-python",
   "name": "python",
   "nbconvert_exporter": "python",
   "pygments_lexer": "ipython3",
   "version": "3.7.6"
  }
 },
 "nbformat": 4,
 "nbformat_minor": 4
}
