{
 "cells": [
  {
   "cell_type": "markdown",
   "metadata": {},
   "source": [
    "# Adaptive PDE discretizations on cartesian grids \n",
    "## Volume : GPU accelerated methods\n",
    "## Part : Eikonal equations, acceleration and reproducibility\n",
    "## Chapter : Riemannian metrics"
   ]
  },
  {
   "cell_type": "markdown",
   "metadata": {},
   "source": [
    "In this notebook, we solve Riemannian eikonal equations on the CPU and the GPU, and check that they produce consistent results.\n",
    "\n",
    "**GPU performance** GPUs are massively parallel machines, which efficiently exploit cache locality. Hence they are at their advantage with :\n",
    "* Large problem instances, which are embarassingly parallel\n",
    "* Moderate anisotropy, so that the numerical scheme stncils are not too wide"
   ]
  },
  {
   "cell_type": "code",
   "execution_count": 81,
   "metadata": {},
   "outputs": [],
   "source": [
    "large_instances = False # True favors the GPU code (CPU times may become a big long.)\n",
    "strong_anisotropy = True # True favors the CPU code \n",
    "anisotropy_bound = 10. if strong_anisotropy else 4. # Ratio between the fastest and the smallest velocity at any given point"
   ]
  },
  {
   "cell_type": "markdown",
   "metadata": {},
   "source": [
    "[**Summary**](Summary.ipynb) of volume GPU accelerated methods, this series of notebooks.\n",
    "\n",
    "[**Main summary**](../Summary.ipynb) of the Adaptive Grid Discretizations \n",
    "\tbook of notebooks, including the other volumes.\n",
    "\n",
    "# Table of contents\n",
    "  * [1. Two dimensions](#1.-Two-dimensions)\n",
    "    * [1.1 Isotropic metric](#1.1-Isotropic-metric)\n",
    "    * [1.2 Smooth anisotropic metric](#1.2-Smooth-anisotropic-metric)\n",
    "  * [2. Three dimensions](#2.-Three-dimensions)\n",
    "    * [2.1 Smooth anisotropic metric](#2.1-Smooth-anisotropic-metric)\n",
    "\n",
    "\n",
    "\n",
    "**Acknowledgement.** The experiments presented in these notebooks are part of ongoing research.\n",
    "The author would like to acknowledge fruitful informal discussions with L. Gayraud on the \n",
    "topic of GPU coding and optimization.\n",
    "\n",
    "Copyright Jean-Marie Mirebeau, University Paris-Sud, CNRS, University Paris-Saclay"
   ]
  },
  {
   "cell_type": "markdown",
   "metadata": {},
   "source": [
    "## 0. Importing the required libraries"
   ]
  },
  {
   "cell_type": "code",
   "execution_count": 2,
   "metadata": {},
   "outputs": [],
   "source": [
    "import sys; sys.path.insert(0,\"..\")\n",
    "#from Miscellaneous import TocTools; print(TocTools.displayTOC('Riemann_Repro','GPU'))"
   ]
  },
  {
   "cell_type": "code",
   "execution_count": 3,
   "metadata": {},
   "outputs": [],
   "source": [
    "import cupy as cp\n",
    "import numpy as np\n",
    "import itertools\n",
    "from matplotlib import pyplot as plt\n",
    "np.set_printoptions(edgeitems=30, linewidth=100000, formatter=dict(float=lambda x: \"%5.3g\" % x))"
   ]
  },
  {
   "cell_type": "code",
   "execution_count": 4,
   "metadata": {},
   "outputs": [],
   "source": [
    "from agd import HFMUtils\n",
    "from agd import AutomaticDifferentiation as ad\n",
    "from agd import Metrics\n",
    "from agd import FiniteDifferences as fd\n",
    "from agd import LinearParallel as lp\n",
    "import agd.AutomaticDifferentiation.cupy_generic as cugen\n",
    "\n",
    "from Notebooks_GPU.ExportedCode.Isotropic_Repro import RunCompare"
   ]
  },
  {
   "cell_type": "code",
   "execution_count": 5,
   "metadata": {},
   "outputs": [],
   "source": [
    "def ReloadPackages():\n",
    "    from Miscellaneous.rreload import rreload\n",
    "    global HFMUtils,ad,cugen,RunGPU,RunSmart,Metrics\n",
    "    HFMUtils,ad,cugen,Metrics = rreload([HFMUtils,ad,cugen,Metrics],\"../..\")    \n",
    "    HFMUtils.dictIn.RunSmart = cugen.cupy_get_args(HFMUtils.RunSmart,dtype64=True,iterables=(dict,Metrics.Base))"
   ]
  },
  {
   "cell_type": "code",
   "execution_count": 6,
   "metadata": {},
   "outputs": [],
   "source": [
    "cp = ad.functional.decorate_module_functions(cp,cugen.set_output_dtype32) # Use float32 and int32 types in place of float64 and int64\n",
    "plt = ad.functional.decorate_module_functions(plt,cugen.cupy_get_args)\n",
    "HFMUtils.dictIn.RunSmart = cugen.cupy_get_args(HFMUtils.RunSmart,dtype64=True,iterables=(dict,Metrics.Base))"
   ]
  },
  {
   "cell_type": "markdown",
   "metadata": {},
   "source": [
    "## 1. Two dimensions"
   ]
  },
  {
   "cell_type": "markdown",
   "metadata": {},
   "source": [
    "### 1.1 Isotropic metric"
   ]
  },
  {
   "cell_type": "code",
   "execution_count": 9,
   "metadata": {},
   "outputs": [
    {
     "name": "stdout",
     "output_type": "stream",
     "text": [
      "Casting output of function array from float64 to float32\n",
      "Casting output of function array from float64 to float32\n"
     ]
    }
   ],
   "source": [
    "n=4000 if large_instances else 1000\n",
    "hfmIn = HFMUtils.dictIn({\n",
    "    'model':'Riemann2',\n",
    "    'metric':Metrics.Riemann.from_cast(Metrics.Isotropic(cp.array(1.),vdim=2)),\n",
    "    'seeds':cp.array([[0.5,0.5]]),\n",
    "    'exportValues':1,\n",
    "#    'bound_active_blocks':True,\n",
    "    'traits':{\n",
    "        'niter_i':24,'shape_i':(12,12), # Best\n",
    "    }\n",
    "})\n",
    "hfmIn.SetRect([[0,1],[0,1]],dimx=n+1,sampleBoundary=True)"
   ]
  },
  {
   "cell_type": "code",
   "execution_count": 10,
   "metadata": {},
   "outputs": [
    {
     "name": "stdout",
     "output_type": "stream",
     "text": [
      "Setting the kernel traits.\n",
      "Prepating the domain data (shape,metric,...)\n",
      "Preparing the problem rhs (cost, seeds,...)\n",
      "Preparing the GPU kernel\n",
      "Running the eikonal GPU kernel\n",
      "GPU kernel eikonal ran for 0.06599617004394531 seconds,  and 86 iterations.\n",
      "Post-Processing\n",
      "--- gpu done, turning to cpu ---\n",
      "Field verbosity defaults to 1\n",
      "Field order defaults to 1\n",
      "Field seedRadius defaults to 0\n",
      "Fast marching solver completed in 0.818 s.\n",
      "Solver time (s). GPU : 0.06599617004394531, CPU : 1.508. Device acceleration : 22.84981081471634\n",
      "Max |gpuValues-cpuValues| :  2.8908252719395122e-06\n"
     ]
    }
   ],
   "source": [
    "_,cpuOut = RunCompare(hfmIn,check=1e-5)"
   ]
  },
  {
   "cell_type": "code",
   "execution_count": 14,
   "metadata": {},
   "outputs": [],
   "source": [
    "n=200; hfmInS = hfmIn.copy() # Define a small instance for bit-consistency validation\n",
    "hfmInS.SetRect([[0,1],[0,1]],dimx=n+1,sampleBoundary=True)\n",
    "X = hfmInS.Grid()\n",
    "hfmInS.update({\n",
    "    'metric': Metrics.Riemann.from_cast(Metrics.Isotropic(cost,vdim=2)), # Isotropic but non-constant metric\n",
    "    'verbosity':0,\n",
    "})"
   ]
  },
  {
   "cell_type": "code",
   "execution_count": 16,
   "metadata": {},
   "outputs": [
    {
     "name": "stdout",
     "output_type": "stream",
     "text": [
      "Solver time (s). GPU : 0.008500099182128906, CPU : 0.055. Device acceleration : 6.47051273420846\n",
      "Max |gpuValues-cpuValues| :  4.017569794623199e-07\n",
      "\n",
      " --- Variant {'multiprecision': True} ---\n",
      "Solver time (s). GPU : 0.011510610580444336, CPU : 0.05. Device acceleration : 4.343818223244061\n",
      "Max |gpuValues-cpuValues| :  4.940263631514341e-08\n",
      "\n",
      " --- Variant {'seedRadius': 2.0} ---\n",
      "Solver time (s). GPU : 0.008011579513549805, CPU : 0.049. Device acceleration : 6.116147248757551\n",
      "Max |gpuValues-cpuValues| :  4.202669309227858e-07\n",
      "\n",
      " --- Variant {'seedRadius': 2.0, 'multiprecision': True} ---\n",
      "Solver time (s). GPU : 0.011472225189208984, CPU : 0.051000000000000004. Device acceleration : 4.445519431397814\n",
      "Max |gpuValues-cpuValues| :  9.997386174465106e-08\n"
     ]
    }
   ],
   "source": [
    "RunCompare(hfmInS,variants='basic')"
   ]
  },
  {
   "cell_type": "code",
   "execution_count": 17,
   "metadata": {},
   "outputs": [
    {
     "name": "stdout",
     "output_type": "stream",
     "text": [
      "Solver time (s). GPU : 0.010999679565429688, CPU : 0.049. Device acceleration : 4.454675221085487\n",
      "Max |gpuValues-cpuValues| :  4.017569794623199e-07\n",
      "\n",
      " --- Variant {'multiprecision': True} ---\n",
      "Solver time (s). GPU : 0.011474132537841797, CPU : 0.05. Device acceleration : 4.35762789344637\n",
      "Max |gpuValues-cpuValues| :  4.940263631514341e-08\n",
      "\n",
      " --- Variant {'seedRadius': 2.0} ---\n",
      "Solver time (s). GPU : 0.011005878448486328, CPU : 0.051000000000000004. Device acceleration : 4.633887266582904\n",
      "Max |gpuValues-cpuValues| :  4.202669309227858e-07\n",
      "\n",
      " --- Variant {'seedRadius': 2.0, 'multiprecision': True} ---\n",
      "Solver time (s). GPU : 0.010988473892211914, CPU : 0.05. Device acceleration : 4.550222395799432\n",
      "Max |gpuValues-cpuValues| :  9.997386174465106e-08\n",
      "\n",
      " --- Variant {'factoringRadius': 10.0, 'factoringPointChoice': 'Key'} ---\n",
      "Solver time (s). GPU : 0.011499881744384766, CPU : 0.053. Device acceleration : 4.608743044325579\n",
      "Max |gpuValues-cpuValues| :  0.00019995271131245662\n",
      "\n",
      " --- Variant {'factoringRadius': 10.0, 'factoringPointChoice': 'Key', 'multiprecision': True} ---\n",
      "Solver time (s). GPU : 0.011979341506958008, CPU : 0.051000000000000004. Device acceleration : 4.257329167081302\n",
      "Max |gpuValues-cpuValues| :  0.00019995643660275508\n",
      "\n",
      " --- Variant {'order': 2} ---\n",
      "Solver time (s). GPU : 0.01448678970336914, CPU : 0.066. Device acceleration : 4.555874790164906\n",
      "Max |gpuValues-cpuValues| :  0.0005529643596322575\n",
      "\n",
      " --- Variant {'order': 2, 'multiprecision': True} ---\n",
      "Solver time (s). GPU : 0.01449894905090332, CPU : 0.068. Device acceleration : 4.6899950997319655\n",
      "Max |gpuValues-cpuValues| :  0.0005531384483764556\n",
      "\n",
      " --- Variant {'order': 2, 'seedRadius': 2.0} ---\n",
      "Solver time (s). GPU : 0.010969400405883789, CPU : 0.066. Device acceleration : 6.016737247060358\n",
      "Max |gpuValues-cpuValues| :  0.002532460698548733\n",
      "\n",
      " --- Variant {'order': 2, 'seedRadius': 2.0, 'multiprecision': True} ---\n",
      "Solver time (s). GPU : 0.014000654220581055, CPU : 0.067. Device acceleration : 4.78549065953715\n",
      "Max |gpuValues-cpuValues| :  0.002532162675324856\n",
      "\n",
      " --- Variant {'order': 2, 'factoringRadius': 10.0, 'factoringPointChoice': 'Key'} ---\n",
      "Solver time (s). GPU : 0.013503074645996094, CPU : 0.067. Device acceleration : 4.961832897803517\n",
      "Max |gpuValues-cpuValues| :  0.00038971932124742814\n",
      "\n",
      " --- Variant {'order': 2, 'factoringRadius': 10.0, 'factoringPointChoice': 'Key', 'multiprecision': True} ---\n",
      "Solver time (s). GPU : 0.01299905776977539, CPU : 0.063. Device acceleration : 4.846505117200397\n",
      "Max |gpuValues-cpuValues| :  0.00038971932124742814\n"
     ]
    }
   ],
   "source": [
    "RunCompare(hfmInS,variants='ext',check=0.004)"
   ]
  },
  {
   "cell_type": "markdown",
   "metadata": {},
   "source": [
    "### 1.2 Smooth anisotropic metric"
   ]
  },
  {
   "cell_type": "code",
   "execution_count": 24,
   "metadata": {},
   "outputs": [
    {
     "name": "stdout",
     "output_type": "stream",
     "text": [
      "Casting output of function array from float64 to float32\n"
     ]
    }
   ],
   "source": [
    "n=4000 if large_instances else 1000\n",
    "hfmIn = HFMUtils.dictIn({\n",
    "    'model':'Riemann2',\n",
    "    'seeds':cp.array([[0.,0.]]),\n",
    "    'exportValues':1,\n",
    "#    'bound_active_blocks':True,\n",
    "    'traits':{\n",
    "        'niter_i':16,'shape_i':(8,8), # Best\n",
    "    },\n",
    "})\n",
    "hfmIn.SetRect([[-np.pi,np.pi],[-np.pi,np.pi]],dimx=n+1,sampleBoundary=True)"
   ]
  },
  {
   "cell_type": "code",
   "execution_count": 25,
   "metadata": {},
   "outputs": [],
   "source": [
    "def height(x): return np.sin(x[0])*np.sin(x[1])\n",
    "def surface_metric(x,z,mu):\n",
    "    ndim,shape = x.ndim-1,x.shape[1:]\n",
    "    x_ad = ad.Dense.identity(constant=x,shape_free=(ndim,))\n",
    "    tensors = lp.outer_self( z(x_ad).gradient() ) + mu**-2 * fd.as_field(cp.eye(ndim),shape)\n",
    "    return Metrics.Riemann(tensors)"
   ]
  },
  {
   "cell_type": "code",
   "execution_count": 26,
   "metadata": {},
   "outputs": [
    {
     "name": "stdout",
     "output_type": "stream",
     "text": [
      "Casting output of function eye from float64 to float32\n"
     ]
    }
   ],
   "source": [
    "hfmIn['metric'] = surface_metric(hfmIn.Grid(),height,mu=anisotropy_bound)"
   ]
  },
  {
   "cell_type": "code",
   "execution_count": 27,
   "metadata": {},
   "outputs": [
    {
     "name": "stdout",
     "output_type": "stream",
     "text": [
      "Setting the kernel traits.\n",
      "Prepating the domain data (shape,metric,...)\n",
      "Preparing the problem rhs (cost, seeds,...)\n",
      "Preparing the GPU kernel\n",
      "Running the eikonal GPU kernel\n",
      "GPU kernel eikonal ran for 4.2369983196258545 seconds,  and 988 iterations.\n",
      "Post-Processing\n",
      "--- gpu done, turning to cpu ---\n",
      "Field verbosity defaults to 1\n",
      "Field order defaults to 1\n",
      "Field seedRadius defaults to 0\n",
      "Fast marching solver completed in 29.539 s.\n",
      "Solver time (s). GPU : 4.2369983196258545, CPU : 47.748000000000005. Device acceleration : 11.269298781363775\n",
      "Max |gpuValues-cpuValues| :  0.00041117211812591314\n"
     ]
    }
   ],
   "source": [
    "gpuOut,cpuOut = RunCompare(hfmIn,check=False)"
   ]
  },
  {
   "cell_type": "code",
   "execution_count": 51,
   "metadata": {},
   "outputs": [
    {
     "name": "stdout",
     "output_type": "stream",
     "text": [
      "Casting output of function eye from float64 to float32\n"
     ]
    }
   ],
   "source": [
    "n=200; hfmInS = hfmIn.copy() # Define a small instance for bit-consistency validation\n",
    "hfmInS.SetRect([[-np.pi,np.pi],[-np.pi,np.pi]],dimx=n+1,sampleBoundary=True)\n",
    "hfmInS.update({\n",
    "    'metric' : surface_metric(hfmInS.Grid(),height,mu=anisotropy_bound), \n",
    "    'verbosity':0,\n",
    "})"
   ]
  },
  {
   "cell_type": "code",
   "execution_count": 53,
   "metadata": {},
   "outputs": [
    {
     "name": "stdout",
     "output_type": "stream",
     "text": [
      "\n",
      "--- Variant with {} and {'multiprecision': False} ---\n",
      "Solver time (s). GPU : 0.036499738693237305, CPU : 0.094. Device acceleration : 2.575360902992338\n",
      "Max |gpuValues-cpuValues| :  2.2354527901891075e-05\n",
      "\n",
      "--- Variant with {} and {'multiprecision': True} ---\n",
      "Solver time (s). GPU : 0.036981821060180664, CPU : 0.09. Device acceleration : 2.4336281291703465\n",
      "Max |gpuValues-cpuValues| :  3.011527211893572e-05\n",
      "\n",
      "--- Variant with {'seedRadius': 2.0} and {'multiprecision': False} ---\n",
      "Solver time (s). GPU : 0.03198885917663574, CPU : 0.093. Device acceleration : 2.907262165445588\n",
      "Max |gpuValues-cpuValues| :  2.423421811181825e-05\n",
      "\n",
      "--- Variant with {'seedRadius': 2.0} and {'multiprecision': True} ---\n",
      "Solver time (s). GPU : 0.03000044822692871, CPU : 0.09. Device acceleration : 2.99995517797681\n",
      "Max |gpuValues-cpuValues| :  3.0149078184216194e-05\n",
      "\n",
      "--- Variant with {'factorizationRadius': 10, 'factorizationPointChoice': 'Key'} and {'multiprecision': False} ---\n",
      "Solver time (s). GPU : 0.03549814224243164, CPU : 0.091. Device acceleration : 2.563514433474377\n",
      "Max |gpuValues-cpuValues| :  2.2354527901891075e-05\n",
      "\n",
      "--- Variant with {'factorizationRadius': 10, 'factorizationPointChoice': 'Key'} and {'multiprecision': True} ---\n",
      "Solver time (s). GPU : 0.034995079040527344, CPU : 0.09. Device acceleration : 2.5717901621474315\n",
      "Max |gpuValues-cpuValues| :  3.011527211893572e-05\n"
     ]
    },
    {
     "data": {
      "text/plain": [
       "'\\nfor fact,multip in itertools.product(factor_variants,multip_variants):\\n    print(f\"\\nReproducibility with options : {fact}, {multip}\")\\n    RunCompare({**hfmInS,**fact,**multip})\\n'"
      ]
     },
     "execution_count": 53,
     "metadata": {},
     "output_type": "execute_result"
    }
   ],
   "source": [
    "RunCompare(hfmInS,variants=True,tol=1e-5)"
   ]
  },
  {
   "cell_type": "markdown",
   "metadata": {},
   "source": [
    "Due to the different switching criteria of the second order scheme, we do not have bit consistency in that case. The results are nevertheless quite close. Note also that we do not deactivate the `decreasing` trait here, contrary to the isotropic case, because the scheme often does not converge without it.\n",
    "\n",
    "**Bottom line.** Second order accuracy for anisotropic metrics on the GPU is very experimental, and not much reliable, at this stage. Further investigation is needed on the matter."
   ]
  },
  {
   "cell_type": "code",
   "execution_count": 55,
   "metadata": {},
   "outputs": [],
   "source": [
    "hfmInS.update({\n",
    "    'seeds':[[0.,1.]],\n",
    "    'order':2,\n",
    "})"
   ]
  },
  {
   "cell_type": "code",
   "execution_count": 57,
   "metadata": {},
   "outputs": [
    {
     "name": "stdout",
     "output_type": "stream",
     "text": [
      "\n",
      "--- Variant with {} and {'multiprecision': False} ---\n",
      "Solver time (s). GPU : 0.0339961051940918, CPU : 0.119. Device acceleration : 3.5004009818360333\n",
      "Max |gpuValues-cpuValues| :  0.08098238901310739\n",
      "\n",
      "--- Variant with {} and {'multiprecision': True} ---\n",
      "Solver time (s). GPU : 0.04849743843078613, CPU : 0.11499999999999999. Device acceleration : 2.3712592607158833\n",
      "Max |gpuValues-cpuValues| :  0.08113533453160104\n",
      "\n",
      "--- Variant with {'factorizationRadius': 10, 'factorizationPointChoice': 'Key'} and {'multiprecision': False} ---\n",
      "Solver time (s). GPU : 0.03948044776916504, CPU : 0.11499999999999999. Device acceleration : 2.9128342381622407\n",
      "Max |gpuValues-cpuValues| :  0.08095333137777927\n",
      "\n",
      "--- Variant with {'factorizationRadius': 10, 'factorizationPointChoice': 'Key'} and {'multiprecision': True} ---\n",
      "Solver time (s). GPU : 0.055997371673583984, CPU : 0.11399999999999999. Device acceleration : 2.0358098352279983\n",
      "Max |gpuValues-cpuValues| :  0.08113533453160104\n"
     ]
    },
    {
     "data": {
      "text/plain": [
       "'\\nfor fact,multip in itertools.product((factor_variants[0],factor_variants[2]),multip_variants):\\n    print(f\"\\nReproducibility with options : {fact}, {multip}\")\\n    RunCompare({**hfmInS,**fact,**multip},check=False)\\n'"
      ]
     },
     "execution_count": 57,
     "metadata": {},
     "output_type": "execute_result"
    }
   ],
   "source": [
    "RunCompare(hfmInS,variants=True,check=0.1)"
   ]
  },
  {
   "cell_type": "markdown",
   "metadata": {},
   "source": [
    "If one removes enforced monotonicity, obtaining the scheme convergence is harder, and requires setting some other parameters carefully and conservatively.\n",
    "<!---\n",
    "hfmInS.update({\n",
    "    'order2_threshold':0.03,\n",
    "    'verbosity':1,\n",
    "    'traits':{'decreasing_macro':0,'order2_threshold_weighted_macro':1},\n",
    "    'metric' : surface_metric(hfmInS.Grid(),height),\n",
    "    'multiprecision':False,\n",
    "    'tol':1e-6\n",
    "})\n",
    "--->"
   ]
  },
  {
   "cell_type": "code",
   "execution_count": 61,
   "metadata": {},
   "outputs": [],
   "source": [
    "hfmInS.update({\n",
    "    'tol':1e-6, # Tolerance for the convergence of the fixed point solver\n",
    "    'order2_threshold':0.03, # Use first order scheme if second order difference is too large\n",
    "    'traits':{'decreasing_macro':0}, # Do not enforce monotonicity\n",
    "})"
   ]
  },
  {
   "cell_type": "code",
   "execution_count": 64,
   "metadata": {},
   "outputs": [
    {
     "name": "stdout",
     "output_type": "stream",
     "text": [
      "\n",
      "--- Variant with {} and {'multiprecision': False} ---\n",
      "Solver time (s). GPU : 0.040494441986083984, CPU : 0.11399999999999999. Device acceleration : 2.8152011586967016\n",
      "Max |gpuValues-cpuValues| :  0.13615021364053104\n",
      "\n",
      "--- Variant with {} and {'multiprecision': True} ---\n",
      "Solver time (s). GPU : 0.03898048400878906, CPU : 0.11499999999999999. Device acceleration : 2.9501942555169545\n",
      "Max |gpuValues-cpuValues| :  0.13615051166375491\n",
      "\n",
      "--- Variant with {'factorizationRadius': 10, 'factorizationPointChoice': 'Key'} and {'multiprecision': False} ---\n",
      "Solver time (s). GPU : 0.03999590873718262, CPU : 0.118. Device acceleration : 2.9503017614974216\n",
      "Max |gpuValues-cpuValues| :  0.13615045205911014\n",
      "\n",
      "--- Variant with {'factorizationRadius': 10, 'factorizationPointChoice': 'Key'} and {'multiprecision': True} ---\n",
      "Solver time (s). GPU : 0.04599928855895996, CPU : 0.11499999999999999. Device acceleration : 2.5000386658719256\n",
      "Max |gpuValues-cpuValues| :  0.13615051166375491\n"
     ]
    },
    {
     "data": {
      "text/plain": [
       "'\\nfor fact,multip in itertools.product((factor_variants[0],factor_variants[2]),multip_variants):\\n    print(f\"\\nReproducibility with options : {fact}, {multip}\")\\n    RunCompare({**hfmInS,**fact,**multip},check=False)\\n'"
      ]
     },
     "execution_count": 64,
     "metadata": {},
     "output_type": "execute_result"
    }
   ],
   "source": [
    "RunCompare(hfmInS,variants=True,check=0.15)"
   ]
  },
  {
   "cell_type": "code",
   "execution_count": null,
   "metadata": {},
   "outputs": [],
   "source": [
    "# TODO : discontinuous metric"
   ]
  },
  {
   "cell_type": "markdown",
   "metadata": {},
   "source": [
    "## 2. Three dimensions"
   ]
  },
  {
   "cell_type": "markdown",
   "metadata": {},
   "source": [
    "### 2.1 Smooth anisotropic metric\n",
    "\n",
    "We generalize the two dimensional test case, although it does not much make geometrical sense anymore: we are computing geodesics in a three dimensional volume viewed as an hypersurface embedded in four dimensional Euclidean space."
   ]
  },
  {
   "cell_type": "code",
   "execution_count": 82,
   "metadata": {},
   "outputs": [
    {
     "name": "stdout",
     "output_type": "stream",
     "text": [
      "Casting output of function array from float64 to float32\n"
     ]
    }
   ],
   "source": [
    "n=200 if large_instances else 100\n",
    "hfmIn = HFMUtils.dictIn({\n",
    "    'model':'Riemann3',\n",
    "    'seeds':cp.array([[0.,0.,0.]]),\n",
    "    'exportValues':1,\n",
    "#    'tol':5e-3,\n",
    "#    'multiprecision':True,\n",
    "#    'bound_active_blocks':True,\n",
    "#    'nitermax_o':200,\n",
    "#    'raiseOnNonConvergence':0,\n",
    "})\n",
    "hfmIn.SetRect([[-np.pi,np.pi],[-np.pi,np.pi],[-np.pi,np.pi]],dimx=n+1,sampleBoundary=True)"
   ]
  },
  {
   "cell_type": "code",
   "execution_count": 84,
   "metadata": {},
   "outputs": [],
   "source": [
    "def height3(x): return np.sin(x[0])*np.sin(x[1])*np.sin(x[2])"
   ]
  },
  {
   "cell_type": "code",
   "execution_count": 85,
   "metadata": {},
   "outputs": [
    {
     "name": "stdout",
     "output_type": "stream",
     "text": [
      "Casting output of function eye from float64 to float32\n"
     ]
    }
   ],
   "source": [
    "hfmIn['metric'] = surface_metric(hfmIn.Grid(),height3,mu=anisotropy_bound)"
   ]
  },
  {
   "cell_type": "code",
   "execution_count": 86,
   "metadata": {},
   "outputs": [
    {
     "name": "stdout",
     "output_type": "stream",
     "text": [
      "Setting the kernel traits.\n",
      "Prepating the domain data (shape,metric,...)\n",
      "mean_cost_bound 0.037707984\n",
      "Preparing the problem rhs (cost, seeds,...)\n",
      "Preparing the GPU kernel\n",
      "Running the eikonal GPU kernel\n",
      "GPU kernel eikonal ran for 0.1379985809326172 seconds,  and 60 iterations.\n",
      "Post-Processing\n",
      "--- gpu done, turning to cpu ---\n",
      "Field verbosity defaults to 1\n",
      "Field order defaults to 1\n",
      "Field seedRadius defaults to 0\n",
      "Fast marching solver completed in 6.511 s.\n",
      "Solver time (s). GPU : 0.1379985809326172, CPU : 9.773. Device acceleration : 70.81956882420423\n",
      "Max |gpuValues-cpuValues| :  8.216733560773015e-06\n"
     ]
    }
   ],
   "source": [
    "gpuOut,cpuOut = RunCompare(hfmIn,check=1e-4)"
   ]
  },
  {
   "cell_type": "code",
   "execution_count": 88,
   "metadata": {},
   "outputs": [
    {
     "name": "stdout",
     "output_type": "stream",
     "text": [
      "Casting output of function eye from float64 to float32\n"
     ]
    }
   ],
   "source": [
    "n=20; hfmInS = hfmIn.copy() # Define a small instance for bit-consistency validation\n",
    "hfmInS.SetRect([[-np.pi,np.pi],[-np.pi,np.pi],[-np.pi,np.pi]],dimx=n+1,sampleBoundary=True)\n",
    "hfmInS.update({\n",
    "    'metric' : surface_metric(hfmInS.Grid(),height,mu=anisotropy_bound), \n",
    "    'verbosity':0,\n",
    "})"
   ]
  },
  {
   "cell_type": "code",
   "execution_count": 89,
   "metadata": {},
   "outputs": [
    {
     "name": "stdout",
     "output_type": "stream",
     "text": [
      "mean_cost_bound 0.21939948\n",
      "Solver time (s). GPU : 0.006486415863037109, CPU : 0.038. Device acceleration : 5.858397118282731\n",
      "Max |gpuValues-cpuValues| :  2.67317871505135e-07\n",
      "\n",
      " --- Variant {'multiprecision': True} ---\n",
      "mean_cost_bound 0.21939948\n",
      "Solver time (s). GPU : 0.009496450424194336, CPU : 0.037000000000000005. Device acceleration : 3.896192613793277\n",
      "Max |gpuValues-cpuValues| :  4.1609422674060426e-07\n",
      "\n",
      " --- Variant {'seedRadius': 2.0} ---\n",
      "mean_cost_bound 0.21939948\n",
      "Solver time (s). GPU : 0.007990121841430664, CPU : 0.036000000000000004. Device acceleration : 4.505563333631725\n",
      "Max |gpuValues-cpuValues| :  2.0110513232474148e-07\n",
      "\n",
      " --- Variant {'seedRadius': 2.0, 'multiprecision': True} ---\n",
      "mean_cost_bound 0.21939948\n",
      "Solver time (s). GPU : 0.008496761322021484, CPU : 0.037000000000000005. Device acceleration : 4.354600370391156\n",
      "Max |gpuValues-cpuValues| :  4.477440634920171e-07\n"
     ]
    }
   ],
   "source": [
    "RunCompare(hfmInS,variants='basic')"
   ]
  },
  {
   "cell_type": "markdown",
   "metadata": {},
   "source": [
    "Due to the different switching criteria of the second order scheme, we do not have bit consistency in that case. The results are nevertheless quite close."
   ]
  },
  {
   "cell_type": "code",
   "execution_count": 91,
   "metadata": {},
   "outputs": [
    {
     "name": "stdout",
     "output_type": "stream",
     "text": [
      "mean_cost_bound 0.21939948\n",
      "Solver time (s). GPU : 0.009492874145507812, CPU : 0.037000000000000005. Device acceleration : 3.897660438014869\n",
      "Max |gpuValues-cpuValues| :  2.67317871505135e-07\n",
      "\n",
      " --- Variant {'multiprecision': True} ---\n",
      "mean_cost_bound 0.21939948\n",
      "Solver time (s). GPU : 0.009001016616821289, CPU : 0.037000000000000005. Device acceleration : 4.11064678303711\n",
      "Max |gpuValues-cpuValues| :  4.1609422674060426e-07\n",
      "\n",
      " --- Variant {'seedRadius': 2.0} ---\n",
      "mean_cost_bound 0.21939948\n",
      "Solver time (s). GPU : 0.007001161575317383, CPU : 0.037000000000000005. Device acceleration : 5.284837323344118\n",
      "Max |gpuValues-cpuValues| :  2.0110513232474148e-07\n",
      "\n",
      " --- Variant {'seedRadius': 2.0, 'multiprecision': True} ---\n",
      "mean_cost_bound 0.21939948\n",
      "Solver time (s). GPU : 0.00850224494934082, CPU : 0.035. Device acceleration : 4.116559827262276\n",
      "Max |gpuValues-cpuValues| :  4.477440634920171e-07\n",
      "\n",
      " --- Variant {'factoringRadius': 10.0, 'factoringPointChoice': 'Key'} ---\n",
      "mean_cost_bound 0.21939948\n",
      "Solver time (s). GPU : 0.008504867553710938, CPU : 0.042. Device acceleration : 4.938348508634223\n",
      "Max |gpuValues-cpuValues| :  0.01476599818996377\n",
      "\n",
      " --- Variant {'factoringRadius': 10.0, 'factoringPointChoice': 'Key', 'multiprecision': True} ---\n",
      "mean_cost_bound 0.21939948\n",
      "Solver time (s). GPU : 0.008499622344970703, CPU : 0.044. Device acceleration : 5.176700589060308\n",
      "Max |gpuValues-cpuValues| :  0.014766027992286213\n",
      "\n",
      " --- Variant {'order': 2} ---\n",
      "mean_cost_bound 0.21939948\n",
      "Solver time (s). GPU : 0.010501384735107422, CPU : 0.052000000000000005. Device acceleration : 4.951727920810063\n",
      "Max |gpuValues-cpuValues| :  0.07289490077301941\n",
      "\n",
      " --- Variant {'order': 2, 'multiprecision': True} ---\n",
      "mean_cost_bound 0.21939948\n",
      "Solver time (s). GPU : 0.011002063751220703, CPU : 0.052000000000000005. Device acceleration : 4.726385992285356\n",
      "Max |gpuValues-cpuValues| :  0.07289496037766419\n",
      "\n",
      " --- Variant {'order': 2, 'seedRadius': 2.0} ---\n",
      "mean_cost_bound 0.21939948\n",
      "Solver time (s). GPU : 0.008998394012451172, CPU : 0.05. Device acceleration : 5.5565470828254995\n",
      "Max |gpuValues-cpuValues| :  0.06854310791233531\n",
      "\n",
      " --- Variant {'order': 2, 'seedRadius': 2.0, 'multiprecision': True} ---\n",
      "mean_cost_bound 0.21939948\n",
      "Solver time (s). GPU : 0.008500814437866211, CPU : 0.05499999999999999. Device acceleration : 6.469968307390267\n",
      "Max |gpuValues-cpuValues| :  0.06854310791233531\n",
      "\n",
      " --- Variant {'order': 2, 'factoringRadius': 10.0, 'factoringPointChoice': 'Key'} ---\n",
      "mean_cost_bound 0.21939948\n",
      "Solver time (s). GPU : 0.0099945068359375, CPU : 0.051000000000000004. Device acceleration : 5.102803053435115\n",
      "Max |gpuValues-cpuValues| :  0.03978457489889492\n",
      "\n",
      " --- Variant {'order': 2, 'factoringRadius': 10.0, 'factoringPointChoice': 'Key', 'multiprecision': True} ---\n",
      "mean_cost_bound 0.21939948\n",
      "Solver time (s). GPU : 0.011499881744384766, CPU : 0.051000000000000004. Device acceleration : 4.434828212464237\n",
      "Max |gpuValues-cpuValues| :  0.040482753905471236\n"
     ]
    }
   ],
   "source": [
    "RunCompare(hfmInS,variants='ext',check=0.1)"
   ]
  },
  {
   "cell_type": "code",
   "execution_count": null,
   "metadata": {},
   "outputs": [],
   "source": []
  }
 ],
 "metadata": {
  "kernelspec": {
   "display_name": "Python 3",
   "language": "python",
   "name": "python3"
  },
  "language_info": {
   "codemirror_mode": {
    "name": "ipython",
    "version": 3
   },
   "file_extension": ".py",
   "mimetype": "text/x-python",
   "name": "python",
   "nbconvert_exporter": "python",
   "pygments_lexer": "ipython3",
   "version": "3.7.6"
  }
 },
 "nbformat": 4,
 "nbformat_minor": 4
}
