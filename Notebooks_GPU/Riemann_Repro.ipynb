{
 "cells": [
  {
   "cell_type": "markdown",
   "metadata": {},
   "source": [
    "# Adaptive PDE discretizations on cartesian grids \n",
    "## Volume : GPU accelerated methods\n",
    "## Part : Eikonal equations, acceleration and reproducibility\n",
    "## Chapter : Riemannian metrics"
   ]
  },
  {
   "cell_type": "markdown",
   "metadata": {},
   "source": [
    "In this notebook, we solve Riemannian eikonal equations on the CPU and the GPU, and check that they produce consistent results."
   ]
  },
  {
   "cell_type": "code",
   "execution_count": 1,
   "metadata": {},
   "outputs": [],
   "source": [
    "large_instances = False # Set to True to show off GPU acceleration (CPU times may become a big long.)"
   ]
  },
  {
   "cell_type": "markdown",
   "metadata": {},
   "source": [
    "[**Summary**](Summary.ipynb) of volume GPU accelerated methods, this series of notebooks.\n",
    "\n",
    "[**Main summary**](../Summary.ipynb) of the Adaptive Grid Discretizations \n",
    "\tbook of notebooks, including the other volumes.\n",
    "\n",
    "# Table of contents\n",
    "  * [1. Two dimensions](#1.-Two-dimensions)\n",
    "    * [1.1 Isotropic metric](#1.1-Isotropic-metric)\n",
    "    * [1.2 Smooth anisotropic metric](#1.2-Smooth-anisotropic-metric)\n",
    "  * [2. Three dimensions](#2.-Three-dimensions)\n",
    "    * [2.1 Smooth anisotropic metric](#2.1-Smooth-anisotropic-metric)\n",
    "\n",
    "\n",
    "\n",
    "**Acknowledgement.** The experiments presented in these notebooks are part of ongoing research.\n",
    "The author would like to acknowledge fruitful informal discussions with L. Gayraud on the \n",
    "topic of GPU coding and optimization.\n",
    "\n",
    "Copyright Jean-Marie Mirebeau, University Paris-Sud, CNRS, University Paris-Saclay"
   ]
  },
  {
   "cell_type": "markdown",
   "metadata": {},
   "source": [
    "## 0. Importing the required libraries"
   ]
  },
  {
   "cell_type": "code",
   "execution_count": 5,
   "metadata": {},
   "outputs": [],
   "source": [
    "import sys; sys.path.insert(0,\"..\")\n",
    "#from Miscellaneous import TocTools; print(TocTools.displayTOC('Riemann_Repro','GPU'))"
   ]
  },
  {
   "cell_type": "code",
   "execution_count": 6,
   "metadata": {},
   "outputs": [],
   "source": [
    "import cupy as cp\n",
    "import numpy as np\n",
    "import itertools\n",
    "from matplotlib import pyplot as plt\n",
    "np.set_printoptions(edgeitems=30, linewidth=100000, formatter=dict(float=lambda x: \"%5.3g\" % x))"
   ]
  },
  {
   "cell_type": "code",
   "execution_count": 7,
   "metadata": {},
   "outputs": [],
   "source": [
    "from agd import HFMUtils\n",
    "from agd import AutomaticDifferentiation as ad\n",
    "from agd import Metrics\n",
    "from agd import FiniteDifferences as fd\n",
    "from agd import LinearParallel as lp\n",
    "import agd.AutomaticDifferentiation.cupy_generic as cugen\n",
    "\n",
    "norm_infinity = ad.Optimization.norm_infinity\n",
    "from agd.HFMUtils import RunGPU,RunSmart"
   ]
  },
  {
   "cell_type": "code",
   "execution_count": 8,
   "metadata": {},
   "outputs": [],
   "source": [
    "def ReloadPackages():\n",
    "    from Miscellaneous.rreload import rreload\n",
    "    global HFMUtils,ad,cugen,RunGPU,RunSmart,Metrics\n",
    "    HFMUtils,ad,cugen,RunGPU,Metrics = rreload([HFMUtils,ad,cugen,RunGPU,Metrics],\"../..\")    \n",
    "    RunSmart = cugen.cupy_get_args(HFMUtils.RunSmart,dtype64=True,iterables=(dict,Metrics.Base))"
   ]
  },
  {
   "cell_type": "code",
   "execution_count": 9,
   "metadata": {},
   "outputs": [],
   "source": [
    "cp = ad.functional.decorate_module_functions(cp,cugen.set_output_dtype32) # Use float32 and int32 types in place of float64 and int64\n",
    "plt = ad.functional.decorate_module_functions(plt,cugen.cupy_get_args)\n",
    "RunSmart = cugen.cupy_get_args(RunSmart,dtype64=True,iterables=(dict,Metrics.Base))"
   ]
  },
  {
   "cell_type": "markdown",
   "metadata": {},
   "source": [
    "### 0.1 Utilities"
   ]
  },
  {
   "cell_type": "code",
   "execution_count": 10,
   "metadata": {},
   "outputs": [],
   "source": [
    "#from Notebooks_GPU.ExportedCode.Isotropic_Repro import RunCompare\n",
    "def RunCompare(gpuIn,check=True):\n",
    "    gpuOut = RunGPU(gpuIn)\n",
    "    if gpuIn.get('verbosity',1): print(f\"--- gpu done, turning to cpu ---, large_instances={large_instances}\")\n",
    "    cpuIn = gpuIn.copy(); cpuIn.pop('traits',None)\n",
    "    cpuOut = RunSmart(cpuIn)\n",
    "    print(\"Max |gpuValues-cpuValues| : \", norm_infinity(gpuOut['values'].get()-cpuOut['values']))\n",
    "    cpuTime = cpuOut['FMCPUTime'] + cpuOut['StencilCPUTime']; gpuTime = gpuOut['solverGPUTime'];\n",
    "    print(f\"Solver time (s). GPU : {gpuTime}, CPU : {cpuTime}. Device acceleration : {cpuTime/gpuTime}\")\n",
    "    assert not check or cp.allclose(gpuOut['values'],cpuOut['values'],atol=1e-5,rtol=1e-4)\n",
    "    return gpuOut,cpuOut"
   ]
  },
  {
   "cell_type": "code",
   "execution_count": 11,
   "metadata": {},
   "outputs": [],
   "source": [
    "factor_variants = [\n",
    "    {}, # Default\n",
    "    {\"seedRadius\":2}, # Spread seed information\n",
    "    {\"factorizationRadius\":10,'factorizationPointChoice':'Key'} # Source factorization\n",
    "]\n",
    "multip_variants = [\n",
    "    {'multiprecision':False,'tol':1e-5}, # Default, with smaller error tolerance for reproducibility check\n",
    "    {'multiprecision':True}, # Reduces roundoff errors\n",
    "]\n",
    "order_variants = [\n",
    "    {'order':1}, # Default\n",
    "    {'order':2}, # More accurate on smooth instances\n",
    "]"
   ]
  },
  {
   "cell_type": "markdown",
   "metadata": {},
   "source": [
    "## 1. Two dimensions"
   ]
  },
  {
   "cell_type": "markdown",
   "metadata": {},
   "source": [
    "### 1.1 Isotropic metric"
   ]
  },
  {
   "cell_type": "code",
   "execution_count": 12,
   "metadata": {},
   "outputs": [
    {
     "name": "stdout",
     "output_type": "stream",
     "text": [
      "Casting output of function eye from float64 to float32\n",
      "Casting output of function array from float64 to float32\n"
     ]
    }
   ],
   "source": [
    "n=4000 if large_instances else 1000\n",
    "hfmIn = HFMUtils.dictIn({\n",
    "    'model':'Riemann2',\n",
    "    'metric':Metrics.Riemann(cp.eye(2)),\n",
    "    'seeds':cp.array([[0.5,0.5]]),\n",
    "    'exportValues':1,\n",
    "    'bound_active_blocks':True,\n",
    "    'traits':{\n",
    "        'niter_i':24,'shape_i':(12,12), # Best\n",
    "#        'pruning_macro':1,\n",
    "    }\n",
    "})\n",
    "hfmIn.SetRect([[0,1],[0,1]],dimx=n+1,sampleBoundary=True)"
   ]
  },
  {
   "cell_type": "code",
   "execution_count": 9,
   "metadata": {},
   "outputs": [
    {
     "name": "stdout",
     "output_type": "stream",
     "text": [
      "Setting the kernel traits.\n",
      "Prepating the domain data (shape,metric,...)\n",
      "Preparing the problem rhs (cost, seeds,...)\n",
      "Preparing the GPU kernel\n",
      "Running the eikonal GPU kernel\n",
      "GPU kernel eikonal ran for 0.3769969940185547 seconds,  and 336 iterations.\n",
      "Post-Processing\n",
      "---\n",
      "Field verbosity defaults to 1\n",
      "Field order defaults to 1\n",
      "Field seedRadius defaults to 0\n",
      "Fast marching solver completed in 18.507 s.\n",
      "***** Warning ! *****\n",
      "Unused fields from user: bound_active_blocks \n",
      "********************\n",
      "Max |gpuValues-cpuValues| :  1.5338908722906108e-05\n",
      "Solver time (s). GPU : 0.3769969940185547, CPU : 18.507. Device acceleration : 49.09057709645595\n"
     ]
    }
   ],
   "source": [
    "_,cpuOut = RunCompare(hfmIn,check=False)"
   ]
  },
  {
   "cell_type": "code",
   "execution_count": 13,
   "metadata": {},
   "outputs": [
    {
     "name": "stdout",
     "output_type": "stream",
     "text": [
      "Casting output of function eye from float64 to float32\n"
     ]
    }
   ],
   "source": [
    "n=200; hfmInS = hfmIn.copy() # Define a small instance for bit-consistency validation\n",
    "hfmInS.SetRect([[0,1],[0,1]],dimx=n+1,sampleBoundary=True)\n",
    "X = hfmInS.Grid()\n",
    "cost = np.prod(np.sin(2*np.pi*X))+1.1\n",
    "hfmInS.update({\n",
    "    'metric': Metrics.Riemann(cost**2*fd.as_field(cp.eye(2),X.shape[1:])), # Isotropic but non-constant metric\n",
    "    'verbosity':0,\n",
    "})"
   ]
  },
  {
   "cell_type": "code",
   "execution_count": 14,
   "metadata": {},
   "outputs": [
    {
     "name": "stdout",
     "output_type": "stream",
     "text": [
      "\n",
      "Reproducibility with options : {}, {'multiprecision': False, 'tol': 1e-05}\n",
      "Max |gpuValues-cpuValues| :  4.017569794623199e-07\n",
      "Solver time (s). GPU : 0.12299823760986328, CPU : 0.05. Device acceleration : 0.4065098896668295\n",
      "\n",
      "Reproducibility with options : {}, {'multiprecision': True}\n",
      "Max |gpuValues-cpuValues| :  4.940263631514341e-08\n",
      "Solver time (s). GPU : 0.012986898422241211, CPU : 0.049. Device acceleration : 3.7730332837656735\n",
      "\n",
      "Reproducibility with options : {'seedRadius': 2}, {'multiprecision': False, 'tol': 1e-05}\n",
      "Max |gpuValues-cpuValues| :  4.202669309227858e-07\n",
      "Solver time (s). GPU : 0.01300501823425293, CPU : 0.051000000000000004. Device acceleration : 3.9215631290446775\n",
      "\n",
      "Reproducibility with options : {'seedRadius': 2}, {'multiprecision': True}\n",
      "Max |gpuValues-cpuValues| :  9.997386174465106e-08\n",
      "Solver time (s). GPU : 0.011998414993286133, CPU : 0.05. Device acceleration : 4.1672170889220075\n",
      "\n",
      "Reproducibility with options : {'factorizationRadius': 10, 'factorizationPointChoice': 'Key'}, {'multiprecision': False, 'tol': 1e-05}\n",
      "Max |gpuValues-cpuValues| :  4.017569794623199e-07\n",
      "Solver time (s). GPU : 0.013500690460205078, CPU : 0.05. Device acceleration : 3.7035142867234137\n",
      "\n",
      "Reproducibility with options : {'factorizationRadius': 10, 'factorizationPointChoice': 'Key'}, {'multiprecision': True}\n",
      "Max |gpuValues-cpuValues| :  4.940263631514341e-08\n",
      "Solver time (s). GPU : 0.012503862380981445, CPU : 0.051000000000000004. Device acceleration : 4.078739708265802\n"
     ]
    }
   ],
   "source": [
    "for fact,multip in itertools.product(factor_variants,multip_variants):\n",
    "    print(f\"\\nReproducibility with options : {fact}, {multip}\")\n",
    "    RunCompare({**hfmInS,**fact,**multip})"
   ]
  },
  {
   "cell_type": "code",
   "execution_count": 15,
   "metadata": {},
   "outputs": [],
   "source": [
    "hfmInS.update({\n",
    "    'seeds':[[0.,1.]],\n",
    "    'order':2,\n",
    "    'traits':{'decreasing_macro':0,},\n",
    "})"
   ]
  },
  {
   "cell_type": "code",
   "execution_count": 16,
   "metadata": {},
   "outputs": [
    {
     "name": "stdout",
     "output_type": "stream",
     "text": [
      "\n",
      "Reproducibility with options : {}, {'multiprecision': False, 'tol': 1e-05}\n",
      "Max |gpuValues-cpuValues| :  4.88107854068609e-06\n",
      "Solver time (s). GPU : 0.04500007629394531, CPU : 0.063. Device acceleration : 1.3999976264146146\n",
      "\n",
      "Reproducibility with options : {}, {'multiprecision': True}\n",
      "Max |gpuValues-cpuValues| :  8.07258024870805e-08\n",
      "Solver time (s). GPU : 0.036496877670288086, CPU : 0.066. Device acceleration : 1.8083738723142952\n",
      "\n",
      "Reproducibility with options : {'factorizationRadius': 10, 'factorizationPointChoice': 'Key'}, {'multiprecision': False, 'tol': 1e-05}\n",
      "Max |gpuValues-cpuValues| :  4.88107854068609e-06\n",
      "Solver time (s). GPU : 0.035475969314575195, CPU : 0.064. Device acceleration : 1.8040380921658368\n",
      "\n",
      "Reproducibility with options : {'factorizationRadius': 10, 'factorizationPointChoice': 'Key'}, {'multiprecision': True}\n",
      "Max |gpuValues-cpuValues| :  8.07258024870805e-08\n",
      "Solver time (s). GPU : 0.03400087356567383, CPU : 0.062. Device acceleration : 1.8234825608302363\n"
     ]
    }
   ],
   "source": [
    "for fact,multip in itertools.product((factor_variants[0],factor_variants[2]),multip_variants):\n",
    "    print(f\"\\nReproducibility with options : {fact}, {multip}\")\n",
    "    RunCompare({**hfmInS,**fact,**multip})"
   ]
  },
  {
   "cell_type": "markdown",
   "metadata": {},
   "source": [
    "### 1.2 Smooth anisotropic metric"
   ]
  },
  {
   "cell_type": "code",
   "execution_count": 172,
   "metadata": {},
   "outputs": [
    {
     "name": "stdout",
     "output_type": "stream",
     "text": [
      "Casting output of function array from float64 to float32\n"
     ]
    }
   ],
   "source": [
    "n=4000 if large_instances else 1000\n",
    "hfmIn = HFMUtils.dictIn({\n",
    "    'model':'Riemann2',\n",
    "    'seeds':cp.array([[0.,0.]]),\n",
    "    'exportValues':1,\n",
    "    'bound_active_blocks':True,\n",
    "    'traits':{\n",
    "        'niter_i':16,'shape_i':(8,8), # Best\n",
    "    },\n",
    "})\n",
    "hfmIn.SetRect([[-np.pi,np.pi],[-np.pi,np.pi]],dimx=n+1,sampleBoundary=True)"
   ]
  },
  {
   "cell_type": "code",
   "execution_count": 173,
   "metadata": {},
   "outputs": [],
   "source": [
    "def height(x): return np.sin(x[0])*np.sin(x[1])\n",
    "def surface_metric(x,z,mu=10.):\n",
    "    ndim,shape = x.ndim-1,x.shape[1:]\n",
    "    x_ad = ad.Dense.identity(constant=x,shape_free=(ndim,))\n",
    "    tensors = lp.outer_self( z(x_ad).gradient() ) + mu**-2 * fd.as_field(cp.eye(ndim),shape)\n",
    "    return Metrics.Riemann(tensors)"
   ]
  },
  {
   "cell_type": "code",
   "execution_count": 174,
   "metadata": {},
   "outputs": [
    {
     "name": "stdout",
     "output_type": "stream",
     "text": [
      "Casting output of function eye from float64 to float32\n"
     ]
    }
   ],
   "source": [
    "hfmIn['metric'] = surface_metric(hfmIn.Grid(),height)"
   ]
  },
  {
   "cell_type": "code",
   "execution_count": 116,
   "metadata": {},
   "outputs": [
    {
     "name": "stdout",
     "output_type": "stream",
     "text": [
      "Setting the kernel traits.\n",
      "Prepating the domain data (shape,metric,...)\n",
      "Preparing the problem rhs (cost, seeds,...)\n",
      "Preparing the GPU kernel\n",
      "Running the eikonal GPU kernel\n",
      "GPU kernel eikonal ran for 0.18547463417053223 seconds,  and 217 iterations.\n",
      "Post-Processing\n",
      "--- gpu done, turning to cpu ---, large_instances=False\n",
      "Field verbosity defaults to 1\n",
      "Field order defaults to 1\n",
      "Field seedRadius defaults to 0\n",
      "Fast marching solver completed in 1.516 s.\n",
      "Max |gpuValues-cpuValues| :  0.0010567203521119062\n",
      "Solver time (s). GPU : 0.18547463417053223, CPU : 2.661. Device acceleration : 14.346975325765454\n"
     ]
    }
   ],
   "source": [
    "gpuOut,cpuOut = RunCompare(hfmIn,check=False)"
   ]
  },
  {
   "cell_type": "code",
   "execution_count": 175,
   "metadata": {},
   "outputs": [
    {
     "name": "stdout",
     "output_type": "stream",
     "text": [
      "Casting output of function eye from float64 to float32\n"
     ]
    }
   ],
   "source": [
    "n=200; hfmInS = hfmIn.copy() # Define a small instance for bit-consistency validation\n",
    "hfmInS.SetRect([[-np.pi,np.pi],[-np.pi,np.pi]],dimx=n+1,sampleBoundary=True)\n",
    "hfmInS.update({\n",
    "    'metric' : surface_metric(hfmInS.Grid(),height), \n",
    "    'verbosity':0,\n",
    "})"
   ]
  },
  {
   "cell_type": "code",
   "execution_count": 176,
   "metadata": {},
   "outputs": [
    {
     "name": "stdout",
     "output_type": "stream",
     "text": [
      "\n",
      "Reproducibility with options : {}, {'multiprecision': False, 'tol': 1e-05}\n",
      "Max |gpuValues-cpuValues| :  2.4202271889928184e-05\n",
      "Solver time (s). GPU : 0.08350133895874023, CPU : 0.094. Device acceleration : 1.1257304514176398\n",
      "\n",
      "Reproducibility with options : {}, {'multiprecision': True}\n",
      "Max |gpuValues-cpuValues| :  2.1523372906173677e-07\n",
      "Solver time (s). GPU : 0.05951857566833496, CPU : 0.093. Device acceleration : 1.5625373919940393\n",
      "\n",
      "Reproducibility with options : {'seedRadius': 2}, {'multiprecision': False, 'tol': 1e-05}\n",
      "Max |gpuValues-cpuValues| :  2.423421811181825e-05\n",
      "Solver time (s). GPU : 0.04352450370788574, CPU : 0.091. Device acceleration : 2.090776281120758\n",
      "\n",
      "Reproducibility with options : {'seedRadius': 2}, {'multiprecision': True}\n",
      "Max |gpuValues-cpuValues| :  2.2754650697009993e-07\n",
      "Solver time (s). GPU : 0.060980796813964844, CPU : 0.09. Device acceleration : 1.4758744506826391\n",
      "\n",
      "Reproducibility with options : {'factorizationRadius': 10, 'factorizationPointChoice': 'Key'}, {'multiprecision': False, 'tol': 1e-05}\n",
      "Max |gpuValues-cpuValues| :  2.2354527901891075e-05\n",
      "Solver time (s). GPU : 0.04851841926574707, CPU : 0.094. Device acceleration : 1.937408543446961\n",
      "\n",
      "Reproducibility with options : {'factorizationRadius': 10, 'factorizationPointChoice': 'Key'}, {'multiprecision': True}\n",
      "Max |gpuValues-cpuValues| :  2.1523372906173677e-07\n",
      "Solver time (s). GPU : 0.05549979209899902, CPU : 0.092. Device acceleration : 1.6576638672067978\n"
     ]
    }
   ],
   "source": [
    "for fact,multip in itertools.product(factor_variants,multip_variants):\n",
    "    print(f\"\\nReproducibility with options : {fact}, {multip}\")\n",
    "    RunCompare({**hfmInS,**fact,**multip})"
   ]
  },
  {
   "cell_type": "markdown",
   "metadata": {},
   "source": [
    "Due to the different switching criteria of the second order scheme, we do not have bit consistency in that case. The results are nevertheless quite close. Note also that we do not deactivate the `decreasing` trait here, contrary to the isotropic case, because the scheme often does not converge without it.\n",
    "\n",
    "**Bottom line.** Second order accuracy for anisotropic metrics on the GPU is very experimental, and not much reliable, at this stage. Further investigation is needed on the matter."
   ]
  },
  {
   "cell_type": "code",
   "execution_count": 177,
   "metadata": {},
   "outputs": [],
   "source": [
    "hfmInS.update({\n",
    "    'seeds':[[0.,1.]],\n",
    "    'order':2,\n",
    "})"
   ]
  },
  {
   "cell_type": "code",
   "execution_count": 178,
   "metadata": {},
   "outputs": [
    {
     "name": "stdout",
     "output_type": "stream",
     "text": [
      "\n",
      "Reproducibility with options : {}, {'multiprecision': False, 'tol': 1e-05}\n",
      "Max |gpuValues-cpuValues| :  0.08327210144215402\n",
      "Solver time (s). GPU : 0.05751752853393555, CPU : 0.11699999999999999. Device acceleration : 2.034162506321348\n",
      "\n",
      "Reproducibility with options : {}, {'multiprecision': True}\n",
      "Max |gpuValues-cpuValues| :  0.08325955429342868\n",
      "Solver time (s). GPU : 0.0664987564086914, CPU : 0.119. Device acceleration : 1.7895071491058239\n",
      "\n",
      "Reproducibility with options : {'factorizationRadius': 10, 'factorizationPointChoice': 'Key'}, {'multiprecision': False, 'tol': 1e-05}\n",
      "Max |gpuValues-cpuValues| :  0.08324077883032444\n",
      "Solver time (s). GPU : 0.055999040603637695, CPU : 0.113. Device acceleration : 2.0178917135351697\n",
      "\n",
      "Reproducibility with options : {'factorizationRadius': 10, 'factorizationPointChoice': 'Key'}, {'multiprecision': True}\n",
      "Max |gpuValues-cpuValues| :  0.08325955429342868\n",
      "Solver time (s). GPU : 0.06600832939147949, CPU : 0.12. Device acceleration : 1.8179523873162873\n"
     ]
    }
   ],
   "source": [
    "for fact,multip in itertools.product((factor_variants[0],factor_variants[2]),multip_variants):\n",
    "    print(f\"\\nReproducibility with options : {fact}, {multip}\")\n",
    "    RunCompare({**hfmInS,**fact,**multip},check=False)"
   ]
  },
  {
   "cell_type": "markdown",
   "metadata": {},
   "source": [
    "If one removes enforced monotonicity, obtaining the scheme convergence is harder, and requires setting some other parameters carefully and conservatively.\n",
    "<!---\n",
    "hfmInS.update({\n",
    "    'order2_threshold':0.03,\n",
    "    'verbosity':1,\n",
    "    'traits':{'decreasing_macro':0,'order2_threshold_weighted_macro':1},\n",
    "    'metric' : surface_metric(hfmInS.Grid(),height),\n",
    "    'multiprecision':False,\n",
    "    'tol':1e-6\n",
    "})\n",
    "--->"
   ]
  },
  {
   "cell_type": "code",
   "execution_count": 197,
   "metadata": {},
   "outputs": [],
   "source": [
    "hfmInS.update({\n",
    "    'tol':1e-6, # Tolerance for the convergence of the fixed point solver\n",
    "    'order2_threshold':0.03, # Use first order scheme if second order difference is too large\n",
    "    'traits':{'decreasing_macro':0}, # Do not enforce monotonicity\n",
    "})"
   ]
  },
  {
   "cell_type": "code",
   "execution_count": 200,
   "metadata": {},
   "outputs": [
    {
     "name": "stdout",
     "output_type": "stream",
     "text": [
      "\n",
      "Reproducibility with options : {}, {'multiprecision': False, 'tol': 1e-05}\n",
      "Max |gpuValues-cpuValues| :  0.13612470285256717\n",
      "Solver time (s). GPU : 0.056998252868652344, CPU : 0.11499999999999999. Device acceleration : 2.017605702143323\n",
      "\n",
      "Reproducibility with options : {}, {'multiprecision': True}\n",
      "Max |gpuValues-cpuValues| :  0.13615051166375491\n",
      "Solver time (s). GPU : 0.06450557708740234, CPU : 0.12. Device acceleration : 1.8603042623338606\n",
      "\n",
      "Reproducibility with options : {'factorizationRadius': 10, 'factorizationPointChoice': 'Key'}, {'multiprecision': False, 'tol': 1e-05}\n",
      "Max |gpuValues-cpuValues| :  0.13613274947961185\n",
      "Solver time (s). GPU : 0.05651998519897461, CPU : 0.11499999999999999. Device acceleration : 2.034678522918055\n",
      "\n",
      "Reproducibility with options : {'factorizationRadius': 10, 'factorizationPointChoice': 'Key'}, {'multiprecision': True}\n",
      "Max |gpuValues-cpuValues| :  0.13615051166375491\n",
      "Solver time (s). GPU : 0.06451916694641113, CPU : 0.11599999999999999. Device acceleration : 1.7979153403568933\n"
     ]
    }
   ],
   "source": [
    "for fact,multip in itertools.product((factor_variants[0],factor_variants[2]),multip_variants):\n",
    "    print(f\"\\nReproducibility with options : {fact}, {multip}\")\n",
    "    RunCompare({**hfmInS,**fact,**multip},check=False)"
   ]
  },
  {
   "cell_type": "code",
   "execution_count": null,
   "metadata": {},
   "outputs": [],
   "source": [
    "# TODO : discontinuous metric"
   ]
  },
  {
   "cell_type": "markdown",
   "metadata": {},
   "source": [
    "## 2. Three dimensions"
   ]
  },
  {
   "cell_type": "markdown",
   "metadata": {},
   "source": [
    "### 2.1 Smooth anisotropic metric\n",
    "\n",
    "We generalize the two dimensional test case, although it does not much make geometrical sense anymore: we are computing geodesics in a three dimensional volume viewed as an hypersurface embedded in four dimensional Euclidean space."
   ]
  },
  {
   "cell_type": "code",
   "execution_count": 77,
   "metadata": {},
   "outputs": [
    {
     "name": "stdout",
     "output_type": "stream",
     "text": [
      "Casting output of function array from float64 to float32\n"
     ]
    }
   ],
   "source": [
    "n=200 if large_instances else 100\n",
    "hfmIn = HFMUtils.dictIn({\n",
    "    'model':'Riemann3',\n",
    "    'seeds':cp.array([[0.,0.,0.]]),\n",
    "    'exportValues':1,\n",
    "#    'tol':5e-3,\n",
    "#    'multiprecision':True,\n",
    "#    'bound_active_blocks':True,\n",
    "#    'nitermax_o':200,\n",
    "#    'raiseOnNonConvergence':0,\n",
    "})\n",
    "hfmIn.SetRect([[-np.pi,np.pi],[-np.pi,np.pi],[-np.pi,np.pi]],dimx=n+1,sampleBoundary=True)"
   ]
  },
  {
   "cell_type": "code",
   "execution_count": 78,
   "metadata": {},
   "outputs": [],
   "source": [
    "def height3(x): return np.sin(x[0])*np.sin(x[1])*np.sin(x[2])"
   ]
  },
  {
   "cell_type": "code",
   "execution_count": 79,
   "metadata": {},
   "outputs": [
    {
     "name": "stdout",
     "output_type": "stream",
     "text": [
      "Casting output of function eye from float64 to float32\n"
     ]
    }
   ],
   "source": [
    "hfmIn['metric'] = surface_metric(hfmIn.Grid(),height3)"
   ]
  },
  {
   "cell_type": "code",
   "execution_count": 81,
   "metadata": {},
   "outputs": [
    {
     "name": "stdout",
     "output_type": "stream",
     "text": [
      "Setting the kernel traits.\n",
      "Prepating the domain data (shape,metric,...)\n",
      "Preparing the problem rhs (cost, seeds,...)\n",
      "Preparing the GPU kernel\n",
      "Running the eikonal GPU kernel\n",
      "GPU kernel eikonal ran for 0.32101917266845703 seconds,  and 82 iterations.\n",
      "Post-Processing\n",
      "---\n",
      "Field verbosity defaults to 1\n",
      "Field order defaults to 1\n",
      "Field seedRadius defaults to 0\n",
      "Fast marching solver completed in 50.128 s.\n",
      "Max |gpuValues-cpuValues| :  0.00029890265088505785\n",
      "Solver time (s). GPU : 0.32101917266845703, CPU : 75.92. Device acceleration : 236.49677796163547\n"
     ]
    }
   ],
   "source": [
    "gpuOut,cpuOut = RunCompare(hfmIn,check=False)"
   ]
  },
  {
   "cell_type": "code",
   "execution_count": 82,
   "metadata": {},
   "outputs": [
    {
     "name": "stdout",
     "output_type": "stream",
     "text": [
      "Casting output of function eye from float64 to float32\n"
     ]
    }
   ],
   "source": [
    "n=20; hfmInS = hfmIn.copy() # Define a small instance for bit-consistency validation\n",
    "hfmInS.SetRect([[-np.pi,np.pi],[-np.pi,np.pi],[-np.pi,np.pi]],dimx=n+1,sampleBoundary=True)\n",
    "hfmInS.update({\n",
    "    'metric' : surface_metric(hfmInS.Grid(),height), \n",
    "    'verbosity':0,\n",
    "})"
   ]
  },
  {
   "cell_type": "code",
   "execution_count": 83,
   "metadata": {},
   "outputs": [
    {
     "name": "stdout",
     "output_type": "stream",
     "text": [
      "\n",
      "Reproducibility with options : {}, {'multiprecision': False, 'tol': 1e-05}\n",
      "Max |gpuValues-cpuValues| :  2.8622223124941115e-07\n",
      "Solver time (s). GPU : 0.009001493453979492, CPU : 0.037000000000000005. Device acceleration : 4.110429029267647\n",
      "\n",
      "Reproducibility with options : {}, {'multiprecision': True}\n",
      "Max |gpuValues-cpuValues| :  1.3236979510278246e-06\n",
      "Solver time (s). GPU : 0.010003328323364258, CPU : 0.038. Device acceleration : 3.7987356579355054\n",
      "\n",
      "Reproducibility with options : {'seedRadius': 2}, {'multiprecision': False, 'tol': 1e-05}\n",
      "Max |gpuValues-cpuValues| :  6.626114279484341e-07\n",
      "Solver time (s). GPU : 0.009004592895507812, CPU : 0.036000000000000004. Device acceleration : 3.997959754289346\n",
      "\n",
      "Reproducibility with options : {'seedRadius': 2}, {'multiprecision': True}\n",
      "Max |gpuValues-cpuValues| :  9.817316104498985e-07\n",
      "Solver time (s). GPU : 0.007997751235961914, CPU : 0.037. Device acceleration : 4.62630043225518\n",
      "\n",
      "Reproducibility with options : {'factorizationRadius': 10, 'factorizationPointChoice': 'Key'}, {'multiprecision': False, 'tol': 1e-05}\n",
      "Max |gpuValues-cpuValues| :  2.8622223124941115e-07\n",
      "Solver time (s). GPU : 0.00952601432800293, CPU : 0.035. Device acceleration : 3.6741494180953578\n",
      "\n",
      "Reproducibility with options : {'factorizationRadius': 10, 'factorizationPointChoice': 'Key'}, {'multiprecision': True}\n",
      "Max |gpuValues-cpuValues| :  1.3236979510278246e-06\n",
      "Solver time (s). GPU : 0.009498119354248047, CPU : 0.037. Device acceleration : 3.8955080074300916\n"
     ]
    }
   ],
   "source": [
    "for fact,multip in itertools.product(factor_variants,multip_variants):\n",
    "    print(f\"\\nReproducibility with options : {fact}, {multip}\")\n",
    "    RunCompare({**hfmInS,**fact,**multip})"
   ]
  },
  {
   "cell_type": "markdown",
   "metadata": {},
   "source": [
    "Due to the different switching criteria of the second order scheme, we do not have bit consistency in that case. The results are nevertheless quite close."
   ]
  },
  {
   "cell_type": "code",
   "execution_count": 84,
   "metadata": {},
   "outputs": [],
   "source": [
    "hfmInS.update({\n",
    "    'seeds':[[0.,1.,1.]],\n",
    "    'order':2,\n",
    "})"
   ]
  },
  {
   "cell_type": "code",
   "execution_count": 85,
   "metadata": {},
   "outputs": [
    {
     "name": "stdout",
     "output_type": "stream",
     "text": [
      "\n",
      "Reproducibility with options : {}, {'multiprecision': False, 'tol': 1e-05}\n",
      "Max |gpuValues-cpuValues| :  0.09287448188858416\n",
      "Solver time (s). GPU : 0.01151275634765625, CPU : 0.052000000000000005. Device acceleration : 4.516728959575879\n",
      "\n",
      "Reproducibility with options : {}, {'multiprecision': True}\n",
      "Max |gpuValues-cpuValues| :  0.09287448188858416\n",
      "Solver time (s). GPU : 0.012499094009399414, CPU : 0.048. Device acceleration : 3.8402783404864094\n",
      "\n",
      "Reproducibility with options : {'factorizationRadius': 10, 'factorizationPointChoice': 'Key'}, {'multiprecision': False, 'tol': 1e-05}\n",
      "Max |gpuValues-cpuValues| :  0.09287448188858416\n",
      "Solver time (s). GPU : 0.00899815559387207, CPU : 0.048. Device acceleration : 5.334426538777457\n",
      "\n",
      "Reproducibility with options : {'factorizationRadius': 10, 'factorizationPointChoice': 'Key'}, {'multiprecision': True}\n",
      "Max |gpuValues-cpuValues| :  0.09287448188858416\n",
      "Solver time (s). GPU : 0.012500762939453125, CPU : 0.049. Device acceleration : 3.919760756789747\n"
     ]
    }
   ],
   "source": [
    "for fact,multip in itertools.product((factor_variants[0],factor_variants[2]),multip_variants):\n",
    "    print(f\"\\nReproducibility with options : {fact}, {multip}\")\n",
    "    RunCompare({**hfmInS,**fact,**multip},check=False)"
   ]
  },
  {
   "cell_type": "code",
   "execution_count": null,
   "metadata": {},
   "outputs": [],
   "source": []
  }
 ],
 "metadata": {
  "kernelspec": {
   "display_name": "Python 3",
   "language": "python",
   "name": "python3"
  },
  "language_info": {
   "codemirror_mode": {
    "name": "ipython",
    "version": 3
   },
   "file_extension": ".py",
   "mimetype": "text/x-python",
   "name": "python",
   "nbconvert_exporter": "python",
   "pygments_lexer": "ipython3",
   "version": "3.7.6"
  }
 },
 "nbformat": 4,
 "nbformat_minor": 4
}
