{
 "cells": [
  {
   "cell_type": "markdown",
   "metadata": {},
   "source": [
    "# The HFM library - A fast marching solver with adaptive stencils\n",
    "\n",
    "## Part : Algorithmic enhancements to the fast marching method\n",
    "## Chapter : Comparison with geodesic shooting"
   ]
  },
  {
   "cell_type": "markdown",
   "metadata": {},
   "source": [
    "In this chapter, we illustrate the computation of geodesics using Hamilton's equations, and compare them to those extracted with the fast marching methods."
   ]
  },
  {
   "cell_type": "markdown",
   "metadata": {},
   "source": [
    "[**Summary**](Summary.ipynb) of volume Fast Marching Methods, this series of notebooks.\n",
    "\n",
    "[**Main summary**](../Summary.ipynb) of the Adaptive Grid Discretizations \n",
    "\tbook of notebooks, including the other volumes.\n",
    "\n",
    "# Table of contents\n",
    "  * [1. Isotropic metrics and the Brachistochrone problem](#1.-Isotropic-metrics-and-the-Brachistochrone-problem)\n",
    "\n",
    "\n",
    "\n",
    "This Python&reg; notebook is intended as documentation and testing for the [HamiltonFastMarching (HFM) library](https://github.com/mirebeau/HamiltonFastMarching), which also has interfaces to the Matlab&reg; and Mathematica&reg; languages. \n",
    "More information on the HFM library in the manuscript:\n",
    "* Jean-Marie Mirebeau, Jorg Portegies, \"Hamiltonian Fast Marching: A numerical solver for anisotropic and non-holonomic eikonal PDEs\", 2019 [(link)](https://hal.archives-ouvertes.fr/hal-01778322)\n",
    "\n",
    "Copyright Jean-Marie Mirebeau, University Paris-Sud, CNRS, University Paris-Saclay"
   ]
  },
  {
   "cell_type": "markdown",
   "metadata": {},
   "source": [
    "## 0. Importing the required libraries"
   ]
  },
  {
   "cell_type": "code",
   "execution_count": 1,
   "metadata": {},
   "outputs": [],
   "source": [
    "import sys; sys.path.insert(0,\"../..\") # Allow import of agd from parent directory (useless if conda package installed)\n",
    "#from Miscellaneous import TocTools; print(TocTools.displayTOC('HamiltonianShooting','FMM'))"
   ]
  },
  {
   "cell_type": "code",
   "execution_count": 2,
   "metadata": {},
   "outputs": [],
   "source": [
    "from agd import HFMUtils\n",
    "from agd import LinearParallel as lp\n",
    "from agd import Metrics\n",
    "from agd import AutomaticDifferentiation as ad\n",
    "from agd import FiniteDifferences as fd\n",
    "norm_infinity = ad.Optimization.norm_infinity\n",
    "lo = ad.left_operand\n",
    "from agd.Plotting import savefig; #savefig.dirName = 'Images/HamiltonianShooting'\n",
    "\n",
    "from agd import Interpolation"
   ]
  },
  {
   "cell_type": "code",
   "execution_count": 3,
   "metadata": {},
   "outputs": [],
   "source": [
    "import numpy as np\n",
    "import scipy.integrate\n",
    "from matplotlib import pyplot as plt"
   ]
  },
  {
   "cell_type": "code",
   "execution_count": 4,
   "metadata": {},
   "outputs": [],
   "source": [
    "def reload_packages():\n",
    "    from Miscellaneous.rreload import rreload\n",
    "    global ad,lp,fd,Metrics,Interpolation\n",
    "    ad,lp,fd,Metrics,Interpolation = rreload([ad,lp,fd,Metrics,Interpolation],rootdir=\"../..\")"
   ]
  },
  {
   "cell_type": "markdown",
   "metadata": {},
   "source": [
    "## 1. Isotropic metrics and the Brachistochrone problem\n",
    "\n",
    "A brachistochrone curve, in mathematics and physics, is a curve of fastest descent, between two points in a uniform gravity field, and neglecting friction. The standard brachistochrone problem assumes that the curve can be constructed  without constraints in free space and admits an explicit solution: the cycloid. See [Wikipedia](https://en.wikipedia.org/wiki/Brachistochrone_curve).\n",
    "\n",
    "In this section, we recover this explicit solution numerically.\n",
    "Consider a point of mass $m$, at altitude $h$, with velocity $v$, and denote by $g$ the intensity of the gravity field. The potential energy of this point is \n",
    "$$\n",
    "    E = m g h + \\frac 1 2 m \\|v\\|^2,\n",
    "$$\n",
    "and it is conserved along the motion, provided there is no friction.\n",
    "\n",
    "For simplicity, but without loss of generality, we assume that $m = 1$ and $g=1$, and denote $z = -h$. Up to a vertical translation, we may also assume that the conserved energy equals zero. Then we obtain $-z+\\frac 1 2 \\|v\\|^2=0$, equivalently\n",
    "$$\n",
    "    \\frac {\\|v\\|^2}{2 z} = 1.\n",
    "$$\n",
    "Thus the brachistochrone problem amounts to find a geodesic, between two given points, for an isotropic metric whose (half squared) expression is given above. More explicitly, denoting by $q=(x,z)$ the position, and $v$ the speed\n",
    "$$\n",
    "    F_q(v) := \\frac {\\|v\\|}{\\sqrt z}.\n",
    "$$"
   ]
  },
  {
   "cell_type": "markdown",
   "metadata": {},
   "source": [
    "### 1.1 Explicit solution: the cycloid.\n",
    "An explicit geodesic is known for the brachistochrone metric, known as the cycloid, see [Wikipedia](https://en.wikipedia.org/wiki/Brachistochrone_curve), and reading\n",
    "$$\n",
    "    (x(t),z(t)) = (t-\\sin t, 1-\\cos t),\n",
    "$$\n",
    "for $t \\in ]0,2 \\pi[$.\n",
    "All other geodesics are dilations and horizontal translations of this particular solution $\\gamma(t)=(x(t),z(t))$\n",
    "$$\n",
    "    \\lambda \\gamma(t/\\lambda) + (x_0,0),\n",
    "$$\n",
    "where $\\lambda>0$ and $x_0 \\in R$."
   ]
  },
  {
   "cell_type": "code",
   "execution_count": 5,
   "metadata": {},
   "outputs": [],
   "source": [
    "def Cycloid(t): return ad.array((t-np.sin(t),1.-np.cos(t)))"
   ]
  },
  {
   "cell_type": "markdown",
   "metadata": {},
   "source": [
    "Note : recall that the vertical axis is reversed, a.k.a. $z=-h$, w.r.t the physical brachistochrone problem."
   ]
  },
  {
   "cell_type": "code",
   "execution_count": 6,
   "metadata": {},
   "outputs": [
    {
     "data": {
      "image/png": "[encoded data removed]",
      "text/plain": [
       "<Figure size 432x288 with 1 Axes>"
      ]
     },
     "metadata": {
      "needs_background": "light"
     },
     "output_type": "display_data"
    }
   ],
   "source": [
    "plt.title('The cycloid curve, solution to the Brachistochrone problem.')\n",
    "plt.axis('equal')\n",
    "T = np.linspace(0,2*np.pi)\n",
    "plt.plot(*Cycloid(T));"
   ]
  },
  {
   "cell_type": "markdown",
   "metadata": {},
   "source": [
    "We introduce a slightly reduced interior interval, since the Brachistochrone problem becomes singular when the object velocity vanishes."
   ]
  },
  {
   "cell_type": "code",
   "execution_count": 7,
   "metadata": {},
   "outputs": [],
   "source": [
    "Tint = np.linspace(0.2,2*np.pi-0.4) #Interior interval"
   ]
  },
  {
   "cell_type": "markdown",
   "metadata": {},
   "source": [
    "### 1.2 Numerical solution using the fast marching method"
   ]
  },
  {
   "cell_type": "code",
   "execution_count": 8,
   "metadata": {},
   "outputs": [],
   "source": [
    "hfmIn = HFMUtils.dictIn({\n",
    "    'model':'Isotropic2',\n",
    "    'arrayOrdering':'RowMajor',\n",
    "    'seeds': [Cycloid(0.2)],\n",
    "    'tips': [Cycloid(2.*np.pi-0.2)]\n",
    "})\n",
    "hfmIn.SetRect([[0,2.*np.pi],[0,2.1]],dimx=300)\n",
    "X,Z = hfmIn.Grid()"
   ]
  },
  {
   "cell_type": "code",
   "execution_count": 9,
   "metadata": {},
   "outputs": [],
   "source": [
    "hfmIn['cost'] = Metrics.Isotropic(1/np.sqrt(Z))"
   ]
  },
  {
   "cell_type": "code",
   "execution_count": 10,
   "metadata": {},
   "outputs": [
    {
     "name": "stdout",
     "output_type": "stream",
     "text": [
      "Field verbosity defaults to 1\n",
      "Field order defaults to 1\n",
      "Field seedRadius defaults to 0\n",
      "Field factoringMethod defaults to None\n",
      "Fast marching solver completed in 0.113905 s.\n",
      "Field geodesicSolver defaults to Discrete\n",
      "Field geodesicStep defaults to 0.25\n",
      "Field geodesicWeightThreshold defaults to 0.001\n",
      "Field geodesicVolumeBound defaults to 8.45\n"
     ]
    }
   ],
   "source": [
    "hfmOut = hfmIn.RunSmart()"
   ]
  },
  {
   "cell_type": "code",
   "execution_count": 11,
   "metadata": {},
   "outputs": [
    {
     "data": {
      "image/png": "[encoded data removed]",
      "text/plain": [
       "<Figure size 432x288 with 1 Axes>"
      ]
     },
     "metadata": {
      "needs_background": "light"
     },
     "output_type": "display_data"
    }
   ],
   "source": [
    "plt.title(\"Numerical solution to the brachistochrone problem\") \n",
    "plt.plot(*hfmOut['geodesics'][0],label=\"Fast-Marching (1st order, no factorization)\")\n",
    "plt.plot(*Cycloid(T),label=\"Analytic\")\n",
    "plt.axis('equal'); plt.legend();"
   ]
  },
  {
   "cell_type": "markdown",
   "metadata": {},
   "source": [
    "### 1.3 Geodesic shooting\n",
    "\n",
    "Recall that the Hamiltonian is defined as the half square dual metric. For the brachistochrone, it reads\n",
    "$$\n",
    "    H(q,p) := \\frac z 2 \\|p\\|^2,\n",
    "$$\n",
    "where $q=(x,z)$ is the position, and $p$ is the momentum. In this simple case, the velocity and momentum at a point $q=(x,z)$ are related by the equation\n",
    "$$\n",
    "    v = \\frac {\\partial H}{\\partial p} = z p.\n",
    "$$"
   ]
  },
  {
   "cell_type": "code",
   "execution_count": 12,
   "metadata": {},
   "outputs": [],
   "source": [
    "def Brach_A_(q,p):\n",
    "    \"\"\"Analytic Hamiltonian for the brachistochrone problem\"\"\"\n",
    "    return lo(q[1]/2.) * (p**2).sum()\n",
    "Brach_A = Metrics.Hamiltonian(Brach_A_)"
   ]
  },
  {
   "cell_type": "markdown",
   "metadata": {},
   "source": [
    "**Note on the use of `lo = ad.left_operand`.** See help of this function, or the notebook [ADBugs](../../Notebooks_Algo/ADBugs.ipynb)."
   ]
  },
  {
   "cell_type": "code",
   "execution_count": 13,
   "metadata": {},
   "outputs": [],
   "source": [
    "Brach_I = Metrics.Hamiltonian(hfmIn['cost'],grid=hfmIn.Grid())"
   ]
  },
  {
   "cell_type": "code",
   "execution_count": 14,
   "metadata": {},
   "outputs": [
    {
     "data": {
      "text/plain": [
       "array([0.01993342, 0.19866933])"
      ]
     },
     "execution_count": 14,
     "metadata": {},
     "output_type": "execute_result"
    }
   ],
   "source": [
    "Cycloid(ad.Dense.identity(constant=0.2)).gradient(0)"
   ]
  },
  {
   "cell_type": "code",
   "execution_count": 16,
   "metadata": {},
   "outputs": [
    {
     "name": "stdout",
     "output_type": "stream",
     "text": [
      "Exact hamiltonian flow: (array([0.01993342, 0.19866933]), array([ -0.        , -50.16700053]))\n",
      "Interpolated hamiltonian flow: (array([0.00599508, 0.05975079]), array([-50.96399408, -14.58344568]))\n"
     ]
    }
   ],
   "source": [
    "t_ad = ad.Dense.identity(constant=0.2)\n",
    "Cyc_ad = Cycloid(t_ad)\n",
    "q0 = Cyc_ad.value\n",
    "v0 = Cyc_ad.gradient(0) # Initial velocity\n",
    "p0 = v0/q0[1] # Initial impulsion\n",
    "\n",
    "print(f\"Exact hamiltonian flow: {Brach_A.flow(q0,p0)}\")\n",
    "print(f\"Interpolated hamiltonian flow: {Brach_I.flow(q0,p0)}\")"
   ]
  },
  {
   "cell_type": "markdown",
   "metadata": {},
   "source": [
    "When using external ODE solvers, which ignore the Hamiltonian structure, one often needs a function which takes as input the concatenated position and impulsion, and returns their concatenated derivatives - the Hamiltonian flow.\n",
    "This is the purpose of the `.flow_cat` member of the `Hamiltonian` class."
   ]
  },
  {
   "cell_type": "code",
   "execution_count": 16,
   "metadata": {},
   "outputs": [],
   "source": [
    "QP_A,dict_A = scipy.integrate.odeint(Brach_A.flow_cat,np.concatenate((q0,p0)),Tint,full_output=True)"
   ]
  },
  {
   "cell_type": "code",
   "execution_count": 17,
   "metadata": {},
   "outputs": [],
   "source": [
    "QP_I,dict_I = scipy.integrate.odeint(Brach_I.flow_cat,np.concatenate((q0,p0)),Tint,full_output=True)"
   ]
  },
  {
   "cell_type": "code",
   "execution_count": 18,
   "metadata": {},
   "outputs": [
    {
     "data": {
      "image/png": "[encoded data removed]",
      "text/plain": [
       "<Figure size 432x288 with 1 Axes>"
      ]
     },
     "metadata": {
      "needs_background": "light"
     },
     "output_type": "display_data"
    }
   ],
   "source": [
    "plt.plot(*QP_A[:,:2].T,label=\"ODE, exact hamiltonian\")\n",
    "plt.plot(*QP_I[:,:2].T,label=\"ODE, interpolated hamiltonian\")\n",
    "#plt.plot(*Cycloid(T),label=\"Analytic\")\n",
    "plt.axis('equal'); plt.legend();"
   ]
  },
  {
   "cell_type": "code",
   "execution_count": 19,
   "metadata": {},
   "outputs": [
    {
     "data": {
      "text/plain": [
       "spAD2(array([[0., 0.],\n",
       "       [0., 0.]]), array([], shape=(2, 2, 0), dtype=float64), array([], shape=(2, 2, 0), dtype=int64), array([], shape=(2, 2, 0), dtype=float64), array([], shape=(2, 2, 0), dtype=int64), array([], shape=(2, 2, 0), dtype=int64))"
      ]
     },
     "execution_count": 19,
     "metadata": {},
     "output_type": "execute_result"
    }
   ],
   "source": [
    "zeros_np = np.zeros((2,2))\n",
    "ad.Sparse2.spAD2(zeros_np)"
   ]
  },
  {
   "cell_type": "code",
   "execution_count": 20,
   "metadata": {},
   "outputs": [
    {
     "data": {
      "text/plain": [
       "array([[0., 0.],\n",
       "       [0., 0.]])"
      ]
     },
     "execution_count": 20,
     "metadata": {},
     "output_type": "execute_result"
    }
   ],
   "source": [
    "np.zeros_like(ad.Dense.identity((2,2)).value)"
   ]
  },
  {
   "cell_type": "code",
   "execution_count": 21,
   "metadata": {},
   "outputs": [
    {
     "data": {
      "text/plain": [
       "array([0.11111111, 0.5       ])"
      ]
     },
     "execution_count": 21,
     "metadata": {},
     "output_type": "execute_result"
    }
   ],
   "source": [
    "aX = np.linspace(0,1,10)\n",
    "aY = np.linspace(0,2,5)\n",
    "grid = np.array(np.meshgrid(aX,aY,indexing='ij'))\n",
    "grid.__getitem__((slice(None),)+(1,)*2)"
   ]
  },
  {
   "cell_type": "code",
   "execution_count": null,
   "metadata": {},
   "outputs": [],
   "source": [
    "np.prod(tuple(1+i for i in range(3)))"
   ]
  },
  {
   "cell_type": "code",
   "execution_count": null,
   "metadata": {},
   "outputs": [],
   "source": [
    "dict_A['hu']/dict_I['hu']"
   ]
  },
  {
   "cell_type": "markdown",
   "metadata": {},
   "source": [
    "# Interpolation, first order"
   ]
  },
  {
   "cell_type": "code",
   "execution_count": null,
   "metadata": {},
   "outputs": [],
   "source": []
  },
  {
   "cell_type": "code",
   "execution_count": null,
   "metadata": {},
   "outputs": [],
   "source": [
    "aX = np.linspace(0,1,4)\n",
    "aY = np.linspace(0,1,5)\n",
    "grid = np.array(np.meshgrid(aX,aY,indexing='ij'))\n",
    "interp = Interpolation.UniformGridInterpolation(grid,grid)"
   ]
  },
  {
   "cell_type": "code",
   "execution_count": null,
   "metadata": {},
   "outputs": [],
   "source": [
    "interp([0.3,0.4])"
   ]
  },
  {
   "cell_type": "code",
   "execution_count": null,
   "metadata": {},
   "outputs": [],
   "source": [
    "interp([[0.2,0.4,0.5],[0.2,0.1,0.7]])"
   ]
  },
  {
   "cell_type": "code",
   "execution_count": 17,
   "metadata": {},
   "outputs": [
    {
     "ename": "AttributeError",
     "evalue": "'UniformGridInterpolation' object has no attribute '__name__'",
     "output_type": "error",
     "traceback": [
      "\u001b[0;31m---------------------------------------------------------------------------\u001b[0m",
      "\u001b[0;31mAttributeError\u001b[0m                            Traceback (most recent call last)",
      "\u001b[0;32m<ipython-input-17-87f7782465ed>\u001b[0m in \u001b[0;36m<module>\u001b[0;34m\u001b[0m\n\u001b[0;32m----> 1\u001b[0;31m \u001b[0minterp\u001b[0m\u001b[0;34m.\u001b[0m\u001b[0m__name__\u001b[0m\u001b[0;34m\u001b[0m\u001b[0;34m\u001b[0m\u001b[0m\n\u001b[0m",
      "\u001b[0;31mAttributeError\u001b[0m: 'UniformGridInterpolation' object has no attribute '__name__'"
     ]
    }
   ],
   "source": [
    "interp."
   ]
  },
  {
   "cell_type": "markdown",
   "metadata": {},
   "source": [
    "# Interpolation, higher order"
   ]
  },
  {
   "cell_type": "code",
   "execution_count": 134,
   "metadata": {},
   "outputs": [],
   "source": [
    "from Miscellaneous.rreload import rreload\n",
    "Interpolation, = rreload((Interpolation,),rootdir=\"../..\")"
   ]
  },
  {
   "cell_type": "code",
   "execution_count": 135,
   "metadata": {},
   "outputs": [
    {
     "data": {
      "text/plain": [
       "<matplotlib.legend.Legend at 0x1165f3c10>"
      ]
     },
     "execution_count": 135,
     "metadata": {},
     "output_type": "execute_result"
    },
    {
     "data": {
      "image/png": "[encoded data removed]",
      "text/plain": [
       "<Figure size 432x288 with 1 Axes>"
      ]
     },
     "metadata": {
      "needs_background": "light"
     },
     "output_type": "display_data"
    }
   ],
   "source": [
    "end = 7\n",
    "spline1 = Interpolation._spline_univariate(3,end+1,False)\n",
    "spline1_p = Interpolation._spline_univariate(3,end+1,True)\n",
    "Xa = np.linspace(0,end)\n",
    "xs = 3+0.*Xa\n",
    "plt.plot(Xa,spline1(Xa,xs),label=\"non-periodic\")\n",
    "plt.plot(Xa,spline1_p(Xa,xs),label=\"periodic\")\n",
    "plt.legend()"
   ]
  },
  {
   "cell_type": "code",
   "execution_count": 127,
   "metadata": {},
   "outputs": [
    {
     "name": "stdout",
     "output_type": "stream",
     "text": [
      "[[ 4.          0.          0.          0.          0.          0.\n",
      "   0.          0.        ]\n",
      " [ 2.          4.          2.         -1.18518519  0.          0.\n",
      "   0.          0.        ]\n",
      " [ 0.          2.          4.          1.85185185  0.          0.\n",
      "   0.          0.        ]\n",
      " [ 0.          0.          2.          4.          2.          0.\n",
      "   0.          0.        ]\n",
      " [ 0.          0.          0.          2.          4.          2.\n",
      "   0.          0.        ]\n",
      " [ 0.          0.          0.          0.          1.85185185  4.\n",
      "   2.          0.        ]\n",
      " [ 0.          0.          0.          0.         -1.18518519  2.\n",
      "   4.          2.        ]\n",
      " [ 0.          0.          0.          0.          0.          0.\n",
      "   0.          4.        ]]\n"
     ]
    }
   ],
   "source": [
    "band = spline1._band()\n",
    "mat = Interpolation._banded_densify(*band)\n",
    "print(mat)"
   ]
  },
  {
   "cell_type": "code",
   "execution_count": 133,
   "metadata": {},
   "outputs": [
    {
     "name": "stdout",
     "output_type": "stream",
     "text": [
      "1.1102230246251565e-16\n"
     ]
    },
    {
     "data": {
      "text/plain": [
       "[<matplotlib.lines.Line2D at 0x121e190a0>]"
      ]
     },
     "execution_count": 133,
     "metadata": {},
     "output_type": "execute_result"
    },
    {
     "data": {
      "image/png": "[encoded data removed]",
      "text/plain": [
       "<Figure size 432x288 with 1 Axes>"
      ]
     },
     "metadata": {
      "needs_background": "light"
     },
     "output_type": "display_data"
    }
   ],
   "source": [
    "aX = np.linspace(0,1,11)\n",
    "grid = np.array([aX])\n",
    "values = grid[0]\n",
    "interp = Interpolation.UniformGridInterpolation(grid,values,order=(3))\n",
    "print(norm_infinity(interp(grid)-values))\n",
    "X = np.linspace(0,1,100)\n",
    "plt.plot(X,interp([X]))"
   ]
  },
  {
   "cell_type": "code",
   "execution_count": 129,
   "metadata": {},
   "outputs": [
    {
     "data": {
      "text/plain": [
       "0.1"
      ]
     },
     "execution_count": 129,
     "metadata": {},
     "output_type": "execute_result"
    }
   ],
   "source": [
    "interp([1/10])"
   ]
  },
  {
   "cell_type": "code",
   "execution_count": 130,
   "metadata": {},
   "outputs": [
    {
     "data": {
      "text/plain": [
       "1.5543122344752192e-15"
      ]
     },
     "execution_count": 130,
     "metadata": {},
     "output_type": "execute_result"
    }
   ],
   "source": [
    "values = np.random.normal(size=grid.shape[1:])  #grid[0] \n",
    "interp = Interpolation.UniformGridInterpolation(grid,values,order=(3))\n",
    "norm_infinity(interp(grid)-values)"
   ]
  },
  {
   "cell_type": "code",
   "execution_count": 131,
   "metadata": {},
   "outputs": [
    {
     "data": {
      "text/plain": [
       "<matplotlib.collections.PathCollection at 0x121b9c1c0>"
      ]
     },
     "execution_count": 131,
     "metadata": {},
     "output_type": "execute_result"
    },
    {
     "data": {
      "image/png": "[encoded data removed]",
      "text/plain": [
       "<Figure size 432x288 with 1 Axes>"
      ]
     },
     "metadata": {
      "needs_background": "light"
     },
     "output_type": "display_data"
    }
   ],
   "source": [
    "X=np.linspace(0,1,200)\n",
    "plt.plot(X,interp([X]))\n",
    "plt.scatter(aX,values)"
   ]
  },
  {
   "cell_type": "code",
   "execution_count": 99,
   "metadata": {},
   "outputs": [],
   "source": [
    "nPt=5\n",
    "aX = np.linspace(0,nPt,nPt,endpoint=False)\n",
    "aY = np.linspace(0,nPt,nPt,endpoint=False)\n",
    "grid = np.array(np.meshgrid(aX,aY,indexing='ij'))\n",
    "values = 1.+0.*grid[0]\n",
    "interp = Interpolation.UniformGridInterpolation(grid,values,order=(3,3))"
   ]
  },
  {
   "cell_type": "code",
   "execution_count": 100,
   "metadata": {},
   "outputs": [
    {
     "name": "stdout",
     "output_type": "stream",
     "text": [
      "[[0. 0. 0. 0. 0.]\n",
      " [0. 0. 0. 0. 0.]\n",
      " [0. 0. 0. 0. 0.]\n",
      " [0. 0. 0. 0. 0.]\n",
      " [0. 0. 0. 0. 0.]]\n"
     ]
    }
   ],
   "source": [
    "\n",
    "band = interp.spline.splines[0]._band()\n",
    "mat = Interpolation._banded_densify(*band)\n",
    "coef1 = np.dot(mat,interp.coef)\n",
    "coef2 = np.dot(mat,coef1.T).T\n",
    "print(coef2-values)\n"
   ]
  },
  {
   "cell_type": "code",
   "execution_count": 85,
   "metadata": {},
   "outputs": [
    {
     "data": {
      "text/plain": [
       "((2, 2), array([[0, 0, 0, 0, 0],\n",
       "        [0, 0, 2, 2, 2],\n",
       "        [4, 4, 4, 4, 4],\n",
       "        [2, 2, 2, 0, 0],\n",
       "        [0, 0, 0, 0, 0]]))"
      ]
     },
     "execution_count": 85,
     "metadata": {},
     "output_type": "execute_result"
    }
   ],
   "source": [
    "band"
   ]
  },
  {
   "cell_type": "code",
   "execution_count": 63,
   "metadata": {},
   "outputs": [],
   "source": [
    "ij = [(i,j) for i in range(nPt) for j in range(nPt)]\n",
    "mmat = np.array([[interp.spline(u,v) for v in ij] for u in ij])"
   ]
  },
  {
   "cell_type": "code",
   "execution_count": 64,
   "metadata": {},
   "outputs": [
    {
     "data": {
      "text/plain": [
       "array([1., 1., 1., 1., 1., 1., 1., 1., 1., 1., 1., 1., 1., 1., 1., 1., 1.,\n",
       "       1., 1., 1., 1., 1., 1., 1., 1.])"
      ]
     },
     "execution_count": 64,
     "metadata": {},
     "output_type": "execute_result"
    }
   ],
   "source": [
    "np.dot(mmat,interp.coef.flatten())"
   ]
  },
  {
   "cell_type": "code",
   "execution_count": 461,
   "metadata": {},
   "outputs": [
    {
     "data": {
      "text/plain": [
       "(6, 5)"
      ]
     },
     "execution_count": 461,
     "metadata": {},
     "output_type": "execute_result"
    }
   ],
   "source": [
    "np.array([[i+j for i in range(5)] for j in range(6)]).shape"
   ]
  },
  {
   "cell_type": "code",
   "execution_count": 447,
   "metadata": {},
   "outputs": [
    {
     "data": {
      "text/plain": [
       "4.0"
      ]
     },
     "execution_count": 447,
     "metadata": {},
     "output_type": "execute_result"
    }
   ],
   "source": [
    "interp.spline([0.,1.],[0,0])"
   ]
  },
  {
   "cell_type": "code",
   "execution_count": 472,
   "metadata": {},
   "outputs": [
    {
     "data": {
      "text/plain": [
       "1.0"
      ]
     },
     "execution_count": 472,
     "metadata": {},
     "output_type": "execute_result"
    }
   ],
   "source": [
    "interp([4,4])"
   ]
  },
  {
   "cell_type": "code",
   "execution_count": 430,
   "metadata": {},
   "outputs": [],
   "source": [
    "#coef_fwd = interp.coef\n",
    "coef_rev = interp.coef"
   ]
  },
  {
   "cell_type": "code",
   "execution_count": 431,
   "metadata": {},
   "outputs": [
    {
     "data": {
      "text/plain": [
       "0.0"
      ]
     },
     "execution_count": 431,
     "metadata": {},
     "output_type": "execute_result"
    }
   ],
   "source": [
    "#norm_infinity(coef_fwd-coef_rev)"
   ]
  },
  {
   "cell_type": "code",
   "execution_count": null,
   "metadata": {},
   "outputs": [],
   "source": []
  },
  {
   "cell_type": "code",
   "execution_count": 474,
   "metadata": {},
   "outputs": [
    {
     "data": {
      "text/plain": [
       "[<matplotlib.lines.Line2D at 0x137a0c1c0>]"
      ]
     },
     "execution_count": 474,
     "metadata": {},
     "output_type": "execute_result"
    },
    {
     "data": {
      "image/png": "[encoded data removed]",
      "text/plain": [
       "<Figure size 432x288 with 1 Axes>"
      ]
     },
     "metadata": {
      "needs_background": "light"
     },
     "output_type": "display_data"
    }
   ],
   "source": [
    "X = np.linspace(0,5,5,endpoint=False)\n",
    "plt.plot(X,interp([X,X]))"
   ]
  },
  {
   "cell_type": "code",
   "execution_count": 496,
   "metadata": {},
   "outputs": [
    {
     "data": {
      "text/plain": [
       "[<matplotlib.lines.Line2D at 0x13861b820>]"
      ]
     },
     "execution_count": 496,
     "metadata": {},
     "output_type": "execute_result"
    },
    {
     "data": {
      "image/png": "[encoded data removed]",
      "text/plain": [
       "<Figure size 432x288 with 1 Axes>"
      ]
     },
     "metadata": {
      "needs_background": "light"
     },
     "output_type": "display_data"
    }
   ],
   "source": [
    "#X = np.linspace(0,5,5,endpoint=False)\n",
    "X = np.linspace(0,4)\n",
    "plt.plot(X,interp([X,0.2+0.3*X]))"
   ]
  },
  {
   "cell_type": "code",
   "execution_count": 138,
   "metadata": {},
   "outputs": [
    {
     "data": {
      "text/plain": [
       "array([ True,  True,  True])"
      ]
     },
     "execution_count": 138,
     "metadata": {},
     "output_type": "execute_result"
    }
   ],
   "source": [
    "tt = np.full((2,3),True)\n",
    "np.logical_or.reduce(tt,axis=0)"
   ]
  },
  {
   "cell_type": "code",
   "execution_count": 134,
   "metadata": {},
   "outputs": [
    {
     "data": {
      "text/plain": [
       "(array([0, 1, 2]), array([3, 4, 5]))"
      ]
     },
     "execution_count": 134,
     "metadata": {},
     "output_type": "execute_result"
    }
   ],
   "source": [
    "tuple(zz)"
   ]
  },
  {
   "cell_type": "code",
   "execution_count": 142,
   "metadata": {},
   "outputs": [
    {
     "data": {
      "text/plain": [
       "(-2, -1)"
      ]
     },
     "execution_count": 142,
     "metadata": {},
     "output_type": "execute_result"
    }
   ],
   "source": [
    "tuple(range(-2,0))"
   ]
  },
  {
   "cell_type": "code",
   "execution_count": 97,
   "metadata": {},
   "outputs": [
    {
     "name": "stdout",
     "output_type": "stream",
     "text": [
      "(0, 0)\n",
      "(0, 1)\n",
      "(0, 2)\n",
      "(1, 0)\n",
      "(1, 1)\n",
      "(1, 2)\n"
     ]
    }
   ],
   "source": [
    "import itertools\n",
    "for i in itertools.product(*(range(i) for i in (2,3))):\n",
    "    print(i)"
   ]
  },
  {
   "cell_type": "code",
   "execution_count": 111,
   "metadata": {},
   "outputs": [
    {
     "name": "stdout",
     "output_type": "stream",
     "text": [
      "(-1, -1)\n",
      "(-1, 0)\n",
      "(-1, 1)\n",
      "(0, -1)\n",
      "(0, 0)\n",
      "(0, 1)\n",
      "(1, -1)\n",
      "(1, 0)\n",
      "(1, 1)\n"
     ]
    }
   ],
   "source": [
    "for i in itertools.product(range(-1,2),range(-1,2)):\n",
    "    print(i)"
   ]
  },
  {
   "cell_type": "code",
   "execution_count": 64,
   "metadata": {},
   "outputs": [
    {
     "data": {
      "text/plain": [
       "0.018407323555468057"
      ]
     },
     "execution_count": 64,
     "metadata": {},
     "output_type": "execute_result"
    }
   ],
   "source": [
    "dict_I['nfe'].sum()/dict_A['nfe'].sum()"
   ]
  },
  {
   "cell_type": "code",
   "execution_count": 50,
   "metadata": {},
   "outputs": [
    {
     "data": {
      "text/plain": [
       "array([100, 115, 104, 125, 126, 102, 141, 127, 150, 112, 131, 114, 116,\n",
       "       114, 123,  84,  88, 110,  71,  58,  52,  49,   5,   2,   5,  55,\n",
       "        51,  46,  68,  83,  83,  91, 112, 106, 133, 106, 124, 160, 125,\n",
       "       125, 133, 121, 147, 101, 114, 109,  85,  54], dtype=int32)"
      ]
     },
     "execution_count": 50,
     "metadata": {},
     "output_type": "execute_result"
    }
   ],
   "source": [
    "nst = dict_I['nst']; \n",
    "nst[1:]-nst[:-1]\n",
    "#nst"
   ]
  },
  {
   "cell_type": "code",
   "execution_count": 36,
   "metadata": {},
   "outputs": [
    {
     "data": {
      "text/plain": [
       "{'hu': array([0.0097769 , 0.01183053, 0.01793562, 0.0221188 , 0.0221188 ,\n",
       "        0.0273191 , 0.03379428, 0.03379428, 0.04186454, 0.04186454,\n",
       "        0.04186454, 0.05191939, 0.05191939, 0.05191939, 0.06440772,\n",
       "        0.06440772, 0.06440772, 0.06440772, 0.07973489, 0.07973489,\n",
       "        0.07973489, 0.07973489, 0.09784251, 0.09784251, 0.09784251,\n",
       "        0.09784251, 0.09784251, 0.09784251, 0.09784251, 0.13254767,\n",
       "        0.13254767, 0.13254767, 0.10998804, 0.10998804, 0.10998804,\n",
       "        0.10998804, 0.08755757, 0.08755757, 0.08755757, 0.06944605,\n",
       "        0.06944605, 0.05512211, 0.05512211, 0.04382609, 0.03492161,\n",
       "        0.02789191, 0.02232841, 0.01791253, 0.0115909 ]),\n",
       " 'tcur': array([0.12938918, 0.25131053, 0.37120633, 0.50093886, 0.61153286,\n",
       "        0.74292807, 0.85867966, 0.99385678, 1.10330988, 1.22890349,\n",
       "        1.35449709, 1.45833588, 1.56217467, 1.71793285, 1.84674829,\n",
       "        1.97556374, 2.10437918, 2.1687869 , 2.32825668, 2.40799157,\n",
       "        2.56746135, 2.64719624, 2.82477364, 2.92261615, 3.02045866,\n",
       "        3.21614368, 3.31398619, 3.4118287 , 3.50967121, 3.64221887,\n",
       "        3.77476654, 3.90731421, 4.01730225, 4.12729028, 4.23727832,\n",
       "        4.34726636, 4.5223815 , 4.60993907, 4.69749664, 4.83638874,\n",
       "        4.97528083, 5.08552505, 5.19576927, 5.28342146, 5.40599525,\n",
       "        5.53865199, 5.64465614, 5.76537896, 5.88724387]),\n",
       " 'tolsf': array([2.37348289e-314, 2.37348289e-314, 2.37348289e-314, 2.37348289e-314,\n",
       "        2.37348289e-314, 2.37348289e-314, 2.37348289e-314, 2.37348289e-314,\n",
       "        2.37348289e-314, 2.37348289e-314, 2.37348289e-314, 2.37348289e-314,\n",
       "        2.37348289e-314, 2.37348289e-314, 2.37348289e-314, 2.37348289e-314,\n",
       "        2.37348289e-314, 2.37348289e-314, 2.37348289e-314, 2.37348289e-314,\n",
       "        2.37348289e-314, 2.37348289e-314, 2.37348289e-314, 2.37348289e-314,\n",
       "        2.37348289e-314, 2.37348289e-314, 2.37348289e-314, 2.37348289e-314,\n",
       "        2.37348289e-314, 2.37348289e-314, 2.37348289e-314, 2.37348289e-314,\n",
       "        2.37348289e-314, 2.37348289e-314, 2.37348289e-314, 2.37348289e-314,\n",
       "        2.37348289e-314, 2.37348289e-314, 2.37348289e-314, 2.37348289e-314,\n",
       "        2.37348289e-314, 2.37348289e-314, 2.37348289e-314, 2.37348289e-314,\n",
       "        2.37348289e-314, 2.37348289e-314, 2.37348289e-314, 2.37348289e-314,\n",
       "        2.37348289e-314]),\n",
       " 'tsw': array([0., 0., 0., 0., 0., 0., 0., 0., 0., 0., 0., 0., 0., 0., 0., 0., 0.,\n",
       "        0., 0., 0., 0., 0., 0., 0., 0., 0., 0., 0., 0., 0., 0., 0., 0., 0.,\n",
       "        0., 0., 0., 0., 0., 0., 0., 0., 0., 0., 0., 0., 0., 0., 0.]),\n",
       " 'nst': array([ 30,  41,  49,  56,  61,  66,  70,  74,  77,  80,  83,  85,  87,\n",
       "         90,  92,  94,  96,  97,  99, 100, 102, 103, 105, 106, 107, 109,\n",
       "        110, 111, 112, 113, 114, 115, 116, 117, 118, 119, 121, 122, 123,\n",
       "        125, 127, 129, 131, 133, 136, 140, 144, 150, 159], dtype=int32),\n",
       " 'nfe': array([ 63,  85, 101, 115, 125, 135, 143, 151, 157, 163, 169, 173, 177,\n",
       "        183, 187, 191, 195, 197, 201, 203, 207, 209, 213, 215, 217, 221,\n",
       "        223, 225, 227, 229, 231, 233, 237, 239, 241, 243, 249, 251, 253,\n",
       "        259, 263, 269, 273, 279, 287, 297, 307, 321, 343], dtype=int32),\n",
       " 'nje': array([0, 0, 0, 0, 0, 0, 0, 0, 0, 0, 0, 0, 0, 0, 0, 0, 0, 0, 0, 0, 0, 0,\n",
       "        0, 0, 0, 0, 0, 0, 0, 0, 0, 0, 0, 0, 0, 0, 0, 0, 0, 0, 0, 0, 0, 0,\n",
       "        0, 0, 0, 0, 0], dtype=int32),\n",
       " 'nqu': array([6, 6, 6, 6, 6, 6, 6, 6, 6, 6, 6, 6, 6, 6, 6, 6, 6, 6, 6, 6, 6, 6,\n",
       "        7, 7, 7, 7, 7, 7, 7, 7, 7, 7, 7, 7, 7, 7, 7, 7, 7, 7, 7, 7, 7, 7,\n",
       "        7, 7, 7, 7, 7], dtype=int32),\n",
       " 'imxer': -1,\n",
       " 'lenrw': 84,\n",
       " 'leniw': 24,\n",
       " 'mused': array([1, 1, 1, 1, 1, 1, 1, 1, 1, 1, 1, 1, 1, 1, 1, 1, 1, 1, 1, 1, 1, 1,\n",
       "        1, 1, 1, 1, 1, 1, 1, 1, 1, 1, 1, 1, 1, 1, 1, 1, 1, 1, 1, 1, 1, 1,\n",
       "        1, 1, 1, 1, 1], dtype=int32),\n",
       " 'message': 'Integration successful.'}"
      ]
     },
     "execution_count": 36,
     "metadata": {},
     "output_type": "execute_result"
    }
   ],
   "source": [
    "dict_A"
   ]
  },
  {
   "cell_type": "code",
   "execution_count": 37,
   "metadata": {},
   "outputs": [
    {
     "data": {
      "text/plain": [
       "{'hu': array([0.01841037, 0.02760662, 0.00937706, 0.0053133 , 0.00199103,\n",
       "        0.00711338, 0.01040077, 0.01286273, 0.00399117, 0.00170604,\n",
       "        0.00380236, 0.00068454, 0.01175617, 0.00411386, 0.00416048,\n",
       "        0.00752629, 0.00436625, 0.0212975 , 0.01173707, 0.01284981,\n",
       "        0.00124678, 0.02042751, 0.00865751, 0.04701745, 0.04701745,\n",
       "        0.00938331, 0.02226915, 0.02286419, 0.02543792, 0.00541564,\n",
       "        0.00321843, 0.01934058, 0.00097332, 0.00420874, 0.00565117,\n",
       "        0.00254874, 0.0027278 , 0.00080164, 0.00204951, 0.0165804 ,\n",
       "        0.01457766, 0.00341574, 0.00036482, 0.00102201, 0.01263831,\n",
       "        0.00334697, 0.0148446 , 0.0177364 , 0.01800429]),\n",
       " 'tcur': array([0.13262351, 0.24546015, 0.36864122, 0.48102375, 0.60066885,\n",
       "        0.7212937 , 0.84385175, 0.96215344, 1.08082287, 1.20086629,\n",
       "        1.32197606, 1.44127092, 1.56987632, 1.68357408, 1.80099943,\n",
       "        1.92223488, 2.04390026, 2.16572226, 2.28376532, 2.41354018,\n",
       "        2.52191033, 2.65411422, 2.76929654, 2.92766393, 3.02169883,\n",
       "        3.12552886, 3.25096562, 3.38138597, 3.48980922, 3.60511914,\n",
       "        3.72356399, 3.85676502, 3.96267477, 4.08341563, 4.20609055,\n",
       "        4.32445502, 4.44475551, 4.56300196, 4.6841238 , 4.8127217 ,\n",
       "        4.93047712, 5.04325779, 5.16301499, 5.28332576, 5.41151425,\n",
       "        5.52570707, 5.64573478, 5.77101727, 5.88716654]),\n",
       " 'tolsf': array([2.37311379e-314, 2.37311379e-314, 2.37311379e-314, 2.37311379e-314,\n",
       "        2.37311379e-314, 2.37311379e-314, 2.37311379e-314, 2.37311379e-314,\n",
       "        2.37311379e-314, 2.37311379e-314, 2.37311379e-314, 2.37311379e-314,\n",
       "        2.37311379e-314, 2.37311379e-314, 2.37311379e-314, 2.37311379e-314,\n",
       "        2.37311379e-314, 2.37311379e-314, 2.37311379e-314, 2.37311379e-314,\n",
       "        2.37311379e-314, 2.37311379e-314, 2.37311379e-314, 2.37311379e-314,\n",
       "        2.37311379e-314, 2.37311379e-314, 2.37311379e-314, 2.37311379e-314,\n",
       "        2.37311379e-314, 2.37311379e-314, 2.37311379e-314, 2.37311379e-314,\n",
       "        2.37311379e-314, 2.37311379e-314, 2.37311379e-314, 2.37311379e-314,\n",
       "        2.37311379e-314, 2.37311379e-314, 2.37311379e-314, 2.37311379e-314,\n",
       "        2.37311379e-314, 2.37311379e-314, 2.37311379e-314, 2.37311379e-314,\n",
       "        2.37311379e-314, 2.37311379e-314, 2.37311379e-314, 2.37311379e-314,\n",
       "        2.37311379e-314]),\n",
       " 'tsw': array([0., 0., 0., 0., 0., 0., 0., 0., 0., 0., 0., 0., 0., 0., 0., 0., 0.,\n",
       "        0., 0., 0., 0., 0., 0., 0., 0., 0., 0., 0., 0., 0., 0., 0., 0., 0.,\n",
       "        0., 0., 0., 0., 0., 0., 0., 0., 0., 0., 0., 0., 0., 0., 0.]),\n",
       " 'nst': array([  64,  164,  279,  383,  508,  634,  736,  877, 1004, 1154, 1266,\n",
       "        1397, 1511, 1627, 1741, 1864, 1948, 2036, 2146, 2217, 2275, 2327,\n",
       "        2376, 2381, 2383, 2388, 2443, 2494, 2540, 2608, 2691, 2774, 2865,\n",
       "        2977, 3083, 3216, 3322, 3446, 3606, 3731, 3856, 3989, 4110, 4257,\n",
       "        4358, 4472, 4581, 4666, 4720], dtype=int32),\n",
       " 'nfe': array([  148,   393,   678,   937,  1257,  1582,  1852,  2212,  2549,\n",
       "         2944,  3246,  3601,  3900,  4212,  4515,  4841,  5068,  5311,\n",
       "         5605,  5792,  5952,  6091,  6225,  6235,  6239,  6254,  6409,\n",
       "         6544,  6676,  6863,  7081,  7305,  7553,  7854,  8145,  8503,\n",
       "         8783,  9104,  9520,  9831, 10153, 10507, 10825, 11179, 11433,\n",
       "        11713, 11971, 12182, 12312], dtype=int32),\n",
       " 'nje': array([0, 0, 0, 0, 0, 0, 0, 0, 0, 0, 0, 0, 0, 0, 0, 0, 0, 0, 0, 0, 0, 0,\n",
       "        0, 0, 0, 0, 0, 0, 0, 0, 0, 0, 0, 0, 0, 0, 0, 0, 0, 0, 0, 0, 0, 0,\n",
       "        0, 0, 0, 0, 0], dtype=int32),\n",
       " 'nqu': array([5, 5, 5, 3, 4, 4, 4, 4, 3, 3, 2, 2, 3, 2, 2, 4, 2, 4, 4, 4, 2, 4,\n",
       "        3, 4, 4, 3, 3, 3, 3, 2, 4, 4, 2, 4, 2, 2, 3, 2, 4, 3, 5, 4, 2, 3,\n",
       "        5, 3, 5, 5, 5], dtype=int32),\n",
       " 'imxer': -1,\n",
       " 'lenrw': 84,\n",
       " 'leniw': 24,\n",
       " 'mused': array([1, 1, 1, 1, 1, 1, 1, 1, 1, 1, 1, 1, 1, 1, 1, 1, 1, 1, 1, 1, 1, 1,\n",
       "        1, 1, 1, 1, 1, 1, 1, 1, 1, 1, 1, 1, 1, 1, 1, 1, 1, 1, 1, 1, 1, 1,\n",
       "        1, 1, 1, 1, 1], dtype=int32),\n",
       " 'message': 'Integration successful.'}"
      ]
     },
     "execution_count": 37,
     "metadata": {},
     "output_type": "execute_result"
    }
   ],
   "source": [
    "dict_I"
   ]
  },
  {
   "cell_type": "code",
   "execution_count": 26,
   "metadata": {},
   "outputs": [
    {
     "data": {
      "text/plain": [
       "array([-6.12202307e-15,  4.59217793e+01])"
      ]
     },
     "execution_count": 26,
     "metadata": {},
     "output_type": "execute_result"
    }
   ],
   "source": [
    "Brach_I.DqH(q0,p0)"
   ]
  },
  {
   "cell_type": "code",
   "execution_count": 27,
   "metadata": {},
   "outputs": [
    {
     "ename": "TypeError",
     "evalue": "interp() takes 1 positional argument but 2 were given",
     "output_type": "error",
     "traceback": [
      "\u001b[0;31m---------------------------------------------------------------------------\u001b[0m",
      "\u001b[0;31mTypeError\u001b[0m                                 Traceback (most recent call last)",
      "\u001b[0;32m<ipython-input-27-400a9ef6670b>\u001b[0m in \u001b[0;36m<module>\u001b[0;34m\u001b[0m\n\u001b[1;32m      1\u001b[0m \u001b[0minterp\u001b[0m \u001b[0;34m=\u001b[0m \u001b[0mBrach_I\u001b[0m\u001b[0;34m.\u001b[0m\u001b[0m_H\u001b[0m\u001b[0;34m.\u001b[0m\u001b[0minterpolation_data\u001b[0m\u001b[0;34m[\u001b[0m\u001b[0;36m0\u001b[0m\u001b[0;34m]\u001b[0m\u001b[0;34m\u001b[0m\u001b[0;34m\u001b[0m\u001b[0m\n\u001b[0;32m----> 2\u001b[0;31m \u001b[0minterp\u001b[0m\u001b[0;34m(\u001b[0m\u001b[0;34m*\u001b[0m\u001b[0mq0\u001b[0m\u001b[0;34m)\u001b[0m\u001b[0;34m\u001b[0m\u001b[0;34m\u001b[0m\u001b[0m\n\u001b[0m",
      "\u001b[0;31mTypeError\u001b[0m: interp() takes 1 positional argument but 2 were given"
     ]
    }
   ],
   "source": [
    "interp = Brach_I._H.interpolation_data[0]\n",
    "interp(*q0)"
   ]
  },
  {
   "cell_type": "code",
   "execution_count": 46,
   "metadata": {},
   "outputs": [
    {
     "data": {
      "text/plain": [
       "(2, 300, 100)"
      ]
     },
     "execution_count": 46,
     "metadata": {},
     "output_type": "execute_result"
    }
   ],
   "source": [
    "hfmIn.Grid().shape"
   ]
  },
  {
   "cell_type": "code",
   "execution_count": 51,
   "metadata": {},
   "outputs": [
    {
     "data": {
      "text/plain": [
       "array([[8.67944893, 7.63865368]])"
      ]
     },
     "execution_count": 51,
     "metadata": {},
     "output_type": "execute_result"
    }
   ],
   "source": [
    "interp2 = fd.UniformGridInterpolator(hfmIn.Grid(),hfmIn['cost'].cost)\n",
    "interp2(q0.reshape(1,2))"
   ]
  },
  {
   "cell_type": "code",
   "execution_count": 53,
   "metadata": {},
   "outputs": [
    {
     "data": {
      "text/plain": [
       "(300, 100)"
      ]
     },
     "execution_count": 53,
     "metadata": {},
     "output_type": "execute_result"
    }
   ],
   "source": [
    "hfmIn['cost'].cost.shape"
   ]
  },
  {
   "cell_type": "code",
   "execution_count": null,
   "metadata": {},
   "outputs": [],
   "source": []
  }
 ],
 "metadata": {
  "kernelspec": {
   "display_name": "Python 3",
   "language": "python",
   "name": "python3"
  },
  "language_info": {
   "codemirror_mode": {
    "name": "ipython",
    "version": 3
   },
   "file_extension": ".py",
   "mimetype": "text/x-python",
   "name": "python",
   "nbconvert_exporter": "python",
   "pygments_lexer": "ipython3",
   "version": "3.8.1"
  }
 },
 "nbformat": 4,
 "nbformat_minor": 4
}
