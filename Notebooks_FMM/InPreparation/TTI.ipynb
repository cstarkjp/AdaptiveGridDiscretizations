{
 "cells": [
  {
   "cell_type": "markdown",
   "metadata": {},
   "source": [
    "# The HFM library - A fast marching solver with adaptive stencils\n",
    "\n",
    "## Part : Seismology\n",
    "## Chapter : Tilted transversally isotropic metrics"
   ]
  },
  {
   "cell_type": "markdown",
   "metadata": {},
   "source": [
    "In this notebook, we demonstrate anisotropic fast marching with a class of metrics arising in seismic traveltime tomography. \n",
    "The intended use cases are fairly similar to [metrics defined by a Hooke tensor](Seismic.ipynb), which illustrates a closely related model. Under the hood, however, we use a completely different implementation.\n",
    "\n",
    "**Tilted transversally isotropic models (dimension 2).**\n",
    "We consider eikonal equations of the following form \n",
    "$$\n",
    "    a X^2+b Y^2 + c X^4+d X^2 Y^2 + e Y^4 = 1\n",
    "$$\n",
    "in two dimensions, where $a,b,c,d,e$ are real coefficients, and where \n",
    "$$\n",
    "    (X,Y) = A \\nabla u\n",
    "$$\n",
    "for some linear transformation $A$.\n",
    "\n",
    "Some algebraic conditions are required on $a,b,c,d,e$ for this equation to make sense. On the other hand, the linear map $A$ is arbitrary.\n",
    "In the special case where $c=d=e=0$, one recovers a Riemannian eikonal equation.\n",
    "\n",
    "The numerical scheme is based on rewriting this equation as an extremum of a family of Riemannian eikonal equations, in the form\n",
    "$$\n",
    "    \\max_{t \\in [0,1]} \\|\\nabla u\\|_{D(t)} = 1, \n",
    "$$\n",
    "where $D(t)$ depends on the parameters $a,b,c,d,e,A$ in addition to $t$. From this point, one can rely on the Eulerian discretization of [Riemannian eikonal equations](../Riemannian.ipynb).\n",
    "\n",
    "**Tilted transversally isotropic models (dimension 3).**\n",
    "The model is similar up to the insertion of $Y^2+Z^2$, as follows:\n",
    "$$\n",
    "    a X^2+b (Y^2+Z^2) + c X^4+d X^2 (Y^2+Z^2) + e (Y^2+Z^2)^2 = 1,\n",
    "$$\n",
    "where $a,b,c,d,e$ are again real coefficients, and $(X,Y,Z)$ is again the image of $\\nabla u$ by a linear map."
   ]
  },
  {
   "cell_type": "markdown",
   "metadata": {},
   "source": [
    "## 0. Importing the required libraries"
   ]
  },
  {
   "cell_type": "code",
   "execution_count": 1,
   "metadata": {},
   "outputs": [],
   "source": [
    "import sys; sys.path.insert(0,\"../..\") # Allow import of agd from parent directory (useless if conda package installed)\n",
    "#from Miscellaneous import TocTools; print(TocTools.displayTOC('Seismic','FMM'))"
   ]
  },
  {
   "cell_type": "code",
   "execution_count": 6,
   "metadata": {},
   "outputs": [],
   "source": [
    "from agd import HFMUtils\n",
    "from agd import LinearParallel as lp\n",
    "from agd.Metrics.Seismic import Hooke,Reduced\n",
    "from agd import AutomaticDifferentiation as ad\n",
    "from agd.Plotting import savefig; #savefig.dirName = 'Images/Seismic'\n",
    "norm_infinity = ad.Optimization.norm_infinity"
   ]
  },
  {
   "cell_type": "code",
   "execution_count": 7,
   "metadata": {},
   "outputs": [],
   "source": [
    "import numpy as np\n",
    "#import scipy.linalg\n",
    "#from copy import copy\n",
    "%matplotlib inline\n",
    "import matplotlib.pyplot as plt"
   ]
  },
  {
   "cell_type": "code",
   "execution_count": 8,
   "metadata": {},
   "outputs": [],
   "source": [
    "#metric2 = Hooke.mica().extract_xz()\n",
    "#metric2.rotate_by(0.5)"
   ]
  },
  {
   "cell_type": "code",
   "execution_count": 9,
   "metadata": {},
   "outputs": [],
   "source": [
    "#metric.norm(X)"
   ]
  },
  {
   "cell_type": "code",
   "execution_count": 10,
   "metadata": {},
   "outputs": [],
   "source": [
    "#metric2.norm(X)"
   ]
  },
  {
   "cell_type": "markdown",
   "metadata": {},
   "source": [
    "## 1. Constant medium"
   ]
  },
  {
   "cell_type": "markdown",
   "metadata": {},
   "source": [
    "### 1.1 Two dimensions"
   ]
  },
  {
   "cell_type": "code",
   "execution_count": 11,
   "metadata": {},
   "outputs": [],
   "source": [
    "hfmIn_Constant = HFMUtils.dictIn({\n",
    "    'model':'TTI2',\n",
    "    'arrayOrdering':'RowMajor',\n",
    "    'exportValues':1,\n",
    "    'seeds':[[0.,0.]],\n",
    "    'factoringMethod':'Static',\n",
    "    'factoringRadius':20,\n",
    "    'seedRadius':0,\n",
    "    'order':2\n",
    "#    'tips':[[x,y] for y in HFMUtils.CenteredLinspace(-1,1,6) \n",
    "#                    for x in HFMUtils.CenteredLinspace(-1,1,6)],\n",
    "#    'exportGeodesicFlow':1,\n",
    "})\n",
    "\n",
    "hfmIn_Constant.SetRect(sides=[[-1,1],[-1,1]],dimx=11,sampleBoundary=True) # Define the domain\n",
    "X = hfmIn_Constant.Grid() # Horizontal and vertical axis\n",
    "\n",
    "metric = Reduced([1.,1],[[0.5,0.1],[0.1,-0.2]])\n",
    "metric.rotate_by(0.5)\n",
    "hfmIn_Constant['metric'] = metric"
   ]
  },
  {
   "cell_type": "code",
   "execution_count": 12,
   "metadata": {},
   "outputs": [
    {
     "name": "stdout",
     "output_type": "stream",
     "text": [
      "v=[0. 1.],grad=[-0.31862001  1.08770536],lvl=-5.551115123125783e-17\n"
     ]
    }
   ],
   "source": [
    "v=np.array((0.,1.))\n",
    "grad = metric.gradient(v)\n",
    "a=metric.inverse_transformation\n",
    "lvl = metric._dual_level(lp.dot_AV(a,grad))\n",
    "print(f\"v={v},grad={grad},lvl={lvl}\")"
   ]
  },
  {
   "cell_type": "code",
   "execution_count": 13,
   "metadata": {},
   "outputs": [
    {
     "name": "stdout",
     "output_type": "stream",
     "text": [
      "Field verbosity defaults to 1\n",
      "Field showProgress defaults to 0\n",
      "Field factoringPointChoice defaults to Key\n",
      "Fast marching solver completed in 0.025089 s.\n",
      "Field exportActiveNeighs defaults to 0\n",
      "Field exportGeodesicFlow defaults to 0\n",
      "Field exportActiveOffsets defaults to 0\n"
     ]
    }
   ],
   "source": [
    "hfmOut = hfmIn_Constant.RunSmart()"
   ]
  },
  {
   "cell_type": "code",
   "execution_count": 14,
   "metadata": {},
   "outputs": [
    {
     "data": {
      "image/png": "[encoded data removed]",
      "text/plain": [
       "<Figure size 432x288 with 1 Axes>"
      ]
     },
     "metadata": {
      "needs_background": "light"
     },
     "output_type": "display_data"
    }
   ],
   "source": [
    "plt.axis('equal')\n",
    "plt.contourf(*X,hfmOut['values']);"
   ]
  },
  {
   "cell_type": "code",
   "execution_count": 15,
   "metadata": {},
   "outputs": [],
   "source": [
    "#plt.axis('equal')\n",
    "#plt.scatter(*hfmOut['spreadedSeeds'].T)\n",
    "#plt.scatter(0,0)"
   ]
  },
  {
   "cell_type": "markdown",
   "metadata": {},
   "source": [
    "### 1.2 Three dimensions"
   ]
  },
  {
   "cell_type": "code",
   "execution_count": 20,
   "metadata": {},
   "outputs": [],
   "source": [
    "hfmIn_Constant = HFMUtils.dictIn({\n",
    "    'model':'TTI3',\n",
    "    'arrayOrdering':'RowMajor',\n",
    "    'exportValues':1,\n",
    "    'seeds':[[0.,0.,0.]],\n",
    "    'factoringMethod':'Static',\n",
    "    'factoringRadius':20,\n",
    "    'seedRadius':2,\n",
    "    'order':2\n",
    "#    'tips':[[x,y] for y in HFMUtils.CenteredLinspace(-1,1,6) \n",
    "#                    for x in HFMUtils.CenteredLinspace(-1,1,6)],\n",
    "#    'exportGeodesicFlow':1,\n",
    "})\n",
    "\n",
    "hfmIn_Constant.SetRect(sides=[[-1,1],[-1,1],[-1,1] ],dimx=11,sampleBoundary=True) # Define the domain\n",
    "X = hfmIn_Constant.Grid() # Horizontal and vertical axis\n",
    "\n",
    "metric = Reduced([1.,1],[[0.5,0.1],[0.1,-0.2]]).to_TTI3()\n",
    "metric.rotate_by(0.5,axis=(1,2,3))\n",
    "hfmIn_Constant['metric'] = metric"
   ]
  },
  {
   "cell_type": "code",
   "execution_count": 22,
   "metadata": {},
   "outputs": [
    {
     "name": "stdout",
     "output_type": "stream",
     "text": [
      "Field verbosity defaults to 1\n",
      "Field showProgress defaults to 0\n",
      "Field factoringPointChoice defaults to Key\n",
      "Fast marching solver completed in 1.00962 s.\n",
      "Field exportActiveNeighs defaults to 0\n",
      "Field exportGeodesicFlow defaults to 0\n",
      "Field exportActiveOffsets defaults to 0\n"
     ]
    }
   ],
   "source": [
    "hfmOut = hfmIn_Constant.RunSmart()"
   ]
  },
  {
   "cell_type": "code",
   "execution_count": 23,
   "metadata": {},
   "outputs": [
    {
     "data": {
      "image/png": "[encoded data removed]",
      "text/plain": [
       "<Figure size 432x288 with 1 Axes>"
      ]
     },
     "metadata": {
      "needs_background": "light"
     },
     "output_type": "display_data"
    }
   ],
   "source": [
    "plt.axis('equal')\n",
    "plt.contourf(hfmOut['values'][:,:,5]);"
   ]
  },
  {
   "cell_type": "code",
   "execution_count": null,
   "metadata": {},
   "outputs": [],
   "source": [
    "norm_infinity(hfmOut['values'] - metric.norm(X))"
   ]
  },
  {
   "cell_type": "code",
   "execution_count": null,
   "metadata": {},
   "outputs": [],
   "source": [
    "values = hfmOut['values']"
   ]
  },
  {
   "cell_type": "code",
   "execution_count": null,
   "metadata": {},
   "outputs": [],
   "source": [
    "norm_infinity(values - hfmOut['values'])"
   ]
  },
  {
   "cell_type": "code",
   "execution_count": null,
   "metadata": {},
   "outputs": [],
   "source": [
    "bTest=True"
   ]
  },
  {
   "cell_type": "code",
   "execution_count": null,
   "metadata": {},
   "outputs": [],
   "source": [
    "bTest |= True"
   ]
  },
  {
   "cell_type": "code",
   "execution_count": null,
   "metadata": {},
   "outputs": [],
   "source": [
    "bTest"
   ]
  },
  {
   "cell_type": "code",
   "execution_count": 24,
   "metadata": {},
   "outputs": [
    {
     "data": {
      "text/plain": [
       "True"
      ]
     },
     "execution_count": 24,
     "metadata": {},
     "output_type": "execute_result"
    }
   ],
   "source": [
    "metric.is_TTI()"
   ]
  },
  {
   "cell_type": "code",
   "execution_count": 27,
   "metadata": {},
   "outputs": [
    {
     "data": {
      "text/plain": [
       "<agd.Metrics.Seismic.hooke.Hooke at 0x125652850>"
      ]
     },
     "execution_count": 27,
     "metadata": {},
     "output_type": "execute_result"
    }
   ],
   "source": [
    "Hooke.from_Reduced_VTI_to_Hooke(metric)"
   ]
  },
  {
   "cell_type": "code",
   "execution_count": null,
   "metadata": {},
   "outputs": [],
   "source": []
  }
 ],
 "metadata": {
  "kernelspec": {
   "display_name": "Python 3",
   "language": "python",
   "name": "python3"
  },
  "language_info": {
   "codemirror_mode": {
    "name": "ipython",
    "version": 3
   },
   "file_extension": ".py",
   "mimetype": "text/x-python",
   "name": "python",
   "nbconvert_exporter": "python",
   "pygments_lexer": "ipython3",
   "version": "3.7.6"
  }
 },
 "nbformat": 4,
 "nbformat_minor": 2
}
