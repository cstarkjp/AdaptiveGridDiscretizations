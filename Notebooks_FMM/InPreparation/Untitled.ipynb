{
 "cells": [
  {
   "cell_type": "markdown",
   "metadata": {},
   "source": [
    "# The HFM library - A fast marching solver with adaptive stencils\n",
    "\n",
    "## Part : Applications\n",
    "## Chapter : Generic CPU / GPU programming"
   ]
  },
  {
   "cell_type": "markdown",
   "metadata": {},
   "source": [
    "## 0. Importing the required libraries"
   ]
  },
  {
   "cell_type": "code",
   "execution_count": 1,
   "metadata": {},
   "outputs": [],
   "source": [
    "import sys; sys.path.insert(0,\"../..\") # Allow import of agd from parent directory (useless if conda package installed)\n",
    "#from Miscellaneous import TocTools; print(TocTools.displayTOC('TTI','FMM'))"
   ]
  },
  {
   "cell_type": "code",
   "execution_count": 2,
   "metadata": {},
   "outputs": [],
   "source": [
    "from agd import HFMUtils\n",
    "from agd.HFMUtils import HFM_CUDA"
   ]
  },
  {
   "cell_type": "code",
   "execution_count": 3,
   "metadata": {},
   "outputs": [
    {
     "ename": "AttributeError",
     "evalue": "module 'agd.HFMUtils.HFM_CUDA' has no attribute 'Test'",
     "output_type": "error",
     "traceback": [
      "\u001b[0;31m---------------------------------------------------------------------------\u001b[0m",
      "\u001b[0;31mAttributeError\u001b[0m                            Traceback (most recent call last)",
      "\u001b[0;32m<ipython-input-3-73635ba21f46>\u001b[0m in \u001b[0;36m<module>\u001b[0;34m\u001b[0m\n\u001b[0;32m----> 1\u001b[0;31m \u001b[0mHFM_CUDA\u001b[0m\u001b[0;34m.\u001b[0m\u001b[0mTest\u001b[0m\u001b[0;34m(\u001b[0m\u001b[0;34m)\u001b[0m\u001b[0;34m\u001b[0m\u001b[0;34m\u001b[0m\u001b[0m\n\u001b[0m",
      "\u001b[0;31mAttributeError\u001b[0m: module 'agd.HFMUtils.HFM_CUDA' has no attribute 'Test'"
     ]
    }
   ],
   "source": [
    "HFM_CUDA.Test()"
   ]
  },
  {
   "cell_type": "code",
   "execution_count": 3,
   "metadata": {},
   "outputs": [],
   "source": [
    "import numpy as np"
   ]
  },
  {
   "cell_type": "code",
   "execution_count": 12,
   "metadata": {},
   "outputs": [
    {
     "data": {
      "text/plain": [
       "dtype('int64')"
      ]
     },
     "execution_count": 12,
     "metadata": {},
     "output_type": "execute_result"
    }
   ],
   "source": [
    "np.array((2.,3.),dtype='float32').astype(int).dtype"
   ]
  },
  {
   "cell_type": "code",
   "execution_count": 16,
   "metadata": {},
   "outputs": [
    {
     "data": {
      "text/plain": [
       "False"
      ]
     },
     "execution_count": 16,
     "metadata": {},
     "output_type": "execute_result"
    }
   ],
   "source": [
    "np.dtype('float32') == np.dtype('float64')"
   ]
  },
  {
   "cell_type": "code",
   "execution_count": 18,
   "metadata": {},
   "outputs": [
    {
     "data": {
      "text/plain": [
       "'float32'"
      ]
     },
     "execution_count": 18,
     "metadata": {},
     "output_type": "execute_result"
    }
   ],
   "source": [
    "np.dtype('float32').name"
   ]
  },
  {
   "cell_type": "code",
   "execution_count": 25,
   "metadata": {},
   "outputs": [
    {
     "ename": "TypeError",
     "evalue": "getattr expected at least 2 arguments, got 1",
     "output_type": "error",
     "traceback": [
      "\u001b[0;31m---------------------------------------------------------------------------\u001b[0m",
      "\u001b[0;31mTypeError\u001b[0m                                 Traceback (most recent call last)",
      "\u001b[0;32m<ipython-input-25-31daa2fa11d0>\u001b[0m in \u001b[0;36m<module>\u001b[0;34m\u001b[0m\n\u001b[0;32m----> 1\u001b[0;31m \u001b[0mgetattr\u001b[0m\u001b[0;34m(\u001b[0m\u001b[0mnp\u001b[0m\u001b[0;34m.\u001b[0m\u001b[0mdtype\u001b[0m\u001b[0;34m(\u001b[0m\u001b[0;34m'float32'\u001b[0m\u001b[0;34m)\u001b[0m\u001b[0;34m.\u001b[0m\u001b[0mtype\u001b[0m\u001b[0;34m)\u001b[0m\u001b[0;34m\u001b[0m\u001b[0;34m\u001b[0m\u001b[0m\n\u001b[0m",
      "\u001b[0;31mTypeError\u001b[0m: getattr expected at least 2 arguments, got 1"
     ]
    }
   ],
   "source": [
    "getattr(np.dtype('float32').type)"
   ]
  },
  {
   "cell_type": "code",
   "execution_count": 31,
   "metadata": {},
   "outputs": [
    {
     "data": {
      "text/plain": [
       "'float32'"
      ]
     },
     "execution_count": 31,
     "metadata": {},
     "output_type": "execute_result"
    }
   ],
   "source": [
    "str('float32')"
   ]
  },
  {
   "cell_type": "code",
   "execution_count": 30,
   "metadata": {},
   "outputs": [
    {
     "data": {
      "text/plain": [
       "'float32'"
      ]
     },
     "execution_count": 30,
     "metadata": {},
     "output_type": "execute_result"
    }
   ],
   "source": [
    "str(np.dtype('float32'))"
   ]
  },
  {
   "cell_type": "code",
   "execution_count": 29,
   "metadata": {},
   "outputs": [
    {
     "data": {
      "text/plain": [
       "\"<class 'numpy.float32'>\""
      ]
     },
     "execution_count": 29,
     "metadata": {},
     "output_type": "execute_result"
    }
   ],
   "source": [
    "str(np.dtype('float32').type)"
   ]
  },
  {
   "cell_type": "code",
   "execution_count": 27,
   "metadata": {},
   "outputs": [
    {
     "data": {
      "text/plain": [
       "mappingproxy({'__repr__': <slot wrapper '__repr__' of 'numpy.float32' objects>,\n",
       "              '__hash__': <slot wrapper '__hash__' of 'numpy.float32' objects>,\n",
       "              '__str__': <slot wrapper '__str__' of 'numpy.float32' objects>,\n",
       "              '__lt__': <slot wrapper '__lt__' of 'numpy.float32' objects>,\n",
       "              '__le__': <slot wrapper '__le__' of 'numpy.float32' objects>,\n",
       "              '__eq__': <slot wrapper '__eq__' of 'numpy.float32' objects>,\n",
       "              '__ne__': <slot wrapper '__ne__' of 'numpy.float32' objects>,\n",
       "              '__gt__': <slot wrapper '__gt__' of 'numpy.float32' objects>,\n",
       "              '__ge__': <slot wrapper '__ge__' of 'numpy.float32' objects>,\n",
       "              '__add__': <slot wrapper '__add__' of 'numpy.float32' objects>,\n",
       "              '__radd__': <slot wrapper '__radd__' of 'numpy.float32' objects>,\n",
       "              '__sub__': <slot wrapper '__sub__' of 'numpy.float32' objects>,\n",
       "              '__rsub__': <slot wrapper '__rsub__' of 'numpy.float32' objects>,\n",
       "              '__mul__': <slot wrapper '__mul__' of 'numpy.float32' objects>,\n",
       "              '__rmul__': <slot wrapper '__rmul__' of 'numpy.float32' objects>,\n",
       "              '__mod__': <slot wrapper '__mod__' of 'numpy.float32' objects>,\n",
       "              '__rmod__': <slot wrapper '__rmod__' of 'numpy.float32' objects>,\n",
       "              '__divmod__': <slot wrapper '__divmod__' of 'numpy.float32' objects>,\n",
       "              '__rdivmod__': <slot wrapper '__rdivmod__' of 'numpy.float32' objects>,\n",
       "              '__pow__': <slot wrapper '__pow__' of 'numpy.float32' objects>,\n",
       "              '__rpow__': <slot wrapper '__rpow__' of 'numpy.float32' objects>,\n",
       "              '__neg__': <slot wrapper '__neg__' of 'numpy.float32' objects>,\n",
       "              '__pos__': <slot wrapper '__pos__' of 'numpy.float32' objects>,\n",
       "              '__abs__': <slot wrapper '__abs__' of 'numpy.float32' objects>,\n",
       "              '__bool__': <slot wrapper '__bool__' of 'numpy.float32' objects>,\n",
       "              '__int__': <slot wrapper '__int__' of 'numpy.float32' objects>,\n",
       "              '__float__': <slot wrapper '__float__' of 'numpy.float32' objects>,\n",
       "              '__floordiv__': <slot wrapper '__floordiv__' of 'numpy.float32' objects>,\n",
       "              '__rfloordiv__': <slot wrapper '__rfloordiv__' of 'numpy.float32' objects>,\n",
       "              '__truediv__': <slot wrapper '__truediv__' of 'numpy.float32' objects>,\n",
       "              '__rtruediv__': <slot wrapper '__rtruediv__' of 'numpy.float32' objects>,\n",
       "              '__new__': <function float32.__new__(*args, **kwargs)>,\n",
       "              'as_integer_ratio': <method 'as_integer_ratio' of 'numpy.float32' objects>,\n",
       "              '__doc__': None})"
      ]
     },
     "execution_count": 27,
     "metadata": {},
     "output_type": "execute_result"
    }
   ],
   "source": [
    "np.dtype('float32').type.__dict__"
   ]
  },
  {
   "cell_type": "markdown",
   "metadata": {},
   "source": [
    "## 1."
   ]
  },
  {
   "cell_type": "code",
   "execution_count": 4,
   "metadata": {},
   "outputs": [],
   "source": [
    "hfmIn = HFMUtils.dictIn({\n",
    "    'model':'Isotropic2',\n",
    "    'arrayOrdering':'RowMajor',\n",
    "    'seeds':[[0,0]],\n",
    "})\n",
    "hfmIn.SetRect([[-1,1],[-1,1]],dimx=20)"
   ]
  },
  {
   "cell_type": "code",
   "execution_count": 8,
   "metadata": {},
   "outputs": [
    {
     "ename": "AttributeError",
     "evalue": "module 'agd.HFMUtils.HFM_CUDA' has no attribute 'run_detail'",
     "output_type": "error",
     "traceback": [
      "\u001b[0;31m---------------------------------------------------------------------------\u001b[0m",
      "\u001b[0;31mAttributeError\u001b[0m                            Traceback (most recent call last)",
      "\u001b[0;32m<ipython-input-8-3e132cb890f5>\u001b[0m in \u001b[0;36m<module>\u001b[0;34m\u001b[0m\n\u001b[0;32m----> 1\u001b[0;31m \u001b[0mHFM_CUDA\u001b[0m\u001b[0;34m.\u001b[0m\u001b[0mrun_detail\u001b[0m\u001b[0;34m\u001b[0m\u001b[0;34m\u001b[0m\u001b[0m\n\u001b[0m",
      "\u001b[0;31mAttributeError\u001b[0m: module 'agd.HFMUtils.HFM_CUDA' has no attribute 'run_detail'"
     ]
    }
   ],
   "source": [
    "HFM_CUDA.run_detail"
   ]
  },
  {
   "cell_type": "code",
   "execution_count": 5,
   "metadata": {},
   "outputs": [
    {
     "ename": "AttributeError",
     "evalue": "module 'agd.HFMUtils.HFM_CUDA' has no attribute 'RunGPU'",
     "output_type": "error",
     "traceback": [
      "\u001b[0;31m---------------------------------------------------------------------------\u001b[0m",
      "\u001b[0;31mAttributeError\u001b[0m                            Traceback (most recent call last)",
      "\u001b[0;32m<ipython-input-5-def669d3db8b>\u001b[0m in \u001b[0;36m<module>\u001b[0;34m\u001b[0m\n\u001b[0;32m----> 1\u001b[0;31m \u001b[0mHFM_CUDA\u001b[0m\u001b[0;34m.\u001b[0m\u001b[0mRunGPU\u001b[0m\u001b[0;34m(\u001b[0m\u001b[0mhfmIn\u001b[0m\u001b[0;34m)\u001b[0m\u001b[0;34m\u001b[0m\u001b[0;34m\u001b[0m\u001b[0m\n\u001b[0m",
      "\u001b[0;31mAttributeError\u001b[0m: module 'agd.HFMUtils.HFM_CUDA' has no attribute 'RunGPU'"
     ]
    }
   ],
   "source": [
    "HFM_CUDA.RunGPU(hfmIn)"
   ]
  },
  {
   "cell_type": "code",
   "execution_count": 7,
   "metadata": {},
   "outputs": [
    {
     "name": "stdout",
     "output_type": "stream",
     "text": [
      "Help on package agd.HFMUtils.HFM_CUDA in agd.HFMUtils:\n",
      "\n",
      "NAME\n",
      "    agd.HFMUtils.HFM_CUDA\n",
      "\n",
      "PACKAGE CONTENTS\n",
      "    misc\n",
      "    run_detail\n",
      "\n",
      "FILE\n",
      "    (built-in)\n",
      "\n",
      "\n"
     ]
    }
   ],
   "source": [
    "help(HFM_CUDA)"
   ]
  },
  {
   "cell_type": "code",
   "execution_count": 6,
   "metadata": {},
   "outputs": [
    {
     "name": "stdout",
     "output_type": "stream",
     "text": [
      "Field verbosity defaults to 1\n",
      "***** Warning ! *****\n",
      "Unused fields from user: gridScale origin seeds \n",
      "********************\n",
      "***** Warning ! *****\n",
      "Exception caught. Error : Field cost not found.\n",
      "File: /Users/mirebeau/Dropbox/Programmes/Github/HamiltonFastMarching/Headers/Base/Implementation/HFMInterface.hxx, Line: 275\n",
      "********************\n",
      "Returned with exit code  1\n"
     ]
    },
    {
     "data": {
      "text/plain": [
       "{'defaulted': 'verbosity',\n",
       " 'unusedFromUser': 'gridScale origin seeds',\n",
       " 'unusedHelp': 'verbosity keyHelp arrayOrdering',\n",
       " 'visitedUnset': 'cost cost_times keyHelp speed speed_times',\n",
       " 'retcode': 1}"
      ]
     },
     "execution_count": 6,
     "metadata": {},
     "output_type": "execute_result"
    }
   ],
   "source": [
    "HFMUtils.RunRaw(hfmIn)"
   ]
  },
  {
   "cell_type": "code",
   "execution_count": 3,
   "metadata": {},
   "outputs": [],
   "source": [
    "#from agd import HFMUtils\n",
    "#from agd import LinearParallel as lp\n",
    "#from agd.Metrics.Seismic import Hooke,Reduced\n",
    "#from agd import AutomaticDifferentiation as ad\n",
    "#from agd.Plotting import savefig; #savefig.dirName = 'Images/TTI'\n",
    "#norm_infinity = ad.Optimization.norm_infinity"
   ]
  },
  {
   "cell_type": "code",
   "execution_count": 4,
   "metadata": {},
   "outputs": [],
   "source": [
    "import numpy as np"
   ]
  },
  {
   "cell_type": "code",
   "execution_count": 14,
   "metadata": {},
   "outputs": [
    {
     "data": {
      "text/plain": [
       "'builtins'"
      ]
     },
     "execution_count": 14,
     "metadata": {},
     "output_type": "execute_result"
    }
   ],
   "source": [
    "z = np.zeros(2)\n",
    "type([]).__module__"
   ]
  },
  {
   "cell_type": "code",
   "execution_count": 9,
   "metadata": {},
   "outputs": [
    {
     "ename": "AttributeError",
     "evalue": "'numpy.ndarray' object has no attribute '__module__'",
     "output_type": "error",
     "traceback": [
      "\u001b[0;31m---------------------------------------------------------------------------\u001b[0m",
      "\u001b[0;31mAttributeError\u001b[0m                            Traceback (most recent call last)",
      "\u001b[0;32m<ipython-input-9-ae575174ce4a>\u001b[0m in \u001b[0;36m<module>\u001b[0;34m\u001b[0m\n\u001b[0;32m----> 1\u001b[0;31m \u001b[0mz\u001b[0m\u001b[0;34m.\u001b[0m\u001b[0m__module__\u001b[0m\u001b[0;34m\u001b[0m\u001b[0;34m\u001b[0m\u001b[0m\n\u001b[0m",
      "\u001b[0;31mAttributeError\u001b[0m: 'numpy.ndarray' object has no attribute '__module__'"
     ]
    }
   ],
   "source": [
    "z.__module__"
   ]
  },
  {
   "cell_type": "code",
   "execution_count": 13,
   "metadata": {},
   "outputs": [
    {
     "data": {
      "text/plain": [
       "'numpy'"
      ]
     },
     "execution_count": 13,
     "metadata": {},
     "output_type": "execute_result"
    }
   ],
   "source": [
    "type(z).__module__"
   ]
  },
  {
   "cell_type": "code",
   "execution_count": 11,
   "metadata": {},
   "outputs": [
    {
     "data": {
      "text/plain": [
       "'numpy'"
      ]
     },
     "execution_count": 11,
     "metadata": {},
     "output_type": "execute_result"
    }
   ],
   "source": [
    "np.zeros.__module__"
   ]
  },
  {
   "cell_type": "code",
   "execution_count": null,
   "metadata": {},
   "outputs": [],
   "source": [
    "from agd import "
   ]
  },
  {
   "cell_type": "code",
   "execution_count": 7,
   "metadata": {},
   "outputs": [],
   "source": [
    "import numpy as np\n",
    "#import scipy.linalg\n",
    "#from copy import copy\n",
    "%matplotlib inline\n",
    "import matplotlib.pyplot as plt"
   ]
  },
  {
   "cell_type": "code",
   "execution_count": 2,
   "metadata": {},
   "outputs": [
    {
     "data": {
      "text/plain": [
       "'a,b'"
      ]
     },
     "execution_count": 2,
     "metadata": {},
     "output_type": "execute_result"
    }
   ],
   "source": [
    "\",\".join((\"a\",\"b\"))"
   ]
  },
  {
   "cell_type": "code",
   "execution_count": 5,
   "metadata": {},
   "outputs": [
    {
     "data": {
      "text/plain": [
       "'2,3'"
      ]
     },
     "execution_count": 5,
     "metadata": {},
     "output_type": "execute_result"
    }
   ],
   "source": [
    "\",\".join(str(e) for e in (2,3))"
   ]
  },
  {
   "cell_type": "code",
   "execution_count": 6,
   "metadata": {},
   "outputs": [],
   "source": [
    "l=[1,2]\n",
    "l.append(3)"
   ]
  },
  {
   "cell_type": "code",
   "execution_count": 7,
   "metadata": {},
   "outputs": [
    {
     "data": {
      "text/plain": [
       "[1, 2, 3]"
      ]
     },
     "execution_count": 7,
     "metadata": {},
     "output_type": "execute_result"
    }
   ],
   "source": [
    "l"
   ]
  },
  {
   "cell_type": "code",
   "execution_count": 10,
   "metadata": {},
   "outputs": [
    {
     "data": {
      "text/plain": [
       "3"
      ]
     },
     "execution_count": 10,
     "metadata": {},
     "output_type": "execute_result"
    }
   ],
   "source": [
    "{1:1}.get(2,3)"
   ]
  },
  {
   "cell_type": "code",
   "execution_count": null,
   "metadata": {},
   "outputs": [],
   "source": []
  }
 ],
 "metadata": {
  "kernelspec": {
   "display_name": "Python 3",
   "language": "python",
   "name": "python3"
  },
  "language_info": {
   "codemirror_mode": {
    "name": "ipython",
    "version": 3
   },
   "file_extension": ".py",
   "mimetype": "text/x-python",
   "name": "python",
   "nbconvert_exporter": "python",
   "pygments_lexer": "ipython3",
   "version": "3.8.1"
  }
 },
 "nbformat": 4,
 "nbformat_minor": 4
}
