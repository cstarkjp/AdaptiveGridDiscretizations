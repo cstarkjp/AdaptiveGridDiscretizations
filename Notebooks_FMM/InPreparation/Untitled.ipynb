{
 "cells": [
  {
   "cell_type": "markdown",
   "metadata": {},
   "source": [
    "# The HFM library - A fast marching solver with adaptive stencils\n",
    "\n",
    "## Part : Seismology\n",
    "## Chapter : Tilted transversally isotropic metrics"
   ]
  },
  {
   "cell_type": "markdown",
   "metadata": {},
   "source": [
    "In this notebook, we demonstrate anisotropic fast marching with a class of metrics arising in seismic traveltime tomography. \n",
    "The intended use cases are fairly similar to [metrics defined by a Hooke tensor](Seismic.ipynb), which illustrates a closely related model. Under the hood, however, we use a completely different implementation.\n",
    "\n",
    "**Tilted transversally isotropic models (dimension 2).**\n",
    "We consider eikonal equations of the following form \n",
    "$$\n",
    "    a X^2+b Y^2 + c X^4+d X^2 Y^2 + e Y^4 = 1\n",
    "$$\n",
    "in two dimensions, where $a,b,c,d,e$ are real coefficients, and where \n",
    "$$\n",
    "    (X,Y) = A \\nabla u\n",
    "$$\n",
    "for some linear transformation $A$.\n",
    "\n",
    "Some algebraic conditions are required on $a,b,c,d,e$ for this equation to make sense. On the other hand, the linear map $A$ is arbitrary.\n",
    "\n",
    "The numerical scheme is based on rewriting this equation as an extremum of a family of Riemannian eikonal equations, in the form\n",
    "$$\n",
    "    \\max_{t \\in [0,1]} \\|\\nabla u\\|_{D(t)} = 1, \n",
    "$$\n",
    "where $D(t)$ depends on the parameters $a,b,c,d,e,A$ in addition to $t$. From this point, one can rely on the Eulerian discretization of [Riemannian eikonal equations](../Riemannian.ipynb).\n",
    "\n",
    "**Tilted transversally isotropic models (dimension 3).**\n",
    "The model is similar up to the insertion of $Y^2+Z^2$, as follows:\n",
    "$$\n",
    "    a X^2+b (Y^2+Z^2) + c X^4+d X^2 (Y^2+Z^2) + e (Y^2+Z^2)^2 = 1,\n",
    "$$\n",
    "where $a,b,c,d,e$ are again real coefficients, and $(X,Y,Z)$ is again the image of $\\nabla u$ by a linear map."
   ]
  },
  {
   "cell_type": "markdown",
   "metadata": {},
   "source": [
    "## 0. Importing the required libraries"
   ]
  },
  {
   "cell_type": "code",
   "execution_count": null,
   "metadata": {},
   "outputs": [],
   "source": []
  }
 ],
 "metadata": {
  "kernelspec": {
   "display_name": "Python 3",
   "language": "python",
   "name": "python3"
  },
  "language_info": {
   "codemirror_mode": {
    "name": "ipython",
    "version": 3
   },
   "file_extension": ".py",
   "mimetype": "text/x-python",
   "name": "python",
   "nbconvert_exporter": "python",
   "pygments_lexer": "ipython3",
   "version": "3.7.6"
  }
 },
 "nbformat": 4,
 "nbformat_minor": 2
}
