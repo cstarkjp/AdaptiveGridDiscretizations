{
 "cells": [
  {
   "cell_type": "markdown",
   "metadata": {},
   "source": [
    "# The HFM library - A fast marching solver with adaptive stencils \n",
    "\n",
    "## Part : Algorithmic enhancements to the fast marching method\n",
    "## Chapter : Achieving high accuracy\n",
    "\n",
    "The present notebook is devoted to achieving high accuracy with the fast marching method. Let us recall that the standard discretization of the eikonal equation, for a problem with a point source, achieves the accuracy\n",
    "$$\n",
    "    \\mathcal O(h \\ln(h) ),\n",
    "$$\n",
    "where $h>0$ is the discretization grid scale. This is enough for a number of problems, but insufficient for other applications. \n",
    "\n",
    "\n",
    "In order to reduce this error, we use a combination of the three following approaches:\n",
    "* *Second and third order finite differences* (**order** key). Numerical solvers of eikonal equations typically rely on first order upwind finite differences. Higher order finite differences can however be used at the 'recompute' stage, provided they are complemented with cautious fallback strategies, in view of their instability.\n",
    "* *Equation factoring at the source(s)* (**factoringMethod** key). The solution of the eikonal equation has a non-differentiable singularity at the source point, which yields inaccurate finite differences in its neighborhood. Equation factoring methods correct for these systematic errors, by relying on an analytical expression of the singularity.\n",
    "* *Spreading seed information* (**seedRadius** key). By default the seed position is rounded to the closest grid point, producing a systematic $\\mathcal O(h)$ error, unless the provided seed falls exactly on a seed point. The seedRadius option replaces the given off-grid seed point with a small set of on-grid seed points equipped analytic estimates of the solution.\n",
    "\n",
    "\n",
    "Some possible additional difficulties may however cause the above techniques to be inoperant. For instance:\n",
    "* *Discontinuities in the metric*. Non-smooth data yields non-smooth solutions, which are not amenable to high order methods.\n",
    "* *Obstacles in the domain* Secondary sources, created by the obstacles, are currently not handled by the equation factoring method. In addition, the fact that these sources are located on the domain boundary creates numerical difficulities.\n",
    "* *Non holonomic models (curvature penalization)* The solutions to these models have a severe singularity at the source, which generally does not have an analytic expression. In addition, our implementation involves a relaxation, with parameter $\\epsilon>0$, which is another source of error.\n"
   ]
  },
  {
   "cell_type": "markdown",
   "metadata": {},
   "source": [
    "[**Summary**](Summary.ipynb) of volume Fast Marching Methods, this series of notebooks.\n",
    "\n",
    "[**Main summary**](../Summary.ipynb) of the Adaptive Grid Discretizations \n",
    "\tbook of notebooks, including the other volumes.\n",
    "\n",
    "# Table of contents\n",
    "  * [1. Poincare model of the hyperbolic plane](#1.-Poincare-model-of-the-hyperbolic-plane)\n",
    "    * [1.1 The seedRadius key](#1.1-The-seedRadius-key)\n",
    "    * [1.2 (Static) Equation factoring](#1.2-(Static)-Equation-factoring)\n",
    "    * [1.3 Second order scheme](#1.3-Second-order-scheme)\n",
    "    * [1.4 Third order scheme, and semi-Lagrangian numerical methods](#1.4-Third-order-scheme,-and-semi-Lagrangian-numerical-methods)\n",
    "  * [2. A Riemannian metric](#2.-A-Riemannian-metric)\n",
    "    * [2.1 Trying the various numerical scheme enhancements](#2.1-Trying-the-various-numerical-scheme-enhancements)\n",
    "  * [3. A Rander metric](#3.-A-Rander-metric)\n",
    "  * [4. Asymmetric quadratic metrics (TODO)](#4.-Asymmetric-quadratic-metrics-(TODO))\n",
    "  * [5. Metric arising from seismology. (TODO)](#5.-Metric-arising-from-seismology.-(TODO))\n",
    "\n",
    "\n",
    "\n",
    "This Python&reg; notebook is intended as documentation and testing for the [HamiltonFastMarching (HFM) library](https://github.com/mirebeau/HamiltonFastMarching), which also has interfaces to the Matlab&reg; and Mathematica&reg; languages. \n",
    "More information on the HFM library in the manuscript:\n",
    "* Jean-Marie Mirebeau, Jorg Portegies, \"Hamiltonian Fast Marching: A numerical solver for anisotropic and non-holonomic eikonal PDEs\", 2019 [(link)](https://hal.archives-ouvertes.fr/hal-01778322)\n",
    "\n",
    "Copyright Jean-Marie Mirebeau, University Paris-Sud, CNRS, University Paris-Saclay"
   ]
  },
  {
   "cell_type": "markdown",
   "metadata": {},
   "source": [
    "## 0. Importing the required libraries"
   ]
  },
  {
   "cell_type": "code",
   "execution_count": 83,
   "metadata": {},
   "outputs": [],
   "source": [
    "import sys; sys.path.insert(0,\"..\") # Allow import of agd from parent directory (useless if conda package installed)\n",
    "#from Miscellaneous import TocTools; print(TocTools.displayTOC('HighAccuracy','FMM'))"
   ]
  },
  {
   "cell_type": "code",
   "execution_count": 2,
   "metadata": {},
   "outputs": [],
   "source": [
    "from agd import HFMUtils\n",
    "from agd import Metrics\n",
    "from agd.Metrics.Seismic import Hooke\n",
    "from agd.Plotting import savefig; #savefig.dirName = 'Figures/HighAccuracy'"
   ]
  },
  {
   "cell_type": "code",
   "execution_count": 3,
   "metadata": {},
   "outputs": [],
   "source": [
    "import numpy as np\n",
    "%matplotlib inline\n",
    "import matplotlib.pyplot as plt"
   ]
  },
  {
   "cell_type": "markdown",
   "metadata": {},
   "source": [
    "## 1. Poincare model of the hyperbolic plane\n",
    "\n",
    "The hyperbolic plane model is determined by the following (isotropic) metric\n",
    "$$\n",
    "    F_p(v) := \\frac {\\|v\\|} {p_y},\n",
    "$$\n",
    "where $p = (p_x,p_y)$ belongs to the half plane $p_x \\in \\mathbb R$, $p_y > 0$. The distance between two points has the analytic expression\n",
    "$$\n",
    "    d(p,q) = \\ln \\frac{ |p - \\overline q| + | p - q| }{|p - \\overline q| - | p - q| },\n",
    "$$\n",
    "where $q = (q_x,q_y)$ and $\\overline q = (q_x,-q_y)$. \n",
    "\n",
    "In the following example, we restrict our computations to the sub-domain $[-0.5,0.5] \\times [1,2] \\subset \\mathbb R \\times \\mathbb R^{++}$."
   ]
  },
  {
   "cell_type": "code",
   "execution_count": 4,
   "metadata": {},
   "outputs": [],
   "source": [
    "def PoincareDistance(p,q):\n",
    "    a = p[0]-q[0]\n",
    "    b = p[1]-q[1]\n",
    "    c = p[1]+q[1]\n",
    "    d = np.sqrt(a**2+b**2)\n",
    "    e = np.sqrt(a**2+c**2)\n",
    "    return np.log((e+d)/(e-d))"
   ]
  },
  {
   "cell_type": "code",
   "execution_count": 5,
   "metadata": {},
   "outputs": [],
   "source": [
    "dimx=100\n",
    "hfmIn = HFMUtils.Rect(sides=[[-0.5,0.5],[1,2]],dimx=dimx,sampleBoundary=True)\n",
    "hfmIn.update({\n",
    "    'model':'Isotropic2',\n",
    "    'seeds':np.array([[0.,1.5]]),\n",
    "    'exportValues':1.,\n",
    "    'arrayOrdering':'RowMajor',\n",
    "    'tips':[[x,y] for x in HFMUtils.CenteredLinspace(-0.5,0.5,6) \n",
    "            for y in HFMUtils.CenteredLinspace(1,2,6)],\n",
    "})\n",
    "\n",
    "X,Y = HFMUtils.GetGrid(hfmIn)\n",
    "hfmIn['cost'] = 1./Y"
   ]
  },
  {
   "cell_type": "code",
   "execution_count": 6,
   "metadata": {},
   "outputs": [
    {
     "name": "stdout",
     "output_type": "stream",
     "text": [
      "Field verbosity defaults to 1\n",
      "Field order defaults to 1\n",
      "Field seedRadius defaults to 0\n",
      "Field showProgress defaults to 0\n",
      "Field factoringMethod defaults to None\n",
      "Fast marching solver completed in 0.00246 s.\n",
      "Field geodesicSolver defaults to Discrete\n",
      "Field geodesicStep defaults to 0.25\n",
      "Field geodesicWeightThreshold defaults to 0.001\n",
      "Field geodesicVolumeBound defaults to 8.45\n",
      "Field exportActiveNeighs defaults to 0\n",
      "Field exportGeodesicFlow defaults to 0\n",
      "Field exportActiveOffsets defaults to 0\n"
     ]
    }
   ],
   "source": [
    "hfmOut = HFMUtils.Run(hfmIn)"
   ]
  },
  {
   "cell_type": "code",
   "execution_count": 7,
   "metadata": {},
   "outputs": [
    {
     "data": {
      "image/png": "[encoded data removed]",
      "text/plain": [
       "<Figure size 288x288 with 1 Axes>"
      ]
     },
     "metadata": {
      "needs_background": "light"
     },
     "output_type": "display_data"
    }
   ],
   "source": [
    "plt.figure(figsize=[4,4]); plt.title('Distance map, Poincare hyperbolic plane'); plt.axis('equal'); \n",
    "plt.contourf(X,Y,hfmOut['values']);"
   ]
  },
  {
   "cell_type": "code",
   "execution_count": 8,
   "metadata": {},
   "outputs": [
    {
     "data": {
      "image/png": "[encoded data removed]",
      "text/plain": [
       "<Figure size 288x288 with 1 Axes>"
      ]
     },
     "metadata": {
      "needs_background": "light"
     },
     "output_type": "display_data"
    }
   ],
   "source": [
    "fig = plt.figure(figsize=[4,4]); plt.title('Minimal geodesics, Poincare hyperbolic plane'); plt.axis('equal'); \n",
    "for geo in HFMUtils.GetGeodesics(hfmOut):  plt.plot(geo[:,0],geo[:,1]) "
   ]
  },
  {
   "cell_type": "markdown",
   "metadata": {},
   "source": [
    "Next we compare the numerical results with the analytic expression of the distance."
   ]
  },
  {
   "cell_type": "code",
   "execution_count": 9,
   "metadata": {},
   "outputs": [],
   "source": [
    "ExactSolution = PoincareDistance(hfmIn['seeds'][0],(X,Y))\n",
    "def LInfNorm(a):\n",
    "    return np.max(np.abs(a))\n",
    "def L1Norm(a):\n",
    "    return np.sum(np.abs(a))/a.size"
   ]
  },
  {
   "cell_type": "code",
   "execution_count": 10,
   "metadata": {},
   "outputs": [
    {
     "name": "stdout",
     "output_type": "stream",
     "text": [
      "Max error :  0.014974751023088206\n",
      "Average error :  0.0055575705831370096\n"
     ]
    }
   ],
   "source": [
    "print(\"Max error : \",LInfNorm(ExactSolution - hfmOut['values']) )\n",
    "print(\"Average error : \", L1Norm(ExactSolution - hfmOut['values']) )"
   ]
  },
  {
   "cell_type": "code",
   "execution_count": 11,
   "metadata": {},
   "outputs": [
    {
     "data": {
      "text/plain": [
       "<matplotlib.contour.QuadContourSet at 0x11c3f0c50>"
      ]
     },
     "execution_count": 11,
     "metadata": {},
     "output_type": "execute_result"
    },
    {
     "data": {
      "image/png": "[encoded data removed]",
      "text/plain": [
       "<Figure size 432x288 with 1 Axes>"
      ]
     },
     "metadata": {
      "needs_background": "light"
     },
     "output_type": "display_data"
    }
   ],
   "source": [
    "plt.contourf(X,Y,ExactSolution - hfmOut['values'])"
   ]
  },
  {
   "cell_type": "markdown",
   "metadata": {},
   "source": [
    "### 1.1 The seedRadius key\n",
    "\n",
    "In the above experiment with the Poincare model, as in most typical uses of the fast marching method we suspect, the seed point falls off the discretization grid. This results in a $\\mathcal O(h)$ error, which can be corrected with the option **seedRadius**, with the following effects.\n",
    "\n",
    "* **seedRadius** $= 0$ (default).  The seed is rounded to the nearest grid point, producing the largest error. This is however the only available option with e.g. non-holonomic models, for which no analytic approximation of the solution is available. In addition, this default can be required for some use cases involving automatic differentiation [link](http://nbviewer.jupyter.org/urls/rawgithub.com/Mirebeau/HFM_Python_Notebooks/master/A2_Sensitivity.ipynb)\n",
    "\n",
    "* **seedRadius** $=r>0$. All the grid points $q$ within radius $r$, *measured in pixels*, of the provided seed $p_*$ are initialized with the seed values \n",
    "$$\n",
    "    %v(q) := \n",
    "    u(p_*) + \\frac 1 2 (F_{p_*}(q-p_*) + F_q(q-p_*)).\n",
    "$$\n",
    "\n",
    "* **seedRadius** $=r<0$. All the grid points $q$ within radius $|r|$ of the provided seeds are set as seeds, with the above value, as well as the points which can be reached in one step using the numerical scheme stencil.\n",
    "\n",
    "<!---\n",
    "\n",
    "* **spreadSeeds = 0**. The corners $q$ of the grid cell (square or cube) containing the provided seed point $p_*$ are used as seeds, with the seed values \n",
    "\n",
    "\n",
    "* **spreadSeeds = 1**. A few additional grid points are used as seeds, corresponding to one step of the fast marching scheme.\n",
    "\n",
    "In the Poincare half plane instance, an error reduction by $20\\%$ (resp $35\\%$) is obtained by choosing $\\mathbf {spreadSeeds}=0$ (resp. $\\mathbf {spreadSeeds}=1$) instead of the default.\n",
    "--->\n",
    "\n",
    "A typical value, in two dimensions, is seedRadius $=1.5$."
   ]
  },
  {
   "cell_type": "code",
   "execution_count": 12,
   "metadata": {},
   "outputs": [],
   "source": [
    "hfmIn['seedRadius'] = 1.5"
   ]
  },
  {
   "cell_type": "code",
   "execution_count": 13,
   "metadata": {},
   "outputs": [
    {
     "name": "stdout",
     "output_type": "stream",
     "text": [
      "Field verbosity defaults to 1\n",
      "Field order defaults to 1\n",
      "Field showProgress defaults to 0\n",
      "Field factoringMethod defaults to None\n",
      "Fast marching solver completed in 0.002638 s.\n",
      "Field geodesicSolver defaults to Discrete\n",
      "Field geodesicStep defaults to 0.25\n",
      "Field geodesicWeightThreshold defaults to 0.001\n",
      "Field geodesicVolumeBound defaults to 8.45\n",
      "Field exportActiveNeighs defaults to 0\n",
      "Field exportGeodesicFlow defaults to 0\n",
      "Field exportActiveOffsets defaults to 0\n"
     ]
    }
   ],
   "source": [
    "hfmOut = HFMUtils.Run(hfmIn)"
   ]
  },
  {
   "cell_type": "code",
   "execution_count": 14,
   "metadata": {},
   "outputs": [
    {
     "name": "stdout",
     "output_type": "stream",
     "text": [
      "Max error :  0.01024015982151194\n",
      "Average error :  0.005398508223713217\n",
      "spreadedSeeds [[ 0.00505051  1.50505051]\n",
      " [-0.00505051  1.49494949]\n",
      " [-0.00505051  1.50505051]\n",
      " [ 0.00505051  1.49494949]]\n"
     ]
    }
   ],
   "source": [
    "print(\"Max error : \",LInfNorm(ExactSolution - hfmOut['values']) )\n",
    "print(\"Average error : \", L1Norm(ExactSolution - hfmOut['values']) )\n",
    "\n",
    "# The four grid points enclosing the provided seed are used\n",
    "print(\"spreadedSeeds\", hfmOut['spreadedSeeds'])"
   ]
  },
  {
   "cell_type": "code",
   "execution_count": 15,
   "metadata": {},
   "outputs": [],
   "source": [
    "hfmIn['seedRadius'] = -1.5"
   ]
  },
  {
   "cell_type": "code",
   "execution_count": 16,
   "metadata": {},
   "outputs": [
    {
     "name": "stdout",
     "output_type": "stream",
     "text": [
      "Field verbosity defaults to 1\n",
      "Field order defaults to 1\n",
      "Field showProgress defaults to 0\n",
      "Field factoringMethod defaults to None\n",
      "Fast marching solver completed in 0.002464 s.\n",
      "Field geodesicSolver defaults to Discrete\n",
      "Field geodesicStep defaults to 0.25\n",
      "Field geodesicWeightThreshold defaults to 0.001\n",
      "Field geodesicVolumeBound defaults to 8.45\n",
      "Field exportActiveNeighs defaults to 0\n",
      "Field exportGeodesicFlow defaults to 0\n",
      "Field exportActiveOffsets defaults to 0\n"
     ]
    }
   ],
   "source": [
    "hfmOut = HFMUtils.Run(hfmIn)"
   ]
  },
  {
   "cell_type": "code",
   "execution_count": 17,
   "metadata": {},
   "outputs": [
    {
     "name": "stdout",
     "output_type": "stream",
     "text": [
      "Max error :  0.009375865003666828\n",
      "Average error :  0.004553988978738238\n",
      "spreadedSeeds :  [[ 0.00505051  1.50505051]\n",
      " [-0.00505051  1.49494949]\n",
      " [-0.00505051  1.50505051]\n",
      " [ 0.00505051  1.49494949]\n",
      " [-0.01515152  1.49494949]\n",
      " [-0.00505051  1.48484848]\n",
      " [-0.01515152  1.50505051]\n",
      " [-0.00505051  1.51515152]\n",
      " [ 0.00505051  1.48484848]\n",
      " [ 0.01515152  1.49494949]\n",
      " [ 0.00505051  1.51515152]\n",
      " [ 0.01515152  1.50505051]]\n",
      "spreadedSeedValues :  [0.00475367 0.00476971 0.00475367 0.00476971 0.01066539 0.01070172\n",
      " 0.01062953 0.01059416 0.01070172 0.01066539 0.01059416 0.01062953]\n"
     ]
    }
   ],
   "source": [
    "print(\"Max error : \",LInfNorm(ExactSolution - hfmOut['values']) )\n",
    "print(\"Average error : \", L1Norm(ExactSolution - hfmOut['values']) )\n",
    "\n",
    "# Twelve grid points are used, around the provided seed\n",
    "print(\"spreadedSeeds : \", hfmOut['spreadedSeeds'])\n",
    "print(\"spreadedSeedValues : \", hfmOut['spreadedSeedValues'])"
   ]
  },
  {
   "cell_type": "code",
   "execution_count": 18,
   "metadata": {},
   "outputs": [
    {
     "data": {
      "image/png": "[encoded data removed]",
      "text/plain": [
       "<Figure size 432x288 with 1 Axes>"
      ]
     },
     "metadata": {
      "needs_background": "light"
     },
     "output_type": "display_data"
    }
   ],
   "source": [
    "plt.axis('equal')\n",
    "plt.scatter(hfmOut['spreadedSeeds'][:,0],hfmOut['spreadedSeeds'][:,1]);"
   ]
  },
  {
   "cell_type": "code",
   "execution_count": 19,
   "metadata": {},
   "outputs": [
    {
     "data": {
      "image/png": "[encoded data removed]",
      "text/plain": [
       "<Figure size 432x288 with 1 Axes>"
      ]
     },
     "metadata": {
      "needs_background": "light"
     },
     "output_type": "display_data"
    }
   ],
   "source": [
    "plt.contourf(X,Y,ExactSolution - hfmOut['values']);"
   ]
  },
  {
   "cell_type": "markdown",
   "metadata": {},
   "source": [
    "### 1.2 (Static) Equation factoring\n",
    "\n",
    "A substantial part of the numerical error of fast marching solvers is due to the singularity of the solution at the point source, which makes the finite differences inaccurate. In order to correct for this error, static factoring methods substract an analytical expression of the singularity from the numerical solution in the process of evaluating finite differences.\n",
    "\n",
    "The parameters enabling this modification of the numerical scheme are the following:\n",
    "* **factoringMethod** ('Static', 'None') Use 'Static' factoring to account for point source singularities. Default is 'None'.\n",
    "* **factoringRadius** (in pixels, default is 20) Size of the region, around the seeds, where to use equation factoring. Factoring is often not performed in the entire domain, since it has a numerical cost, and it looses relevance once analytic expression isn't anymore a good approximation of the solution.\n",
    "* **factoringPointChoice** ('Key', 'Current', 'Both'). Dictates the analytic expression of the solution used in equation factoring. \n",
    "    - 'Key' (Default) has the cheapest numerical cost, and yields the approximant\n",
    "    $$\n",
    "        %u(q) \\approx \n",
    "        u(p_*) + F_{p_*}(q-p).\n",
    "    $$\n",
    "    - 'Current' yields the approximant \n",
    "    $$\n",
    "        %u(q) \\approx \n",
    "        u(p_*) + F_q (q-p).\n",
    "    $$\n",
    "    This is not an advised option, since it is slightly more expensive than 'Key' and not more accurate.\n",
    "    - 'Both' yields the average of the previous two approximants. This option (one order) more accurate than the previous two. However, the difference is only visible when combined with high order schemes."
   ]
  },
  {
   "cell_type": "code",
   "execution_count": 20,
   "metadata": {},
   "outputs": [],
   "source": [
    "hfmIn.update({\n",
    "    'factoringMethod':'Static',\n",
    "    'factoringRadius':dimx*0.2, \n",
    "    'factoringPointChoice':'Key'\n",
    "})"
   ]
  },
  {
   "cell_type": "code",
   "execution_count": 21,
   "metadata": {},
   "outputs": [
    {
     "name": "stdout",
     "output_type": "stream",
     "text": [
      "Field verbosity defaults to 1\n",
      "Field order defaults to 1\n",
      "Field showProgress defaults to 0\n",
      "Fast marching solver completed in 0.002586 s.\n",
      "Field geodesicSolver defaults to Discrete\n",
      "Field geodesicStep defaults to 0.25\n",
      "Field geodesicWeightThreshold defaults to 0.001\n",
      "Field geodesicVolumeBound defaults to 8.45\n",
      "Field exportActiveNeighs defaults to 0\n",
      "Field exportGeodesicFlow defaults to 0\n",
      "Field exportActiveOffsets defaults to 0\n"
     ]
    }
   ],
   "source": [
    "hfmOut = HFMUtils.Run(hfmIn)"
   ]
  },
  {
   "cell_type": "code",
   "execution_count": 22,
   "metadata": {},
   "outputs": [
    {
     "name": "stdout",
     "output_type": "stream",
     "text": [
      "Max error :  0.004821634631043348\n",
      "Average error :  0.0013539338011886912\n"
     ]
    }
   ],
   "source": [
    "print(\"Max error : \",LInfNorm(ExactSolution - hfmOut['values']) )\n",
    "print(\"Average error : \", L1Norm(ExactSolution - hfmOut['values']) )"
   ]
  },
  {
   "cell_type": "markdown",
   "metadata": {},
   "source": [
    "Numerical error is considerably reduced in the factoring region, around the seed. The singularity is not anymore a source of error.\n",
    "However, without a higher order scheme the overal error is not (much) reduced, since it is dominated by the regions far from the origin."
   ]
  },
  {
   "cell_type": "code",
   "execution_count": 23,
   "metadata": {},
   "outputs": [
    {
     "data": {
      "image/png": "[encoded data removed]",
      "text/plain": [
       "<Figure size 432x288 with 1 Axes>"
      ]
     },
     "metadata": {
      "needs_background": "light"
     },
     "output_type": "display_data"
    }
   ],
   "source": [
    "plt.axis('equal')\n",
    "plt.contourf(hfmOut['values']-ExactSolution);"
   ]
  },
  {
   "cell_type": "markdown",
   "metadata": {},
   "source": [
    "### 1.3 Second order scheme\n",
    "\n",
    "The second order scheme is intended to reduce numerical error far from the solution singularity. It is complementary to the factorisation, discussed in the previous paragraph, which is devoted to the neighborhood of the source."
   ]
  },
  {
   "cell_type": "code",
   "execution_count": 24,
   "metadata": {},
   "outputs": [],
   "source": [
    "hfmIn['order']=2"
   ]
  },
  {
   "cell_type": "code",
   "execution_count": 25,
   "metadata": {},
   "outputs": [
    {
     "name": "stdout",
     "output_type": "stream",
     "text": [
      "Field verbosity defaults to 1\n",
      "Field showProgress defaults to 0\n",
      "Fast marching solver completed in 0.003285 s.\n",
      "Field geodesicSolver defaults to Discrete\n",
      "Field geodesicStep defaults to 0.25\n",
      "Field geodesicWeightThreshold defaults to 0.001\n",
      "Field geodesicVolumeBound defaults to 8.45\n",
      "Field exportActiveNeighs defaults to 0\n",
      "Field exportGeodesicFlow defaults to 0\n",
      "Field exportActiveOffsets defaults to 0\n"
     ]
    }
   ],
   "source": [
    "hfmOut = HFMUtils.Run(hfmIn)"
   ]
  },
  {
   "cell_type": "markdown",
   "metadata": {},
   "source": [
    "The overall numerical error is strongly reduced, by a factor 20 to 40 in this instance, in respectively $L^\\infty$ or $L^1$ norm."
   ]
  },
  {
   "cell_type": "code",
   "execution_count": 26,
   "metadata": {},
   "outputs": [
    {
     "name": "stdout",
     "output_type": "stream",
     "text": [
      "Max error :  0.00031159216527232303\n",
      "Average error :  8.846668969392208e-05\n"
     ]
    }
   ],
   "source": [
    "print(\"Max error : \",LInfNorm(ExactSolution - hfmOut['values']) )\n",
    "print(\"Average error : \", L1Norm(ExactSolution - hfmOut['values']) )"
   ]
  },
  {
   "cell_type": "markdown",
   "metadata": {},
   "source": [
    "The second order scheme is much less efficient when it is not combined with equation factoring. "
   ]
  },
  {
   "cell_type": "code",
   "execution_count": 27,
   "metadata": {},
   "outputs": [],
   "source": [
    "hfmIn['factoringMethod']='None'"
   ]
  },
  {
   "cell_type": "code",
   "execution_count": 28,
   "metadata": {},
   "outputs": [
    {
     "name": "stdout",
     "output_type": "stream",
     "text": [
      "Field verbosity defaults to 1\n",
      "Field showProgress defaults to 0\n",
      "Fast marching solver completed in 0.003524 s.\n",
      "Field geodesicSolver defaults to Discrete\n",
      "Field geodesicStep defaults to 0.25\n",
      "Field geodesicWeightThreshold defaults to 0.001\n",
      "Field geodesicVolumeBound defaults to 8.45\n",
      "Field exportActiveNeighs defaults to 0\n",
      "Field exportGeodesicFlow defaults to 0\n",
      "Field exportActiveOffsets defaults to 0\n",
      "***** Warning ! *****\n",
      "Unused fields from user: factoringPointChoice factoringRadius \n",
      "********************\n"
     ]
    }
   ],
   "source": [
    "hfmOut = HFMUtils.Run(hfmIn)"
   ]
  },
  {
   "cell_type": "code",
   "execution_count": 29,
   "metadata": {},
   "outputs": [
    {
     "name": "stdout",
     "output_type": "stream",
     "text": [
      "Max error :  0.0022531467146763573\n",
      "Average error :  0.0009527399338253569\n"
     ]
    }
   ],
   "source": [
    "print(\"Max error : \",LInfNorm(ExactSolution - hfmOut['values']) )\n",
    "print(\"Average error : \", L1Norm(ExactSolution - hfmOut['values']) )"
   ]
  },
  {
   "cell_type": "code",
   "execution_count": 30,
   "metadata": {},
   "outputs": [],
   "source": [
    "hfmIn['factoringMethod']='Static'"
   ]
  },
  {
   "cell_type": "markdown",
   "metadata": {},
   "source": [
    "### 1.4 Third order scheme, and semi-Lagrangian numerical methods\n",
    "\n",
    "The second order scheme is expected, combined with point source factorisation, is expected to be accurate enough for most applications. However, as an experimental feature, a third order scheme is implemented as well.\n",
    "\n",
    "**Strict causality** According to our numerical experiments, third order accuracy is however only achieved with a *strictly causal* scheme. This is an issue, since the Eulerian implementation of the eikonal equation is only *weakly causal*.\n",
    "\n",
    "\n",
    "**Semi-Lagrangian schemes** \n",
    "These schemes are based on a discretization of Bellman's optimality principle, and by an adequate choice of discretization stencil, do obey a strict causality property. \n",
    "We emulate an isotropic metric as a special case of a Rander metric, which is implemented using a strictly causal semi-Lagrangian scheme in the HFM-Library. See the relevant notebook [A III, Rander metrics](http://nbviewer.jupyter.org/urls/rawgithub.com/Mirebeau/HFM_Python_Notebooks/master/A6_Rande.ipynb) for details on this model.\n",
    "\n",
    "\n",
    "**Accuracy of semi-Lagrangian schemes, second order**\n",
    "Already with the second order scheme, the better angular resolution of the semi-Lagrangian scheme yields a substantial error reduction. Numerical error is cut by a factor 4 or 2, in the $L^\\infty$ or $L^1$ norm respectively. Note however than the semi-Lagrangian scheme is more costly numerically."
   ]
  },
  {
   "cell_type": "code",
   "execution_count": 31,
   "metadata": {},
   "outputs": [
    {
     "data": {
      "text/plain": [
       "array([[1.        , 0.99      , 0.98019802, ..., 0.50510204, 0.50253807,\n",
       "        0.5       ],\n",
       "       [1.        , 0.99      , 0.98019802, ..., 0.50510204, 0.50253807,\n",
       "        0.5       ],\n",
       "       [1.        , 0.99      , 0.98019802, ..., 0.50510204, 0.50253807,\n",
       "        0.5       ],\n",
       "       ...,\n",
       "       [1.        , 0.99      , 0.98019802, ..., 0.50510204, 0.50253807,\n",
       "        0.5       ],\n",
       "       [1.        , 0.99      , 0.98019802, ..., 0.50510204, 0.50253807,\n",
       "        0.5       ],\n",
       "       [1.        , 0.99      , 0.98019802, ..., 0.50510204, 0.50253807,\n",
       "        0.5       ]])"
      ]
     },
     "execution_count": 31,
     "metadata": {},
     "output_type": "execute_result"
    }
   ],
   "source": [
    "Zero = np.zeros(X.shape)\n",
    "hfmIn.update({\n",
    "    'model':'Rander2',\n",
    "    'metric':np.stack([1/Y**2,Zero,1/Y**2, # Tensor\n",
    "                      Zero,Zero],2) # Vector\n",
    "})\n",
    "hfmIn.pop('cost',None)"
   ]
  },
  {
   "cell_type": "code",
   "execution_count": 32,
   "metadata": {},
   "outputs": [
    {
     "name": "stdout",
     "output_type": "stream",
     "text": [
      "Field verbosity defaults to 1\n",
      "Field cosAngleMin defaults to 0.5\n",
      "Field refineStencilAtWallBoundary defaults to 0\n",
      "Field showProgress defaults to 0\n",
      "Fast marching solver completed in 0.010656 s.\n",
      "Field geodesicSolver defaults to Discrete\n",
      "Field geodesicStep defaults to 0.25\n",
      "Field geodesicWeightThreshold defaults to 0.001\n",
      "Field geodesicVolumeBound defaults to 8.45\n",
      "Field exportActiveNeighs defaults to 0\n",
      "Field exportGeodesicFlow defaults to 0\n",
      "Field exportActiveOffsets defaults to 0\n"
     ]
    }
   ],
   "source": [
    "hfmOut = HFMUtils.Run(hfmIn)"
   ]
  },
  {
   "cell_type": "code",
   "execution_count": 33,
   "metadata": {},
   "outputs": [
    {
     "name": "stdout",
     "output_type": "stream",
     "text": [
      "Max error :  9.995008785140813e-05\n",
      "Average error :  2.7217201595932382e-05\n"
     ]
    }
   ],
   "source": [
    "print(\"Max error : \",LInfNorm(ExactSolution - hfmOut['values']) )\n",
    "print(\"Average error : \", L1Norm(ExactSolution - hfmOut['values']) )"
   ]
  },
  {
   "cell_type": "markdown",
   "metadata": {},
   "source": [
    "A further error reduction is achieved by selecting the more accurate analytic factorisation. Error is cut by a factor 2 approximately."
   ]
  },
  {
   "cell_type": "code",
   "execution_count": 34,
   "metadata": {},
   "outputs": [],
   "source": [
    "hfmIn['factoringPointChoice']='Both'"
   ]
  },
  {
   "cell_type": "code",
   "execution_count": 35,
   "metadata": {},
   "outputs": [
    {
     "name": "stdout",
     "output_type": "stream",
     "text": [
      "Field verbosity defaults to 1\n",
      "Field cosAngleMin defaults to 0.5\n",
      "Field refineStencilAtWallBoundary defaults to 0\n",
      "Field showProgress defaults to 0\n",
      "Fast marching solver completed in 0.01082 s.\n",
      "Field geodesicSolver defaults to Discrete\n",
      "Field geodesicStep defaults to 0.25\n",
      "Field geodesicWeightThreshold defaults to 0.001\n",
      "Field geodesicVolumeBound defaults to 8.45\n",
      "Field exportActiveNeighs defaults to 0\n",
      "Field exportGeodesicFlow defaults to 0\n",
      "Field exportActiveOffsets defaults to 0\n"
     ]
    }
   ],
   "source": [
    "hfmOut = HFMUtils.Run(hfmIn)"
   ]
  },
  {
   "cell_type": "code",
   "execution_count": 36,
   "metadata": {},
   "outputs": [
    {
     "name": "stdout",
     "output_type": "stream",
     "text": [
      "Max error :  6.682988357259445e-05\n",
      "Average error :  2.1174393272868224e-05\n"
     ]
    }
   ],
   "source": [
    "print(\"Max error : \",LInfNorm(ExactSolution - hfmOut['values']) )\n",
    "print(\"Average error : \", L1Norm(ExactSolution - hfmOut['values']) )"
   ]
  },
  {
   "cell_type": "markdown",
   "metadata": {},
   "source": [
    "Finally, the smallest error is obtained with the third order scheme. Error is cut by a additional factor 7 approximately."
   ]
  },
  {
   "cell_type": "code",
   "execution_count": 37,
   "metadata": {},
   "outputs": [],
   "source": [
    "hfmIn['order']=3"
   ]
  },
  {
   "cell_type": "code",
   "execution_count": 38,
   "metadata": {},
   "outputs": [
    {
     "name": "stdout",
     "output_type": "stream",
     "text": [
      "Field verbosity defaults to 1\n",
      "Field cosAngleMin defaults to 0.5\n",
      "Field refineStencilAtWallBoundary defaults to 0\n",
      "Field showProgress defaults to 0\n",
      "Fast marching solver completed in 0.011342 s.\n",
      "Field geodesicSolver defaults to Discrete\n",
      "Field geodesicStep defaults to 0.25\n",
      "Field geodesicWeightThreshold defaults to 0.001\n",
      "Field geodesicVolumeBound defaults to 8.45\n",
      "Field exportActiveNeighs defaults to 0\n",
      "Field exportGeodesicFlow defaults to 0\n",
      "Field exportActiveOffsets defaults to 0\n"
     ]
    }
   ],
   "source": [
    "hfmOut = HFMUtils.Run(hfmIn)"
   ]
  },
  {
   "cell_type": "code",
   "execution_count": 39,
   "metadata": {},
   "outputs": [
    {
     "name": "stdout",
     "output_type": "stream",
     "text": [
      "Max error :  1.060822268889039e-05\n",
      "Average error :  3.54673770152437e-06\n"
     ]
    }
   ],
   "source": [
    "print(\"Max error : \",LInfNorm(ExactSolution - hfmOut['values']) )\n",
    "print(\"Average error : \", L1Norm(ExactSolution - hfmOut['values']) )"
   ]
  },
  {
   "cell_type": "markdown",
   "metadata": {},
   "source": [
    "Overall, in favorable cases, numerical error can be reduced by three orders of magnitude with the adequate  enhancements to the scheme."
   ]
  },
  {
   "cell_type": "code",
   "execution_count": 40,
   "metadata": {},
   "outputs": [
    {
     "name": "stdout",
     "output_type": "stream",
     "text": [
      "LInf ratio :  1427.9803376604182\n",
      "L1 ratio :  1693.768096987516\n"
     ]
    }
   ],
   "source": [
    "print(\"LInf ratio : \", 0.014974751023088206/1.0486664716702343e-05)\n",
    "print(\"L1 ratio : \", 0.0055575705831370096/3.2811874264378546e-06)\n"
   ]
  },
  {
   "cell_type": "markdown",
   "metadata": {},
   "source": [
    "## 2. A Riemannian metric\n",
    "\n",
    "In this section, we demonstrate high order accuracy for Riemannian anisotropic fast marching. For that purpose we introduce a synthetic Riemannian metric which is the image by a diffeomorphism of an usual norm, so that an exact expression of the distance map is known. \n",
    "\n",
    "More precisely, consider the diffeomorphism defined at each point $p = (x,y)$ by \n",
    "$$\n",
    "    f(x,y) := (x,y+ \\sin(\\pi x) /2)\n",
    "$$\n",
    "and the matrix $M$ of diagonal entries $(0.5^2,1)$. We let \n",
    "$$\n",
    "    \\mathcal M(p) := (Jf(p))^T \\cdot M \\cdot Jf(p),\n",
    "$$\n",
    "where $Jf(p)$ is the Jacobian matrix of $f$ at $p$. The distance between $p,q$ is thus \n",
    "$$\n",
    "    d_{\\mathcal M}(p,q) = \\|f(p) - f(q)\\|_M.\n",
    "$$\n"
   ]
  },
  {
   "cell_type": "code",
   "execution_count": 41,
   "metadata": {},
   "outputs": [],
   "source": [
    "def diff(x,y):\n",
    "    return np.array([x,y+0.5*np.sin(np.pi*x)])\n",
    "def JacDiff(x,y):\n",
    "    zero = 0.*x\n",
    "    return np.array([[1.+zero,zero],[0.5*np.pi*np.cos(np.pi*x),1.+zero]])\n",
    "\n",
    "diagCoef = (0.5**2,1) #Diagonal coefficients\n",
    "def RiemannMetric(x,y):\n",
    "    J = JacDiff(x,y)\n",
    "    a,b=diagCoef\n",
    "    return np.array([[a*J[0,0]**2+b*J[1,0]**2, a*J[0,0]*J[0,1]+b*J[1,0]*J[1,1]],\n",
    "                    [a*J[0,0]*J[0,1]+b*J[1,0]*J[1,1],a*J[0,1]**2+b*J[1,1]**2]])"
   ]
  },
  {
   "cell_type": "markdown",
   "metadata": {},
   "source": [
    "The metric is rather strongly anisotropic, with ratio of larger than $7$ of the fastest to the smallest speed, at a given point, depending on the direction."
   ]
  },
  {
   "cell_type": "code",
   "execution_count": 42,
   "metadata": {},
   "outputs": [
    {
     "data": {
      "text/plain": [
       "7.297774117194749"
      ]
     },
     "execution_count": 42,
     "metadata": {},
     "output_type": "execute_result"
    }
   ],
   "source": [
    "np.sqrt(np.linalg.cond(RiemannMetric(0,0)))"
   ]
  },
  {
   "cell_type": "code",
   "execution_count": 43,
   "metadata": {},
   "outputs": [],
   "source": [
    "dimx=200\n",
    "hfmIn = HFMUtils.Rect(sides=[[-1,1],[-0.5,0.5]],dimx=dimx)\n",
    "hfmIn.update({\n",
    "    'model':'Riemann2',\n",
    "    'seeds':np.array([[0.,0.]]),\n",
    "    'exportValues':1.,\n",
    "    'arrayOrdering':'RowMajor',\n",
    "    'tips':[[x,y] for x in HFMUtils.CenteredLinspace(-1,1,6) \n",
    "            for y in HFMUtils.CenteredLinspace(-0.5,0.5,6)],\n",
    "    'geodesicSolver':'Discrete'\n",
    "})\n",
    "\n",
    "X,Y = HFMUtils.GetGrid(hfmIn)"
   ]
  },
  {
   "cell_type": "code",
   "execution_count": 44,
   "metadata": {},
   "outputs": [],
   "source": [
    "metric = RiemannMetric(X,Y)\n",
    "hfmIn['metric'] = Metrics.Riemann(metric).to_HFM() "
   ]
  },
  {
   "cell_type": "code",
   "execution_count": 45,
   "metadata": {},
   "outputs": [
    {
     "name": "stdout",
     "output_type": "stream",
     "text": [
      "Field verbosity defaults to 1\n",
      "Field order defaults to 1\n",
      "Field seedRadius defaults to 0\n",
      "Field showProgress defaults to 0\n",
      "Field factoringMethod defaults to None\n",
      "Fast marching solver completed in 0.010435 s.\n",
      "Field geodesicStep defaults to 0.25\n",
      "Field geodesicWeightThreshold defaults to 0.001\n",
      "Field geodesicVolumeBound defaults to 8.45\n",
      "Field exportActiveNeighs defaults to 0\n",
      "Field exportGeodesicFlow defaults to 0\n",
      "Field exportActiveOffsets defaults to 0\n"
     ]
    }
   ],
   "source": [
    "hfmOut = HFMUtils.Run(hfmIn)"
   ]
  },
  {
   "cell_type": "code",
   "execution_count": 46,
   "metadata": {},
   "outputs": [
    {
     "data": {
      "image/png": "[encoded data removed]",
      "text/plain": [
       "<Figure size 432x288 with 1 Axes>"
      ]
     },
     "metadata": {
      "needs_background": "light"
     },
     "output_type": "display_data"
    }
   ],
   "source": [
    "plt.title('Distance map, Synthetic Riemannian example'); plt.axis('equal')\n",
    "plt.contourf(X,Y,hfmOut['values']);"
   ]
  },
  {
   "cell_type": "code",
   "execution_count": 47,
   "metadata": {},
   "outputs": [
    {
     "data": {
      "image/png": "[encoded data removed]",
      "text/plain": [
       "<Figure size 288x288 with 1 Axes>"
      ]
     },
     "metadata": {
      "needs_background": "light"
     },
     "output_type": "display_data"
    }
   ],
   "source": [
    "fig = plt.figure(figsize=[4,4]); plt.title('Minimal geodesics, Synthetic Riemannian example'); plt.axis('equal'); \n",
    "for geo in HFMUtils.GetGeodesics(hfmOut):  plt.plot(geo[:,0],geo[:,1]) "
   ]
  },
  {
   "cell_type": "markdown",
   "metadata": {},
   "source": [
    "The exact solution is, by design, explicit."
   ]
  },
  {
   "cell_type": "code",
   "execution_count": 48,
   "metadata": {},
   "outputs": [],
   "source": [
    "Xf,Yf = diff(X,Y)\n",
    "a,b=diagCoef\n",
    "ExactSolution = np.sqrt(a*Xf**2+b*Yf**2)"
   ]
  },
  {
   "cell_type": "markdown",
   "metadata": {},
   "source": [
    "There are some shadow zones in the domain : the geodesics reaching these points, according to the exact model, should have gone outside the rectangle. Clearly, the numerical solution cannot agree with the exact solution on these points, which are thus removed from the error computation."
   ]
  },
  {
   "cell_type": "code",
   "execution_count": 49,
   "metadata": {},
   "outputs": [
    {
     "data": {
      "image/png": "[encoded data removed]",
      "text/plain": [
       "<Figure size 432x288 with 1 Axes>"
      ]
     },
     "metadata": {
      "needs_background": "light"
     },
     "output_type": "display_data"
    }
   ],
   "source": [
    "shadow = np.abs(X-Y)>=1\n",
    "plt.axis('equal')\n",
    "plt.contourf(X,Y,shadow);"
   ]
  },
  {
   "cell_type": "code",
   "execution_count": 50,
   "metadata": {},
   "outputs": [
    {
     "name": "stdout",
     "output_type": "stream",
     "text": [
      "Max error :  0.02908883254421535\n",
      "Average error :  0.009789067979843967\n"
     ]
    }
   ],
   "source": [
    "error = ExactSolution - hfmOut['values']; error[shadow]=0.\n",
    "print(\"Max error : \",LInfNorm(error) )\n",
    "print(\"Average error : \", L1Norm(error) )"
   ]
  },
  {
   "cell_type": "markdown",
   "metadata": {},
   "source": [
    "### 2.1 Trying the various numerical scheme enhancements\n",
    "\n",
    "Spreading the seed information on the four adjacent pixels already cuts the error in half."
   ]
  },
  {
   "cell_type": "code",
   "execution_count": 51,
   "metadata": {},
   "outputs": [
    {
     "name": "stdout",
     "output_type": "stream",
     "text": [
      "Field verbosity defaults to 1\n",
      "Field order defaults to 1\n",
      "Field showProgress defaults to 0\n",
      "Field factoringMethod defaults to None\n",
      "Fast marching solver completed in 0.009091 s.\n",
      "Field geodesicStep defaults to 0.25\n",
      "Field geodesicWeightThreshold defaults to 0.001\n",
      "Field geodesicVolumeBound defaults to 8.45\n",
      "Field exportActiveNeighs defaults to 0\n",
      "Field exportGeodesicFlow defaults to 0\n",
      "Field exportActiveOffsets defaults to 0\n",
      "Max error :  0.01687222010081446\n",
      "Average error :  0.005061895743398188\n"
     ]
    }
   ],
   "source": [
    "hfmIn['seedRadius']=1.5\n",
    "\n",
    "hfmOut = HFMUtils.Run(hfmIn)\n",
    "error = ExactSolution - hfmOut['values']; error[shadow]=0.\n",
    "print(\"Max error : \",LInfNorm(error) )\n",
    "print(\"Average error : \", L1Norm(error) )"
   ]
  },
  {
   "cell_type": "markdown",
   "metadata": {},
   "source": [
    "Curiously, spreading the seed information a little further does not help, at all.\n",
    "Note that the grid points used depend on the discretization stencil, which is here anisotropic.\n",
    "\n",
    "**TODO**: inquire into this."
   ]
  },
  {
   "cell_type": "code",
   "execution_count": 52,
   "metadata": {},
   "outputs": [
    {
     "name": "stdout",
     "output_type": "stream",
     "text": [
      "Field verbosity defaults to 1\n",
      "Field order defaults to 1\n",
      "Field showProgress defaults to 0\n",
      "Field factoringMethod defaults to None\n",
      "Fast marching solver completed in 0.009387 s.\n",
      "Field geodesicStep defaults to 0.25\n",
      "Field geodesicWeightThreshold defaults to 0.001\n",
      "Field geodesicVolumeBound defaults to 8.45\n",
      "Field exportActiveNeighs defaults to 0\n",
      "Field exportGeodesicFlow defaults to 0\n",
      "Field exportActiveOffsets defaults to 0\n",
      "Max error :  0.017551131842353573\n",
      "Average error :  0.004929746282214542\n"
     ]
    }
   ],
   "source": [
    "hfmIn['seedRadius']=-1.5\n",
    "\n",
    "hfmOut = HFMUtils.Run(hfmIn)\n",
    "error = ExactSolution - hfmOut['values']; error[shadow]=0.\n",
    "print(\"Max error : \",LInfNorm(error) )\n",
    "print(\"Average error : \", L1Norm(error) )"
   ]
  },
  {
   "cell_type": "code",
   "execution_count": 53,
   "metadata": {},
   "outputs": [
    {
     "data": {
      "image/png": "[encoded data removed]",
      "text/plain": [
       "<Figure size 432x288 with 1 Axes>"
      ]
     },
     "metadata": {
      "needs_background": "light"
     },
     "output_type": "display_data"
    }
   ],
   "source": [
    "plt.axis('equal')\n",
    "plt.scatter(hfmOut['spreadedSeeds'][:,0],hfmOut['spreadedSeeds'][:,1]);"
   ]
  },
  {
   "cell_type": "markdown",
   "metadata": {},
   "source": [
    "Enabling equation factoring only helps, around the center.\n",
    "Because the metric varies quickly, this technique does seem to add to the error in certain regions."
   ]
  },
  {
   "cell_type": "code",
   "execution_count": 54,
   "metadata": {},
   "outputs": [
    {
     "name": "stdout",
     "output_type": "stream",
     "text": [
      "Field verbosity defaults to 1\n",
      "Field order defaults to 1\n",
      "Field showProgress defaults to 0\n",
      "Field factoringPointChoice defaults to Key\n",
      "Fast marching solver completed in 0.011234 s.\n",
      "Field geodesicStep defaults to 0.25\n",
      "Field geodesicWeightThreshold defaults to 0.001\n",
      "Field geodesicVolumeBound defaults to 8.45\n",
      "Field exportActiveNeighs defaults to 0\n",
      "Field exportGeodesicFlow defaults to 0\n",
      "Field exportActiveOffsets defaults to 0\n",
      "Max error :  0.021531184376443857\n",
      "Average error :  0.006062799287087411\n"
     ]
    }
   ],
   "source": [
    "hfmIn['factoringMethod']='Static'\n",
    "hfmIn['factoringRadius']=30\n",
    "\n",
    "hfmOut = HFMUtils.Run(hfmIn)\n",
    "error = ExactSolution - hfmOut['values']; error[shadow]=0.\n",
    "print(\"Max error : \",LInfNorm(error) )\n",
    "print(\"Average error : \", L1Norm(error) )"
   ]
  },
  {
   "cell_type": "code",
   "execution_count": 55,
   "metadata": {},
   "outputs": [
    {
     "data": {
      "image/png": "[encoded data removed]",
      "text/plain": [
       "<Figure size 432x288 with 1 Axes>"
      ]
     },
     "metadata": {
      "needs_background": "light"
     },
     "output_type": "display_data"
    }
   ],
   "source": [
    "plt.contourf(X,Y,np.abs(error));"
   ]
  },
  {
   "cell_type": "markdown",
   "metadata": {},
   "source": [
    "The second order scheme has a huge impact on accuracy. Errors are cut by a factor 10 to 40, in $L^\\infty$ and $L^1$ respectively."
   ]
  },
  {
   "cell_type": "code",
   "execution_count": 56,
   "metadata": {},
   "outputs": [
    {
     "name": "stdout",
     "output_type": "stream",
     "text": [
      "Field verbosity defaults to 1\n",
      "Field showProgress defaults to 0\n",
      "Field factoringPointChoice defaults to Key\n",
      "Fast marching solver completed in 0.013202 s.\n",
      "Field geodesicStep defaults to 0.25\n",
      "Field geodesicWeightThreshold defaults to 0.001\n",
      "Field geodesicVolumeBound defaults to 8.45\n",
      "Field exportActiveNeighs defaults to 0\n",
      "Field exportGeodesicFlow defaults to 0\n",
      "Field exportActiveOffsets defaults to 0\n",
      "Max error :  0.0016241373922856184\n",
      "Average error :  0.00013173138938703396\n"
     ]
    }
   ],
   "source": [
    "hfmIn['order']=2\n",
    "\n",
    "hfmOut = HFMUtils.Run(hfmIn)\n",
    "error = ExactSolution - hfmOut['values']; error[shadow]=0.\n",
    "print(\"Max error : \",LInfNorm(error) )\n",
    "print(\"Average error : \", L1Norm(error) )"
   ]
  },
  {
   "cell_type": "markdown",
   "metadata": {},
   "source": [
    "The semi-Lagrangian scheme does help, particularly in the max norm."
   ]
  },
  {
   "cell_type": "code",
   "execution_count": 57,
   "metadata": {},
   "outputs": [
    {
     "name": "stdout",
     "output_type": "stream",
     "text": [
      "Field verbosity defaults to 1\n",
      "Field cosAngleMin defaults to 0.5\n",
      "Field refineStencilAtWallBoundary defaults to 0\n",
      "Field showProgress defaults to 0\n",
      "Field factoringPointChoice defaults to Key\n",
      "Fast marching solver completed in 0.024855 s.\n",
      "Field geodesicStep defaults to 0.25\n",
      "Field geodesicWeightThreshold defaults to 0.001\n",
      "Field geodesicVolumeBound defaults to 8.45\n",
      "Field exportActiveNeighs defaults to 0\n",
      "Field exportGeodesicFlow defaults to 0\n",
      "Field exportActiveOffsets defaults to 0\n",
      "Max error :  0.00035854589833778094\n",
      "Average error :  0.00010191575350879494\n"
     ]
    }
   ],
   "source": [
    "hfmIn['model']='Rander2'\n",
    "metric = RiemannMetric(X,Y)\n",
    "hfmIn['metric']=np.stack([metric[0,0],metric[1,0],metric[1,1],0.*X,0.*X],2)\n",
    "\n",
    "hfmOut = HFMUtils.Run(hfmIn)\n",
    "error = ExactSolution - hfmOut['values']; error[shadow]=0.\n",
    "print(\"Max error : \",LInfNorm(error) )\n",
    "print(\"Average error : \", L1Norm(error) )"
   ]
  },
  {
   "cell_type": "markdown",
   "metadata": {},
   "source": [
    "The last two arrows for accuracy enhancement, namely accurate factorisation and the third order scheme, help only a little. The $L^1$ error is cut by a factor two or three, while the $L^\\infty$ error actually increases a bit. This is due, we believe, to the strong anisotropy and the relatively modest resolution used. \n",
    "\n",
    "(Recall that stencils are larger in strongly anisotropic instances, which reduces the effective resolution in comparison with the isotropic test case.)"
   ]
  },
  {
   "cell_type": "code",
   "execution_count": 58,
   "metadata": {},
   "outputs": [
    {
     "name": "stdout",
     "output_type": "stream",
     "text": [
      "Field verbosity defaults to 1\n",
      "Field cosAngleMin defaults to 0.5\n",
      "Field refineStencilAtWallBoundary defaults to 0\n",
      "Field showProgress defaults to 0\n",
      "Fast marching solver completed in 0.030694 s.\n",
      "Field geodesicStep defaults to 0.25\n",
      "Field geodesicWeightThreshold defaults to 0.001\n",
      "Field geodesicVolumeBound defaults to 8.45\n",
      "Field exportActiveNeighs defaults to 0\n",
      "Field exportGeodesicFlow defaults to 0\n",
      "Field exportActiveOffsets defaults to 0\n",
      "Max error :  0.00041360687578151367\n",
      "Average error :  5.8140746251915706e-05\n"
     ]
    }
   ],
   "source": [
    "hfmIn['factoringPointChoice']='Both'\n",
    "\n",
    "hfmOut = HFMUtils.Run(hfmIn)\n",
    "error = ExactSolution - hfmOut['values']; error[shadow]=0.\n",
    "print(\"Max error : \",LInfNorm(error) )\n",
    "print(\"Average error : \", L1Norm(error) )"
   ]
  },
  {
   "cell_type": "code",
   "execution_count": 59,
   "metadata": {},
   "outputs": [
    {
     "name": "stdout",
     "output_type": "stream",
     "text": [
      "Field verbosity defaults to 1\n",
      "Field cosAngleMin defaults to 0.5\n",
      "Field refineStencilAtWallBoundary defaults to 0\n",
      "Field showProgress defaults to 0\n",
      "Fast marching solver completed in 0.03369 s.\n",
      "Field geodesicStep defaults to 0.25\n",
      "Field geodesicWeightThreshold defaults to 0.001\n",
      "Field geodesicVolumeBound defaults to 8.45\n",
      "Field exportActiveNeighs defaults to 0\n",
      "Field exportGeodesicFlow defaults to 0\n",
      "Field exportActiveOffsets defaults to 0\n",
      "Max error :  0.0004429314035048204\n",
      "Average error :  3.9034041276995046e-05\n"
     ]
    }
   ],
   "source": [
    "hfmIn['order']=3\n",
    "\n",
    "hfmOut = HFMUtils.Run(hfmIn)\n",
    "error = ExactSolution - hfmOut['values']; error[shadow]=0.\n",
    "print(\"Max error : \",LInfNorm(error) )\n",
    "print(\"Average error : \", L1Norm(error) )"
   ]
  },
  {
   "cell_type": "code",
   "execution_count": 60,
   "metadata": {},
   "outputs": [
    {
     "name": "stdout",
     "output_type": "stream",
     "text": [
      "LInf ratio :  65.34422741805933\n",
      "L1 ratio :  284.8207243556209\n"
     ]
    }
   ],
   "source": [
    "print(\"LInf ratio : \", 0.02908883254421535/0.0004451630035827159)\n",
    "print(\"L1 ratio : \", 0.009789067979843967/3.436922647391891e-05)"
   ]
  },
  {
   "cell_type": "markdown",
   "metadata": {},
   "source": [
    "## 3. A Rander metric\n",
    "\n",
    "A Rander metric is, we recall, the sum of a Riemannian metric and a linear asymmetric perturbation. \n",
    "$$\n",
    "    F_p(v) := \\sqrt{v \\cdot \\mathcal M(p) \\cdot v} + <\\omega(p), v>.\n",
    "$$\n",
    "The perturbation is subject to a smallness condition: for each point $p$\n",
    "$$\n",
    "    \\omega(p) \\cdot \\mathcal M(p)^{-1} \\cdot \\omega(p) < 1.\n",
    "$$\n",
    "In the special case where $\\omega$ is a gradient field, the Riemannian distance and the Rander distance obey a simple relation:\n",
    "$$\n",
    "    d_F(p,q) = d_{\\mathcal M}(p,q) + v(q)-v(p),\n",
    "$$\n",
    "if $\\omega = \\nabla v$.\n",
    "We rely on this identity to build a synthetic test case with an explicit solution.\n",
    "\n",
    "Let $\\mathcal M\\equiv M$ be constant, and $\\omega = \\gamma \\nabla v$, with\n",
    "$$\n",
    "\\begin{aligned}\n",
    "    M &= \\begin{pmatrix} 1.25 & 0.5 \\\\ 0.5 & 2 \\end{pmatrix}, &\n",
    "    v(x,y) &= \\gamma \\sin(\\pi x) \\sin(\\pi y) / \\pi,\n",
    "\\end{aligned}\n",
    "$$\n",
    "and $\\gamma = 0.8$. Note that the smallness condition requires $|\\gamma|<1$.\n"
   ]
  },
  {
   "cell_type": "code",
   "execution_count": 61,
   "metadata": {},
   "outputs": [],
   "source": [
    "gamma = 0.8\n",
    "def v(x,y):\n",
    "    return gamma*np.sin(np.pi*x)*np.sin(np.pi*y)/np.pi\n",
    "def omega(x,y):\n",
    "    return gamma*np.array([np.cos(np.pi*x)*np.sin(np.pi*y),\n",
    "                          np.sin(np.pi*x)*np.cos(np.pi*y)])\n",
    "M = np.array([[1.25,0.5],[0.5,2.]])"
   ]
  },
  {
   "cell_type": "code",
   "execution_count": 62,
   "metadata": {},
   "outputs": [
    {
     "data": {
      "text/plain": [
       "(array([1.  , 2.25]), array([[-0.89442719, -0.4472136 ],\n",
       "        [ 0.4472136 , -0.89442719]]))"
      ]
     },
     "execution_count": 62,
     "metadata": {},
     "output_type": "execute_result"
    }
   ],
   "source": [
    "np.linalg.eig(M)\n",
    "# The worst anisotropy ratio will be approx 9, \n",
    "# occuring when omega is aligned with the small eigenvector."
   ]
  },
  {
   "cell_type": "code",
   "execution_count": 63,
   "metadata": {},
   "outputs": [],
   "source": [
    "dimx=200\n",
    "hfmIn = HFMUtils.Rect(sides=[[-2,2],[-2,2]],dimx=dimx)\n",
    "hfmIn.update({\n",
    "    'model':'Rander2',\n",
    "    'seeds':np.array([[0.,0.]]),\n",
    "    'exportValues':1.,\n",
    "    'arrayOrdering':'RowMajor',\n",
    "    'tips':[[x,y] for x in HFMUtils.CenteredLinspace(-1,1,6) \n",
    "            for y in HFMUtils.CenteredLinspace(-1,1,6)],\n",
    "})\n",
    "\n",
    "X,Y = HFMUtils.GetGrid(hfmIn)\n",
    "zero = 0.*X\n",
    "omegaX,omegaY = omega(X,Y)\n",
    "hfmIn['metric']=np.stack([M[0,0]+zero, M[1,0]+zero, M[1,1]+zero,\n",
    "                         omegaX, omegaY],2)"
   ]
  },
  {
   "cell_type": "code",
   "execution_count": 64,
   "metadata": {},
   "outputs": [
    {
     "name": "stdout",
     "output_type": "stream",
     "text": [
      "Field verbosity defaults to 1\n",
      "Field cosAngleMin defaults to 0.5\n",
      "Field refineStencilAtWallBoundary defaults to 0\n",
      "Field order defaults to 1\n",
      "Field seedRadius defaults to 0\n",
      "Field showProgress defaults to 0\n",
      "Field factoringMethod defaults to None\n",
      "Fast marching solver completed in 0.055289 s.\n",
      "Field geodesicSolver defaults to Discrete\n",
      "Field geodesicStep defaults to 0.25\n",
      "Field geodesicWeightThreshold defaults to 0.001\n",
      "Field geodesicVolumeBound defaults to 8.45\n",
      "Field exportActiveNeighs defaults to 0\n",
      "Field exportGeodesicFlow defaults to 0\n",
      "Field exportActiveOffsets defaults to 0\n"
     ]
    }
   ],
   "source": [
    "hfmOut = HFMUtils.Run(hfmIn)"
   ]
  },
  {
   "cell_type": "code",
   "execution_count": 65,
   "metadata": {},
   "outputs": [
    {
     "data": {
      "image/png": "[encoded data removed]",
      "text/plain": [
       "<Figure size 432x288 with 1 Axes>"
      ]
     },
     "metadata": {
      "needs_background": "light"
     },
     "output_type": "display_data"
    }
   ],
   "source": [
    "plt.title('Distance map, Synthetic Rander example'); plt.axis('equal')\n",
    "plt.contourf(X,Y,hfmOut['values']);"
   ]
  },
  {
   "cell_type": "code",
   "execution_count": 66,
   "metadata": {},
   "outputs": [
    {
     "data": {
      "image/png": "[encoded data removed]",
      "text/plain": [
       "<Figure size 288x288 with 1 Axes>"
      ]
     },
     "metadata": {
      "needs_background": "light"
     },
     "output_type": "display_data"
    }
   ],
   "source": [
    "fig = plt.figure(figsize=[4,4]); plt.title('Minimal geodesics, Synthetic Rander example'); plt.axis('equal'); \n",
    "for geo in HFMUtils.GetGeodesics(hfmOut):  plt.plot(geo[:,0],geo[:,1]) "
   ]
  },
  {
   "cell_type": "code",
   "execution_count": 67,
   "metadata": {},
   "outputs": [],
   "source": [
    "ExactSolution = np.sqrt(M[0,0]*X**2+2*M[1,0]*X*Y+M[1,1]*Y**2)+v(X,Y)\n",
    "shadow = X>=1.9"
   ]
  },
  {
   "cell_type": "code",
   "execution_count": 68,
   "metadata": {},
   "outputs": [
    {
     "name": "stdout",
     "output_type": "stream",
     "text": [
      "Max error :  0.03476786943726218\n",
      "Average error :  0.015537521580018856\n"
     ]
    }
   ],
   "source": [
    "print(\"Max error : \",LInfNorm(ExactSolution - hfmOut['values']) )\n",
    "print(\"Average error : \", L1Norm(ExactSolution - hfmOut['values']) )"
   ]
  },
  {
   "cell_type": "markdown",
   "metadata": {},
   "source": [
    "**Trying the various enhancements.**\n",
    "The *seedRadius* option has a significant impact, by eliminating a systematic $\\mathcal O(h)$ error due to the seed approximation by a grid point. Factorisation is not much useful alone, since it acts only locally around the seed. However it enables higher order finite differences, which considerably reduce error."
   ]
  },
  {
   "cell_type": "code",
   "execution_count": 69,
   "metadata": {},
   "outputs": [
    {
     "name": "stdout",
     "output_type": "stream",
     "text": [
      "Field verbosity defaults to 1\n",
      "Field cosAngleMin defaults to 0.5\n",
      "Field refineStencilAtWallBoundary defaults to 0\n",
      "Field order defaults to 1\n",
      "Field showProgress defaults to 0\n",
      "Field factoringMethod defaults to None\n",
      "Fast marching solver completed in 0.048507 s.\n",
      "Field geodesicSolver defaults to Discrete\n",
      "Field geodesicStep defaults to 0.25\n",
      "Field geodesicWeightThreshold defaults to 0.001\n",
      "Field geodesicVolumeBound defaults to 8.45\n",
      "Field exportActiveNeighs defaults to 0\n",
      "Field exportGeodesicFlow defaults to 0\n",
      "Field exportActiveOffsets defaults to 0\n",
      "Max error :  0.01862454350767706\n",
      "Average error :  0.006593869473545278\n"
     ]
    }
   ],
   "source": [
    "hfmIn['seedRadius']=1.5\n",
    "\n",
    "hfmOut = HFMUtils.Run(hfmIn)\n",
    "print(\"Max error : \",LInfNorm(ExactSolution - hfmOut['values']) )\n",
    "print(\"Average error : \", L1Norm(ExactSolution - hfmOut['values']) )"
   ]
  },
  {
   "cell_type": "code",
   "execution_count": 70,
   "metadata": {},
   "outputs": [
    {
     "name": "stdout",
     "output_type": "stream",
     "text": [
      "Field verbosity defaults to 1\n",
      "Field cosAngleMin defaults to 0.5\n",
      "Field refineStencilAtWallBoundary defaults to 0\n",
      "Field order defaults to 1\n",
      "Field showProgress defaults to 0\n",
      "Field factoringPointChoice defaults to Key\n",
      "Fast marching solver completed in 0.054077 s.\n",
      "Field geodesicSolver defaults to Discrete\n",
      "Field geodesicStep defaults to 0.25\n",
      "Field geodesicWeightThreshold defaults to 0.001\n",
      "Field geodesicVolumeBound defaults to 8.45\n",
      "Field exportActiveNeighs defaults to 0\n",
      "Field exportGeodesicFlow defaults to 0\n",
      "Field exportActiveOffsets defaults to 0\n",
      "Max error :  0.014465293015032632\n",
      "Average error :  0.005119960502651063\n"
     ]
    }
   ],
   "source": [
    "hfmIn['factoringMethod']='Static'\n",
    "hfmIn['factoringRadius']=20\n",
    "\n",
    "hfmOut = HFMUtils.Run(hfmIn)\n",
    "print(\"Max error : \",LInfNorm(ExactSolution - hfmOut['values']) )\n",
    "print(\"Average error : \", L1Norm(ExactSolution - hfmOut['values']) )"
   ]
  },
  {
   "cell_type": "code",
   "execution_count": 71,
   "metadata": {},
   "outputs": [
    {
     "name": "stdout",
     "output_type": "stream",
     "text": [
      "Field verbosity defaults to 1\n",
      "Field cosAngleMin defaults to 0.5\n",
      "Field refineStencilAtWallBoundary defaults to 0\n",
      "Field showProgress defaults to 0\n",
      "Field factoringPointChoice defaults to Key\n",
      "Fast marching solver completed in 0.058957 s.\n",
      "Field geodesicSolver defaults to Discrete\n",
      "Field geodesicStep defaults to 0.25\n",
      "Field geodesicWeightThreshold defaults to 0.001\n",
      "Field geodesicVolumeBound defaults to 8.45\n",
      "Field exportActiveNeighs defaults to 0\n",
      "Field exportGeodesicFlow defaults to 0\n",
      "Field exportActiveOffsets defaults to 0\n",
      "Max error :  0.007599526776889132\n",
      "Average error :  0.0008802922089513765\n"
     ]
    }
   ],
   "source": [
    "hfmIn['order']=2\n",
    "\n",
    "hfmOut = HFMUtils.Run(hfmIn)\n",
    "print(\"Max error : \",LInfNorm(ExactSolution - hfmOut['values']) )\n",
    "print(\"Average error : \", L1Norm(ExactSolution - hfmOut['values']) )"
   ]
  },
  {
   "cell_type": "code",
   "execution_count": 72,
   "metadata": {},
   "outputs": [
    {
     "name": "stdout",
     "output_type": "stream",
     "text": [
      "Field verbosity defaults to 1\n",
      "Field cosAngleMin defaults to 0.5\n",
      "Field refineStencilAtWallBoundary defaults to 0\n",
      "Field showProgress defaults to 0\n",
      "Fast marching solver completed in 0.060265 s.\n",
      "Field geodesicSolver defaults to Discrete\n",
      "Field geodesicStep defaults to 0.25\n",
      "Field geodesicWeightThreshold defaults to 0.001\n",
      "Field geodesicVolumeBound defaults to 8.45\n",
      "Field exportActiveNeighs defaults to 0\n",
      "Field exportGeodesicFlow defaults to 0\n",
      "Field exportActiveOffsets defaults to 0\n",
      "Max error :  0.0059737361956551105\n",
      "Average error :  0.000528577696979788\n"
     ]
    }
   ],
   "source": [
    "hfmIn['factoringPointChoice']='Both'\n",
    "\n",
    "hfmOut = HFMUtils.Run(hfmIn)\n",
    "print(\"Max error : \",LInfNorm(ExactSolution - hfmOut['values']) )\n",
    "print(\"Average error : \", L1Norm(ExactSolution - hfmOut['values']) )"
   ]
  },
  {
   "cell_type": "code",
   "execution_count": 73,
   "metadata": {},
   "outputs": [
    {
     "name": "stdout",
     "output_type": "stream",
     "text": [
      "Field verbosity defaults to 1\n",
      "Field cosAngleMin defaults to 0.5\n",
      "Field refineStencilAtWallBoundary defaults to 0\n",
      "Field showProgress defaults to 0\n",
      "Fast marching solver completed in 0.059248 s.\n",
      "Field geodesicSolver defaults to Discrete\n",
      "Field geodesicStep defaults to 0.25\n",
      "Field geodesicWeightThreshold defaults to 0.001\n",
      "Field geodesicVolumeBound defaults to 8.45\n",
      "Field exportActiveNeighs defaults to 0\n",
      "Field exportGeodesicFlow defaults to 0\n",
      "Field exportActiveOffsets defaults to 0\n",
      "Max error :  0.005617428005999958\n",
      "Average error :  0.00016056926490763673\n"
     ]
    }
   ],
   "source": [
    "hfmIn['order']=3\n",
    "\n",
    "hfmOut = HFMUtils.Run(hfmIn)\n",
    "print(\"Max error : \",LInfNorm(ExactSolution - hfmOut['values']) )\n",
    "print(\"Average error : \", L1Norm(ExactSolution - hfmOut['values']) )"
   ]
  },
  {
   "cell_type": "code",
   "execution_count": 74,
   "metadata": {},
   "outputs": [
    {
     "name": "stdout",
     "output_type": "stream",
     "text": [
      "LInf ratio :  5.0599873584494794\n",
      "L1 ratio :  98.50713275088283\n"
     ]
    }
   ],
   "source": [
    "print(\"LInf ratio : \", 0.03476786943726218/0.006871137608516875)\n",
    "print(\"L1 ratio : \", 0.015537521580015985/0.00015772991402875582)"
   ]
  },
  {
   "cell_type": "code",
   "execution_count": 75,
   "metadata": {},
   "outputs": [
    {
     "data": {
      "image/png": "[encoded data removed]",
      "text/plain": [
       "<Figure size 432x288 with 1 Axes>"
      ]
     },
     "metadata": {
      "needs_background": "light"
     },
     "output_type": "display_data"
    }
   ],
   "source": [
    "plt.contourf(X,Y,ExactSolution - hfmOut['values']);"
   ]
  },
  {
   "cell_type": "markdown",
   "metadata": {},
   "source": [
    "## 4. Asymmetric quadratic metrics (TODO)\n",
    "\n",
    "Results are somewhat similar to Rander metrics, with one substantial difference however: the solution is twice but not thrice differentiable. As a result, second order accuracy is the best one can hope for, and third order accuracy cannot be achieved."
   ]
  },
  {
   "cell_type": "markdown",
   "metadata": {},
   "source": [
    "## 5. Metric arising from seismology. (TODO)\n",
    "\n",
    "The metrics considered in this section are defined in terms of a hooke tensor, representing the elastic properties of the ambient geological medium. Such models can be rotated and translated. However they are not affine invariant, in contrast with e.g. Riemannian, Rander, or asymmetric quadratic metrics considered above. \n",
    "\n",
    "We use a conformal change of coordinates, namely $z \\mapsto z^2$, to produce an analytic example with a known solution."
   ]
  },
  {
   "cell_type": "code",
   "execution_count": 76,
   "metadata": {},
   "outputs": [],
   "source": [
    "def halfSquare(x,y):\n",
    "    return 0.5*(x**2-y**2),x*y"
   ]
  },
  {
   "cell_type": "code",
   "execution_count": 77,
   "metadata": {},
   "outputs": [],
   "source": [
    "dimx=200\n",
    "hfmIn = HFMUtils.Rect([[1,3],[-1,1]],dimx=dimx)\n",
    "hfmIn.update({\n",
    "    'model':'Seismic2',\n",
    "    'seeds':np.array([[2.,0.]]),\n",
    "    'exportValues':1.,\n",
    "    'arrayOrdering':'RowMajor',\n",
    "    'tips':[[x,y] for x in HFMUtils.CenteredLinspace(1,3,6) \n",
    "            for y in HFMUtils.CenteredLinspace(-1,1,6)],\n",
    "    \n",
    "    'factoringMethod':'Static',\n",
    "    'factoringPoints':[[0.1,0.2],[2.,0.001]],\n",
    "})\n",
    "\n",
    "X,Y = HFMUtils.GetGrid(hfmIn)\n",
    "zero = 0.*X\n",
    "Theta = np.arctan2(Y,X)"
   ]
  },
  {
   "cell_type": "code",
   "execution_count": 78,
   "metadata": {},
   "outputs": [
    {
     "data": {
      "text/plain": [
       "(3, 3, 200, 200)"
      ]
     },
     "execution_count": 78,
     "metadata": {},
     "output_type": "execute_result"
    }
   ],
   "source": [
    "metric = Hooke.mica().extract_xz()\n",
    "metric.rotate_by(Theta)\n",
    "metric.hooke*=(X**2+Y**2)**2\n",
    "metric.hooke.shape"
   ]
  },
  {
   "cell_type": "code",
   "execution_count": 79,
   "metadata": {},
   "outputs": [],
   "source": [
    "hfmIn['metric'] = metric.to_HFM() #np.transpose(HFMUtils.FlattenSymmetricMatrix(hooke),(1,2,0))"
   ]
  },
  {
   "cell_type": "code",
   "execution_count": 80,
   "metadata": {},
   "outputs": [
    {
     "name": "stdout",
     "output_type": "stream",
     "text": [
      "Field verbosity defaults to 1\n",
      "Field cosAngleMin defaults to 0.5\n",
      "Field order defaults to 1\n",
      "Field seedRadius defaults to 1\n",
      "Field showProgress defaults to 0\n",
      "Field factoringPointChoice defaults to Key\n",
      "Field factoringRadius defaults to 10\n",
      "Fast marching solver completed in 0.212567 s.\n",
      "Field geodesicSolver defaults to Discrete\n",
      "Field geodesicStep defaults to 0.25\n",
      "Field geodesicWeightThreshold defaults to 0.001\n",
      "Field geodesicVolumeBound defaults to 8.45\n",
      "Field exportActiveNeighs defaults to 0\n",
      "Field exportGeodesicFlow defaults to 0\n",
      "Field exportActiveOffsets defaults to 0\n"
     ]
    }
   ],
   "source": [
    "hfmOut = HFMUtils.Run(hfmIn)"
   ]
  },
  {
   "cell_type": "code",
   "execution_count": 81,
   "metadata": {},
   "outputs": [
    {
     "data": {
      "text/plain": [
       "array([3.75253679e-02, 3.37398984e-05])"
      ]
     },
     "execution_count": 81,
     "metadata": {},
     "output_type": "execute_result"
    }
   ],
   "source": [
    "hfmOut['factoringValues']"
   ]
  }
 ],
 "metadata": {
  "kernelspec": {
   "display_name": "Python 3",
   "language": "python",
   "name": "python3"
  },
  "language_info": {
   "codemirror_mode": {
    "name": "ipython",
    "version": 3
   },
   "file_extension": ".py",
   "mimetype": "text/x-python",
   "name": "python",
   "nbconvert_exporter": "python",
   "pygments_lexer": "ipython3",
   "version": "3.8.1"
  }
 },
 "nbformat": 4,
 "nbformat_minor": 2
}
