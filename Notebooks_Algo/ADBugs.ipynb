{
 "cells": [
  {
   "cell_type": "markdown",
   "metadata": {},
   "source": [
    "# Adaptive PDE discretizations on cartesian grids \n",
    "## Volume : Algorithmic tools\n",
    "## Part : Automatic differentiation\n",
    "## Chapter : Known bugs and incompatibilities"
   ]
  },
  {
   "cell_type": "markdown",
   "metadata": {},
   "source": [
    "The techniques of automatic differentiation technique play an essential role in the notebooks presented in this repository. \n",
    "Our library is based on subclassing the `numpy.ndarray` class, and is written entirely in Python. This allows for a simple and powerfull implementation, which benefits from the high performance of the numpy module. It does however suffer from a few pitfalls, briefly described below, and illustrated in more detail in the body of the document.\n",
    "\n",
    "**! Caution with the functions `np.sort`, `np.where`, `np.stack`, `np.broadcast_to` !**\n",
    "* Problem : the arguments are silently cast to``np.ndarray`, loosing autodiff information.\n",
    "* Solution : use similarly named replacements from the AutomaticDifferentiation (ad) library, which also apply to `np.ndarray`.\n",
    "\n",
    "**! Caution with numpy scalars and array scalars !**\n",
    "* Problem. In an expression `a+b` where the l.h.s is a *numpy scalar*, and the r.h.s an *array scalar of autodiff type*, the r.h.s is silently cast loosing autodiff information`\n",
    "* Recommended solution : use `a,b = ad.common_cast(a,b)` before `a+b`\n",
    "* Alternative solution : use `b+a`, or `ad.left_operand(a)+b`. "
   ]
  },
  {
   "cell_type": "markdown",
   "metadata": {},
   "source": [
    "[**Summary**](Summary.ipynb) of volume Algorithmic tools, this series of notebooks.\n",
    "\n",
    "[**Main summary**](../Summary.ipynb) of the Adaptive Grid Discretizations \n",
    "\tbook of notebooks, including the other volumes.\n",
    "\n",
    "# Table of contents\n",
    "  * [1. The problem with numpy scalars on the left of array scalars](#1.-The-problem-with-numpy-scalars-on-the-left-of-array-scalars)\n",
    "    * [1.1 Description of the issue](#1.1-Description-of-the-issue)\n",
    "    * [1.2 Alternative solutions](#1.2-Alternative-solutions)\n",
    "    * [1.3 Unexpected occurences](#1.3-Unexpected-occurences)\n",
    "    * [1.4 Matrix multiplication and inversion](#1.4-Matrix-multiplication-and-inversion)\n",
    "  * [2. In place modifications and aliasing](#2.-In-place-modifications-and-aliasing)\n",
    "    * [2.1 Aliasing of the AD information](#2.1-Aliasing-of-the-AD-information)\n",
    "    * [2.2 Non writeable AD information](#2.2-Non-writeable-AD-information)\n",
    "\n",
    "\n",
    "\n",
    "**Acknowledgement.** The experiments presented in these notebooks are part of ongoing research, \n",
    "some of it with PhD student Guillaume Bonnet, in co-direction with Frederic Bonnans.\n",
    "\n",
    "Copyright Jean-Marie Mirebeau, University Paris-Sud, CNRS, University Paris-Saclay"
   ]
  },
  {
   "cell_type": "markdown",
   "metadata": {},
   "source": [
    "## 0. Importing the required libraries"
   ]
  },
  {
   "cell_type": "code",
   "execution_count": 2,
   "metadata": {},
   "outputs": [],
   "source": [
    "import sys; sys.path.insert(0,\"..\") # Allow importing agd from parent directory\n",
    "#from Miscellaneous import TocTools; TocTools.displayTOC('ADBugs','Algo')"
   ]
  },
  {
   "cell_type": "code",
   "execution_count": 3,
   "metadata": {},
   "outputs": [],
   "source": [
    "import numpy as np\n",
    "import scipy.sparse.linalg"
   ]
  },
  {
   "cell_type": "code",
   "execution_count": 4,
   "metadata": {},
   "outputs": [],
   "source": [
    "import agd.AutomaticDifferentiation as ad"
   ]
  },
  {
   "cell_type": "code",
   "execution_count": 5,
   "metadata": {},
   "outputs": [],
   "source": [
    "def reload_packages():\n",
    "    from Miscellaneous.rreload import rreload\n",
    "    global ad\n",
    "    ad, = rreload([ad],rootdir='..',verbose=True)"
   ]
  },
  {
   "cell_type": "markdown",
   "metadata": {},
   "source": [
    "## 1. The problem with numpy scalars on the left of array scalars\n",
    "\n",
    "\n",
    "**TL DR.** When using array scalars (zero dimensional arrays) with AD information, you should cast all variables to a common AD type using the `ad.common_cast` function. Array scalars typically arise because of a reduction operation (e.g. `np.sum()`) or by considering a single coefficient of an AD variable."
   ]
  },
  {
   "cell_type": "code",
   "execution_count": 16,
   "metadata": {},
   "outputs": [
    {
     "name": "stdout",
     "output_type": "stream",
     "text": [
      "Error : AD array scalar silently downcasted to np.float64.\n",
      "6.0 2.0\n"
     ]
    }
   ],
   "source": [
    "a = np.ones((3))\n",
    "b = ad.Dense.identity(constant=np.ones(3))\n",
    "\n",
    "print(f\"Error : AD array scalar silently downcasted to np.float64.\")\n",
    "print(a.sum()+b.sum(),a[0]+b[0])"
   ]
  },
  {
   "cell_type": "markdown",
   "metadata": {},
   "source": [
    "The solution is a one liner : cast all numpy variables to a common type whenever array scalars are or might be involved in the computation."
   ]
  },
  {
   "cell_type": "code",
   "execution_count": 17,
   "metadata": {},
   "outputs": [
    {
     "name": "stdout",
     "output_type": "stream",
     "text": [
      "Fine (with ad.common_cast) : AD array scalar keeps its information.\n",
      "denseAD(6.0,[1. 1. 1.]) denseAD(2.0,[1. 0. 0.])\n"
     ]
    }
   ],
   "source": [
    "a,b = ad.common_cast(a,b)\n",
    "print(f\"Fine (with ad.common_cast) : AD array scalar keeps its information.\")\n",
    "print(a.sum()+b.sum(),a[0]+b[0])"
   ]
  },
  {
   "cell_type": "markdown",
   "metadata": {},
   "source": [
    "The computational overhead should be minimal, because the non-ad variables are merely augmented with a few empty arrays (from one to four depending on the AD type)."
   ]
  },
  {
   "cell_type": "code",
   "execution_count": 18,
   "metadata": {},
   "outputs": [
    {
     "data": {
      "text/plain": [
       "denseAD(array([1., 1., 1.]),array([], shape=(3, 0), dtype=float64))"
      ]
     },
     "execution_count": 18,
     "metadata": {},
     "output_type": "execute_result"
    }
   ],
   "source": [
    "a"
   ]
  },
  {
   "cell_type": "markdown",
   "metadata": {},
   "source": [
    "This solution (and the issue without it), is common to all the AD types."
   ]
  },
  {
   "cell_type": "code",
   "execution_count": 19,
   "metadata": {},
   "outputs": [],
   "source": [
    "for ad_module in [ad.Dense,ad.Dense2,ad.Sparse,ad.Sparse2]:\n",
    "    a = np.ones((3))\n",
    "    b = ad.Dense.identity(constant=np.ones(3))\n",
    "    \n",
    "    # AD array scalar issue without ad.common_cast\n",
    "    assert not ad.is_ad(a.sum()+b.sum()) and not ad.is_ad(a[0]+b[0])\n",
    "    \n",
    "    # AD array scalar fixed with ad.common_cast\n",
    "    a,b = ad.common_cast(a,b)\n",
    "    assert ad.is_ad(a.sum()+b.sum()) and ad.is_ad(a[0]+b[0])"
   ]
  },
  {
   "cell_type": "markdown",
   "metadata": {},
   "source": [
    "### 1.1 Description of the issue\n",
    "\n",
    "**! Caution with numpy scalars and autodiff array scalars !**\n",
    "\n",
    "The type `numpy.float64` often causes trouble due to bad operator priority. Specifically, when it is multiplied (when multiplied with an array of shape `()` and containing automatic differentiation information). We circumvent this issue using the function ad.to_array which casts any value of to a numpy array, in this case to an array containing a single element and of shape $()$ (the empty tuple).\n",
    "\n",
    "**Context** In order to discuss this issue, which occurs in very specific circumstances, we need to introduce a few concepts.\n",
    "* A numpy scalar is a variable of type `numpy.float64`, or possibly some other integer of floating point type defined in the numpy module. Standard python scalars, such as `float` and `int`, are not affected by the issue below.\n",
    "* An array scalar is an array whose shape is the empty tuple `()`. Such arrays contain a single element, and for most purposes behave like a scalar variable.\n",
    "* Operator resolution is the process by which Python selects the appropriate function to compute `a+b` where `a` and `b` are two variables. In practice: \n",
    " * Python first calls `a.__add__(b)`. \n",
    " * The result is returned, except if it is the special value `NotImplemented`.\n",
    " * In that case Python calls `b.__radd__(a)` (note the 'r' which stands for 'right' side operator).\n",
    "\n",
    "**The problem.**\n",
    "If `a` is of type `numpy.float64`, and `b` is a subclass of `np.ndarray`, then `a.__add__(b)` usually returns `NotImplemented`, and is superseded by the adequate `b.__radd__(a)`. The exception to the rule is when is an array scalar. In that case, `b` is cast to the base class `np.ndarray` loosing all AD information, and its (single) value is added to `a`.\n",
    "\n",
    "**Solution.**\n",
    "The idea is to avoid is previous situation, either exchanging the lhs and rhs, or using using `ad.left_operand` which casts numpy scalars into (better behaved) array scalars."
   ]
  },
  {
   "cell_type": "markdown",
   "metadata": {},
   "source": [
    "Let us illustrate the problem in its most basic form, with simple scalars."
   ]
  },
  {
   "cell_type": "code",
   "execution_count": 27,
   "metadata": {},
   "outputs": [
    {
     "name": "stdout",
     "output_type": "stream",
     "text": [
      "a = 1.0 , b = denseAD(1.0,[1.])\n",
      "Error (cast to numpy scalar). a+b = 2.0\n"
     ]
    }
   ],
   "source": [
    "a = np.float64(1.)\n",
    "b = ad.Dense.identity(constant=1.) \n",
    "print(\"a =\",a,\", b =\",b)\n",
    "print(\"Error (cast to numpy scalar). a+b =\",a+b)"
   ]
  },
  {
   "cell_type": "markdown",
   "metadata": {},
   "source": [
    "The following conditions must be reunited for the issue to arise."
   ]
  },
  {
   "cell_type": "code",
   "execution_count": 45,
   "metadata": {},
   "outputs": [],
   "source": [
    "assert (np.isscalar(a) and 'numpy' in str(type(a)) and not ad.is_ad(a)) and (np.ndim(b)==0 and ad.is_ad(b))"
   ]
  },
  {
   "cell_type": "markdown",
   "metadata": {},
   "source": [
    "In particular, numpy *arrays scalars* are better behaved than *numpy scalars* w.r.t. operator priority. Likewise for standard floats, or AD variables."
   ]
  },
  {
   "cell_type": "code",
   "execution_count": 54,
   "metadata": {},
   "outputs": [],
   "source": [
    "assert ad.is_ad(type(b)(a) + b) # -> ad.common_cast\n",
    "assert ad.is_ad(np.array(a) + b) # -> ad.left_operand\n",
    "assert ad.is_ad(float(a) + b)\n",
    "assert ad.is_ad(b+a) # -> interversion of operands"
   ]
  },
  {
   "cell_type": "markdown",
   "metadata": {},
   "source": [
    "The `ad.common_cast` solution given above is based on the first cast, the `ad.left_operand` solution on the second cast, and the interversion of operands method on the last observation."
   ]
  },
  {
   "cell_type": "markdown",
   "metadata": {},
   "source": [
    "### 1.2 Alternative solutions\n",
    "\n",
    "Let us first recall that *the recommended solution is: use `ad.common_cast` whenever AD array scalars are involved*. There are other options, described below, but they might be more error prone in practical scenarios."
   ]
  },
  {
   "cell_type": "code",
   "execution_count": 48,
   "metadata": {},
   "outputs": [],
   "source": [
    "a = np.float64(1.) # Numpy scalar (with bad operator priority)\n",
    "b = ad.Dense.identity(constant=1.) # AD array scalar"
   ]
  },
  {
   "cell_type": "markdown",
   "metadata": {},
   "source": [
    "The `ad.left_operand` function is casts numpy scalars into array scalars, which are safe as left operands in operations $+,-,*,/$."
   ]
  },
  {
   "cell_type": "code",
   "execution_count": 51,
   "metadata": {},
   "outputs": [
    {
     "name": "stdout",
     "output_type": "stream",
     "text": [
      "numpy scalar 1.0 <class 'numpy.float64'> is cast into array scalar 1.0 <class 'numpy.ndarray'>\n"
     ]
    }
   ],
   "source": [
    "lo = ad.left_operand\n",
    "loa = lo(a)\n",
    "print(f\"numpy scalar {a} {type(a)} is cast into array scalar {loa} {type(loa)}\")"
   ]
  },
  {
   "cell_type": "markdown",
   "metadata": {},
   "source": [
    "However, numpy quickly casts array scalars back into numpy scalars, which must be kept in mind."
   ]
  },
  {
   "cell_type": "code",
   "execution_count": 53,
   "metadata": {},
   "outputs": [
    {
     "name": "stdout",
     "output_type": "stream",
     "text": [
      "Square of 1.0 <class 'numpy.ndarray'> is 1.0 <class 'numpy.float64'>\n"
     ]
    }
   ],
   "source": [
    "print(f\"Square of {loa} {type(loa)} is {loa**2} {type(loa**2)}\")"
   ]
  },
  {
   "cell_type": "markdown",
   "metadata": {},
   "source": [
    "More description of the issue and solutions below."
   ]
  },
  {
   "cell_type": "code",
   "execution_count": 55,
   "metadata": {},
   "outputs": [],
   "source": [
    "assert ad.is_ad(b+a) # Put the AD variable left\n",
    "assert ad.is_ad(lo(a)+b) # Cast the left variable\n",
    "assert ad.is_ad(lo(a)+lo(b)) # Cast both variables"
   ]
  },
  {
   "cell_type": "markdown",
   "metadata": {},
   "source": [
    "The same issue arises with the other arithmetic operators"
   ]
  },
  {
   "cell_type": "code",
   "execution_count": 20,
   "metadata": {},
   "outputs": [
    {
     "name": "stdout",
     "output_type": "stream",
     "text": [
      "Error (cast to numpy scalar). a-b = 0.0\n",
      "Error (cast to numpy scalar). a*b = 1.0\n",
      "Error (cast to numpy scalar). a/b = 1.0\n"
     ]
    }
   ],
   "source": [
    "print(\"Error (cast to numpy scalar). a-b =\",a-b)\n",
    "print(\"Error (cast to numpy scalar). a*b =\",a*b)\n",
    "print(\"Error (cast to numpy scalar). a/b =\",a/b)"
   ]
  },
  {
   "cell_type": "markdown",
   "metadata": {},
   "source": [
    "The same solutions apply. Which one is the simplest can be discussed for non-symmetric operators."
   ]
  },
  {
   "cell_type": "code",
   "execution_count": 56,
   "metadata": {},
   "outputs": [],
   "source": [
    "assert ad.is_ad(-(b-a)) \n",
    "assert ad.is_ad(lo(a)-b)\n",
    "assert ad.is_ad(lo(a)-lo(b)) \n",
    "\n",
    "assert ad.is_ad(b*a)\n",
    "assert ad.is_ad(lo(a)*b) \n",
    "assert ad.is_ad(lo(a)*lo(b)) \n",
    "\n",
    "assert ad.is_ad(1./(b/a))\n",
    "assert ad.is_ad(lo(a)/b)  \n",
    "assert ad.is_ad(lo(a)/lo(b)) "
   ]
  },
  {
   "cell_type": "markdown",
   "metadata": {},
   "source": [
    "All these problems disappear if 'b' is anything else than an array scalar. In other words if `b.shape!=()`."
   ]
  },
  {
   "cell_type": "code",
   "execution_count": 58,
   "metadata": {},
   "outputs": [
    {
     "name": "stdout",
     "output_type": "stream",
     "text": [
      "b is not an array scalar : b.shape = (1,)\n"
     ]
    }
   ],
   "source": [
    "a = np.float64(1.)\n",
    "b = ad.Dense.identity(constant=np.array([1.])) \n",
    "print(\"b is not an array scalar : b.shape =\", b.shape)"
   ]
  },
  {
   "cell_type": "code",
   "execution_count": 59,
   "metadata": {},
   "outputs": [],
   "source": [
    "assert ad.is_ad(a+b)\n",
    "assert ad.is_ad(a-b)\n",
    "assert ad.is_ad(a*b)\n",
    "assert ad.is_ad(a/b)"
   ]
  },
  {
   "cell_type": "markdown",
   "metadata": {},
   "source": [
    "### 1.3 Unexpected occurences\n",
    "\n",
    "The problem depicted above may infortunately occur in a slightly hidden form, where one may not thinking about numpy scalars and array scalars."
   ]
  },
  {
   "cell_type": "code",
   "execution_count": 61,
   "metadata": {},
   "outputs": [],
   "source": [
    "a = np.array([1.,2.,3.])\n",
    "b = ad.Dense.identity(constant=np.array([4.,5.,6.]))"
   ]
  },
  {
   "cell_type": "code",
   "execution_count": 62,
   "metadata": {},
   "outputs": [
    {
     "name": "stdout",
     "output_type": "stream",
     "text": [
      "a[0] is a numpy scalar. <class 'numpy.float64'>\n",
      "a.sum() is a numpy scalar. <class 'numpy.float64'>\n",
      "\n",
      "b[0] is an array scalar. ()\n",
      "b.sum() is an array scalar. ()\n"
     ]
    }
   ],
   "source": [
    "print(\"a[0] is a numpy scalar.\", type(a[0]))\n",
    "print(\"a.sum() is a numpy scalar.\", type(a.sum()))\n",
    "print()\n",
    "\n",
    "print(\"b[0] is an array scalar.\", b[0].shape)\n",
    "print(\"b.sum() is an array scalar.\",b.sum().shape)"
   ]
  },
  {
   "cell_type": "code",
   "execution_count": 63,
   "metadata": {},
   "outputs": [
    {
     "name": "stdout",
     "output_type": "stream",
     "text": [
      "Error (cast to numpy scalar). 5.0\n",
      "Error (cast to numpy scalar). 21.0\n"
     ]
    }
   ],
   "source": [
    "print(\"Error (cast to numpy scalar).\",a[0]+b[0])\n",
    "print(\"Error (cast to numpy scalar).\",a.sum()+b.sum())"
   ]
  },
  {
   "cell_type": "markdown",
   "metadata": {},
   "source": [
    "In the following example, an incorrect value is assigned."
   ]
  },
  {
   "cell_type": "code",
   "execution_count": 64,
   "metadata": {},
   "outputs": [
    {
     "name": "stdout",
     "output_type": "stream",
     "text": [
      "Incorrect (AD information lost). denseAD(5.0,[0. 0. 0.])\n"
     ]
    }
   ],
   "source": [
    "B=b.copy(); B[0]=a[0]+B[0]; print(\"Incorrect (AD information lost).\", B[0])"
   ]
  },
  {
   "cell_type": "markdown",
   "metadata": {},
   "source": [
    "The previous solutions apply. (Recall that we truly recommend `a,b = ad.common_cast(a,b)`.)"
   ]
  },
  {
   "cell_type": "code",
   "execution_count": 65,
   "metadata": {},
   "outputs": [
    {
     "name": "stdout",
     "output_type": "stream",
     "text": [
      "denseAD(5.0,[1. 0. 0.])\n"
     ]
    }
   ],
   "source": [
    "assert ad.is_ad(b[0]+a[0]) \n",
    "assert ad.is_ad(lo(a[0])+b[0])\n",
    "assert ad.is_ad(lo(a[0])+lo(b[0])) \n",
    "\n",
    "assert ad.is_ad(lo(a.sum())+b.sum())\n",
    "\n",
    "B=b.copy(); B[0]=lo(a[0])+B[0]; print(B[0])"
   ]
  },
  {
   "cell_type": "markdown",
   "metadata": {},
   "source": [
    "Other alternative approaches can be considered too. For instance in the assignement case."
   ]
  },
  {
   "cell_type": "code",
   "execution_count": 29,
   "metadata": {},
   "outputs": [
    {
     "name": "stdout",
     "output_type": "stream",
     "text": [
      "denseAD(5.0,[1. 0. 0.])\n",
      "denseAD(5.0,[1. 0. 0.])\n"
     ]
    }
   ],
   "source": [
    "B=b.copy(); B[0]+=a[0]; print(B[0]) # Using in place assigment\n",
    "B=b.copy(); B[[0]]=a[[0]]+B[[0]]; print(B[0]) # Using non-scalar arrays"
   ]
  },
  {
   "cell_type": "markdown",
   "metadata": {},
   "source": [
    "Yet another solution is to fully eliminate array scalars of AD type, by introducing a (e.g. trailing) singleton dimension. This solution requires a bit of code refactoring, but should be transparent in most places."
   ]
  },
  {
   "cell_type": "code",
   "execution_count": 67,
   "metadata": {},
   "outputs": [],
   "source": [
    "a = np.float64(1)\n",
    "b = ad.Dense.identity(constant=np.array([4.,5.,6.]))\n",
    "b = np.expand_dims(b,axis=-1) # Add a trailing singleton dimension"
   ]
  },
  {
   "cell_type": "code",
   "execution_count": 68,
   "metadata": {},
   "outputs": [
    {
     "data": {
      "text/plain": [
       "denseAD(array([5.]),array([[1., 0., 0.]]))"
      ]
     },
     "execution_count": 68,
     "metadata": {},
     "output_type": "execute_result"
    }
   ],
   "source": [
    "a+b[0] # Problem solved, but with a trailing singleton dimension"
   ]
  },
  {
   "cell_type": "markdown",
   "metadata": {},
   "source": [
    "### 1.4 Matrix multiplication and inversion"
   ]
  },
  {
   "cell_type": "markdown",
   "metadata": {},
   "source": [
    "A similar issue arises with matrix multiplication and inversion : the AD information is lost. An appropriate syntax, presented below, allows to preserve it.\n"
   ]
  },
  {
   "cell_type": "code",
   "execution_count": 174,
   "metadata": {},
   "outputs": [],
   "source": [
    "v = ad.Dense.denseAD( np.random.standard_normal((4,)),np.random.standard_normal((4,4)))\n",
    "m0 = np.random.standard_normal((4,4))\n",
    "m1 = scipy.sparse.coo_matrix( ([1.,2.,3.,4.,5.],([0,2,1,2,3],[0,1,2,2,3]))).tocsr()"
   ]
  },
  {
   "cell_type": "code",
   "execution_count": 169,
   "metadata": {},
   "outputs": [
    {
     "name": "stdout",
     "output_type": "stream",
     "text": [
      "np.dot looses AD: [ 1.70530847 -0.11456795 -0.73066176  1.48267191]\n",
      "scipy '*' looses AD: [1.67581874 2.97884129 3.97178838 0.20522961]\n"
     ]
    }
   ],
   "source": [
    "print(\"np.dot looses AD:\",np.dot(m0,v))\n",
    "print(\"scipy '*' looses AD:\",m1*v.value)"
   ]
  },
  {
   "cell_type": "code",
   "execution_count": 180,
   "metadata": {},
   "outputs": [
    {
     "name": "stdout",
     "output_type": "stream",
     "text": [
      "np.dot with AD:\n",
      " denseAD([-1.89150544  0.3796543   1.30376865 -0.98564952],\n",
      "[[-1.6848455  -2.83764912  1.77247252 -2.77079864]\n",
      " [-2.20391131 -0.56107039  1.68847524 -2.58272018]\n",
      " [ 1.01843512 -1.36934636  0.89630998 -1.31008306]\n",
      " [-2.03349406 -1.29100599  1.54521456 -2.07800914]])\n",
      "scipy '*' with AD:\n",
      " denseAD([ 0.8778869   1.1385308   2.85995405 -7.16854102],\n",
      "[[-0.34111709 -0.14956627  0.64471031 -1.03636975]\n",
      " [ 3.67738763 -0.04489892 -4.54696905 -1.30243209]\n",
      " [ 5.89038497 -2.86303733 -4.29064566 -4.47909757]\n",
      " [-5.90443925 -4.00817189 -1.08642606 -7.62422685]])\n"
     ]
    }
   ],
   "source": [
    "print(\"np.dot with AD:\\n\",ad.apply_linear_mapping(m0,v))\n",
    "print(\"scipy '*' with AD:\\n\",ad.apply_linear_mapping(m1,v))"
   ]
  },
  {
   "cell_type": "code",
   "execution_count": 179,
   "metadata": {},
   "outputs": [
    {
     "name": "stdout",
     "output_type": "stream",
     "text": [
      "scipy solve with AD :\n",
      " denseAD([ 0.8778869  -0.25754919  0.22365216 -0.28674164],\n",
      "[[-0.34111709 -0.14956627  0.64471031 -1.03636975]\n",
      " [ 0.28383078  0.92690755 -1.34848809  0.6971018 ]\n",
      " [ 0.16453358 -0.46719535  0.29532996 -0.45708691]\n",
      " [-0.23617757 -0.16032688 -0.04345704 -0.30496907]])\n"
     ]
    }
   ],
   "source": [
    "print(\"scipy solve with AD :\\n\",ad.apply_linear_inverse(scipy.sparse.linalg.spsolve,m1,v))"
   ]
  },
  {
   "cell_type": "markdown",
   "metadata": {},
   "source": [
    "## 2. In place modifications and aliasing\n",
    "\n",
    "The AD information often consists of very large arrays. In order to save time and memory, this information is not systematically copied and/or stored fully. It can take the form of a broadcasted array, or of an alias to another array. In that case a copy is necessary to enable modifications."
   ]
  },
  {
   "cell_type": "markdown",
   "metadata": {},
   "source": [
    "### 2.1 Aliasing of the AD information\n",
    "\n",
    "When an operation leaves the AD information untouched, an alias is used. This can lead to bugs if in place modifications are used afterward."
   ]
  },
  {
   "cell_type": "code",
   "execution_count": 36,
   "metadata": {},
   "outputs": [],
   "source": [
    "x=ad.Dense.identity(constant=np.array([1.,2.]))\n",
    "y=x+1 # Only affects the value, not the AD information"
   ]
  },
  {
   "cell_type": "code",
   "execution_count": 37,
   "metadata": {},
   "outputs": [
    {
     "name": "stdout",
     "output_type": "stream",
     "text": [
      "Values are distinct : False\n",
      "AD information is shared : True\n"
     ]
    }
   ],
   "source": [
    "print(\"Values are distinct :\", x.value is y.value)\n",
    "print(\"AD information is shared :\", y.coef is x.coef)"
   ]
  },
  {
   "cell_type": "markdown",
   "metadata": {},
   "source": [
    "A modification of the aliased variable will impact the original one."
   ]
  },
  {
   "cell_type": "code",
   "execution_count": 38,
   "metadata": {},
   "outputs": [
    {
     "name": "stdout",
     "output_type": "stream",
     "text": [
      "denseAD(1.0,[1. 0.])\n",
      "Caution ! Shared AD information is affected : denseAD(1.0,[2. 0.])\n"
     ]
    }
   ],
   "source": [
    "print(x[0])\n",
    "y[0]*=2\n",
    "print(\"Caution ! Shared AD information is affected :\", x[0])"
   ]
  },
  {
   "cell_type": "markdown",
   "metadata": {},
   "source": [
    "Avoid this effect by making a copy."
   ]
  },
  {
   "cell_type": "code",
   "execution_count": 39,
   "metadata": {},
   "outputs": [
    {
     "name": "stdout",
     "output_type": "stream",
     "text": [
      "AD information is distinct : False\n"
     ]
    }
   ],
   "source": [
    "x=ad.Dense.identity(constant=np.array([1.,2.]))\n",
    "y=(x+1).copy()\n",
    "print(\"AD information is distinct :\", y.coef is x.coef)"
   ]
  },
  {
   "cell_type": "markdown",
   "metadata": {},
   "source": [
    "Note that a similar effect arises with the `-` binary operator, but not with `*`or `/`. That is because the latter modify the AD information, which therefore must be copied anyway."
   ]
  },
  {
   "cell_type": "code",
   "execution_count": 40,
   "metadata": {},
   "outputs": [
    {
     "name": "stdout",
     "output_type": "stream",
     "text": [
      "AD information is shared : True\n",
      "AD information is distinct : False\n",
      "AD information is distinct : False\n"
     ]
    }
   ],
   "source": [
    "x=ad.Dense.identity(constant=np.array([1.,2.]))\n",
    "print(\"AD information is shared :\", (x-1).coef is x.coef)\n",
    "print(\"AD information is distinct :\", (x*2).coef is x.coef)\n",
    "print(\"AD information is distinct :\", (x/2).coef is x.coef)"
   ]
  },
  {
   "cell_type": "markdown",
   "metadata": {},
   "source": [
    "### 2.2 Non writeable AD information\n",
    "\n",
    "When creating an dense AD variable, the coefficients may be non writeable (e.g. broadcasted) arrays."
   ]
  },
  {
   "cell_type": "code",
   "execution_count": 41,
   "metadata": {},
   "outputs": [],
   "source": [
    "x=ad.Dense.identity(constant=np.array([[1.,2.],[3.,4.]]),shape_bound=(2,))"
   ]
  },
  {
   "cell_type": "code",
   "execution_count": 42,
   "metadata": {},
   "outputs": [
    {
     "data": {
      "text/plain": [
       "False"
      ]
     },
     "execution_count": 42,
     "metadata": {},
     "output_type": "execute_result"
    }
   ],
   "source": [
    "x.coef.flags.writeable"
   ]
  },
  {
   "cell_type": "code",
   "execution_count": 43,
   "metadata": {},
   "outputs": [],
   "source": [
    "# x+=1 # Fails because non-writeable"
   ]
  },
  {
   "cell_type": "markdown",
   "metadata": {},
   "source": [
    "Make a copy to solve the issue."
   ]
  },
  {
   "cell_type": "code",
   "execution_count": 44,
   "metadata": {},
   "outputs": [],
   "source": [
    "y=x.copy()"
   ]
  },
  {
   "cell_type": "code",
   "execution_count": 45,
   "metadata": {},
   "outputs": [
    {
     "data": {
      "text/plain": [
       "True"
      ]
     },
     "execution_count": 45,
     "metadata": {},
     "output_type": "execute_result"
    }
   ],
   "source": [
    "y.coef.flags.writeable"
   ]
  },
  {
   "cell_type": "code",
   "execution_count": 46,
   "metadata": {},
   "outputs": [],
   "source": [
    "y+=1"
   ]
  },
  {
   "cell_type": "code",
   "execution_count": null,
   "metadata": {},
   "outputs": [],
   "source": []
  }
 ],
 "metadata": {
  "kernelspec": {
   "display_name": "Python 3",
   "language": "python",
   "name": "python3"
  },
  "language_info": {
   "codemirror_mode": {
    "name": "ipython",
    "version": 3
   },
   "file_extension": ".py",
   "mimetype": "text/x-python",
   "name": "python",
   "nbconvert_exporter": "python",
   "pygments_lexer": "ipython3",
   "version": "3.8.1"
  }
 },
 "nbformat": 4,
 "nbformat_minor": 2
}