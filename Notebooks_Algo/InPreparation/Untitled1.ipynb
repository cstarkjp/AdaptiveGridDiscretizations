{
 "cells": [
  {
   "cell_type": "code",
   "execution_count": 4,
   "metadata": {},
   "outputs": [],
   "source": [
    "import sys; sys.path.insert(0,\"../..\")\n",
    "from agd import HFMUtils\n",
    "import numpy as np"
   ]
  },
  {
   "cell_type": "code",
   "execution_count": 6,
   "metadata": {},
   "outputs": [],
   "source": [
    "point_infinity_1 = np.array([26, 2])\n",
    "point_infinity_2=np.array([26,8])\n",
    "hfmInput = {}\n",
    "gridScale = 0.1\n",
    "hfmInput.update({\n",
    "   'model': 'Isotropic2',\n",
    "   'order': 2.\n",
    "})\n",
    "hfmInput.update(HFMUtils.Rect([[0,28],[0,10]], gridScale=gridScale))\n",
    "hfmInput.update({'seeds': [point_infinity_1,point_infinity_2]})\n",
    "hfmInput['arrayOrdering'] = 'YXZ_RowMajor'\n",
    "X,Y = HFMUtils.GetGrid(hfmInput)\n",
    "x_min=X[0,0]\n",
    "y_min=Y[0,0]\n",
    "velocity=np.ones_like(X)\n",
    "boundaries = np.logical_and(abs(X - 14) < 4, abs(Y - 5) > 1)\n",
    "velocity[boundaries]=0.1\n",
    "hfmInput.update({'speed':velocity})\n",
    "hfmInput['exportValues'] = 1.\n",
    "hfmInput['exportGeodesicFlow'] = 1\n",
    "#hfmOutput = HFMUtils.Run(hfmInput)"
   ]
  },
  {
   "cell_type": "code",
   "execution_count": 7,
   "metadata": {},
   "outputs": [
    {
     "data": {
      "text/plain": [
       "array([[ 0.05,  0.15,  0.25, ..., 27.75, 27.85, 27.95],\n",
       "       [ 0.05,  0.15,  0.25, ..., 27.75, 27.85, 27.95],\n",
       "       [ 0.05,  0.15,  0.25, ..., 27.75, 27.85, 27.95],\n",
       "       ...,\n",
       "       [ 0.05,  0.15,  0.25, ..., 27.75, 27.85, 27.95],\n",
       "       [ 0.05,  0.15,  0.25, ..., 27.75, 27.85, 27.95],\n",
       "       [ 0.05,  0.15,  0.25, ..., 27.75, 27.85, 27.95]])"
      ]
     },
     "execution_count": 7,
     "metadata": {},
     "output_type": "execute_result"
    }
   ],
   "source": [
    "X"
   ]
  },
  {
   "cell_type": "code",
   "execution_count": 9,
   "metadata": {},
   "outputs": [
    {
     "data": {
      "text/plain": [
       "{'model': 'Isotropic2',\n",
       " 'order': 2.0,\n",
       " 'gridScale': 0.1,\n",
       " 'dims': array([280., 100.]),\n",
       " 'origin': array([0., 0.]),\n",
       " 'seeds': [array([26,  2]), array([26,  8])],\n",
       " 'arrayOrdering': 'YXZ_RowMajor',\n",
       " 'speed': array([[1., 1., 1., ..., 1., 1., 1.],\n",
       "        [1., 1., 1., ..., 1., 1., 1.],\n",
       "        [1., 1., 1., ..., 1., 1., 1.],\n",
       "        ...,\n",
       "        [1., 1., 1., ..., 1., 1., 1.],\n",
       "        [1., 1., 1., ..., 1., 1., 1.],\n",
       "        [1., 1., 1., ..., 1., 1., 1.]]),\n",
       " 'exportValues': 1.0,\n",
       " 'exportGeodesicFlow': 1}"
      ]
     },
     "execution_count": 9,
     "metadata": {},
     "output_type": "execute_result"
    }
   ],
   "source": [
    "hfmInput"
   ]
  },
  {
   "cell_type": "code",
   "execution_count": null,
   "metadata": {},
   "outputs": [],
   "source": []
  }
 ],
 "metadata": {
  "kernelspec": {
   "display_name": "Python 3",
   "language": "python",
   "name": "python3"
  },
  "language_info": {
   "codemirror_mode": {
    "name": "ipython",
    "version": 3
   },
   "file_extension": ".py",
   "mimetype": "text/x-python",
   "name": "python",
   "nbconvert_exporter": "python",
   "pygments_lexer": "ipython3",
   "version": "3.8.1"
  }
 },
 "nbformat": 4,
 "nbformat_minor": 4
}
