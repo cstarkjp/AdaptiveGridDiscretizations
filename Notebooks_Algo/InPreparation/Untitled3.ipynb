{
 "cells": [
  {
   "cell_type": "code",
   "execution_count": 6,
   "metadata": {},
   "outputs": [],
   "source": [
    "import sys; sys.path.insert(0,\"../..\") # Allow import of agd from parent directory (useless if conda package installed)\n",
    "#from Miscellaneous import TocTools; TocTools.displayTOC('TensorVoronoi','Algo')\n",
    "import numpy as np\n",
    "\n",
    "\n",
    "from agd import LinearParallel as lp\n",
    "from agd import Metrics\n",
    "from agd.HFMUtils import VoronoiDecomposition"
   ]
  },
  {
   "cell_type": "code",
   "execution_count": 17,
   "metadata": {},
   "outputs": [],
   "source": [
    "def Reconstruct(coefs,offsets):\n",
    "     return lp.mult(coefs,lp.outer_self(offsets)).sum(2)"
   ]
  },
  {
   "cell_type": "code",
   "execution_count": 10,
   "metadata": {},
   "outputs": [],
   "source": [
    "metric = Metrics.Riemann.needle(1.+np.arange(4),0.1,1.)\n",
    "dual_metric = metric.dual()"
   ]
  },
  {
   "cell_type": "code",
   "execution_count": 16,
   "metadata": {},
   "outputs": [
    {
     "data": {
      "text/plain": [
       "array([[ 4.3,  6.6,  9.9, 13.2],\n",
       "       [ 6.6, 14.2, 19.8, 26.4],\n",
       "       [ 9.9, 19.8, 30.7, 39.6],\n",
       "       [13.2, 26.4, 39.6, 53.8]])"
      ]
     },
     "execution_count": 16,
     "metadata": {},
     "output_type": "execute_result"
    }
   ],
   "source": [
    "dual_metric.m"
   ]
  },
  {
   "cell_type": "code",
   "execution_count": 14,
   "metadata": {},
   "outputs": [],
   "source": [
    "coefs,offsets = VoronoiDecomposition(dual_metric.m)"
   ]
  },
  {
   "cell_type": "code",
   "execution_count": 18,
   "metadata": {
    "collapsed": true
   },
   "outputs": [
    {
     "data": {
      "text/plain": [
       "array([[ 4.3,  6.6,  9.9, 13.2],\n",
       "       [ 6.6, 14.2, 19.8, 26.4],\n",
       "       [ 9.9, 19.8, 30.7, 39.6],\n",
       "       [13.2, 26.4, 39.6, 53.8]])"
      ]
     },
     "execution_count": 18,
     "metadata": {},
     "output_type": "execute_result"
    }
   ],
   "source": [
    "Reconstruct(coefs,offsets)"
   ]
  },
  {
   "cell_type": "code",
   "execution_count": 19,
   "metadata": {},
   "outputs": [
    {
     "data": {
      "text/plain": [
       "273"
      ]
     },
     "execution_count": 19,
     "metadata": {},
     "output_type": "execute_result"
    }
   ],
   "source": [
    "410-137"
   ]
  },
  {
   "cell_type": "code",
   "execution_count": null,
   "metadata": {},
   "outputs": [],
   "source": []
  }
 ],
 "metadata": {
  "kernelspec": {
   "display_name": "Python 3",
   "language": "python",
   "name": "python3"
  },
  "language_info": {
   "codemirror_mode": {
    "name": "ipython",
    "version": 3
   },
   "file_extension": ".py",
   "mimetype": "text/x-python",
   "name": "python",
   "nbconvert_exporter": "python",
   "pygments_lexer": "ipython3",
   "version": "3.8.1"
  }
 },
 "nbformat": 4,
 "nbformat_minor": 4
}
