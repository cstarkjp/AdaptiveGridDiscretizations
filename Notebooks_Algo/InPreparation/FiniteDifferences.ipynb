{
 "cells": [
  {
   "cell_type": "markdown",
   "metadata": {},
   "source": [
    "# Adaptive PDE discretizations on cartesian grids\n",
    "## Volume : Algorithmic tools\n",
    "## Part : Domain representation\n",
    "## Chapter : Finite differences, interpolation"
   ]
  },
  {
   "cell_type": "markdown",
   "metadata": {},
   "source": [
    "This notebook presents the basic types of finite differences and interpolation methods that can be considered on a cartesian grid. The tools are presented in two dimensions, but apply in arbitrary dimension."
   ]
  },
  {
   "cell_type": "markdown",
   "metadata": {},
   "source": [
    "[**Summary**](Summary.ipynb) of volume Algorithmic tools, this series of notebooks.\n",
    "\n",
    "[**Main summary**](../Summary.ipynb) of the Adaptive Grid Discretizations \n",
    "\tbook of notebooks, including the other volumes.\n",
    "\n",
    "# Table of contents\n",
    "  * [1. Degenerate elliptic finite differences](#1.-Degenerate-elliptic-finite-differences)\n",
    "    * [1.1 Upwind finite differences](#1.1-Upwind-finite-differences)\n",
    "    * [1.2 Second order finite differences](#1.2-Second-order-finite-differences)\n",
    "  * [2. Non degenerate elliptic finite differences](#2.-Non-degenerate-elliptic-finite-differences)\n",
    "    * [2.1 Centered finite differences](#2.1-Centered-finite-differences)\n",
    "    * [2.2 High order upwind finite differences](#2.2-High-order-upwind-finite-differences)\n",
    "  * [3. Composite finite differences](#3.-Composite-finite-differences)\n",
    "    * [3.1 Gradient](#3.1-Gradient)\n",
    "    * [3.2 Hessian](#3.2-Hessian)\n",
    "\n",
    "\n",
    "\n",
    "**Acknowledgement.** The experiments presented in these notebooks are part of ongoing research, \n",
    "some of it with PhD student Guillaume Bonnet, in co-direction with Frederic Bonnans.\n",
    "\n",
    "Copyright Jean-Marie Mirebeau, University Paris-Sud, CNRS, University Paris-Saclay"
   ]
  },
  {
   "cell_type": "markdown",
   "metadata": {},
   "source": [
    "## 0. Import the required libraries"
   ]
  },
  {
   "cell_type": "code",
   "execution_count": 1,
   "metadata": {},
   "outputs": [],
   "source": [
    "import sys; sys.path.append(\"../..\") # Allow imports from parent directory\n",
    "#from Miscellaneous import TocTools; print(TocTools.displayTOC('FiniteDifferences','Algo'))"
   ]
  },
  {
   "cell_type": "code",
   "execution_count": 2,
   "metadata": {},
   "outputs": [],
   "source": [
    "from agd import FiniteDifferences as fd\n",
    "from agd import AutomaticDifferentiation as ad\n",
    "from agd import Interpolation\n",
    "from agd import LinearParallel as lp"
   ]
  },
  {
   "cell_type": "code",
   "execution_count": 3,
   "metadata": {},
   "outputs": [],
   "source": [
    "import numpy as np"
   ]
  },
  {
   "cell_type": "code",
   "execution_count": 4,
   "metadata": {},
   "outputs": [],
   "source": [
    "def reload_packages():\n",
    "    from Miscellaneous.rreload import rreload\n",
    "    global ad,fd,Interpolation\n",
    "    ad,fd,Interpolation = rreload([ad,fd,Interpolation],rootdir=\"../..\")"
   ]
  },
  {
   "cell_type": "markdown",
   "metadata": {},
   "source": [
    "## 1. Degenerate elliptic finite differences\n",
    "\n",
    "The finite difference presented in this section are a typical ingredient of monotone numerical schemes, see the corresponding [volume](../../Notebooks_NonDiv/Summary.ipynb). "
   ]
  },
  {
   "cell_type": "markdown",
   "metadata": {},
   "source": [
    "### 1.1 Testing data\n",
    "\n",
    "In order to test the finite difference and interpolation methods, we need some polynomial functions."
   ]
  },
  {
   "cell_type": "code",
   "execution_count": 5,
   "metadata": {},
   "outputs": [],
   "source": [
    "def u1(X): return X[0]+2*X[1]\n",
    "def u2(X): return X[0]**2+2*(2*X[0]*X[1])+3*X[1]**2\n",
    "def u3(X): return X[0]**3+X[0]*X[1]**2"
   ]
  },
  {
   "cell_type": "markdown",
   "metadata": {},
   "source": [
    "We also need to choose a direction, with *integer coordinates*, for the finite differences."
   ]
  },
  {
   "cell_type": "code",
   "execution_count": 6,
   "metadata": {},
   "outputs": [],
   "source": [
    "e = (1,2)"
   ]
  },
  {
   "cell_type": "markdown",
   "metadata": {},
   "source": [
    "Let us also define a domain, here a square."
   ]
  },
  {
   "cell_type": "code",
   "execution_count": 7,
   "metadata": {},
   "outputs": [],
   "source": [
    "aX,h = np.linspace(0,1,retstep=True)\n",
    "X=np.array(np.meshgrid(aX,aX,indexing='ij'))\n",
    "shape = X.shape[1:]\n",
    "\n",
    "def close(u,v,k):\n",
    "    \"\"\"Wether u and v are close in the domain minus k boundary layers.\"\"\"\n",
    "    interior = np.full(shape,False)\n",
    "    interior[k:-k,k:-k]=True\n",
    "    return np.allclose(u[...,interior],v[...,interior])"
   ]
  },
  {
   "cell_type": "markdown",
   "metadata": {},
   "source": [
    "The following variables are used for validation, by comparison with automatic differentiation."
   ]
  },
  {
   "cell_type": "code",
   "execution_count": 8,
   "metadata": {},
   "outputs": [],
   "source": [
    "X_ad = ad.Dense.identity(constant=X,shape_free=(2,))\n",
    "X_ad2 = ad.Dense2.identity(constant=X,shape_free=(2,))\n",
    "\n",
    "du1 = u1(X_ad).gradient()\n",
    "du2 = u2(X_ad).gradient()\n",
    "ddu2 = u2(X_ad2).hessian()\n",
    "du3 = u3(X_ad).gradient()\n",
    "\n",
    "_e = fd.as_field(e,shape)\n",
    "du1_e = lp.dot_VV(du1,_e)\n",
    "du2_e = lp.dot_VV(du2,_e)\n",
    "ddu2_e = lp.dot_VAV(_e,ddu2,_e)\n",
    "du3_e = lp.dot_VV(du3,_e)"
   ]
  },
  {
   "cell_type": "markdown",
   "metadata": {},
   "source": [
    "### 1.1 Upwind finite difference\n",
    "$$\n",
    "    \\frac{u(x+he)-u(x)} h = <\\nabla u(x),e> + O(h).\n",
    "$$"
   ]
  },
  {
   "cell_type": "code",
   "execution_count": 9,
   "metadata": {},
   "outputs": [],
   "source": [
    "Du1_e = fd.DiffUpwind(u1(X),e,h)\n",
    "assert close(Du1_e,du1_e,2)"
   ]
  },
  {
   "cell_type": "markdown",
   "metadata": {},
   "source": [
    "### 1.2 Second order finite difference\n",
    "$$\n",
    "    \\frac{u(x+he)-2u(x)+u(x-he)}{h^2} = <e,\\nabla^2 u(x),e> + O(h^2).\n",
    "$$"
   ]
  },
  {
   "cell_type": "code",
   "execution_count": 10,
   "metadata": {},
   "outputs": [],
   "source": [
    "DDu2_e = fd.Diff2(u2(X),e,h)\n",
    "assert close(DDu2_e,ddu2_e,2)"
   ]
  },
  {
   "cell_type": "markdown",
   "metadata": {},
   "source": [
    "## 2. Non degenerate elliptic finite differences\n",
    "\n",
    "The following finite differences are not degenerate elliptic. They may nevertheless be encountered in degenerate elliptic schemes, if their lack of ellipticity is suitably compensated, of within a filtered scheme."
   ]
  },
  {
   "cell_type": "markdown",
   "metadata": {},
   "source": [
    "### 2.1 Centered finite difference\n",
    "$$\n",
    "    \\frac{u(x+h e)-u(x-h e)} {2 h} = <\\nabla u(x),e> + O(h^2). \n",
    "$$"
   ]
  },
  {
   "cell_type": "code",
   "execution_count": 11,
   "metadata": {},
   "outputs": [],
   "source": [
    "Du2_e = fd.DiffCentered(u2(X),e,h)\n",
    "assert close(Du2_e,du2_e,2)"
   ]
  },
  {
   "cell_type": "markdown",
   "metadata": {},
   "source": [
    "### 2.2 High order upwind finite differences\n",
    "$$\n",
    "    \\frac{-u(x+2he)+4u(x+he)-3u(x)}{2h} = <\\nabla u(x),e> + O(h^2)\n",
    "$$"
   ]
  },
  {
   "cell_type": "code",
   "execution_count": 12,
   "metadata": {},
   "outputs": [],
   "source": [
    "Du2_e = fd.DiffUpwind2(u2(X),e,h)\n",
    "assert close(Du2_e,du2_e,4)"
   ]
  },
  {
   "cell_type": "markdown",
   "metadata": {},
   "source": [
    "$$\n",
    "    \\frac{2 u(x+3he)-9 u(x+2he)+18 u(x+he)-11 u(x)}{6h} = <\\nabla u(x),e> + O(h^3)\n",
    "$$"
   ]
  },
  {
   "cell_type": "code",
   "execution_count": 13,
   "metadata": {},
   "outputs": [],
   "source": [
    "Du3_e = fd.DiffUpwind3(u3(X),e,h)\n",
    "assert close(Du3_e,du3_e,6)"
   ]
  },
  {
   "cell_type": "markdown",
   "metadata": {},
   "source": [
    "## 3. Composite finite differences\n",
    "The following finite differences can be used to estimate numerically the derivatives of a function, but they are rarely adequate for building numerical schemes. We denote by $e_i$ the $i$-th element of the canonical basis."
   ]
  },
  {
   "cell_type": "markdown",
   "metadata": {},
   "source": [
    "### 3.1 Gradient\n",
    "$$\n",
    "    \\frac{u(x+h e_i)-u(x-he_i)}{2h} = \\frac {\\partial u} {\\partial x_i} + O(h^2), \\qquad 0 \\leq i < d.\n",
    "$$"
   ]
  },
  {
   "cell_type": "code",
   "execution_count": 14,
   "metadata": {},
   "outputs": [],
   "source": [
    "Du2 = fd.DiffGradient(u2(X),gridScale=h)\n",
    "assert close(Du2,du2,2)"
   ]
  },
  {
   "cell_type": "code",
   "execution_count": 15,
   "metadata": {},
   "outputs": [
    {
     "data": {
      "text/plain": [
       "(2, 50, 50)"
      ]
     },
     "execution_count": 15,
     "metadata": {},
     "output_type": "execute_result"
    }
   ],
   "source": [
    "Du2.shape"
   ]
  },
  {
   "cell_type": "markdown",
   "metadata": {},
   "source": [
    "### 3.2 Hessian\n",
    "$$\n",
    "    \\frac{u(x+h e_i)-2u(x)+u(x-he_i)}{h^2} = \\frac {\\partial^2 u} {\\partial^2 x_i} + O(h^2),\n",
    "$$\n",
    "for all $0\\leq i < d$, and \n",
    "$$\n",
    "    \\frac{u(x+h e_i+h e_j)+u(x-he_i-h e_j)-u(x+h e_i -h e_j) - u(x-h e_i+he_j)}{4h^2} = \\frac {\\partial^2 u} {\\partial x_i \\partial x_j} + O(h^2), \n",
    "$$\n",
    "for all distinct $i,j$."
   ]
  },
  {
   "cell_type": "code",
   "execution_count": 16,
   "metadata": {},
   "outputs": [],
   "source": [
    "DDu2 = fd.DiffHessian(u2(X),gridScale=h)\n",
    "assert close(DDu2,ddu2,2)"
   ]
  },
  {
   "cell_type": "code",
   "execution_count": 17,
   "metadata": {},
   "outputs": [
    {
     "data": {
      "text/plain": [
       "(2, 2, 50, 50)"
      ]
     },
     "execution_count": 17,
     "metadata": {},
     "output_type": "execute_result"
    }
   ],
   "source": [
    "DDu2.shape"
   ]
  },
  {
   "cell_type": "markdown",
   "metadata": {},
   "source": [
    "## 4. Interpolation\n",
    "\n",
    "Let us define a finer grid."
   ]
  },
  {
   "cell_type": "code",
   "execution_count": 18,
   "metadata": {},
   "outputs": [],
   "source": [
    "aX_ = np.linspace(0,1,80)\n",
    "X_=np.array(np.meshgrid(aX_,aX_,indexing='ij'))"
   ]
  },
  {
   "cell_type": "code",
   "execution_count": 19,
   "metadata": {},
   "outputs": [],
   "source": [
    "Interp = Interpolation.UniformGridInterpolation"
   ]
  },
  {
   "cell_type": "markdown",
   "metadata": {},
   "source": [
    "### 4.2 Linear splines\n",
    "\n",
    "(Piecewise) Linear splines are continuous, and reproduce linear functions."
   ]
  },
  {
   "cell_type": "code",
   "execution_count": 20,
   "metadata": {},
   "outputs": [],
   "source": [
    "U1 = Interp(X,u1(X),order=1)\n",
    "assert np.allclose(U1(X_),u1(X_))"
   ]
  },
  {
   "cell_type": "code",
   "execution_count": 21,
   "metadata": {},
   "outputs": [],
   "source": [
    "#np.product.reduce(tuple(X_ad))"
   ]
  },
  {
   "cell_type": "code",
   "execution_count": 28,
   "metadata": {},
   "outputs": [
    {
     "data": {
      "text/plain": [
       "array([[[   0.,    2.,    4., ...,   94.,   96.,   98.],\n",
       "        [   1.,    3.,    5., ...,   95.,   97.,   99.],\n",
       "        [   2.,    4.,    6., ...,   96.,   98.,  100.],\n",
       "        ...,\n",
       "        [  47.,   49.,   51., ...,  141.,  143.,  145.],\n",
       "        [  48.,   50.,   52., ...,  142.,  144.,  146.],\n",
       "        [ -50.,  -52.,  -54., ..., -144., -146., -148.]],\n",
       "\n",
       "       [[   0.,    2.,    4., ...,   94.,   96., -100.],\n",
       "        [   1.,    3.,    5., ...,   95.,   97., -101.],\n",
       "        [   2.,    4.,    6., ...,   96.,   98., -102.],\n",
       "        ...,\n",
       "        [  47.,   49.,   51., ...,  141.,  143., -147.],\n",
       "        [  48.,   50.,   52., ...,  142.,  144., -148.],\n",
       "        [  49.,   51.,   53., ...,  143.,  145., -149.]]])"
      ]
     },
     "execution_count": 28,
     "metadata": {},
     "output_type": "execute_result"
    }
   ],
   "source": [
    "dU1 = U1(X_ad).gradient()\n",
    "dU1 - du1"
   ]
  },
  {
   "cell_type": "code",
   "execution_count": 31,
   "metadata": {},
   "outputs": [
    {
     "data": {
      "text/plain": [
       "array([[[   1.,    3.,    5., ...,   95.,   97.,   99.],\n",
       "        [   2.,    4.,    6., ...,   96.,   98.,  100.],\n",
       "        [   3.,    5.,    7., ...,   97.,   99.,  101.],\n",
       "        ...,\n",
       "        [  48.,   50.,   52., ...,  142.,  144.,  146.],\n",
       "        [  49.,   51.,   53., ...,  143.,  145.,  147.],\n",
       "        [ -49.,  -51.,  -53., ..., -143., -145., -147.]],\n",
       "\n",
       "       [[   2.,    4.,    6., ...,   96.,   98.,  -98.],\n",
       "        [   3.,    5.,    7., ...,   97.,   99.,  -99.],\n",
       "        [   4.,    6.,    8., ...,   98.,  100., -100.],\n",
       "        ...,\n",
       "        [  49.,   51.,   53., ...,  143.,  145., -145.],\n",
       "        [  50.,   52.,   54., ...,  144.,  146., -146.],\n",
       "        [  51.,   53.,   55., ...,  145.,  147., -147.]]])"
      ]
     },
     "execution_count": 31,
     "metadata": {},
     "output_type": "execute_result"
    }
   ],
   "source": [
    "dU1"
   ]
  },
  {
   "cell_type": "code",
   "execution_count": 22,
   "metadata": {},
   "outputs": [
    {
     "data": {
      "text/plain": [
       "denseAD(array([[[ 1.        ,  1.        ,  1.        , ...,  1.        ,\n",
       "          1.        ,  1.        ],\n",
       "        [ 0.97959184,  0.97959184,  0.97959184, ...,  0.97959184,\n",
       "          0.97959184,  0.97959184],\n",
       "        [ 0.95918367,  0.95918367,  0.95918367, ...,  0.95918367,\n",
       "          0.95918367,  0.95918367],\n",
       "        ...,\n",
       "        [ 0.04081633,  0.04081633,  0.04081633, ...,  0.04081633,\n",
       "          0.04081633,  0.04081633],\n",
       "        [ 0.02040816,  0.02040816,  0.02040816, ...,  0.02040816,\n",
       "          0.02040816,  0.02040816],\n",
       "        [-0.        , -0.        , -0.        , ..., -0.        ,\n",
       "         -0.        , -0.        ]],\n",
       "\n",
       "       [[ 1.        ,  0.97959184,  0.95918367, ...,  0.04081633,\n",
       "          0.02040816, -0.        ],\n",
       "        [ 1.        ,  0.97959184,  0.95918367, ...,  0.04081633,\n",
       "          0.02040816, -0.        ],\n",
       "        [ 1.        ,  0.97959184,  0.95918367, ...,  0.04081633,\n",
       "          0.02040816, -0.        ],\n",
       "        ...,\n",
       "        [ 1.        ,  0.97959184,  0.95918367, ...,  0.04081633,\n",
       "          0.02040816, -0.        ],\n",
       "        [ 1.        ,  0.97959184,  0.95918367, ...,  0.04081633,\n",
       "          0.02040816, -0.        ],\n",
       "        [ 1.        ,  0.97959184,  0.95918367, ...,  0.04081633,\n",
       "          0.02040816, -0.        ]]]),\n",
       "array([[[[-0., -0.],\n",
       "         [-0., -0.],\n",
       "         [-0., -0.],\n",
       "         ...,\n",
       "         [-0., -0.],\n",
       "         [-0., -0.],\n",
       "         [-0., -0.]],\n",
       "\n",
       "        [[-1., -0.],\n",
       "         [-1., -0.],\n",
       "         [-1., -0.],\n",
       "         ...,\n",
       "         [-1., -0.],\n",
       "         [-1., -0.],\n",
       "         [-1., -0.]],\n",
       "\n",
       "        [[-1., -0.],\n",
       "         [-1., -0.],\n",
       "         [-1., -0.],\n",
       "         ...,\n",
       "         [-1., -0.],\n",
       "         [-1., -0.],\n",
       "         [-1., -0.]],\n",
       "\n",
       "        ...,\n",
       "\n",
       "        [[-1., -0.],\n",
       "         [-1., -0.],\n",
       "         [-1., -0.],\n",
       "         ...,\n",
       "         [-1., -0.],\n",
       "         [-1., -0.],\n",
       "         [-1., -0.]],\n",
       "\n",
       "        [[-1., -0.],\n",
       "         [-1., -0.],\n",
       "         [-1., -0.],\n",
       "         ...,\n",
       "         [-1., -0.],\n",
       "         [-1., -0.],\n",
       "         [-1., -0.]],\n",
       "\n",
       "        [[-1., -0.],\n",
       "         [-1., -0.],\n",
       "         [-1., -0.],\n",
       "         ...,\n",
       "         [-1., -0.],\n",
       "         [-1., -0.],\n",
       "         [-1., -0.]]],\n",
       "\n",
       "\n",
       "       [[[-0., -0.],\n",
       "         [-0., -1.],\n",
       "         [-0., -1.],\n",
       "         ...,\n",
       "         [-0., -1.],\n",
       "         [-0., -1.],\n",
       "         [-0., -1.]],\n",
       "\n",
       "        [[-0., -0.],\n",
       "         [-0., -1.],\n",
       "         [-0., -1.],\n",
       "         ...,\n",
       "         [-0., -1.],\n",
       "         [-0., -1.],\n",
       "         [-0., -1.]],\n",
       "\n",
       "        [[-0., -0.],\n",
       "         [-0., -1.],\n",
       "         [-0., -1.],\n",
       "         ...,\n",
       "         [-0., -1.],\n",
       "         [-0., -1.],\n",
       "         [-0., -1.]],\n",
       "\n",
       "        ...,\n",
       "\n",
       "        [[-0., -0.],\n",
       "         [-0., -1.],\n",
       "         [-0., -1.],\n",
       "         ...,\n",
       "         [-0., -1.],\n",
       "         [-0., -1.],\n",
       "         [-0., -1.]],\n",
       "\n",
       "        [[-0., -0.],\n",
       "         [-0., -1.],\n",
       "         [-0., -1.],\n",
       "         ...,\n",
       "         [-0., -1.],\n",
       "         [-0., -1.],\n",
       "         [-0., -1.]],\n",
       "\n",
       "        [[-0., -0.],\n",
       "         [-0., -1.],\n",
       "         [-0., -1.],\n",
       "         ...,\n",
       "         [-0., -1.],\n",
       "         [-0., -1.],\n",
       "         [-0., -1.]]]]))"
      ]
     },
     "execution_count": 22,
     "metadata": {},
     "output_type": "execute_result"
    }
   ],
   "source": [
    "U1.spline.splines[0](X_ad,0.)"
   ]
  },
  {
   "cell_type": "code",
   "execution_count": 23,
   "metadata": {},
   "outputs": [
    {
     "data": {
      "text/plain": [
       "denseAD(array([[0.00000000e+00, 0.00000000e+00, 0.00000000e+00, ...,\n",
       "        0.00000000e+00, 0.00000000e+00, 0.00000000e+00],\n",
       "       [0.00000000e+00, 4.16493128e-04, 8.32986256e-04, ...,\n",
       "        1.95751770e-02, 1.99916701e-02, 2.04081633e-02],\n",
       "       [0.00000000e+00, 8.32986256e-04, 1.66597251e-03, ...,\n",
       "        3.91503540e-02, 3.99833403e-02, 4.08163265e-02],\n",
       "       ...,\n",
       "       [0.00000000e+00, 1.95751770e-02, 3.91503540e-02, ...,\n",
       "        9.20033319e-01, 9.39608496e-01, 9.59183673e-01],\n",
       "       [0.00000000e+00, 1.99916701e-02, 3.99833403e-02, ...,\n",
       "        9.39608496e-01, 9.59600167e-01, 9.79591837e-01],\n",
       "       [0.00000000e+00, 2.04081633e-02, 4.08163265e-02, ...,\n",
       "        9.59183673e-01, 9.79591837e-01, 1.00000000e+00]]),\n",
       "array([[[0.        , 0.        ],\n",
       "        [0.02040816, 0.        ],\n",
       "        [0.04081633, 0.        ],\n",
       "        ...,\n",
       "        [0.95918367, 0.        ],\n",
       "        [0.97959184, 0.        ],\n",
       "        [1.        , 0.        ]],\n",
       "\n",
       "       [[0.        , 0.02040816],\n",
       "        [0.02040816, 0.02040816],\n",
       "        [0.04081633, 0.02040816],\n",
       "        ...,\n",
       "        [0.95918367, 0.02040816],\n",
       "        [0.97959184, 0.02040816],\n",
       "        [1.        , 0.02040816]],\n",
       "\n",
       "       [[0.        , 0.04081633],\n",
       "        [0.02040816, 0.04081633],\n",
       "        [0.04081633, 0.04081633],\n",
       "        ...,\n",
       "        [0.95918367, 0.04081633],\n",
       "        [0.97959184, 0.04081633],\n",
       "        [1.        , 0.04081633]],\n",
       "\n",
       "       ...,\n",
       "\n",
       "       [[0.        , 0.95918367],\n",
       "        [0.02040816, 0.95918367],\n",
       "        [0.04081633, 0.95918367],\n",
       "        ...,\n",
       "        [0.95918367, 0.95918367],\n",
       "        [0.97959184, 0.95918367],\n",
       "        [1.        , 0.95918367]],\n",
       "\n",
       "       [[0.        , 0.97959184],\n",
       "        [0.02040816, 0.97959184],\n",
       "        [0.04081633, 0.97959184],\n",
       "        ...,\n",
       "        [0.95918367, 0.97959184],\n",
       "        [0.97959184, 0.97959184],\n",
       "        [1.        , 0.97959184]],\n",
       "\n",
       "       [[0.        , 1.        ],\n",
       "        [0.02040816, 1.        ],\n",
       "        [0.04081633, 1.        ],\n",
       "        ...,\n",
       "        [0.95918367, 1.        ],\n",
       "        [0.97959184, 1.        ],\n",
       "        [1.        , 1.        ]]]))"
      ]
     },
     "execution_count": 23,
     "metadata": {},
     "output_type": "execute_result"
    }
   ],
   "source": [
    "np.prod(X_ad,axis=0)"
   ]
  },
  {
   "cell_type": "markdown",
   "metadata": {},
   "source": [
    "### 4.2 Quadratic splines\n",
    "\n",
    "Quadratic splines are continuously differentiable, and reproduce quadratic functions.\n",
    "We use a not-a-knot boundary condition : in one dimension, the second derivative is continuous accross the second node from the left."
   ]
  },
  {
   "cell_type": "code",
   "execution_count": 24,
   "metadata": {},
   "outputs": [],
   "source": [
    "U2 = Interp(X,u2(X),order=2)\n",
    "assert np.allclose(U2(X_),u2(X_))"
   ]
  },
  {
   "cell_type": "markdown",
   "metadata": {},
   "source": [
    "### 4.3 Cubic splines\n",
    "\n",
    "Cubic splines are twice continuously differentiable, and reproduce cubic functions.\n",
    "We use a not-a-knot boundary condition : in one dimension, the third derivative is continuous accross the second node from the left, and likewise from the right."
   ]
  },
  {
   "cell_type": "code",
   "execution_count": 25,
   "metadata": {},
   "outputs": [],
   "source": [
    "reload_packages()"
   ]
  },
  {
   "cell_type": "code",
   "execution_count": 26,
   "metadata": {},
   "outputs": [
    {
     "ename": "AssertionError",
     "evalue": "",
     "output_type": "error",
     "traceback": [
      "\u001b[0;31m---------------------------------------------------------------------------\u001b[0m",
      "\u001b[0;31mAssertionError\u001b[0m                            Traceback (most recent call last)",
      "\u001b[0;32m<ipython-input-26-7435a9eb61b5>\u001b[0m in \u001b[0;36m<module>\u001b[0;34m\u001b[0m\n\u001b[1;32m      1\u001b[0m \u001b[0mU3\u001b[0m \u001b[0;34m=\u001b[0m \u001b[0mInterp\u001b[0m\u001b[0;34m(\u001b[0m\u001b[0mX\u001b[0m\u001b[0;34m,\u001b[0m\u001b[0mu3\u001b[0m\u001b[0;34m(\u001b[0m\u001b[0mX\u001b[0m\u001b[0;34m)\u001b[0m\u001b[0;34m,\u001b[0m\u001b[0morder\u001b[0m\u001b[0;34m=\u001b[0m\u001b[0;36m3\u001b[0m\u001b[0;34m)\u001b[0m\u001b[0;34m\u001b[0m\u001b[0;34m\u001b[0m\u001b[0m\n\u001b[0;32m----> 2\u001b[0;31m \u001b[0;32massert\u001b[0m \u001b[0mnp\u001b[0m\u001b[0;34m.\u001b[0m\u001b[0mallclose\u001b[0m\u001b[0;34m(\u001b[0m\u001b[0mU3\u001b[0m\u001b[0;34m(\u001b[0m\u001b[0mX_\u001b[0m\u001b[0;34m)\u001b[0m\u001b[0;34m,\u001b[0m\u001b[0mu3\u001b[0m\u001b[0;34m(\u001b[0m\u001b[0mX_\u001b[0m\u001b[0;34m)\u001b[0m\u001b[0;34m)\u001b[0m\u001b[0;34m\u001b[0m\u001b[0;34m\u001b[0m\u001b[0m\n\u001b[0m",
      "\u001b[0;31mAssertionError\u001b[0m: "
     ]
    }
   ],
   "source": [
    "U3 = Interp(X,u3(X),order=3)\n",
    "assert np.allclose(U3(X_),u3(X_))"
   ]
  },
  {
   "cell_type": "code",
   "execution_count": null,
   "metadata": {},
   "outputs": [],
   "source": [
    "ad.Optimization.norm_infinity(U3(X)-u3(X))"
   ]
  },
  {
   "cell_type": "code",
   "execution_count": null,
   "metadata": {},
   "outputs": [],
   "source": [
    "ad.Optimization.norm_infinity(U3(X_))"
   ]
  },
  {
   "cell_type": "code",
   "execution_count": null,
   "metadata": {},
   "outputs": [],
   "source": [
    "U1 = Interp(X,u1(X),order=3)\n",
    "assert np.allclose(U1(X_),u1(X_))"
   ]
  },
  {
   "cell_type": "code",
   "execution_count": null,
   "metadata": {},
   "outputs": [],
   "source": []
  }
 ],
 "metadata": {
  "kernelspec": {
   "display_name": "Python 3",
   "language": "python",
   "name": "python3"
  },
  "language_info": {
   "codemirror_mode": {
    "name": "ipython",
    "version": 3
   },
   "file_extension": ".py",
   "mimetype": "text/x-python",
   "name": "python",
   "nbconvert_exporter": "python",
   "pygments_lexer": "ipython3",
   "version": "3.8.1"
  }
 },
 "nbformat": 4,
 "nbformat_minor": 2
}
