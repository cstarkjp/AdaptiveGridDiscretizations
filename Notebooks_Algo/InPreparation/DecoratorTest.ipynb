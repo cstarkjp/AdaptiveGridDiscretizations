{
 "cells": [
  {
   "cell_type": "code",
   "execution_count": 1,
   "metadata": {},
   "outputs": [],
   "source": [
    "import sys; sys.path.insert(0,\"../..\") # Allow import of agd from parent directory (useless if conda package installed)\n",
    "#from Miscellaneous import TocTools; print(TocTools.displayTOC('SensitivitySL','FMM'))"
   ]
  },
  {
   "cell_type": "code",
   "execution_count": 2,
   "metadata": {},
   "outputs": [],
   "source": [
    "from agd import AutomaticDifferentiation as ad\n",
    "from agd.HFMUtils.HFM_CUDA import nonzero_untidy"
   ]
  },
  {
   "cell_type": "code",
   "execution_count": 3,
   "metadata": {},
   "outputs": [],
   "source": [
    "import numpy as np\n",
    "import types\n",
    "import os"
   ]
  },
  {
   "cell_type": "code",
   "execution_count": 11,
   "metadata": {},
   "outputs": [
    {
     "name": "stdout",
     "output_type": "stream",
     "text": [
      "shape_i : [8 4]\n"
     ]
    },
    {
     "ename": "RuntimeError",
     "evalue": "No active exception to reraise",
     "output_type": "error",
     "traceback": [
      "\u001b[0;31m---------------------------------------------------------------------------\u001b[0m",
      "\u001b[0;31mRuntimeError\u001b[0m                              Traceback (most recent call last)",
      "\u001b[0;32m<ipython-input-11-e51a4b319332>\u001b[0m in \u001b[0;36m<module>\u001b[0;34m\u001b[0m\n\u001b[1;32m      1\u001b[0m \u001b[0marr\u001b[0m \u001b[0;34m=\u001b[0m \u001b[0mnp\u001b[0m\u001b[0;34m.\u001b[0m\u001b[0mzeros\u001b[0m\u001b[0;34m(\u001b[0m\u001b[0;34m(\u001b[0m\u001b[0;36m400\u001b[0m\u001b[0;34m,\u001b[0m\u001b[0;36m100\u001b[0m\u001b[0;34m)\u001b[0m\u001b[0;34m)\u001b[0m\u001b[0;34m\u001b[0m\u001b[0;34m\u001b[0m\u001b[0m\n\u001b[0;32m----> 2\u001b[0;31m \u001b[0mnonzero_untidy\u001b[0m\u001b[0;34m.\u001b[0m\u001b[0mnonzero\u001b[0m\u001b[0;34m(\u001b[0m\u001b[0marr\u001b[0m\u001b[0;34m,\u001b[0m\u001b[0mlog2_size_i\u001b[0m\u001b[0;34m=\u001b[0m\u001b[0;36m5\u001b[0m\u001b[0;34m)\u001b[0m\u001b[0;34m\u001b[0m\u001b[0;34m\u001b[0m\u001b[0m\n\u001b[0m",
      "\u001b[0;32m~/Dropbox/Programmes/Github/AdaptiveGridDiscretizations/agd/HFMUtils/HFM_CUDA/nonzero_untidy.py\u001b[0m in \u001b[0;36m__init__\u001b[0;34m(self, arr, shape_i, log2_size_i, size2_i, int_t)\u001b[0m\n\u001b[1;32m     36\u001b[0m \u001b[0;34m\u001b[0m\u001b[0m\n\u001b[1;32m     37\u001b[0m                 \u001b[0mprint\u001b[0m\u001b[0;34m(\u001b[0m\u001b[0;34mf\"shape_i : {self.shape_i}\"\u001b[0m\u001b[0;34m)\u001b[0m\u001b[0;34m\u001b[0m\u001b[0;34m\u001b[0m\u001b[0m\n\u001b[0;32m---> 38\u001b[0;31m                 \u001b[0;32mraise\u001b[0m\u001b[0;34m\u001b[0m\u001b[0;34m\u001b[0m\u001b[0m\n\u001b[0m\u001b[1;32m     39\u001b[0m \u001b[0;34m\u001b[0m\u001b[0m\n\u001b[1;32m     40\u001b[0m                 \u001b[0mxp\u001b[0m \u001b[0;34m=\u001b[0m \u001b[0mad\u001b[0m\u001b[0;34m.\u001b[0m\u001b[0mcupy_generic\u001b[0m\u001b[0;34m.\u001b[0m\u001b[0mget_array_module\u001b[0m\u001b[0;34m(\u001b[0m\u001b[0marr\u001b[0m\u001b[0;34m)\u001b[0m\u001b[0;34m\u001b[0m\u001b[0;34m\u001b[0m\u001b[0m\n",
      "\u001b[0;31mRuntimeError\u001b[0m: No active exception to reraise"
     ]
    }
   ],
   "source": [
    "arr = np.zeros((400,100))\n",
    "nonzero_untidy.nonzero(arr,log2_size_i=5)"
   ]
  },
  {
   "cell_type": "code",
   "execution_count": 14,
   "metadata": {},
   "outputs": [
    {
     "data": {
      "text/plain": [
       "2"
      ]
     },
     "execution_count": 14,
     "metadata": {},
     "output_type": "execute_result"
    }
   ],
   "source": [
    "def f(x): return x+1\n",
    "kwargs = {}\n",
    "f(1,**kwargs)"
   ]
  },
  {
   "cell_type": "code",
   "execution_count": 55,
   "metadata": {},
   "outputs": [
    {
     "data": {
      "text/plain": [
       "numpy.uint8"
      ]
     },
     "execution_count": 55,
     "metadata": {},
     "output_type": "execute_result"
    }
   ],
   "source": [
    "np.uint8"
   ]
  },
  {
   "cell_type": "code",
   "execution_count": 54,
   "metadata": {},
   "outputs": [
    {
     "data": {
      "text/plain": [
       "1584974616.876393"
      ]
     },
     "execution_count": 54,
     "metadata": {},
     "output_type": "execute_result"
    }
   ],
   "source": [
    "os.path.getmtime(\"dirtest/TODO_.txt\")"
   ]
  },
  {
   "cell_type": "code",
   "execution_count": 40,
   "metadata": {},
   "outputs": [
    {
     "data": {
      "text/plain": [
       "[array([0., 1., 2., 3., 4.], dtype=float32)]"
      ]
     },
     "execution_count": 40,
     "metadata": {},
     "output_type": "execute_result"
    }
   ],
   "source": [
    "np.meshgrid(np.arange(5,dtype=np.float32))"
   ]
  },
  {
   "cell_type": "code",
   "execution_count": 33,
   "metadata": {},
   "outputs": [
    {
     "data": {
      "text/plain": [
       "array([[[0, 0],\n",
       "        [1, 1]],\n",
       "\n",
       "       [[0, 1],\n",
       "        [0, 1]]])"
      ]
     },
     "execution_count": 33,
     "metadata": {},
     "output_type": "execute_result"
    }
   ],
   "source": [
    "shape=(2,2)\n",
    "np.mgrid.__getitem__((slice(2),slice(2)))"
   ]
  },
  {
   "cell_type": "code",
   "execution_count": 38,
   "metadata": {},
   "outputs": [
    {
     "data": {
      "text/plain": [
       "array([[[0, 0],\n",
       "        [1, 1]],\n",
       "\n",
       "       [[0, 1],\n",
       "        [0, 1]]])"
      ]
     },
     "execution_count": 38,
     "metadata": {},
     "output_type": "execute_result"
    }
   ],
   "source": [
    "np.mgrid.__getitem__(tuple(slice(s) for s in shape))"
   ]
  },
  {
   "cell_type": "code",
   "execution_count": null,
   "metadata": {},
   "outputs": [],
   "source": [
    "np.meshgrid("
   ]
  },
  {
   "cell_type": "code",
   "execution_count": 36,
   "metadata": {},
   "outputs": [
    {
     "data": {
      "text/plain": [
       "array([2, 1])"
      ]
     },
     "execution_count": 36,
     "metadata": {},
     "output_type": "execute_result"
    }
   ],
   "source": [
    "grid = np.mgrid[:100,:100]\n",
    "grid.nbytes\n",
    "grid[:,2,1]"
   ]
  },
  {
   "cell_type": "code",
   "execution_count": 22,
   "metadata": {},
   "outputs": [
    {
     "ename": "TypeError",
     "evalue": "_linspace_dispatcher() missing 1 required positional argument: 'stop'",
     "output_type": "error",
     "traceback": [
      "\u001b[0;31m---------------------------------------------------------------------------\u001b[0m",
      "\u001b[0;31mTypeError\u001b[0m                                 Traceback (most recent call last)",
      "\u001b[0;32m<ipython-input-22-059a7d5d53ca>\u001b[0m in \u001b[0;36m<module>\u001b[0;34m\u001b[0m\n\u001b[0;32m----> 1\u001b[0;31m \u001b[0mnp\u001b[0m\u001b[0;34m.\u001b[0m\u001b[0mlinspace\u001b[0m\u001b[0;34m(\u001b[0m\u001b[0;34m(\u001b[0m\u001b[0;36m10\u001b[0m\u001b[0;34m,\u001b[0m\u001b[0;36m10\u001b[0m\u001b[0;34m)\u001b[0m\u001b[0;34m)\u001b[0m\u001b[0;34m\u001b[0m\u001b[0;34m\u001b[0m\u001b[0m\n\u001b[0m",
      "\u001b[0;32m<__array_function__ internals>\u001b[0m in \u001b[0;36mlinspace\u001b[0;34m(*args, **kwargs)\u001b[0m\n",
      "\u001b[0;31mTypeError\u001b[0m: _linspace_dispatcher() missing 1 required positional argument: 'stop'"
     ]
    }
   ],
   "source": [
    "np.linspace((10,10))"
   ]
  },
  {
   "cell_type": "code",
   "execution_count": 4,
   "metadata": {},
   "outputs": [
    {
     "name": "stdout",
     "output_type": "stream",
     "text": [
      "<module 'numpy' from '/Users/mirebeau/opt/miniconda3/envs/agd-hfm_dev/lib/python3.8/site-packages/numpy/__init__.py'>\n"
     ]
    }
   ],
   "source": [
    "print(np)"
   ]
  },
  {
   "cell_type": "code",
   "execution_count": 12,
   "metadata": {},
   "outputs": [],
   "source": [
    "np2,dec = ad.cupy_generic.decorate_module_functions(np,ad.cupy_generic.set_output_dtype32,ret_decorated=True)"
   ]
  },
  {
   "cell_type": "code",
   "execution_count": 9,
   "metadata": {},
   "outputs": [
    {
     "data": {
      "text/plain": [
       "['show_config',\n",
       " 'nested_iters',\n",
       " 'arange',\n",
       " 'array',\n",
       " 'zeros',\n",
       " 'count_nonzero',\n",
       " 'empty',\n",
       " 'fromstring',\n",
       " 'fromfile',\n",
       " 'frombuffer',\n",
       " 'int_asbuffer',\n",
       " 'where',\n",
       " 'argwhere',\n",
       " 'copyto',\n",
       " 'concatenate',\n",
       " 'fastCopyAndTranspose',\n",
       " 'lexsort',\n",
       " 'set_numeric_ops',\n",
       " 'can_cast',\n",
       " 'promote_types',\n",
       " 'min_scalar_type',\n",
       " 'result_type',\n",
       " 'isfortran',\n",
       " 'empty_like',\n",
       " 'zeros_like',\n",
       " 'ones_like',\n",
       " 'correlate',\n",
       " 'convolve',\n",
       " 'inner',\n",
       " 'dot',\n",
       " 'outer',\n",
       " 'vdot',\n",
       " 'roll',\n",
       " 'rollaxis',\n",
       " 'moveaxis',\n",
       " 'cross',\n",
       " 'tensordot',\n",
       " 'fromiter',\n",
       " 'array_equal',\n",
       " 'array_equiv',\n",
       " 'indices',\n",
       " 'fromfunction',\n",
       " 'isclose',\n",
       " 'load',\n",
       " 'loads',\n",
       " 'isscalar',\n",
       " 'binary_repr',\n",
       " 'base_repr',\n",
       " 'ones',\n",
       " 'identity',\n",
       " 'allclose',\n",
       " 'compare_chararrays',\n",
       " 'putmask',\n",
       " 'flatnonzero',\n",
       " 'full',\n",
       " 'full_like',\n",
       " 'shares_memory',\n",
       " 'may_share_memory',\n",
       " 'alen',\n",
       " 'all',\n",
       " 'alltrue',\n",
       " 'amax',\n",
       " 'amin',\n",
       " 'any',\n",
       " 'argmax',\n",
       " 'argmin',\n",
       " 'argpartition',\n",
       " 'argsort',\n",
       " 'around',\n",
       " 'choose',\n",
       " 'clip',\n",
       " 'compress',\n",
       " 'cumprod',\n",
       " 'cumproduct',\n",
       " 'cumsum',\n",
       " 'diagonal',\n",
       " 'mean',\n",
       " 'ndim',\n",
       " 'nonzero',\n",
       " 'partition',\n",
       " 'prod',\n",
       " 'product',\n",
       " 'ptp',\n",
       " 'put',\n",
       " 'rank',\n",
       " 'ravel',\n",
       " 'repeat',\n",
       " 'reshape',\n",
       " 'resize',\n",
       " 'round_',\n",
       " 'searchsorted',\n",
       " 'shape',\n",
       " 'size',\n",
       " 'sometrue',\n",
       " 'sort',\n",
       " 'squeeze',\n",
       " 'std',\n",
       " 'sum',\n",
       " 'swapaxes',\n",
       " 'take',\n",
       " 'trace',\n",
       " 'transpose',\n",
       " 'var',\n",
       " '_add_newdoc_ufunc',\n",
       " 'frompyfunc',\n",
       " 'geterrobj',\n",
       " 'seterrobj',\n",
       " 'obj2sctype',\n",
       " 'sctype2char',\n",
       " 'maximum_sctype',\n",
       " 'issctype',\n",
       " 'find_common_type',\n",
       " 'issubdtype',\n",
       " 'datetime_data',\n",
       " 'datetime_as_string',\n",
       " 'busday_offset',\n",
       " 'busday_count',\n",
       " 'is_busday',\n",
       " 'array2string',\n",
       " 'array_str',\n",
       " 'array_repr',\n",
       " 'set_string_function',\n",
       " 'set_printoptions',\n",
       " 'get_printoptions',\n",
       " 'printoptions',\n",
       " 'format_float_positional',\n",
       " 'format_float_scientific',\n",
       " 'asarray',\n",
       " 'asanyarray',\n",
       " 'ascontiguousarray',\n",
       " 'asfortranarray',\n",
       " 'require',\n",
       " 'seterr',\n",
       " 'geterr',\n",
       " 'setbufsize',\n",
       " 'getbufsize',\n",
       " 'seterrcall',\n",
       " 'geterrcall',\n",
       " 'logspace',\n",
       " 'linspace',\n",
       " 'geomspace',\n",
       " 'atleast_1d',\n",
       " 'atleast_2d',\n",
       " 'atleast_3d',\n",
       " 'block',\n",
       " 'hstack',\n",
       " 'stack',\n",
       " 'vstack',\n",
       " 'einsum',\n",
       " 'einsum_path',\n",
       " 'iscomplexobj',\n",
       " 'isrealobj',\n",
       " 'imag',\n",
       " 'iscomplex',\n",
       " 'isreal',\n",
       " 'nan_to_num',\n",
       " 'real',\n",
       " 'real_if_close',\n",
       " 'typename',\n",
       " 'asfarray',\n",
       " 'mintypecode',\n",
       " 'asscalar',\n",
       " 'common_type',\n",
       " 'ravel_multi_index',\n",
       " 'unravel_index',\n",
       " 'ix_',\n",
       " 'fill_diagonal',\n",
       " 'diag_indices',\n",
       " 'diag_indices_from',\n",
       " 'select',\n",
       " 'piecewise',\n",
       " 'trim_zeros',\n",
       " 'copy',\n",
       " 'iterable',\n",
       " 'percentile',\n",
       " 'diff',\n",
       " 'gradient',\n",
       " 'angle',\n",
       " 'unwrap',\n",
       " 'sort_complex',\n",
       " 'disp',\n",
       " 'flip',\n",
       " 'rot90',\n",
       " 'extract',\n",
       " 'place',\n",
       " 'asarray_chkfinite',\n",
       " 'average',\n",
       " 'bincount',\n",
       " 'digitize',\n",
       " 'cov',\n",
       " 'corrcoef',\n",
       " 'msort',\n",
       " 'median',\n",
       " 'sinc',\n",
       " 'hamming',\n",
       " 'hanning',\n",
       " 'bartlett',\n",
       " 'blackman',\n",
       " 'kaiser',\n",
       " 'trapz',\n",
       " 'i0',\n",
       " 'add_newdoc',\n",
       " 'add_docstring',\n",
       " 'meshgrid',\n",
       " 'delete',\n",
       " 'insert',\n",
       " 'append',\n",
       " 'interp',\n",
       " 'add_newdoc_ufunc',\n",
       " 'quantile',\n",
       " 'column_stack',\n",
       " 'row_stack',\n",
       " 'dstack',\n",
       " 'array_split',\n",
       " 'split',\n",
       " 'hsplit',\n",
       " 'vsplit',\n",
       " 'dsplit',\n",
       " 'apply_over_axes',\n",
       " 'expand_dims',\n",
       " 'apply_along_axis',\n",
       " 'kron',\n",
       " 'tile',\n",
       " 'get_array_wrap',\n",
       " 'take_along_axis',\n",
       " 'put_along_axis',\n",
       " 'broadcast_to',\n",
       " 'broadcast_arrays',\n",
       " 'diag',\n",
       " 'diagflat',\n",
       " 'eye',\n",
       " 'fliplr',\n",
       " 'flipud',\n",
       " 'tri',\n",
       " 'triu',\n",
       " 'tril',\n",
       " 'vander',\n",
       " 'histogram2d',\n",
       " 'mask_indices',\n",
       " 'tril_indices',\n",
       " 'tril_indices_from',\n",
       " 'triu_indices',\n",
       " 'triu_indices_from',\n",
       " 'fix',\n",
       " 'isneginf',\n",
       " 'isposinf',\n",
       " 'pad',\n",
       " 'poly',\n",
       " 'roots',\n",
       " 'polyint',\n",
       " 'polyder',\n",
       " 'polyadd',\n",
       " 'polysub',\n",
       " 'polymul',\n",
       " 'polydiv',\n",
       " 'polyval',\n",
       " 'polyfit',\n",
       " 'issubclass_',\n",
       " 'issubsctype',\n",
       " 'deprecate',\n",
       " 'deprecate_with_doc',\n",
       " 'get_include',\n",
       " 'info',\n",
       " 'source',\n",
       " 'who',\n",
       " 'lookfor',\n",
       " 'byte_bounds',\n",
       " 'safe_eval',\n",
       " 'ediff1d',\n",
       " 'intersect1d',\n",
       " 'setxor1d',\n",
       " 'union1d',\n",
       " 'setdiff1d',\n",
       " 'unique',\n",
       " 'in1d',\n",
       " 'isin',\n",
       " 'savetxt',\n",
       " 'loadtxt',\n",
       " 'genfromtxt',\n",
       " 'ndfromtxt',\n",
       " 'mafromtxt',\n",
       " 'recfromtxt',\n",
       " 'recfromcsv',\n",
       " 'save',\n",
       " 'savez',\n",
       " 'savez_compressed',\n",
       " 'packbits',\n",
       " 'unpackbits',\n",
       " 'fromregex',\n",
       " 'fv',\n",
       " 'pmt',\n",
       " 'nper',\n",
       " 'ipmt',\n",
       " 'ppmt',\n",
       " 'pv',\n",
       " 'rate',\n",
       " 'irr',\n",
       " 'npv',\n",
       " 'mirr',\n",
       " 'nansum',\n",
       " 'nanmax',\n",
       " 'nanmin',\n",
       " 'nanargmax',\n",
       " 'nanargmin',\n",
       " 'nanmean',\n",
       " 'nanmedian',\n",
       " 'nanpercentile',\n",
       " 'nanvar',\n",
       " 'nanstd',\n",
       " 'nanprod',\n",
       " 'nancumsum',\n",
       " 'nancumprod',\n",
       " 'nanquantile',\n",
       " 'histogram',\n",
       " 'histogramdd',\n",
       " 'histogram_bin_edges',\n",
       " 'bmat',\n",
       " 'mat',\n",
       " 'asmatrix',\n",
       " 'round',\n",
       " 'max',\n",
       " 'min']"
      ]
     },
     "execution_count": 9,
     "metadata": {},
     "output_type": "execute_result"
    }
   ],
   "source": [
    "dec"
   ]
  },
  {
   "cell_type": "code",
   "execution_count": 13,
   "metadata": {},
   "outputs": [
    {
     "data": {
      "text/plain": [
       "array([0., 1., 2., 3., 4., 5., 6., 7., 8., 9.], dtype=float32)"
      ]
     },
     "execution_count": 13,
     "metadata": {},
     "output_type": "execute_result"
    }
   ],
   "source": [
    "np2.arange(10.)"
   ]
  },
  {
   "cell_type": "code",
   "execution_count": 19,
   "metadata": {},
   "outputs": [
    {
     "data": {
      "text/plain": [
       "array([ 0.,  1.,  2.,  3.,  4.,  5.,  6.,  7.,  8.,  9., 10.],\n",
       "      dtype=float32)"
      ]
     },
     "execution_count": 19,
     "metadata": {},
     "output_type": "execute_result"
    }
   ],
   "source": [
    "np2.arange(11.)"
   ]
  },
  {
   "cell_type": "code",
   "execution_count": 5,
   "metadata": {},
   "outputs": [
    {
     "data": {
      "text/plain": [
       "False"
      ]
     },
     "execution_count": 5,
     "metadata": {},
     "output_type": "execute_result"
    }
   ],
   "source": [
    "isinstance(np.__dict__['arange'],types.FunctionType)"
   ]
  },
  {
   "cell_type": "code",
   "execution_count": 6,
   "metadata": {},
   "outputs": [
    {
     "data": {
      "text/plain": [
       "True"
      ]
     },
     "execution_count": 6,
     "metadata": {},
     "output_type": "execute_result"
    }
   ],
   "source": [
    "isinstance(np.meshgrid,types.FunctionType)"
   ]
  },
  {
   "cell_type": "code",
   "execution_count": 7,
   "metadata": {},
   "outputs": [
    {
     "data": {
      "text/plain": [
       "\"<class 'builtin_function_or_method'>\""
      ]
     },
     "execution_count": 7,
     "metadata": {},
     "output_type": "execute_result"
    }
   ],
   "source": [
    "str(type(np.arange))"
   ]
  },
  {
   "cell_type": "code",
   "execution_count": 8,
   "metadata": {},
   "outputs": [
    {
     "data": {
      "text/plain": [
       "True"
      ]
     },
     "execution_count": 8,
     "metadata": {},
     "output_type": "execute_result"
    }
   ],
   "source": [
    "isinstance(np.arange,types.BuiltinMethodType)"
   ]
  },
  {
   "cell_type": "code",
   "execution_count": 9,
   "metadata": {},
   "outputs": [
    {
     "data": {
      "text/plain": [
       "['AsyncGeneratorType',\n",
       " 'BuiltinFunctionType',\n",
       " 'BuiltinMethodType',\n",
       " 'CellType',\n",
       " 'ClassMethodDescriptorType',\n",
       " 'CodeType',\n",
       " 'CoroutineType',\n",
       " 'DynamicClassAttribute',\n",
       " 'FrameType',\n",
       " 'FunctionType',\n",
       " 'GeneratorType',\n",
       " 'GetSetDescriptorType',\n",
       " 'LambdaType',\n",
       " 'MappingProxyType',\n",
       " 'MemberDescriptorType',\n",
       " 'MethodDescriptorType',\n",
       " 'MethodType',\n",
       " 'MethodWrapperType',\n",
       " 'ModuleType',\n",
       " 'SimpleNamespace',\n",
       " 'TracebackType',\n",
       " 'WrapperDescriptorType',\n",
       " '_GeneratorWrapper',\n",
       " '__all__',\n",
       " '__builtins__',\n",
       " '__cached__',\n",
       " '__doc__',\n",
       " '__file__',\n",
       " '__loader__',\n",
       " '__name__',\n",
       " '__package__',\n",
       " '__spec__',\n",
       " '_calculate_meta',\n",
       " '_cell_factory',\n",
       " 'coroutine',\n",
       " 'new_class',\n",
       " 'prepare_class',\n",
       " 'resolve_bases']"
      ]
     },
     "execution_count": 9,
     "metadata": {},
     "output_type": "execute_result"
    }
   ],
   "source": [
    "dir(types)"
   ]
  },
  {
   "cell_type": "code",
   "execution_count": 10,
   "metadata": {},
   "outputs": [
    {
     "ename": "NameError",
     "evalue": "name 'builtin_function_or_method' is not defined",
     "output_type": "error",
     "traceback": [
      "\u001b[0;31m---------------------------------------------------------------------------\u001b[0m",
      "\u001b[0;31mNameError\u001b[0m                                 Traceback (most recent call last)",
      "\u001b[0;32m<ipython-input-10-5cc14fa6cc8d>\u001b[0m in \u001b[0;36m<module>\u001b[0;34m\u001b[0m\n\u001b[0;32m----> 1\u001b[0;31m \u001b[0mbuiltin_function_or_method\u001b[0m\u001b[0;34m\u001b[0m\u001b[0;34m\u001b[0m\u001b[0m\n\u001b[0m",
      "\u001b[0;31mNameError\u001b[0m: name 'builtin_function_or_method' is not defined"
     ]
    }
   ],
   "source": [
    "builtin_function_or_method"
   ]
  },
  {
   "cell_type": "code",
   "execution_count": 11,
   "metadata": {},
   "outputs": [
    {
     "data": {
      "text/plain": [
       "function"
      ]
     },
     "execution_count": 11,
     "metadata": {},
     "output_type": "execute_result"
    }
   ],
   "source": [
    "type(np.linspace)"
   ]
  },
  {
   "cell_type": "code",
   "execution_count": 12,
   "metadata": {},
   "outputs": [
    {
     "data": {
      "text/plain": [
       "type"
      ]
     },
     "execution_count": 12,
     "metadata": {},
     "output_type": "execute_result"
    }
   ],
   "source": [
    "type(np.ndarray)"
   ]
  },
  {
   "cell_type": "code",
   "execution_count": 13,
   "metadata": {},
   "outputs": [
    {
     "data": {
      "text/plain": [
       "True"
      ]
     },
     "execution_count": 13,
     "metadata": {},
     "output_type": "execute_result"
    }
   ],
   "source": [
    "callable(np.ndarray)"
   ]
  },
  {
   "cell_type": "code",
   "execution_count": 14,
   "metadata": {},
   "outputs": [
    {
     "name": "stdout",
     "output_type": "stream",
     "text": [
      "decorating show_config\n",
      "decorating nested_iters\n",
      "decorating arange\n",
      "decorating array\n",
      "decorating zeros\n",
      "decorating count_nonzero\n",
      "decorating empty\n",
      "decorating fromstring\n",
      "decorating fromfile\n",
      "decorating frombuffer\n",
      "decorating int_asbuffer\n",
      "decorating where\n",
      "decorating argwhere\n",
      "decorating copyto\n",
      "decorating concatenate\n",
      "decorating fastCopyAndTranspose\n",
      "decorating lexsort\n",
      "decorating set_numeric_ops\n",
      "decorating can_cast\n",
      "decorating promote_types\n",
      "decorating min_scalar_type\n",
      "decorating result_type\n",
      "decorating isfortran\n",
      "decorating empty_like\n",
      "decorating zeros_like\n",
      "decorating ones_like\n",
      "decorating correlate\n",
      "decorating convolve\n",
      "decorating inner\n",
      "decorating dot\n",
      "decorating outer\n",
      "decorating vdot\n",
      "decorating roll\n",
      "decorating rollaxis\n",
      "decorating moveaxis\n",
      "decorating cross\n",
      "decorating tensordot\n",
      "decorating fromiter\n",
      "decorating array_equal\n",
      "decorating array_equiv\n",
      "decorating indices\n",
      "decorating fromfunction\n",
      "decorating isclose\n",
      "decorating load\n",
      "decorating loads\n",
      "decorating isscalar\n",
      "decorating binary_repr\n",
      "decorating base_repr\n",
      "decorating ones\n",
      "decorating identity\n",
      "decorating allclose\n",
      "decorating compare_chararrays\n",
      "decorating putmask\n",
      "decorating flatnonzero\n",
      "decorating full\n",
      "decorating full_like\n",
      "decorating shares_memory\n",
      "decorating may_share_memory\n",
      "decorating alen\n",
      "decorating all\n",
      "decorating alltrue\n",
      "decorating amax\n",
      "decorating amin\n",
      "decorating any\n",
      "decorating argmax\n",
      "decorating argmin\n",
      "decorating argpartition\n",
      "decorating argsort\n",
      "decorating around\n",
      "decorating choose\n",
      "decorating clip\n",
      "decorating compress\n",
      "decorating cumprod\n",
      "decorating cumproduct\n",
      "decorating cumsum\n",
      "decorating diagonal\n",
      "decorating mean\n",
      "decorating ndim\n",
      "decorating nonzero\n",
      "decorating partition\n",
      "decorating prod\n",
      "decorating product\n",
      "decorating ptp\n",
      "decorating put\n",
      "decorating rank\n",
      "decorating ravel\n",
      "decorating repeat\n",
      "decorating reshape\n",
      "decorating resize\n",
      "decorating round_\n",
      "decorating searchsorted\n",
      "decorating shape\n",
      "decorating size\n",
      "decorating sometrue\n",
      "decorating sort\n",
      "decorating squeeze\n",
      "decorating std\n",
      "decorating sum\n",
      "decorating swapaxes\n",
      "decorating take\n",
      "decorating trace\n",
      "decorating transpose\n",
      "decorating var\n",
      "decorating _add_newdoc_ufunc\n",
      "decorating frompyfunc\n",
      "decorating geterrobj\n",
      "decorating seterrobj\n",
      "decorating obj2sctype\n",
      "decorating sctype2char\n",
      "decorating maximum_sctype\n",
      "decorating issctype\n",
      "decorating find_common_type\n",
      "decorating issubdtype\n",
      "decorating datetime_data\n",
      "decorating datetime_as_string\n",
      "decorating busday_offset\n",
      "decorating busday_count\n",
      "decorating is_busday\n",
      "decorating array2string\n",
      "decorating array_str\n",
      "decorating array_repr\n",
      "decorating set_string_function\n",
      "decorating set_printoptions\n",
      "decorating get_printoptions\n",
      "decorating printoptions\n",
      "decorating format_float_positional\n",
      "decorating format_float_scientific\n",
      "decorating asarray\n",
      "decorating asanyarray\n",
      "decorating ascontiguousarray\n",
      "decorating asfortranarray\n",
      "decorating require\n",
      "decorating seterr\n",
      "decorating geterr\n",
      "decorating setbufsize\n",
      "decorating getbufsize\n",
      "decorating seterrcall\n",
      "decorating geterrcall\n",
      "decorating logspace\n",
      "decorating linspace\n",
      "decorating geomspace\n",
      "decorating atleast_1d\n",
      "decorating atleast_2d\n",
      "decorating atleast_3d\n",
      "decorating block\n",
      "decorating hstack\n",
      "decorating stack\n",
      "decorating vstack\n",
      "decorating einsum\n",
      "decorating einsum_path\n",
      "decorating iscomplexobj\n",
      "decorating isrealobj\n",
      "decorating imag\n",
      "decorating iscomplex\n",
      "decorating isreal\n",
      "decorating nan_to_num\n",
      "decorating real\n",
      "decorating real_if_close\n",
      "decorating typename\n",
      "decorating asfarray\n",
      "decorating mintypecode\n",
      "decorating asscalar\n",
      "decorating common_type\n",
      "decorating ravel_multi_index\n",
      "decorating unravel_index\n",
      "decorating ix_\n",
      "decorating fill_diagonal\n",
      "decorating diag_indices\n",
      "decorating diag_indices_from\n",
      "decorating select\n",
      "decorating piecewise\n",
      "decorating trim_zeros\n",
      "decorating copy\n",
      "decorating iterable\n",
      "decorating percentile\n",
      "decorating diff\n",
      "decorating gradient\n",
      "decorating angle\n",
      "decorating unwrap\n",
      "decorating sort_complex\n",
      "decorating disp\n",
      "decorating flip\n",
      "decorating rot90\n",
      "decorating extract\n",
      "decorating place\n",
      "decorating asarray_chkfinite\n",
      "decorating average\n",
      "decorating bincount\n",
      "decorating digitize\n",
      "decorating cov\n",
      "decorating corrcoef\n",
      "decorating msort\n",
      "decorating median\n",
      "decorating sinc\n",
      "decorating hamming\n",
      "decorating hanning\n",
      "decorating bartlett\n",
      "decorating blackman\n",
      "decorating kaiser\n",
      "decorating trapz\n",
      "decorating i0\n",
      "decorating add_newdoc\n",
      "decorating add_docstring\n",
      "decorating meshgrid\n",
      "decorating delete\n",
      "decorating insert\n",
      "decorating append\n",
      "decorating interp\n",
      "decorating add_newdoc_ufunc\n",
      "decorating quantile\n",
      "decorating column_stack\n",
      "decorating row_stack\n",
      "decorating dstack\n",
      "decorating array_split\n",
      "decorating split\n",
      "decorating hsplit\n",
      "decorating vsplit\n",
      "decorating dsplit\n",
      "decorating apply_over_axes\n",
      "decorating expand_dims\n",
      "decorating apply_along_axis\n",
      "decorating kron\n",
      "decorating tile\n",
      "decorating get_array_wrap\n",
      "decorating take_along_axis\n",
      "decorating put_along_axis\n",
      "decorating broadcast_to\n",
      "decorating broadcast_arrays\n",
      "decorating diag\n",
      "decorating diagflat\n",
      "decorating eye\n",
      "decorating fliplr\n",
      "decorating flipud\n",
      "decorating tri\n",
      "decorating triu\n",
      "decorating tril\n",
      "decorating vander\n",
      "decorating histogram2d\n",
      "decorating mask_indices\n",
      "decorating tril_indices\n",
      "decorating tril_indices_from\n",
      "decorating triu_indices\n",
      "decorating triu_indices_from\n",
      "decorating fix\n",
      "decorating isneginf\n",
      "decorating isposinf\n",
      "decorating pad\n",
      "decorating poly\n",
      "decorating roots\n",
      "decorating polyint\n",
      "decorating polyder\n",
      "decorating polyadd\n",
      "decorating polysub\n",
      "decorating polymul\n",
      "decorating polydiv\n",
      "decorating polyval\n",
      "decorating polyfit\n",
      "decorating issubclass_\n",
      "decorating issubsctype\n",
      "decorating deprecate\n",
      "decorating deprecate_with_doc\n",
      "decorating get_include\n",
      "decorating info\n",
      "decorating source\n",
      "decorating who\n",
      "decorating lookfor\n",
      "decorating byte_bounds\n",
      "decorating safe_eval\n",
      "decorating ediff1d\n",
      "decorating intersect1d\n",
      "decorating setxor1d\n",
      "decorating union1d\n",
      "decorating setdiff1d\n",
      "decorating unique\n",
      "decorating in1d\n",
      "decorating isin\n",
      "decorating savetxt\n",
      "decorating loadtxt\n",
      "decorating genfromtxt\n",
      "decorating ndfromtxt\n",
      "decorating mafromtxt\n",
      "decorating recfromtxt\n",
      "decorating recfromcsv\n",
      "decorating save\n",
      "decorating savez\n",
      "decorating savez_compressed\n",
      "decorating packbits\n",
      "decorating unpackbits\n",
      "decorating fromregex\n",
      "decorating fv\n",
      "decorating pmt\n",
      "decorating nper\n",
      "decorating ipmt\n",
      "decorating ppmt\n",
      "decorating pv\n",
      "decorating rate\n",
      "decorating irr\n",
      "decorating npv\n",
      "decorating mirr\n",
      "decorating nansum\n",
      "decorating nanmax\n",
      "decorating nanmin\n",
      "decorating nanargmax\n",
      "decorating nanargmin\n",
      "decorating nanmean\n",
      "decorating nanmedian\n",
      "decorating nanpercentile\n",
      "decorating nanvar\n",
      "decorating nanstd\n",
      "decorating nanprod\n",
      "decorating nancumsum\n",
      "decorating nancumprod\n",
      "decorating nanquantile\n",
      "decorating histogram\n",
      "decorating histogramdd\n",
      "decorating histogram_bin_edges\n",
      "decorating bmat\n",
      "decorating mat\n",
      "decorating asmatrix\n",
      "decorating round\n",
      "decorating max\n",
      "decorating min\n"
     ]
    }
   ],
   "source": [
    "np2 = ad.cupy_generic.decorate_module_functions(np,ad.cupy_generic.set_output_dtype32)"
   ]
  },
  {
   "cell_type": "code",
   "execution_count": 12,
   "metadata": {},
   "outputs": [],
   "source": [
    "#import types\n",
    "#isinstance(np.,types.FunctionType)"
   ]
  },
  {
   "cell_type": "code",
   "execution_count": 15,
   "metadata": {},
   "outputs": [
    {
     "data": {
      "text/plain": [
       "function"
      ]
     },
     "execution_count": 15,
     "metadata": {},
     "output_type": "execute_result"
    }
   ],
   "source": [
    "type(np.arange)"
   ]
  },
  {
   "cell_type": "code",
   "execution_count": 18,
   "metadata": {},
   "outputs": [
    {
     "name": "stdout",
     "output_type": "stream",
     "text": [
      "Casting output of function arange from int64 to int32\n"
     ]
    },
    {
     "data": {
      "text/plain": [
       "array([0, 1, 2, 3, 4, 5, 6, 7, 8, 9], dtype=int32)"
      ]
     },
     "execution_count": 18,
     "metadata": {},
     "output_type": "execute_result"
    }
   ],
   "source": [
    "np.arange(10)"
   ]
  },
  {
   "cell_type": "code",
   "execution_count": 7,
   "metadata": {},
   "outputs": [],
   "source": [
    "@ad.cupy_generic.set_output_dtype32(silent=True)\n",
    "def f(arr): \n",
    "    \"\"\"function f\"\"\"\n",
    "    return arr+1\n",
    "\n",
    "@ad.cupy_generic.set_output_dtype32\n",
    "def g(arr):\n",
    "    \"\"\"function g\"\"\"\n",
    "    return arr*2"
   ]
  },
  {
   "cell_type": "code",
   "execution_count": 8,
   "metadata": {},
   "outputs": [],
   "source": [
    "fdec = ad.cupy_generic.set_output_dtype32(f)"
   ]
  },
  {
   "cell_type": "code",
   "execution_count": 9,
   "metadata": {},
   "outputs": [
    {
     "name": "stdout",
     "output_type": "stream",
     "text": [
      "Help on function f in module __main__:\n",
      "\n",
      "f(arr)\n",
      "    function f\n",
      "\n"
     ]
    }
   ],
   "source": [
    "help(fdec)"
   ]
  },
  {
   "cell_type": "code",
   "execution_count": 10,
   "metadata": {},
   "outputs": [],
   "source": [
    "x = np.arange(10.)"
   ]
  },
  {
   "cell_type": "code",
   "execution_count": 11,
   "metadata": {},
   "outputs": [
    {
     "name": "stdout",
     "output_type": "stream",
     "text": [
      "Casting output of function g from float64 to float32\n"
     ]
    },
    {
     "data": {
      "text/plain": [
       "dtype('float32')"
      ]
     },
     "execution_count": 11,
     "metadata": {},
     "output_type": "execute_result"
    }
   ],
   "source": [
    "g(x).dtype"
   ]
  },
  {
   "cell_type": "code",
   "execution_count": 12,
   "metadata": {},
   "outputs": [
    {
     "data": {
      "text/plain": [
       "dtype('float32')"
      ]
     },
     "execution_count": 12,
     "metadata": {},
     "output_type": "execute_result"
    }
   ],
   "source": [
    "fdec(x).dtype"
   ]
  },
  {
   "cell_type": "code",
   "execution_count": 13,
   "metadata": {},
   "outputs": [
    {
     "data": {
      "text/plain": [
       "numpy.float64"
      ]
     },
     "execution_count": 13,
     "metadata": {},
     "output_type": "execute_result"
    }
   ],
   "source": [
    "type(x[0])"
   ]
  },
  {
   "cell_type": "code",
   "execution_count": 14,
   "metadata": {},
   "outputs": [
    {
     "data": {
      "text/plain": [
       "numpy.int64"
      ]
     },
     "execution_count": 14,
     "metadata": {},
     "output_type": "execute_result"
    }
   ],
   "source": [
    "np.int64"
   ]
  },
  {
   "cell_type": "code",
   "execution_count": 15,
   "metadata": {},
   "outputs": [
    {
     "data": {
      "text/plain": [
       "numpy.int64"
      ]
     },
     "execution_count": 15,
     "metadata": {},
     "output_type": "execute_result"
    }
   ],
   "source": [
    "np.dtype('int64').type"
   ]
  },
  {
   "cell_type": "code",
   "execution_count": 16,
   "metadata": {},
   "outputs": [
    {
     "data": {
      "text/plain": [
       "dtype('int64')"
      ]
     },
     "execution_count": 16,
     "metadata": {},
     "output_type": "execute_result"
    }
   ],
   "source": [
    "np.dtype(np.int64)"
   ]
  },
  {
   "cell_type": "code",
   "execution_count": 17,
   "metadata": {},
   "outputs": [
    {
     "data": {
      "text/plain": [
       "False"
      ]
     },
     "execution_count": 17,
     "metadata": {},
     "output_type": "execute_result"
    }
   ],
   "source": [
    "np.int64==np.float64"
   ]
  },
  {
   "cell_type": "code",
   "execution_count": null,
   "metadata": {},
   "outputs": [],
   "source": []
  }
 ],
 "metadata": {
  "kernelspec": {
   "display_name": "Python 3",
   "language": "python",
   "name": "python3"
  },
  "language_info": {
   "codemirror_mode": {
    "name": "ipython",
    "version": 3
   },
   "file_extension": ".py",
   "mimetype": "text/x-python",
   "name": "python",
   "nbconvert_exporter": "python",
   "pygments_lexer": "ipython3",
   "version": "3.8.1"
  }
 },
 "nbformat": 4,
 "nbformat_minor": 4
}
