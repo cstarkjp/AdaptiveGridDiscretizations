{
 "cells": [
  {
   "cell_type": "code",
   "execution_count": 1,
   "metadata": {},
   "outputs": [],
   "source": [
    "import numpy as np"
   ]
  },
  {
   "cell_type": "code",
   "execution_count": 47,
   "metadata": {},
   "outputs": [],
   "source": [
    "def wasserstein(a,b):\n",
    "    \"\"\"Return the L2 wasserstein distance between 1D measures equidistributed at the given points\"\"\"\n",
    "    a,b = np.sort(np.repeat(a,len(b))), np.sort(np.repeat(b,len(a)))\n",
    "    return ((a-b)**2).sum()/len(a)\n",
    "\n",
    "def nextpoint(a,n):\n",
    "    \"\"\"Choose the next point to insert in a which makes it closest to range(n) in wasserstein distance\"\"\"\n",
    "    return np.argmin(list(wasserstein(a+[i],range(n)) if i not in a else np.inf for i in range(n)))\n",
    "\n",
    "def eqseq(n):\n",
    "    \"\"\"Greedy ordering to approximate range(n) as well as possible as quickly as possible\"\"\"\n",
    "    a=[]\n",
    "    for i in range(n): \n",
    "        a = a+[nextpoint(a,n)]\n",
    "    return a\n",
    "\n",
    "def display(l):\n",
    "    n=len(l)\n",
    "    print(f\"template<> int eqseq<{n}>[{n}] = {{{','.join(map(str,l))}}};\")"
   ]
  },
  {
   "cell_type": "code",
   "execution_count": 48,
   "metadata": {},
   "outputs": [
    {
     "name": "stdout",
     "output_type": "stream",
     "text": [
      "template<> int eqseq<2>[2] = {0,1};\n",
      "template<> int eqseq<3>[3] = {1,0,2};\n",
      "template<> int eqseq<4>[4] = {1,2,0,3};\n",
      "template<> int eqseq<5>[5] = {2,1,4,0,3};\n",
      "template<> int eqseq<6>[6] = {2,4,0,3,5,1};\n",
      "template<> int eqseq<7>[7] = {3,1,5,2,6,0,4};\n",
      "template<> int eqseq<8>[8] = {3,5,1,6,2,4,0,7};\n",
      "template<> int eqseq<9>[9] = {4,2,7,1,6,3,8,0,5};\n",
      "template<> int eqseq<10>[10] = {4,7,1,6,2,9,3,5,0,8};\n",
      "template<> int eqseq<11>[11] = {5,2,9,4,7,0,8,3,10,1,6};\n",
      "template<> int eqseq<12>[12] = {5,8,1,10,3,6,2,9,4,11,0,7};\n",
      "template<> int eqseq<13>[13] = {6,3,10,1,9,5,12,2,7,4,11,0,8};\n",
      "template<> int eqseq<14>[14] = {6,10,2,8,4,12,0,9,5,13,3,7,1,11};\n",
      "template<> int eqseq<15>[15] = {7,3,12,5,10,1,13,6,9,0,11,4,14,2,8};\n",
      "template<> int eqseq<16>[16] = {7,11,2,13,4,9,1,14,6,10,3,12,5,8,0,15};\n",
      "template<> int eqseq<17>[17] = {8,4,14,2,11,7,15,1,10,5,13,3,12,6,16,0,9};\n",
      "template<> int eqseq<18>[18] = {8,13,2,11,5,16,3,10,6,15,0,12,7,17,1,9,14,4};\n",
      "template<> int eqseq<19>[19] = {9,4,15,7,13,1,17,5,11,2,16,8,12,3,14,6,18,0,10};\n"
     ]
    }
   ],
   "source": [
    "for i in range(2,20):\n",
    "    display(eqseq(i))"
   ]
  },
  {
   "cell_type": "code",
   "execution_count": 31,
   "metadata": {},
   "outputs": [
    {
     "data": {
      "text/plain": [
       "'1,2,3'"
      ]
     },
     "execution_count": 31,
     "metadata": {},
     "output_type": "execute_result"
    }
   ],
   "source": [
    "','.join(map(str,[1,2,3]))"
   ]
  },
  {
   "cell_type": "code",
   "execution_count": 24,
   "metadata": {},
   "outputs": [],
   "source": []
  },
  {
   "cell_type": "code",
   "execution_count": 29,
   "metadata": {},
   "outputs": [
    {
     "data": {
      "text/plain": [
       "[[0, 1],\n",
       " [1, 0, 2],\n",
       " [1, 2, 0, 3],\n",
       " [2, 1, 4, 0, 3],\n",
       " [2, 4, 0, 3, 5, 1],\n",
       " [3, 1, 5, 2, 6, 0, 4],\n",
       " [3, 5, 1, 6, 2, 4, 0, 7],\n",
       " [4, 2, 7, 1, 6, 3, 8, 0, 5],\n",
       " [4, 7, 1, 6, 2, 9, 3, 5, 0, 8],\n",
       " [5, 2, 9, 4, 7, 0, 8, 3, 10, 1, 6],\n",
       " [5, 8, 1, 10, 3, 6, 2, 9, 4, 11, 0, 7],\n",
       " [6, 3, 10, 1, 9, 5, 12, 2, 7, 4, 11, 0, 8],\n",
       " [6, 10, 2, 8, 4, 12, 0, 9, 5, 13, 3, 7, 1, 11],\n",
       " [7, 3, 12, 5, 10, 1, 13, 6, 9, 0, 11, 4, 14, 2, 8],\n",
       " [7, 11, 2, 13, 4, 9, 1, 14, 6, 10, 3, 12, 5, 8, 0, 15],\n",
       " [8, 4, 14, 2, 11, 7, 15, 1, 10, 5, 13, 3, 12, 6, 16, 0, 9],\n",
       " [8, 13, 2, 11, 5, 16, 3, 10, 6, 15, 0, 12, 7, 17, 1, 9, 14, 4],\n",
       " [9, 4, 15, 7, 13, 1, 17, 5, 11, 2, 16, 8, 12, 3, 14, 6, 18, 0, 10]]"
      ]
     },
     "execution_count": 29,
     "metadata": {},
     "output_type": "execute_result"
    }
   ],
   "source": [
    "[order(i) for i in range(2,20)]"
   ]
  },
  {
   "cell_type": "code",
   "execution_count": 28,
   "metadata": {},
   "outputs": [
    {
     "data": {
      "text/plain": [
       "[4, 7, 1, 6, 2, 9, 3, 5, 0, 8]"
      ]
     },
     "execution_count": 28,
     "metadata": {},
     "output_type": "execute_result"
    }
   ],
   "source": [
    "order(10)"
   ]
  },
  {
   "cell_type": "code",
   "execution_count": 13,
   "metadata": {},
   "outputs": [
    {
     "data": {
      "text/plain": [
       "inf"
      ]
     },
     "execution_count": 13,
     "metadata": {},
     "output_type": "execute_result"
    }
   ],
   "source": [
    "np.inf"
   ]
  },
  {
   "cell_type": "code",
   "execution_count": null,
   "metadata": {},
   "outputs": [],
   "source": []
  }
 ],
 "metadata": {
  "kernelspec": {
   "display_name": "Python 3",
   "language": "python",
   "name": "python3"
  },
  "language_info": {
   "codemirror_mode": {
    "name": "ipython",
    "version": 3
   },
   "file_extension": ".py",
   "mimetype": "text/x-python",
   "name": "python",
   "nbconvert_exporter": "python",
   "pygments_lexer": "ipython3",
   "version": "3.8.1"
  }
 },
 "nbformat": 4,
 "nbformat_minor": 4
}
