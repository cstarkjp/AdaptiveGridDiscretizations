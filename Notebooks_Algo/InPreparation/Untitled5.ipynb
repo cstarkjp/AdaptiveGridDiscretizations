{
 "cells": [
  {
   "cell_type": "code",
   "execution_count": 1,
   "metadata": {},
   "outputs": [],
   "source": [
    "import numpy as np"
   ]
  },
  {
   "cell_type": "code",
   "execution_count": 2,
   "metadata": {},
   "outputs": [],
   "source": [
    "import sys; sys.path.insert(0,\"../..\")\n",
    "from agd import AutomaticDifferentiation as ad"
   ]
  },
  {
   "cell_type": "code",
   "execution_count": 3,
   "metadata": {},
   "outputs": [],
   "source": [
    "x=ad.Dense.identity((2,))\n",
    "x_dis = ad.disassociate(x,shape_free=(2,))"
   ]
  },
  {
   "cell_type": "code",
   "execution_count": 6,
   "metadata": {},
   "outputs": [
    {
     "name": "stdout",
     "output_type": "stream",
     "text": [
      "hi\n"
     ]
    }
   ],
   "source": [
    "if ad.Optimization.norm_infinity(x_dis)<0.1: print('hi')"
   ]
  },
  {
   "cell_type": "code",
   "execution_count": 4,
   "metadata": {},
   "outputs": [
    {
     "data": {
      "text/plain": [
       "denseAD(array([0.]),array([[0., 0.]]))"
      ]
     },
     "execution_count": 4,
     "metadata": {},
     "output_type": "execute_result"
    }
   ],
   "source": [
    "np.max(np.vectorize(np.abs)(x_dis))"
   ]
  },
  {
   "cell_type": "code",
   "execution_count": 5,
   "metadata": {},
   "outputs": [
    {
     "ename": "TypeError",
     "evalue": "bad operand type for abs(): 'denseAD'",
     "output_type": "error",
     "traceback": [
      "\u001b[0;31m---------------------------------------------------------------------------\u001b[0m",
      "\u001b[0;31mTypeError\u001b[0m                                 Traceback (most recent call last)",
      "\u001b[0;32m<ipython-input-5-23c00ee03116>\u001b[0m in \u001b[0;36m<module>\u001b[0;34m\u001b[0m\n\u001b[0;32m----> 1\u001b[0;31m \u001b[0mnp\u001b[0m\u001b[0;34m.\u001b[0m\u001b[0mabs\u001b[0m\u001b[0;34m(\u001b[0m\u001b[0mx_dis\u001b[0m\u001b[0;34m)\u001b[0m\u001b[0;34m\u001b[0m\u001b[0;34m\u001b[0m\u001b[0m\n\u001b[0m",
      "\u001b[0;31mTypeError\u001b[0m: bad operand type for abs(): 'denseAD'"
     ]
    }
   ],
   "source": [
    "np.abs(x_dis)"
   ]
  },
  {
   "cell_type": "code",
   "execution_count": 5,
   "metadata": {},
   "outputs": [
    {
     "data": {
      "text/plain": [
       "denseAD(array(0.),array([0., 0.]))"
      ]
     },
     "execution_count": 5,
     "metadata": {},
     "output_type": "execute_result"
    }
   ],
   "source": [
    "ad.Optimization.norm_infinity(x)"
   ]
  },
  {
   "cell_type": "code",
   "execution_count": 5,
   "metadata": {},
   "outputs": [
    {
     "ename": "TypeError",
     "evalue": "bad operand type for abs(): 'denseAD'",
     "output_type": "error",
     "traceback": [
      "\u001b[0;31m---------------------------------------------------------------------------\u001b[0m",
      "\u001b[0;31mTypeError\u001b[0m                                 Traceback (most recent call last)",
      "\u001b[0;32m<ipython-input-5-578f5248619c>\u001b[0m in \u001b[0;36m<module>\u001b[0;34m\u001b[0m\n\u001b[0;32m----> 1\u001b[0;31m \u001b[0mad\u001b[0m\u001b[0;34m.\u001b[0m\u001b[0mOptimization\u001b[0m\u001b[0;34m.\u001b[0m\u001b[0mnorm_infinity\u001b[0m\u001b[0;34m(\u001b[0m\u001b[0mad\u001b[0m\u001b[0;34m.\u001b[0m\u001b[0mdisassociate\u001b[0m\u001b[0;34m(\u001b[0m\u001b[0mx\u001b[0m\u001b[0;34m,\u001b[0m\u001b[0mshape_free\u001b[0m\u001b[0;34m=\u001b[0m\u001b[0;34m(\u001b[0m\u001b[0;36m2\u001b[0m\u001b[0;34m,\u001b[0m\u001b[0;34m)\u001b[0m\u001b[0;34m)\u001b[0m\u001b[0;34m)\u001b[0m\u001b[0;34m\u001b[0m\u001b[0;34m\u001b[0m\u001b[0m\n\u001b[0m",
      "\u001b[0;32m~/Dropbox/Programmes/Github/AdaptiveGridDiscretizations/agd/AutomaticDifferentiation/Optimization.py\u001b[0m in \u001b[0;36mnorm_infinity\u001b[0;34m(arr, *args, **kwargs)\u001b[0m\n\u001b[1;32m     44\u001b[0m         \u001b[0mL\u001b[0m\u001b[0;34m-\u001b[0m\u001b[0mInfinity\u001b[0m \u001b[0mnorm\u001b[0m \u001b[0;34m(\u001b[0m\u001b[0mlargest\u001b[0m \u001b[0mabsolute\u001b[0m \u001b[0mvalue\u001b[0m\u001b[0;34m)\u001b[0m\u001b[0;34m\u001b[0m\u001b[0;34m\u001b[0m\u001b[0m\n\u001b[1;32m     45\u001b[0m \t\"\"\"\n\u001b[0;32m---> 46\u001b[0;31m         \u001b[0;32mreturn\u001b[0m \u001b[0mnorm\u001b[0m\u001b[0;34m(\u001b[0m\u001b[0marr\u001b[0m\u001b[0;34m,\u001b[0m\u001b[0mnp\u001b[0m\u001b[0;34m.\u001b[0m\u001b[0minf\u001b[0m\u001b[0;34m,\u001b[0m\u001b[0;34m*\u001b[0m\u001b[0margs\u001b[0m\u001b[0;34m,\u001b[0m\u001b[0;34m**\u001b[0m\u001b[0mkwargs\u001b[0m\u001b[0;34m)\u001b[0m\u001b[0;34m\u001b[0m\u001b[0;34m\u001b[0m\u001b[0m\n\u001b[0m\u001b[1;32m     47\u001b[0m \u001b[0;34m\u001b[0m\u001b[0m\n\u001b[1;32m     48\u001b[0m \u001b[0;32mdef\u001b[0m \u001b[0mnorm_average\u001b[0m\u001b[0;34m(\u001b[0m\u001b[0marr\u001b[0m\u001b[0;34m,\u001b[0m\u001b[0;34m*\u001b[0m\u001b[0margs\u001b[0m\u001b[0;34m,\u001b[0m\u001b[0;34m**\u001b[0m\u001b[0mkwargs\u001b[0m\u001b[0;34m)\u001b[0m\u001b[0;34m:\u001b[0m\u001b[0;34m\u001b[0m\u001b[0;34m\u001b[0m\u001b[0m\n",
      "\u001b[0;32m~/Dropbox/Programmes/Github/AdaptiveGridDiscretizations/agd/AutomaticDifferentiation/Optimization.py\u001b[0m in \u001b[0;36mnorm\u001b[0;34m(arr, ord, axis, keepdims, averaged)\u001b[0m\n\u001b[1;32m     30\u001b[0m                 \u001b[0;32mdef\u001b[0m \u001b[0mf\u001b[0m\u001b[0;34m(\u001b[0m\u001b[0mx\u001b[0m\u001b[0;34m)\u001b[0m\u001b[0;34m:\u001b[0m\u001b[0;32mreturn\u001b[0m \u001b[0mnorm\u001b[0m\u001b[0;34m(\u001b[0m\u001b[0mx\u001b[0m\u001b[0;34m,\u001b[0m\u001b[0mord\u001b[0m\u001b[0;34m=\u001b[0m\u001b[0mord\u001b[0m\u001b[0;34m,\u001b[0m\u001b[0maveraged\u001b[0m\u001b[0;34m=\u001b[0m\u001b[0maveraged\u001b[0m\u001b[0;34m)\u001b[0m\u001b[0;34m\u001b[0m\u001b[0;34m\u001b[0m\u001b[0m\n\u001b[1;32m     31\u001b[0m                 \u001b[0marr\u001b[0m \u001b[0;34m=\u001b[0m \u001b[0mnp\u001b[0m\u001b[0;34m.\u001b[0m\u001b[0mvectorize\u001b[0m\u001b[0;34m(\u001b[0m\u001b[0mf\u001b[0m\u001b[0;34m)\u001b[0m\u001b[0;34m(\u001b[0m\u001b[0marr\u001b[0m\u001b[0;34m)\u001b[0m\u001b[0;34m\u001b[0m\u001b[0;34m\u001b[0m\u001b[0m\n\u001b[0;32m---> 32\u001b[0;31m         \u001b[0;32mif\u001b[0m \u001b[0mord\u001b[0m\u001b[0;34m==\u001b[0m\u001b[0mnp\u001b[0m\u001b[0;34m.\u001b[0m\u001b[0minf\u001b[0m\u001b[0;34m:\u001b[0m \u001b[0;32mreturn\u001b[0m \u001b[0mnp\u001b[0m\u001b[0;34m.\u001b[0m\u001b[0mmax\u001b[0m\u001b[0;34m(\u001b[0m\u001b[0mnp\u001b[0m\u001b[0;34m.\u001b[0m\u001b[0mabs\u001b[0m\u001b[0;34m(\u001b[0m\u001b[0marr\u001b[0m\u001b[0;34m)\u001b[0m\u001b[0;34m,\u001b[0m\u001b[0maxis\u001b[0m\u001b[0;34m=\u001b[0m\u001b[0maxis\u001b[0m\u001b[0;34m,\u001b[0m\u001b[0mkeepdims\u001b[0m\u001b[0;34m=\u001b[0m\u001b[0mkeepdims\u001b[0m\u001b[0;34m)\u001b[0m\u001b[0;34m\u001b[0m\u001b[0;34m\u001b[0m\u001b[0m\n\u001b[0m\u001b[1;32m     33\u001b[0m         \u001b[0;32mif\u001b[0m \u001b[0mord\u001b[0m\u001b[0;34m%\u001b[0m\u001b[0;36m2\u001b[0m\u001b[0;34m!=\u001b[0m\u001b[0;36m0\u001b[0m\u001b[0;34m:\u001b[0m    \u001b[0marr\u001b[0m \u001b[0;34m=\u001b[0m \u001b[0mnp\u001b[0m\u001b[0;34m.\u001b[0m\u001b[0mabs\u001b[0m\u001b[0;34m(\u001b[0m\u001b[0marr\u001b[0m\u001b[0;34m)\u001b[0m\u001b[0;34m\u001b[0m\u001b[0;34m\u001b[0m\u001b[0m\n\u001b[1;32m     34\u001b[0m         \u001b[0msum_pow\u001b[0m \u001b[0;34m=\u001b[0m \u001b[0mnp\u001b[0m\u001b[0;34m.\u001b[0m\u001b[0msum\u001b[0m\u001b[0;34m(\u001b[0m\u001b[0marr\u001b[0m\u001b[0;34m**\u001b[0m\u001b[0mord\u001b[0m\u001b[0;34m,\u001b[0m\u001b[0maxis\u001b[0m\u001b[0;34m=\u001b[0m\u001b[0maxis\u001b[0m\u001b[0;34m,\u001b[0m\u001b[0mkeepdims\u001b[0m\u001b[0;34m=\u001b[0m\u001b[0mkeepdims\u001b[0m\u001b[0;34m)\u001b[0m\u001b[0;34m\u001b[0m\u001b[0;34m\u001b[0m\u001b[0m\n",
      "\u001b[0;31mTypeError\u001b[0m: bad operand type for abs(): 'denseAD'"
     ]
    }
   ],
   "source": [
    "ad.Optimization.norm_infinity(ad.disassociate(x,shape_free=(2,)))"
   ]
  },
  {
   "cell_type": "code",
   "execution_count": 4,
   "metadata": {},
   "outputs": [
    {
     "data": {
      "text/plain": [
       "array([0.])"
      ]
     },
     "execution_count": 4,
     "metadata": {},
     "output_type": "execute_result"
    }
   ],
   "source": [
    "np.max(np.abs(ad.disassociate(x.value,shape_free=(2,))))"
   ]
  },
  {
   "cell_type": "code",
   "execution_count": 23,
   "metadata": {},
   "outputs": [
    {
     "data": {
      "text/plain": [
       "True"
      ]
     },
     "execution_count": 23,
     "metadata": {},
     "output_type": "execute_result"
    }
   ],
   "source": [
    "ad.disassociate(x.value,shape_free=(2,)).dtype == np.object"
   ]
  },
  {
   "cell_type": "code",
   "execution_count": 9,
   "metadata": {},
   "outputs": [
    {
     "data": {
      "text/plain": [
       "denseAD(array([[0., 0.],\n",
       "       [0., 0.]]),\n",
       "array([[[0., 0., 0., 0.],\n",
       "        [0., 0., 0., 0.]],\n",
       "\n",
       "       [[0., 0., 0., 0.],\n",
       "        [0., 0., 0., 0.]]]))"
      ]
     },
     "execution_count": 9,
     "metadata": {},
     "output_type": "execute_result"
    }
   ],
   "source": [
    "np.abs(x)"
   ]
  },
  {
   "cell_type": "code",
   "execution_count": 4,
   "metadata": {},
   "outputs": [
    {
     "data": {
      "text/plain": [
       "0"
      ]
     },
     "execution_count": 4,
     "metadata": {},
     "output_type": "execute_result"
    }
   ],
   "source": [
    "x.argmin()"
   ]
  },
  {
   "cell_type": "code",
   "execution_count": 4,
   "metadata": {},
   "outputs": [
    {
     "data": {
      "text/plain": [
       "denseAD(array([1, 2]),array([], shape=(2, 0), dtype=int64))"
      ]
     },
     "execution_count": 4,
     "metadata": {},
     "output_type": "execute_result"
    }
   ],
   "source": [
    "x.new((1,2))"
   ]
  },
  {
   "cell_type": "code",
   "execution_count": 5,
   "metadata": {},
   "outputs": [
    {
     "data": {
      "text/plain": [
       "denseAD(array([[1., 1.],\n",
       "       [1., 1.]]),\n",
       "array([[[0.5, 0. , 0. , 0. ],\n",
       "        [0. , 0.5, 0. , 0. ]],\n",
       "\n",
       "       [[0. , 0. , 0.5, 0. ],\n",
       "        [0. , 0. , 0. , 0.5]]]))"
      ]
     },
     "execution_count": 5,
     "metadata": {},
     "output_type": "execute_result"
    }
   ],
   "source": [
    "(x+1).sqrt()"
   ]
  },
  {
   "cell_type": "code",
   "execution_count": 10,
   "metadata": {},
   "outputs": [
    {
     "data": {
      "text/plain": [
       "denseAD(array([0., 0., 0., 0.]),\n",
       "array([[1., 0., 0., 0.],\n",
       "       [0., 1., 0., 0.],\n",
       "       [0., 0., 1., 0.],\n",
       "       [0., 0., 0., 1.]]))"
      ]
     },
     "execution_count": 10,
     "metadata": {},
     "output_type": "execute_result"
    }
   ],
   "source": [
    "np.reshape(x,(4,))"
   ]
  },
  {
   "cell_type": "code",
   "execution_count": 12,
   "metadata": {},
   "outputs": [
    {
     "data": {
      "text/plain": [
       "array([1, 2, 3, 4])"
      ]
     },
     "execution_count": 12,
     "metadata": {},
     "output_type": "execute_result"
    }
   ],
   "source": [
    "a = np.array((4,1,2,3))\n",
    "a.sort()\n",
    "a"
   ]
  },
  {
   "cell_type": "code",
   "execution_count": 10,
   "metadata": {},
   "outputs": [
    {
     "data": {
      "text/plain": [
       "array([1, 2, 3, 4])"
      ]
     },
     "execution_count": 10,
     "metadata": {},
     "output_type": "execute_result"
    }
   ],
   "source": [
    "a"
   ]
  },
  {
   "cell_type": "code",
   "execution_count": 5,
   "metadata": {},
   "outputs": [
    {
     "data": {
      "text/plain": [
       "array([[0, 0],\n",
       "       [0, 0]])"
      ]
     },
     "execution_count": 5,
     "metadata": {},
     "output_type": "execute_result"
    }
   ],
   "source": [
    "np.floor(x).astype(int)"
   ]
  },
  {
   "cell_type": "code",
   "execution_count": 6,
   "metadata": {},
   "outputs": [
    {
     "data": {
      "text/plain": [
       "denseAD(array([[[0., 0.],\n",
       "        [0., 0.]]]),\n",
       "array([[[[1., 0., 0., 0.],\n",
       "         [0., 1., 0., 0.]],\n",
       "\n",
       "        [[0., 0., 1., 0.],\n",
       "         [0., 0., 0., 1.]]]]))"
      ]
     },
     "execution_count": 6,
     "metadata": {},
     "output_type": "execute_result"
    }
   ],
   "source": [
    "np.expand_dims(x,axis=0)"
   ]
  },
  {
   "cell_type": "code",
   "execution_count": 5,
   "metadata": {},
   "outputs": [
    {
     "name": "stdout",
     "output_type": "stream",
     "text": [
      "@array_function_dispatch(_take_along_axis_dispatcher)\n",
      "def take_along_axis(arr, indices, axis):\n",
      "    \"\"\"\n",
      "    Take values from the input array by matching 1d index and data slices.\n",
      "\n",
      "    This iterates over matching 1d slices oriented along the specified axis in\n",
      "    the index and data arrays, and uses the former to look up values in the\n",
      "    latter. These slices can be different lengths.\n",
      "\n",
      "    Functions returning an index along an axis, like `argsort` and\n",
      "    `argpartition`, produce suitable indices for this function.\n",
      "\n",
      "    .. versionadded:: 1.15.0\n",
      "\n",
      "    Parameters\n",
      "    ----------\n",
      "    arr: ndarray (Ni..., M, Nk...)\n",
      "        Source array\n",
      "    indices: ndarray (Ni..., J, Nk...)\n",
      "        Indices to take along each 1d slice of `arr`. This must match the\n",
      "        dimension of arr, but dimensions Ni and Nj only need to broadcast\n",
      "        against `arr`.\n",
      "    axis: int\n",
      "        The axis to take 1d slices along. If axis is None, the input array is\n",
      "        treated as if it had first been flattened to 1d, for consistency with\n",
      "        `sort` and `argsort`.\n",
      "\n",
      "    Returns\n",
      "    -------\n",
      "    out: ndarray (Ni..., J, Nk...)\n",
      "        The indexed result.\n",
      "\n",
      "    Notes\n",
      "    -----\n",
      "    This is equivalent to (but faster than) the following use of `ndindex` and\n",
      "    `s_`, which sets each of ``ii`` and ``kk`` to a tuple of indices::\n",
      "\n",
      "        Ni, M, Nk = a.shape[:axis], a.shape[axis], a.shape[axis+1:]\n",
      "        J = indices.shape[axis]  # Need not equal M\n",
      "        out = np.empty(Ni + (J,) + Nk)\n",
      "\n",
      "        for ii in ndindex(Ni):\n",
      "            for kk in ndindex(Nk):\n",
      "                a_1d       = a      [ii + s_[:,] + kk]\n",
      "                indices_1d = indices[ii + s_[:,] + kk]\n",
      "                out_1d     = out    [ii + s_[:,] + kk]\n",
      "                for j in range(J):\n",
      "                    out_1d[j] = a_1d[indices_1d[j]]\n",
      "\n",
      "    Equivalently, eliminating the inner loop, the last two lines would be::\n",
      "\n",
      "                out_1d[:] = a_1d[indices_1d]\n",
      "\n",
      "    See Also\n",
      "    --------\n",
      "    take : Take along an axis, using the same indices for every 1d slice\n",
      "    put_along_axis :\n",
      "        Put values into the destination array by matching 1d index and data slices\n",
      "\n",
      "    Examples\n",
      "    --------\n",
      "\n",
      "    For this sample array\n",
      "\n",
      "    >>> a = np.array([[10, 30, 20], [60, 40, 50]])\n",
      "\n",
      "    We can sort either by using sort directly, or argsort and this function\n",
      "\n",
      "    >>> np.sort(a, axis=1)\n",
      "    array([[10, 20, 30],\n",
      "           [40, 50, 60]])\n",
      "    >>> ai = np.argsort(a, axis=1); ai\n",
      "    array([[0, 2, 1],\n",
      "           [1, 2, 0]])\n",
      "    >>> np.take_along_axis(a, ai, axis=1)\n",
      "    array([[10, 20, 30],\n",
      "           [40, 50, 60]])\n",
      "\n",
      "    The same works for max and min, if you expand the dimensions:\n",
      "\n",
      "    >>> np.expand_dims(np.max(a, axis=1), axis=1)\n",
      "    array([[30],\n",
      "           [60]])\n",
      "    >>> ai = np.expand_dims(np.argmax(a, axis=1), axis=1)\n",
      "    >>> ai\n",
      "    array([[1],\n",
      "           [0]])\n",
      "    >>> np.take_along_axis(a, ai, axis=1)\n",
      "    array([[30],\n",
      "           [60]])\n",
      "\n",
      "    If we want to get the max and min at the same time, we can stack the\n",
      "    indices first\n",
      "\n",
      "    >>> ai_min = np.expand_dims(np.argmin(a, axis=1), axis=1)\n",
      "    >>> ai_max = np.expand_dims(np.argmax(a, axis=1), axis=1)\n",
      "    >>> ai = np.concatenate([ai_min, ai_max], axis=1)\n",
      "    >>> ai\n",
      "    array([[0, 1],\n",
      "           [1, 0]])\n",
      "    >>> np.take_along_axis(a, ai, axis=1)\n",
      "    array([[10, 30],\n",
      "           [40, 60]])\n",
      "    \"\"\"\n",
      "    # normalize inputs\n",
      "    if axis is None:\n",
      "        arr = arr.flat\n",
      "        arr_shape = (len(arr),)  # flatiter has no .shape\n",
      "        axis = 0\n",
      "    else:\n",
      "        axis = normalize_axis_index(axis, arr.ndim)\n",
      "        arr_shape = arr.shape\n",
      "\n",
      "    # use the fancy index\n",
      "    return arr[_make_along_axis_idx(arr_shape, indices, axis)]\n",
      "\n"
     ]
    }
   ],
   "source": [
    "import inspect\n",
    "print(inspect.getsource(np.take_along_axis))"
   ]
  },
  {
   "cell_type": "code",
   "execution_count": 14,
   "metadata": {},
   "outputs": [
    {
     "ename": "AttributeError",
     "evalue": "module 'numpy' has no attribute 'normalize_axis_index'",
     "output_type": "error",
     "traceback": [
      "\u001b[0;31m---------------------------------------------------------------------------\u001b[0m",
      "\u001b[0;31mAttributeError\u001b[0m                            Traceback (most recent call last)",
      "\u001b[0;32m<ipython-input-14-4a30aee9c4bc>\u001b[0m in \u001b[0;36m<module>\u001b[0;34m\u001b[0m\n\u001b[0;32m----> 1\u001b[0;31m \u001b[0mnp\u001b[0m\u001b[0;34m.\u001b[0m\u001b[0mnormalize_axis_index\u001b[0m\u001b[0;34m(\u001b[0m\u001b[0;36m1\u001b[0m\u001b[0;34m,\u001b[0m\u001b[0;36m2\u001b[0m\u001b[0;34m)\u001b[0m\u001b[0;34m\u001b[0m\u001b[0;34m\u001b[0m\u001b[0m\n\u001b[0m",
      "\u001b[0;31mAttributeError\u001b[0m: module 'numpy' has no attribute 'normalize_axis_index'"
     ]
    }
   ],
   "source": [
    "np.normalize_axis_index(1,2)"
   ]
  },
  {
   "cell_type": "code",
   "execution_count": 18,
   "metadata": {},
   "outputs": [
    {
     "data": {
      "text/plain": [
       "'aBl'"
      ]
     },
     "execution_count": 18,
     "metadata": {},
     "output_type": "execute_result"
    }
   ],
   "source": [
    "'abl'.replace('b','B')"
   ]
  },
  {
   "cell_type": "code",
   "execution_count": 5,
   "metadata": {},
   "outputs": [
    {
     "data": {
      "text/plain": [
       "['0', '1', '21']"
      ]
     },
     "execution_count": 5,
     "metadata": {},
     "output_type": "execute_result"
    }
   ],
   "source": [
    "'0.1.21'.split('.')"
   ]
  },
  {
   "cell_type": "code",
   "execution_count": 6,
   "metadata": {},
   "outputs": [
    {
     "data": {
      "text/plain": [
       "[1, 2, 4]"
      ]
     },
     "execution_count": 6,
     "metadata": {},
     "output_type": "execute_result"
    }
   ],
   "source": [
    "l=[1,2,3]; l[-1]+=1; l"
   ]
  },
  {
   "cell_type": "code",
   "execution_count": 9,
   "metadata": {},
   "outputs": [
    {
     "data": {
      "text/plain": [
       "True"
      ]
     },
     "execution_count": 9,
     "metadata": {},
     "output_type": "execute_result"
    }
   ],
   "source": [
    "bool('False')"
   ]
  },
  {
   "cell_type": "code",
   "execution_count": 12,
   "metadata": {},
   "outputs": [
    {
     "data": {
      "text/plain": [
       "1"
      ]
     },
     "execution_count": 12,
     "metadata": {},
     "output_type": "execute_result"
    }
   ],
   "source": [
    "from distutils.util import strtobool\n",
    "strtobool('True')"
   ]
  },
  {
   "cell_type": "code",
   "execution_count": 14,
   "metadata": {},
   "outputs": [
    {
     "data": {
      "text/plain": [
       "True"
      ]
     },
     "execution_count": 14,
     "metadata": {},
     "output_type": "execute_result"
    }
   ],
   "source": [
    "[1,2,3]==[1,2,3]"
   ]
  },
  {
   "cell_type": "code",
   "execution_count": 1,
   "metadata": {},
   "outputs": [],
   "source": [
    "# Python code to generate the contents of this file.\n",
    "import numpy as np\n",
    "def wasserstein(a,b):\n",
    "    \"\"\"Return the L2 wasserstein distance between 1D measures equidistributed at the given points\"\"\"\n",
    "    a,b = np.sort(np.repeat(a,len(b))), np.sort(np.repeat(b,len(a)))\n",
    "    return ((a-b)**2).sum()/len(a)\n",
    "\n",
    "def nextpoint(a,n):\n",
    "    \"\"\"Choose the next point to insert in a which makes it closest to range(n) in wasserstein distance\"\"\"\n",
    "    return np.argmin(list(wasserstein(a+[i],range(n)) if i not in a else np.inf for i in range(n)))\n",
    "\n",
    "def eqseq(n):\n",
    "    \"\"\"Greedy ordering to approximate range(n) as well as possible as quickly as possible\"\"\"\n",
    "    a=[]\n",
    "    for i in range(n): \n",
    "        a = a+[nextpoint(a,n)]\n",
    "    return a\n",
    "\n",
    "def display(l):\n",
    "    n=len(l)\n",
    "    print(f\"const int eqseq{n}[{n}] = {{{','.join(map(str,l))}}};\")"
   ]
  },
  {
   "cell_type": "code",
   "execution_count": 47,
   "metadata": {},
   "outputs": [],
   "source": [
    "def wasserstein(a,b):\n",
    "    \"\"\"Return the L2 wasserstein distance between 1D measures equidistributed at the given points\"\"\"\n",
    "    a,b = np.sort(np.repeat(a,len(b))), np.sort(np.repeat(b,len(a)))\n",
    "    return ((a-b)**2).sum()/len(a)\n",
    "\n",
    "def nextpoint(a,n):\n",
    "    \"\"\"Choose the next point to insert in a which makes it closest to range(n) in wasserstein distance\"\"\"\n",
    "    return np.argmin(list(wasserstein(a+[i],range(n)) if i not in a else np.inf for i in range(n)))\n",
    "\n",
    "def eqseq(n):\n",
    "    \"\"\"Greedy ordering to approximate range(n) as well as possible as quickly as possible\"\"\"\n",
    "    a=[]\n",
    "    for i in range(n): \n",
    "        a = a+[nextpoint(a,n)]\n",
    "    return a\n",
    "\n",
    "def display(l):\n",
    "    n=len(l)\n",
    "    print(f\"template<> int eqseq<{n}>[{n}] = {{{','.join(map(str,l))}}};\")"
   ]
  },
  {
   "cell_type": "code",
   "execution_count": 3,
   "metadata": {},
   "outputs": [
    {
     "name": "stdout",
     "output_type": "stream",
     "text": [
      "const int eqseq1[1] = {0};\n",
      "const int eqseq2[2] = {0,1};\n",
      "const int eqseq3[3] = {1,0,2};\n",
      "const int eqseq4[4] = {1,2,0,3};\n",
      "const int eqseq5[5] = {2,1,4,0,3};\n",
      "const int eqseq6[6] = {2,4,0,3,5,1};\n",
      "const int eqseq7[7] = {3,1,5,2,6,0,4};\n",
      "const int eqseq8[8] = {3,5,1,6,2,4,0,7};\n",
      "const int eqseq9[9] = {4,2,7,1,6,3,8,0,5};\n",
      "const int eqseq10[10] = {4,7,1,6,2,9,3,5,0,8};\n",
      "const int eqseq11[11] = {5,2,9,4,7,0,8,3,10,1,6};\n",
      "const int eqseq12[12] = {5,8,1,10,3,6,2,9,4,11,0,7};\n",
      "const int eqseq13[13] = {6,3,10,1,9,5,12,2,7,4,11,0,8};\n",
      "const int eqseq14[14] = {6,10,2,8,4,12,0,9,5,13,3,7,1,11};\n",
      "const int eqseq15[15] = {7,3,12,5,10,1,13,6,9,0,11,4,14,2,8};\n",
      "const int eqseq16[16] = {7,11,2,13,4,9,1,14,6,10,3,12,5,8,0,15};\n",
      "const int eqseq17[17] = {8,4,14,2,11,7,15,1,10,5,13,3,12,6,16,0,9};\n",
      "const int eqseq18[18] = {8,13,2,11,5,16,3,10,6,15,0,12,7,17,1,9,14,4};\n",
      "const int eqseq19[19] = {9,4,15,7,13,1,17,5,11,2,16,8,12,3,14,6,18,0,10};\n",
      "const int eqseq20[20] = {9,14,3,17,5,11,1,16,7,12,4,19,8,0,15,10,6,18,2,13};\n"
     ]
    }
   ],
   "source": [
    "for i in range(1,21):\n",
    "    display(eqseq(i))"
   ]
  },
  {
   "cell_type": "code",
   "execution_count": 31,
   "metadata": {},
   "outputs": [
    {
     "data": {
      "text/plain": [
       "'1,2,3'"
      ]
     },
     "execution_count": 31,
     "metadata": {},
     "output_type": "execute_result"
    }
   ],
   "source": [
    "','.join(map(str,[1,2,3]))"
   ]
  },
  {
   "cell_type": "code",
   "execution_count": 24,
   "metadata": {},
   "outputs": [],
   "source": []
  },
  {
   "cell_type": "code",
   "execution_count": 29,
   "metadata": {},
   "outputs": [
    {
     "data": {
      "text/plain": [
       "[[0, 1],\n",
       " [1, 0, 2],\n",
       " [1, 2, 0, 3],\n",
       " [2, 1, 4, 0, 3],\n",
       " [2, 4, 0, 3, 5, 1],\n",
       " [3, 1, 5, 2, 6, 0, 4],\n",
       " [3, 5, 1, 6, 2, 4, 0, 7],\n",
       " [4, 2, 7, 1, 6, 3, 8, 0, 5],\n",
       " [4, 7, 1, 6, 2, 9, 3, 5, 0, 8],\n",
       " [5, 2, 9, 4, 7, 0, 8, 3, 10, 1, 6],\n",
       " [5, 8, 1, 10, 3, 6, 2, 9, 4, 11, 0, 7],\n",
       " [6, 3, 10, 1, 9, 5, 12, 2, 7, 4, 11, 0, 8],\n",
       " [6, 10, 2, 8, 4, 12, 0, 9, 5, 13, 3, 7, 1, 11],\n",
       " [7, 3, 12, 5, 10, 1, 13, 6, 9, 0, 11, 4, 14, 2, 8],\n",
       " [7, 11, 2, 13, 4, 9, 1, 14, 6, 10, 3, 12, 5, 8, 0, 15],\n",
       " [8, 4, 14, 2, 11, 7, 15, 1, 10, 5, 13, 3, 12, 6, 16, 0, 9],\n",
       " [8, 13, 2, 11, 5, 16, 3, 10, 6, 15, 0, 12, 7, 17, 1, 9, 14, 4],\n",
       " [9, 4, 15, 7, 13, 1, 17, 5, 11, 2, 16, 8, 12, 3, 14, 6, 18, 0, 10]]"
      ]
     },
     "execution_count": 29,
     "metadata": {},
     "output_type": "execute_result"
    }
   ],
   "source": [
    "[order(i) for i in range(2,20)]"
   ]
  },
  {
   "cell_type": "code",
   "execution_count": 28,
   "metadata": {},
   "outputs": [
    {
     "data": {
      "text/plain": [
       "[4, 7, 1, 6, 2, 9, 3, 5, 0, 8]"
      ]
     },
     "execution_count": 28,
     "metadata": {},
     "output_type": "execute_result"
    }
   ],
   "source": [
    "order(10)"
   ]
  },
  {
   "cell_type": "code",
   "execution_count": 13,
   "metadata": {},
   "outputs": [
    {
     "data": {
      "text/plain": [
       "inf"
      ]
     },
     "execution_count": 13,
     "metadata": {},
     "output_type": "execute_result"
    }
   ],
   "source": [
    "np.inf"
   ]
  },
  {
   "cell_type": "code",
   "execution_count": null,
   "metadata": {},
   "outputs": [],
   "source": []
  }
 ],
 "metadata": {
  "kernelspec": {
   "display_name": "Python 3",
   "language": "python",
   "name": "python3"
  },
  "language_info": {
   "codemirror_mode": {
    "name": "ipython",
    "version": 3
   },
   "file_extension": ".py",
   "mimetype": "text/x-python",
   "name": "python",
   "nbconvert_exporter": "python",
   "pygments_lexer": "ipython3",
   "version": "3.8.1"
  }
 },
 "nbformat": 4,
 "nbformat_minor": 4
}
