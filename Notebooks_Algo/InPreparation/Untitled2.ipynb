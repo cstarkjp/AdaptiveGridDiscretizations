{
 "cells": [
  {
   "cell_type": "code",
   "execution_count": 12,
   "metadata": {},
   "outputs": [],
   "source": [
    "import sys; sys.path.insert(0,\"../..\")\n",
    "from agd import AutomaticDifferentiation as ad\n",
    "import numpy as np\n",
    "from collections import OrderedDict,namedtuple\n",
    "from types import SimpleNamespace\n",
    "import inspect\n",
    "import numbers"
   ]
  },
  {
   "cell_type": "code",
   "execution_count": 1,
   "metadata": {},
   "outputs": [
    {
     "data": {
      "text/plain": [
       "100"
      ]
     },
     "execution_count": 1,
     "metadata": {},
     "output_type": "execute_result"
    }
   ],
   "source": [
    "len([1,1,0,1,0,0,1,0,0,0,0,1,1,0,1,0,0,1,0,0,0,0,0,1,1,1,0,0,1,0,0,0,0,0,0,0,1,1,1,1,0,0,0,0,0,0,-1,0,0,0,0,0,0,-1,0,0,0,0,0,0,0,-1,0,0,0,0,0,0,0,0,0,0,0,0,0,0,0,-1,0,0,0,0,0,0,-1,0,0,0,0,0,0,0,0,0,0,0,0,0,-1,0])"
   ]
  },
  {
   "cell_type": "code",
   "execution_count": 2,
   "metadata": {},
   "outputs": [
    {
     "data": {
      "text/plain": [
       "100"
      ]
     },
     "execution_count": 2,
     "metadata": {},
     "output_type": "execute_result"
    }
   ],
   "source": [
    "len([1,1,0,1,0,0,0,0,0,0,0,1,1,0,1,0,0,1,0,0,0,0\n",
    "\t\t,0,1,1,1,1,0,1,0,0,0,0,0,0,0,0,1,1,1,0,0,0,-1,0,0,-1,0,0,0,0,\n",
    "\t\t-1,0,0,0,0,0,0,0,0,0,0,0,0,0,0,0,-1,0,0,0,0,0,0,-1,0,0,0,0,0,0\n",
    "\t\t,0,0,0,0,0,-1,0,-1,0,0,0,0,0,0,0,1,0,0,0])"
   ]
  },
  {
   "cell_type": "code",
   "execution_count": 31,
   "metadata": {},
   "outputs": [],
   "source": [
    "s4=\"\"\"[[0,1],[2,3]]\n",
    "[[0,2],[1,3]]\n",
    "[[1,2]]\n",
    "\"\"\""
   ]
  },
  {
   "cell_type": "code",
   "execution_count": 62,
   "metadata": {},
   "outputs": [],
   "source": [
    "def code_line(s):\n",
    "    s=s.replace(\"[[\",\"ORDER_SWAP(\")\n",
    "    s=s.replace(\"],[\",\");ORDER_SWAP(\")\n",
    "    s=s.replace(\"]]\",\");\")\n",
    "    return s\n",
    "\n",
    "def code_network(s):\n",
    "    s = s.split(\"\\n\")\n",
    "    n = int(s[0])\n",
    "    s = (f\"template<> void network_sort<{n}> (const Scalar values[{n}],Int order[{n}])\"+\"{\\n\"+\n",
    "         \"\\n\".join(code_line(l) for l in s[1:])+\"}\\n\")\n",
    "    return s\n",
    "def code_networks(s):\n",
    "    s = s.split('--- ')[1:]\n",
    "    return \"\\n\".join(code_network(l) for l in s)"
   ]
  },
  {
   "cell_type": "code",
   "execution_count": 64,
   "metadata": {},
   "outputs": [
    {
     "name": "stdout",
     "output_type": "stream",
     "text": [
      "template<> void network_sort<2> (const Scalar values[2],Int order[2]){\n",
      "ORDER_SWAP(0,1);\n",
      "}\n",
      "\n",
      "template<> void network_sort<3> (const Scalar values[3],Int order[3]){\n",
      "ORDER_SWAP(1,2);\n",
      "ORDER_SWAP(0,2);\n",
      "ORDER_SWAP(0,1);\n",
      "}\n",
      "\n",
      "template<> void network_sort<4> (const Scalar values[4],Int order[4]){\n",
      "ORDER_SWAP(0,1);ORDER_SWAP(2,3);\n",
      "ORDER_SWAP(0,2);ORDER_SWAP(1,3);\n",
      "ORDER_SWAP(1,2);\n",
      "}\n",
      "\n",
      "template<> void network_sort<5> (const Scalar values[5],Int order[5]){\n",
      "ORDER_SWAP(0,1);ORDER_SWAP(3,4);\n",
      "ORDER_SWAP(2,4);\n",
      "ORDER_SWAP(2,3);ORDER_SWAP(1,4);\n",
      "ORDER_SWAP(0,3);\n",
      "ORDER_SWAP(0,2);ORDER_SWAP(1,3);\n",
      "ORDER_SWAP(1,2);\n",
      "}\n",
      "\n",
      "template<> void network_sort<6> (const Scalar values[6],Int order[6]){\n",
      "ORDER_SWAP(1,2);ORDER_SWAP(4,5);\n",
      "ORDER_SWAP(0,2);ORDER_SWAP(3,5);\n",
      "ORDER_SWAP(0,1);ORDER_SWAP(3,4);ORDER_SWAP(2,5);\n",
      "ORDER_SWAP(0,3);ORDER_SWAP(1,4);\n",
      "ORDER_SWAP(2,4);ORDER_SWAP(1,3);\n",
      "ORDER_SWAP(2,3);\n",
      "}\n",
      "\n",
      "template<> void network_sort<7> (const Scalar values[7],Int order[7]){\n",
      "ORDER_SWAP(1,2);ORDER_SWAP(3,4);ORDER_SWAP(5,6);\n",
      "ORDER_SWAP(0,2);ORDER_SWAP(3,5);ORDER_SWAP(4,6);\n",
      "ORDER_SWAP(0,1);ORDER_SWAP(4,5);ORDER_SWAP(2,6);\n",
      "ORDER_SWAP(0,4);ORDER_SWAP(1,5);\n",
      "ORDER_SWAP(0,3);ORDER_SWAP(2,5);\n",
      "ORDER_SWAP(1,3);ORDER_SWAP(2,4);\n",
      "ORDER_SWAP(2,3);\n",
      "}\n",
      "\n",
      "template<> void network_sort<8> (const Scalar values[8],Int order[8]){\n",
      "ORDER_SWAP(0,1);ORDER_SWAP(2,3);ORDER_SWAP(4,5);ORDER_SWAP(6,7);\n",
      "ORDER_SWAP(0,2);ORDER_SWAP(1,3);ORDER_SWAP(4,6);ORDER_SWAP(5,7);\n",
      "ORDER_SWAP(1,2);ORDER_SWAP(5,6);ORDER_SWAP(0,4);ORDER_SWAP(3,7);\n",
      "ORDER_SWAP(1,5);ORDER_SWAP(2,6);\n",
      "ORDER_SWAP(1,4);ORDER_SWAP(3,6);\n",
      "ORDER_SWAP(2,4);ORDER_SWAP(3,5);\n",
      "ORDER_SWAP(3,4);\n",
      "}\n",
      "\n",
      "template<> void network_sort<9> (const Scalar values[9],Int order[9]){\n",
      "ORDER_SWAP(0,1);ORDER_SWAP(3,4);ORDER_SWAP(6,7);\n",
      "ORDER_SWAP(1,2);ORDER_SWAP(4,5);ORDER_SWAP(7,8);\n",
      "ORDER_SWAP(0,1);ORDER_SWAP(3,4);ORDER_SWAP(6,7);ORDER_SWAP(2,5);\n",
      "ORDER_SWAP(0,3);ORDER_SWAP(1,4);ORDER_SWAP(5,8);\n",
      "ORDER_SWAP(3,6);ORDER_SWAP(4,7);ORDER_SWAP(2,5);\n",
      "ORDER_SWAP(0,3);ORDER_SWAP(1,4);ORDER_SWAP(5,7);ORDER_SWAP(2,6);\n",
      "ORDER_SWAP(1,3);ORDER_SWAP(4,6);\n",
      "ORDER_SWAP(2,4);ORDER_SWAP(5,6);\n",
      "ORDER_SWAP(2,3);\n",
      "}\n",
      "\n",
      "template<> void network_sort<10> (const Scalar values[10],Int order[10]){\n",
      "ORDER_SWAP(4,9);ORDER_SWAP(3,8);ORDER_SWAP(2,7);ORDER_SWAP(1,6);ORDER_SWAP(0,5);\n",
      "ORDER_SWAP(1,4);ORDER_SWAP(6,9);ORDER_SWAP(0,3);ORDER_SWAP(5,8);\n",
      "ORDER_SWAP(0,2);ORDER_SWAP(3,6);ORDER_SWAP(7,9);\n",
      "ORDER_SWAP(0,1);ORDER_SWAP(2,4);ORDER_SWAP(5,7);ORDER_SWAP(8,9);\n",
      "ORDER_SWAP(1,2);ORDER_SWAP(4,6);ORDER_SWAP(7,8);ORDER_SWAP(3,5);\n",
      "ORDER_SWAP(2,5);ORDER_SWAP(6,8);ORDER_SWAP(1,3);ORDER_SWAP(4,7);\n",
      "ORDER_SWAP(2,3);ORDER_SWAP(6,7);\n",
      "ORDER_SWAP(3,4);ORDER_SWAP(5,6);\n",
      "ORDER_SWAP(4,5);\n",
      "}\n",
      "\n",
      "template<> void network_sort<11> (const Scalar values[11],Int order[11]){\n",
      "ORDER_SWAP(0,1);ORDER_SWAP(2,3);ORDER_SWAP(4,5);ORDER_SWAP(6,7);ORDER_SWAP(8,9);\n",
      "ORDER_SWAP(1,3);ORDER_SWAP(5,7);ORDER_SWAP(0,2);ORDER_SWAP(4,6);ORDER_SWAP(8,10);\n",
      "ORDER_SWAP(1,2);ORDER_SWAP(5,6);ORDER_SWAP(9,10);ORDER_SWAP(0,4);ORDER_SWAP(3,7);\n",
      "ORDER_SWAP(1,5);ORDER_SWAP(6,10);ORDER_SWAP(4,8);\n",
      "ORDER_SWAP(5,9);ORDER_SWAP(2,6);ORDER_SWAP(0,4);ORDER_SWAP(3,8);\n",
      "ORDER_SWAP(1,5);ORDER_SWAP(6,10);ORDER_SWAP(2,3);ORDER_SWAP(8,9);\n",
      "ORDER_SWAP(1,4);ORDER_SWAP(7,10);ORDER_SWAP(3,5);ORDER_SWAP(6,8);\n",
      "ORDER_SWAP(2,4);ORDER_SWAP(7,9);ORDER_SWAP(5,6);\n",
      "ORDER_SWAP(3,4);ORDER_SWAP(7,8);\n",
      "}\n",
      "\n",
      "template<> void network_sort<12> (const Scalar values[12],Int order[12]){\n",
      "ORDER_SWAP(0,1);ORDER_SWAP(2,3);ORDER_SWAP(4,5);ORDER_SWAP(6,7);ORDER_SWAP(8,9);ORDER_SWAP(10,11);\n",
      "ORDER_SWAP(1,3);ORDER_SWAP(5,7);ORDER_SWAP(9,11);ORDER_SWAP(0,2);ORDER_SWAP(4,6);ORDER_SWAP(8,10);\n",
      "ORDER_SWAP(1,2);ORDER_SWAP(5,6);ORDER_SWAP(9,10);ORDER_SWAP(0,4);ORDER_SWAP(7,11);\n",
      "ORDER_SWAP(1,5);ORDER_SWAP(6,10);ORDER_SWAP(3,7);ORDER_SWAP(4,8);\n",
      "ORDER_SWAP(5,9);ORDER_SWAP(2,6);ORDER_SWAP(0,4);ORDER_SWAP(7,11);ORDER_SWAP(3,8);\n",
      "ORDER_SWAP(1,5);ORDER_SWAP(6,10);ORDER_SWAP(2,3);ORDER_SWAP(8,9);\n",
      "ORDER_SWAP(1,4);ORDER_SWAP(7,10);ORDER_SWAP(3,5);ORDER_SWAP(6,8);\n",
      "ORDER_SWAP(2,4);ORDER_SWAP(7,9);ORDER_SWAP(5,6);\n",
      "ORDER_SWAP(3,4);ORDER_SWAP(7,8);\n",
      "}\n",
      "\n",
      "template<> void network_sort<13> (const Scalar values[13],Int order[13]){\n",
      "ORDER_SWAP(1,7);ORDER_SWAP(9,11);ORDER_SWAP(3,4);ORDER_SWAP(5,8);ORDER_SWAP(0,12);ORDER_SWAP(2,6);\n",
      "ORDER_SWAP(0,1);ORDER_SWAP(2,3);ORDER_SWAP(4,6);ORDER_SWAP(8,11);ORDER_SWAP(7,12);ORDER_SWAP(5,9);\n",
      "ORDER_SWAP(0,2);ORDER_SWAP(3,7);ORDER_SWAP(10,11);ORDER_SWAP(1,4);ORDER_SWAP(6,12);\n",
      "ORDER_SWAP(7,8);ORDER_SWAP(11,12);ORDER_SWAP(4,9);ORDER_SWAP(6,10);\n",
      "ORDER_SWAP(3,4);ORDER_SWAP(5,6);ORDER_SWAP(8,9);ORDER_SWAP(10,11);ORDER_SWAP(1,7);\n",
      "ORDER_SWAP(2,6);ORDER_SWAP(9,11);ORDER_SWAP(1,3);ORDER_SWAP(4,7);ORDER_SWAP(8,10);ORDER_SWAP(0,5);\n",
      "ORDER_SWAP(2,5);ORDER_SWAP(6,8);ORDER_SWAP(9,10);\n",
      "ORDER_SWAP(1,2);ORDER_SWAP(3,5);ORDER_SWAP(7,8);ORDER_SWAP(4,6);\n",
      "ORDER_SWAP(2,3);ORDER_SWAP(4,5);ORDER_SWAP(6,7);ORDER_SWAP(8,9);\n",
      "ORDER_SWAP(3,4);ORDER_SWAP(5,6);\n",
      "}\n",
      "\n",
      "template<> void network_sort<14> (const Scalar values[14],Int order[14]){\n",
      "ORDER_SWAP(0,1);ORDER_SWAP(2,3);ORDER_SWAP(4,5);ORDER_SWAP(6,7);ORDER_SWAP(8,9);ORDER_SWAP(10,11);ORDER_SWAP(12,13);\n",
      "ORDER_SWAP(0,2);ORDER_SWAP(4,6);ORDER_SWAP(8,10);ORDER_SWAP(1,3);ORDER_SWAP(5,7);ORDER_SWAP(9,11);\n",
      "ORDER_SWAP(0,4);ORDER_SWAP(8,12);ORDER_SWAP(1,5);ORDER_SWAP(9,13);ORDER_SWAP(2,6);ORDER_SWAP(3,7);\n",
      "ORDER_SWAP(0,8);ORDER_SWAP(1,9);ORDER_SWAP(2,10);ORDER_SWAP(3,11);ORDER_SWAP(4,12);ORDER_SWAP(5,13);\n",
      "ORDER_SWAP(5,10);ORDER_SWAP(6,9);ORDER_SWAP(3,12);ORDER_SWAP(7,11);ORDER_SWAP(1,2);ORDER_SWAP(4,8);\n",
      "ORDER_SWAP(1,4);ORDER_SWAP(7,13);ORDER_SWAP(2,8);ORDER_SWAP(5,6);ORDER_SWAP(9,10);\n",
      "ORDER_SWAP(2,4);ORDER_SWAP(11,13);ORDER_SWAP(3,8);ORDER_SWAP(7,12);\n",
      "ORDER_SWAP(6,8);ORDER_SWAP(10,12);ORDER_SWAP(3,5);ORDER_SWAP(7,9);\n",
      "ORDER_SWAP(3,4);ORDER_SWAP(5,6);ORDER_SWAP(7,8);ORDER_SWAP(9,10);ORDER_SWAP(11,12);\n",
      "ORDER_SWAP(6,7);ORDER_SWAP(8,9);\n",
      "}\n",
      "\n",
      "template<> void network_sort<15> (const Scalar values[15],Int order[15]){\n",
      "ORDER_SWAP(0,1);ORDER_SWAP(2,3);ORDER_SWAP(4,5);ORDER_SWAP(6,7);ORDER_SWAP(8,9);ORDER_SWAP(10,11);ORDER_SWAP(12,13);\n",
      "ORDER_SWAP(0,2);ORDER_SWAP(4,6);ORDER_SWAP(8,10);ORDER_SWAP(12,14);ORDER_SWAP(1,3);ORDER_SWAP(5,7);ORDER_SWAP(9,11);\n",
      "ORDER_SWAP(0,4);ORDER_SWAP(8,12);ORDER_SWAP(1,5);ORDER_SWAP(9,13);ORDER_SWAP(2,6);ORDER_SWAP(10,14);ORDER_SWAP(3,7);\n",
      "ORDER_SWAP(0,8);ORDER_SWAP(1,9);ORDER_SWAP(2,10);ORDER_SWAP(3,11);ORDER_SWAP(4,12);ORDER_SWAP(5,13);ORDER_SWAP(6,14);\n",
      "ORDER_SWAP(5,10);ORDER_SWAP(6,9);ORDER_SWAP(3,12);ORDER_SWAP(13,14);ORDER_SWAP(7,11);ORDER_SWAP(1,2);ORDER_SWAP(4,8);\n",
      "ORDER_SWAP(1,4);ORDER_SWAP(7,13);ORDER_SWAP(2,8);ORDER_SWAP(11,14);ORDER_SWAP(5,6);ORDER_SWAP(9,10);\n",
      "ORDER_SWAP(2,4);ORDER_SWAP(11,13);ORDER_SWAP(3,8);ORDER_SWAP(7,12);\n",
      "ORDER_SWAP(6,8);ORDER_SWAP(10,12);ORDER_SWAP(3,5);ORDER_SWAP(7,9);\n",
      "ORDER_SWAP(3,4);ORDER_SWAP(5,6);ORDER_SWAP(7,8);ORDER_SWAP(9,10);ORDER_SWAP(11,12);\n",
      "ORDER_SWAP(6,7);ORDER_SWAP(8,9);\n",
      "}\n",
      "\n",
      "template<> void network_sort<16> (const Scalar values[16],Int order[16]){\n",
      "ORDER_SWAP(0,1);ORDER_SWAP(2,3);ORDER_SWAP(4,5);ORDER_SWAP(6,7);ORDER_SWAP(8,9);ORDER_SWAP(10,11);ORDER_SWAP(12,13);ORDER_SWAP(14,15);\n",
      "ORDER_SWAP(0,2);ORDER_SWAP(4,6);ORDER_SWAP(8,10);ORDER_SWAP(12,14);ORDER_SWAP(1,3);ORDER_SWAP(5,7);ORDER_SWAP(9,11);ORDER_SWAP(13,15);\n",
      "ORDER_SWAP(0,4);ORDER_SWAP(8,12);ORDER_SWAP(1,5);ORDER_SWAP(9,13);ORDER_SWAP(2,6);ORDER_SWAP(10,14);ORDER_SWAP(3,7);ORDER_SWAP(11,15);\n",
      "ORDER_SWAP(0,8);ORDER_SWAP(1,9);ORDER_SWAP(2,10);ORDER_SWAP(3,11);ORDER_SWAP(4,12);ORDER_SWAP(5,13);ORDER_SWAP(6,14);ORDER_SWAP(7,15);\n",
      "ORDER_SWAP(5,10);ORDER_SWAP(6,9);ORDER_SWAP(3,12);ORDER_SWAP(13,14);ORDER_SWAP(7,11);ORDER_SWAP(1,2);ORDER_SWAP(4,8);\n",
      "ORDER_SWAP(1,4);ORDER_SWAP(7,13);ORDER_SWAP(2,8);ORDER_SWAP(11,14);ORDER_SWAP(5,6);ORDER_SWAP(9,10);\n",
      "ORDER_SWAP(2,4);ORDER_SWAP(11,13);ORDER_SWAP(3,8);ORDER_SWAP(7,12);\n",
      "ORDER_SWAP(6,8);ORDER_SWAP(10,12);ORDER_SWAP(3,5);ORDER_SWAP(7,9);\n",
      "ORDER_SWAP(3,4);ORDER_SWAP(5,6);ORDER_SWAP(7,8);ORDER_SWAP(9,10);ORDER_SWAP(11,12);\n",
      "ORDER_SWAP(6,7);ORDER_SWAP(8,9);}\n",
      "\n"
     ]
    }
   ],
   "source": [
    "s = \"\"\"\n",
    "--- 2\n",
    "[[0,1]]\n",
    "--- 3\n",
    "[[1,2]]\n",
    "[[0,2]]\n",
    "[[0,1]]\n",
    "--- 4\n",
    "[[0,1],[2,3]]\n",
    "[[0,2],[1,3]]\n",
    "[[1,2]]\n",
    "--- 5\n",
    "[[0,1],[3,4]]\n",
    "[[2,4]]\n",
    "[[2,3],[1,4]]\n",
    "[[0,3]]\n",
    "[[0,2],[1,3]]\n",
    "[[1,2]]\n",
    "--- 6\n",
    "[[1,2],[4,5]]\n",
    "[[0,2],[3,5]]\n",
    "[[0,1],[3,4],[2,5]]\n",
    "[[0,3],[1,4]]\n",
    "[[2,4],[1,3]]\n",
    "[[2,3]]\n",
    "--- 7\n",
    "[[1,2],[3,4],[5,6]]\n",
    "[[0,2],[3,5],[4,6]]\n",
    "[[0,1],[4,5],[2,6]]\n",
    "[[0,4],[1,5]]\n",
    "[[0,3],[2,5]]\n",
    "[[1,3],[2,4]]\n",
    "[[2,3]]\n",
    "--- 8\n",
    "[[0,1],[2,3],[4,5],[6,7]]\n",
    "[[0,2],[1,3],[4,6],[5,7]]\n",
    "[[1,2],[5,6],[0,4],[3,7]]\n",
    "[[1,5],[2,6]]\n",
    "[[1,4],[3,6]]\n",
    "[[2,4],[3,5]]\n",
    "[[3,4]]\n",
    "--- 9\n",
    "[[0,1],[3,4],[6,7]]\n",
    "[[1,2],[4,5],[7,8]]\n",
    "[[0,1],[3,4],[6,7],[2,5]]\n",
    "[[0,3],[1,4],[5,8]]\n",
    "[[3,6],[4,7],[2,5]]\n",
    "[[0,3],[1,4],[5,7],[2,6]]\n",
    "[[1,3],[4,6]]\n",
    "[[2,4],[5,6]]\n",
    "[[2,3]]\n",
    "--- 10\n",
    "[[4,9],[3,8],[2,7],[1,6],[0,5]]\n",
    "[[1,4],[6,9],[0,3],[5,8]]\n",
    "[[0,2],[3,6],[7,9]]\n",
    "[[0,1],[2,4],[5,7],[8,9]]\n",
    "[[1,2],[4,6],[7,8],[3,5]]\n",
    "[[2,5],[6,8],[1,3],[4,7]]\n",
    "[[2,3],[6,7]]\n",
    "[[3,4],[5,6]]\n",
    "[[4,5]]\n",
    "--- 11\n",
    "[[0,1],[2,3],[4,5],[6,7],[8,9]]\n",
    "[[1,3],[5,7],[0,2],[4,6],[8,10]]\n",
    "[[1,2],[5,6],[9,10],[0,4],[3,7]]\n",
    "[[1,5],[6,10],[4,8]]\n",
    "[[5,9],[2,6],[0,4],[3,8]]\n",
    "[[1,5],[6,10],[2,3],[8,9]]\n",
    "[[1,4],[7,10],[3,5],[6,8]]\n",
    "[[2,4],[7,9],[5,6]]\n",
    "[[3,4],[7,8]]\n",
    "--- 12\n",
    "[[0,1],[2,3],[4,5],[6,7],[8,9],[10,11]]\n",
    "[[1,3],[5,7],[9,11],[0,2],[4,6],[8,10]]\n",
    "[[1,2],[5,6],[9,10],[0,4],[7,11]]\n",
    "[[1,5],[6,10],[3,7],[4,8]]\n",
    "[[5,9],[2,6],[0,4],[7,11],[3,8]]\n",
    "[[1,5],[6,10],[2,3],[8,9]]\n",
    "[[1,4],[7,10],[3,5],[6,8]]\n",
    "[[2,4],[7,9],[5,6]]\n",
    "[[3,4],[7,8]]\n",
    "--- 13\n",
    "[[1,7],[9,11],[3,4],[5,8],[0,12],[2,6]]\n",
    "[[0,1],[2,3],[4,6],[8,11],[7,12],[5,9]]\n",
    "[[0,2],[3,7],[10,11],[1,4],[6,12]]\n",
    "[[7,8],[11,12],[4,9],[6,10]]\n",
    "[[3,4],[5,6],[8,9],[10,11],[1,7]]\n",
    "[[2,6],[9,11],[1,3],[4,7],[8,10],[0,5]]\n",
    "[[2,5],[6,8],[9,10]]\n",
    "[[1,2],[3,5],[7,8],[4,6]]\n",
    "[[2,3],[4,5],[6,7],[8,9]]\n",
    "[[3,4],[5,6]]\n",
    "--- 14\n",
    "[[0,1],[2,3],[4,5],[6,7],[8,9],[10,11],[12,13]]\n",
    "[[0,2],[4,6],[8,10],[1,3],[5,7],[9,11]]\n",
    "[[0,4],[8,12],[1,5],[9,13],[2,6],[3,7]]\n",
    "[[0,8],[1,9],[2,10],[3,11],[4,12],[5,13]]\n",
    "[[5,10],[6,9],[3,12],[7,11],[1,2],[4,8]]\n",
    "[[1,4],[7,13],[2,8],[5,6],[9,10]]\n",
    "[[2,4],[11,13],[3,8],[7,12]]\n",
    "[[6,8],[10,12],[3,5],[7,9]]\n",
    "[[3,4],[5,6],[7,8],[9,10],[11,12]]\n",
    "[[6,7],[8,9]]\n",
    "--- 15\n",
    "[[0,1],[2,3],[4,5],[6,7],[8,9],[10,11],[12,13]]\n",
    "[[0,2],[4,6],[8,10],[12,14],[1,3],[5,7],[9,11]]\n",
    "[[0,4],[8,12],[1,5],[9,13],[2,6],[10,14],[3,7]]\n",
    "[[0,8],[1,9],[2,10],[3,11],[4,12],[5,13],[6,14]]\n",
    "[[5,10],[6,9],[3,12],[13,14],[7,11],[1,2],[4,8]]\n",
    "[[1,4],[7,13],[2,8],[11,14],[5,6],[9,10]]\n",
    "[[2,4],[11,13],[3,8],[7,12]]\n",
    "[[6,8],[10,12],[3,5],[7,9]]\n",
    "[[3,4],[5,6],[7,8],[9,10],[11,12]]\n",
    "[[6,7],[8,9]]\n",
    "--- 16\n",
    "[[0,1],[2,3],[4,5],[6,7],[8,9],[10,11],[12,13],[14,15]]\n",
    "[[0,2],[4,6],[8,10],[12,14],[1,3],[5,7],[9,11],[13,15]]\n",
    "[[0,4],[8,12],[1,5],[9,13],[2,6],[10,14],[3,7],[11,15]]\n",
    "[[0,8],[1,9],[2,10],[3,11],[4,12],[5,13],[6,14],[7,15]]\n",
    "[[5,10],[6,9],[3,12],[13,14],[7,11],[1,2],[4,8]]\n",
    "[[1,4],[7,13],[2,8],[11,14],[5,6],[9,10]]\n",
    "[[2,4],[11,13],[3,8],[7,12]]\n",
    "[[6,8],[10,12],[3,5],[7,9]]\n",
    "[[3,4],[5,6],[7,8],[9,10],[11,12]]\n",
    "[[6,7],[8,9]]\"\"\"\n",
    "#s = s.split('--- ')\n",
    "print(code_networks(s))"
   ]
  },
  {
   "cell_type": "code",
   "execution_count": 46,
   "metadata": {},
   "outputs": [],
   "source": [
    "np.set_printoptions(edgeitems=30, linewidth=100000, \n",
    "    formatter=dict(float=lambda x: \"%5.9g\" % x))"
   ]
  },
  {
   "cell_type": "code",
   "execution_count": 25,
   "metadata": {},
   "outputs": [],
   "source": [
    "def cos_sin_table(n):\n",
    "    angles = (np.arange(n)+0.5)*np.pi/n\n",
    "    return np.cos(angles),np.sin(angles)"
   ]
  },
  {
   "cell_type": "code",
   "execution_count": 26,
   "metadata": {
    "scrolled": true
   },
   "outputs": [
    {
     "data": {
      "text/plain": [
       "(array([0.951056516, 0.587785252, 6.123234e-17, -0.587785252, -0.951056516]),\n",
       " array([0.309016994, 0.809016994,     1, 0.809016994, 0.309016994]))"
      ]
     },
     "execution_count": 26,
     "metadata": {},
     "output_type": "execute_result"
    }
   ],
   "source": [
    "cos_sin_table(5)"
   ]
  },
  {
   "cell_type": "code",
   "execution_count": 27,
   "metadata": {},
   "outputs": [
    {
     "data": {
      "text/plain": [
       "(array([0.984807753, 0.866025404, 0.64278761, 0.342020143, 6.123234e-17, -0.342020143, -0.64278761, -0.866025404, -0.984807753]),\n",
       " array([0.173648178,   0.5, 0.766044443, 0.939692621,     1, 0.939692621, 0.766044443,   0.5, 0.173648178]))"
      ]
     },
     "execution_count": 27,
     "metadata": {},
     "output_type": "execute_result"
    }
   ],
   "source": [
    "cos_sin_table(9)"
   ]
  },
  {
   "cell_type": "code",
   "execution_count": 2,
   "metadata": {},
   "outputs": [],
   "source": [
    "arr = ad.Dense.identity(constant=(3,1,2))"
   ]
  },
  {
   "cell_type": "code",
   "execution_count": 13,
   "metadata": {},
   "outputs": [
    {
     "data": {
      "text/plain": [
       "True"
      ]
     },
     "execution_count": 13,
     "metadata": {},
     "output_type": "execute_result"
    }
   ],
   "source": [
    "isinstance(2,numbers.Integral)"
   ]
  },
  {
   "cell_type": "code",
   "execution_count": 3,
   "metadata": {},
   "outputs": [],
   "source": [
    "arr2=arr.copy()\n",
    "np.copyto._implementation(arr2,0,casting='unsafe')"
   ]
  },
  {
   "cell_type": "code",
   "execution_count": 4,
   "metadata": {},
   "outputs": [
    {
     "data": {
      "text/plain": [
       "denseAD(array([1, 1, 1]),array([], shape=(3, 0), dtype=int64))"
      ]
     },
     "execution_count": 4,
     "metadata": {},
     "output_type": "execute_result"
    }
   ],
   "source": [
    "np.ones_like(arr)"
   ]
  },
  {
   "cell_type": "code",
   "execution_count": 5,
   "metadata": {},
   "outputs": [
    {
     "data": {
      "text/plain": [
       "denseAD(array([2, 2, 2]),array([], shape=(3, 0), dtype=int64))"
      ]
     },
     "execution_count": 5,
     "metadata": {},
     "output_type": "execute_result"
    }
   ],
   "source": [
    "np.full_like(arr,2.)"
   ]
  },
  {
   "cell_type": "code",
   "execution_count": 6,
   "metadata": {},
   "outputs": [
    {
     "data": {
      "text/plain": [
       "denseAD(array([0, 0, 0]),\n",
       "array([[1, 0, 0],\n",
       "       [0, 1, 0],\n",
       "       [0, 0, 1]]))"
      ]
     },
     "execution_count": 6,
     "metadata": {},
     "output_type": "execute_result"
    }
   ],
   "source": [
    "arr2"
   ]
  },
  {
   "cell_type": "code",
   "execution_count": 9,
   "metadata": {},
   "outputs": [
    {
     "data": {
      "text/plain": [
       "denseAD(array([3, 3, 2]),\n",
       "array([[1, 0, 0],\n",
       "       [0, 0, 0],\n",
       "       [0, 0, 1]]))"
      ]
     },
     "execution_count": 9,
     "metadata": {},
     "output_type": "execute_result"
    }
   ],
   "source": [
    "np.maximum(np.array((1,3,2)),arr)"
   ]
  },
  {
   "cell_type": "code",
   "execution_count": 8,
   "metadata": {},
   "outputs": [
    {
     "data": {
      "text/plain": [
       "denseAD(array([[1, 1, 1],\n",
       "       [1, 1, 1],\n",
       "       [1, 1, 1]]),array([], shape=(3, 3, 0), dtype=int64))"
      ]
     },
     "execution_count": 8,
     "metadata": {},
     "output_type": "execute_result"
    }
   ],
   "source": [
    "np.ones_like._implementation(arr,shape=(3,3))"
   ]
  },
  {
   "cell_type": "code",
   "execution_count": 11,
   "metadata": {},
   "outputs": [
    {
     "data": {
      "text/plain": [
       "denseAD(array([[1, 3, 2],\n",
       "       [3, 1, 2]]),\n",
       "array([[[0, 0, 0],\n",
       "        [0, 0, 0],\n",
       "        [0, 0, 0]],\n",
       "\n",
       "       [[1, 0, 0],\n",
       "        [0, 1, 0],\n",
       "        [0, 0, 1]]]))"
      ]
     },
     "execution_count": 11,
     "metadata": {},
     "output_type": "execute_result"
    }
   ],
   "source": [
    "np.stack((np.array((1,3,2)),arr),axis=0)"
   ]
  },
  {
   "cell_type": "code",
   "execution_count": 7,
   "metadata": {},
   "outputs": [
    {
     "data": {
      "text/plain": [
       "denseAD(array(6),array([1, 1, 1]))"
      ]
     },
     "execution_count": 7,
     "metadata": {},
     "output_type": "execute_result"
    }
   ],
   "source": [
    "np.sum._implementation(arr,axis=0)"
   ]
  },
  {
   "cell_type": "code",
   "execution_count": 6,
   "metadata": {},
   "outputs": [
    {
     "data": {
      "text/plain": [
       "denseAD(array([3, 1, 2]),\n",
       "array([[1, 0, 0],\n",
       "       [0, 1, 0],\n",
       "       [0, 0, 1]]))"
      ]
     },
     "execution_count": 6,
     "metadata": {},
     "output_type": "execute_result"
    }
   ],
   "source": [
    "np.moveaxis._implementation(arr,0,-1)"
   ]
  },
  {
   "cell_type": "code",
   "execution_count": 18,
   "metadata": {},
   "outputs": [
    {
     "data": {
      "text/plain": [
       "{'__wrapped__': <function numpy.core.fromnumeric.sum(a, axis=None, dtype=None, out=None, keepdims=<no value>, initial=<no value>, where=<no value>)>,\n",
       " '_implementation': <function numpy.core.fromnumeric.sum(a, axis=None, dtype=None, out=None, keepdims=<no value>, initial=<no value>, where=<no value>)>}"
      ]
     },
     "execution_count": 18,
     "metadata": {},
     "output_type": "execute_result"
    }
   ],
   "source": [
    "np.sum.__dict__"
   ]
  },
  {
   "cell_type": "code",
   "execution_count": 16,
   "metadata": {},
   "outputs": [
    {
     "name": "stdout",
     "output_type": "stream",
     "text": [
      "hi\n"
     ]
    },
    {
     "data": {
      "text/plain": [
       "denseAD(array([3, 1, 2]),\n",
       "array([[1, 0, 0],\n",
       "       [0, 1, 0],\n",
       "       [0, 0, 1]]))"
      ]
     },
     "execution_count": 16,
     "metadata": {},
     "output_type": "execute_result"
    }
   ],
   "source": [
    "np.moveaxis._implementation(arr,0,0)"
   ]
  },
  {
   "cell_type": "code",
   "execution_count": 8,
   "metadata": {},
   "outputs": [
    {
     "name": "stdout",
     "output_type": "stream",
     "text": [
      "@array_function_dispatch(_ones_like_dispatcher)\n",
      "def ones_like(a, dtype=None, order='K', subok=True, shape=None):\n",
      "    \"\"\"\n",
      "    Return an array of ones with the same shape and type as a given array.\n",
      "\n",
      "    Parameters\n",
      "    ----------\n",
      "    a : array_like\n",
      "        The shape and data-type of `a` define these same attributes of\n",
      "        the returned array.\n",
      "    dtype : data-type, optional\n",
      "        Overrides the data type of the result.\n",
      "\n",
      "        .. versionadded:: 1.6.0\n",
      "    order : {'C', 'F', 'A', or 'K'}, optional\n",
      "        Overrides the memory layout of the result. 'C' means C-order,\n",
      "        'F' means F-order, 'A' means 'F' if `a` is Fortran contiguous,\n",
      "        'C' otherwise. 'K' means match the layout of `a` as closely\n",
      "        as possible.\n",
      "\n",
      "        .. versionadded:: 1.6.0\n",
      "    subok : bool, optional.\n",
      "        If True, then the newly created array will use the sub-class\n",
      "        type of 'a', otherwise it will be a base-class array. Defaults\n",
      "        to True.\n",
      "    shape : int or sequence of ints, optional.\n",
      "        Overrides the shape of the result. If order='K' and the number of\n",
      "        dimensions is unchanged, will try to keep order, otherwise,\n",
      "        order='C' is implied.\n",
      "\n",
      "        .. versionadded:: 1.17.0\n",
      "\n",
      "    Returns\n",
      "    -------\n",
      "    out : ndarray\n",
      "        Array of ones with the same shape and type as `a`.\n",
      "\n",
      "    See Also\n",
      "    --------\n",
      "    empty_like : Return an empty array with shape and type of input.\n",
      "    zeros_like : Return an array of zeros with shape and type of input.\n",
      "    full_like : Return a new array with shape of input filled with value.\n",
      "    ones : Return a new array setting values to one.\n",
      "\n",
      "    Examples\n",
      "    --------\n",
      "    >>> x = np.arange(6)\n",
      "    >>> x = x.reshape((2, 3))\n",
      "    >>> x\n",
      "    array([[0, 1, 2],\n",
      "           [3, 4, 5]])\n",
      "    >>> np.ones_like(x)\n",
      "    array([[1, 1, 1],\n",
      "           [1, 1, 1]])\n",
      "\n",
      "    >>> y = np.arange(3, dtype=float)\n",
      "    >>> y\n",
      "    array([0., 1., 2.])\n",
      "    >>> np.ones_like(y)\n",
      "    array([1.,  1.,  1.])\n",
      "\n",
      "    \"\"\"\n",
      "    res = empty_like(a, dtype=dtype, order=order, subok=subok, shape=shape)\n",
      "    multiarray.copyto(res, 1, casting='unsafe')\n",
      "    return res\n",
      "\n"
     ]
    }
   ],
   "source": [
    "print(inspect.getsource(np.ones_like))"
   ]
  },
  {
   "cell_type": "code",
   "execution_count": 11,
   "metadata": {},
   "outputs": [
    {
     "data": {
      "text/plain": [
       "{'__wrapped__': <function numpy.core.numeric.moveaxis(a, source, destination)>,\n",
       " '_implementation': <function numpy.core.numeric.moveaxis(a, source, destination)>}"
      ]
     },
     "execution_count": 11,
     "metadata": {},
     "output_type": "execute_result"
    }
   ],
   "source": [
    "np.moveaxis.__dict__"
   ]
  },
  {
   "cell_type": "code",
   "execution_count": 8,
   "metadata": {},
   "outputs": [
    {
     "ename": "AttributeError",
     "evalue": "'denseAD' object has no attribute 'coef'",
     "output_type": "error",
     "traceback": [
      "\u001b[0;31m---------------------------------------------------------------------------\u001b[0m",
      "\u001b[0;31mAttributeError\u001b[0m                            Traceback (most recent call last)",
      "\u001b[0;32m~/opt/miniconda3/envs/agd-hfm_dev/lib/python3.8/site-packages/IPython/core/formatters.py\u001b[0m in \u001b[0;36m__call__\u001b[0;34m(self, obj)\u001b[0m\n\u001b[1;32m    700\u001b[0m                 \u001b[0mtype_pprinters\u001b[0m\u001b[0;34m=\u001b[0m\u001b[0mself\u001b[0m\u001b[0;34m.\u001b[0m\u001b[0mtype_printers\u001b[0m\u001b[0;34m,\u001b[0m\u001b[0;34m\u001b[0m\u001b[0;34m\u001b[0m\u001b[0m\n\u001b[1;32m    701\u001b[0m                 deferred_pprinters=self.deferred_printers)\n\u001b[0;32m--> 702\u001b[0;31m             \u001b[0mprinter\u001b[0m\u001b[0;34m.\u001b[0m\u001b[0mpretty\u001b[0m\u001b[0;34m(\u001b[0m\u001b[0mobj\u001b[0m\u001b[0;34m)\u001b[0m\u001b[0;34m\u001b[0m\u001b[0;34m\u001b[0m\u001b[0m\n\u001b[0m\u001b[1;32m    703\u001b[0m             \u001b[0mprinter\u001b[0m\u001b[0;34m.\u001b[0m\u001b[0mflush\u001b[0m\u001b[0;34m(\u001b[0m\u001b[0;34m)\u001b[0m\u001b[0;34m\u001b[0m\u001b[0;34m\u001b[0m\u001b[0m\n\u001b[1;32m    704\u001b[0m             \u001b[0;32mreturn\u001b[0m \u001b[0mstream\u001b[0m\u001b[0;34m.\u001b[0m\u001b[0mgetvalue\u001b[0m\u001b[0;34m(\u001b[0m\u001b[0;34m)\u001b[0m\u001b[0;34m\u001b[0m\u001b[0;34m\u001b[0m\u001b[0m\n",
      "\u001b[0;32m~/opt/miniconda3/envs/agd-hfm_dev/lib/python3.8/site-packages/IPython/lib/pretty.py\u001b[0m in \u001b[0;36mpretty\u001b[0;34m(self, obj)\u001b[0m\n\u001b[1;32m    397\u001b[0m                         \u001b[0;32mif\u001b[0m \u001b[0mcls\u001b[0m \u001b[0;32mis\u001b[0m \u001b[0;32mnot\u001b[0m \u001b[0mobject\u001b[0m\u001b[0;31m \u001b[0m\u001b[0;31m\\\u001b[0m\u001b[0;34m\u001b[0m\u001b[0;34m\u001b[0m\u001b[0m\n\u001b[1;32m    398\u001b[0m                                 \u001b[0;32mand\u001b[0m \u001b[0mcallable\u001b[0m\u001b[0;34m(\u001b[0m\u001b[0mcls\u001b[0m\u001b[0;34m.\u001b[0m\u001b[0m__dict__\u001b[0m\u001b[0;34m.\u001b[0m\u001b[0mget\u001b[0m\u001b[0;34m(\u001b[0m\u001b[0;34m'__repr__'\u001b[0m\u001b[0;34m)\u001b[0m\u001b[0;34m)\u001b[0m\u001b[0;34m:\u001b[0m\u001b[0;34m\u001b[0m\u001b[0;34m\u001b[0m\u001b[0m\n\u001b[0;32m--> 399\u001b[0;31m                             \u001b[0;32mreturn\u001b[0m \u001b[0m_repr_pprint\u001b[0m\u001b[0;34m(\u001b[0m\u001b[0mobj\u001b[0m\u001b[0;34m,\u001b[0m \u001b[0mself\u001b[0m\u001b[0;34m,\u001b[0m \u001b[0mcycle\u001b[0m\u001b[0;34m)\u001b[0m\u001b[0;34m\u001b[0m\u001b[0;34m\u001b[0m\u001b[0m\n\u001b[0m\u001b[1;32m    400\u001b[0m \u001b[0;34m\u001b[0m\u001b[0m\n\u001b[1;32m    401\u001b[0m             \u001b[0;32mreturn\u001b[0m \u001b[0m_default_pprint\u001b[0m\u001b[0;34m(\u001b[0m\u001b[0mobj\u001b[0m\u001b[0;34m,\u001b[0m \u001b[0mself\u001b[0m\u001b[0;34m,\u001b[0m \u001b[0mcycle\u001b[0m\u001b[0;34m)\u001b[0m\u001b[0;34m\u001b[0m\u001b[0;34m\u001b[0m\u001b[0m\n",
      "\u001b[0;32m~/opt/miniconda3/envs/agd-hfm_dev/lib/python3.8/site-packages/IPython/lib/pretty.py\u001b[0m in \u001b[0;36m_repr_pprint\u001b[0;34m(obj, p, cycle)\u001b[0m\n\u001b[1;32m    687\u001b[0m     \u001b[0;34m\"\"\"A pprint that just redirects to the normal repr function.\"\"\"\u001b[0m\u001b[0;34m\u001b[0m\u001b[0;34m\u001b[0m\u001b[0m\n\u001b[1;32m    688\u001b[0m     \u001b[0;31m# Find newlines and replace them with p.break_()\u001b[0m\u001b[0;34m\u001b[0m\u001b[0;34m\u001b[0m\u001b[0;34m\u001b[0m\u001b[0m\n\u001b[0;32m--> 689\u001b[0;31m     \u001b[0moutput\u001b[0m \u001b[0;34m=\u001b[0m \u001b[0mrepr\u001b[0m\u001b[0;34m(\u001b[0m\u001b[0mobj\u001b[0m\u001b[0;34m)\u001b[0m\u001b[0;34m\u001b[0m\u001b[0;34m\u001b[0m\u001b[0m\n\u001b[0m\u001b[1;32m    690\u001b[0m     \u001b[0;32mfor\u001b[0m \u001b[0midx\u001b[0m\u001b[0;34m,\u001b[0m\u001b[0moutput_line\u001b[0m \u001b[0;32min\u001b[0m \u001b[0menumerate\u001b[0m\u001b[0;34m(\u001b[0m\u001b[0moutput\u001b[0m\u001b[0;34m.\u001b[0m\u001b[0msplitlines\u001b[0m\u001b[0;34m(\u001b[0m\u001b[0;34m)\u001b[0m\u001b[0;34m)\u001b[0m\u001b[0;34m:\u001b[0m\u001b[0;34m\u001b[0m\u001b[0;34m\u001b[0m\u001b[0m\n\u001b[1;32m    691\u001b[0m         \u001b[0;32mif\u001b[0m \u001b[0midx\u001b[0m\u001b[0;34m:\u001b[0m\u001b[0;34m\u001b[0m\u001b[0;34m\u001b[0m\u001b[0m\n",
      "\u001b[0;32m~/Dropbox/Programmes/Github/AdaptiveGridDiscretizations/agd/AutomaticDifferentiation/Dense.py\u001b[0m in \u001b[0;36m__repr__\u001b[0;34m(self)\u001b[0m\n\u001b[1;32m     79\u001b[0m                 \u001b[0;32mreturn\u001b[0m \u001b[0;34m\"denseAD(\"\u001b[0m\u001b[0;34m+\u001b[0m\u001b[0mstr\u001b[0m\u001b[0;34m(\u001b[0m\u001b[0mself\u001b[0m\u001b[0;34m.\u001b[0m\u001b[0mvalue\u001b[0m\u001b[0;34m)\u001b[0m\u001b[0;34m+\u001b[0m\u001b[0;34m\",\"\u001b[0m\u001b[0;34m+\u001b[0m\u001b[0mmisc\u001b[0m\u001b[0;34m.\u001b[0m\u001b[0m_prep_nl\u001b[0m\u001b[0;34m(\u001b[0m\u001b[0mstr\u001b[0m\u001b[0;34m(\u001b[0m\u001b[0mself\u001b[0m\u001b[0;34m.\u001b[0m\u001b[0mcoef\u001b[0m\u001b[0;34m)\u001b[0m\u001b[0;34m)\u001b[0m\u001b[0;34m+\u001b[0m\u001b[0;34m\")\"\u001b[0m\u001b[0;34m\u001b[0m\u001b[0;34m\u001b[0m\u001b[0m\n\u001b[1;32m     80\u001b[0m         \u001b[0;32mdef\u001b[0m \u001b[0m__repr__\u001b[0m\u001b[0;34m(\u001b[0m\u001b[0mself\u001b[0m\u001b[0;34m)\u001b[0m\u001b[0;34m:\u001b[0m\u001b[0;34m\u001b[0m\u001b[0;34m\u001b[0m\u001b[0m\n\u001b[0;32m---> 81\u001b[0;31m                 \u001b[0;32mreturn\u001b[0m \u001b[0;34m\"denseAD(\"\u001b[0m\u001b[0;34m+\u001b[0m\u001b[0mrepr\u001b[0m\u001b[0;34m(\u001b[0m\u001b[0mself\u001b[0m\u001b[0;34m.\u001b[0m\u001b[0mvalue\u001b[0m\u001b[0;34m)\u001b[0m\u001b[0;34m+\u001b[0m\u001b[0;34m\",\"\u001b[0m\u001b[0;34m+\u001b[0m\u001b[0mmisc\u001b[0m\u001b[0;34m.\u001b[0m\u001b[0m_prep_nl\u001b[0m\u001b[0;34m(\u001b[0m\u001b[0mrepr\u001b[0m\u001b[0;34m(\u001b[0m\u001b[0mself\u001b[0m\u001b[0;34m.\u001b[0m\u001b[0mcoef\u001b[0m\u001b[0;34m)\u001b[0m\u001b[0;34m)\u001b[0m\u001b[0;34m+\u001b[0m\u001b[0;34m\")\"\u001b[0m\u001b[0;34m\u001b[0m\u001b[0;34m\u001b[0m\u001b[0m\n\u001b[0m\u001b[1;32m     82\u001b[0m \u001b[0;34m\u001b[0m\u001b[0m\n\u001b[1;32m     83\u001b[0m         \u001b[0;31m# Operators\u001b[0m\u001b[0;34m\u001b[0m\u001b[0;34m\u001b[0m\u001b[0;34m\u001b[0m\u001b[0m\n",
      "\u001b[0;31mAttributeError\u001b[0m: 'denseAD' object has no attribute 'coef'"
     ]
    }
   ],
   "source": [
    "np.moveaxis(super(type(arr),arr),0,-1)"
   ]
  },
  {
   "cell_type": "code",
   "execution_count": 3,
   "metadata": {},
   "outputs": [
    {
     "name": "stdout",
     "output_type": "stream",
     "text": [
      "__array_function__ <function full_like at 0x115376af0>\n"
     ]
    },
    {
     "data": {
      "text/plain": [
       "denseAD(array([[0, 0, 0],\n",
       "       [0, 0, 0],\n",
       "       [0, 0, 0]]),array([], shape=(3, 3, 0), dtype=int64))"
      ]
     },
     "execution_count": 3,
     "metadata": {},
     "output_type": "execute_result"
    }
   ],
   "source": [
    "np.full_like(arr,shape=(3,3),fill_value=0.)"
   ]
  },
  {
   "cell_type": "code",
   "execution_count": 4,
   "metadata": {},
   "outputs": [
    {
     "name": "stdout",
     "output_type": "stream",
     "text": [
      "__array_function__ <function ones_like at 0x1153768b0>\n"
     ]
    },
    {
     "data": {
      "text/plain": [
       "denseAD(array([[1, 1, 1],\n",
       "       [1, 1, 1],\n",
       "       [1, 1, 1]]),array([], shape=(3, 3, 0), dtype=int64))"
      ]
     },
     "execution_count": 4,
     "metadata": {},
     "output_type": "execute_result"
    }
   ],
   "source": [
    "np.ones_like(arr,shape=(3,3))"
   ]
  },
  {
   "cell_type": "code",
   "execution_count": 5,
   "metadata": {},
   "outputs": [
    {
     "name": "stdout",
     "output_type": "stream",
     "text": [
      "__array_function__ <function broadcast_to at 0x115525b80>\n"
     ]
    },
    {
     "data": {
      "text/plain": [
       "denseAD(array([[3, 1, 2],\n",
       "       [3, 1, 2],\n",
       "       [3, 1, 2]]),\n",
       "array([[[1, 0, 0],\n",
       "        [0, 1, 0],\n",
       "        [0, 0, 1]],\n",
       "\n",
       "       [[1, 0, 0],\n",
       "        [0, 1, 0],\n",
       "        [0, 0, 1]],\n",
       "\n",
       "       [[1, 0, 0],\n",
       "        [0, 1, 0],\n",
       "        [0, 0, 1]]]))"
      ]
     },
     "execution_count": 5,
     "metadata": {},
     "output_type": "execute_result"
    }
   ],
   "source": [
    "np.broadcast_to(arr,shape=(3,3))"
   ]
  },
  {
   "cell_type": "code",
   "execution_count": 6,
   "metadata": {},
   "outputs": [
    {
     "name": "stdout",
     "output_type": "stream",
     "text": [
      "__array_function__ <function where at 0x11008a160>\n"
     ]
    },
    {
     "data": {
      "text/plain": [
       "denseAD(array([3, 0, 2]),\n",
       "array([[1, 0, 0],\n",
       "       [0, 0, 0],\n",
       "       [0, 0, 1]]))"
      ]
     },
     "execution_count": 6,
     "metadata": {},
     "output_type": "execute_result"
    }
   ],
   "source": [
    "np.where(arr>=2,arr,0.)"
   ]
  },
  {
   "cell_type": "code",
   "execution_count": 7,
   "metadata": {},
   "outputs": [
    {
     "name": "stdout",
     "output_type": "stream",
     "text": [
      "__array_function__ <function sort at 0x115395c10>\n",
      "__array_function__ <function take_along_axis at 0x1155470d0>\n"
     ]
    },
    {
     "data": {
      "text/plain": [
       "denseAD(array([1, 2, 3]),\n",
       "array([[0, 1, 0],\n",
       "       [0, 0, 1],\n",
       "       [1, 0, 0]]))"
      ]
     },
     "execution_count": 7,
     "metadata": {},
     "output_type": "execute_result"
    }
   ],
   "source": [
    "np.sort(arr)"
   ]
  },
  {
   "cell_type": "code",
   "execution_count": 8,
   "metadata": {},
   "outputs": [
    {
     "data": {
      "text/plain": [
       "2"
      ]
     },
     "execution_count": 8,
     "metadata": {},
     "output_type": "execute_result"
    }
   ],
   "source": [
    "arr.flat[2]"
   ]
  },
  {
   "cell_type": "code",
   "execution_count": 9,
   "metadata": {},
   "outputs": [],
   "source": [
    "scarr = ad.Dense.identity(constant=1.)"
   ]
  },
  {
   "cell_type": "code",
   "execution_count": 10,
   "metadata": {},
   "outputs": [
    {
     "data": {
      "text/plain": [
       "1.0"
      ]
     },
     "execution_count": 10,
     "metadata": {},
     "output_type": "execute_result"
    }
   ],
   "source": [
    "np.float64(0.) + scarr"
   ]
  },
  {
   "cell_type": "code",
   "execution_count": 12,
   "metadata": {},
   "outputs": [
    {
     "data": {
      "text/plain": [
       "-1000000.0"
      ]
     },
     "execution_count": 12,
     "metadata": {},
     "output_type": "execute_result"
    }
   ],
   "source": [
    "np.float64(1.).__array_priority__"
   ]
  },
  {
   "cell_type": "code",
   "execution_count": 13,
   "metadata": {},
   "outputs": [
    {
     "data": {
      "text/plain": [
       "0.0"
      ]
     },
     "execution_count": 13,
     "metadata": {},
     "output_type": "execute_result"
    }
   ],
   "source": [
    "np.array(1.).__array_priority__"
   ]
  },
  {
   "cell_type": "code",
   "execution_count": 15,
   "metadata": {},
   "outputs": [
    {
     "data": {
      "text/plain": [
       "numpy.float64"
      ]
     },
     "execution_count": 15,
     "metadata": {},
     "output_type": "execute_result"
    }
   ],
   "source": [
    "type(np.float64(1.)+np.array(1.))"
   ]
  },
  {
   "cell_type": "code",
   "execution_count": null,
   "metadata": {},
   "outputs": [],
   "source": []
  }
 ],
 "metadata": {
  "kernelspec": {
   "display_name": "Python 3",
   "language": "python",
   "name": "python3"
  },
  "language_info": {
   "codemirror_mode": {
    "name": "ipython",
    "version": 3
   },
   "file_extension": ".py",
   "mimetype": "text/x-python",
   "name": "python",
   "nbconvert_exporter": "python",
   "pygments_lexer": "ipython3",
   "version": "3.8.1"
  }
 },
 "nbformat": 4,
 "nbformat_minor": 4
}
