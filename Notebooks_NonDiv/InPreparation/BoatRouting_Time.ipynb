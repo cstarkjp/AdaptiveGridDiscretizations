{
 "cells": [
  {
   "cell_type": "markdown",
   "metadata": {},
   "source": [
    "# Adaptive PDE discretizations on cartesian grids\n",
    "## Volume : Non-Divergence form PDEs\n",
    "## Part : Applications\n",
    "## Chapter : Boat routing\n",
    "\n",
    "\n",
    "In this notebook, we compute the optimal route for a boat under the following assumptions:\n",
    "- The objective is to minimize the fuel consumption, for a prescribed the travel time, or window of travel times.\n",
    "- The boat fuel consumption is locally a quadratic function of its relative velocity, w.r.t. water.\n",
    "- The boat total velocity is the sum of the relative velocity w.r.t water and of a drift due to water currents.\n",
    "\n",
    "**Discussion of the assumptions**\n",
    "\n",
    "These assumptions chosen above are a strong simplification of reality. Some of them may be relaxed, at the price of more complexity in the implementation. \n",
    "- The boat velocity model can be complexified. In fact, the method described below can handle any convex cost, approximated in a suitable manner. However, determining this cost (which depends on the physical properties of the boat), and approximating it (fitting a convex set with an intersection of ellipsoids), may raise difficulties in itself. \n",
    "- The problem considered here is time dependent. However, if time dependency is not a prerequisite for the application, then a much simpler and faster alternative numerical method can be considered, described in another notebook.\n",
    "\n",
    "**Time and space complexity**\n",
    "\n",
    "The numerical approach presented below (time dependent problem) is orders of magnitude slover than the fast marching method discussed in the other notebook (static problem), and uses orders of magnitude more memory. However, the time dependent method should not be immediately dismissed on this account, since there are huge unexploited optimization opportunities. (Which may be illustrated in a future notebook.)\n",
    "- *Time complexity.* The time dependent method is embarassingly parallel, and one may easily take advantage of GPU computing power. Speed improvements by a factor 100 are not unlikely.\n",
    "- *Space complexity.* Bactracking the minimal paths requires to visit the PDE solution in reverse time. Currently, we keep a complete history of the computations, which has a huge memory cost. A more reasonable implementation would use landmarks, possibly in a recursive manner, and recompute some parts of the solution on the fly as needed."
   ]
  },
  {
   "cell_type": "markdown",
   "metadata": {},
   "source": [
    "## 0. Importing the required libraries"
   ]
  },
  {
   "cell_type": "code",
   "execution_count": 1,
   "metadata": {},
   "outputs": [],
   "source": [
    "import sys; sys.path.insert(0,\"../..\") # Allow import of agd from parent directory (useless if conda package installed)\n",
    "#from Miscellaneous import TocTools; print(TocTools.displayTOC('BoatRouting','FMM'))"
   ]
  },
  {
   "cell_type": "code",
   "execution_count": 102,
   "metadata": {},
   "outputs": [],
   "source": [
    "from agd import LinearParallel as lp\n",
    "from agd import FiniteDifferences as fd\n",
    "from agd import Selling\n",
    "from agd import AutomaticDifferentiation as ad\n",
    "from agd import HFMUtils\n",
    "from agd import Interpolation\n",
    "from agd.Plotting import savefig; #savefig.dirName = 'Images/BoatRouting'\n",
    "\n",
    "from agd.ExportedCode.Notebooks_FMM import BoatRouting"
   ]
  },
  {
   "cell_type": "code",
   "execution_count": 3,
   "metadata": {},
   "outputs": [],
   "source": [
    "import numpy as np\n",
    "import matplotlib.pyplot as plt"
   ]
  },
  {
   "cell_type": "markdown",
   "metadata": {},
   "source": [
    "Utility functions"
   ]
  },
  {
   "cell_type": "code",
   "execution_count": 4,
   "metadata": {},
   "outputs": [],
   "source": [
    "norm_infinity = ad.Optimization.norm_infinity \n",
    "def norm(x): return ad.Optimization.norm(x,axis=0) # L2 norm on first axis\n",
    "from agd.ExportedCode.Notebooks_NonDiv.LinearMonotoneSchemes2D import streamplot_ij\n",
    "\n",
    "def quiver(X,Y,U,V,subsampling=1,**kwargs):\n",
    "    def f(Z): return Z[::subsampling,::subsampling]\n",
    "    plt.quiver(f(X),f(Y),f(U),f(V),**kwargs)"
   ]
  },
  {
   "cell_type": "code",
   "execution_count": 5,
   "metadata": {},
   "outputs": [],
   "source": [
    "#from itertools import accumulate # Accumulate with initial value only exists in Python >= 3.8\n",
    "def accumulate(iterable, func, initial):\n",
    "    yield initial\n",
    "    for element in iterable:\n",
    "        initial = func(initial, element)\n",
    "        yield initial"
   ]
  },
  {
   "cell_type": "code",
   "execution_count": 145,
   "metadata": {},
   "outputs": [],
   "source": [
    "def ReloadPackages():\n",
    "    from Miscellaneous.rreload import rreload\n",
    "    global lp,fd,Selling,ad,Interpolation\n",
    "    lp,fd,Selling,ad,Interpolation = rreload([lp,fd,Selling,ad,Interpolation],\"../..\")"
   ]
  },
  {
   "cell_type": "markdown",
   "metadata": {},
   "source": [
    "## 1. The model and numerical scheme\n",
    "\n",
    "Our objective is to compute the total fuel consumption $C(x,t)$, needed to reach a point $x$ at time $t$, from initial conditions (discussed below). This cost obeys the Hamilton-Jacobi-Bellman PDE\n",
    "$$\n",
    "    \\partial_t C(t,x) + \\sup_v \\Big( <\\nabla_x C(t,x),v> - c(t,x,v)\\Big) = 0,\n",
    "$$\n",
    "where $c(t,x,v)$ is the instantaneous fuel consumption of a boat moving at velocity $v$, around the point $x$ and at time $t$. As announced, the time independent case $c=c(x,v)$ is best handled by a different set of methods, and is discussed in another notebook.\n",
    "\n",
    "**Discussion on the cost function.**\n",
    "For simplicity, we consider a quadratic cost, in the form\n",
    "$$\n",
    "    c(t,x,v) = \\mu(t,x) + \\frac 1 2 \\|v-\\omega(t,x)\\|_{M(t,x)}^2,\n",
    "$$\n",
    "where the parameters have the following interpretation:\n",
    "- $\\mu(t,x)$ is the fuel consumption at rest (or any other penalization of time).\n",
    "- $\\omega(t,x)$ is the drift velocity.\n",
    "- $M(t,x)$ is a positive definite tensor describing the domain geometry.\n",
    "\n",
    "The numerical scheme proposed below can in principle be generalized to costs of the form \n",
    "$$\n",
    "    c(t,x,v) = \\sup_{\\lambda\\in \\Lambda} a_\\lambda(t,x) + <b_\\lambda(t,x),v> + \\|v\\|^2_{c_\\lambda(t,x)},\n",
    "$$\n",
    "where $a_\\lambda$, $b_\\lambda$, and $c_\\lambda$ are arbitrary scalar, vector, and symmetric positive matrix. Any cost (with at least quadratic growth at infinity) can be approximated in this form.\n",
    "\n",
    "**Elimination of the supremum in the PDE.**\n",
    "Using the explicit expression of the cost function, we can simplify the HJB equation obeyed by the cost function.\n",
    "In the case of the quadratic cost, we obtain \n",
    "$$\n",
    "    \\partial_t C(t,x) + < \\nabla_x C(t,x),\\omega(t,x)> + \\frac 1 2 \\|\\nabla_x C(t,x)\\|_{M(x)^{-1}}^2 - \\mu(t,x) = 0\n",
    "$$\n",
    "The following expression will be more convenient:\n",
    "$$\n",
    "    \\partial_t C(t,x) + \\frac 1 2 \\|\\nabla_x C(t,x) + \\eta(t,x)\\|_{D(t,x)}^2 = \\nu(t,x),\n",
    "$$\n",
    "where $D(t,x) = M(t,x)^{-1}$, $\\eta(t,x) = M(t,x)\\omega(t,x)$ and $\\nu(t,x) = \\mu(t,x) + \\frac 1 2 \\|\\omega(t,x)\\|_{M(t,x)}^2.$\n",
    "\n",
    "In the case of the general cost, one can also eliminate the sup in the PDE, by interverting a sup and an inf, under suitable assumptions.\n",
    "\n",
    "**Numerical scheme.**\n",
    "We use an explicit scheme, which is monotone under a CFL condition. The key difficulty lies in the discretization of the quadratic first order term, which we do as follows\n",
    "$$\n",
    "    \\|\\nabla C(t,x)+\\eta(t,x)\\|^2_{D(x)} = \\sum_{1 \\leq i \\leq n} \\lambda_i(t,x) \n",
    "    \\max\\Big(0, \\frac{C(t,x)-C(t,x-he_i)}h + <\\eta(t,x),e_i>, \\frac{C(t,x)-C(t,x+he_i)} h - <\\eta(t,x),e_i>\\Big)^2 + O(h).\n",
    "$$\n",
    "We denoted by $(\\lambda_i,e_i)_{i=1}^n$ a decomposition of the tensors\n",
    "$$\n",
    "    D(t,x) = \\sum_{1 \\leq i \\leq n} \\lambda_i(t,x) e_i e_i^T,\n",
    "$$\n",
    "where $\\lambda_i \\geq 0$ and $e_i \\in Z^d$. In practice, we use Selling's decomposition, so that $n=d (d+1)/2$, and more specifically $d=2$ and $n=3$.\n",
    "\n",
    "**Boundary conditions.**\n",
    "We assign an infinite cost to all points outside the domain, a.k.a outflow boundary conditions. In other words, the boat trajectories are constrained to remain within the domain."
   ]
  },
  {
   "cell_type": "code",
   "execution_count": 7,
   "metadata": {},
   "outputs": [],
   "source": [
    "def scheme_params(model_params):\n",
    "    μ,ω,M = fd.common_field(model_params, depths=(0,1,2))    \n",
    "    D = lp.inverse(M)\n",
    "    η = lp.dot_AV(M,ω)\n",
    "    ν = μ + 0.5*lp.dot_VAV(ω,M,ω)\n",
    "    \n",
    "    λ,e = Selling.Decomposition(D)\n",
    "    return (ν,η,D,λ,e)\n",
    "\n",
    "def Scheme(C,dt,dx,params,walls=False):\n",
    "    C,β,η,_,λ,e = fd.common_field((C,)+params, depths=(0,0,1,2,1,2))\n",
    "    η = np.expand_dims(η,axis=1)\n",
    "                                  \n",
    "    dCm = -fd.DiffUpwind(C,-e,dx,padding=np.inf) + lp.dot_VV(η,e)\n",
    "    dCp = -fd.DiffUpwind(C, e,dx,padding=np.inf) - lp.dot_VV(η,e)\n",
    "    dCNorm = (λ * np.maximum(0.,np.maximum(dCp,dCm))**2).sum(axis=0)\n",
    "\n",
    "    return np.where(walls,np.inf, C + dt*(β - 0.5*dCNorm))"
   ]
  },
  {
   "cell_type": "markdown",
   "metadata": {},
   "source": [
    "**Initialization.** \n",
    "From the modeling standpoint, one would like to initialize the fuel consumption at $0$ at the seed point, and $+\\infty$ anywhere else. Unfortunately, the considered numerical scheme cannot handle such initial conditions, and will immediately produce NaNs.\n",
    "\n",
    "Instead, we propose an initialization in the following form, assuming the seed point is the origin,\n",
    "$$\n",
    "    C(0,x) = K\\|x\\|,\n",
    "$$\n",
    "where the constant $K$ is chosen large enough so that all optimal paths of interest end up at the origin.\n",
    "(TODO : quantify the value of $K$.)\n",
    "\n",
    "**CFL stability condition**\n",
    "The numerical scheme is monotone provided the time step obeys $K_0\\delta t < \\delta x$, where $K_0$ depends on the Lipschitz constant of the solution, and on the parameters $\\omega$ and $M$. (TODO : quantify the value of $K_0$.)\n",
    "\n",
    "**Stability of the Lipschitz constant**\n",
    "If the initial condition is $K$-Lipschitz, and $K\\geq K_1$ where $K_1$ depends on the parameters $\\omega$ and $M$, then continuous solution remains $K$-Lipschitz at all times. Likewise for the numerical solution provided the time step obeys the CFL condition. \n",
    "(TODO : quantify $K_1$, which involves the Lipschitz constants of $\\omega$ and $M$)"
   ]
  },
  {
   "cell_type": "code",
   "execution_count": 8,
   "metadata": {},
   "outputs": [],
   "source": [
    "def CFL(K,dx,params):\n",
    "    _,η,_,λ,e = params\n",
    "    K_0 = (K+norm(η))*(λ*norm(e)).sum(axis=0)\n",
    "    return dx/np.max(K_0)"
   ]
  },
  {
   "cell_type": "markdown",
   "metadata": {},
   "source": [
    "## 2. Constant medium in space and time\n",
    "\n",
    "We validate the numerical scheme by considering a constant medium, in space and time, for which we know the exact solution."
   ]
  },
  {
   "cell_type": "code",
   "execution_count": 9,
   "metadata": {},
   "outputs": [],
   "source": [
    "# Parameters : unit weight for time, unit horizontal drift, euclidean geometry\n",
    "model_params = (1.,np.array((1.,0.)),np.eye(2))\n",
    "params = scheme_params(model_params) \n",
    "\n",
    "# Coordinate system\n",
    "aX,dx = np.linspace(-1,1,retstep=True)\n",
    "X = np.meshgrid(aX,aX,indexing='ij')\n",
    "\n",
    "# Initial condition\n",
    "K_Lip = 3.\n",
    "C_initial = K_Lip * ad.Optimization.norm(X,axis=0)\n",
    "dt = CFL(K_Lip,dx,params)"
   ]
  },
  {
   "cell_type": "markdown",
   "metadata": {},
   "source": [
    "### 2.1 Formal checks"
   ]
  },
  {
   "cell_type": "markdown",
   "metadata": {},
   "source": [
    "Let us perform some basic checks on the scheme. First, it must preserve positivity."
   ]
  },
  {
   "cell_type": "code",
   "execution_count": 10,
   "metadata": {},
   "outputs": [
    {
     "name": "stdout",
     "output_type": "stream",
     "text": [
      "Smallest and largest value after one step : 0.09168654463508756, 4.23596965297735\n"
     ]
    }
   ],
   "source": [
    "C1 = Scheme(C_initial,dt,dx,params)\n",
    "print(f\"Smallest and largest value after one step : {np.min(C1)}, {np.max(C1)}\")\n",
    "assert np.min(C1)>=0 and np.isfinite(np.max(C1))"
   ]
  },
  {
   "cell_type": "markdown",
   "metadata": {},
   "source": [
    "Second, it is a monotone scheme."
   ]
  },
  {
   "cell_type": "code",
   "execution_count": 11,
   "metadata": {},
   "outputs": [
    {
     "name": "stdout",
     "output_type": "stream",
     "text": [
      "Smallest and largest jacobian coefficient after one step : 0.0, 1.0\n"
     ]
    }
   ],
   "source": [
    "C_initial_ad = ad.Sparse.identity(constant=C_initial)\n",
    "C1_ad = Scheme(C_initial_ad,dt,dx,params)\n",
    "C1_ad.simplify_ad()\n",
    "\n",
    "print(f\"Smallest and largest jacobian coefficient after one step : {np.min(C1_ad.coef)}, {np.max(C1_ad.coef)}\")\n",
    "assert np.min(C1_ad.coef)>=0 and np.isfinite(np.max(C1_ad.coef))"
   ]
  },
  {
   "cell_type": "markdown",
   "metadata": {},
   "source": [
    "Monotony is invalidated if we choose an excessively large time step, not obeying the CFL condition. (Which is not sharp btw.)"
   ]
  },
  {
   "cell_type": "code",
   "execution_count": 12,
   "metadata": {},
   "outputs": [
    {
     "name": "stdout",
     "output_type": "stream",
     "text": [
      "Smallest and largest jacobian coefficient after one step : -0.2996128269073922, 1.0\n"
     ]
    }
   ],
   "source": [
    "C_initial_ad = ad.Sparse.identity(constant=C_initial)\n",
    "C1_ad = Scheme(C_initial_ad,2*dt,dx,params)\n",
    "C1_ad.simplify_ad()\n",
    "print(f\"Smallest and largest jacobian coefficient after one step : {np.min(C1_ad.coef)}, {np.max(C1_ad.coef)}\")"
   ]
  },
  {
   "cell_type": "markdown",
   "metadata": {},
   "source": [
    "## 2.2 Comparison with an exact solution\n",
    "\n",
    "A formal analysis, led in another notebook, yields the optimal route in a constant medium in space and time"
   ]
  },
  {
   "cell_type": "code",
   "execution_count": 13,
   "metadata": {},
   "outputs": [],
   "source": [
    "route = BoatRouting.route_min(X,model_params)"
   ]
  },
  {
   "cell_type": "markdown",
   "metadata": {},
   "source": [
    "In particular, we know the time of the longest optimal path."
   ]
  },
  {
   "cell_type": "code",
   "execution_count": 14,
   "metadata": {},
   "outputs": [],
   "source": [
    "t_max = np.max(route['time'])\n",
    "t_range = np.arange(0,t_max+dt,dt)"
   ]
  },
  {
   "cell_type": "code",
   "execution_count": 15,
   "metadata": {},
   "outputs": [],
   "source": [
    "C_solution = np.array(list(accumulate(\n",
    "    t_range[1:],\n",
    "    initial=C_initial, \n",
    "    func=lambda C_t,t: Scheme(C_t,dt,dx,params)\n",
    ")))"
   ]
  },
  {
   "cell_type": "code",
   "execution_count": 16,
   "metadata": {},
   "outputs": [],
   "source": [
    "assert np.allclose(C_solution[0],C_initial) and np.allclose(C_solution[1],C1)"
   ]
  },
  {
   "cell_type": "code",
   "execution_count": 17,
   "metadata": {},
   "outputs": [
    {
     "data": {
      "image/png": "[encoded data removed]",
      "text/plain": [
       "<Figure size 432x288 with 2 Axes>"
      ]
     },
     "metadata": {
      "needs_background": "light"
     },
     "output_type": "display_data"
    }
   ],
   "source": [
    "C_opt = np.min(C_solution,axis=0); \n",
    "plt.title(\"Minimal fuel consumption\"); plt.axis('equal')\n",
    "plt.contourf(*X,C_opt); plt.colorbar();"
   ]
  },
  {
   "cell_type": "code",
   "execution_count": 18,
   "metadata": {},
   "outputs": [
    {
     "data": {
      "image/png": "[encoded data removed]",
      "text/plain": [
       "<Figure size 432x288 with 2 Axes>"
      ]
     },
     "metadata": {
      "needs_background": "light"
     },
     "output_type": "display_data"
    }
   ],
   "source": [
    "t_opt = t_range[np.argmin(C_solution,axis=0)]\n",
    "plt.title(\"Arrival time for the minimal fuel consumption\"); plt.axis('equal')\n",
    "plt.contourf(*X,t_opt); plt.colorbar();"
   ]
  },
  {
   "cell_type": "markdown",
   "metadata": {},
   "source": [
    "The numerical solution agrees with the exact solution, up to discretization error. Note that the scheme is only first order in space and time."
   ]
  },
  {
   "cell_type": "code",
   "execution_count": 19,
   "metadata": {},
   "outputs": [
    {
     "name": "stdout",
     "output_type": "stream",
     "text": [
      "Error on the optimal cost: 0.20104703516072542, and on the arrival time for the optimal cost: 0.07942048941013019\n"
     ]
    }
   ],
   "source": [
    "C_error = norm_infinity(C_opt-route['cost'])\n",
    "t_error = norm_infinity(t_opt-route['time'])\n",
    "print(f\"Error on the optimal cost: {C_error}, and on the arrival time for the optimal cost: {t_error}\")"
   ]
  },
  {
   "cell_type": "code",
   "execution_count": 20,
   "metadata": {},
   "outputs": [],
   "source": [
    "assert C_error<0.25 and t_error<0.1"
   ]
  },
  {
   "cell_type": "markdown",
   "metadata": {},
   "source": [
    "## 2. Varying medium in space, constant in time\n",
    "\n",
    "We choose a constant medium in time, varying in space, so as to be able to compare our results with the static approach based on the fast marching algorithm. The test case is the same as in the other notebook."
   ]
  },
  {
   "cell_type": "code",
   "execution_count": 25,
   "metadata": {},
   "outputs": [],
   "source": [
    "hfmIn = HFMUtils.dictIn({\n",
    "    'verbosity':0,\n",
    "    'model':'Rander2', # Riemannian + drift, what is needed here\n",
    "    'exportValues':1,\n",
    "    'exportGeodesicFlow':1,\n",
    "    'seeds':[[-1.7,0.6]], # Where to start the front propagation\n",
    "})\n",
    "hfmIn.SetRect([[-2,2],[-1,1]],dimx=200) # Rectangular domain\n",
    "X = hfmIn.Grid() # Coordinate system\n",
    "hfmIn.update({\n",
    "    'tips':hfmIn.Grid(dims=(6,3)).reshape(2,-1).T, # Points from which to backtrack geodesics\n",
    "    'walls':X[1]-np.abs(X[0])>=0, # Obstacles in the domain\n",
    "})"
   ]
  },
  {
   "cell_type": "code",
   "execution_count": 26,
   "metadata": {},
   "outputs": [],
   "source": [
    "Embed_ω = BoatRouting.Currents(*X)\n",
    "Embed_M = BoatRouting.IntrinsicMetric(BoatRouting.Spherical,*X)\n",
    "model_params = (1.,Embed_ω,Embed_M)\n",
    "params = scheme_params(model_params)"
   ]
  },
  {
   "cell_type": "markdown",
   "metadata": {},
   "source": [
    "We compute a reference solution based on the fast marching algorithm."
   ]
  },
  {
   "cell_type": "code",
   "execution_count": 27,
   "metadata": {},
   "outputs": [],
   "source": [
    "arrival_time,hfmOut = BoatRouting.ArrivalTime(hfmIn,params)"
   ]
  },
  {
   "cell_type": "code",
   "execution_count": 77,
   "metadata": {},
   "outputs": [],
   "source": [
    "K_Lip = 3.\n",
    "C_initial = K_Lip * norm(X- fd.as_field(hfmIn['seeds'][0],hfmIn.shape))\n",
    "C_initial[hfmIn['walls']] = np.inf\n",
    "dx = hfmIn['gridScale']\n",
    "dt = CFL(K_Lip,dx,params)\n",
    "\n",
    "t_max = np.nanmax(arrival_time) # Cheating a bit: the latest arrival time is already known\n",
    "t_range = np.arange(0,t_max+dt,dt)"
   ]
  },
  {
   "cell_type": "code",
   "execution_count": 86,
   "metadata": {},
   "outputs": [],
   "source": [
    "# May take a few seconds\n",
    "C_solution = np.array(list(accumulate(\n",
    "    t_range[1:],\n",
    "    initial=C_initial, \n",
    "    func=lambda C_t,t: Scheme(C_t,dt,dx,params,walls=hfmIn['walls'])\n",
    ")))"
   ]
  },
  {
   "cell_type": "code",
   "execution_count": 87,
   "metadata": {},
   "outputs": [],
   "source": [
    "C_opt = np.min(C_solution,axis=0)\n",
    "t_opt = t_range[np.argmin(C_solution,axis=0)]"
   ]
  },
  {
   "cell_type": "markdown",
   "metadata": {},
   "source": [
    "The arrival times computed by both methods match fairly well in the average. The largest difference arises where close to the cut-locus. This is not surprising, since the arrival time is discontinuous along a line in this region."
   ]
  },
  {
   "cell_type": "code",
   "execution_count": 84,
   "metadata": {},
   "outputs": [
    {
     "name": "stdout",
     "output_type": "stream",
     "text": [
      "Average absolute difference of the arrival times 0.05123031291537425\n"
     ]
    }
   ],
   "source": [
    "t_diff_avg = np.nanmean(np.abs(t_opt - arrival_time))\n",
    "print(f\"Average absolute difference of the arrival times {t_diff_avg}\")"
   ]
  },
  {
   "cell_type": "code",
   "execution_count": 85,
   "metadata": {},
   "outputs": [],
   "source": [
    "assert t_diff_avg < 0.1"
   ]
  },
  {
   "cell_type": "code",
   "execution_count": 89,
   "metadata": {},
   "outputs": [
    {
     "data": {
      "image/png": "[encoded data removed]",
      "text/plain": [
       "<Figure size 1152x288 with 4 Axes>"
      ]
     },
     "metadata": {
      "needs_background": "light"
     },
     "output_type": "display_data"
    }
   ],
   "source": [
    "plt.figure(figsize=[16,4])\n",
    "\n",
    "plt.subplot(1,2,1); plt.axis('equal')\n",
    "plt.title(\"Optimal arrival times computed by the time dependent method\")\n",
    "plt.contourf(*X,t_opt); plt.colorbar()\n",
    "\n",
    "plt.subplot(1,2,2); plt.axis('equal')\n",
    "plt.title(\"Difference of the computed optimal arrival times\")\n",
    "plt.contourf(*X,t_opt-arrival_time); plt.colorbar();"
   ]
  },
  {
   "cell_type": "markdown",
   "metadata": {},
   "source": [
    "The computed costs agree well in the west. Much less in the east.\n",
    "\n",
    "The reason, I expect, is that the strong current in the east induces very strong anisotropy in the problem. As a result, the fast-marching method uses rather wide stencils, which decrease its accuracy in this region. (We use FM-ASR, fast-marching using adaptive stencil refinement.) \n",
    "The GPU eikonal solver is based on a different numerical scheme, which may agree better here. (TODO: check)"
   ]
  },
  {
   "cell_type": "code",
   "execution_count": 94,
   "metadata": {},
   "outputs": [],
   "source": [
    "walls = hfmIn['walls']\n",
    "C_opt[walls] = np.nan; hfmOut['values'][walls] = np.nan\n",
    "C_diff_avg = np.nanmean(np.abs(C_opt - hfmOut['values']))\n",
    "C_diff_avg_west = np.nanmean(np.abs(C_opt - hfmOut['values'])*(X[0]<=0))"
   ]
  },
  {
   "cell_type": "code",
   "execution_count": 98,
   "metadata": {},
   "outputs": [
    {
     "name": "stdout",
     "output_type": "stream",
     "text": [
      "Average difference of cost in the west 0.09490848263388514, overall 0.6618342045088004\n"
     ]
    }
   ],
   "source": [
    "print(f\"Average difference of cost in the west {C_diff_avg_west}, overall {C_diff_avg}\")"
   ]
  },
  {
   "cell_type": "code",
   "execution_count": 99,
   "metadata": {},
   "outputs": [
    {
     "data": {
      "image/png": "[encoded data removed]",
      "text/plain": [
       "<Figure size 1152x288 with 4 Axes>"
      ]
     },
     "metadata": {
      "needs_background": "light"
     },
     "output_type": "display_data"
    }
   ],
   "source": [
    "plt.figure(figsize=[16,4])\n",
    "\n",
    "plt.subplot(1,2,1); plt.axis('equal')\n",
    "plt.title(\"Optimal arrival times computed by the time dependent method\")\n",
    "plt.contourf(*X,C_opt); plt.colorbar()\n",
    "\n",
    "plt.subplot(1,2,2); plt.axis('equal')\n",
    "plt.title(\"Difference of the computed optimal arrival times\")\n",
    "plt.contourf(*X,C_opt-hfmOut['values']); plt.colorbar();"
   ]
  },
  {
   "cell_type": "markdown",
   "metadata": {},
   "source": [
    "## 3. Extracting the optimal paths\n",
    "\n",
    "The velocity $v$ of the boat, along the optimal trajectory at a time $t$ and position $x$, is characterized by the equation\n",
    "$$\n",
    "    \\nabla_x C(t,x) = \\nabla_v c(t,x,v).\n",
    "$$\n",
    "Specializing to the quadratic cost, we obtain \n",
    "$$\n",
    "    \\nabla_x C(t,x) = M(t,x) (v - \\omega(t,x)),\n",
    "$$\n",
    "equivalently, with $D = M^{-1}$ and $\\eta = M \\omega$,\n",
    "$$\n",
    "    v = D(t,x) (\\nabla_x C(t,x) + \\eta(t,x) ).\n",
    "$$\n"
   ]
  },
  {
   "cell_type": "code",
   "execution_count": 146,
   "metadata": {},
   "outputs": [],
   "source": [
    "ReloadPackages()"
   ]
  },
  {
   "cell_type": "code",
   "execution_count": 191,
   "metadata": {},
   "outputs": [],
   "source": [
    "def as_fieldT(array,st,sx,depth):\n",
    "    \"\"\"\n",
    "    Broadcast an array, if needed, as a time dependent field.\n",
    "    st : number of time steps, sx : shape w.r.t x\n",
    "    \"\"\"\n",
    "    s = array.shape[depth:]\n",
    "    vdim = len(sx)\n",
    "    if   len(s)==0:    s = (1,)*(vdim+1)\n",
    "    elif len(s)==1:    s = s+(1,)*vdim\n",
    "    elif len(s)==vdim: s = (1,)+s\n",
    "    r = array.shape[:depth]\n",
    "    return np.broadcast_to(np.reshape(array,r+s),r+(st,)+sx)"
   ]
  },
  {
   "cell_type": "code",
   "execution_count": 192,
   "metadata": {},
   "outputs": [],
   "source": [
    "def flow(T,X,values,η,D):\n",
    "    \"\"\"\n",
    "    Return a callable providing the velocity of the minimal path at each time and position.\n",
    "    η and D expected to be time and space dependent, broadcasted otherwise.\n",
    "    \"\"\"\n",
    "    grid = {'shape':(len(T),)+X.shape[1:], # We do not generate the full grid, to save memory\n",
    "            'origin':(T[0],)+tuple(X[:,0,0]),\n",
    "            'scale':(T[1]-T[0],) + tuple(X[:,1,1]-X[:,0,0]),}\n",
    "    η = as_fieldT(η,len(T),X.shape[1:],depth=1)\n",
    "    D = as_fieldT(D,len(T),X.shape[1:],depth=2)    \n",
    "    values,η,D = (Interpolation.UniformGridInterpolation(grid,e) for e in (values,η,D))\n",
    "    def call(t,x): \n",
    "        t=np.expand_dims(t,axis=0) # for concatenation\n",
    "        tx = np.concatenate((t,x),axis=0)\n",
    "        η_ = η(tx); D_ = D(tx)\n",
    "        x_ad = ad.Dense.identity(constant=x, shape_free=(len(x),))\n",
    "        tx_ad = np.concatenate((t,x_ad),axis=0) # Differentiate value w.r.t x only\n",
    "        grad_x = values(tx_ad).gradient()\n",
    "        return lp.dot_AV(D_,grad_x + η_)\n",
    "    return call"
   ]
  },
  {
   "cell_type": "code",
   "execution_count": 193,
   "metadata": {},
   "outputs": [],
   "source": [
    "_,η,D,_,_ = params\n",
    "flow_ = flow(t_range,X,C_solution,η,D)"
   ]
  },
  {
   "cell_type": "code",
   "execution_count": 190,
   "metadata": {},
   "outputs": [
    {
     "data": {
      "text/plain": [
       "array([ 3.96967794, -0.25629048])"
      ]
     },
     "execution_count": 190,
     "metadata": {},
     "output_type": "execute_result"
    }
   ],
   "source": [
    "flow_(0.5,(0.5,0.))"
   ]
  },
  {
   "cell_type": "code",
   "execution_count": null,
   "metadata": {},
   "outputs": [],
   "source": [
    "def "
   ]
  },
  {
   "cell_type": "markdown",
   "metadata": {},
   "source": [
    "## 4. Varying medium in space and time"
   ]
  },
  {
   "cell_type": "markdown",
   "metadata": {},
   "source": []
  },
  {
   "cell_type": "code",
   "execution_count": 120,
   "metadata": {},
   "outputs": [
    {
     "data": {
      "text/plain": [
       "(2, 5, 3, 2)"
      ]
     },
     "execution_count": 120,
     "metadata": {},
     "output_type": "execute_result"
    }
   ],
   "source": [
    "as_fieldT(np.zeros((2,1,2)),5,(3,2),1).shape"
   ]
  },
  {
   "cell_type": "code",
   "execution_count": 166,
   "metadata": {},
   "outputs": [],
   "source": [
    "x=ad.Dense.identity((2,))"
   ]
  },
  {
   "cell_type": "code",
   "execution_count": 170,
   "metadata": {},
   "outputs": [
    {
     "data": {
      "text/plain": [
       "(2, 2)"
      ]
     },
     "execution_count": 170,
     "metadata": {},
     "output_type": "execute_result"
    }
   ],
   "source": [
    "np.stack((x,2*x)).shape"
   ]
  },
  {
   "cell_type": "code",
   "execution_count": 175,
   "metadata": {},
   "outputs": [
    {
     "data": {
      "text/plain": [
       "denseAD(array([1., 1., 0., 0.]),\n",
       "array([[0., 0.],\n",
       "       [0., 0.],\n",
       "       [2., 0.],\n",
       "       [0., 2.]]))"
      ]
     },
     "execution_count": 175,
     "metadata": {},
     "output_type": "execute_result"
    }
   ],
   "source": [
    "np.concatenate((ad.remove_ad(x)+1,2*x),axis=0)"
   ]
  },
  {
   "cell_type": "code",
   "execution_count": 176,
   "metadata": {},
   "outputs": [
    {
     "data": {
      "text/plain": [
       "1"
      ]
     },
     "execution_count": 176,
     "metadata": {},
     "output_type": "execute_result"
    }
   ],
   "source": [
    "np.ndim(x)"
   ]
  },
  {
   "cell_type": "code",
   "execution_count": null,
   "metadata": {},
   "outputs": [],
   "source": []
  }
 ],
 "metadata": {
  "kernelspec": {
   "display_name": "Python 3",
   "language": "python",
   "name": "python3"
  },
  "language_info": {
   "codemirror_mode": {
    "name": "ipython",
    "version": 3
   },
   "file_extension": ".py",
   "mimetype": "text/x-python",
   "name": "python",
   "nbconvert_exporter": "python",
   "pygments_lexer": "ipython3",
   "version": "3.8.1"
  }
 },
 "nbformat": 4,
 "nbformat_minor": 4
}
