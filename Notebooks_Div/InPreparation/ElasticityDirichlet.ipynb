{
 "cells": [
  {
   "cell_type": "markdown",
   "metadata": {},
   "source": [
    "# Adaptive PDE discretizations on cartesian grids \n",
    "## Volume : Divergence form PDEs\n",
    "## Part : Linear elasticity\n",
    "## Chapter : Dirichlet energy"
   ]
  },
  {
   "cell_type": "markdown",
   "metadata": {},
   "source": [
    "We present a new discretization of the Dirichlet energy arising in linear elasticity, associated with a positive definite Hooke tensor, otherwise arbitrary. The approach is based on Selling's decomposition of the Hooke tensor, and for this reason is only applies in dimension two at the moment.\n",
    "\n",
    "The Dirichlet energy of linear elasitcity, defined for (small) displacement maps $v : \\Omega \\to R^d$, reads\n",
    "$$\n",
    "    E(v) := \\int_\\Omega \\sum_{ijkl} c_{ijkl}(x) \\epsilon_{ij}(x) \\epsilon_{kl}(x) \\ dx,\n",
    "$$\n",
    "where the indices $i,j,k,l$ range from $0$ to $d-1$. We denoted by $c_{ijkl}(x)$ the Hooke tensor at a point $x \\in \\Omega$, and introduced the symmetrized gradient of the displacement field, also known as the strain tensor $\\epsilon$\n",
    "$$\n",
    "    \\epsilon_{ij}(x) = \\frac 1 2 \\Big (\\frac{\\partial v_i}{\\partial x_j} + \\frac{\\partial v_j}{\\partial x_i} \\Big).\n",
    "$$"
   ]
  },
  {
   "cell_type": "markdown",
   "metadata": {},
   "source": [
    "## 0. Importing the required libraries"
   ]
  },
  {
   "cell_type": "code",
   "execution_count": 1,
   "metadata": {},
   "outputs": [],
   "source": [
    "import sys; sys.path.insert(0,\"../..\") # Allow import of agd from parent directory (useless if conda package installed)\n",
    "#from Miscellaneous import TocTools; print(TocTools.displayTOC('ElasticityDirichlet','FMM'))"
   ]
  },
  {
   "cell_type": "code",
   "execution_count": 2,
   "metadata": {},
   "outputs": [],
   "source": [
    "from agd import LinearParallel as lp\n",
    "from agd import FiniteDifferences as fd\n",
    "from agd.Metrics.Seismic import Hooke\n",
    "from agd import AutomaticDifferentiation as ad\n",
    "from agd import Domain\n",
    "from agd.Plotting import savefig; #savefig.dirName = 'Images/ElasticityDirichlet'\n",
    "norm_infinity = ad.Optimization.norm_infinity"
   ]
  },
  {
   "cell_type": "code",
   "execution_count": 41,
   "metadata": {},
   "outputs": [],
   "source": [
    "import numpy as np\n",
    "%matplotlib inline\n",
    "import matplotlib.pyplot as plt\n",
    "from copy import copy\n",
    "import scipy.sparse; import scipy.sparse.linalg"
   ]
  },
  {
   "cell_type": "markdown",
   "metadata": {},
   "source": [
    "## 1. Decomposition of a hooke tensor\n",
    "\n",
    "A Hooke tensor defines a quadratic form on the set of symmetric matrices $\\epsilon \\in S_d$\n",
    "$$\n",
    "    c(\\epsilon,\\epsilon) = \\sum_{ijkl} c_{ijkl} \\epsilon_{ij} \\epsilon_{kl}.\n",
    "$$\n",
    "Note that $S_d$ has dimension $D=d (d+1)/2$. We limit our attention to the case $d=2$, since the case $d=1$ is excessively trivial, and the case $d=3$ would require an implementation of the $6$-dimensional Voronoi reduction, which we do not have at this stage.\n",
    "\n",
    "We use Selling's decomposition to rewrite this quadratic form as\n",
    "$$\n",
    "    c(\\epsilon,\\epsilon) = \\sum_r \\rho_r {\\rm Tr}(\\epsilon m_r)^2\n",
    "$$\n",
    "where $\\rho_r \\geq 0$, $m_r \\in S_2(Z)$ is a symmetric matrix with integer coordinates, and $0 \\leq r < D (D+1)/2=6$. For that purpose, we rely on Selling's decomposition of the Hooke tensor, which applies in dimension since the linear space of $2\\times 2$ symmetric matrices has dimension $3$.\n",
    "\n",
    "<!--- In the following, we denote as usual $c(\\epsilon) := c(\\epsilon,\\epsilon)$. --->\n",
    "\n",
    "The stress tensor $\\sigma$ depends linearly on the strain tensor $\\epsilon$, for a given hooke tensor $c$, and is characterized by the identity\n",
    "$$\n",
    "    {\\rm Tr}(\\sigma \\epsilon) = c(\\epsilon,\\epsilon).\n",
    "$$\n",
    "With the correct index conventions, one has $\\sigma_{ij} = \\sum_{kl} c_{ijkl} \\epsilon_{kl}$, or simply $\\sigma = c \\epsilon$."
   ]
  },
  {
   "cell_type": "markdown",
   "metadata": {},
   "source": [
    "### 1.1 Generic tensor\n",
    "\n",
    "We illustrate the decomposition on a generic tensor, describing the anisotropic elasticity of a mica rock medium, whose layers are rotated."
   ]
  },
  {
   "cell_type": "code",
   "execution_count": 4,
   "metadata": {},
   "outputs": [],
   "source": [
    "metric = Hooke.mica().extract_xz() \n",
    "metric.rotate_by(0.5)"
   ]
  },
  {
   "cell_type": "markdown",
   "metadata": {},
   "source": [
    "Selling's decomposition involves $D=6$ weights and offsets, in dimension $d=2$. "
   ]
  },
  {
   "cell_type": "code",
   "execution_count": 5,
   "metadata": {},
   "outputs": [],
   "source": [
    "coefs,moffsets = metric.Selling()"
   ]
  },
  {
   "cell_type": "code",
   "execution_count": 6,
   "metadata": {},
   "outputs": [
    {
     "data": {
      "text/plain": [
       "array([ 4.39753907, 31.3882811 ,  3.86972663, 17.65302611, 41.16677899,\n",
       "       29.81855447])"
      ]
     },
     "execution_count": 6,
     "metadata": {},
     "output_type": "execute_result"
    }
   ],
   "source": [
    "coefs"
   ]
  },
  {
   "cell_type": "markdown",
   "metadata": {},
   "source": [
    "The offsets are presented as symmetric matrices, with integer entries."
   ]
  },
  {
   "cell_type": "code",
   "execution_count": 7,
   "metadata": {},
   "outputs": [
    {
     "data": {
      "text/plain": [
       "(2, 2, 6)"
      ]
     },
     "execution_count": 7,
     "metadata": {},
     "output_type": "execute_result"
    }
   ],
   "source": [
    "moffsets.shape"
   ]
  },
  {
   "cell_type": "code",
   "execution_count": 8,
   "metadata": {},
   "outputs": [
    {
     "name": "stdout",
     "output_type": "stream",
     "text": [
      "[[1 1]\n",
      " [1 1]] \n",
      "\n",
      "[[-1 -1]\n",
      " [-1  0]] \n",
      "\n",
      "[[2 1]\n",
      " [1 1]] \n",
      "\n",
      "[[ 0  0]\n",
      " [ 0 -1]] \n",
      "\n",
      "[[-1  0]\n",
      " [ 0  0]] \n",
      "\n",
      "[[1 0]\n",
      " [0 1]] \n",
      "\n"
     ]
    }
   ],
   "source": [
    "for i in range(6): print(moffsets[...,i],\"\\n\")"
   ]
  },
  {
   "cell_type": "markdown",
   "metadata": {},
   "source": [
    "In order to check the correctness of the decomposition, let us introduce an arbitrary $2\\times 2$ symmetric matrix, and evaluate $c(m)$ using the original expression and the decomposition."
   ]
  },
  {
   "cell_type": "code",
   "execution_count": 9,
   "metadata": {},
   "outputs": [],
   "source": [
    "m = np.array(((1.5,2.3),(2.3,3.9)))"
   ]
  },
  {
   "cell_type": "code",
   "execution_count": 10,
   "metadata": {},
   "outputs": [],
   "source": [
    "sum_hooke = metric.dot_AA(m) "
   ]
  },
  {
   "cell_type": "code",
   "execution_count": 11,
   "metadata": {},
   "outputs": [],
   "source": [
    "mm = fd.as_field(m,coefs.shape)\n",
    "sum_inner = (coefs*lp.trace(lp.dot_AA(mm,moffsets))**2).sum(axis=0)"
   ]
  },
  {
   "cell_type": "code",
   "execution_count": 12,
   "metadata": {},
   "outputs": [],
   "source": [
    "assert(np.abs(sum_hooke-sum_inner) < 1e-12)"
   ]
  },
  {
   "cell_type": "markdown",
   "metadata": {},
   "source": [
    "### 1.2 Isotropic tensor\n",
    "\n",
    "Isotropic elasticity tensors only have two degrees of freedom. Without loss of generality, we consider the Lamé parameters. These parameters relate the strain tensor $\\epsilon$ with the stress tensor $\\sigma$\n",
    "$$\n",
    "    \\sigma = 2 \\mu \\epsilon + \\lambda {\\rm Tr}(\\epsilon) {\\rm Id},\n",
    "$$\n",
    "and the quadratic form reads \n",
    "$$\n",
    "    c(\\epsilon,\\epsilon) = 2 \\mu {\\rm Tr}(\\epsilon^2) + \\lambda {\\rm Tr}(\\epsilon)^2.\n",
    "$$"
   ]
  },
  {
   "cell_type": "code",
   "execution_count": 13,
   "metadata": {},
   "outputs": [
    {
     "name": "stdout",
     "output_type": "stream",
     "text": [
      "An isotropic hooke tensor :\n",
      "[[5. 1. 0.]\n",
      " [1. 5. 0.]\n",
      " [0. 0. 2.]]\n",
      "\n"
     ]
    }
   ],
   "source": [
    "metric = Hooke.from_Lame(1.,2)\n",
    "print(f\"\"\"An isotropic hooke tensor :\\n{metric.hooke}\\n\"\"\")"
   ]
  },
  {
   "cell_type": "code",
   "execution_count": 14,
   "metadata": {},
   "outputs": [
    {
     "name": "stdout",
     "output_type": "stream",
     "text": [
      "Isotropic Hooke tensors are linear combinations of: \n",
      "[[1. 1. 0.]\n",
      " [1. 1. 0.]\n",
      " [0. 0. 0.]]\n",
      "and \n",
      "[[2. 0. 0.]\n",
      " [0. 2. 0.]\n",
      " [0. 0. 1.]]\n",
      "\n"
     ]
    }
   ],
   "source": [
    "print(f\"\"\"Isotropic Hooke tensors are linear combinations of: \\n{Hooke.from_Lame(1.,0.).hooke}\\n\"\"\"\n",
    "      f\"\"\"and \\n{Hooke.from_Lame(0.,1.).hooke}\\n\"\"\")"
   ]
  },
  {
   "cell_type": "markdown",
   "metadata": {},
   "source": [
    "As their name suggests, isotropic hooke tensors are invariant under rotations."
   ]
  },
  {
   "cell_type": "code",
   "execution_count": 15,
   "metadata": {},
   "outputs": [],
   "source": [
    "metric_rot = copy(metric)\n",
    "metric_rot.rotate_by(0.5)\n",
    "assert(norm_infinity(metric.hooke-metric_rot.hooke)<1e-15)"
   ]
  },
  {
   "cell_type": "markdown",
   "metadata": {},
   "source": [
    "Selling's decomposition of an isotropic Hooke tensor is very structured and predictable. It involves offsets $m_r$ which are independent of the parameters $(\\lambda,\\mu)$, and weights $\\rho_r(\\lambda,\\mu)$ depending linearly on the Lame parameters. In addition, several of these coefficients vanish."
   ]
  },
  {
   "cell_type": "code",
   "execution_count": 16,
   "metadata": {},
   "outputs": [],
   "source": [
    "coefs,moffsets = metric.Selling()"
   ]
  },
  {
   "cell_type": "code",
   "execution_count": 17,
   "metadata": {},
   "outputs": [
    {
     "data": {
      "text/plain": [
       "array([-0., -0.,  2.,  4.,  4.,  1.])"
      ]
     },
     "execution_count": 17,
     "metadata": {},
     "output_type": "execute_result"
    }
   ],
   "source": [
    "coefs"
   ]
  },
  {
   "cell_type": "code",
   "execution_count": 18,
   "metadata": {},
   "outputs": [
    {
     "name": "stdout",
     "output_type": "stream",
     "text": [
      "coef:2.0, moffset:\n",
      "[[0 1]\n",
      " [1 0]]\n",
      "\n",
      "coef:4.0, moffset:\n",
      "[[ 0  0]\n",
      " [ 0 -1]]\n",
      "\n",
      "coef:4.0, moffset:\n",
      "[[-1  0]\n",
      " [ 0  0]]\n",
      "\n",
      "coef:1.0, moffset:\n",
      "[[1 0]\n",
      " [0 1]]\n",
      "\n"
     ]
    }
   ],
   "source": [
    "for c,o in zip(coefs,np.moveaxis(moffsets,-1,0)): \n",
    "    if c!=0.:\n",
    "        print(f\"coef:{c}, moffset:\\n{o}\\n\")"
   ]
  },
  {
   "cell_type": "markdown",
   "metadata": {},
   "source": [
    "In this special isotropic case, we expect to recover known finite difference schemes."
   ]
  },
  {
   "cell_type": "markdown",
   "metadata": {},
   "source": [
    "## 2. Finite difference energy\n",
    "\n",
    "We approximate the linear elastic energy using a second order accurate finite differences scheme, which exploits our tensor decomposition. The scheme is based on the identity\n",
    "$$\n",
    "    c(\\sigma,\\sigma) = \\sum_r \\rho_r {\\rm Tr}(m_r \\nabla v)^2\n",
    "$$\n",
    "where $(\\rho_r,m_r)$ is Selling's decomposition of $c$. We could replace $\\sigma$ with $\\nabla v$ thanks to the symmetry of $m_r$.\n",
    "\n",
    "Then we use the finite difference approximations\n",
    "$$\n",
    "    {\\rm Tr}(m \\nabla v) = \\sum_{0 \\leq i < d} \\frac{v_i(x+h \\epsilon_i m[i] )-v_i(x)}{h \\epsilon_i} + O(h),\n",
    "$$\n",
    "where $\\epsilon_i$, $0\\leq i < d$ are arbitrary signs, and $m[i]$ denotes the $i$-th column of $m$ (which is a symmetric matrix). Squaring this expression, averaging over all possible sign choices, and summing with weights $\\rho_r$, we obtain a second order consistent approximation of the local linear elastic energy.\n",
    "$$\n",
    "    c(\\sigma,\\sigma) = \\sum_{0 \\leq r \\leq D (D+1)/2} \\frac{\\rho_r}{2^d} \\sum_{\\epsilon \\in \\{-1,1\\}^d}  \n",
    "    \\Big(\\sum_{0 \\leq i < d} \\frac{v_i(x+h \\epsilon_i m_r[i] )-v_i(x)}{h \\epsilon_i}\\Big)^2.\n",
    "$$\n",
    "\n",
    "**Remark**\n",
    "If the coordinates of $m_r[i]$ are not co-prime, for some $0 \\leq r < D (D+1)/2$ and $0 \\leq i < d$, then one can improve the scheme taking advantage of this fact in the finite differences."
   ]
  },
  {
   "cell_type": "code",
   "execution_count": 19,
   "metadata": {},
   "outputs": [],
   "source": [
    "def Energy_fd(hooke,v,dom):\n",
    "    \"\"\"\n",
    "    Linear elastic energy density, associated with a Hooke tensor, and a displacement field.\n",
    "    Discretization using finite differences, and Selling's decomposition of the Hooke tensor.\n",
    "    \"\"\"\n",
    "    assert(len(v)==2)\n",
    "    coefs,moffsets = hooke.Selling()\n",
    "    dvp = tuple( dom.DiffUpwind(v[i], moffsets[i]) for i in range(2))\n",
    "    dvm = tuple(-dom.DiffUpwind(v[i],-moffsets[i]) for i in range(2))\n",
    "    \n",
    "    # Consistent approximations of Tr(moffset*grad(v))\n",
    "    dv  = ad.array((dvp[0]+dvp[1], dvp[0]+dvm[1], dvm[0]+dvp[1], dvm[0]+dvm[1]))\n",
    "    dv2 = np.sum(dv**2,axis=0) / 4.\n",
    "    \n",
    "    coefs = fd.as_field(coefs,v.shape[1:])\n",
    "    return (coefs*dv2).sum(axis=0) "
   ]
  },
  {
   "cell_type": "markdown",
   "metadata": {},
   "source": [
    "### 2.1 Comparison with automatic differentiation\n",
    "\n",
    "For comparison, we also evaluate the elastic energy using automatic differentiation for the derivatives of $v$, instead of finite differences, which yields an exact expression. This is only possible when $v$ is provided as a differentiable function, rather than a table."
   ]
  },
  {
   "cell_type": "code",
   "execution_count": 20,
   "metadata": {},
   "outputs": [],
   "source": [
    "def Energy_ex(hooke,v,X,h):\n",
    "    \"\"\"\n",
    "    Exact linear elastic energy density, associated with a hooke tensor and a displacement field.\n",
    "    The latter must be given as a function, compatible with automatic differentiation.\n",
    "    \"\"\"\n",
    "    # Differentiate the displacement field\n",
    "    X_ad = ad.Dense.identity(constant=X,shape_free=(2,))\n",
    "    grad = v(X_ad).gradient()\n",
    "    eps = 0.5*(grad+lp.transpose(grad))\n",
    "    return hooke.dot_AA(eps) "
   ]
  },
  {
   "cell_type": "markdown",
   "metadata": {},
   "source": [
    "Let us observe the convergence of the finite element energy toward the exact energy in a smooth periodic setting."
   ]
  },
  {
   "cell_type": "code",
   "execution_count": 52,
   "metadata": {},
   "outputs": [],
   "source": [
    "def v(X):\n",
    "    x0,x1 = X*(2.*np.pi)\n",
    "    return ad.array((np.cos(x0) - 2.*np.sin(x1),np.cos(x0+2*x1)))\n",
    "\n",
    "def hooke(X):\n",
    "    x0,x1 = X*(2.*np.pi)\n",
    "    metric = Hooke.mica().extract_xz()\n",
    "    metric.rotate_by(0.3*np.sin(x0)+0.5*np.cos(x1))\n",
    "    return metric"
   ]
  },
  {
   "cell_type": "code",
   "execution_count": 22,
   "metadata": {},
   "outputs": [],
   "source": [
    "aX,h = np.linspace(0,1,retstep=True)\n",
    "X=np.array(np.meshgrid(aX,aX,indexing='ij'))\n",
    "dom = Domain.MockDirichlet(X.shape,h,padding=None) #Periodic domain (wrap instead of pad)"
   ]
  },
  {
   "cell_type": "code",
   "execution_count": 23,
   "metadata": {},
   "outputs": [],
   "source": [
    "energy_density_fd = Energy_fd(hooke(X),v(X),dom) # Uses samples of v\n",
    "energy_density_ex = Energy_ex(hooke(X),   v,X,h) # Uses function v"
   ]
  },
  {
   "cell_type": "markdown",
   "metadata": {},
   "source": [
    "The scheme is second order accurate, when used with periodic boundary conditions as here. Note that the total energy is not really exact, as opposed to the energy density at the discretization points, since we use numerical integration."
   ]
  },
  {
   "cell_type": "code",
   "execution_count": 26,
   "metadata": {},
   "outputs": [
    {
     "name": "stdout",
     "output_type": "stream",
     "text": [
      "Relative error: 0.04373005974300502\n"
     ]
    }
   ],
   "source": [
    "energy_ex = energy_density_ex.sum() * h**2\n",
    "energy_fd = energy_density_fd.sum() * h**2\n",
    "print(f\"Relative error: {(energy_ex-energy_fd)/energy_fd}\")"
   ]
  },
  {
   "cell_type": "markdown",
   "metadata": {},
   "source": [
    "### 2.2 Structure of the mass matrix\n",
    "\n",
    "We evaluate the finite difference scheme on a second order sparse AD vector, to find the mass matrix of the elastic energy. At each point in the domain, the energy density depends on a number of neighbor values of the strain tensor, referred to as the stencil."
   ]
  },
  {
   "cell_type": "code",
   "execution_count": 36,
   "metadata": {},
   "outputs": [
    {
     "name": "stdout",
     "output_type": "stream",
     "text": [
      "Stencil cardinality: 384\n"
     ]
    }
   ],
   "source": [
    "v_ad = ad.Sparse2.identity(X.shape)\n",
    "energy_density_ad = Energy_fd(hooke(X),v_ad,dom)\n",
    "print(f\"Stencil cardinality: {energy_density_ad.size_ad2}\")"
   ]
  },
  {
   "cell_type": "markdown",
   "metadata": {},
   "source": [
    "The *simplification* step compresses the sparse matrix by merging entries corresponding to the same coefficient, and removing zero coefficients."
   ]
  },
  {
   "cell_type": "code",
   "execution_count": 37,
   "metadata": {},
   "outputs": [
    {
     "name": "stdout",
     "output_type": "stream",
     "text": [
      "Stencil cardinality: 96\n"
     ]
    }
   ],
   "source": [
    "energy_density_ad.simplify_ad()\n",
    "print(f\"Stencil cardinality: {energy_density_ad.size_ad2}\")"
   ]
  },
  {
   "cell_type": "markdown",
   "metadata": {},
   "source": [
    "Because of a cancellation effect, which is expected, a second simplification step further reduces the stencil cardinality. These simplification steps could be avoided with a more careful implementation of `Energy_fd`."
   ]
  },
  {
   "cell_type": "code",
   "execution_count": 39,
   "metadata": {},
   "outputs": [
    {
     "name": "stdout",
     "output_type": "stream",
     "text": [
      "Stencil cardinality: 83\n"
     ]
    }
   ],
   "source": [
    "energy_density_ad.simplify_ad()\n",
    "print(f\"Stencil cardinality: {energy_density_ad.size_ad2}\")"
   ]
  },
  {
   "cell_type": "markdown",
   "metadata": {},
   "source": [
    "The energy density at a given point in space is given by a sparse quadratic form, with the above number of non-zero entries at most."
   ]
  },
  {
   "cell_type": "code",
   "execution_count": 40,
   "metadata": {},
   "outputs": [
    {
     "data": {
      "text/plain": [
       "(array([ 9.01291376e+04, -9.01291376e+04,  2.74374914e+04,  1.76270773e+04,\n",
       "        -3.63797881e-12, -1.76270773e+04, -2.74374914e+04,  1.28351593e+05,\n",
       "        -1.28351593e+05,  3.47858753e+04, -3.47858753e+04,  2.87952959e+04,\n",
       "        -2.87952959e+04,  1.43976480e+04, -1.43976480e+04, -9.01291376e+04,\n",
       "        -1.28351593e+05, -2.87952959e+04,  4.94552053e+05, -2.87952959e+04,\n",
       "        -1.28351593e+05, -9.01291376e+04,  3.63797881e-12, -7.27595761e-12,\n",
       "         3.63797881e-12, -1.81898940e-12, -2.87952959e+04,  2.87952959e+04,\n",
       "        -1.43976480e+04,  1.43976480e+04, -1.28351593e+05,  1.28351593e+05,\n",
       "        -3.47858753e+04,  3.47858753e+04, -9.01291376e+04,  9.01291376e+04,\n",
       "        -2.74374914e+04, -1.76270773e+04,  3.63797881e-12,  1.76270773e+04,\n",
       "         2.74374914e+04,  2.74374914e+04, -2.74374914e+04,  5.48749829e+04,\n",
       "        -5.48749829e+04,  1.76270773e+04,  1.43976480e+04, -1.81898940e-12,\n",
       "        -1.43976480e+04, -1.76270773e+04,  6.40494506e+04, -6.40494506e+04,\n",
       "         3.47858753e+04, -3.47858753e+04,  1.06572720e+05, -1.06572720e+05,\n",
       "         7.27595761e-12, -3.63797881e-12, -5.48749829e+04, -6.40494506e+04,\n",
       "        -1.06572720e+05,  4.50994306e+05, -1.06572720e+05, -6.40494506e+04,\n",
       "        -5.48749829e+04, -3.47858753e+04,  3.47858753e+04, -1.06572720e+05,\n",
       "         1.06572720e+05, -1.76270773e+04, -1.43976480e+04, -3.63797881e-12,\n",
       "         1.43976480e+04,  1.76270773e+04, -6.40494506e+04,  6.40494506e+04,\n",
       "        -2.74374914e+04,  2.74374914e+04, -5.48749829e+04,  5.48749829e+04,\n",
       "         0.00000000e+00,  0.00000000e+00,  0.00000000e+00]),\n",
       " (array([ 454,  454,  454,  454,  454,  454,  454,  455,  455,  455,  455,\n",
       "          504,  504,  504,  504,  505,  505,  505,  505,  505,  505,  505,\n",
       "          505,  505,  505,  505,  506,  506,  506,  506,  555,  555,  555,\n",
       "          555,  556,  556,  556,  556,  556,  556,  556, 2954, 2954, 2954,\n",
       "         2954, 2955, 2955, 2955, 2955, 2955, 2955, 2955, 3004, 3004, 3004,\n",
       "         3004, 3005, 3005, 3005, 3005, 3005, 3005, 3005, 3005, 3005, 3006,\n",
       "         3006, 3006, 3006, 3055, 3055, 3055, 3055, 3055, 3055, 3055, 3056,\n",
       "         3056, 3056, 3056,    0,    0,    0]),\n",
       "  array([ 454,  505, 2954, 2955, 3005, 3055, 3056,  455,  505, 3004, 3006,\n",
       "          504,  505, 2955, 3055,  454,  455,  504,  505,  506,  555,  556,\n",
       "         2955, 3004, 3006, 3055,  505,  506, 2955, 3055,  505,  555, 3004,\n",
       "         3006,  505,  556, 2954, 2955, 3005, 3055, 3056,  454,  556, 2954,\n",
       "         3005,  454,  504,  505,  506,  556, 2955, 3005,  455,  555, 3004,\n",
       "         3005,  505,  556, 2954, 2955, 3004, 3005, 3006, 3055, 3056,  455,\n",
       "          555, 3005, 3006,  454,  504,  505,  506,  556, 3005, 3055,  454,\n",
       "          556, 3005, 3056,    0,    0,    0])))"
      ]
     },
     "execution_count": 40,
     "metadata": {},
     "output_type": "execute_result"
    }
   ],
   "source": [
    "energy_density_ad[10,5].triplets()"
   ]
  },
  {
   "cell_type": "markdown",
   "metadata": {},
   "source": [
    "Let us construct the sparse symmetric matrix associated to the total energy."
   ]
  },
  {
   "cell_type": "code",
   "execution_count": 57,
   "metadata": {},
   "outputs": [],
   "source": [
    "energy_ad = energy_density_ad.sum() * h**2"
   ]
  },
  {
   "cell_type": "markdown",
   "metadata": {},
   "source": [
    "Since the finite difference energy is quadratic, it is exactly reproduced by the quadratic form defined by is half hessian."
   ]
  },
  {
   "cell_type": "code",
   "execution_count": 63,
   "metadata": {},
   "outputs": [],
   "source": [
    "energy_hess = scipy.sparse.coo_matrix(energy_ad.triplets()).tocsr()\n",
    "v_fl=v(X).flatten()\n",
    "energy_fl = 0.5*np.dot(v_fl,energy_hess*v_fl)"
   ]
  },
  {
   "cell_type": "code",
   "execution_count": 64,
   "metadata": {},
   "outputs": [],
   "source": [
    "assert(np.abs(energy_fl-energy_fd) < 1e-11)"
   ]
  },
  {
   "cell_type": "code",
   "execution_count": null,
   "metadata": {},
   "outputs": [],
   "source": []
  }
 ],
 "metadata": {
  "kernelspec": {
   "display_name": "Python 3",
   "language": "python",
   "name": "python3"
  },
  "language_info": {
   "codemirror_mode": {
    "name": "ipython",
    "version": 3
   },
   "file_extension": ".py",
   "mimetype": "text/x-python",
   "name": "python",
   "nbconvert_exporter": "python",
   "pygments_lexer": "ipython3",
   "version": "3.7.6"
  }
 },
 "nbformat": 4,
 "nbformat_minor": 4
}
